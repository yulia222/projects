{
 "cells": [
  {
   "cell_type": "markdown",
   "metadata": {},
   "source": [
    "# Принятие решений в бизнесе\n",
    "\n",
    "Вы — аналитик крупного интернет-магазина. Вместе с отделом маркетинга вы подготовили список гипотез для увеличения выручки.\n",
    "\n",
    "**Описание данных**\n",
    "\n",
    "Данные для первой части:\n",
    "\n",
    "Файл /datasets/hypothesis.csv.\n",
    "* Hypothesis — краткое описание гипотезы;\n",
    "* Reach — охват пользователей по 10-балльной шкале;\n",
    "* Impact — влияние на пользователей по 10-балльной шкале;\n",
    "* Confidence — уверенность в гипотезе по 10-балльной шкале;\n",
    "* Efforts — затраты ресурсов на проверку гипотезы по 10-балльной шкале. Чем больше значение Efforts, тем дороже проверка гипотезы.\n",
    "\n",
    "Данные для второй части:\n",
    "\n",
    "Файл /datasets/orders.csv. \n",
    "* transactionId — идентификатор заказа;\n",
    "* visitorId — идентификатор пользователя, совершившего заказ;\n",
    "* date — дата, когда был совершён заказ;\n",
    "* revenue — выручка заказа;\n",
    "* group — группа A/B-теста, в которую попал заказ.\n",
    "\n",
    "Файл /datasets/visitors.csv. Скачать датасет\n",
    "* date — дата;\n",
    "* group — группа A/B-теста;\n",
    "* visitors — количество пользователей в указанную дату в указанной группе A/B-теста\n",
    "\n",
    "**Основые задачи:**\n",
    "* Приоритизировать гипотезы;\n",
    "* Запустить A/B-тест;\n",
    "* Проанализировать результаты."
   ]
  },
  {
   "cell_type": "markdown",
   "metadata": {},
   "source": [
    "## Подготовка данных к анализу"
   ]
  },
  {
   "cell_type": "markdown",
   "metadata": {},
   "source": [
    "Импортируем библиотеки и составим первое впечатление и данных"
   ]
  },
  {
   "cell_type": "code",
   "execution_count": 1,
   "metadata": {},
   "outputs": [],
   "source": [
    "import pandas as pd\n",
    "import matplotlib.pyplot as plt\n",
    "import numpy as np\n",
    "import seaborn as sns\n",
    "import scipy.stats as stats"
   ]
  },
  {
   "cell_type": "code",
   "execution_count": 2,
   "metadata": {},
   "outputs": [
    {
     "data": {
      "text/html": [
       "<div>\n",
       "<style scoped>\n",
       "    .dataframe tbody tr th:only-of-type {\n",
       "        vertical-align: middle;\n",
       "    }\n",
       "\n",
       "    .dataframe tbody tr th {\n",
       "        vertical-align: top;\n",
       "    }\n",
       "\n",
       "    .dataframe thead th {\n",
       "        text-align: right;\n",
       "    }\n",
       "</style>\n",
       "<table border=\"1\" class=\"dataframe\">\n",
       "  <thead>\n",
       "    <tr style=\"text-align: right;\">\n",
       "      <th></th>\n",
       "      <th>Hypothesis</th>\n",
       "      <th>Reach</th>\n",
       "      <th>Impact</th>\n",
       "      <th>Confidence</th>\n",
       "      <th>Efforts</th>\n",
       "    </tr>\n",
       "  </thead>\n",
       "  <tbody>\n",
       "    <tr>\n",
       "      <th>0</th>\n",
       "      <td>Добавить два новых канала привлечения трафика, что позволит привлекать на 30% больше пользователей</td>\n",
       "      <td>3</td>\n",
       "      <td>10</td>\n",
       "      <td>8</td>\n",
       "      <td>6</td>\n",
       "    </tr>\n",
       "    <tr>\n",
       "      <th>1</th>\n",
       "      <td>Запустить собственную службу доставки, что сократит срок доставки заказов</td>\n",
       "      <td>2</td>\n",
       "      <td>5</td>\n",
       "      <td>4</td>\n",
       "      <td>10</td>\n",
       "    </tr>\n",
       "    <tr>\n",
       "      <th>2</th>\n",
       "      <td>Добавить блоки рекомендаций товаров на сайт интернет магазина, чтобы повысить конверсию и средний чек заказа</td>\n",
       "      <td>8</td>\n",
       "      <td>3</td>\n",
       "      <td>7</td>\n",
       "      <td>3</td>\n",
       "    </tr>\n",
       "    <tr>\n",
       "      <th>3</th>\n",
       "      <td>Изменить структура категорий, что увеличит конверсию, т.к. пользователи быстрее найдут нужный товар</td>\n",
       "      <td>8</td>\n",
       "      <td>3</td>\n",
       "      <td>3</td>\n",
       "      <td>8</td>\n",
       "    </tr>\n",
       "    <tr>\n",
       "      <th>4</th>\n",
       "      <td>Изменить цвет фона главной страницы, чтобы увеличить вовлеченность пользователей</td>\n",
       "      <td>3</td>\n",
       "      <td>1</td>\n",
       "      <td>1</td>\n",
       "      <td>1</td>\n",
       "    </tr>\n",
       "    <tr>\n",
       "      <th>5</th>\n",
       "      <td>Добавить страницу отзывов клиентов о магазине, что позволит увеличить количество заказов</td>\n",
       "      <td>3</td>\n",
       "      <td>2</td>\n",
       "      <td>2</td>\n",
       "      <td>3</td>\n",
       "    </tr>\n",
       "    <tr>\n",
       "      <th>6</th>\n",
       "      <td>Показать на главной странице баннеры с актуальными акциями и распродажами, чтобы увеличить конверсию</td>\n",
       "      <td>5</td>\n",
       "      <td>3</td>\n",
       "      <td>8</td>\n",
       "      <td>3</td>\n",
       "    </tr>\n",
       "    <tr>\n",
       "      <th>7</th>\n",
       "      <td>Добавить форму подписки на все основные страницы, чтобы собрать базу клиентов для email-рассылок</td>\n",
       "      <td>10</td>\n",
       "      <td>7</td>\n",
       "      <td>8</td>\n",
       "      <td>5</td>\n",
       "    </tr>\n",
       "    <tr>\n",
       "      <th>8</th>\n",
       "      <td>Запустить акцию, дающую скидку на товар в день рождения</td>\n",
       "      <td>1</td>\n",
       "      <td>9</td>\n",
       "      <td>9</td>\n",
       "      <td>5</td>\n",
       "    </tr>\n",
       "  </tbody>\n",
       "</table>\n",
       "</div>"
      ],
      "text/plain": [
       "                                                                                                     Hypothesis  \\\n",
       "0            Добавить два новых канала привлечения трафика, что позволит привлекать на 30% больше пользователей   \n",
       "1                                     Запустить собственную службу доставки, что сократит срок доставки заказов   \n",
       "2  Добавить блоки рекомендаций товаров на сайт интернет магазина, чтобы повысить конверсию и средний чек заказа   \n",
       "3           Изменить структура категорий, что увеличит конверсию, т.к. пользователи быстрее найдут нужный товар   \n",
       "4                              Изменить цвет фона главной страницы, чтобы увеличить вовлеченность пользователей   \n",
       "5                      Добавить страницу отзывов клиентов о магазине, что позволит увеличить количество заказов   \n",
       "6          Показать на главной странице баннеры с актуальными акциями и распродажами, чтобы увеличить конверсию   \n",
       "7              Добавить форму подписки на все основные страницы, чтобы собрать базу клиентов для email-рассылок   \n",
       "8                                                       Запустить акцию, дающую скидку на товар в день рождения   \n",
       "\n",
       "   Reach  Impact  Confidence  Efforts  \n",
       "0      3      10           8        6  \n",
       "1      2       5           4       10  \n",
       "2      8       3           7        3  \n",
       "3      8       3           3        8  \n",
       "4      3       1           1        1  \n",
       "5      3       2           2        3  \n",
       "6      5       3           8        3  \n",
       "7     10       7           8        5  \n",
       "8      1       9           9        5  "
      ]
     },
     "metadata": {},
     "output_type": "display_data"
    },
    {
     "name": "stdout",
     "output_type": "stream",
     "text": [
      "<class 'pandas.core.frame.DataFrame'>\n",
      "RangeIndex: 9 entries, 0 to 8\n",
      "Data columns (total 5 columns):\n",
      " #   Column      Non-Null Count  Dtype \n",
      "---  ------      --------------  ----- \n",
      " 0   Hypothesis  9 non-null      object\n",
      " 1   Reach       9 non-null      int64 \n",
      " 2   Impact      9 non-null      int64 \n",
      " 3   Confidence  9 non-null      int64 \n",
      " 4   Efforts     9 non-null      int64 \n",
      "dtypes: int64(4), object(1)\n",
      "memory usage: 488.0+ bytes\n"
     ]
    },
    {
     "data": {
      "text/plain": [
       "None"
      ]
     },
     "metadata": {},
     "output_type": "display_data"
    }
   ],
   "source": [
    "pd.set_option('max_colwidth', None)\n",
    "hypothesis = pd.read_csv('/datasets/hypothesis.csv')\n",
    "orders = pd.read_csv('/datasets/orders.csv')\n",
    "visitors = pd.read_csv('/datasets/visitors.csv')\n",
    "\n",
    "display(hypothesis)\n",
    "display(hypothesis.info())"
   ]
  },
  {
   "cell_type": "markdown",
   "metadata": {},
   "source": [
    "В таблице `hypothesis` 5 столбцов. Тип данных в столбцах: object, int. Количество значений в столбцах одинаковое, значит пропуски отсутствуют. Есть нарушение стиля в столбцах.\n",
    "\n",
    "Необходимо исправить нарушение стиля и проверить таблицу на наличие дубликатов."
   ]
  },
  {
   "cell_type": "code",
   "execution_count": 3,
   "metadata": {},
   "outputs": [
    {
     "data": {
      "text/plain": [
       "Index(['hypothesis', 'reach', 'impact', 'confidence', 'efforts'], dtype='object')"
      ]
     },
     "metadata": {},
     "output_type": "display_data"
    },
    {
     "data": {
      "text/plain": [
       "0"
      ]
     },
     "metadata": {},
     "output_type": "display_data"
    }
   ],
   "source": [
    "hypothesis.columns = hypothesis.columns.str.lower()\n",
    "display(hypothesis.columns)\n",
    "display(hypothesis.duplicated().sum())"
   ]
  },
  {
   "cell_type": "markdown",
   "metadata": {},
   "source": [
    "Проделаем тоже самое с таблицами `orders` и `visitors`"
   ]
  },
  {
   "cell_type": "code",
   "execution_count": 4,
   "metadata": {},
   "outputs": [
    {
     "data": {
      "text/html": [
       "<div>\n",
       "<style scoped>\n",
       "    .dataframe tbody tr th:only-of-type {\n",
       "        vertical-align: middle;\n",
       "    }\n",
       "\n",
       "    .dataframe tbody tr th {\n",
       "        vertical-align: top;\n",
       "    }\n",
       "\n",
       "    .dataframe thead th {\n",
       "        text-align: right;\n",
       "    }\n",
       "</style>\n",
       "<table border=\"1\" class=\"dataframe\">\n",
       "  <thead>\n",
       "    <tr style=\"text-align: right;\">\n",
       "      <th></th>\n",
       "      <th>transactionId</th>\n",
       "      <th>visitorId</th>\n",
       "      <th>date</th>\n",
       "      <th>revenue</th>\n",
       "      <th>group</th>\n",
       "    </tr>\n",
       "  </thead>\n",
       "  <tbody>\n",
       "    <tr>\n",
       "      <th>0</th>\n",
       "      <td>3667963787</td>\n",
       "      <td>3312258926</td>\n",
       "      <td>2019-08-15</td>\n",
       "      <td>1650</td>\n",
       "      <td>B</td>\n",
       "    </tr>\n",
       "    <tr>\n",
       "      <th>1</th>\n",
       "      <td>2804400009</td>\n",
       "      <td>3642806036</td>\n",
       "      <td>2019-08-15</td>\n",
       "      <td>730</td>\n",
       "      <td>B</td>\n",
       "    </tr>\n",
       "    <tr>\n",
       "      <th>2</th>\n",
       "      <td>2961555356</td>\n",
       "      <td>4069496402</td>\n",
       "      <td>2019-08-15</td>\n",
       "      <td>400</td>\n",
       "      <td>A</td>\n",
       "    </tr>\n",
       "    <tr>\n",
       "      <th>3</th>\n",
       "      <td>3797467345</td>\n",
       "      <td>1196621759</td>\n",
       "      <td>2019-08-15</td>\n",
       "      <td>9759</td>\n",
       "      <td>B</td>\n",
       "    </tr>\n",
       "    <tr>\n",
       "      <th>4</th>\n",
       "      <td>2282983706</td>\n",
       "      <td>2322279887</td>\n",
       "      <td>2019-08-15</td>\n",
       "      <td>2308</td>\n",
       "      <td>B</td>\n",
       "    </tr>\n",
       "  </tbody>\n",
       "</table>\n",
       "</div>"
      ],
      "text/plain": [
       "   transactionId   visitorId        date  revenue group\n",
       "0     3667963787  3312258926  2019-08-15     1650     B\n",
       "1     2804400009  3642806036  2019-08-15      730     B\n",
       "2     2961555356  4069496402  2019-08-15      400     A\n",
       "3     3797467345  1196621759  2019-08-15     9759     B\n",
       "4     2282983706  2322279887  2019-08-15     2308     B"
      ]
     },
     "metadata": {},
     "output_type": "display_data"
    },
    {
     "name": "stdout",
     "output_type": "stream",
     "text": [
      "<class 'pandas.core.frame.DataFrame'>\n",
      "RangeIndex: 1197 entries, 0 to 1196\n",
      "Data columns (total 5 columns):\n",
      " #   Column         Non-Null Count  Dtype \n",
      "---  ------         --------------  ----- \n",
      " 0   transactionId  1197 non-null   int64 \n",
      " 1   visitorId      1197 non-null   int64 \n",
      " 2   date           1197 non-null   object\n",
      " 3   revenue        1197 non-null   int64 \n",
      " 4   group          1197 non-null   object\n",
      "dtypes: int64(3), object(2)\n",
      "memory usage: 46.9+ KB\n"
     ]
    },
    {
     "data": {
      "text/plain": [
       "None"
      ]
     },
     "metadata": {},
     "output_type": "display_data"
    }
   ],
   "source": [
    "display(orders.head())\n",
    "display(orders.info())"
   ]
  },
  {
   "cell_type": "markdown",
   "metadata": {},
   "source": [
    "В таблице `orders` 5 столбцов. Тип данных в столбцах: object, int. Количество значений в столбцах одинаковое, значит пропуски отсутствуют. \n",
    "\n",
    "Необходимо изменить тип данных в столбце date, исправить нарушение стиля и проверить таблицу на наличие дубликатов."
   ]
  },
  {
   "cell_type": "code",
   "execution_count": 5,
   "metadata": {},
   "outputs": [
    {
     "data": {
      "text/plain": [
       "0"
      ]
     },
     "metadata": {},
     "output_type": "display_data"
    },
    {
     "data": {
      "text/plain": [
       "Index(['transaction_id', 'visitor_id', 'date', 'revenue', 'group'], dtype='object')"
      ]
     },
     "metadata": {},
     "output_type": "display_data"
    }
   ],
   "source": [
    "#изменим тип данных\n",
    "orders['date'] = pd.to_datetime(orders['date']) \n",
    "#переименуем столбцы\n",
    "orders = orders.rename(columns={'transactionId':'transaction_id', 'visitorId':'visitor_id'})\n",
    "#посмотрим наличие дубликатов\n",
    "display(orders.duplicated().sum())\n",
    "display(orders.columns)"
   ]
  },
  {
   "cell_type": "code",
   "execution_count": 6,
   "metadata": {},
   "outputs": [
    {
     "data": {
      "text/html": [
       "<div>\n",
       "<style scoped>\n",
       "    .dataframe tbody tr th:only-of-type {\n",
       "        vertical-align: middle;\n",
       "    }\n",
       "\n",
       "    .dataframe tbody tr th {\n",
       "        vertical-align: top;\n",
       "    }\n",
       "\n",
       "    .dataframe thead th {\n",
       "        text-align: right;\n",
       "    }\n",
       "</style>\n",
       "<table border=\"1\" class=\"dataframe\">\n",
       "  <thead>\n",
       "    <tr style=\"text-align: right;\">\n",
       "      <th></th>\n",
       "      <th>date</th>\n",
       "      <th>group</th>\n",
       "      <th>visitors</th>\n",
       "    </tr>\n",
       "  </thead>\n",
       "  <tbody>\n",
       "    <tr>\n",
       "      <th>0</th>\n",
       "      <td>2019-08-01</td>\n",
       "      <td>A</td>\n",
       "      <td>719</td>\n",
       "    </tr>\n",
       "    <tr>\n",
       "      <th>1</th>\n",
       "      <td>2019-08-02</td>\n",
       "      <td>A</td>\n",
       "      <td>619</td>\n",
       "    </tr>\n",
       "    <tr>\n",
       "      <th>2</th>\n",
       "      <td>2019-08-03</td>\n",
       "      <td>A</td>\n",
       "      <td>507</td>\n",
       "    </tr>\n",
       "    <tr>\n",
       "      <th>3</th>\n",
       "      <td>2019-08-04</td>\n",
       "      <td>A</td>\n",
       "      <td>717</td>\n",
       "    </tr>\n",
       "    <tr>\n",
       "      <th>4</th>\n",
       "      <td>2019-08-05</td>\n",
       "      <td>A</td>\n",
       "      <td>756</td>\n",
       "    </tr>\n",
       "  </tbody>\n",
       "</table>\n",
       "</div>"
      ],
      "text/plain": [
       "         date group  visitors\n",
       "0  2019-08-01     A       719\n",
       "1  2019-08-02     A       619\n",
       "2  2019-08-03     A       507\n",
       "3  2019-08-04     A       717\n",
       "4  2019-08-05     A       756"
      ]
     },
     "metadata": {},
     "output_type": "display_data"
    },
    {
     "name": "stdout",
     "output_type": "stream",
     "text": [
      "<class 'pandas.core.frame.DataFrame'>\n",
      "RangeIndex: 62 entries, 0 to 61\n",
      "Data columns (total 3 columns):\n",
      " #   Column    Non-Null Count  Dtype \n",
      "---  ------    --------------  ----- \n",
      " 0   date      62 non-null     object\n",
      " 1   group     62 non-null     object\n",
      " 2   visitors  62 non-null     int64 \n",
      "dtypes: int64(1), object(2)\n",
      "memory usage: 1.6+ KB\n"
     ]
    },
    {
     "data": {
      "text/plain": [
       "None"
      ]
     },
     "metadata": {},
     "output_type": "display_data"
    }
   ],
   "source": [
    "display(visitors.head())\n",
    "display(visitors.info())"
   ]
  },
  {
   "cell_type": "markdown",
   "metadata": {},
   "source": [
    "В таблице `visitors` 3 столбцов. Тип данных в столбцах: object, int. Количество значений в столбцах одинаковое, значит пропуски отсутствуют. \n",
    "\n",
    "Необходимо изменить тип данных в столбце date и проверить таблицу на наличие дубликатов."
   ]
  },
  {
   "cell_type": "code",
   "execution_count": 7,
   "metadata": {},
   "outputs": [
    {
     "data": {
      "text/plain": [
       "0"
      ]
     },
     "execution_count": 7,
     "metadata": {},
     "output_type": "execute_result"
    }
   ],
   "source": [
    "#изменим тип данных\n",
    "visitors['date'] = pd.to_datetime(visitors['date']) \n",
    "#посмотрим наличие дубликатов\n",
    "visitors.duplicated().sum() "
   ]
  },
  {
   "cell_type": "markdown",
   "metadata": {},
   "source": [
    "**Вывод**\n",
    "\n",
    "Подготовили данные к дальнейшему анализу: убедились в отсутствии дубликатов и пропусков, поменяли необходимые типы данных."
   ]
  },
  {
   "cell_type": "markdown",
   "metadata": {},
   "source": [
    "## Приоритизация гипотез"
   ]
  },
  {
   "cell_type": "markdown",
   "metadata": {},
   "source": [
    "### Фреймворк ICE для приоритизации гипотез"
   ]
  },
  {
   "cell_type": "markdown",
   "metadata": {},
   "source": [
    "Оценим приоритет гипотез при помощи фреймворка ICE"
   ]
  },
  {
   "cell_type": "code",
   "execution_count": 8,
   "metadata": {},
   "outputs": [
    {
     "data": {
      "text/html": [
       "<div>\n",
       "<style scoped>\n",
       "    .dataframe tbody tr th:only-of-type {\n",
       "        vertical-align: middle;\n",
       "    }\n",
       "\n",
       "    .dataframe tbody tr th {\n",
       "        vertical-align: top;\n",
       "    }\n",
       "\n",
       "    .dataframe thead th {\n",
       "        text-align: right;\n",
       "    }\n",
       "</style>\n",
       "<table border=\"1\" class=\"dataframe\">\n",
       "  <thead>\n",
       "    <tr style=\"text-align: right;\">\n",
       "      <th></th>\n",
       "      <th>hypothesis</th>\n",
       "      <th>ICE</th>\n",
       "    </tr>\n",
       "  </thead>\n",
       "  <tbody>\n",
       "    <tr>\n",
       "      <th>8</th>\n",
       "      <td>Запустить акцию, дающую скидку на товар в день рождения</td>\n",
       "      <td>16.200000</td>\n",
       "    </tr>\n",
       "    <tr>\n",
       "      <th>0</th>\n",
       "      <td>Добавить два новых канала привлечения трафика, что позволит привлекать на 30% больше пользователей</td>\n",
       "      <td>13.333333</td>\n",
       "    </tr>\n",
       "    <tr>\n",
       "      <th>7</th>\n",
       "      <td>Добавить форму подписки на все основные страницы, чтобы собрать базу клиентов для email-рассылок</td>\n",
       "      <td>11.200000</td>\n",
       "    </tr>\n",
       "    <tr>\n",
       "      <th>6</th>\n",
       "      <td>Показать на главной странице баннеры с актуальными акциями и распродажами, чтобы увеличить конверсию</td>\n",
       "      <td>8.000000</td>\n",
       "    </tr>\n",
       "    <tr>\n",
       "      <th>2</th>\n",
       "      <td>Добавить блоки рекомендаций товаров на сайт интернет магазина, чтобы повысить конверсию и средний чек заказа</td>\n",
       "      <td>7.000000</td>\n",
       "    </tr>\n",
       "    <tr>\n",
       "      <th>1</th>\n",
       "      <td>Запустить собственную службу доставки, что сократит срок доставки заказов</td>\n",
       "      <td>2.000000</td>\n",
       "    </tr>\n",
       "    <tr>\n",
       "      <th>5</th>\n",
       "      <td>Добавить страницу отзывов клиентов о магазине, что позволит увеличить количество заказов</td>\n",
       "      <td>1.333333</td>\n",
       "    </tr>\n",
       "    <tr>\n",
       "      <th>3</th>\n",
       "      <td>Изменить структура категорий, что увеличит конверсию, т.к. пользователи быстрее найдут нужный товар</td>\n",
       "      <td>1.125000</td>\n",
       "    </tr>\n",
       "    <tr>\n",
       "      <th>4</th>\n",
       "      <td>Изменить цвет фона главной страницы, чтобы увеличить вовлеченность пользователей</td>\n",
       "      <td>1.000000</td>\n",
       "    </tr>\n",
       "  </tbody>\n",
       "</table>\n",
       "</div>"
      ],
      "text/plain": [
       "                                                                                                     hypothesis  \\\n",
       "8                                                       Запустить акцию, дающую скидку на товар в день рождения   \n",
       "0            Добавить два новых канала привлечения трафика, что позволит привлекать на 30% больше пользователей   \n",
       "7              Добавить форму подписки на все основные страницы, чтобы собрать базу клиентов для email-рассылок   \n",
       "6          Показать на главной странице баннеры с актуальными акциями и распродажами, чтобы увеличить конверсию   \n",
       "2  Добавить блоки рекомендаций товаров на сайт интернет магазина, чтобы повысить конверсию и средний чек заказа   \n",
       "1                                     Запустить собственную службу доставки, что сократит срок доставки заказов   \n",
       "5                      Добавить страницу отзывов клиентов о магазине, что позволит увеличить количество заказов   \n",
       "3           Изменить структура категорий, что увеличит конверсию, т.к. пользователи быстрее найдут нужный товар   \n",
       "4                              Изменить цвет фона главной страницы, чтобы увеличить вовлеченность пользователей   \n",
       "\n",
       "         ICE  \n",
       "8  16.200000  \n",
       "0  13.333333  \n",
       "7  11.200000  \n",
       "6   8.000000  \n",
       "2   7.000000  \n",
       "1   2.000000  \n",
       "5   1.333333  \n",
       "3   1.125000  \n",
       "4   1.000000  "
      ]
     },
     "metadata": {},
     "output_type": "display_data"
    }
   ],
   "source": [
    "hypothesis['ICE'] = hypothesis['impact'] * hypothesis['confidence']/hypothesis['efforts']\n",
    "display(hypothesis[['hypothesis','ICE']].sort_values(by='ICE', ascending=False))"
   ]
  },
  {
   "cell_type": "markdown",
   "metadata": {},
   "source": [
    "Наиболее перспективные гипотезы по ICE 8, 0, 7."
   ]
  },
  {
   "cell_type": "markdown",
   "metadata": {},
   "source": [
    "### Фреймворк RICE для приоритезации гипотез"
   ]
  },
  {
   "cell_type": "markdown",
   "metadata": {},
   "source": [
    "Оценим приоритет гипотез при помощи фреймворка RICE"
   ]
  },
  {
   "cell_type": "code",
   "execution_count": 9,
   "metadata": {},
   "outputs": [
    {
     "data": {
      "text/html": [
       "<div>\n",
       "<style scoped>\n",
       "    .dataframe tbody tr th:only-of-type {\n",
       "        vertical-align: middle;\n",
       "    }\n",
       "\n",
       "    .dataframe tbody tr th {\n",
       "        vertical-align: top;\n",
       "    }\n",
       "\n",
       "    .dataframe thead th {\n",
       "        text-align: right;\n",
       "    }\n",
       "</style>\n",
       "<table border=\"1\" class=\"dataframe\">\n",
       "  <thead>\n",
       "    <tr style=\"text-align: right;\">\n",
       "      <th></th>\n",
       "      <th>hypothesis</th>\n",
       "      <th>RICE</th>\n",
       "    </tr>\n",
       "  </thead>\n",
       "  <tbody>\n",
       "    <tr>\n",
       "      <th>7</th>\n",
       "      <td>Добавить форму подписки на все основные страницы, чтобы собрать базу клиентов для email-рассылок</td>\n",
       "      <td>112.0</td>\n",
       "    </tr>\n",
       "    <tr>\n",
       "      <th>2</th>\n",
       "      <td>Добавить блоки рекомендаций товаров на сайт интернет магазина, чтобы повысить конверсию и средний чек заказа</td>\n",
       "      <td>56.0</td>\n",
       "    </tr>\n",
       "    <tr>\n",
       "      <th>0</th>\n",
       "      <td>Добавить два новых канала привлечения трафика, что позволит привлекать на 30% больше пользователей</td>\n",
       "      <td>40.0</td>\n",
       "    </tr>\n",
       "    <tr>\n",
       "      <th>6</th>\n",
       "      <td>Показать на главной странице баннеры с актуальными акциями и распродажами, чтобы увеличить конверсию</td>\n",
       "      <td>40.0</td>\n",
       "    </tr>\n",
       "    <tr>\n",
       "      <th>8</th>\n",
       "      <td>Запустить акцию, дающую скидку на товар в день рождения</td>\n",
       "      <td>16.2</td>\n",
       "    </tr>\n",
       "    <tr>\n",
       "      <th>3</th>\n",
       "      <td>Изменить структура категорий, что увеличит конверсию, т.к. пользователи быстрее найдут нужный товар</td>\n",
       "      <td>9.0</td>\n",
       "    </tr>\n",
       "    <tr>\n",
       "      <th>1</th>\n",
       "      <td>Запустить собственную службу доставки, что сократит срок доставки заказов</td>\n",
       "      <td>4.0</td>\n",
       "    </tr>\n",
       "    <tr>\n",
       "      <th>5</th>\n",
       "      <td>Добавить страницу отзывов клиентов о магазине, что позволит увеличить количество заказов</td>\n",
       "      <td>4.0</td>\n",
       "    </tr>\n",
       "    <tr>\n",
       "      <th>4</th>\n",
       "      <td>Изменить цвет фона главной страницы, чтобы увеличить вовлеченность пользователей</td>\n",
       "      <td>3.0</td>\n",
       "    </tr>\n",
       "  </tbody>\n",
       "</table>\n",
       "</div>"
      ],
      "text/plain": [
       "                                                                                                     hypothesis  \\\n",
       "7              Добавить форму подписки на все основные страницы, чтобы собрать базу клиентов для email-рассылок   \n",
       "2  Добавить блоки рекомендаций товаров на сайт интернет магазина, чтобы повысить конверсию и средний чек заказа   \n",
       "0            Добавить два новых канала привлечения трафика, что позволит привлекать на 30% больше пользователей   \n",
       "6          Показать на главной странице баннеры с актуальными акциями и распродажами, чтобы увеличить конверсию   \n",
       "8                                                       Запустить акцию, дающую скидку на товар в день рождения   \n",
       "3           Изменить структура категорий, что увеличит конверсию, т.к. пользователи быстрее найдут нужный товар   \n",
       "1                                     Запустить собственную службу доставки, что сократит срок доставки заказов   \n",
       "5                      Добавить страницу отзывов клиентов о магазине, что позволит увеличить количество заказов   \n",
       "4                              Изменить цвет фона главной страницы, чтобы увеличить вовлеченность пользователей   \n",
       "\n",
       "    RICE  \n",
       "7  112.0  \n",
       "2   56.0  \n",
       "0   40.0  \n",
       "6   40.0  \n",
       "8   16.2  \n",
       "3    9.0  \n",
       "1    4.0  \n",
       "5    4.0  \n",
       "4    3.0  "
      ]
     },
     "metadata": {},
     "output_type": "display_data"
    }
   ],
   "source": [
    "hypothesis['RICE'] = hypothesis['reach'] * hypothesis['impact'] * hypothesis['confidence']/hypothesis['efforts']\n",
    "display(hypothesis[['hypothesis', 'RICE']].sort_values(by='RICE', ascending=False))"
   ]
  },
  {
   "cell_type": "markdown",
   "metadata": {},
   "source": [
    "Наиболее перспективные гипотезы по RICE 7, 2, 0 и 6.\n"
   ]
  },
  {
   "cell_type": "markdown",
   "metadata": {},
   "source": [
    "### Вывод"
   ]
  },
  {
   "cell_type": "markdown",
   "metadata": {},
   "source": [
    "При применении RICE вместо ICE на первом месте оказалась гипотеза под номером 7. Так произошло, потому что ее параметр `reach` равен 10, в то время как у других гипотез он меньше. А гипотеза под номером 8 не вошла в топ по RICE, потому что ее параметр `reach` равен 1.\n",
    "\n",
    "На основании приоритезации гипотез при помощи фреймворков ICE и RICE можно отметить 7 и 0 гипотезы как важные."
   ]
  },
  {
   "cell_type": "markdown",
   "metadata": {},
   "source": [
    "## Анализ A/B-теста"
   ]
  },
  {
   "cell_type": "markdown",
   "metadata": {},
   "source": [
    "Был проведен A/B-тест и получены результаты, которые описаны в таблицах orders и visitors. "
   ]
  },
  {
   "cell_type": "markdown",
   "metadata": {},
   "source": [
    "###  График кумулятивной выручки по группам"
   ]
  },
  {
   "cell_type": "code",
   "execution_count": 10,
   "metadata": {
    "scrolled": true
   },
   "outputs": [
    {
     "data": {
      "text/html": [
       "<div>\n",
       "<style scoped>\n",
       "    .dataframe tbody tr th:only-of-type {\n",
       "        vertical-align: middle;\n",
       "    }\n",
       "\n",
       "    .dataframe tbody tr th {\n",
       "        vertical-align: top;\n",
       "    }\n",
       "\n",
       "    .dataframe thead th {\n",
       "        text-align: right;\n",
       "    }\n",
       "</style>\n",
       "<table border=\"1\" class=\"dataframe\">\n",
       "  <thead>\n",
       "    <tr style=\"text-align: right;\">\n",
       "      <th></th>\n",
       "      <th>date</th>\n",
       "      <th>group</th>\n",
       "      <th>orders</th>\n",
       "      <th>buyers</th>\n",
       "      <th>revenue</th>\n",
       "      <th>visitors</th>\n",
       "    </tr>\n",
       "  </thead>\n",
       "  <tbody>\n",
       "    <tr>\n",
       "      <th>0</th>\n",
       "      <td>2019-08-01</td>\n",
       "      <td>A</td>\n",
       "      <td>24</td>\n",
       "      <td>20</td>\n",
       "      <td>148579</td>\n",
       "      <td>719</td>\n",
       "    </tr>\n",
       "    <tr>\n",
       "      <th>1</th>\n",
       "      <td>2019-08-01</td>\n",
       "      <td>B</td>\n",
       "      <td>21</td>\n",
       "      <td>20</td>\n",
       "      <td>101217</td>\n",
       "      <td>713</td>\n",
       "    </tr>\n",
       "    <tr>\n",
       "      <th>2</th>\n",
       "      <td>2019-08-02</td>\n",
       "      <td>A</td>\n",
       "      <td>44</td>\n",
       "      <td>38</td>\n",
       "      <td>242401</td>\n",
       "      <td>1338</td>\n",
       "    </tr>\n",
       "    <tr>\n",
       "      <th>3</th>\n",
       "      <td>2019-08-02</td>\n",
       "      <td>B</td>\n",
       "      <td>45</td>\n",
       "      <td>43</td>\n",
       "      <td>266748</td>\n",
       "      <td>1294</td>\n",
       "    </tr>\n",
       "    <tr>\n",
       "      <th>4</th>\n",
       "      <td>2019-08-03</td>\n",
       "      <td>A</td>\n",
       "      <td>68</td>\n",
       "      <td>62</td>\n",
       "      <td>354874</td>\n",
       "      <td>1845</td>\n",
       "    </tr>\n",
       "  </tbody>\n",
       "</table>\n",
       "</div>"
      ],
      "text/plain": [
       "        date group  orders  buyers  revenue  visitors\n",
       "0 2019-08-01     A      24      20   148579       719\n",
       "1 2019-08-01     B      21      20   101217       713\n",
       "2 2019-08-02     A      44      38   242401      1338\n",
       "3 2019-08-02     B      45      43   266748      1294\n",
       "4 2019-08-03     A      68      62   354874      1845"
      ]
     },
     "execution_count": 10,
     "metadata": {},
     "output_type": "execute_result"
    }
   ],
   "source": [
    "# создаем массив уникальных пар значений дат и групп теста\n",
    "dates_groups = orders[['date','group']].drop_duplicates()\n",
    "\n",
    "# получаем агрегированные кумулятивные по дням данные о заказах \n",
    "orders_aggregated = dates_groups.apply(lambda x: orders[np.logical_and(orders['date'] <= x['date'], orders['group'] == x['group'])].agg({'date' : 'max', 'group' : 'max', 'transaction_id' : 'nunique', 'visitor_id' : 'nunique', 'revenue' : 'sum'}), axis=1).sort_values(by=['date','group'])\n",
    "\n",
    "# получаем агрегированные кумулятивные по дням данные о посетителях интернет-магазина \n",
    "visitors_aggregated = dates_groups.apply(lambda x: visitors[np.logical_and(visitors['date'] <= x['date'], visitors['group'] == x['group'])].agg({'date' : 'max', 'group' : 'max', 'visitors' : 'sum'}), axis=1).sort_values(by=['date','group'])\n",
    "\n",
    "# объединяем кумулятивные данные в одной таблице и переименовываем столбцы\n",
    "cumulative_data = orders_aggregated.merge(visitors_aggregated, left_on=['date', 'group'], right_on=['date', 'group'])\n",
    "cumulative_data.columns = ['date', 'group', 'orders', 'buyers', 'revenue', 'visitors']\n",
    "\n",
    "cumulative_data.head(5)"
   ]
  },
  {
   "cell_type": "markdown",
   "metadata": {},
   "source": [
    "Построим графики кумулятивной выручки по дням и группам A/B-тестирования:"
   ]
  },
  {
   "cell_type": "code",
   "execution_count": 11,
   "metadata": {},
   "outputs": [
    {
     "data": {
      "image/png": "[encoded data removed]",
      "text/plain": [
       "<Figure size 720x360 with 1 Axes>"
      ]
     },
     "metadata": {
      "needs_background": "light"
     },
     "output_type": "display_data"
    }
   ],
   "source": [
    "# датафрейм с кумулятивным количеством заказов и кумулятивной выручкой по дням в группе А\n",
    "cumulative_revenue_A = cumulative_data[cumulative_data['group']=='A'][['date','revenue', 'orders']]\n",
    "\n",
    "# датафрейм с кумулятивным количеством заказов и кумулятивной выручкой по дням в группе B\n",
    "cumulative_revenue_B = cumulative_data[cumulative_data['group']=='B'][['date','revenue', 'orders']]\n",
    "\n",
    "plt.figure(figsize=(10, 5))\n",
    "plt.xticks(rotation=45)\n",
    "\n",
    "# Строим график выручки группы А\n",
    "plt.plot(cumulative_revenue_A['date'], cumulative_revenue_A['revenue'], label='A')\n",
    "\n",
    "# Строим график выручки группы B\n",
    "plt.plot(cumulative_revenue_B['date'], cumulative_revenue_B['revenue'], label='B')\n",
    "\n",
    "plt.legend() \n",
    "plt.title('Кумулятивная выручка по группам');"
   ]
  },
  {
   "cell_type": "markdown",
   "metadata": {},
   "source": [
    "\n",
    "Выручка группы А почти равномерно увеличивается в течении всего теста, в то время как в В есть резкий рост после 17 августа. Это может сигнализировать о всплесках числа заказов, либо о появлении очень дорогих заказов в выборке. "
   ]
  },
  {
   "cell_type": "markdown",
   "metadata": {},
   "source": [
    "### График кумулятивного среднего чека по группам"
   ]
  },
  {
   "cell_type": "markdown",
   "metadata": {},
   "source": [
    "Построим графики среднего чека по группам — разделим кумулятивную выручку на кумулятивное число заказов:"
   ]
  },
  {
   "cell_type": "code",
   "execution_count": 12,
   "metadata": {},
   "outputs": [
    {
     "data": {
      "image/png": "[encoded data removed]",
      "text/plain": [
       "<Figure size 720x360 with 1 Axes>"
      ]
     },
     "metadata": {
      "needs_background": "light"
     },
     "output_type": "display_data"
    }
   ],
   "source": [
    "plt.figure(figsize=(10, 5))\n",
    "plt.xticks(rotation=45)\n",
    "\n",
    "plt.plot(cumulative_revenue_A['date'], cumulative_revenue_A['revenue']/cumulative_revenue_A['orders'], label='A')\n",
    "plt.plot(cumulative_revenue_B['date'], cumulative_revenue_B['revenue']/cumulative_revenue_B['orders'], label='B')\n",
    "plt.legend() \n",
    "plt.title('Кумулятивный средний чек по группам');"
   ]
  },
  {
   "cell_type": "markdown",
   "metadata": {},
   "source": [
    "Средний чек тоже становится равномерным ближе к концу теста. Однако, мы видим резкий всплеск на графике группы В, что свидетельствует о крупной покупке, после чего средний чек в этой группе начинает снижаться."
   ]
  },
  {
   "cell_type": "markdown",
   "metadata": {},
   "source": [
    "### График относительного изменения кумулятивного среднего чека группы B к группе A"
   ]
  },
  {
   "cell_type": "code",
   "execution_count": 13,
   "metadata": {},
   "outputs": [
    {
     "data": {
      "image/png": "[encoded data removed]",
      "text/plain": [
       "<Figure size 720x360 with 1 Axes>"
      ]
     },
     "metadata": {
      "needs_background": "light"
     },
     "output_type": "display_data"
    }
   ],
   "source": [
    "# собираем данные в одном датафрейме\n",
    "merged_cumulative_revenue = cumulative_revenue_A.merge(cumulative_revenue_B, left_on='date', right_on='date', how='left', suffixes=['A', 'B'])\n",
    "\n",
    "plt.figure(figsize=(10, 5))\n",
    "plt.xticks(rotation=45)\n",
    "\n",
    "# cтроим отношение средних чеков\n",
    "plt.plot(merged_cumulative_revenue['date'], (merged_cumulative_revenue['revenueB']/merged_cumulative_revenue['ordersB'])/(merged_cumulative_revenue['revenueA']/merged_cumulative_revenue['ordersA'])-1)\n",
    "\n",
    "# добавляем ось X\n",
    "plt.axhline(y=0, color='black', linestyle='--') \n",
    "plt.title('Относительное изменение кумулятивного среднего чека группы B к группе A');"
   ]
  },
  {
   "cell_type": "markdown",
   "metadata": {},
   "source": [
    "В нескольких точках график различия между сегментами резко «скачет». Где-то точно спрятались крупные заказы и выбросы. Найдём их позже."
   ]
  },
  {
   "cell_type": "markdown",
   "metadata": {},
   "source": [
    "### График кумулятивной конверсии по группам"
   ]
  },
  {
   "cell_type": "code",
   "execution_count": 14,
   "metadata": {},
   "outputs": [
    {
     "data": {
      "image/png": "[encoded data removed]",
      "text/plain": [
       "<Figure size 720x360 with 1 Axes>"
      ]
     },
     "metadata": {
      "needs_background": "light"
     },
     "output_type": "display_data"
    }
   ],
   "source": [
    "# считаем кумулятивную конверсию\n",
    "cumulative_data['conversion'] = cumulative_data['orders']/cumulative_data['visitors']\n",
    "\n",
    "# отделяем данные по группе A\n",
    "cumulative_data_A = cumulative_data[cumulative_data['group']=='A']\n",
    "\n",
    "# отделяем данные по группе B\n",
    "cumulative_data_B = cumulative_data[cumulative_data['group']=='B']\n",
    "\n",
    "# строим графики\n",
    "plt.figure(figsize=(10, 5))\n",
    "plt.xticks(rotation=45)\n",
    "\n",
    "plt.plot(cumulative_data_A['date'], cumulative_data_A['conversion'], label='A')\n",
    "plt.plot(cumulative_data_B['date'], cumulative_data_B['conversion'], label='B')\n",
    "plt.legend()\n",
    "\n",
    "# задаем масштаб осей\n",
    "plt.axis(xmin=cumulative_data_A['date'].min(), xmax=cumulative_data_A['date'].max(), ymin=.020, ymax=0.04)\n",
    "plt.title('Кумулятивная конверсия по группам');"
   ]
  },
  {
   "cell_type": "markdown",
   "metadata": {},
   "source": [
    "На первых этапах конверсию в обеих группах колебалась, но затем конверсия группы В вырвалась вперёд и зафиксировалась, а конверсия группы А просела и также зафиксировалась."
   ]
  },
  {
   "cell_type": "markdown",
   "metadata": {},
   "source": [
    "### График относительного изменения кумулятивной конверсии группы B к группе A"
   ]
  },
  {
   "cell_type": "code",
   "execution_count": 15,
   "metadata": {},
   "outputs": [
    {
     "data": {
      "image/png": "[encoded data removed]",
      "text/plain": [
       "<Figure size 720x360 with 1 Axes>"
      ]
     },
     "metadata": {
      "needs_background": "light"
     },
     "output_type": "display_data"
    }
   ],
   "source": [
    "merged_cumulative_conversions = cumulative_data_A[['date','conversion']].merge(cumulative_data_B[['date','conversion']], left_on='date', right_on='date', how='left', suffixes=['A', 'B'])\n",
    "\n",
    "plt.figure(figsize=(10, 5))\n",
    "plt.xticks(rotation=45)\n",
    "\n",
    "plt.plot(merged_cumulative_conversions['date'], merged_cumulative_conversions['conversionB']/merged_cumulative_conversions['conversionA']-1, label=\"Относительный прирост конверсии группы B относительно группы A\")\n",
    "plt.legend()\n",
    "\n",
    "plt.axhline(y=0, color='black', linestyle='--')\n",
    "plt.axhline(y=0.15, color='grey', linestyle='--')\n",
    "plt.axis(xmin=cumulative_data_A['date'].min(), xmax=cumulative_data_A['date'].max(), ymin=-0.30, ymax=0.3)\n",
    "plt.title('Относительное изменение кумулятивной конверсии группы B к группе A');"
   ]
  },
  {
   "cell_type": "markdown",
   "metadata": {},
   "source": [
    "В начале теста группа B проигрывала группе A, затем вырвалась вперёд.\n",
    "\n",
    "В целом отношение конверсии ещё не установилось, и сейчас делать какие-либо выводы по тесту нельзя. Впрочем, сперва стоит проанализировать аномалии, возможно, они изменят картину."
   ]
  },
  {
   "cell_type": "markdown",
   "metadata": {},
   "source": [
    "### Точечный график количества заказов по пользователям"
   ]
  },
  {
   "cell_type": "markdown",
   "metadata": {},
   "source": [
    "Оценим количество заказов"
   ]
  },
  {
   "cell_type": "code",
   "execution_count": 16,
   "metadata": {},
   "outputs": [
    {
     "data": {
      "image/png": "[encoded data removed]",
      "text/plain": [
       "<Figure size 720x360 with 1 Axes>"
      ]
     },
     "metadata": {
      "needs_background": "light"
     },
     "output_type": "display_data"
    }
   ],
   "source": [
    "orders_by_users = (\n",
    "    orders.groupby('visitor_id', as_index=False)\n",
    "    .agg({'transaction_id': 'nunique'})\n",
    ")    \n",
    "orders_by_users.columns = ['visitor_id', 'orders']\n",
    "\n",
    "x_values = pd.Series(range(0, len(orders_by_users)))\n",
    "\n",
    "plt.figure(figsize=(10, 5))\n",
    "plt.scatter(x_values, orders_by_users['orders']) \n",
    "plt.grid()\n",
    "plt.title('Количество заказов по пользователям');"
   ]
  },
  {
   "cell_type": "markdown",
   "metadata": {},
   "source": [
    "Пользователей, заказавших более двух раз мало. Они вполне могут быть аномальными. Одноко, чтобы удостовериться, посчитаем выборочные перцентили."
   ]
  },
  {
   "cell_type": "markdown",
   "metadata": {},
   "source": [
    "### Граница для определения аномальных пользователей"
   ]
  },
  {
   "cell_type": "markdown",
   "metadata": {},
   "source": [
    "Посчитаем 95-й и 99-й перцентили количества заказов на пользователя. Выберем границу для определения аномальных пользователей."
   ]
  },
  {
   "cell_type": "code",
   "execution_count": 17,
   "metadata": {},
   "outputs": [
    {
     "data": {
      "text/plain": [
       "array([2., 4.])"
      ]
     },
     "metadata": {},
     "output_type": "display_data"
    }
   ],
   "source": [
    "display(np.percentile(orders_by_users['orders'], [95, 99]))"
   ]
  },
  {
   "cell_type": "markdown",
   "metadata": {},
   "source": [
    "Не более 5% пользователей совершали больше двух заказов. И не более 1% пользователей больше 4 заказов.\n",
    "\n",
    "Разумно выбрать 2 заказа на одного пользователя за верхнюю границу числа заказов, и отсеять аномальных пользователей по ней."
   ]
  },
  {
   "cell_type": "markdown",
   "metadata": {},
   "source": [
    "### Точечный график стоимостей заказов"
   ]
  },
  {
   "cell_type": "code",
   "execution_count": 18,
   "metadata": {},
   "outputs": [
    {
     "data": {
      "image/png": "[encoded data removed]",
      "text/plain": [
       "<Figure size 720x360 with 1 Axes>"
      ]
     },
     "metadata": {
      "needs_background": "light"
     },
     "output_type": "display_data"
    }
   ],
   "source": [
    "x1_values = pd.Series(range(0,len(orders['revenue'])))\n",
    "plt.figure(figsize=(10, 5))\n",
    "plt.scatter(x1_values, orders['revenue']) \n",
    "plt.grid()\n",
    "plt.title('Стоимость заказов');"
   ]
  },
  {
   "cell_type": "markdown",
   "metadata": {},
   "source": [
    "Видим несколько аномально больших заказа в 200000 тыс и больше 1.2 млн рублей. Посмотрим на график детальнее."
   ]
  },
  {
   "cell_type": "code",
   "execution_count": 19,
   "metadata": {},
   "outputs": [
    {
     "data": {
      "image/png": "[encoded data removed]",
      "text/plain": [
       "<Figure size 720x360 with 1 Axes>"
      ]
     },
     "metadata": {
      "needs_background": "light"
     },
     "output_type": "display_data"
    }
   ],
   "source": [
    "plt.figure(figsize=(10, 5))\n",
    "plt.scatter(x1_values, orders['revenue']) \n",
    "plt.grid()\n",
    "plt.ylim(0,120000)\n",
    "plt.title('Стоимость заказов');"
   ]
  },
  {
   "cell_type": "markdown",
   "metadata": {},
   "source": [
    "Всё, как предполагали: есть немного дорогих заказов. По графику можно выбрать границу аномальных заказов между 30 000 и 40 000 рублей. Однако принято отсеивать от 1% до 5% наблюдений с крайними значениями. Поэтому посчитаем выборочные перцентили."
   ]
  },
  {
   "cell_type": "markdown",
   "metadata": {},
   "source": [
    "### Граница для определения аномальных заказов"
   ]
  },
  {
   "cell_type": "code",
   "execution_count": 20,
   "metadata": {},
   "outputs": [
    {
     "data": {
      "text/plain": [
       "array([28000. , 58233.2])"
      ]
     },
     "metadata": {},
     "output_type": "display_data"
    }
   ],
   "source": [
    "display(np.percentile(orders['revenue'], [95, 99])) "
   ]
  },
  {
   "cell_type": "markdown",
   "metadata": {},
   "source": [
    "Не более 5% заказов выше 28000 рублей и не более 1% больше 58233 рублей.\n",
    "\n",
    "Можно выбрать 35000 или 40000 рублей за верхнюю границу суммы заказов. И отсеивать аномальных пользователей по ней."
   ]
  },
  {
   "cell_type": "markdown",
   "metadata": {},
   "source": [
    "### Вывод"
   ]
  },
  {
   "cell_type": "markdown",
   "metadata": {},
   "source": [
    "На основании графиков можно сделать предположение, что группа В лидирует. Однако, в данных были обнаружены выбросы. Поэтому были определены границы для определения аномалий."
   ]
  },
  {
   "cell_type": "markdown",
   "metadata": {},
   "source": [
    "## Статистическая значимость"
   ]
  },
  {
   "cell_type": "markdown",
   "metadata": {},
   "source": [
    "### Статистическая значимость по «сырым» данным"
   ]
  },
  {
   "cell_type": "markdown",
   "metadata": {},
   "source": [
    "Таблицы с данными для заказов на каждого пользователя"
   ]
  },
  {
   "cell_type": "code",
   "execution_count": 21,
   "metadata": {},
   "outputs": [],
   "source": [
    "orders_by_users_A = orders.query('group == \"A\"').groupby('visitor_id')['transaction_id'].nunique().reset_index()\n",
    "orders_by_users_A.columns=['visitors_id','orders']\n",
    "orders_by_users_B = orders.query('group == \"B\"').groupby('visitor_id')['transaction_id'].nunique().reset_index()\n",
    "orders_by_users_B.columns=['visitors_id','orders']"
   ]
  },
  {
   "cell_type": "code",
   "execution_count": 22,
   "metadata": {},
   "outputs": [],
   "source": [
    "visitors_A = visitors.query('group == \"A\"')['visitors'].sum()\n",
    "visitors_B = visitors.query('group == \"B\"')['visitors'].sum()"
   ]
  },
  {
   "cell_type": "markdown",
   "metadata": {},
   "source": [
    "Создадим переменные с пользователями, которые ничего не заказали, вместо них будут 0"
   ]
  },
  {
   "cell_type": "code",
   "execution_count": 23,
   "metadata": {},
   "outputs": [],
   "source": [
    "without_orders_A = pd.Series(0, index=np.arange(visitors_A - len(orders_by_users_A)), name='orders')\n",
    "without_orders_B = pd.Series(0, index=np.arange(visitors_B - len(orders_by_users_B)), name='orders')"
   ]
  },
  {
   "cell_type": "markdown",
   "metadata": {},
   "source": [
    "Объявим переменные sampleA и sampleB, в которых пользователям из разных групп будет соответствовать количество заказов. Тем, кто ничего не заказал, будут соответствовать нули. Это нужно, чтобы подготовить выборки к проверке критерием Манна-Уитни."
   ]
  },
  {
   "cell_type": "code",
   "execution_count": 24,
   "metadata": {},
   "outputs": [],
   "source": [
    "sample_A = pd.concat([orders_by_users_A['orders'], without_orders_A], axis=0)\n",
    "sample_B = pd.concat([orders_by_users_B['orders'], without_orders_B], axis=0)"
   ]
  },
  {
   "cell_type": "markdown",
   "metadata": {},
   "source": [
    "#### Cтатистическая значимость различий в конверсии между группами по «сырым» данным"
   ]
  },
  {
   "cell_type": "markdown",
   "metadata": {},
   "source": [
    "Применим критерий Манна-Уитни к сырым данным и посмотрим на значение средний конверсий\n",
    "\n",
    "Сформулируем нулевую и альтернативную гипотезы:\n",
    "* H0: конверсия группы А и конверсии группы В равны\n",
    "* H1: конверсии групп не равны."
   ]
  },
  {
   "cell_type": "code",
   "execution_count": 25,
   "metadata": {},
   "outputs": [
    {
     "data": {
      "text/plain": [
       "'p_value: 0.01679'"
      ]
     },
     "metadata": {},
     "output_type": "display_data"
    },
    {
     "data": {
      "text/plain": [
       "'Средняя конверсия группы А: 3.0%'"
      ]
     },
     "metadata": {},
     "output_type": "display_data"
    },
    {
     "data": {
      "text/plain": [
       "'Средняя конверсия группы B: 3.4%'"
      ]
     },
     "metadata": {},
     "output_type": "display_data"
    }
   ],
   "source": [
    "#alpha = .05\n",
    "display('p_value: {:.5f}'.format(stats.mannwhitneyu(sample_A, sample_B)[1]))\n",
    "display('Средняя конверсия группы А: {:.1%}'.format(sample_A.mean()))\n",
    "display('Средняя конверсия группы B: {:.1%}'.format(sample_B.mean()))"
   ]
  },
  {
   "cell_type": "markdown",
   "metadata": {},
   "source": [
    "Вывод: По «сырым» данным конверсии групп не равны.\n",
    "\n",
    "p-value = 0.01679 меньше 0.05. Значит, нулевую гипотезу о том, что конверсии групп равны - отвергаем."
   ]
  },
  {
   "cell_type": "markdown",
   "metadata": {},
   "source": [
    "#### Статистическая значимость различий в среднем чеке заказа между группами по «сырым» данным"
   ]
  },
  {
   "cell_type": "markdown",
   "metadata": {},
   "source": [
    "Сформулируем нулевую и альтернативную гипотезы:\n",
    "* H0: различий в среднем чеке между группами нет\n",
    "* H1: различия в среднем чеке между группами есть."
   ]
  },
  {
   "cell_type": "code",
   "execution_count": 26,
   "metadata": {},
   "outputs": [
    {
     "data": {
      "text/plain": [
       "'p_value: 0.729'"
      ]
     },
     "metadata": {},
     "output_type": "display_data"
    },
    {
     "data": {
      "text/plain": [
       "'Средний чек группы А: 7333.58'"
      ]
     },
     "metadata": {},
     "output_type": "display_data"
    },
    {
     "data": {
      "text/plain": [
       "'Средний чек группы B: 9230.88'"
      ]
     },
     "metadata": {},
     "output_type": "display_data"
    }
   ],
   "source": [
    "#alpha = .05\n",
    "display('p_value: {0:.3f}'.format(stats.mannwhitneyu(orders[orders['group']=='A']['revenue'], orders[orders['group']=='B']['revenue'])[1]))\n",
    "display('Средний чек группы А: {:.2f}'.format(orders[orders['group']=='A']['revenue'].mean()))\n",
    "display('Средний чек группы B: {:.2f}'.format(orders[orders['group']=='B']['revenue'].mean()))"
   ]
  },
  {
   "cell_type": "markdown",
   "metadata": {},
   "source": [
    "P-value значительно больше 0.05. Значит, причин отвергать нулевую гипотезу и считать, что в среднем чеке есть различия, нет. Впрочем, средний чек группы A значительно ниже среднего чека группы B."
   ]
  },
  {
   "cell_type": "markdown",
   "metadata": {},
   "source": [
    "### Статистическая значимость по «очищенным» данным"
   ]
  },
  {
   "cell_type": "markdown",
   "metadata": {},
   "source": [
    "Для начала необходимо очистить данные. Примем за аномальных пользователей тех, кто кто совершил от 3 заказов или совершил заказ дороже 35000 рублей. Так мы уберём 5% пользователей с наибольшим числом заказов и от 1% до 5% пользователей с дорогими заказами. "
   ]
  },
  {
   "cell_type": "code",
   "execution_count": 27,
   "metadata": {},
   "outputs": [],
   "source": [
    "orders_clean = orders.query('revenue < 35000')\n",
    "orders_by_users_clean = orders_by_users.query('orders < 3')\n",
    "orders_clean = orders_clean.loc[orders_clean['visitor_id'].isin(orders_by_users_clean['visitor_id'])]"
   ]
  },
  {
   "cell_type": "markdown",
   "metadata": {},
   "source": [
    "Используем код из «сырых» данных и применим его к отфильтрованным, для получения выборок"
   ]
  },
  {
   "cell_type": "code",
   "execution_count": 28,
   "metadata": {},
   "outputs": [],
   "source": [
    "new_orders_by_users_A = orders_clean.query('group == \"A\"').groupby('visitor_id')['transaction_id'].nunique().reset_index()\n",
    "new_orders_by_users_A.columns=['visitors_id','orders']\n",
    "new_orders_by_users_B = orders_clean.query('group == \"B\"').groupby('visitor_id')['transaction_id'].nunique().reset_index()\n",
    "new_orders_by_users_B.columns=['visitors_id','orders']\n",
    "\n",
    "new_without_orders_A = pd.Series(0, index=np.arange(visitors_A - len(orders_by_users_A)), name='orders')\n",
    "new_without_orders_B = pd.Series(0, index=np.arange(visitors_B - len(orders_by_users_B)), name='orders')\n",
    "\n",
    "new_sample_A = pd.concat([new_orders_by_users_A['orders'], new_without_orders_A], axis=0)\n",
    "new_sample_B = pd.concat([new_orders_by_users_B['orders'], new_without_orders_B], axis=0)"
   ]
  },
  {
   "cell_type": "markdown",
   "metadata": {},
   "source": [
    "#### Статистическая значимость различий в конверсии между группами по «очищенным» данным"
   ]
  },
  {
   "cell_type": "markdown",
   "metadata": {},
   "source": [
    "Применим критерий Манна-Уитни к отфильтрованным данным и посмотрим на значение средний конверсий\n",
    "\n",
    "Сформулируем нулевую и альтернативную гипотезы:\n",
    "* H0: конверсия группы А и конверсии группы В равны\n",
    "* H1: конверсии групп не равны."
   ]
  },
  {
   "cell_type": "code",
   "execution_count": 29,
   "metadata": {},
   "outputs": [
    {
     "data": {
      "text/plain": [
       "'p_value: 0.00857'"
      ]
     },
     "metadata": {},
     "output_type": "display_data"
    },
    {
     "data": {
      "text/plain": [
       "'Средняя конверсия группы А: 2.5%'"
      ]
     },
     "metadata": {},
     "output_type": "display_data"
    },
    {
     "data": {
      "text/plain": [
       "'Средняя конверсия группы B: 3.0%'"
      ]
     },
     "metadata": {},
     "output_type": "display_data"
    }
   ],
   "source": [
    "#alpha = .05\n",
    "display('p_value: {:.5f}'.format(stats.mannwhitneyu(new_sample_A, new_sample_B)[1]))\n",
    "display('Средняя конверсия группы А: {:.1%}'.format(new_sample_A.mean()))\n",
    "display('Средняя конверсия группы B: {:.1%}'.format(new_sample_B.mean()))"
   ]
  },
  {
   "cell_type": "markdown",
   "metadata": {},
   "source": [
    "По «очищенным» данным конверсии групп не равны.\n",
    "\n",
    "p-value меньше 0.05. Значит, нулевую гипотезу о том, что конверсии групп равны - отвергаем."
   ]
  },
  {
   "cell_type": "markdown",
   "metadata": {},
   "source": [
    "#### Статистическая значимость различий в среднем чеке заказа между группами по «очищенным» данным"
   ]
  },
  {
   "cell_type": "markdown",
   "metadata": {},
   "source": [
    "Сформулируем нулевую и альтернативную гипотезы:\n",
    "* H0: различий в среднем чеке между группами нет\n",
    "* H1: различия в среднем чеке между группами есть."
   ]
  },
  {
   "cell_type": "code",
   "execution_count": 30,
   "metadata": {},
   "outputs": [
    {
     "data": {
      "text/plain": [
       "'p_value: 0.254'"
      ]
     },
     "metadata": {},
     "output_type": "display_data"
    },
    {
     "data": {
      "text/plain": [
       "'Средний чек группы А: 5535.30'"
      ]
     },
     "metadata": {},
     "output_type": "display_data"
    },
    {
     "data": {
      "text/plain": [
       "'Средний чек группы B: 5623.50'"
      ]
     },
     "metadata": {},
     "output_type": "display_data"
    }
   ],
   "source": [
    "#alpha = .05\n",
    "display('p_value: {0:.3f}'.format(stats.mannwhitneyu(orders_clean[orders_clean['group']=='A']['revenue'], orders[orders['group']=='B']['revenue'])[1]))\n",
    "display('Средний чек группы А: {:.2f}'.format(orders_clean[orders_clean['group']=='A']['revenue'].mean()))\n",
    "display('Средний чек группы B: {:.2f}'.format(orders_clean[orders_clean['group']=='B']['revenue'].mean()))"
   ]
  },
  {
   "cell_type": "markdown",
   "metadata": {},
   "source": [
    "P-value значительно больше 0.05. Значит, причин отвергать нулевую гипотезу и считать, что в среднем чеке есть различия, нет. По сравнению с сырыми данными средние чеки групп выровнялись и больше нет такого сильного различия."
   ]
  },
  {
   "cell_type": "markdown",
   "metadata": {},
   "source": [
    "## Вывод"
   ]
  },
  {
   "cell_type": "markdown",
   "metadata": {},
   "source": [
    "В ходе проекта:\n",
    "* была произведена предобработка данных;\n",
    "* произвели приоритизацию гипотез методами ICE и RICE;\n",
    "* проанализировали А/В-тест(построили графики куммулятивной выручки, куммулятивного среднего чека, относительного изменения кумулятивного среднего чека группы B к группе A, кумулятивной конверсии по группам, относительного изменения кумулятивной конверсии группы B к группе A, точечный график стоимостей заказов)\n",
    "* были определены границы для определения аномальных пользователей\n",
    "* посчитаны статистические значимости(различий в среднем чеке заказа между группами по «сырым» и «очищенным» данным, различий в конверсии между группами по «сырым» и «очищенным» данным)\n",
    "\n",
    "По результатам анализа, по отфильтрованным данным была выявлена статистическая значимость в конверсих групп А и В, конверсия группы В выше.\n",
    "\n",
    "В среднем чеке групп А и В не было найдено статистических различий. Однако, средний чек у группы В по отфильтрованным данным чуть выше.\n",
    "\n",
    "На основании полученных данных в течении всего проекта, можно принять решение остановить тест и зафиксировать победу группы В. "
   ]
  }
 ],
 "metadata": {
  "ExecuteTimeLog": [
   {
    "duration": 1315,
    "start_time": "2022-08-10T12:43:29.554Z"
   },
   {
    "duration": 86,
    "start_time": "2022-08-10T12:49:37.118Z"
   },
   {
    "duration": 42,
    "start_time": "2022-08-10T12:49:50.207Z"
   },
   {
    "duration": 36,
    "start_time": "2022-08-10T12:53:41.376Z"
   },
   {
    "duration": 31,
    "start_time": "2022-08-10T12:53:51.744Z"
   },
   {
    "duration": 34,
    "start_time": "2022-08-10T12:54:07.901Z"
   },
   {
    "duration": 113,
    "start_time": "2022-08-10T12:56:09.932Z"
   },
   {
    "duration": 60,
    "start_time": "2022-08-10T12:56:24.573Z"
   },
   {
    "duration": 75,
    "start_time": "2022-08-10T12:57:35.147Z"
   },
   {
    "duration": 58,
    "start_time": "2022-08-10T12:57:42.877Z"
   },
   {
    "duration": 85,
    "start_time": "2022-08-10T13:00:00.945Z"
   },
   {
    "duration": 12,
    "start_time": "2022-08-10T13:00:40.495Z"
   },
   {
    "duration": 97,
    "start_time": "2022-08-10T13:02:00.734Z"
   },
   {
    "duration": 3,
    "start_time": "2022-08-10T13:10:46.734Z"
   },
   {
    "duration": 4,
    "start_time": "2022-08-10T13:10:55.697Z"
   },
   {
    "duration": 6,
    "start_time": "2022-08-10T13:11:08.684Z"
   },
   {
    "duration": 1035,
    "start_time": "2022-08-10T13:12:16.606Z"
   },
   {
    "duration": 107,
    "start_time": "2022-08-10T13:12:17.644Z"
   },
   {
    "duration": 4,
    "start_time": "2022-08-10T13:12:17.753Z"
   },
   {
    "duration": 9,
    "start_time": "2022-08-10T13:12:17.760Z"
   },
   {
    "duration": 6,
    "start_time": "2022-08-10T13:13:19.648Z"
   },
   {
    "duration": 7,
    "start_time": "2022-08-10T13:15:18.767Z"
   },
   {
    "duration": 8,
    "start_time": "2022-08-10T13:15:59.663Z"
   },
   {
    "duration": 8,
    "start_time": "2022-08-10T13:16:15.492Z"
   },
   {
    "duration": 15,
    "start_time": "2022-08-10T13:18:42.661Z"
   },
   {
    "duration": 12,
    "start_time": "2022-08-10T13:22:21.394Z"
   },
   {
    "duration": 13,
    "start_time": "2022-08-10T13:24:18.243Z"
   },
   {
    "duration": 8,
    "start_time": "2022-08-10T13:25:08.388Z"
   },
   {
    "duration": 16,
    "start_time": "2022-08-10T13:25:36.544Z"
   },
   {
    "duration": 6,
    "start_time": "2022-08-10T13:28:39.155Z"
   },
   {
    "duration": 97,
    "start_time": "2022-08-10T13:54:02.339Z"
   },
   {
    "duration": 9,
    "start_time": "2022-08-10T13:54:12.857Z"
   },
   {
    "duration": 12,
    "start_time": "2022-08-10T14:29:46.000Z"
   },
   {
    "duration": 9,
    "start_time": "2022-08-10T14:32:37.624Z"
   },
   {
    "duration": 9,
    "start_time": "2022-08-10T14:39:29.584Z"
   },
   {
    "duration": 7,
    "start_time": "2022-08-10T15:01:59.045Z"
   },
   {
    "duration": 12,
    "start_time": "2022-08-10T15:04:55.462Z"
   },
   {
    "duration": 1057,
    "start_time": "2022-08-10T15:05:20.885Z"
   },
   {
    "duration": 103,
    "start_time": "2022-08-10T15:05:21.944Z"
   },
   {
    "duration": 6,
    "start_time": "2022-08-10T15:05:22.049Z"
   },
   {
    "duration": 16,
    "start_time": "2022-08-10T15:05:22.057Z"
   },
   {
    "duration": 16,
    "start_time": "2022-08-10T15:05:22.075Z"
   },
   {
    "duration": 27,
    "start_time": "2022-08-10T15:05:22.093Z"
   },
   {
    "duration": 15,
    "start_time": "2022-08-10T15:05:22.122Z"
   },
   {
    "duration": 15,
    "start_time": "2022-08-10T15:05:22.139Z"
   },
   {
    "duration": 11,
    "start_time": "2022-08-10T15:05:22.156Z"
   },
   {
    "duration": 14,
    "start_time": "2022-08-10T15:06:18.063Z"
   },
   {
    "duration": 1065,
    "start_time": "2022-08-10T15:06:32.489Z"
   },
   {
    "duration": 97,
    "start_time": "2022-08-10T15:06:33.556Z"
   },
   {
    "duration": 8,
    "start_time": "2022-08-10T15:06:33.655Z"
   },
   {
    "duration": 22,
    "start_time": "2022-08-10T15:06:33.664Z"
   },
   {
    "duration": 11,
    "start_time": "2022-08-10T15:06:33.687Z"
   },
   {
    "duration": 20,
    "start_time": "2022-08-10T15:06:33.699Z"
   },
   {
    "duration": 8,
    "start_time": "2022-08-10T15:06:33.721Z"
   },
   {
    "duration": 12,
    "start_time": "2022-08-10T15:06:33.730Z"
   },
   {
    "duration": 9,
    "start_time": "2022-08-10T15:06:33.743Z"
   },
   {
    "duration": 1258,
    "start_time": "2022-08-11T10:05:27.267Z"
   },
   {
    "duration": 235,
    "start_time": "2022-08-11T10:05:28.527Z"
   },
   {
    "duration": 8,
    "start_time": "2022-08-11T10:05:28.763Z"
   },
   {
    "duration": 29,
    "start_time": "2022-08-11T10:05:28.773Z"
   },
   {
    "duration": 11,
    "start_time": "2022-08-11T10:05:28.804Z"
   },
   {
    "duration": 24,
    "start_time": "2022-08-11T10:05:28.817Z"
   },
   {
    "duration": 10,
    "start_time": "2022-08-11T10:05:28.843Z"
   },
   {
    "duration": 22,
    "start_time": "2022-08-11T10:05:28.854Z"
   },
   {
    "duration": 11,
    "start_time": "2022-08-11T10:05:28.887Z"
   },
   {
    "duration": 15,
    "start_time": "2022-08-11T10:07:27.283Z"
   },
   {
    "duration": 18,
    "start_time": "2022-08-11T10:07:45.073Z"
   },
   {
    "duration": 13,
    "start_time": "2022-08-11T10:07:59.823Z"
   },
   {
    "duration": 12,
    "start_time": "2022-08-11T10:24:07.943Z"
   },
   {
    "duration": 13,
    "start_time": "2022-08-11T10:24:35.878Z"
   },
   {
    "duration": 9,
    "start_time": "2022-08-11T10:27:31.700Z"
   },
   {
    "duration": 10,
    "start_time": "2022-08-11T10:29:42.684Z"
   },
   {
    "duration": 18,
    "start_time": "2022-08-11T10:29:51.321Z"
   },
   {
    "duration": 4,
    "start_time": "2022-08-11T10:32:27.455Z"
   },
   {
    "duration": 10,
    "start_time": "2022-08-11T10:32:55.150Z"
   },
   {
    "duration": 111,
    "start_time": "2022-08-11T10:33:11.327Z"
   },
   {
    "duration": 26,
    "start_time": "2022-08-11T10:33:15.846Z"
   },
   {
    "duration": 6,
    "start_time": "2022-08-11T10:43:51.442Z"
   },
   {
    "duration": 3,
    "start_time": "2022-08-11T10:44:18.634Z"
   },
   {
    "duration": 6,
    "start_time": "2022-08-11T10:44:21.807Z"
   },
   {
    "duration": 1084,
    "start_time": "2022-08-11T10:44:33.371Z"
   },
   {
    "duration": 114,
    "start_time": "2022-08-11T10:44:34.457Z"
   },
   {
    "duration": 7,
    "start_time": "2022-08-11T10:44:34.573Z"
   },
   {
    "duration": 32,
    "start_time": "2022-08-11T10:44:34.582Z"
   },
   {
    "duration": 10,
    "start_time": "2022-08-11T10:44:34.615Z"
   },
   {
    "duration": 15,
    "start_time": "2022-08-11T10:44:34.626Z"
   },
   {
    "duration": 8,
    "start_time": "2022-08-11T10:44:34.642Z"
   },
   {
    "duration": 16,
    "start_time": "2022-08-11T10:44:34.652Z"
   },
   {
    "duration": 32,
    "start_time": "2022-08-11T10:44:34.670Z"
   },
   {
    "duration": 7,
    "start_time": "2022-08-11T10:44:34.704Z"
   },
   {
    "duration": 10,
    "start_time": "2022-08-11T10:44:34.712Z"
   },
   {
    "duration": 5,
    "start_time": "2022-08-11T10:45:24.466Z"
   },
   {
    "duration": 6,
    "start_time": "2022-08-11T10:45:33.699Z"
   },
   {
    "duration": 10,
    "start_time": "2022-08-11T10:45:52.955Z"
   },
   {
    "duration": 12,
    "start_time": "2022-08-11T10:46:59.157Z"
   },
   {
    "duration": 16,
    "start_time": "2022-08-11T10:55:49.850Z"
   },
   {
    "duration": 75,
    "start_time": "2022-08-11T11:05:59.332Z"
   },
   {
    "duration": 302,
    "start_time": "2022-08-11T11:06:11.145Z"
   },
   {
    "duration": 337,
    "start_time": "2022-08-11T11:08:06.318Z"
   },
   {
    "duration": 249,
    "start_time": "2022-08-11T11:10:37.865Z"
   },
   {
    "duration": 238,
    "start_time": "2022-08-11T11:14:50.779Z"
   },
   {
    "duration": 252,
    "start_time": "2022-08-11T11:15:36.669Z"
   },
   {
    "duration": 162,
    "start_time": "2022-08-11T11:15:52.750Z"
   },
   {
    "duration": 187,
    "start_time": "2022-08-11T11:16:23.478Z"
   },
   {
    "duration": 184,
    "start_time": "2022-08-11T11:16:46.610Z"
   },
   {
    "duration": 6,
    "start_time": "2022-08-11T11:18:16.528Z"
   },
   {
    "duration": 187,
    "start_time": "2022-08-11T11:27:06.059Z"
   },
   {
    "duration": 180,
    "start_time": "2022-08-11T11:27:20.975Z"
   },
   {
    "duration": 242,
    "start_time": "2022-08-11T11:36:16.328Z"
   },
   {
    "duration": 351,
    "start_time": "2022-08-11T11:36:39.424Z"
   },
   {
    "duration": 295,
    "start_time": "2022-08-11T11:44:36.300Z"
   },
   {
    "duration": 175,
    "start_time": "2022-08-11T11:46:22.380Z"
   },
   {
    "duration": 162,
    "start_time": "2022-08-11T11:46:51.895Z"
   },
   {
    "duration": 189,
    "start_time": "2022-08-11T11:47:10.988Z"
   },
   {
    "duration": 276,
    "start_time": "2022-08-11T11:53:32.635Z"
   },
   {
    "duration": 269,
    "start_time": "2022-08-11T11:54:33.221Z"
   },
   {
    "duration": 315,
    "start_time": "2022-08-11T11:57:56.500Z"
   },
   {
    "duration": 123,
    "start_time": "2022-08-11T12:02:15.608Z"
   },
   {
    "duration": 125,
    "start_time": "2022-08-11T12:05:30.322Z"
   },
   {
    "duration": 122,
    "start_time": "2022-08-11T12:06:45.015Z"
   },
   {
    "duration": 143,
    "start_time": "2022-08-11T12:08:48.977Z"
   },
   {
    "duration": 121,
    "start_time": "2022-08-11T12:09:57.799Z"
   },
   {
    "duration": 229,
    "start_time": "2022-08-11T12:10:12.750Z"
   },
   {
    "duration": 139,
    "start_time": "2022-08-11T12:10:34.016Z"
   },
   {
    "duration": 11,
    "start_time": "2022-08-11T12:12:49.156Z"
   },
   {
    "duration": 71,
    "start_time": "2022-08-11T12:13:15.166Z"
   },
   {
    "duration": 220,
    "start_time": "2022-08-11T12:13:22.173Z"
   },
   {
    "duration": 351,
    "start_time": "2022-08-11T12:14:36.077Z"
   },
   {
    "duration": 223,
    "start_time": "2022-08-11T12:15:19.487Z"
   },
   {
    "duration": 298,
    "start_time": "2022-08-11T12:15:50.979Z"
   },
   {
    "duration": 195,
    "start_time": "2022-08-11T12:16:22.285Z"
   },
   {
    "duration": 187,
    "start_time": "2022-08-11T12:16:54.913Z"
   },
   {
    "duration": 2,
    "start_time": "2022-08-11T12:17:48.614Z"
   },
   {
    "duration": 219,
    "start_time": "2022-08-11T12:17:52.619Z"
   },
   {
    "duration": 235,
    "start_time": "2022-08-11T12:18:34.062Z"
   },
   {
    "duration": 227,
    "start_time": "2022-08-11T12:18:52.187Z"
   },
   {
    "duration": 105,
    "start_time": "2022-08-11T12:26:48.528Z"
   },
   {
    "duration": 98,
    "start_time": "2022-08-11T12:27:02.259Z"
   },
   {
    "duration": 47,
    "start_time": "2022-08-11T12:27:19.584Z"
   },
   {
    "duration": 216,
    "start_time": "2022-08-11T12:27:35.936Z"
   },
   {
    "duration": 95,
    "start_time": "2022-08-11T12:32:29.710Z"
   },
   {
    "duration": 14,
    "start_time": "2022-08-11T12:32:50.442Z"
   },
   {
    "duration": 1405,
    "start_time": "2022-08-11T12:33:01.459Z"
   },
   {
    "duration": 858,
    "start_time": "2022-08-11T12:33:57.048Z"
   },
   {
    "duration": 266,
    "start_time": "2022-08-11T12:34:56.094Z"
   },
   {
    "duration": 138,
    "start_time": "2022-08-11T12:36:02.910Z"
   },
   {
    "duration": 133,
    "start_time": "2022-08-11T12:36:32.609Z"
   },
   {
    "duration": 130,
    "start_time": "2022-08-11T12:36:55.484Z"
   },
   {
    "duration": 295,
    "start_time": "2022-08-11T12:37:20.610Z"
   },
   {
    "duration": 185,
    "start_time": "2022-08-11T12:37:37.975Z"
   },
   {
    "duration": 300,
    "start_time": "2022-08-11T12:37:54.576Z"
   },
   {
    "duration": 184,
    "start_time": "2022-08-11T12:38:15.537Z"
   },
   {
    "duration": 178,
    "start_time": "2022-08-11T12:38:28.867Z"
   },
   {
    "duration": 1125,
    "start_time": "2022-08-11T12:38:40.759Z"
   },
   {
    "duration": 101,
    "start_time": "2022-08-11T12:38:41.886Z"
   },
   {
    "duration": 8,
    "start_time": "2022-08-11T12:38:41.988Z"
   },
   {
    "duration": 15,
    "start_time": "2022-08-11T12:38:41.997Z"
   },
   {
    "duration": 11,
    "start_time": "2022-08-11T12:38:42.015Z"
   },
   {
    "duration": 17,
    "start_time": "2022-08-11T12:38:42.027Z"
   },
   {
    "duration": 42,
    "start_time": "2022-08-11T12:38:42.046Z"
   },
   {
    "duration": 16,
    "start_time": "2022-08-11T12:38:42.089Z"
   },
   {
    "duration": 10,
    "start_time": "2022-08-11T12:38:42.106Z"
   },
   {
    "duration": 279,
    "start_time": "2022-08-11T12:38:42.118Z"
   },
   {
    "duration": 265,
    "start_time": "2022-08-11T12:38:42.399Z"
   },
   {
    "duration": 184,
    "start_time": "2022-08-11T12:38:42.666Z"
   },
   {
    "duration": 312,
    "start_time": "2022-08-11T12:38:42.852Z"
   },
   {
    "duration": 188,
    "start_time": "2022-08-11T12:38:43.166Z"
   },
   {
    "duration": 314,
    "start_time": "2022-08-11T12:38:43.356Z"
   },
   {
    "duration": 124,
    "start_time": "2022-08-11T12:38:43.672Z"
   },
   {
    "duration": 123,
    "start_time": "2022-08-11T12:42:27.047Z"
   },
   {
    "duration": 5,
    "start_time": "2022-08-11T12:46:37.755Z"
   },
   {
    "duration": 313,
    "start_time": "2022-08-11T13:02:20.415Z"
   },
   {
    "duration": 11,
    "start_time": "2022-08-11T13:03:26.575Z"
   },
   {
    "duration": 138,
    "start_time": "2022-08-11T13:05:03.199Z"
   },
   {
    "duration": 120,
    "start_time": "2022-08-11T13:06:19.756Z"
   },
   {
    "duration": 1114,
    "start_time": "2022-08-11T13:06:43.556Z"
   },
   {
    "duration": 97,
    "start_time": "2022-08-11T13:06:44.672Z"
   },
   {
    "duration": 7,
    "start_time": "2022-08-11T13:06:44.770Z"
   },
   {
    "duration": 15,
    "start_time": "2022-08-11T13:06:44.779Z"
   },
   {
    "duration": 9,
    "start_time": "2022-08-11T13:06:44.795Z"
   },
   {
    "duration": 21,
    "start_time": "2022-08-11T13:06:44.806Z"
   },
   {
    "duration": 6,
    "start_time": "2022-08-11T13:06:44.829Z"
   },
   {
    "duration": 13,
    "start_time": "2022-08-11T13:06:44.837Z"
   },
   {
    "duration": 11,
    "start_time": "2022-08-11T13:06:44.851Z"
   },
   {
    "duration": 277,
    "start_time": "2022-08-11T13:06:44.886Z"
   },
   {
    "duration": 256,
    "start_time": "2022-08-11T13:06:45.165Z"
   },
   {
    "duration": 181,
    "start_time": "2022-08-11T13:06:45.423Z"
   },
   {
    "duration": 270,
    "start_time": "2022-08-11T13:06:45.606Z"
   },
   {
    "duration": 201,
    "start_time": "2022-08-11T13:06:45.886Z"
   },
   {
    "duration": 349,
    "start_time": "2022-08-11T13:06:46.089Z"
   },
   {
    "duration": 134,
    "start_time": "2022-08-11T13:06:46.441Z"
   },
   {
    "duration": 11,
    "start_time": "2022-08-11T13:06:46.576Z"
   },
   {
    "duration": 13,
    "start_time": "2022-08-11T13:06:46.589Z"
   },
   {
    "duration": 148,
    "start_time": "2022-08-11T13:06:46.604Z"
   },
   {
    "duration": 192,
    "start_time": "2022-08-11T13:06:46.754Z"
   },
   {
    "duration": 127,
    "start_time": "2022-08-11T13:14:32.082Z"
   },
   {
    "duration": 5,
    "start_time": "2022-08-11T13:15:04.844Z"
   },
   {
    "duration": 3,
    "start_time": "2022-08-11T13:15:42.666Z"
   },
   {
    "duration": 119,
    "start_time": "2022-08-11T13:16:10.995Z"
   },
   {
    "duration": 138,
    "start_time": "2022-08-11T13:17:53.633Z"
   },
   {
    "duration": 154,
    "start_time": "2022-08-11T13:17:57.083Z"
   },
   {
    "duration": 141,
    "start_time": "2022-08-11T13:18:07.659Z"
   },
   {
    "duration": 112,
    "start_time": "2022-08-11T13:24:29.981Z"
   },
   {
    "duration": 15,
    "start_time": "2022-08-11T13:24:51.786Z"
   },
   {
    "duration": 11,
    "start_time": "2022-08-11T13:25:07.716Z"
   },
   {
    "duration": 123,
    "start_time": "2022-08-11T13:25:22.529Z"
   },
   {
    "duration": 112,
    "start_time": "2022-08-11T13:25:43.677Z"
   },
   {
    "duration": 152,
    "start_time": "2022-08-11T13:28:44.502Z"
   },
   {
    "duration": 1064,
    "start_time": "2022-08-11T13:29:21.408Z"
   },
   {
    "duration": 97,
    "start_time": "2022-08-11T13:29:22.474Z"
   },
   {
    "duration": 7,
    "start_time": "2022-08-11T13:29:22.573Z"
   },
   {
    "duration": 16,
    "start_time": "2022-08-11T13:29:22.582Z"
   },
   {
    "duration": 11,
    "start_time": "2022-08-11T13:29:22.599Z"
   },
   {
    "duration": 16,
    "start_time": "2022-08-11T13:29:22.611Z"
   },
   {
    "duration": 6,
    "start_time": "2022-08-11T13:29:22.629Z"
   },
   {
    "duration": 12,
    "start_time": "2022-08-11T13:29:22.637Z"
   },
   {
    "duration": 45,
    "start_time": "2022-08-11T13:29:22.650Z"
   },
   {
    "duration": 297,
    "start_time": "2022-08-11T13:29:22.698Z"
   },
   {
    "duration": 261,
    "start_time": "2022-08-11T13:29:22.997Z"
   },
   {
    "duration": 179,
    "start_time": "2022-08-11T13:29:23.260Z"
   },
   {
    "duration": 287,
    "start_time": "2022-08-11T13:29:23.441Z"
   },
   {
    "duration": 196,
    "start_time": "2022-08-11T13:29:23.730Z"
   },
   {
    "duration": 278,
    "start_time": "2022-08-11T13:29:23.928Z"
   },
   {
    "duration": 128,
    "start_time": "2022-08-11T13:29:24.208Z"
   },
   {
    "duration": 5,
    "start_time": "2022-08-11T13:29:24.338Z"
   },
   {
    "duration": 145,
    "start_time": "2022-08-11T13:29:24.344Z"
   },
   {
    "duration": 213,
    "start_time": "2022-08-11T13:29:24.491Z"
   },
   {
    "duration": 143,
    "start_time": "2022-08-11T13:30:20.234Z"
   },
   {
    "duration": 142,
    "start_time": "2022-08-11T13:30:29.759Z"
   },
   {
    "duration": 130,
    "start_time": "2022-08-11T13:30:49.882Z"
   },
   {
    "duration": 139,
    "start_time": "2022-08-11T13:31:58.590Z"
   },
   {
    "duration": 135,
    "start_time": "2022-08-11T13:34:45.244Z"
   },
   {
    "duration": 140,
    "start_time": "2022-08-11T13:35:30.125Z"
   },
   {
    "duration": 152,
    "start_time": "2022-08-11T13:35:36.856Z"
   },
   {
    "duration": 147,
    "start_time": "2022-08-11T13:36:53.263Z"
   },
   {
    "duration": 145,
    "start_time": "2022-08-11T13:37:28.324Z"
   },
   {
    "duration": 134,
    "start_time": "2022-08-11T13:38:00.228Z"
   },
   {
    "duration": 5,
    "start_time": "2022-08-11T13:51:29.817Z"
   },
   {
    "duration": 4,
    "start_time": "2022-08-11T13:59:37.476Z"
   },
   {
    "duration": 10,
    "start_time": "2022-08-11T17:41:17.923Z"
   },
   {
    "duration": 7,
    "start_time": "2022-08-11T17:44:01.022Z"
   },
   {
    "duration": 95,
    "start_time": "2022-08-11T17:51:15.915Z"
   },
   {
    "duration": 7,
    "start_time": "2022-08-11T17:51:39.136Z"
   },
   {
    "duration": 5,
    "start_time": "2022-08-11T17:51:41.223Z"
   },
   {
    "duration": 825,
    "start_time": "2022-08-11T17:55:57.609Z"
   },
   {
    "duration": 9,
    "start_time": "2022-08-11T17:57:33.194Z"
   },
   {
    "duration": 10,
    "start_time": "2022-08-11T18:08:17.387Z"
   },
   {
    "duration": 11,
    "start_time": "2022-08-11T18:09:24.838Z"
   },
   {
    "duration": 3,
    "start_time": "2022-08-11T18:09:52.014Z"
   },
   {
    "duration": 10,
    "start_time": "2022-08-11T18:10:02.139Z"
   },
   {
    "duration": 1114,
    "start_time": "2022-08-11T18:10:17.916Z"
   },
   {
    "duration": 110,
    "start_time": "2022-08-11T18:10:19.033Z"
   },
   {
    "duration": 7,
    "start_time": "2022-08-11T18:10:19.145Z"
   },
   {
    "duration": 16,
    "start_time": "2022-08-11T18:10:19.154Z"
   },
   {
    "duration": 10,
    "start_time": "2022-08-11T18:10:19.172Z"
   },
   {
    "duration": 28,
    "start_time": "2022-08-11T18:10:19.183Z"
   },
   {
    "duration": 5,
    "start_time": "2022-08-11T18:10:19.213Z"
   },
   {
    "duration": 12,
    "start_time": "2022-08-11T18:10:19.219Z"
   },
   {
    "duration": 10,
    "start_time": "2022-08-11T18:10:19.233Z"
   },
   {
    "duration": 305,
    "start_time": "2022-08-11T18:10:19.245Z"
   },
   {
    "duration": 288,
    "start_time": "2022-08-11T18:10:19.552Z"
   },
   {
    "duration": 198,
    "start_time": "2022-08-11T18:10:19.841Z"
   },
   {
    "duration": 309,
    "start_time": "2022-08-11T18:10:20.040Z"
   },
   {
    "duration": 211,
    "start_time": "2022-08-11T18:10:20.351Z"
   },
   {
    "duration": 349,
    "start_time": "2022-08-11T18:10:20.563Z"
   },
   {
    "duration": 146,
    "start_time": "2022-08-11T18:10:20.914Z"
   },
   {
    "duration": 6,
    "start_time": "2022-08-11T18:10:21.062Z"
   },
   {
    "duration": 154,
    "start_time": "2022-08-11T18:10:21.070Z"
   },
   {
    "duration": 233,
    "start_time": "2022-08-11T18:10:21.226Z"
   },
   {
    "duration": 5,
    "start_time": "2022-08-11T18:10:21.461Z"
   },
   {
    "duration": 30,
    "start_time": "2022-08-11T18:10:21.467Z"
   },
   {
    "duration": 7,
    "start_time": "2022-08-11T18:10:21.499Z"
   },
   {
    "duration": 7,
    "start_time": "2022-08-11T18:10:21.507Z"
   },
   {
    "duration": 8,
    "start_time": "2022-08-11T18:10:21.515Z"
   },
   {
    "duration": 105,
    "start_time": "2022-08-11T18:10:21.525Z"
   },
   {
    "duration": 12,
    "start_time": "2022-08-11T18:10:54.756Z"
   },
   {
    "duration": 9,
    "start_time": "2022-08-11T18:13:07.116Z"
   },
   {
    "duration": 4,
    "start_time": "2022-08-11T18:13:37.910Z"
   },
   {
    "duration": 1282,
    "start_time": "2022-08-11T18:13:59.907Z"
   },
   {
    "duration": 111,
    "start_time": "2022-08-11T18:14:01.191Z"
   },
   {
    "duration": 6,
    "start_time": "2022-08-11T18:14:01.305Z"
   },
   {
    "duration": 26,
    "start_time": "2022-08-11T18:14:01.313Z"
   },
   {
    "duration": 11,
    "start_time": "2022-08-11T18:14:01.341Z"
   },
   {
    "duration": 38,
    "start_time": "2022-08-11T18:14:01.353Z"
   },
   {
    "duration": 6,
    "start_time": "2022-08-11T18:14:01.393Z"
   },
   {
    "duration": 16,
    "start_time": "2022-08-11T18:14:01.400Z"
   },
   {
    "duration": 13,
    "start_time": "2022-08-11T18:14:01.417Z"
   },
   {
    "duration": 313,
    "start_time": "2022-08-11T18:14:01.432Z"
   },
   {
    "duration": 296,
    "start_time": "2022-08-11T18:14:01.747Z"
   },
   {
    "duration": 195,
    "start_time": "2022-08-11T18:14:02.045Z"
   },
   {
    "duration": 314,
    "start_time": "2022-08-11T18:14:02.242Z"
   },
   {
    "duration": 198,
    "start_time": "2022-08-11T18:14:02.559Z"
   },
   {
    "duration": 341,
    "start_time": "2022-08-11T18:14:02.759Z"
   },
   {
    "duration": 138,
    "start_time": "2022-08-11T18:14:03.102Z"
   },
   {
    "duration": 5,
    "start_time": "2022-08-11T18:14:03.242Z"
   },
   {
    "duration": 159,
    "start_time": "2022-08-11T18:14:03.248Z"
   },
   {
    "duration": 213,
    "start_time": "2022-08-11T18:14:03.409Z"
   },
   {
    "duration": 4,
    "start_time": "2022-08-11T18:14:03.624Z"
   },
   {
    "duration": 27,
    "start_time": "2022-08-11T18:14:03.629Z"
   },
   {
    "duration": 12,
    "start_time": "2022-08-11T18:14:03.657Z"
   },
   {
    "duration": 15,
    "start_time": "2022-08-11T18:14:03.670Z"
   },
   {
    "duration": 14,
    "start_time": "2022-08-11T18:14:03.686Z"
   },
   {
    "duration": 104,
    "start_time": "2022-08-11T18:14:03.701Z"
   },
   {
    "duration": 10,
    "start_time": "2022-08-11T18:15:30.964Z"
   },
   {
    "duration": 14,
    "start_time": "2022-08-11T18:15:37.983Z"
   },
   {
    "duration": 11,
    "start_time": "2022-08-11T18:16:34.183Z"
   },
   {
    "duration": 9,
    "start_time": "2022-08-11T18:19:11.029Z"
   },
   {
    "duration": 8,
    "start_time": "2022-08-11T18:19:19.014Z"
   },
   {
    "duration": 7,
    "start_time": "2022-08-11T18:19:24.694Z"
   },
   {
    "duration": 8,
    "start_time": "2022-08-11T18:19:27.021Z"
   },
   {
    "duration": 10,
    "start_time": "2022-08-11T18:19:38.663Z"
   },
   {
    "duration": 10,
    "start_time": "2022-08-11T18:20:39.509Z"
   },
   {
    "duration": 1218,
    "start_time": "2022-08-11T18:21:05.970Z"
   },
   {
    "duration": 103,
    "start_time": "2022-08-11T18:21:07.190Z"
   },
   {
    "duration": 6,
    "start_time": "2022-08-11T18:21:07.295Z"
   },
   {
    "duration": 16,
    "start_time": "2022-08-11T18:21:07.302Z"
   },
   {
    "duration": 10,
    "start_time": "2022-08-11T18:21:07.319Z"
   },
   {
    "duration": 17,
    "start_time": "2022-08-11T18:21:07.331Z"
   },
   {
    "duration": 37,
    "start_time": "2022-08-11T18:21:07.350Z"
   },
   {
    "duration": 11,
    "start_time": "2022-08-11T18:21:07.389Z"
   },
   {
    "duration": 9,
    "start_time": "2022-08-11T18:21:07.402Z"
   },
   {
    "duration": 307,
    "start_time": "2022-08-11T18:21:07.414Z"
   },
   {
    "duration": 273,
    "start_time": "2022-08-11T18:21:07.722Z"
   },
   {
    "duration": 264,
    "start_time": "2022-08-11T18:21:07.997Z"
   },
   {
    "duration": 339,
    "start_time": "2022-08-11T18:21:08.263Z"
   },
   {
    "duration": 215,
    "start_time": "2022-08-11T18:21:08.604Z"
   },
   {
    "duration": 288,
    "start_time": "2022-08-11T18:21:08.821Z"
   },
   {
    "duration": 137,
    "start_time": "2022-08-11T18:21:09.110Z"
   },
   {
    "duration": 6,
    "start_time": "2022-08-11T18:21:09.249Z"
   },
   {
    "duration": 150,
    "start_time": "2022-08-11T18:21:09.256Z"
   },
   {
    "duration": 217,
    "start_time": "2022-08-11T18:21:09.410Z"
   },
   {
    "duration": 5,
    "start_time": "2022-08-11T18:21:09.629Z"
   },
   {
    "duration": 24,
    "start_time": "2022-08-11T18:21:09.635Z"
   },
   {
    "duration": 13,
    "start_time": "2022-08-11T18:21:09.660Z"
   },
   {
    "duration": 23,
    "start_time": "2022-08-11T18:21:09.675Z"
   },
   {
    "duration": 14,
    "start_time": "2022-08-11T18:21:09.700Z"
   },
   {
    "duration": 101,
    "start_time": "2022-08-11T18:21:09.715Z"
   },
   {
    "duration": 17,
    "start_time": "2022-08-11T18:24:47.158Z"
   },
   {
    "duration": 11,
    "start_time": "2022-08-11T18:24:51.045Z"
   },
   {
    "duration": 5,
    "start_time": "2022-08-11T18:24:54.065Z"
   },
   {
    "duration": 6,
    "start_time": "2022-08-11T18:24:56.689Z"
   },
   {
    "duration": 30,
    "start_time": "2022-08-11T18:26:03.096Z"
   },
   {
    "duration": 11,
    "start_time": "2022-08-11T18:33:09.645Z"
   },
   {
    "duration": 12,
    "start_time": "2022-08-11T18:33:47.114Z"
   },
   {
    "duration": 14,
    "start_time": "2022-08-11T18:34:47.247Z"
   },
   {
    "duration": 1197,
    "start_time": "2022-08-12T14:00:18.364Z"
   },
   {
    "duration": 219,
    "start_time": "2022-08-12T14:00:19.563Z"
   },
   {
    "duration": 6,
    "start_time": "2022-08-12T14:00:19.783Z"
   },
   {
    "duration": 16,
    "start_time": "2022-08-12T14:00:19.791Z"
   },
   {
    "duration": 9,
    "start_time": "2022-08-12T14:00:19.808Z"
   },
   {
    "duration": 16,
    "start_time": "2022-08-12T14:00:19.818Z"
   },
   {
    "duration": 5,
    "start_time": "2022-08-12T14:00:19.835Z"
   },
   {
    "duration": 12,
    "start_time": "2022-08-12T14:00:19.841Z"
   },
   {
    "duration": 9,
    "start_time": "2022-08-12T14:00:19.854Z"
   },
   {
    "duration": 298,
    "start_time": "2022-08-12T14:00:19.865Z"
   },
   {
    "duration": 256,
    "start_time": "2022-08-12T14:00:20.165Z"
   },
   {
    "duration": 189,
    "start_time": "2022-08-12T14:00:20.423Z"
   },
   {
    "duration": 308,
    "start_time": "2022-08-12T14:00:20.614Z"
   },
   {
    "duration": 188,
    "start_time": "2022-08-12T14:00:20.923Z"
   },
   {
    "duration": 296,
    "start_time": "2022-08-12T14:00:21.113Z"
   },
   {
    "duration": 121,
    "start_time": "2022-08-12T14:00:21.410Z"
   },
   {
    "duration": 6,
    "start_time": "2022-08-12T14:00:21.532Z"
   },
   {
    "duration": 153,
    "start_time": "2022-08-12T14:00:21.539Z"
   },
   {
    "duration": 201,
    "start_time": "2022-08-12T14:00:21.694Z"
   },
   {
    "duration": 14,
    "start_time": "2022-08-12T14:00:21.897Z"
   },
   {
    "duration": 14,
    "start_time": "2022-08-12T14:00:21.913Z"
   },
   {
    "duration": 6,
    "start_time": "2022-08-12T14:00:21.929Z"
   },
   {
    "duration": 8,
    "start_time": "2022-08-12T14:00:21.936Z"
   },
   {
    "duration": 7,
    "start_time": "2022-08-12T14:00:21.945Z"
   },
   {
    "duration": 24,
    "start_time": "2022-08-12T14:00:21.953Z"
   },
   {
    "duration": 31,
    "start_time": "2022-08-12T14:00:21.979Z"
   },
   {
    "duration": 1110,
    "start_time": "2022-08-12T14:10:27.396Z"
   },
   {
    "duration": 8,
    "start_time": "2022-08-12T14:12:06.225Z"
   },
   {
    "duration": 9,
    "start_time": "2022-08-12T14:12:44.943Z"
   },
   {
    "duration": 9,
    "start_time": "2022-08-12T14:13:46.591Z"
   },
   {
    "duration": 163,
    "start_time": "2022-08-12T14:13:57.264Z"
   },
   {
    "duration": 9,
    "start_time": "2022-08-12T14:14:28.297Z"
   },
   {
    "duration": 8,
    "start_time": "2022-08-12T14:14:49.004Z"
   },
   {
    "duration": 78,
    "start_time": "2022-08-12T14:14:59.204Z"
   },
   {
    "duration": 75,
    "start_time": "2022-08-12T14:15:15.519Z"
   },
   {
    "duration": 120,
    "start_time": "2022-08-12T14:15:18.703Z"
   },
   {
    "duration": 9,
    "start_time": "2022-08-12T14:15:22.450Z"
   },
   {
    "duration": 11,
    "start_time": "2022-08-12T14:23:33.545Z"
   },
   {
    "duration": 8,
    "start_time": "2022-08-12T14:32:45.589Z"
   },
   {
    "duration": 4,
    "start_time": "2022-08-12T14:33:00.255Z"
   },
   {
    "duration": 8,
    "start_time": "2022-08-12T14:33:23.516Z"
   },
   {
    "duration": 4,
    "start_time": "2022-08-12T14:33:43.009Z"
   },
   {
    "duration": 4,
    "start_time": "2022-08-12T14:33:48.023Z"
   },
   {
    "duration": 4,
    "start_time": "2022-08-12T14:34:07.165Z"
   },
   {
    "duration": 9,
    "start_time": "2022-08-12T14:34:55.301Z"
   },
   {
    "duration": 9,
    "start_time": "2022-08-12T14:42:09.337Z"
   },
   {
    "duration": 4,
    "start_time": "2022-08-12T14:55:22.847Z"
   },
   {
    "duration": 6,
    "start_time": "2022-08-12T14:55:50.234Z"
   },
   {
    "duration": 7,
    "start_time": "2022-08-12T14:56:06.210Z"
   },
   {
    "duration": 4,
    "start_time": "2022-08-12T14:57:15.723Z"
   },
   {
    "duration": 5,
    "start_time": "2022-08-12T15:02:25.439Z"
   },
   {
    "duration": 10,
    "start_time": "2022-08-12T15:05:50.954Z"
   },
   {
    "duration": 9,
    "start_time": "2022-08-12T15:07:09.970Z"
   },
   {
    "duration": 9,
    "start_time": "2022-08-12T15:07:25.778Z"
   },
   {
    "duration": 14,
    "start_time": "2022-08-12T15:07:38.753Z"
   },
   {
    "duration": 9,
    "start_time": "2022-08-12T15:08:02.019Z"
   },
   {
    "duration": 8,
    "start_time": "2022-08-12T15:08:10.544Z"
   },
   {
    "duration": 1081,
    "start_time": "2022-08-12T15:08:53.700Z"
   },
   {
    "duration": 96,
    "start_time": "2022-08-12T15:08:54.783Z"
   },
   {
    "duration": 7,
    "start_time": "2022-08-12T15:08:54.881Z"
   },
   {
    "duration": 16,
    "start_time": "2022-08-12T15:08:54.890Z"
   },
   {
    "duration": 10,
    "start_time": "2022-08-12T15:08:54.907Z"
   },
   {
    "duration": 14,
    "start_time": "2022-08-12T15:08:54.918Z"
   },
   {
    "duration": 10,
    "start_time": "2022-08-12T15:08:54.934Z"
   },
   {
    "duration": 13,
    "start_time": "2022-08-12T15:08:54.946Z"
   },
   {
    "duration": 11,
    "start_time": "2022-08-12T15:08:54.960Z"
   },
   {
    "duration": 303,
    "start_time": "2022-08-12T15:08:54.973Z"
   },
   {
    "duration": 259,
    "start_time": "2022-08-12T15:08:55.278Z"
   },
   {
    "duration": 182,
    "start_time": "2022-08-12T15:08:55.538Z"
   },
   {
    "duration": 304,
    "start_time": "2022-08-12T15:08:55.722Z"
   },
   {
    "duration": 197,
    "start_time": "2022-08-12T15:08:56.028Z"
   },
   {
    "duration": 283,
    "start_time": "2022-08-12T15:08:56.226Z"
   },
   {
    "duration": 133,
    "start_time": "2022-08-12T15:08:56.510Z"
   },
   {
    "duration": 5,
    "start_time": "2022-08-12T15:08:56.645Z"
   },
   {
    "duration": 140,
    "start_time": "2022-08-12T15:08:56.651Z"
   },
   {
    "duration": 205,
    "start_time": "2022-08-12T15:08:56.792Z"
   },
   {
    "duration": 11,
    "start_time": "2022-08-12T15:08:56.998Z"
   },
   {
    "duration": 17,
    "start_time": "2022-08-12T15:08:57.010Z"
   },
   {
    "duration": 8,
    "start_time": "2022-08-12T15:08:57.028Z"
   },
   {
    "duration": 8,
    "start_time": "2022-08-12T15:08:57.037Z"
   },
   {
    "duration": 6,
    "start_time": "2022-08-12T15:08:57.047Z"
   },
   {
    "duration": 27,
    "start_time": "2022-08-12T15:08:57.054Z"
   },
   {
    "duration": 31,
    "start_time": "2022-08-12T15:08:57.082Z"
   },
   {
    "duration": 10,
    "start_time": "2022-08-12T15:08:57.114Z"
   },
   {
    "duration": 7,
    "start_time": "2022-08-12T15:08:57.127Z"
   },
   {
    "duration": 11,
    "start_time": "2022-08-12T15:08:57.135Z"
   },
   {
    "duration": 9,
    "start_time": "2022-08-12T15:09:09.524Z"
   },
   {
    "duration": 6,
    "start_time": "2022-08-12T15:10:52.546Z"
   },
   {
    "duration": 9,
    "start_time": "2022-08-12T15:12:10.446Z"
   },
   {
    "duration": 13,
    "start_time": "2022-08-12T15:14:30.878Z"
   },
   {
    "duration": 9,
    "start_time": "2022-08-12T15:14:57.593Z"
   },
   {
    "duration": 13,
    "start_time": "2022-08-12T15:20:42.335Z"
   },
   {
    "duration": 24,
    "start_time": "2022-08-12T15:21:55.471Z"
   },
   {
    "duration": 89,
    "start_time": "2022-08-12T15:24:14.765Z"
   },
   {
    "duration": 14,
    "start_time": "2022-08-12T15:24:22.144Z"
   },
   {
    "duration": 23,
    "start_time": "2022-08-12T15:24:24.919Z"
   },
   {
    "duration": 11,
    "start_time": "2022-08-12T15:26:15.144Z"
   },
   {
    "duration": 9,
    "start_time": "2022-08-12T15:27:40.595Z"
   },
   {
    "duration": 14,
    "start_time": "2022-08-12T15:27:55.112Z"
   },
   {
    "duration": 24,
    "start_time": "2022-08-12T15:27:58.945Z"
   },
   {
    "duration": 12,
    "start_time": "2022-08-12T15:28:03.790Z"
   },
   {
    "duration": 7,
    "start_time": "2022-08-12T15:29:34.258Z"
   },
   {
    "duration": 1177,
    "start_time": "2022-08-12T16:02:00.695Z"
   },
   {
    "duration": 98,
    "start_time": "2022-08-12T16:02:01.874Z"
   },
   {
    "duration": 7,
    "start_time": "2022-08-12T16:02:01.974Z"
   },
   {
    "duration": 26,
    "start_time": "2022-08-12T16:02:01.983Z"
   },
   {
    "duration": 16,
    "start_time": "2022-08-12T16:02:02.011Z"
   },
   {
    "duration": 22,
    "start_time": "2022-08-12T16:02:02.029Z"
   },
   {
    "duration": 9,
    "start_time": "2022-08-12T16:02:02.052Z"
   },
   {
    "duration": 24,
    "start_time": "2022-08-12T16:02:02.062Z"
   },
   {
    "duration": 10,
    "start_time": "2022-08-12T16:02:02.087Z"
   },
   {
    "duration": 292,
    "start_time": "2022-08-12T16:02:02.110Z"
   },
   {
    "duration": 305,
    "start_time": "2022-08-12T16:02:02.404Z"
   },
   {
    "duration": 199,
    "start_time": "2022-08-12T16:02:02.710Z"
   },
   {
    "duration": 290,
    "start_time": "2022-08-12T16:02:02.910Z"
   },
   {
    "duration": 190,
    "start_time": "2022-08-12T16:02:03.201Z"
   },
   {
    "duration": 307,
    "start_time": "2022-08-12T16:02:03.393Z"
   },
   {
    "duration": 121,
    "start_time": "2022-08-12T16:02:03.708Z"
   },
   {
    "duration": 4,
    "start_time": "2022-08-12T16:02:03.830Z"
   },
   {
    "duration": 151,
    "start_time": "2022-08-12T16:02:03.836Z"
   },
   {
    "duration": 236,
    "start_time": "2022-08-12T16:02:03.988Z"
   },
   {
    "duration": 5,
    "start_time": "2022-08-12T16:02:04.226Z"
   },
   {
    "duration": 14,
    "start_time": "2022-08-12T16:02:04.234Z"
   },
   {
    "duration": 10,
    "start_time": "2022-08-12T16:02:04.250Z"
   },
   {
    "duration": 11,
    "start_time": "2022-08-12T16:02:04.261Z"
   },
   {
    "duration": 14,
    "start_time": "2022-08-12T16:02:04.273Z"
   },
   {
    "duration": 39,
    "start_time": "2022-08-12T16:02:04.289Z"
   },
   {
    "duration": 12,
    "start_time": "2022-08-12T16:02:04.330Z"
   },
   {
    "duration": 8,
    "start_time": "2022-08-12T16:02:04.344Z"
   },
   {
    "duration": 13,
    "start_time": "2022-08-12T16:02:04.358Z"
   },
   {
    "duration": 55,
    "start_time": "2022-08-12T16:02:04.372Z"
   },
   {
    "duration": 11,
    "start_time": "2022-08-12T16:02:04.429Z"
   },
   {
    "duration": 1371,
    "start_time": "2022-08-12T17:03:58.073Z"
   },
   {
    "duration": 241,
    "start_time": "2022-08-12T17:03:59.446Z"
   },
   {
    "duration": 7,
    "start_time": "2022-08-12T17:03:59.689Z"
   },
   {
    "duration": 21,
    "start_time": "2022-08-12T17:03:59.698Z"
   },
   {
    "duration": 9,
    "start_time": "2022-08-12T17:03:59.721Z"
   },
   {
    "duration": 40,
    "start_time": "2022-08-12T17:03:59.731Z"
   },
   {
    "duration": 18,
    "start_time": "2022-08-12T17:03:59.772Z"
   },
   {
    "duration": 21,
    "start_time": "2022-08-12T17:03:59.792Z"
   },
   {
    "duration": 10,
    "start_time": "2022-08-12T17:03:59.814Z"
   },
   {
    "duration": 281,
    "start_time": "2022-08-12T17:03:59.826Z"
   },
   {
    "duration": 294,
    "start_time": "2022-08-12T17:04:00.109Z"
   },
   {
    "duration": 209,
    "start_time": "2022-08-12T17:04:00.406Z"
   },
   {
    "duration": 368,
    "start_time": "2022-08-12T17:04:00.617Z"
   },
   {
    "duration": 214,
    "start_time": "2022-08-12T17:04:00.988Z"
   },
   {
    "duration": 309,
    "start_time": "2022-08-12T17:04:01.203Z"
   },
   {
    "duration": 156,
    "start_time": "2022-08-12T17:04:01.514Z"
   },
   {
    "duration": 5,
    "start_time": "2022-08-12T17:04:01.672Z"
   },
   {
    "duration": 168,
    "start_time": "2022-08-12T17:04:01.679Z"
   },
   {
    "duration": 223,
    "start_time": "2022-08-12T17:04:01.849Z"
   },
   {
    "duration": 5,
    "start_time": "2022-08-12T17:04:02.074Z"
   },
   {
    "duration": 16,
    "start_time": "2022-08-12T17:04:02.080Z"
   },
   {
    "duration": 11,
    "start_time": "2022-08-12T17:04:02.097Z"
   },
   {
    "duration": 10,
    "start_time": "2022-08-12T17:04:02.110Z"
   },
   {
    "duration": 14,
    "start_time": "2022-08-12T17:04:02.122Z"
   },
   {
    "duration": 57,
    "start_time": "2022-08-12T17:04:02.137Z"
   },
   {
    "duration": 12,
    "start_time": "2022-08-12T17:04:02.196Z"
   },
   {
    "duration": 16,
    "start_time": "2022-08-12T17:04:02.209Z"
   },
   {
    "duration": 21,
    "start_time": "2022-08-12T17:04:02.227Z"
   },
   {
    "duration": 37,
    "start_time": "2022-08-12T17:04:02.250Z"
   },
   {
    "duration": 11,
    "start_time": "2022-08-12T17:04:02.289Z"
   },
   {
    "duration": 1135,
    "start_time": "2022-08-12T17:04:31.630Z"
   },
   {
    "duration": 105,
    "start_time": "2022-08-12T17:04:32.769Z"
   },
   {
    "duration": 7,
    "start_time": "2022-08-12T17:04:32.876Z"
   },
   {
    "duration": 19,
    "start_time": "2022-08-12T17:04:32.885Z"
   },
   {
    "duration": 10,
    "start_time": "2022-08-12T17:04:32.906Z"
   },
   {
    "duration": 42,
    "start_time": "2022-08-12T17:04:32.918Z"
   },
   {
    "duration": 13,
    "start_time": "2022-08-12T17:04:32.963Z"
   },
   {
    "duration": 16,
    "start_time": "2022-08-12T17:04:32.978Z"
   },
   {
    "duration": 12,
    "start_time": "2022-08-12T17:04:32.996Z"
   },
   {
    "duration": 347,
    "start_time": "2022-08-12T17:04:33.011Z"
   },
   {
    "duration": 328,
    "start_time": "2022-08-12T17:04:33.362Z"
   },
   {
    "duration": 221,
    "start_time": "2022-08-12T17:04:33.692Z"
   },
   {
    "duration": 360,
    "start_time": "2022-08-12T17:04:33.915Z"
   },
   {
    "duration": 225,
    "start_time": "2022-08-12T17:04:34.277Z"
   },
   {
    "duration": 317,
    "start_time": "2022-08-12T17:04:34.504Z"
   },
   {
    "duration": 161,
    "start_time": "2022-08-12T17:04:34.823Z"
   },
   {
    "duration": 6,
    "start_time": "2022-08-12T17:04:34.986Z"
   },
   {
    "duration": 189,
    "start_time": "2022-08-12T17:04:34.994Z"
   },
   {
    "duration": 297,
    "start_time": "2022-08-12T17:04:35.185Z"
   },
   {
    "duration": 6,
    "start_time": "2022-08-12T17:04:35.484Z"
   },
   {
    "duration": 17,
    "start_time": "2022-08-12T17:04:35.491Z"
   },
   {
    "duration": 10,
    "start_time": "2022-08-12T17:04:35.510Z"
   },
   {
    "duration": 8,
    "start_time": "2022-08-12T17:04:35.523Z"
   },
   {
    "duration": 27,
    "start_time": "2022-08-12T17:04:35.533Z"
   },
   {
    "duration": 33,
    "start_time": "2022-08-12T17:04:35.562Z"
   },
   {
    "duration": 17,
    "start_time": "2022-08-12T17:04:35.597Z"
   },
   {
    "duration": 12,
    "start_time": "2022-08-12T17:04:35.616Z"
   },
   {
    "duration": 17,
    "start_time": "2022-08-12T17:04:35.659Z"
   },
   {
    "duration": 35,
    "start_time": "2022-08-12T17:04:35.679Z"
   },
   {
    "duration": 18,
    "start_time": "2022-08-12T17:04:35.716Z"
   }
  ],
  "kernelspec": {
   "display_name": "Python 3 (ipykernel)",
   "language": "python",
   "name": "python3"
  },
  "language_info": {
   "codemirror_mode": {
    "name": "ipython",
    "version": 3
   },
   "file_extension": ".py",
   "mimetype": "text/x-python",
   "name": "python",
   "nbconvert_exporter": "python",
   "pygments_lexer": "ipython3",
   "version": "3.9.7"
  },
  "toc": {
   "base_numbering": 1,
   "nav_menu": {},
   "number_sections": true,
   "sideBar": true,
   "skip_h1_title": true,
   "title_cell": "Table of Contents",
   "title_sidebar": "Contents",
   "toc_cell": false,
   "toc_position": {},
   "toc_section_display": true,
   "toc_window_display": false
  }
 },
 "nbformat": 4,
 "nbformat_minor": 2
}
