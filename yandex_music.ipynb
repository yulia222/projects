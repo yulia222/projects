{
  "cells": [
    {
      "cell_type": "markdown",
      "metadata": {
        "id": "E0vqbgi9ay0H"
      },
      "source": [
        "# Яндекс.Музыка"
      ]
    },
    {
      "cell_type": "markdown",
      "metadata": {
        "id": "VUC88oWjTJw2"
      },
      "source": [
        "Сравнение Москвы и Петербурга окружено мифами. Например:\n",
        " * Москва — мегаполис, подчинённый жёсткому ритму рабочей недели;\n",
        " * Петербург — культурная столица, со своими вкусами.\n",
        "\n",
        "На данных Яндекс.Музыки вы сравните поведение пользователей двух столиц.\n",
        "\n",
        "**Цель исследования** — проверьте три гипотезы:\n",
        "1. Активность пользователей зависит от дня недели. Причём в Москве и Петербурге это проявляется по-разному.\n",
        "2. В понедельник утром в Москве преобладают одни жанры, а в Петербурге — другие. Так же и вечером пятницы преобладают разные жанры — в зависимости от города. \n",
        "3. Москва и Петербург предпочитают разные жанры музыки. В Москве чаще слушают поп-музыку, в Петербурге — русский рэп.\n",
        "\n",
        "**Ход исследования**\n",
        "\n",
        "Данные о поведении пользователей вы получите из файла `yandex_music_project.csv`. О качестве данных ничего не известно. Поэтому перед проверкой гипотез понадобится обзор данных. \n",
        "\n",
        "Вы проверите данные на ошибки и оцените их влияние на исследование. Затем, на этапе предобработки вы поищете возможность исправить самые критичные ошибки данных.\n",
        " \n",
        "Таким образом, исследование пройдёт в три этапа:\n",
        " 1. Обзор данных.\n",
        " 2. Предобработка данных.\n",
        " 3. Проверка гипотез.\n",
        "\n"
      ]
    },
    {
      "cell_type": "markdown",
      "metadata": {
        "id": "Ml1hmfXC_Zcs"
      },
      "source": [
        "## Обзор данных\n",
        "\n",
        "Составьте первое представление о данных Яндекс.Музыки.\n",
        "\n",
        "\n"
      ]
    },
    {
      "cell_type": "markdown",
      "metadata": {
        "id": "57eAOGIz_Zcs"
      },
      "source": [
        "Основной инструмент аналитика — `pandas`. Импортируйте эту библиотеку."
      ]
    },
    {
      "cell_type": "code",
      "execution_count": null,
      "metadata": {
        "id": "AXN7PHPN_Zcs"
      },
      "outputs": [],
      "source": [
        "import pandas as pd \n",
        "# импорт библиотеки pandas"
      ]
    },
    {
      "cell_type": "markdown",
      "metadata": {
        "id": "SG23P8tt_Zcs"
      },
      "source": [
        "Прочитайте файл `yandex_music_project.csv` из папки `/datasets` и сохраните его в переменной `df`:"
      ]
    },
    {
      "cell_type": "code",
      "execution_count": null,
      "metadata": {
        "id": "fFVu7vqh_Zct"
      },
      "outputs": [],
      "source": [
        "df = pd.read_csv('/datasets/yandex_music_project.csv')\n",
        "# чтение файла с данными и сохранение в df"
      ]
    },
    {
      "cell_type": "markdown",
      "metadata": {
        "id": "rDoOMd3uTqnZ"
      },
      "source": [
        "Выведите на экран первые десять строк таблицы:"
      ]
    },
    {
      "cell_type": "code",
      "execution_count": null,
      "metadata": {
        "id": "oWTVX3gW_Zct",
        "outputId": "8753ea47-1414-45c6-ecbf-9257348fc745"
      },
      "outputs": [
        {
          "data": {
            "text/html": [
              "<div>\n",
              "<style scoped>\n",
              "    .dataframe tbody tr th:only-of-type {\n",
              "        vertical-align: middle;\n",
              "    }\n",
              "\n",
              "    .dataframe tbody tr th {\n",
              "        vertical-align: top;\n",
              "    }\n",
              "\n",
              "    .dataframe thead th {\n",
              "        text-align: right;\n",
              "    }\n",
              "</style>\n",
              "<table border=\"1\" class=\"dataframe\">\n",
              "  <thead>\n",
              "    <tr style=\"text-align: right;\">\n",
              "      <th></th>\n",
              "      <th>userID</th>\n",
              "      <th>Track</th>\n",
              "      <th>artist</th>\n",
              "      <th>genre</th>\n",
              "      <th>City</th>\n",
              "      <th>time</th>\n",
              "      <th>Day</th>\n",
              "    </tr>\n",
              "  </thead>\n",
              "  <tbody>\n",
              "    <tr>\n",
              "      <th>0</th>\n",
              "      <td>FFB692EC</td>\n",
              "      <td>Kamigata To Boots</td>\n",
              "      <td>The Mass Missile</td>\n",
              "      <td>rock</td>\n",
              "      <td>Saint-Petersburg</td>\n",
              "      <td>20:28:33</td>\n",
              "      <td>Wednesday</td>\n",
              "    </tr>\n",
              "    <tr>\n",
              "      <th>1</th>\n",
              "      <td>55204538</td>\n",
              "      <td>Delayed Because of Accident</td>\n",
              "      <td>Andreas Rönnberg</td>\n",
              "      <td>rock</td>\n",
              "      <td>Moscow</td>\n",
              "      <td>14:07:09</td>\n",
              "      <td>Friday</td>\n",
              "    </tr>\n",
              "    <tr>\n",
              "      <th>2</th>\n",
              "      <td>20EC38</td>\n",
              "      <td>Funiculì funiculà</td>\n",
              "      <td>Mario Lanza</td>\n",
              "      <td>pop</td>\n",
              "      <td>Saint-Petersburg</td>\n",
              "      <td>20:58:07</td>\n",
              "      <td>Wednesday</td>\n",
              "    </tr>\n",
              "    <tr>\n",
              "      <th>3</th>\n",
              "      <td>A3DD03C9</td>\n",
              "      <td>Dragons in the Sunset</td>\n",
              "      <td>Fire + Ice</td>\n",
              "      <td>folk</td>\n",
              "      <td>Saint-Petersburg</td>\n",
              "      <td>08:37:09</td>\n",
              "      <td>Monday</td>\n",
              "    </tr>\n",
              "    <tr>\n",
              "      <th>4</th>\n",
              "      <td>E2DC1FAE</td>\n",
              "      <td>Soul People</td>\n",
              "      <td>Space Echo</td>\n",
              "      <td>dance</td>\n",
              "      <td>Moscow</td>\n",
              "      <td>08:34:34</td>\n",
              "      <td>Monday</td>\n",
              "    </tr>\n",
              "    <tr>\n",
              "      <th>5</th>\n",
              "      <td>842029A1</td>\n",
              "      <td>Преданная</td>\n",
              "      <td>IMPERVTOR</td>\n",
              "      <td>rusrap</td>\n",
              "      <td>Saint-Petersburg</td>\n",
              "      <td>13:09:41</td>\n",
              "      <td>Friday</td>\n",
              "    </tr>\n",
              "    <tr>\n",
              "      <th>6</th>\n",
              "      <td>4CB90AA5</td>\n",
              "      <td>True</td>\n",
              "      <td>Roman Messer</td>\n",
              "      <td>dance</td>\n",
              "      <td>Moscow</td>\n",
              "      <td>13:00:07</td>\n",
              "      <td>Wednesday</td>\n",
              "    </tr>\n",
              "    <tr>\n",
              "      <th>7</th>\n",
              "      <td>F03E1C1F</td>\n",
              "      <td>Feeling This Way</td>\n",
              "      <td>Polina Griffith</td>\n",
              "      <td>dance</td>\n",
              "      <td>Moscow</td>\n",
              "      <td>20:47:49</td>\n",
              "      <td>Wednesday</td>\n",
              "    </tr>\n",
              "    <tr>\n",
              "      <th>8</th>\n",
              "      <td>8FA1D3BE</td>\n",
              "      <td>И вновь продолжается бой</td>\n",
              "      <td>NaN</td>\n",
              "      <td>ruspop</td>\n",
              "      <td>Moscow</td>\n",
              "      <td>09:17:40</td>\n",
              "      <td>Friday</td>\n",
              "    </tr>\n",
              "    <tr>\n",
              "      <th>9</th>\n",
              "      <td>E772D5C0</td>\n",
              "      <td>Pessimist</td>\n",
              "      <td>NaN</td>\n",
              "      <td>dance</td>\n",
              "      <td>Saint-Petersburg</td>\n",
              "      <td>21:20:49</td>\n",
              "      <td>Wednesday</td>\n",
              "    </tr>\n",
              "  </tbody>\n",
              "</table>\n",
              "</div>"
            ],
            "text/plain": [
              "     userID                        Track            artist   genre  \\\n",
              "0  FFB692EC            Kamigata To Boots  The Mass Missile    rock   \n",
              "1  55204538  Delayed Because of Accident  Andreas Rönnberg    rock   \n",
              "2    20EC38            Funiculì funiculà       Mario Lanza     pop   \n",
              "3  A3DD03C9        Dragons in the Sunset        Fire + Ice    folk   \n",
              "4  E2DC1FAE                  Soul People        Space Echo   dance   \n",
              "5  842029A1                    Преданная         IMPERVTOR  rusrap   \n",
              "6  4CB90AA5                         True      Roman Messer   dance   \n",
              "7  F03E1C1F             Feeling This Way   Polina Griffith   dance   \n",
              "8  8FA1D3BE     И вновь продолжается бой               NaN  ruspop   \n",
              "9  E772D5C0                    Pessimist               NaN   dance   \n",
              "\n",
              "             City        time        Day  \n",
              "0  Saint-Petersburg  20:28:33  Wednesday  \n",
              "1            Moscow  14:07:09     Friday  \n",
              "2  Saint-Petersburg  20:58:07  Wednesday  \n",
              "3  Saint-Petersburg  08:37:09     Monday  \n",
              "4            Moscow  08:34:34     Monday  \n",
              "5  Saint-Petersburg  13:09:41     Friday  \n",
              "6            Moscow  13:00:07  Wednesday  \n",
              "7            Moscow  20:47:49  Wednesday  \n",
              "8            Moscow  09:17:40     Friday  \n",
              "9  Saint-Petersburg  21:20:49  Wednesday  "
            ]
          },
          "execution_count": 4,
          "metadata": {},
          "output_type": "execute_result"
        }
      ],
      "source": [
        "df.head(10)\n",
        "# получение первых 10 строк таблицы df"
      ]
    },
    {
      "cell_type": "markdown",
      "metadata": {
        "id": "EO73Kwic_Zct"
      },
      "source": [
        "Одной командой получить общую информацию о таблице:"
      ]
    },
    {
      "cell_type": "code",
      "execution_count": null,
      "metadata": {
        "id": "DSf2kIb-_Zct",
        "outputId": "7120b26a-cb32-444a-aef7-e9a3b01d0f79"
      },
      "outputs": [
        {
          "name": "stdout",
          "output_type": "stream",
          "text": [
            "<class 'pandas.core.frame.DataFrame'>\n",
            "RangeIndex: 65079 entries, 0 to 65078\n",
            "Data columns (total 7 columns):\n",
            " #   Column    Non-Null Count  Dtype \n",
            "---  ------    --------------  ----- \n",
            " 0     userID  65079 non-null  object\n",
            " 1   Track     63848 non-null  object\n",
            " 2   artist    57876 non-null  object\n",
            " 3   genre     63881 non-null  object\n",
            " 4     City    65079 non-null  object\n",
            " 5   time      65079 non-null  object\n",
            " 6   Day       65079 non-null  object\n",
            "dtypes: object(7)\n",
            "memory usage: 3.5+ MB\n"
          ]
        }
      ],
      "source": [
        "df.info()\n",
        "# получение общей информации о данных в таблице df"
      ]
    },
    {
      "cell_type": "markdown",
      "metadata": {
        "id": "TaQ2Iwbr_Zct"
      },
      "source": [
        "Итак, в таблице семь столбцов. Тип данных во всех столбцах — `object`.\n",
        "\n",
        "Согласно документации к данным:\n",
        "* `userID` — идентификатор пользователя;\n",
        "* `Track` — название трека;  \n",
        "* `artist` — имя исполнителя;\n",
        "* `genre` — название жанра;\n",
        "* `City` — город пользователя;\n",
        "* `time` — время начала прослушивания;\n",
        "* `Day` — день недели.\n",
        "\n",
        "В названиях колонок видны три нарушения стиля:\n",
        "1. Строчные буквы сочетаются с прописными.\n",
        "2. Встречаются пробелы.\n",
        "3. Названия без змеиного регистра.\n",
        "\n",
        "\n",
        "\n",
        "Количество значений в столбцах различается. Значит, в данных есть пропущенные значения.\n"
      ]
    },
    {
      "cell_type": "markdown",
      "metadata": {
        "id": "MCB6-dXG_Zct"
      },
      "source": [
        "**Выводы**\n",
        "\n",
        "В каждой строке таблицы — данные о прослушанном треке. Часть колонок описывает саму композицию: название, исполнителя и жанр. Остальные данные рассказывают о пользователе: из какого он города, когда он слушал музыку. \n",
        "\n",
        "Предварительно можно утверждать, что, данных достаточно для проверки гипотез. Но встречаются пропуски в данных, а в названиях колонок — расхождения с хорошим стилем.\n",
        "\n",
        "Чтобы двигаться дальше, нужно устранить проблемы в данных."
      ]
    },
    {
      "cell_type": "markdown",
      "metadata": {
        "id": "SjYF6Ub9_Zct"
      },
      "source": [
        "## Предобработка данных\n",
        "Исправьте стиль в заголовках столбцов, исключите пропуски. Затем проверьте данные на дубликаты."
      ]
    },
    {
      "cell_type": "markdown",
      "metadata": {
        "id": "dIaKXr29_Zct"
      },
      "source": [
        "### Стиль заголовков\n",
        "Выведите на экран названия столбцов:"
      ]
    },
    {
      "cell_type": "code",
      "execution_count": null,
      "metadata": {
        "id": "oKOTdF_Q_Zct",
        "outputId": "0fd238b5-8ff3-4ef7-9490-6de79024075c"
      },
      "outputs": [
        {
          "data": {
            "text/plain": [
              "Index(['  userID', 'Track', 'artist', 'genre', '  City  ', 'time', 'Day'], dtype='object')"
            ]
          },
          "execution_count": 5,
          "metadata": {},
          "output_type": "execute_result"
        }
      ],
      "source": [
        "df.columns\n",
        "# перечень названий столбцов таблицы df"
      ]
    },
    {
      "cell_type": "markdown",
      "metadata": {
        "id": "zj5534cv_Zct"
      },
      "source": [
        "Приведите названия в соответствие с хорошим стилем:\n",
        "* несколько слов в названии запишите в «змеином_регистре»,\n",
        "* все символы сделайте строчными,\n",
        "* устраните пробелы.\n",
        "\n",
        "Для этого переименуйте колонки так:\n",
        "* `'  userID'` → `'user_id'`;\n",
        "* `'Track'` → `'track'`;\n",
        "* `'  City  '` → `'city'`;\n",
        "* `'Day'` → `'day'`."
      ]
    },
    {
      "cell_type": "code",
      "execution_count": null,
      "metadata": {
        "id": "ISlFqs5y_Zct"
      },
      "outputs": [],
      "source": [
        "df = df.rename(columns={'  userID':'user_id','Track':'track','  City  ':'city','Day':'day'})\n",
        "# переименование столбцов"
      ]
    },
    {
      "cell_type": "markdown",
      "metadata": {
        "id": "1dqbh00J_Zct"
      },
      "source": [
        "Проверьте результат. Для этого ещё раз выведите на экран названия столбцов:"
      ]
    },
    {
      "cell_type": "code",
      "execution_count": null,
      "metadata": {
        "id": "d4NOAmTW_Zct",
        "outputId": "8284e688-042c-48c7-d878-c9b844cc99d7"
      },
      "outputs": [
        {
          "data": {
            "text/plain": [
              "Index(['user_id', 'track', 'artist', 'genre', 'city', 'time', 'day'], dtype='object')"
            ]
          },
          "execution_count": 7,
          "metadata": {},
          "output_type": "execute_result"
        }
      ],
      "source": [
        "df.columns\n",
        "# проверка результатов - перечень названий столбцов"
      ]
    },
    {
      "cell_type": "markdown",
      "metadata": {
        "id": "5ISfbcfY_Zct"
      },
      "source": [
        "### Пропуски значений\n",
        "Сначала посчитайте, сколько в таблице пропущенных значений. Для этого достаточно двух методов `pandas`:"
      ]
    },
    {
      "cell_type": "code",
      "execution_count": null,
      "metadata": {
        "id": "RskX29qr_Zct",
        "outputId": "a1fb9bf8-032f-44ea-ac14-a0ee85fc5651"
      },
      "outputs": [
        {
          "data": {
            "text/plain": [
              "user_id       0\n",
              "track      1231\n",
              "artist     7203\n",
              "genre      1198\n",
              "city          0\n",
              "time          0\n",
              "day           0\n",
              "dtype: int64"
            ]
          },
          "execution_count": 8,
          "metadata": {},
          "output_type": "execute_result"
        }
      ],
      "source": [
        "df.isna().sum()\n",
        "# подсчёт пропусков"
      ]
    },
    {
      "cell_type": "markdown",
      "metadata": {
        "id": "qubhgnlO_Zct"
      },
      "source": [
        "Не все пропущенные значения влияют на исследование. Так в `track` и `artist` пропуски не важны для вашей работы. Достаточно заменить их явными обозначениями.\n",
        "\n",
        "Но пропуски в `genre` могут помешать сравнению музыкальных вкусов в Москве и Санкт-Петербурге. На практике было бы правильно установить причину пропусков и восстановить данные. Такой возможности нет в учебном проекте. Придётся:\n",
        "* заполнить и эти пропуски явными обозначениями,\n",
        "* оценить, насколько они повредят расчётам. "
      ]
    },
    {
      "cell_type": "markdown",
      "metadata": {
        "id": "fSv2laPA_Zct"
      },
      "source": [
        "Замените пропущенные значения в столбцах `track`, `artist` и `genre` на строку `'unknown'`. Для этого создайте список `columns_to_replace`, переберите его элементы циклом `for` и для каждого столбца выполните замену пропущенных значений:"
      ]
    },
    {
      "cell_type": "code",
      "execution_count": null,
      "metadata": {
        "id": "KplB5qWs_Zct"
      },
      "outputs": [],
      "source": [
        "columns_to_replace = ['track','artist','genre']\n",
        "for element in columns_to_replace:\n",
        "    df[element] = df[element].fillna('unknown')                  \n",
        "# перебор названий столбцов в цикле и замена пропущенных значений на 'unknown'"
      ]
    },
    {
      "cell_type": "markdown",
      "metadata": {
        "id": "Ilsm-MZo_Zct"
      },
      "source": [
        "Убедитесь, что в таблице не осталось пропусков. Для этого ещё раз посчитайте пропущенные значения."
      ]
    },
    {
      "cell_type": "code",
      "execution_count": null,
      "metadata": {
        "id": "Tq4nYRX4_Zct",
        "outputId": "1245af4d-ca8a-465e-bdef-b541b113750a"
      },
      "outputs": [
        {
          "data": {
            "text/plain": [
              "user_id    0\n",
              "track      0\n",
              "artist     0\n",
              "genre      0\n",
              "city       0\n",
              "time       0\n",
              "day        0\n",
              "dtype: int64"
            ]
          },
          "execution_count": 10,
          "metadata": {},
          "output_type": "execute_result"
        }
      ],
      "source": [
        "df.isna().sum()\n",
        "# подсчёт пропусков"
      ]
    },
    {
      "cell_type": "markdown",
      "metadata": {
        "id": "BWKRtBJ3_Zct"
      },
      "source": [
        "### Дубликаты\n",
        "Посчитайте явные дубликаты в таблице одной командой:"
      ]
    },
    {
      "cell_type": "code",
      "execution_count": null,
      "metadata": {
        "id": "36eES_S0_Zct",
        "outputId": "c053d503-56c7-4ccd-fab6-aec32e6fa358"
      },
      "outputs": [
        {
          "data": {
            "text/plain": [
              "3826"
            ]
          },
          "execution_count": 11,
          "metadata": {},
          "output_type": "execute_result"
        }
      ],
      "source": [
        "df.duplicated().sum()\n",
        "# подсчёт явных дубликатов"
      ]
    },
    {
      "cell_type": "markdown",
      "metadata": {
        "id": "Ot25h6XR_Zct"
      },
      "source": [
        "Вызовите специальный метод `pandas`, чтобы удалить явные дубликаты:"
      ]
    },
    {
      "cell_type": "code",
      "execution_count": null,
      "metadata": {
        "id": "exFHq6tt_Zct"
      },
      "outputs": [],
      "source": [
        "df = df.drop_duplicates().reset_index(drop=True)\n",
        "# удаление явных дубликатов (с удалением старых индексов и формированием новых)"
      ]
    },
    {
      "cell_type": "markdown",
      "metadata": {
        "id": "Im2YwBEG_Zct"
      },
      "source": [
        "Ещё раз посчитайте явные дубликаты в таблице — убедитесь, что полностью от них избавились:"
      ]
    },
    {
      "cell_type": "code",
      "execution_count": null,
      "metadata": {
        "id": "-8PuNWQ0_Zct",
        "outputId": "cd7413dc-8f78-4156-8bb5-fb0117925cb3"
      },
      "outputs": [
        {
          "data": {
            "text/plain": [
              "0"
            ]
          },
          "execution_count": 14,
          "metadata": {},
          "output_type": "execute_result"
        }
      ],
      "source": [
        "df.duplicated().sum()\n",
        "# проверка на отсутствие дубликатов"
      ]
    },
    {
      "cell_type": "markdown",
      "metadata": {
        "id": "QlFBsxAr_Zct"
      },
      "source": [
        "Теперь избавьтесь от неявных дубликатов в колонке `genre`. Например, название одного и того же жанра может быть записано немного по-разному. Такие ошибки тоже повлияют на результат исследования."
      ]
    },
    {
      "cell_type": "markdown",
      "metadata": {
        "id": "eSjWwsOh_Zct"
      },
      "source": [
        "Выведите на экран список уникальных названий жанров, отсортированный в алфавитном порядке. Для этого:\n",
        "* извлеките нужный столбец датафрейма, \n",
        "* примените к нему метод сортировки,\n",
        "* для отсортированного столбца вызовите метод, который вернёт уникальные значения из столбца."
      ]
    },
    {
      "cell_type": "code",
      "execution_count": null,
      "metadata": {
        "id": "JIUcqzZN_Zct",
        "outputId": "36504579-0a77-4220-e799-e872e4056b92"
      },
      "outputs": [
        {
          "data": {
            "text/plain": [
              "array(['acid', 'acoustic', 'action', 'adult', 'africa', 'afrikaans',\n",
              "       'alternative', 'alternativepunk', 'ambient', 'americana',\n",
              "       'animated', 'anime', 'arabesk', 'arabic', 'arena',\n",
              "       'argentinetango', 'art', 'audiobook', 'author', 'avantgarde',\n",
              "       'axé', 'baile', 'balkan', 'beats', 'bigroom', 'black', 'bluegrass',\n",
              "       'blues', 'bollywood', 'bossa', 'brazilian', 'breakbeat', 'breaks',\n",
              "       'broadway', 'cantautori', 'cantopop', 'canzone', 'caribbean',\n",
              "       'caucasian', 'celtic', 'chamber', 'chanson', 'children', 'chill',\n",
              "       'chinese', 'choral', 'christian', 'christmas', 'classical',\n",
              "       'classicmetal', 'club', 'colombian', 'comedy', 'conjazz',\n",
              "       'contemporary', 'country', 'cuban', 'dance', 'dancehall',\n",
              "       'dancepop', 'dark', 'death', 'deep', 'deutschrock', 'deutschspr',\n",
              "       'dirty', 'disco', 'dnb', 'documentary', 'downbeat', 'downtempo',\n",
              "       'drum', 'dub', 'dubstep', 'eastern', 'easy', 'electronic',\n",
              "       'electropop', 'emo', 'entehno', 'epicmetal', 'estrada', 'ethnic',\n",
              "       'eurofolk', 'european', 'experimental', 'extrememetal', 'fado',\n",
              "       'fairytail', 'film', 'fitness', 'flamenco', 'folk', 'folklore',\n",
              "       'folkmetal', 'folkrock', 'folktronica', 'forró', 'frankreich',\n",
              "       'französisch', 'french', 'funk', 'future', 'gangsta', 'garage',\n",
              "       'german', 'ghazal', 'gitarre', 'glitch', 'gospel', 'gothic',\n",
              "       'grime', 'grunge', 'gypsy', 'handsup', \"hard'n'heavy\", 'hardcore',\n",
              "       'hardstyle', 'hardtechno', 'hip', 'hip-hop', 'hiphop',\n",
              "       'historisch', 'holiday', 'hop', 'horror', 'house', 'hymn', 'idm',\n",
              "       'independent', 'indian', 'indie', 'indipop', 'industrial',\n",
              "       'inspirational', 'instrumental', 'international', 'irish', 'jam',\n",
              "       'japanese', 'jazz', 'jewish', 'jpop', 'jungle', 'k-pop',\n",
              "       'karadeniz', 'karaoke', 'kayokyoku', 'korean', 'laiko', 'latin',\n",
              "       'latino', 'leftfield', 'local', 'lounge', 'loungeelectronic',\n",
              "       'lovers', 'malaysian', 'mandopop', 'marschmusik', 'meditative',\n",
              "       'mediterranean', 'melodic', 'metal', 'metalcore', 'mexican',\n",
              "       'middle', 'minimal', 'miscellaneous', 'modern', 'mood', 'mpb',\n",
              "       'muslim', 'native', 'neoklassik', 'neue', 'new', 'newage',\n",
              "       'newwave', 'nu', 'nujazz', 'numetal', 'oceania', 'old', 'opera',\n",
              "       'orchestral', 'other', 'piano', 'podcasts', 'pop', 'popdance',\n",
              "       'popelectronic', 'popeurodance', 'poprussian', 'post',\n",
              "       'posthardcore', 'postrock', 'power', 'progmetal', 'progressive',\n",
              "       'psychedelic', 'punjabi', 'punk', 'quebecois', 'ragga', 'ram',\n",
              "       'rancheras', 'rap', 'rave', 'reggae', 'reggaeton', 'regional',\n",
              "       'relax', 'religious', 'retro', 'rhythm', 'rnb', 'rnr', 'rock',\n",
              "       'rockabilly', 'rockalternative', 'rockindie', 'rockother',\n",
              "       'romance', 'roots', 'ruspop', 'rusrap', 'rusrock', 'russian',\n",
              "       'salsa', 'samba', 'scenic', 'schlager', 'self', 'sertanejo',\n",
              "       'shanson', 'shoegazing', 'showtunes', 'singer', 'ska', 'skarock',\n",
              "       'slow', 'smooth', 'soft', 'soul', 'soulful', 'sound', 'soundtrack',\n",
              "       'southern', 'specialty', 'speech', 'spiritual', 'sport',\n",
              "       'stonerrock', 'surf', 'swing', 'synthpop', 'synthrock',\n",
              "       'sängerportrait', 'tango', 'tanzorchester', 'taraftar', 'tatar',\n",
              "       'tech', 'techno', 'teen', 'thrash', 'top', 'traditional',\n",
              "       'tradjazz', 'trance', 'tribal', 'trip', 'triphop', 'tropical',\n",
              "       'türk', 'türkçe', 'ukrrock', 'unknown', 'urban', 'uzbek',\n",
              "       'variété', 'vi', 'videogame', 'vocal', 'western', 'world',\n",
              "       'worldbeat', 'ïîï', 'электроника'], dtype=object)"
            ]
          },
          "execution_count": 15,
          "metadata": {},
          "output_type": "execute_result"
        }
      ],
      "source": [
        "df['genre'].sort_values().unique()\n",
        "# Просмотр уникальных названий жанров"
      ]
    },
    {
      "cell_type": "markdown",
      "metadata": {
        "id": "qej-Qmuo_Zct"
      },
      "source": [
        "Просмотрите список и найдите неявные дубликаты названия `hiphop`. Это могут быть названия с ошибками или альтернативные названия того же жанра.\n",
        "\n",
        "Вы увидите следующие неявные дубликаты:\n",
        "* *hip*,\n",
        "* *hop*,\n",
        "* *hip-hop*.\n",
        "\n",
        "Чтобы очистить от них таблицу, напишите функцию `replace_wrong_genres()` с двумя параметрами: \n",
        "* `wrong_genres` — список дубликатов,\n",
        "* `correct_genre` — строка с правильным значением.\n",
        "\n",
        "Функция должна исправить колонку `genre` в таблице `df`: заменить каждое значение из списка `wrong_genres` на значение из `correct_genre`."
      ]
    },
    {
      "cell_type": "code",
      "execution_count": null,
      "metadata": {
        "id": "ErNDkmns_Zct"
      },
      "outputs": [],
      "source": [
        "def replace_wrong_genres(wrong_genres, correct_genre):\n",
        "    for wrong_genre in wrong_genres:\n",
        "        df['genre'] = df['genre'].replace(wrong_genre,correct_genre)\n",
        "    # Функция для замены неявных дубликатов"
      ]
    },
    {
      "cell_type": "markdown",
      "metadata": {
        "id": "aDoBJxbA_Zct"
      },
      "source": [
        "Вызовите `replace_wrong_genres()` и передайте ей такие аргументы, чтобы она устранила неявные дубликаты: вместо `hip`, `hop` и `hip-hop` в таблице должно быть значение `hiphop`:"
      ]
    },
    {
      "cell_type": "code",
      "execution_count": null,
      "metadata": {
        "id": "YN5i2hpmSo09"
      },
      "outputs": [],
      "source": [
        "duplicates = ['hip','hop','hip-hop']\n",
        "correct_name = 'hiphop'\n",
        "replace_wrong_genres(duplicates, correct_name) # Устранение неявных дубликатов"
      ]
    },
    {
      "cell_type": "markdown",
      "metadata": {
        "id": "zQKF16_RG15m"
      },
      "source": [
        "Проверьте, что заменили неправильные названия:\n",
        "\n",
        "*   hip\n",
        "*   hop\n",
        "*   hip-hop\n",
        "\n",
        "Выведите отсортированный список уникальных значений столбца `genre`:"
      ]
    },
    {
      "cell_type": "code",
      "execution_count": null,
      "metadata": {
        "id": "wvixALnFG15m",
        "outputId": "094d58bb-fc1b-4a8f-e825-0b9a0659f898"
      },
      "outputs": [
        {
          "data": {
            "text/plain": [
              "array(['acid', 'acoustic', 'action', 'adult', 'africa', 'afrikaans',\n",
              "       'alternative', 'alternativepunk', 'ambient', 'americana',\n",
              "       'animated', 'anime', 'arabesk', 'arabic', 'arena',\n",
              "       'argentinetango', 'art', 'audiobook', 'author', 'avantgarde',\n",
              "       'axé', 'baile', 'balkan', 'beats', 'bigroom', 'black', 'bluegrass',\n",
              "       'blues', 'bollywood', 'bossa', 'brazilian', 'breakbeat', 'breaks',\n",
              "       'broadway', 'cantautori', 'cantopop', 'canzone', 'caribbean',\n",
              "       'caucasian', 'celtic', 'chamber', 'chanson', 'children', 'chill',\n",
              "       'chinese', 'choral', 'christian', 'christmas', 'classical',\n",
              "       'classicmetal', 'club', 'colombian', 'comedy', 'conjazz',\n",
              "       'contemporary', 'country', 'cuban', 'dance', 'dancehall',\n",
              "       'dancepop', 'dark', 'death', 'deep', 'deutschrock', 'deutschspr',\n",
              "       'dirty', 'disco', 'dnb', 'documentary', 'downbeat', 'downtempo',\n",
              "       'drum', 'dub', 'dubstep', 'eastern', 'easy', 'electronic',\n",
              "       'electropop', 'emo', 'entehno', 'epicmetal', 'estrada', 'ethnic',\n",
              "       'eurofolk', 'european', 'experimental', 'extrememetal', 'fado',\n",
              "       'fairytail', 'film', 'fitness', 'flamenco', 'folk', 'folklore',\n",
              "       'folkmetal', 'folkrock', 'folktronica', 'forró', 'frankreich',\n",
              "       'französisch', 'french', 'funk', 'future', 'gangsta', 'garage',\n",
              "       'german', 'ghazal', 'gitarre', 'glitch', 'gospel', 'gothic',\n",
              "       'grime', 'grunge', 'gypsy', 'handsup', \"hard'n'heavy\", 'hardcore',\n",
              "       'hardstyle', 'hardtechno', 'hiphop', 'historisch', 'holiday',\n",
              "       'horror', 'house', 'hymn', 'idm', 'independent', 'indian', 'indie',\n",
              "       'indipop', 'industrial', 'inspirational', 'instrumental',\n",
              "       'international', 'irish', 'jam', 'japanese', 'jazz', 'jewish',\n",
              "       'jpop', 'jungle', 'k-pop', 'karadeniz', 'karaoke', 'kayokyoku',\n",
              "       'korean', 'laiko', 'latin', 'latino', 'leftfield', 'local',\n",
              "       'lounge', 'loungeelectronic', 'lovers', 'malaysian', 'mandopop',\n",
              "       'marschmusik', 'meditative', 'mediterranean', 'melodic', 'metal',\n",
              "       'metalcore', 'mexican', 'middle', 'minimal', 'miscellaneous',\n",
              "       'modern', 'mood', 'mpb', 'muslim', 'native', 'neoklassik', 'neue',\n",
              "       'new', 'newage', 'newwave', 'nu', 'nujazz', 'numetal', 'oceania',\n",
              "       'old', 'opera', 'orchestral', 'other', 'piano', 'podcasts', 'pop',\n",
              "       'popdance', 'popelectronic', 'popeurodance', 'poprussian', 'post',\n",
              "       'posthardcore', 'postrock', 'power', 'progmetal', 'progressive',\n",
              "       'psychedelic', 'punjabi', 'punk', 'quebecois', 'ragga', 'ram',\n",
              "       'rancheras', 'rap', 'rave', 'reggae', 'reggaeton', 'regional',\n",
              "       'relax', 'religious', 'retro', 'rhythm', 'rnb', 'rnr', 'rock',\n",
              "       'rockabilly', 'rockalternative', 'rockindie', 'rockother',\n",
              "       'romance', 'roots', 'ruspop', 'rusrap', 'rusrock', 'russian',\n",
              "       'salsa', 'samba', 'scenic', 'schlager', 'self', 'sertanejo',\n",
              "       'shanson', 'shoegazing', 'showtunes', 'singer', 'ska', 'skarock',\n",
              "       'slow', 'smooth', 'soft', 'soul', 'soulful', 'sound', 'soundtrack',\n",
              "       'southern', 'specialty', 'speech', 'spiritual', 'sport',\n",
              "       'stonerrock', 'surf', 'swing', 'synthpop', 'synthrock',\n",
              "       'sängerportrait', 'tango', 'tanzorchester', 'taraftar', 'tatar',\n",
              "       'tech', 'techno', 'teen', 'thrash', 'top', 'traditional',\n",
              "       'tradjazz', 'trance', 'tribal', 'trip', 'triphop', 'tropical',\n",
              "       'türk', 'türkçe', 'ukrrock', 'unknown', 'urban', 'uzbek',\n",
              "       'variété', 'vi', 'videogame', 'vocal', 'western', 'world',\n",
              "       'worldbeat', 'ïîï', 'электроника'], dtype=object)"
            ]
          },
          "execution_count": 18,
          "metadata": {},
          "output_type": "execute_result"
        }
      ],
      "source": [
        "df['genre'].sort_values().unique()# Проверка на неявные дубликаты"
      ]
    },
    {
      "cell_type": "markdown",
      "metadata": {
        "id": "jz6a9-7HQUDd"
      },
      "source": [
        "**Выводы**\n",
        "\n",
        "Предобработка обнаружила три проблемы в данных:\n",
        "\n",
        "- нарушения в стиле заголовков,\n",
        "- пропущенные значения,\n",
        "- дубликаты — явные и неявные.\n",
        "\n",
        "Вы исправили заголовки, чтобы упростить работу с таблицей. Без дубликатов исследование станет более точным.\n",
        "\n",
        "Пропущенные значения вы заменили на `'unknown'`. Ещё предстоит увидеть, не повредят ли исследованию пропуски в колонке `genre`.\n",
        "\n",
        "Теперь можно перейти к проверке гипотез. "
      ]
    },
    {
      "cell_type": "markdown",
      "metadata": {
        "id": "WttZHXH0SqKk"
      },
      "source": [
        "## Проверка гипотез"
      ]
    },
    {
      "cell_type": "markdown",
      "metadata": {
        "id": "Im936VVi_Zcu"
      },
      "source": [
        "### Сравнение поведения пользователей двух столиц"
      ]
    },
    {
      "cell_type": "markdown",
      "metadata": {
        "id": "nwt_MuaL_Zcu"
      },
      "source": [
        "Первая гипотеза утверждает, что пользователи по-разному слушают музыку в Москве и Санкт-Петербурге. Проверьте это предположение по данным о трёх днях недели — понедельнике, среде и пятнице. Для этого:\n",
        "\n",
        "* Разделите пользователей Москвы и Санкт-Петербурга\n",
        "* Сравните, сколько треков послушала каждая группа пользователей в понедельник, среду и пятницу.\n"
      ]
    },
    {
      "cell_type": "markdown",
      "metadata": {
        "id": "8Dw_YMmT_Zcu"
      },
      "source": [
        "Для тренировки сначала выполните каждый из расчётов по отдельности. \n",
        "\n",
        "Оцените активность пользователей в каждом городе. Сгруппируйте данные по городу и посчитайте прослушивания в каждой группе.\n",
        "\n"
      ]
    },
    {
      "cell_type": "code",
      "execution_count": null,
      "metadata": {
        "id": "0_Qs96oh_Zcu",
        "outputId": "30d7b868-9f2b-4074-f810-0929908f37ec"
      },
      "outputs": [
        {
          "data": {
            "text/plain": [
              "city\n",
              "Moscow              42741\n",
              "Saint-Petersburg    18512\n",
              "Name: time, dtype: int64"
            ]
          },
          "execution_count": 19,
          "metadata": {},
          "output_type": "execute_result"
        }
      ],
      "source": [
        "df.groupby('city')['time'].count()\n",
        "# Подсчёт прослушиваний в каждом городе"
      ]
    },
    {
      "cell_type": "markdown",
      "metadata": {
        "id": "dzli3w8o_Zcu"
      },
      "source": [
        "В Москве прослушиваний больше, чем в Петербурге. Из этого не следует, что московские пользователи чаще слушают музыку. Просто самих пользователей в Москве больше.\n",
        "\n",
        "Теперь сгруппируйте данные по дню недели и подсчитайте прослушивания в понедельник, среду и пятницу. Учтите, что в данных есть информация о прослушиваниях только за эти дни.\n"
      ]
    },
    {
      "cell_type": "code",
      "execution_count": null,
      "metadata": {
        "id": "uZMKjiJz_Zcu",
        "outputId": "6178fe3d-3bb8-42c7-cf6c-f7f1803ac0d2"
      },
      "outputs": [
        {
          "data": {
            "text/plain": [
              "day\n",
              "Friday       21840\n",
              "Monday       21354\n",
              "Wednesday    18059\n",
              "Name: time, dtype: int64"
            ]
          },
          "execution_count": 20,
          "metadata": {},
          "output_type": "execute_result"
        }
      ],
      "source": [
        "df.groupby('day')['time'].count()# Подсчёт прослушиваний в каждый из трёх дней"
      ]
    },
    {
      "cell_type": "markdown",
      "metadata": {
        "id": "cC2tNrlL_Zcu"
      },
      "source": [
        "В среднем пользователи из двух городов менее активны по средам. Но картина может измениться, если рассмотреть каждый город в отдельности."
      ]
    },
    {
      "cell_type": "markdown",
      "metadata": {
        "id": "POzs8bGa_Zcu"
      },
      "source": [
        "Вы видели, как работает группировка по городу и по дням недели. Теперь напишите функцию, которая объединит два эти расчёта.\n",
        "\n",
        "Создайте функцию `number_tracks()`, которая посчитает прослушивания для заданного дня и города. Ей понадобятся два параметра:\n",
        "* день недели,\n",
        "* название города.\n",
        "\n",
        "В функции сохраните в переменную строки исходной таблицы, у которых значение:\n",
        "  * в колонке `day` равно параметру `day`,\n",
        "  * в колонке `city` равно параметру `city`.\n",
        "\n",
        "Для этого примените последовательную фильтрацию с логической индексацией.\n",
        "\n",
        "Затем посчитайте значения в столбце `user_id` получившейся таблицы. Результат сохраните в новую переменную. Верните эту переменную из функции."
      ]
    },
    {
      "cell_type": "code",
      "execution_count": null,
      "metadata": {
        "id": "Nz3GdQB1_Zcu"
      },
      "outputs": [],
      "source": [
        "def number_tracks(day, city):\n",
        "    track_list = df[df['day'] == day]\n",
        "    track_list = track_list[track_list['city'] == city]\n",
        "    track_list_count = track_list.count()['user_id']\n",
        "    return track_list_count\n",
        "        \n",
        "# <создание функции number_tracks()>\n",
        "# Объявляется функция с двумя параметрами: day, city.\n",
        "# В переменной track_list сохраняются те строки таблицы df, для которых \n",
        "# значение в столбце 'day' равно параметру day и одновременно значение\n",
        "# в столбце 'city' равно параметру city (используйте последовательную фильтрацию\n",
        "# с помощью логической индексации).\n",
        "# В переменной track_list_count сохраняется число значений столбца 'user_id',\n",
        "# рассчитанное методом count() для таблицы track_list.\n",
        "# Функция возвращает число - значение track_list_count.\n",
        "\n",
        "# Функция для подсчёта прослушиваний для конкретного города и дня.\n",
        "# С помощью последовательной фильтрации с логической индексацией она \n",
        "# сначала получит из исходной таблицы строки с нужным днём,\n",
        "# затем из результата отфильтрует строки с нужным городом,\n",
        "# методом count() посчитает количество значений в колонке user_id. \n",
        "# Это количество функция вернёт в качестве результата"
      ]
    },
    {
      "cell_type": "markdown",
      "metadata": {
        "id": "ytf7xFrFJQ2r"
      },
      "source": [
        "Вызовите `number_tracks()` шесть раз, меняя значение параметров — так, чтобы получить данные для каждого города в каждый из трёх дней."
      ]
    },
    {
      "cell_type": "code",
      "execution_count": null,
      "metadata": {
        "id": "rJcRATNQ_Zcu",
        "outputId": "19aa66ea-ebb8-489c-8f38-98c41ae28dfc"
      },
      "outputs": [
        {
          "data": {
            "text/plain": [
              "15740"
            ]
          },
          "execution_count": 22,
          "metadata": {},
          "output_type": "execute_result"
        }
      ],
      "source": [
        "number_tracks('Monday', 'Moscow')# количество прослушиваний в Москве по понедельникам"
      ]
    },
    {
      "cell_type": "code",
      "execution_count": null,
      "metadata": {
        "id": "hq_ncZ5T_Zcu",
        "outputId": "a0a6cd6c-8e04-4a64-8893-46a1ba7e0e83"
      },
      "outputs": [
        {
          "data": {
            "text/plain": [
              "5614"
            ]
          },
          "execution_count": 23,
          "metadata": {},
          "output_type": "execute_result"
        }
      ],
      "source": [
        "number_tracks('Monday', 'Saint-Petersburg')# количество прослушиваний в Санкт-Петербурге по понедельникам"
      ]
    },
    {
      "cell_type": "code",
      "execution_count": null,
      "metadata": {
        "id": "_NTy2VPU_Zcu",
        "outputId": "129b7fd0-5ade-4267-fd06-2e01f229ebb7"
      },
      "outputs": [
        {
          "data": {
            "text/plain": [
              "11056"
            ]
          },
          "execution_count": 24,
          "metadata": {},
          "output_type": "execute_result"
        }
      ],
      "source": [
        "number_tracks('Wednesday', 'Moscow')# количество прослушиваний в Москве по средам"
      ]
    },
    {
      "cell_type": "code",
      "execution_count": null,
      "metadata": {
        "id": "j2y3TAwo_Zcu",
        "outputId": "0f9853ff-08fe-4373-8f6a-4d0243c65507"
      },
      "outputs": [
        {
          "data": {
            "text/plain": [
              "7003"
            ]
          },
          "execution_count": 25,
          "metadata": {},
          "output_type": "execute_result"
        }
      ],
      "source": [
        "number_tracks('Wednesday', 'Saint-Petersburg')# количество прослушиваний в Санкт-Петербурге по средам"
      ]
    },
    {
      "cell_type": "code",
      "execution_count": null,
      "metadata": {
        "id": "vYDw5u_K_Zcu",
        "outputId": "d97ea249-ae40-44e0-8d59-a2a9d293a148"
      },
      "outputs": [
        {
          "data": {
            "text/plain": [
              "15945"
            ]
          },
          "execution_count": 26,
          "metadata": {},
          "output_type": "execute_result"
        }
      ],
      "source": [
        "number_tracks('Friday', 'Moscow')# количество прослушиваний в Москве по пятницам"
      ]
    },
    {
      "cell_type": "code",
      "execution_count": null,
      "metadata": {
        "id": "8_yzFtW3_Zcu",
        "outputId": "945ca2b0-1fb3-4abd-cc95-5a9e1a52b9df"
      },
      "outputs": [
        {
          "data": {
            "text/plain": [
              "5895"
            ]
          },
          "execution_count": 27,
          "metadata": {},
          "output_type": "execute_result"
        }
      ],
      "source": [
        "number_tracks('Friday', 'Saint-Petersburg')# количество прослушиваний в Санкт-Петербурге по пятницам"
      ]
    },
    {
      "cell_type": "markdown",
      "metadata": {
        "id": "7QXffbO-_Zcu"
      },
      "source": [
        "Создайте c помощью конструктора `pd.DataFrame` таблицу, где\n",
        "* названия колонок — `['city', 'monday', 'wednesday', 'friday']`;\n",
        "* данные — результаты, которые вы получили с помощью `number_tracks`."
      ]
    },
    {
      "cell_type": "code",
      "execution_count": null,
      "metadata": {
        "id": "APAcLpOr_Zcu",
        "outputId": "99518750-f8a4-4b6f-a76f-34b70d8186d9"
      },
      "outputs": [
        {
          "data": {
            "text/html": [
              "<div>\n",
              "<style scoped>\n",
              "    .dataframe tbody tr th:only-of-type {\n",
              "        vertical-align: middle;\n",
              "    }\n",
              "\n",
              "    .dataframe tbody tr th {\n",
              "        vertical-align: top;\n",
              "    }\n",
              "\n",
              "    .dataframe thead th {\n",
              "        text-align: right;\n",
              "    }\n",
              "</style>\n",
              "<table border=\"1\" class=\"dataframe\">\n",
              "  <thead>\n",
              "    <tr style=\"text-align: right;\">\n",
              "      <th></th>\n",
              "      <th>city</th>\n",
              "      <th>monday</th>\n",
              "      <th>wednesday</th>\n",
              "      <th>friday</th>\n",
              "    </tr>\n",
              "  </thead>\n",
              "  <tbody>\n",
              "    <tr>\n",
              "      <th>0</th>\n",
              "      <td>Moscow</td>\n",
              "      <td>15740</td>\n",
              "      <td>11056</td>\n",
              "      <td>15945</td>\n",
              "    </tr>\n",
              "    <tr>\n",
              "      <th>1</th>\n",
              "      <td>Saint-Petersburg</td>\n",
              "      <td>5614</td>\n",
              "      <td>7003</td>\n",
              "      <td>5895</td>\n",
              "    </tr>\n",
              "  </tbody>\n",
              "</table>\n",
              "</div>"
            ],
            "text/plain": [
              "               city  monday  wednesday  friday\n",
              "0            Moscow   15740      11056   15945\n",
              "1  Saint-Petersburg    5614       7003    5895"
            ]
          },
          "metadata": {},
          "output_type": "display_data"
        }
      ],
      "source": [
        "number_tracks_list = [\n",
        "    ['Moscow', 15740, 11056, 15945],\n",
        "    ['Saint-Petersburg', 5614, 7003, 5895]\n",
        "] \n",
        "display(pd.DataFrame(data=number_tracks_list, columns =['city', 'monday', 'wednesday', 'friday']))# Таблица с результатами"
      ]
    },
    {
      "cell_type": "markdown",
      "metadata": {
        "id": "-EgPIHYu_Zcu"
      },
      "source": [
        "**Выводы**\n",
        "\n",
        "Данные показывают разницу поведения пользователей:\n",
        "\n",
        "- В Москве пик прослушиваний приходится на понедельник и пятницу, а в среду заметен спад.\n",
        "- В Петербурге, наоборот, больше слушают музыку по средам. Активность в понедельник и пятницу здесь почти в равной мере уступает среде.\n",
        "\n",
        "Значит, данные говорят в пользу первой гипотезы."
      ]
    },
    {
      "cell_type": "markdown",
      "metadata": {
        "id": "atZAxtq4_Zcu"
      },
      "source": [
        "### Музыка в начале и в конце недели"
      ]
    },
    {
      "cell_type": "markdown",
      "metadata": {
        "id": "eXrQqXFH_Zcu"
      },
      "source": [
        "Согласно второй гипотезе, утром в понедельник в Москве преобладают одни жанры, а в Петербурге — другие. Так же и вечером пятницы преобладают разные жанры — в зависимости от города."
      ]
    },
    {
      "cell_type": "markdown",
      "metadata": {
        "id": "S8UcW6Hw_Zcu"
      },
      "source": [
        "Сохраните таблицы с данными в две переменные:\n",
        "* по Москве — в `moscow_general`;\n",
        "* по Санкт-Петербургу — в `spb_general`."
      ]
    },
    {
      "cell_type": "code",
      "execution_count": null,
      "metadata": {
        "id": "qeaFfM_P_Zcu"
      },
      "outputs": [],
      "source": [
        "moscow_general = df[df['city'] == 'Moscow']\n",
        "# получение таблицы moscow_general из тех строк таблицы df, \n",
        "# для которых значение в столбце 'city' равно 'Moscow'\n"
      ]
    },
    {
      "cell_type": "code",
      "execution_count": null,
      "metadata": {
        "id": "ORaVRKto_Zcu"
      },
      "outputs": [],
      "source": [
        "spb_general = df[df['city'] == 'Saint-Petersburg']# получение таблицы spb_general из тех строк таблицы df,\n",
        "# для которых значение в столбце 'city' равно 'Saint-Petersburg'\n"
      ]
    },
    {
      "cell_type": "markdown",
      "metadata": {
        "id": "MEJV-CX2_Zcu"
      },
      "source": [
        "Создайте функцию `genre_weekday()` с четырьмя параметрами:\n",
        "* таблица (датафрейм) с данными,\n",
        "* день недели,\n",
        "* начальная временная метка в формате 'hh:mm', \n",
        "* последняя временная метка в формате 'hh:mm'.\n",
        "\n",
        "Функция должна вернуть информацию о топ-10 жанров тех треков, которые прослушивали в указанный день, в промежутке между двумя отметками времени."
      ]
    },
    {
      "cell_type": "code",
      "execution_count": null,
      "metadata": {
        "id": "laJT9BYl_Zcu"
      },
      "outputs": [],
      "source": [
        "def genre_weekday(table, day, time1, time2):\n",
        "    genre_df = table[table['day'] == day]\n",
        "    genre_df = genre_df[genre_df['time'] > time1]\n",
        "    genre_df = genre_df[genre_df['time'] < time2]\n",
        "    genre_df_count = genre_df.groupby('genre')['genre'].count()\n",
        "    genre_df_sorted = genre_df_count.sort_values(ascending=False)\n",
        "    return genre_df_sorted.head(10)\n",
        "    # Объявление функции genre_weekday() с параметрами table, day, time1, time2,\n",
        "# которая возвращает информацию о самых популярных жанрах в указанный день в\n",
        "# заданное время:\n",
        "# 1) в переменную genre_df сохраняются те строки переданного датафрейма table, для\n",
        "#    которых одновременно:\n",
        "#    - значение в столбце day равно значению аргумента day\n",
        "#    - значение в столбце time больше значения аргумента time1\n",
        "#    - значение в столбце time меньше значения аргумента time2\n",
        "#    Используйте последовательную фильтрацию с помощью логической индексации.\n",
        "# 2) сгруппировать датафрейм genre_df по столбцу genre, взять один из его\n",
        "#    столбцов и посчитать методом count() количество записей для каждого из\n",
        "#    присутствующих жанров, получившийся Series записать в переменную\n",
        "#    genre_df_count\n",
        "# 3) отсортировать genre_df_count по убыванию встречаемости и сохранить\n",
        "#    в переменную genre_df_sorted\n",
        "# 4) вернуть Series из 10 первых значений genre_df_sorted, это будут топ-10\n",
        "#    популярных жанров (в указанный день, в заданное время)"
      ]
    },
    {
      "cell_type": "markdown",
      "metadata": {
        "id": "la2s2_PF_Zcu"
      },
      "source": [
        "Cравните результаты функции `genre_weekday()` для Москвы и Санкт-Петербурга в понедельник утром (с 7:00 до 11:00) и в пятницу вечером (с 17:00 до 23:00):"
      ]
    },
    {
      "cell_type": "code",
      "execution_count": null,
      "metadata": {
        "id": "yz7itPUQ_Zcu",
        "outputId": "241cc711-2d13-496a-aa6d-ffd9a90a91a7"
      },
      "outputs": [
        {
          "data": {
            "text/plain": [
              "genre\n",
              "pop            781\n",
              "dance          549\n",
              "electronic     480\n",
              "rock           474\n",
              "hiphop         286\n",
              "ruspop         186\n",
              "world          181\n",
              "rusrap         175\n",
              "alternative    164\n",
              "unknown        161\n",
              "Name: genre, dtype: int64"
            ]
          },
          "execution_count": 32,
          "metadata": {},
          "output_type": "execute_result"
        }
      ],
      "source": [
        "genre_weekday(moscow_general, 'Monday', '07:00', '11:00')# вызов функции для утра понедельника в Москве (вместо df — таблица moscow_general)\n",
        "# объекты, хранящие время, являются строками и сравниваются как строки\n",
        "# пример вызова: genre_weekday(moscow_general, 'Monday', '07:00', '11:00')"
      ]
    },
    {
      "cell_type": "code",
      "execution_count": null,
      "metadata": {
        "id": "kwUcHPdy_Zcu",
        "outputId": "223c9513-d60d-4717-cce9-99e9b6f4eda3"
      },
      "outputs": [
        {
          "data": {
            "text/plain": [
              "genre\n",
              "pop            218\n",
              "dance          182\n",
              "rock           162\n",
              "electronic     147\n",
              "hiphop          80\n",
              "ruspop          64\n",
              "alternative     58\n",
              "rusrap          55\n",
              "jazz            44\n",
              "classical       40\n",
              "Name: genre, dtype: int64"
            ]
          },
          "execution_count": 33,
          "metadata": {},
          "output_type": "execute_result"
        }
      ],
      "source": [
        "genre_weekday(spb_general, 'Monday', '07:00', '11:00')# вызов функции для утра понедельника в Петербурге (вместо df — таблица spb_general)"
      ]
    },
    {
      "cell_type": "code",
      "execution_count": null,
      "metadata": {
        "id": "EzXVRE1o_Zcu",
        "outputId": "92da3b9c-cad2-45fa-ed7a-52fa490755d8"
      },
      "outputs": [
        {
          "data": {
            "text/plain": [
              "genre\n",
              "pop            713\n",
              "rock           517\n",
              "dance          495\n",
              "electronic     482\n",
              "hiphop         273\n",
              "world          208\n",
              "ruspop         170\n",
              "alternative    163\n",
              "classical      163\n",
              "rusrap         142\n",
              "Name: genre, dtype: int64"
            ]
          },
          "execution_count": 34,
          "metadata": {},
          "output_type": "execute_result"
        }
      ],
      "source": [
        "genre_weekday(moscow_general, 'Friday', '17:00', '23:00')# вызов функции для вечера пятницы в Москве"
      ]
    },
    {
      "cell_type": "code",
      "execution_count": null,
      "metadata": {
        "id": "JZaEKu5v_Zcu",
        "outputId": "12247f07-cf9d-40f5-b2d5-d36f869391f4"
      },
      "outputs": [
        {
          "data": {
            "text/plain": [
              "genre\n",
              "pop            256\n",
              "electronic     216\n",
              "rock           216\n",
              "dance          210\n",
              "hiphop          97\n",
              "alternative     63\n",
              "jazz            61\n",
              "classical       60\n",
              "rusrap          59\n",
              "world           54\n",
              "Name: genre, dtype: int64"
            ]
          },
          "execution_count": 35,
          "metadata": {},
          "output_type": "execute_result"
        }
      ],
      "source": [
        "genre_weekday(spb_general, 'Friday', '17:00', '23:00')# вызов функции для вечера пятницы в Петербурге"
      ]
    },
    {
      "cell_type": "markdown",
      "metadata": {
        "id": "wrCe4MNX_Zcu"
      },
      "source": [
        "**Выводы**\n",
        "\n",
        "Если сравнить топ-10 жанров в понедельник утром, можно сделать такие выводы:\n",
        "\n",
        "1. В Москве и Петербурге слушают похожую музыку. Единственное отличие — в московский рейтинг вошёл жанр “world”, а в петербургский — джаз и классика.\n",
        "\n",
        "2. В Москве пропущенных значений оказалось так много, что значение `'unknown'` заняло десятое место среди самых популярных жанров. Значит, пропущенные значения занимают существенную долю в данных и угрожают достоверности исследования.\n",
        "\n",
        "Вечер пятницы не меняет эту картину. Некоторые жанры поднимаются немного выше, другие спускаются, но в целом топ-10 остаётся тем же самым.\n",
        "\n",
        "Таким образом, вторая гипотеза подтвердилась лишь частично:\n",
        "* Пользователи слушают похожую музыку в начале недели и в конце.\n",
        "* Разница между Москвой и Петербургом не слишком выражена. В Москве чаще слушают русскую популярную музыку, в Петербурге — джаз.\n",
        "\n",
        "Однако пропуски в данных ставят под сомнение этот результат. В Москве их так много, что рейтинг топ-10 мог бы выглядеть иначе, если бы не утерянные  данные о жанрах."
      ]
    },
    {
      "cell_type": "markdown",
      "metadata": {
        "id": "JolODAqr_Zcu"
      },
      "source": [
        "### Жанровые предпочтения в Москве и Петербурге\n",
        "\n",
        "Гипотеза: Петербург — столица рэпа, музыку этого жанра там слушают чаще, чем в Москве.  А Москва — город контрастов, в котором, тем не менее, преобладает поп-музыка."
      ]
    },
    {
      "cell_type": "markdown",
      "metadata": {
        "id": "DlegSvaT_Zcu"
      },
      "source": [
        "Сгруппируйте таблицу `moscow_general` по жанру и посчитайте прослушивания треков каждого жанра методом `count()`. Затем отсортируйте результат в порядке убывания и сохраните его в таблице `moscow_genres`."
      ]
    },
    {
      "cell_type": "code",
      "execution_count": null,
      "metadata": {
        "id": "r19lIPke_Zcu"
      },
      "outputs": [],
      "source": [
        "moscow_genres = moscow_general.groupby('genre')['genre'].count().sort_values(ascending=False)\n",
        "# одной строкой: группировка таблицы moscow_general по столбцу 'genre', \n",
        "# подсчёт числа значений 'genre' в этой группировке методом count(), \n",
        "# сортировка получившегося Series в порядке убывания и сохранение в moscow_genres"
      ]
    },
    {
      "cell_type": "markdown",
      "metadata": {
        "id": "6kMuomxTiIr8"
      },
      "source": [
        "Выведите на экран первые десять строк `moscow_genres`:"
      ]
    },
    {
      "cell_type": "code",
      "execution_count": null,
      "metadata": {
        "id": "WhCSooF8_Zcv",
        "outputId": "7b4b5c2e-0ce8-4d65-a04a-8c20b9e0b038"
      },
      "outputs": [
        {
          "data": {
            "text/plain": [
              "genre\n",
              "pop            5892\n",
              "dance          4435\n",
              "rock           3965\n",
              "electronic     3786\n",
              "hiphop         2096\n",
              "classical      1616\n",
              "world          1432\n",
              "alternative    1379\n",
              "ruspop         1372\n",
              "rusrap         1161\n",
              "Name: genre, dtype: int64"
            ]
          },
          "execution_count": 37,
          "metadata": {},
          "output_type": "execute_result"
        }
      ],
      "source": [
        "moscow_genres.head(10)# просмотр первых 10 строк moscow_genres"
      ]
    },
    {
      "cell_type": "markdown",
      "metadata": {
        "id": "cnPG2vnN_Zcv"
      },
      "source": [
        "Теперь повторите то же и для Петербурга.\n",
        "\n",
        "Сгруппируйте таблицу `spb_general` по жанру. Посчитайте прослушивания треков каждого жанра. Результат отсортируйте в порядке убывания и сохраните в таблице `spb_genres`:\n"
      ]
    },
    {
      "cell_type": "code",
      "execution_count": null,
      "metadata": {
        "id": "gluLIpE7_Zcv"
      },
      "outputs": [],
      "source": [
        "spb_genres = spb_general.groupby('genre')['genre'].count().sort_values(ascending=False)\n",
        "# одной строкой: группировка таблицы spb_general по столбцу 'genre', \n",
        "# подсчёт числа значений 'genre' в этой группировке методом count(), \n",
        "# сортировка получившегося Series в порядке убывания и сохранение в spb_genres"
      ]
    },
    {
      "cell_type": "markdown",
      "metadata": {
        "id": "5Doha_ODgyQ8"
      },
      "source": [
        "Выведите на экран первые десять строк `spb_genres`:"
      ]
    },
    {
      "cell_type": "code",
      "execution_count": null,
      "metadata": {
        "id": "uaGJHjVU_Zcv",
        "outputId": "2516c8c5-d6f2-46ac-aa8f-ff7b8e167775"
      },
      "outputs": [
        {
          "data": {
            "text/plain": [
              "genre\n",
              "pop            2431\n",
              "dance          1932\n",
              "rock           1879\n",
              "electronic     1736\n",
              "hiphop          960\n",
              "alternative     649\n",
              "classical       646\n",
              "rusrap          564\n",
              "ruspop          538\n",
              "world           515\n",
              "Name: genre, dtype: int64"
            ]
          },
          "execution_count": 39,
          "metadata": {},
          "output_type": "execute_result"
        }
      ],
      "source": [
        "spb_genres.head(10)# просмотр первых 10 строк spb_genres"
      ]
    },
    {
      "cell_type": "markdown",
      "metadata": {
        "id": "RY51YJYu_Zcv"
      },
      "source": [
        "**Выводы**"
      ]
    },
    {
      "cell_type": "markdown",
      "metadata": {
        "id": "nVhnJEm__Zcv"
      },
      "source": [
        "Гипотеза частично подтвердилась:\n",
        "* Поп-музыка — самый популярный жанр в Москве, как и предполагала гипотеза. Более того, в топ-10 жанров встречается близкий жанр — русская популярная музыка.\n",
        "* Вопреки ожиданиям, рэп одинаково популярен в Москве и Петербурге. \n"
      ]
    },
    {
      "cell_type": "markdown",
      "metadata": {
        "id": "ykKQ0N65_Zcv"
      },
      "source": [
        "## Итоги исследования"
      ]
    },
    {
      "cell_type": "markdown",
      "metadata": {
        "id": "tjUwbHb3_Zcv"
      },
      "source": [
        "Вы проверили три гипотезы и установили:\n",
        "\n",
        "1. День недели по-разному влияет на активность пользователей в Москве и Петербурге. \n",
        "\n",
        "Первая гипотеза полностью подтвердилась.\n",
        "\n",
        "2. Музыкальные предпочтения не сильно меняются в течение недели — будь то Москва или Петербург. Небольшие различия заметны в начале недели, по понедельникам:\n",
        "* в Москве слушают музыку жанра “world”,\n",
        "* в Петербурге — джаз и классику.\n",
        "\n",
        "Таким образом, вторая гипотеза подтвердилась лишь отчасти. Этот результат мог оказаться иным, если бы не пропуски в данных.\n",
        "\n",
        "3. Во вкусах пользователей Москвы и Петербурга больше общего чем различий. Вопреки ожиданиям, предпочтения жанров в Петербурге напоминают московские.\n",
        "\n",
        "Третья гипотеза не подтвердилась. Если различия в предпочтениях и существуют, на основной массе пользователей они незаметны.\n",
        "\n",
        "**На практике исследования содержат проверки статистических гипотез.**\n",
        "Из данных одного сервиса не всегда можно сделать вывод о всех жителях города.\n",
        "Проверки статистических гипотез покажут, насколько они достоверны, исходя из имеющихся данных. \n",
        "С методами проверок гипотез вы ещё познакомитесь в следующих темах."
      ]
    }
  ],
  "metadata": {
    "ExecuteTimeLog": [
      {
        "duration": 44,
        "start_time": "2022-04-23T05:57:03.104Z"
      },
      {
        "duration": 5,
        "start_time": "2022-04-23T05:57:36.407Z"
      },
      {
        "duration": 413,
        "start_time": "2022-04-23T05:57:58.339Z"
      },
      {
        "duration": 150,
        "start_time": "2022-04-23T05:58:02.760Z"
      },
      {
        "duration": 153,
        "start_time": "2022-04-23T05:58:07.004Z"
      },
      {
        "duration": 147,
        "start_time": "2022-04-23T05:58:10.410Z"
      },
      {
        "duration": 15,
        "start_time": "2022-04-23T05:58:13.578Z"
      },
      {
        "duration": 29,
        "start_time": "2022-04-23T05:59:39.602Z"
      },
      {
        "duration": 4,
        "start_time": "2022-04-23T06:05:35.521Z"
      },
      {
        "duration": 10,
        "start_time": "2022-04-23T06:14:57.499Z"
      },
      {
        "duration": 4,
        "start_time": "2022-04-23T06:15:14.163Z"
      },
      {
        "duration": 17,
        "start_time": "2022-04-23T06:16:33.846Z"
      },
      {
        "duration": 3,
        "start_time": "2022-04-23T06:17:21.607Z"
      },
      {
        "duration": 25,
        "start_time": "2022-04-23T06:20:54.286Z"
      },
      {
        "duration": 18,
        "start_time": "2022-04-23T06:35:40.307Z"
      },
      {
        "duration": 26,
        "start_time": "2022-04-23T06:35:52.858Z"
      },
      {
        "duration": 29,
        "start_time": "2022-04-23T06:37:35.344Z"
      },
      {
        "duration": 59,
        "start_time": "2022-04-23T06:38:13.247Z"
      },
      {
        "duration": 73,
        "start_time": "2022-04-23T06:40:56.448Z"
      },
      {
        "duration": 60,
        "start_time": "2022-04-23T06:41:09.938Z"
      },
      {
        "duration": 1963,
        "start_time": "2022-04-23T06:49:38.368Z"
      },
      {
        "duration": 1922,
        "start_time": "2022-04-23T06:49:57.068Z"
      },
      {
        "duration": 8,
        "start_time": "2022-04-23T06:50:40.894Z"
      },
      {
        "duration": 10,
        "start_time": "2022-04-23T06:52:17.227Z"
      },
      {
        "duration": 3,
        "start_time": "2022-04-23T07:07:46.174Z"
      },
      {
        "duration": 3,
        "start_time": "2022-04-23T07:09:37.384Z"
      },
      {
        "duration": 9,
        "start_time": "2022-04-23T07:10:28.003Z"
      },
      {
        "duration": 10,
        "start_time": "2022-04-23T07:11:22.904Z"
      },
      {
        "duration": 139,
        "start_time": "2022-04-23T17:50:21.245Z"
      },
      {
        "duration": 101,
        "start_time": "2022-04-23T17:53:21.418Z"
      },
      {
        "duration": 11,
        "start_time": "2022-04-23T17:54:33.567Z"
      },
      {
        "duration": 514,
        "start_time": "2022-04-23T17:55:40.218Z"
      },
      {
        "duration": 213,
        "start_time": "2022-04-23T17:55:42.813Z"
      },
      {
        "duration": 27,
        "start_time": "2022-04-23T17:55:49.727Z"
      },
      {
        "duration": 43,
        "start_time": "2022-04-23T17:55:52.963Z"
      },
      {
        "duration": 7,
        "start_time": "2022-04-23T17:55:59.198Z"
      },
      {
        "duration": 22,
        "start_time": "2022-04-23T17:56:05.310Z"
      },
      {
        "duration": 6,
        "start_time": "2022-04-23T17:56:08.445Z"
      },
      {
        "duration": 55,
        "start_time": "2022-04-23T17:56:11.768Z"
      },
      {
        "duration": 26,
        "start_time": "2022-04-23T17:56:20.823Z"
      },
      {
        "duration": 36,
        "start_time": "2022-04-23T17:56:24.457Z"
      },
      {
        "duration": 100,
        "start_time": "2022-04-23T17:56:27.887Z"
      },
      {
        "duration": 156,
        "start_time": "2022-04-23T17:56:31.240Z"
      },
      {
        "duration": 125,
        "start_time": "2022-04-23T17:56:36.152Z"
      },
      {
        "duration": 20,
        "start_time": "2022-04-23T17:56:40.378Z"
      },
      {
        "duration": 5,
        "start_time": "2022-04-23T17:56:45.538Z"
      },
      {
        "duration": 14,
        "start_time": "2022-04-23T17:56:48.386Z"
      },
      {
        "duration": 18,
        "start_time": "2022-04-23T17:56:51.663Z"
      },
      {
        "duration": 70,
        "start_time": "2022-04-23T17:56:58.791Z"
      },
      {
        "duration": 6,
        "start_time": "2022-04-23T18:04:28.971Z"
      },
      {
        "duration": 6,
        "start_time": "2022-04-23T18:04:45.674Z"
      },
      {
        "duration": 34,
        "start_time": "2022-04-23T18:07:32.952Z"
      },
      {
        "duration": 19,
        "start_time": "2022-04-23T18:10:11.131Z"
      },
      {
        "duration": 502,
        "start_time": "2022-04-24T07:27:43.276Z"
      },
      {
        "duration": 156,
        "start_time": "2022-04-24T07:27:45.726Z"
      },
      {
        "duration": 17,
        "start_time": "2022-04-24T07:27:47.608Z"
      },
      {
        "duration": 48,
        "start_time": "2022-04-24T07:27:52.021Z"
      },
      {
        "duration": 4,
        "start_time": "2022-04-24T07:27:56.404Z"
      },
      {
        "duration": 13,
        "start_time": "2022-04-24T07:27:59.981Z"
      },
      {
        "duration": 4,
        "start_time": "2022-04-24T07:28:02.433Z"
      },
      {
        "duration": 25,
        "start_time": "2022-04-24T07:28:04.996Z"
      },
      {
        "duration": 17,
        "start_time": "2022-04-24T07:28:08.700Z"
      },
      {
        "duration": 24,
        "start_time": "2022-04-24T07:28:10.670Z"
      },
      {
        "duration": 63,
        "start_time": "2022-04-24T07:28:14.249Z"
      },
      {
        "duration": 80,
        "start_time": "2022-04-24T07:28:16.455Z"
      },
      {
        "duration": 95,
        "start_time": "2022-04-24T07:28:18.371Z"
      },
      {
        "duration": 14,
        "start_time": "2022-04-24T07:28:22.528Z"
      },
      {
        "duration": 4,
        "start_time": "2022-04-24T07:28:27.974Z"
      },
      {
        "duration": 11,
        "start_time": "2022-04-24T07:28:32.992Z"
      },
      {
        "duration": 15,
        "start_time": "2022-04-24T07:28:36.040Z"
      },
      {
        "duration": 12,
        "start_time": "2022-04-24T07:28:42.283Z"
      },
      {
        "duration": 12,
        "start_time": "2022-04-24T07:28:45.786Z"
      },
      {
        "duration": 4,
        "start_time": "2022-04-24T07:29:02.836Z"
      },
      {
        "duration": 9,
        "start_time": "2022-04-24T07:29:18.600Z"
      },
      {
        "duration": 11,
        "start_time": "2022-04-24T07:29:36.444Z"
      },
      {
        "duration": 9,
        "start_time": "2022-04-24T07:29:48.293Z"
      },
      {
        "duration": 8,
        "start_time": "2022-04-24T07:29:57.482Z"
      },
      {
        "duration": 9,
        "start_time": "2022-04-24T07:30:09.734Z"
      },
      {
        "duration": 12,
        "start_time": "2022-04-24T07:30:19.256Z"
      },
      {
        "duration": 67,
        "start_time": "2022-04-24T09:04:30.659Z"
      },
      {
        "duration": 9,
        "start_time": "2022-04-24T09:28:22.105Z"
      },
      {
        "duration": 4,
        "start_time": "2022-04-24T09:35:32.523Z"
      },
      {
        "duration": 1098,
        "start_time": "2022-04-24T09:35:37.027Z"
      },
      {
        "duration": 3,
        "start_time": "2022-04-24T09:35:51.861Z"
      },
      {
        "duration": 8,
        "start_time": "2022-04-24T09:35:55.711Z"
      },
      {
        "duration": 2,
        "start_time": "2022-04-24T09:41:03.936Z"
      },
      {
        "duration": 165,
        "start_time": "2022-04-24T09:41:03.940Z"
      },
      {
        "duration": 10,
        "start_time": "2022-04-24T09:41:04.107Z"
      },
      {
        "duration": 58,
        "start_time": "2022-04-24T09:41:04.118Z"
      },
      {
        "duration": 3,
        "start_time": "2022-04-24T09:41:04.178Z"
      },
      {
        "duration": 9,
        "start_time": "2022-04-24T09:41:04.183Z"
      },
      {
        "duration": 4,
        "start_time": "2022-04-24T09:41:04.193Z"
      },
      {
        "duration": 25,
        "start_time": "2022-04-24T09:41:04.198Z"
      },
      {
        "duration": 49,
        "start_time": "2022-04-24T09:41:04.224Z"
      },
      {
        "duration": 24,
        "start_time": "2022-04-24T09:41:04.274Z"
      },
      {
        "duration": 87,
        "start_time": "2022-04-24T09:41:04.300Z"
      },
      {
        "duration": 87,
        "start_time": "2022-04-24T09:41:04.389Z"
      },
      {
        "duration": 53,
        "start_time": "2022-04-24T09:41:04.478Z"
      },
      {
        "duration": 27,
        "start_time": "2022-04-24T09:41:04.533Z"
      },
      {
        "duration": 4,
        "start_time": "2022-04-24T09:41:04.562Z"
      },
      {
        "duration": 14,
        "start_time": "2022-04-24T09:41:04.567Z"
      },
      {
        "duration": 9,
        "start_time": "2022-04-24T09:41:04.582Z"
      },
      {
        "duration": 14,
        "start_time": "2022-04-24T09:41:04.593Z"
      },
      {
        "duration": 11,
        "start_time": "2022-04-24T09:41:04.609Z"
      },
      {
        "duration": 33,
        "start_time": "2022-04-24T09:41:04.622Z"
      },
      {
        "duration": 12,
        "start_time": "2022-04-24T09:41:04.657Z"
      },
      {
        "duration": 10,
        "start_time": "2022-04-24T09:41:04.670Z"
      },
      {
        "duration": 11,
        "start_time": "2022-04-24T09:41:04.681Z"
      },
      {
        "duration": 9,
        "start_time": "2022-04-24T09:41:04.694Z"
      },
      {
        "duration": 8,
        "start_time": "2022-04-24T09:41:04.705Z"
      },
      {
        "duration": 9,
        "start_time": "2022-04-24T09:41:04.715Z"
      },
      {
        "duration": 140,
        "start_time": "2022-04-24T09:41:04.725Z"
      },
      {
        "duration": 0,
        "start_time": "2022-04-24T09:41:04.867Z"
      },
      {
        "duration": 0,
        "start_time": "2022-04-24T09:41:04.868Z"
      },
      {
        "duration": 0,
        "start_time": "2022-04-24T09:41:04.869Z"
      },
      {
        "duration": 0,
        "start_time": "2022-04-24T09:41:04.870Z"
      },
      {
        "duration": 0,
        "start_time": "2022-04-24T09:41:04.872Z"
      },
      {
        "duration": 0,
        "start_time": "2022-04-24T09:41:04.872Z"
      },
      {
        "duration": 0,
        "start_time": "2022-04-24T09:41:04.873Z"
      },
      {
        "duration": 0,
        "start_time": "2022-04-24T09:41:04.874Z"
      },
      {
        "duration": 0,
        "start_time": "2022-04-24T09:41:04.875Z"
      },
      {
        "duration": 0,
        "start_time": "2022-04-24T09:41:04.876Z"
      },
      {
        "duration": 0,
        "start_time": "2022-04-24T09:41:04.877Z"
      },
      {
        "duration": 5,
        "start_time": "2022-04-24T09:59:20.508Z"
      },
      {
        "duration": 8,
        "start_time": "2022-04-24T09:59:23.923Z"
      },
      {
        "duration": 8,
        "start_time": "2022-04-24T09:59:27.417Z"
      },
      {
        "duration": 4,
        "start_time": "2022-04-24T10:00:08.619Z"
      },
      {
        "duration": 8,
        "start_time": "2022-04-24T10:00:11.994Z"
      },
      {
        "duration": 3,
        "start_time": "2022-04-24T10:05:57.193Z"
      },
      {
        "duration": 31,
        "start_time": "2022-04-24T10:06:01.607Z"
      },
      {
        "duration": 4,
        "start_time": "2022-04-24T10:06:14.686Z"
      },
      {
        "duration": 31,
        "start_time": "2022-04-24T10:06:17.898Z"
      },
      {
        "duration": 4,
        "start_time": "2022-04-24T10:06:57.510Z"
      },
      {
        "duration": 1298,
        "start_time": "2022-04-24T10:07:00.839Z"
      },
      {
        "duration": 84,
        "start_time": "2022-04-24T10:15:10.951Z"
      },
      {
        "duration": 4,
        "start_time": "2022-04-24T10:17:08.085Z"
      },
      {
        "duration": 11,
        "start_time": "2022-04-24T10:17:11.164Z"
      },
      {
        "duration": 11,
        "start_time": "2022-04-24T10:17:14.621Z"
      },
      {
        "duration": 5,
        "start_time": "2022-04-24T10:18:44.513Z"
      },
      {
        "duration": 8,
        "start_time": "2022-04-24T10:18:47.065Z"
      },
      {
        "duration": 3,
        "start_time": "2022-04-24T10:25:47.223Z"
      },
      {
        "duration": 8,
        "start_time": "2022-04-24T10:25:50.674Z"
      },
      {
        "duration": 9,
        "start_time": "2022-04-24T10:36:30.143Z"
      },
      {
        "duration": 3,
        "start_time": "2022-04-24T10:37:50.088Z"
      },
      {
        "duration": 162,
        "start_time": "2022-04-24T10:37:50.094Z"
      },
      {
        "duration": 10,
        "start_time": "2022-04-24T10:37:50.258Z"
      },
      {
        "duration": 28,
        "start_time": "2022-04-24T10:37:50.270Z"
      },
      {
        "duration": 4,
        "start_time": "2022-04-24T10:37:50.300Z"
      },
      {
        "duration": 9,
        "start_time": "2022-04-24T10:37:50.305Z"
      },
      {
        "duration": 4,
        "start_time": "2022-04-24T10:37:50.315Z"
      },
      {
        "duration": 28,
        "start_time": "2022-04-24T10:37:50.352Z"
      },
      {
        "duration": 18,
        "start_time": "2022-04-24T10:37:50.381Z"
      },
      {
        "duration": 24,
        "start_time": "2022-04-24T10:37:50.401Z"
      },
      {
        "duration": 86,
        "start_time": "2022-04-24T10:37:50.427Z"
      },
      {
        "duration": 77,
        "start_time": "2022-04-24T10:37:50.515Z"
      },
      {
        "duration": 66,
        "start_time": "2022-04-24T10:37:50.594Z"
      },
      {
        "duration": 9,
        "start_time": "2022-04-24T10:37:50.662Z"
      },
      {
        "duration": 2,
        "start_time": "2022-04-24T10:37:50.673Z"
      },
      {
        "duration": 11,
        "start_time": "2022-04-24T10:37:50.677Z"
      },
      {
        "duration": 9,
        "start_time": "2022-04-24T10:37:50.690Z"
      },
      {
        "duration": 12,
        "start_time": "2022-04-24T10:37:50.700Z"
      },
      {
        "duration": 50,
        "start_time": "2022-04-24T10:37:50.713Z"
      },
      {
        "duration": 3,
        "start_time": "2022-04-24T10:37:50.765Z"
      },
      {
        "duration": 12,
        "start_time": "2022-04-24T10:37:50.769Z"
      },
      {
        "duration": 8,
        "start_time": "2022-04-24T10:37:50.782Z"
      },
      {
        "duration": 10,
        "start_time": "2022-04-24T10:37:50.792Z"
      },
      {
        "duration": 10,
        "start_time": "2022-04-24T10:37:50.804Z"
      },
      {
        "duration": 9,
        "start_time": "2022-04-24T10:37:50.816Z"
      },
      {
        "duration": 24,
        "start_time": "2022-04-24T10:37:50.827Z"
      },
      {
        "duration": 79,
        "start_time": "2022-04-24T10:37:50.852Z"
      },
      {
        "duration": 0,
        "start_time": "2022-04-24T10:37:50.933Z"
      },
      {
        "duration": 0,
        "start_time": "2022-04-24T10:37:50.934Z"
      },
      {
        "duration": 0,
        "start_time": "2022-04-24T10:37:50.935Z"
      },
      {
        "duration": 0,
        "start_time": "2022-04-24T10:37:50.936Z"
      },
      {
        "duration": 0,
        "start_time": "2022-04-24T10:37:50.937Z"
      },
      {
        "duration": 0,
        "start_time": "2022-04-24T10:37:50.938Z"
      },
      {
        "duration": 0,
        "start_time": "2022-04-24T10:37:50.939Z"
      },
      {
        "duration": 0,
        "start_time": "2022-04-24T10:37:50.940Z"
      },
      {
        "duration": 0,
        "start_time": "2022-04-24T10:37:50.941Z"
      },
      {
        "duration": 0,
        "start_time": "2022-04-24T10:37:50.942Z"
      },
      {
        "duration": 0,
        "start_time": "2022-04-24T10:37:50.943Z"
      },
      {
        "duration": 3,
        "start_time": "2022-04-24T10:40:07.738Z"
      },
      {
        "duration": 9,
        "start_time": "2022-04-24T10:40:11.839Z"
      },
      {
        "duration": 2,
        "start_time": "2022-04-24T10:40:28.936Z"
      },
      {
        "duration": 156,
        "start_time": "2022-04-24T10:40:31.727Z"
      },
      {
        "duration": 9,
        "start_time": "2022-04-24T10:40:34.422Z"
      },
      {
        "duration": 29,
        "start_time": "2022-04-24T10:40:38.673Z"
      },
      {
        "duration": 4,
        "start_time": "2022-04-24T10:40:43.089Z"
      },
      {
        "duration": 9,
        "start_time": "2022-04-24T10:40:47.900Z"
      },
      {
        "duration": 4,
        "start_time": "2022-04-24T10:40:50.808Z"
      },
      {
        "duration": 25,
        "start_time": "2022-04-24T10:40:52.962Z"
      },
      {
        "duration": 22,
        "start_time": "2022-04-24T10:40:55.937Z"
      },
      {
        "duration": 25,
        "start_time": "2022-04-24T10:40:59.117Z"
      },
      {
        "duration": 65,
        "start_time": "2022-04-24T10:41:02.610Z"
      },
      {
        "duration": 69,
        "start_time": "2022-04-24T10:41:05.148Z"
      },
      {
        "duration": 61,
        "start_time": "2022-04-24T10:41:07.226Z"
      },
      {
        "duration": 9,
        "start_time": "2022-04-24T10:41:10.906Z"
      },
      {
        "duration": 3,
        "start_time": "2022-04-24T10:41:15.651Z"
      },
      {
        "duration": 9,
        "start_time": "2022-04-24T10:41:18.172Z"
      },
      {
        "duration": 9,
        "start_time": "2022-04-24T10:41:21.261Z"
      },
      {
        "duration": 12,
        "start_time": "2022-04-24T10:41:27.681Z"
      },
      {
        "duration": 12,
        "start_time": "2022-04-24T10:41:32.061Z"
      },
      {
        "duration": 4,
        "start_time": "2022-04-24T10:41:44.702Z"
      },
      {
        "duration": 8,
        "start_time": "2022-04-24T10:41:48.002Z"
      },
      {
        "duration": 7,
        "start_time": "2022-04-24T10:41:50.761Z"
      },
      {
        "duration": 84,
        "start_time": "2022-04-24T10:43:07.160Z"
      },
      {
        "duration": 3,
        "start_time": "2022-04-24T10:44:06.633Z"
      },
      {
        "duration": 8,
        "start_time": "2022-04-24T10:44:10.200Z"
      },
      {
        "duration": 2,
        "start_time": "2022-04-24T10:46:26.342Z"
      },
      {
        "duration": 155,
        "start_time": "2022-04-24T10:46:28.729Z"
      },
      {
        "duration": 10,
        "start_time": "2022-04-24T10:46:31.602Z"
      },
      {
        "duration": 27,
        "start_time": "2022-04-24T10:46:35.198Z"
      },
      {
        "duration": 4,
        "start_time": "2022-04-24T10:46:39.488Z"
      },
      {
        "duration": 8,
        "start_time": "2022-04-24T10:46:42.693Z"
      },
      {
        "duration": 3,
        "start_time": "2022-04-24T10:46:44.798Z"
      },
      {
        "duration": 27,
        "start_time": "2022-04-24T10:46:48.006Z"
      },
      {
        "duration": 18,
        "start_time": "2022-04-24T10:46:51.813Z"
      },
      {
        "duration": 25,
        "start_time": "2022-04-24T10:46:54.572Z"
      },
      {
        "duration": 65,
        "start_time": "2022-04-24T10:46:57.325Z"
      },
      {
        "duration": 76,
        "start_time": "2022-04-24T10:46:59.844Z"
      },
      {
        "duration": 66,
        "start_time": "2022-04-24T10:47:01.530Z"
      },
      {
        "duration": 11,
        "start_time": "2022-04-24T10:47:04.565Z"
      },
      {
        "duration": 3,
        "start_time": "2022-04-24T10:47:08.730Z"
      },
      {
        "duration": 9,
        "start_time": "2022-04-24T10:47:11.176Z"
      },
      {
        "duration": 9,
        "start_time": "2022-04-24T10:47:14.868Z"
      },
      {
        "duration": 12,
        "start_time": "2022-04-24T10:47:20.761Z"
      },
      {
        "duration": 11,
        "start_time": "2022-04-24T10:47:23.904Z"
      },
      {
        "duration": 4,
        "start_time": "2022-04-24T10:47:32.686Z"
      },
      {
        "duration": 8,
        "start_time": "2022-04-24T10:47:36.732Z"
      },
      {
        "duration": 3,
        "start_time": "2022-04-24T11:33:50.720Z"
      },
      {
        "duration": 8,
        "start_time": "2022-04-24T11:33:54.627Z"
      },
      {
        "duration": 9,
        "start_time": "2022-04-24T11:34:04.223Z"
      },
      {
        "duration": 5,
        "start_time": "2022-04-24T11:35:31.073Z"
      },
      {
        "duration": 4,
        "start_time": "2022-04-24T11:35:55.698Z"
      },
      {
        "duration": 9,
        "start_time": "2022-04-24T11:35:59.344Z"
      },
      {
        "duration": 12,
        "start_time": "2022-04-24T11:37:47.908Z"
      },
      {
        "duration": 3,
        "start_time": "2022-04-24T11:41:51.885Z"
      },
      {
        "duration": 11,
        "start_time": "2022-04-24T11:41:54.627Z"
      },
      {
        "duration": 3,
        "start_time": "2022-04-24T11:46:53.145Z"
      },
      {
        "duration": 8,
        "start_time": "2022-04-24T11:46:56.461Z"
      },
      {
        "duration": 9,
        "start_time": "2022-04-24T11:47:02.119Z"
      },
      {
        "duration": 3,
        "start_time": "2022-04-24T11:47:10.540Z"
      },
      {
        "duration": 9,
        "start_time": "2022-04-24T11:47:13.549Z"
      },
      {
        "duration": 5,
        "start_time": "2022-04-24T11:49:28.925Z"
      },
      {
        "duration": 17,
        "start_time": "2022-04-24T11:49:32.213Z"
      },
      {
        "duration": 17,
        "start_time": "2022-04-24T11:51:17.108Z"
      },
      {
        "duration": 17,
        "start_time": "2022-04-24T11:51:19.871Z"
      },
      {
        "duration": 16,
        "start_time": "2022-04-24T11:51:22.323Z"
      },
      {
        "duration": 17,
        "start_time": "2022-04-24T11:51:25.105Z"
      },
      {
        "duration": 16,
        "start_time": "2022-04-24T11:51:27.492Z"
      },
      {
        "duration": 10,
        "start_time": "2022-04-24T12:01:21.478Z"
      },
      {
        "duration": 3,
        "start_time": "2022-04-24T12:07:21.979Z"
      },
      {
        "duration": 21,
        "start_time": "2022-04-24T12:07:25.790Z"
      },
      {
        "duration": 16,
        "start_time": "2022-04-24T12:07:31.977Z"
      },
      {
        "duration": 23,
        "start_time": "2022-04-24T12:07:36.768Z"
      },
      {
        "duration": 22,
        "start_time": "2022-04-24T12:07:39.766Z"
      },
      {
        "duration": 28,
        "start_time": "2022-04-24T12:07:42.863Z"
      },
      {
        "duration": 20,
        "start_time": "2022-04-24T12:07:46.099Z"
      },
      {
        "duration": 10,
        "start_time": "2022-04-24T12:07:50.763Z"
      },
      {
        "duration": 11,
        "start_time": "2022-04-24T13:10:14.220Z"
      },
      {
        "duration": 22,
        "start_time": "2022-04-24T13:10:33.677Z"
      },
      {
        "duration": 12,
        "start_time": "2022-04-24T13:10:48.879Z"
      },
      {
        "duration": 18,
        "start_time": "2022-04-24T13:11:13.355Z"
      },
      {
        "duration": 16,
        "start_time": "2022-04-24T13:11:19.045Z"
      },
      {
        "duration": 4,
        "start_time": "2022-04-24T13:33:41.875Z"
      },
      {
        "duration": 5,
        "start_time": "2022-04-24T13:41:57.316Z"
      },
      {
        "duration": 36,
        "start_time": "2022-04-24T13:44:22.189Z"
      },
      {
        "duration": 6,
        "start_time": "2022-04-24T13:46:39.924Z"
      },
      {
        "duration": 1773,
        "start_time": "2022-04-24T13:46:46.847Z"
      },
      {
        "duration": 4,
        "start_time": "2022-04-24T13:47:07.312Z"
      },
      {
        "duration": 33,
        "start_time": "2022-04-24T13:47:11.557Z"
      },
      {
        "duration": 4,
        "start_time": "2022-04-24T13:47:24.281Z"
      },
      {
        "duration": 23,
        "start_time": "2022-04-24T13:47:27.977Z"
      },
      {
        "duration": 4,
        "start_time": "2022-04-24T13:52:05.095Z"
      },
      {
        "duration": 19,
        "start_time": "2022-04-24T13:52:08.984Z"
      },
      {
        "duration": 17,
        "start_time": "2022-04-24T13:53:21.973Z"
      },
      {
        "duration": 16,
        "start_time": "2022-04-24T13:54:30.873Z"
      },
      {
        "duration": 11,
        "start_time": "2022-04-24T13:54:58.029Z"
      },
      {
        "duration": 11,
        "start_time": "2022-04-24T14:20:54.465Z"
      },
      {
        "duration": 5,
        "start_time": "2022-04-24T14:21:15.021Z"
      },
      {
        "duration": 7,
        "start_time": "2022-04-24T14:22:30.005Z"
      },
      {
        "duration": 5,
        "start_time": "2022-04-24T14:22:42.189Z"
      },
      {
        "duration": 9,
        "start_time": "2022-04-24T14:22:55.465Z"
      },
      {
        "duration": 5,
        "start_time": "2022-04-24T14:23:02.916Z"
      },
      {
        "duration": 6,
        "start_time": "2022-04-24T14:23:52.022Z"
      },
      {
        "duration": 121,
        "start_time": "2022-04-30T20:13:27.408Z"
      },
      {
        "duration": 642,
        "start_time": "2022-04-30T20:13:36.462Z"
      },
      {
        "duration": 289,
        "start_time": "2022-04-30T20:13:37.107Z"
      },
      {
        "duration": 35,
        "start_time": "2022-04-30T20:13:37.398Z"
      },
      {
        "duration": 50,
        "start_time": "2022-04-30T20:13:37.437Z"
      },
      {
        "duration": 63,
        "start_time": "2022-04-30T20:13:37.490Z"
      },
      {
        "duration": 27,
        "start_time": "2022-04-30T20:13:37.555Z"
      },
      {
        "duration": 20,
        "start_time": "2022-04-30T20:13:37.586Z"
      },
      {
        "duration": 9,
        "start_time": "2022-04-30T20:13:37.609Z"
      },
      {
        "duration": 63,
        "start_time": "2022-04-30T20:13:37.620Z"
      },
      {
        "duration": 26,
        "start_time": "2022-04-30T20:13:37.688Z"
      },
      {
        "duration": 36,
        "start_time": "2022-04-30T20:13:37.716Z"
      },
      {
        "duration": 114,
        "start_time": "2022-04-30T20:13:37.782Z"
      },
      {
        "duration": 173,
        "start_time": "2022-04-30T20:13:37.899Z"
      },
      {
        "duration": 140,
        "start_time": "2022-04-30T20:13:38.075Z"
      },
      {
        "duration": 21,
        "start_time": "2022-04-30T20:13:38.218Z"
      },
      {
        "duration": 5,
        "start_time": "2022-04-30T20:13:38.241Z"
      },
      {
        "duration": 47,
        "start_time": "2022-04-30T20:13:38.248Z"
      },
      {
        "duration": 22,
        "start_time": "2022-04-30T20:13:38.297Z"
      },
      {
        "duration": 24,
        "start_time": "2022-04-30T20:13:38.322Z"
      },
      {
        "duration": 53,
        "start_time": "2022-04-30T20:13:38.349Z"
      },
      {
        "duration": 7,
        "start_time": "2022-04-30T20:13:38.405Z"
      },
      {
        "duration": 68,
        "start_time": "2022-04-30T20:13:38.415Z"
      },
      {
        "duration": 39,
        "start_time": "2022-04-30T20:13:38.486Z"
      },
      {
        "duration": 30,
        "start_time": "2022-04-30T20:13:38.527Z"
      },
      {
        "duration": 24,
        "start_time": "2022-04-30T20:13:38.582Z"
      },
      {
        "duration": 45,
        "start_time": "2022-04-30T20:13:38.609Z"
      },
      {
        "duration": 35,
        "start_time": "2022-04-30T20:13:38.682Z"
      },
      {
        "duration": 16,
        "start_time": "2022-04-30T20:13:38.724Z"
      },
      {
        "duration": 55,
        "start_time": "2022-04-30T20:13:38.742Z"
      },
      {
        "duration": 18,
        "start_time": "2022-04-30T20:13:38.801Z"
      },
      {
        "duration": 8,
        "start_time": "2022-04-30T20:13:38.822Z"
      },
      {
        "duration": 67,
        "start_time": "2022-04-30T20:13:38.833Z"
      },
      {
        "duration": 23,
        "start_time": "2022-04-30T20:13:38.902Z"
      },
      {
        "duration": 60,
        "start_time": "2022-04-30T20:13:38.928Z"
      },
      {
        "duration": 17,
        "start_time": "2022-04-30T20:13:38.992Z"
      },
      {
        "duration": 12,
        "start_time": "2022-04-30T20:13:39.012Z"
      },
      {
        "duration": 6,
        "start_time": "2022-04-30T20:13:39.027Z"
      },
      {
        "duration": 10,
        "start_time": "2022-04-30T20:13:39.036Z"
      },
      {
        "duration": 10,
        "start_time": "2022-04-30T20:13:39.083Z"
      },
      {
        "duration": 67,
        "start_time": "2022-05-01T05:03:16.275Z"
      },
      {
        "duration": 521,
        "start_time": "2022-05-01T05:03:26.758Z"
      },
      {
        "duration": 210,
        "start_time": "2022-05-01T05:03:30.144Z"
      },
      {
        "duration": 25,
        "start_time": "2022-05-01T05:03:32.536Z"
      },
      {
        "duration": 6,
        "start_time": "2022-05-01T05:04:14.089Z"
      },
      {
        "duration": 14,
        "start_time": "2022-05-01T05:05:44.142Z"
      },
      {
        "duration": 5,
        "start_time": "2022-05-01T05:05:48.443Z"
      },
      {
        "duration": 33,
        "start_time": "2022-05-01T05:06:19.267Z"
      },
      {
        "duration": 24,
        "start_time": "2022-05-01T05:07:16.435Z"
      },
      {
        "duration": 36,
        "start_time": "2022-05-01T05:07:22.643Z"
      },
      {
        "duration": 101,
        "start_time": "2022-05-01T05:07:38.393Z"
      },
      {
        "duration": 94,
        "start_time": "2022-05-01T05:08:02.000Z"
      },
      {
        "duration": 114,
        "start_time": "2022-05-01T05:08:07.290Z"
      },
      {
        "duration": 90,
        "start_time": "2022-05-01T05:08:09.860Z"
      },
      {
        "duration": 54,
        "start_time": "2022-05-01T05:12:59.479Z"
      },
      {
        "duration": 4,
        "start_time": "2022-05-01T05:15:30.027Z"
      },
      {
        "duration": 12,
        "start_time": "2022-05-01T05:15:32.400Z"
      },
      {
        "duration": 51,
        "start_time": "2022-05-01T05:15:36.765Z"
      }
    ],
    "colab": {
      "collapsed_sections": [],
      "provenance": []
    },
    "kernelspec": {
      "display_name": "Python 3 (ipykernel)",
      "language": "python",
      "name": "python3"
    },
    "language_info": {
      "codemirror_mode": {
        "name": "ipython",
        "version": 3
      },
      "file_extension": ".py",
      "mimetype": "text/x-python",
      "name": "python",
      "nbconvert_exporter": "python",
      "pygments_lexer": "ipython3",
      "version": "3.9.5"
    },
    "toc": {
      "base_numbering": 1,
      "nav_menu": {},
      "number_sections": true,
      "sideBar": true,
      "skip_h1_title": true,
      "title_cell": "Table of Contents",
      "title_sidebar": "Contents",
      "toc_cell": false,
      "toc_position": {},
      "toc_section_display": true,
      "toc_window_display": true
    }
  },
  "nbformat": 4,
  "nbformat_minor": 0
}