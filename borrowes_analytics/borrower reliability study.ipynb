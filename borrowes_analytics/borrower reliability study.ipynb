{
 "cells": [
  {
   "cell_type": "markdown",
   "id": "3a71fa7a",
   "metadata": {},
   "source": [
    "# Исследование надежности заемщиков."
   ]
  },
  {
   "cell_type": "markdown",
   "id": "6a33a533",
   "metadata": {},
   "source": [
    "### Шаг 1. Обзор данных\n",
    "Заказчик — кредитный отдел банка.\n",
    "\n",
    "**Цель исследавания** - ответить на вопросы:\n",
    "1. Есть ли зависимость между количеством детей и возвратом кредита в срок?\n",
    "2. Есть ли зависимость между семейным положением и возвратом кредита в срок?\n",
    "3. Есть ли зависимость между уровнем дохода и возвратом кредита в срок?\n",
    "4. Как разные цели кредита влияют на его возврат в срок?\n",
    "\n",
    "**Ход исследования**\n",
    "Входные данные от банка — статистика о платёжеспособности клиентов. О качестве данных ничего не известно. Поэтому перед началом исследования понадобится обзор данных.\n",
    "\n",
    "Необходимо проверить данные на ошибки и оценить их влияние на исследование. Затем, на этапе предобработки найти возможность исправить самые критичные ошибки данных.\n",
    "\n",
    "Таким образом, исследование пройдёт в три этапа:\n",
    "\n",
    "1. Обзор данных.\n",
    "2. Предобработка данных.\n",
    "3. Ответы на вопросы."
   ]
  },
  {
   "cell_type": "markdown",
   "id": "02e0bf1b",
   "metadata": {},
   "source": [
    "Составим первое представление о данных заказчика."
   ]
  },
  {
   "cell_type": "code",
   "execution_count": 1,
   "id": "6dc88347",
   "metadata": {
    "scrolled": true
   },
   "outputs": [
    {
     "data": {
      "text/html": [
       "<div>\n",
       "<style scoped>\n",
       "    .dataframe tbody tr th:only-of-type {\n",
       "        vertical-align: middle;\n",
       "    }\n",
       "\n",
       "    .dataframe tbody tr th {\n",
       "        vertical-align: top;\n",
       "    }\n",
       "\n",
       "    .dataframe thead th {\n",
       "        text-align: right;\n",
       "    }\n",
       "</style>\n",
       "<table border=\"1\" class=\"dataframe\">\n",
       "  <thead>\n",
       "    <tr style=\"text-align: right;\">\n",
       "      <th></th>\n",
       "      <th>children</th>\n",
       "      <th>days_employed</th>\n",
       "      <th>dob_years</th>\n",
       "      <th>education</th>\n",
       "      <th>education_id</th>\n",
       "      <th>family_status</th>\n",
       "      <th>family_status_id</th>\n",
       "      <th>gender</th>\n",
       "      <th>income_type</th>\n",
       "      <th>debt</th>\n",
       "      <th>total_income</th>\n",
       "      <th>purpose</th>\n",
       "    </tr>\n",
       "  </thead>\n",
       "  <tbody>\n",
       "    <tr>\n",
       "      <th>0</th>\n",
       "      <td>1</td>\n",
       "      <td>-8437.673028</td>\n",
       "      <td>42</td>\n",
       "      <td>высшее</td>\n",
       "      <td>0</td>\n",
       "      <td>женат / замужем</td>\n",
       "      <td>0</td>\n",
       "      <td>F</td>\n",
       "      <td>сотрудник</td>\n",
       "      <td>0</td>\n",
       "      <td>253875.639453</td>\n",
       "      <td>покупка жилья</td>\n",
       "    </tr>\n",
       "    <tr>\n",
       "      <th>1</th>\n",
       "      <td>1</td>\n",
       "      <td>-4024.803754</td>\n",
       "      <td>36</td>\n",
       "      <td>среднее</td>\n",
       "      <td>1</td>\n",
       "      <td>женат / замужем</td>\n",
       "      <td>0</td>\n",
       "      <td>F</td>\n",
       "      <td>сотрудник</td>\n",
       "      <td>0</td>\n",
       "      <td>112080.014102</td>\n",
       "      <td>приобретение автомобиля</td>\n",
       "    </tr>\n",
       "    <tr>\n",
       "      <th>2</th>\n",
       "      <td>0</td>\n",
       "      <td>-5623.422610</td>\n",
       "      <td>33</td>\n",
       "      <td>Среднее</td>\n",
       "      <td>1</td>\n",
       "      <td>женат / замужем</td>\n",
       "      <td>0</td>\n",
       "      <td>M</td>\n",
       "      <td>сотрудник</td>\n",
       "      <td>0</td>\n",
       "      <td>145885.952297</td>\n",
       "      <td>покупка жилья</td>\n",
       "    </tr>\n",
       "    <tr>\n",
       "      <th>3</th>\n",
       "      <td>3</td>\n",
       "      <td>-4124.747207</td>\n",
       "      <td>32</td>\n",
       "      <td>среднее</td>\n",
       "      <td>1</td>\n",
       "      <td>женат / замужем</td>\n",
       "      <td>0</td>\n",
       "      <td>M</td>\n",
       "      <td>сотрудник</td>\n",
       "      <td>0</td>\n",
       "      <td>267628.550329</td>\n",
       "      <td>дополнительное образование</td>\n",
       "    </tr>\n",
       "    <tr>\n",
       "      <th>4</th>\n",
       "      <td>0</td>\n",
       "      <td>340266.072047</td>\n",
       "      <td>53</td>\n",
       "      <td>среднее</td>\n",
       "      <td>1</td>\n",
       "      <td>гражданский брак</td>\n",
       "      <td>1</td>\n",
       "      <td>F</td>\n",
       "      <td>пенсионер</td>\n",
       "      <td>0</td>\n",
       "      <td>158616.077870</td>\n",
       "      <td>сыграть свадьбу</td>\n",
       "    </tr>\n",
       "    <tr>\n",
       "      <th>5</th>\n",
       "      <td>0</td>\n",
       "      <td>-926.185831</td>\n",
       "      <td>27</td>\n",
       "      <td>высшее</td>\n",
       "      <td>0</td>\n",
       "      <td>гражданский брак</td>\n",
       "      <td>1</td>\n",
       "      <td>M</td>\n",
       "      <td>компаньон</td>\n",
       "      <td>0</td>\n",
       "      <td>255763.565419</td>\n",
       "      <td>покупка жилья</td>\n",
       "    </tr>\n",
       "    <tr>\n",
       "      <th>6</th>\n",
       "      <td>0</td>\n",
       "      <td>-2879.202052</td>\n",
       "      <td>43</td>\n",
       "      <td>высшее</td>\n",
       "      <td>0</td>\n",
       "      <td>женат / замужем</td>\n",
       "      <td>0</td>\n",
       "      <td>F</td>\n",
       "      <td>компаньон</td>\n",
       "      <td>0</td>\n",
       "      <td>240525.971920</td>\n",
       "      <td>операции с жильем</td>\n",
       "    </tr>\n",
       "    <tr>\n",
       "      <th>7</th>\n",
       "      <td>0</td>\n",
       "      <td>-152.779569</td>\n",
       "      <td>50</td>\n",
       "      <td>СРЕДНЕЕ</td>\n",
       "      <td>1</td>\n",
       "      <td>женат / замужем</td>\n",
       "      <td>0</td>\n",
       "      <td>M</td>\n",
       "      <td>сотрудник</td>\n",
       "      <td>0</td>\n",
       "      <td>135823.934197</td>\n",
       "      <td>образование</td>\n",
       "    </tr>\n",
       "    <tr>\n",
       "      <th>8</th>\n",
       "      <td>2</td>\n",
       "      <td>-6929.865299</td>\n",
       "      <td>35</td>\n",
       "      <td>ВЫСШЕЕ</td>\n",
       "      <td>0</td>\n",
       "      <td>гражданский брак</td>\n",
       "      <td>1</td>\n",
       "      <td>F</td>\n",
       "      <td>сотрудник</td>\n",
       "      <td>0</td>\n",
       "      <td>95856.832424</td>\n",
       "      <td>на проведение свадьбы</td>\n",
       "    </tr>\n",
       "    <tr>\n",
       "      <th>9</th>\n",
       "      <td>0</td>\n",
       "      <td>-2188.756445</td>\n",
       "      <td>41</td>\n",
       "      <td>среднее</td>\n",
       "      <td>1</td>\n",
       "      <td>женат / замужем</td>\n",
       "      <td>0</td>\n",
       "      <td>M</td>\n",
       "      <td>сотрудник</td>\n",
       "      <td>0</td>\n",
       "      <td>144425.938277</td>\n",
       "      <td>покупка жилья для семьи</td>\n",
       "    </tr>\n",
       "  </tbody>\n",
       "</table>\n",
       "</div>"
      ],
      "text/plain": [
       "   children  days_employed  dob_years education  education_id  \\\n",
       "0         1   -8437.673028         42    высшее             0   \n",
       "1         1   -4024.803754         36   среднее             1   \n",
       "2         0   -5623.422610         33   Среднее             1   \n",
       "3         3   -4124.747207         32   среднее             1   \n",
       "4         0  340266.072047         53   среднее             1   \n",
       "5         0    -926.185831         27    высшее             0   \n",
       "6         0   -2879.202052         43    высшее             0   \n",
       "7         0    -152.779569         50   СРЕДНЕЕ             1   \n",
       "8         2   -6929.865299         35    ВЫСШЕЕ             0   \n",
       "9         0   -2188.756445         41   среднее             1   \n",
       "\n",
       "      family_status  family_status_id gender income_type  debt   total_income  \\\n",
       "0   женат / замужем                 0      F   сотрудник     0  253875.639453   \n",
       "1   женат / замужем                 0      F   сотрудник     0  112080.014102   \n",
       "2   женат / замужем                 0      M   сотрудник     0  145885.952297   \n",
       "3   женат / замужем                 0      M   сотрудник     0  267628.550329   \n",
       "4  гражданский брак                 1      F   пенсионер     0  158616.077870   \n",
       "5  гражданский брак                 1      M   компаньон     0  255763.565419   \n",
       "6   женат / замужем                 0      F   компаньон     0  240525.971920   \n",
       "7   женат / замужем                 0      M   сотрудник     0  135823.934197   \n",
       "8  гражданский брак                 1      F   сотрудник     0   95856.832424   \n",
       "9   женат / замужем                 0      M   сотрудник     0  144425.938277   \n",
       "\n",
       "                      purpose  \n",
       "0               покупка жилья  \n",
       "1     приобретение автомобиля  \n",
       "2               покупка жилья  \n",
       "3  дополнительное образование  \n",
       "4             сыграть свадьбу  \n",
       "5               покупка жилья  \n",
       "6           операции с жильем  \n",
       "7                 образование  \n",
       "8       на проведение свадьбы  \n",
       "9     покупка жилья для семьи  "
      ]
     },
     "execution_count": 1,
     "metadata": {},
     "output_type": "execute_result"
    }
   ],
   "source": [
    "import pandas as pd\n",
    "df = pd.read_csv('/datasets/data.csv')\n",
    "df.head(10)"
   ]
  },
  {
   "cell_type": "markdown",
   "id": "21be8a86",
   "metadata": {},
   "source": [
    "Получили первые 10 строк в таблице.\n",
    "\n",
    "Теперь получим общую информацию о таблице:"
   ]
  },
  {
   "cell_type": "code",
   "execution_count": 2,
   "id": "668de751",
   "metadata": {},
   "outputs": [
    {
     "name": "stdout",
     "output_type": "stream",
     "text": [
      "<class 'pandas.core.frame.DataFrame'>\n",
      "RangeIndex: 21525 entries, 0 to 21524\n",
      "Data columns (total 12 columns):\n",
      " #   Column            Non-Null Count  Dtype  \n",
      "---  ------            --------------  -----  \n",
      " 0   children          21525 non-null  int64  \n",
      " 1   days_employed     19351 non-null  float64\n",
      " 2   dob_years         21525 non-null  int64  \n",
      " 3   education         21525 non-null  object \n",
      " 4   education_id      21525 non-null  int64  \n",
      " 5   family_status     21525 non-null  object \n",
      " 6   family_status_id  21525 non-null  int64  \n",
      " 7   gender            21525 non-null  object \n",
      " 8   income_type       21525 non-null  object \n",
      " 9   debt              21525 non-null  int64  \n",
      " 10  total_income      19351 non-null  float64\n",
      " 11  purpose           21525 non-null  object \n",
      "dtypes: float64(2), int64(5), object(5)\n",
      "memory usage: 2.0+ MB\n"
     ]
    }
   ],
   "source": [
    "df.info()"
   ]
  },
  {
   "cell_type": "markdown",
   "id": "7f9d8e05",
   "metadata": {},
   "source": [
    "Итак, в таблице двенадцать столбцов. Тип данных в столбцах: `object`, `int`, `float`.\n",
    "\n",
    "Согласно документации к данным:\n",
    "* `children` — количество детей в семье;\n",
    "* `days_employed` — общий трудовой стаж в днях;  \n",
    "* `dob_years` — возраст клиента в годах;\n",
    "* `education` — уровень образования клиента;\n",
    "* `education_id` — идентификатор уровня образования;\n",
    "* `family_status` — семейное положение;\n",
    "* `family_status_id` — идентификатор семейного положения;\n",
    "* `gender` — пол клиента;\n",
    "* `income_type` — тип занятости;\n",
    "* `debt` — имел ли задолженность по возврату кредитов;\n",
    "* `total_income` — ежемесячный доход;\n",
    "* `purpose` — цель получения кредита;\n",
    "\n",
    "В названиях колонок нарушение стиля отсутствует.\n",
    "\n",
    "\n",
    "\n",
    "Количество значений в столбцах различается. Значит, в данных есть пропущенные значения."
   ]
  },
  {
   "cell_type": "markdown",
   "id": "fe688f2d",
   "metadata": {},
   "source": [
    "**Выводы**\n",
    "\n",
    "В каждой строке таблицы — данные о клиенте: пол, возраст, семейное положение,ежемесячных доход, цель получения кредита и тд. \n",
    "\n",
    "Предварительно можно утверждать, что, данных достаточно для проверки гипотез. Но встречаются пропуски в данных.\n",
    "\n",
    "Чтобы двигаться дальше, нужно устранить проблемы в данных."
   ]
  },
  {
   "cell_type": "markdown",
   "id": "d1fdb069",
   "metadata": {},
   "source": [
    "### Шаг 2.1 Заполнение пропусков"
   ]
  },
  {
   "cell_type": "markdown",
   "id": "d94d974b",
   "metadata": {},
   "source": [
    "Посчитаем сколько в таблице пропущенных значений:"
   ]
  },
  {
   "cell_type": "code",
   "execution_count": 3,
   "id": "461c7f87",
   "metadata": {},
   "outputs": [
    {
     "data": {
      "text/plain": [
       "children               0\n",
       "days_employed       2174\n",
       "dob_years              0\n",
       "education              0\n",
       "education_id           0\n",
       "family_status          0\n",
       "family_status_id       0\n",
       "gender                 0\n",
       "income_type            0\n",
       "debt                   0\n",
       "total_income        2174\n",
       "purpose                0\n",
       "dtype: int64"
      ]
     },
     "execution_count": 3,
     "metadata": {},
     "output_type": "execute_result"
    }
   ],
   "source": [
    "df.isna().sum()"
   ]
  },
  {
   "cell_type": "markdown",
   "id": "745f483a",
   "metadata": {},
   "source": [
    "Пропущенны значение в столбцах `days_employed` и `total_income`. Доля пропущенных значений в каждом из столбцов с пропусками составлет 9.9%\n",
    "\n",
    "Возможные причины появления пропусков - человеческий фактор. Некоторые клиенты могли не внести данные о ежемесячном доходе.\n",
    "\n",
    "Пропуски в `total_income` могут помешать ходу исследования. Их необходимо заменить на медианное значение.Среднее значение некорректно характеризует данные, когда некоторые значения сильно выделяются среди большинства, поэтому идеальным для нашего варианта будет медианное."
   ]
  },
  {
   "cell_type": "code",
   "execution_count": 4,
   "id": "91d4b7b2",
   "metadata": {},
   "outputs": [
    {
     "data": {
      "text/plain": [
       "children               0\n",
       "days_employed       2174\n",
       "dob_years              0\n",
       "education              0\n",
       "education_id           0\n",
       "family_status          0\n",
       "family_status_id       0\n",
       "gender                 0\n",
       "income_type            0\n",
       "debt                   0\n",
       "total_income           0\n",
       "purpose                0\n",
       "dtype: int64"
      ]
     },
     "execution_count": 4,
     "metadata": {},
     "output_type": "execute_result"
    }
   ],
   "source": [
    "df['total_income'] = df['total_income'].fillna(df['total_income'].median())\n",
    "df.isna().sum() #проверим что мы заполнили все пропуски в total_income"
   ]
  },
  {
   "cell_type": "markdown",
   "id": "f7c6c8f4",
   "metadata": {},
   "source": [
    "### Шаг 2.2 Проверка данных на аномалии и исправления."
   ]
  },
  {
   "cell_type": "markdown",
   "id": "036325ff",
   "metadata": {},
   "source": [
    "Из таблицы видно и другие некорректные данные - аномалии. \n",
    "\n",
    "В нашем случае в столбце `days_employed` отрицательное колличество дней, данные очень большие для дней, люди не могут иметь стаж 100 лет. Логично предположить, что в таблице данные в часах. Нам следует перевести часы в сутки и избавится от минуса.\n",
    "\n",
    "Такое могло произойти из-за человеческого фактора или технологичнских ошибок в ходе какого-то преобразования. Данный столбец не понадобится нам для исследования, но чтобы в будующем не сталкиваться с подобныи проблемами стоит предупредить коллег."
   ]
  },
  {
   "cell_type": "code",
   "execution_count": 5,
   "id": "af2be569",
   "metadata": {
    "scrolled": true
   },
   "outputs": [
    {
     "data": {
      "text/html": [
       "<div>\n",
       "<style scoped>\n",
       "    .dataframe tbody tr th:only-of-type {\n",
       "        vertical-align: middle;\n",
       "    }\n",
       "\n",
       "    .dataframe tbody tr th {\n",
       "        vertical-align: top;\n",
       "    }\n",
       "\n",
       "    .dataframe thead th {\n",
       "        text-align: right;\n",
       "    }\n",
       "</style>\n",
       "<table border=\"1\" class=\"dataframe\">\n",
       "  <thead>\n",
       "    <tr style=\"text-align: right;\">\n",
       "      <th></th>\n",
       "      <th>children</th>\n",
       "      <th>days_employed</th>\n",
       "      <th>dob_years</th>\n",
       "      <th>education</th>\n",
       "      <th>education_id</th>\n",
       "      <th>family_status</th>\n",
       "      <th>family_status_id</th>\n",
       "      <th>gender</th>\n",
       "      <th>income_type</th>\n",
       "      <th>debt</th>\n",
       "      <th>total_income</th>\n",
       "      <th>purpose</th>\n",
       "    </tr>\n",
       "  </thead>\n",
       "  <tbody>\n",
       "    <tr>\n",
       "      <th>0</th>\n",
       "      <td>1</td>\n",
       "      <td>351.569709</td>\n",
       "      <td>42</td>\n",
       "      <td>высшее</td>\n",
       "      <td>0</td>\n",
       "      <td>женат / замужем</td>\n",
       "      <td>0</td>\n",
       "      <td>F</td>\n",
       "      <td>сотрудник</td>\n",
       "      <td>0</td>\n",
       "      <td>253875.639453</td>\n",
       "      <td>покупка жилья</td>\n",
       "    </tr>\n",
       "    <tr>\n",
       "      <th>1</th>\n",
       "      <td>1</td>\n",
       "      <td>167.700156</td>\n",
       "      <td>36</td>\n",
       "      <td>среднее</td>\n",
       "      <td>1</td>\n",
       "      <td>женат / замужем</td>\n",
       "      <td>0</td>\n",
       "      <td>F</td>\n",
       "      <td>сотрудник</td>\n",
       "      <td>0</td>\n",
       "      <td>112080.014102</td>\n",
       "      <td>приобретение автомобиля</td>\n",
       "    </tr>\n",
       "    <tr>\n",
       "      <th>2</th>\n",
       "      <td>0</td>\n",
       "      <td>234.309275</td>\n",
       "      <td>33</td>\n",
       "      <td>Среднее</td>\n",
       "      <td>1</td>\n",
       "      <td>женат / замужем</td>\n",
       "      <td>0</td>\n",
       "      <td>M</td>\n",
       "      <td>сотрудник</td>\n",
       "      <td>0</td>\n",
       "      <td>145885.952297</td>\n",
       "      <td>покупка жилья</td>\n",
       "    </tr>\n",
       "    <tr>\n",
       "      <th>3</th>\n",
       "      <td>3</td>\n",
       "      <td>171.864467</td>\n",
       "      <td>32</td>\n",
       "      <td>среднее</td>\n",
       "      <td>1</td>\n",
       "      <td>женат / замужем</td>\n",
       "      <td>0</td>\n",
       "      <td>M</td>\n",
       "      <td>сотрудник</td>\n",
       "      <td>0</td>\n",
       "      <td>267628.550329</td>\n",
       "      <td>дополнительное образование</td>\n",
       "    </tr>\n",
       "    <tr>\n",
       "      <th>4</th>\n",
       "      <td>0</td>\n",
       "      <td>14177.753002</td>\n",
       "      <td>53</td>\n",
       "      <td>среднее</td>\n",
       "      <td>1</td>\n",
       "      <td>гражданский брак</td>\n",
       "      <td>1</td>\n",
       "      <td>F</td>\n",
       "      <td>пенсионер</td>\n",
       "      <td>0</td>\n",
       "      <td>158616.077870</td>\n",
       "      <td>сыграть свадьбу</td>\n",
       "    </tr>\n",
       "    <tr>\n",
       "      <th>5</th>\n",
       "      <td>0</td>\n",
       "      <td>38.591076</td>\n",
       "      <td>27</td>\n",
       "      <td>высшее</td>\n",
       "      <td>0</td>\n",
       "      <td>гражданский брак</td>\n",
       "      <td>1</td>\n",
       "      <td>M</td>\n",
       "      <td>компаньон</td>\n",
       "      <td>0</td>\n",
       "      <td>255763.565419</td>\n",
       "      <td>покупка жилья</td>\n",
       "    </tr>\n",
       "    <tr>\n",
       "      <th>6</th>\n",
       "      <td>0</td>\n",
       "      <td>119.966752</td>\n",
       "      <td>43</td>\n",
       "      <td>высшее</td>\n",
       "      <td>0</td>\n",
       "      <td>женат / замужем</td>\n",
       "      <td>0</td>\n",
       "      <td>F</td>\n",
       "      <td>компаньон</td>\n",
       "      <td>0</td>\n",
       "      <td>240525.971920</td>\n",
       "      <td>операции с жильем</td>\n",
       "    </tr>\n",
       "    <tr>\n",
       "      <th>7</th>\n",
       "      <td>0</td>\n",
       "      <td>6.365815</td>\n",
       "      <td>50</td>\n",
       "      <td>СРЕДНЕЕ</td>\n",
       "      <td>1</td>\n",
       "      <td>женат / замужем</td>\n",
       "      <td>0</td>\n",
       "      <td>M</td>\n",
       "      <td>сотрудник</td>\n",
       "      <td>0</td>\n",
       "      <td>135823.934197</td>\n",
       "      <td>образование</td>\n",
       "    </tr>\n",
       "    <tr>\n",
       "      <th>8</th>\n",
       "      <td>2</td>\n",
       "      <td>288.744387</td>\n",
       "      <td>35</td>\n",
       "      <td>ВЫСШЕЕ</td>\n",
       "      <td>0</td>\n",
       "      <td>гражданский брак</td>\n",
       "      <td>1</td>\n",
       "      <td>F</td>\n",
       "      <td>сотрудник</td>\n",
       "      <td>0</td>\n",
       "      <td>95856.832424</td>\n",
       "      <td>на проведение свадьбы</td>\n",
       "    </tr>\n",
       "    <tr>\n",
       "      <th>9</th>\n",
       "      <td>0</td>\n",
       "      <td>91.198185</td>\n",
       "      <td>41</td>\n",
       "      <td>среднее</td>\n",
       "      <td>1</td>\n",
       "      <td>женат / замужем</td>\n",
       "      <td>0</td>\n",
       "      <td>M</td>\n",
       "      <td>сотрудник</td>\n",
       "      <td>0</td>\n",
       "      <td>144425.938277</td>\n",
       "      <td>покупка жилья для семьи</td>\n",
       "    </tr>\n",
       "  </tbody>\n",
       "</table>\n",
       "</div>"
      ],
      "text/plain": [
       "   children  days_employed  dob_years education  education_id  \\\n",
       "0         1     351.569709         42    высшее             0   \n",
       "1         1     167.700156         36   среднее             1   \n",
       "2         0     234.309275         33   Среднее             1   \n",
       "3         3     171.864467         32   среднее             1   \n",
       "4         0   14177.753002         53   среднее             1   \n",
       "5         0      38.591076         27    высшее             0   \n",
       "6         0     119.966752         43    высшее             0   \n",
       "7         0       6.365815         50   СРЕДНЕЕ             1   \n",
       "8         2     288.744387         35    ВЫСШЕЕ             0   \n",
       "9         0      91.198185         41   среднее             1   \n",
       "\n",
       "      family_status  family_status_id gender income_type  debt   total_income  \\\n",
       "0   женат / замужем                 0      F   сотрудник     0  253875.639453   \n",
       "1   женат / замужем                 0      F   сотрудник     0  112080.014102   \n",
       "2   женат / замужем                 0      M   сотрудник     0  145885.952297   \n",
       "3   женат / замужем                 0      M   сотрудник     0  267628.550329   \n",
       "4  гражданский брак                 1      F   пенсионер     0  158616.077870   \n",
       "5  гражданский брак                 1      M   компаньон     0  255763.565419   \n",
       "6   женат / замужем                 0      F   компаньон     0  240525.971920   \n",
       "7   женат / замужем                 0      M   сотрудник     0  135823.934197   \n",
       "8  гражданский брак                 1      F   сотрудник     0   95856.832424   \n",
       "9   женат / замужем                 0      M   сотрудник     0  144425.938277   \n",
       "\n",
       "                      purpose  \n",
       "0               покупка жилья  \n",
       "1     приобретение автомобиля  \n",
       "2               покупка жилья  \n",
       "3  дополнительное образование  \n",
       "4             сыграть свадьбу  \n",
       "5               покупка жилья  \n",
       "6           операции с жильем  \n",
       "7                 образование  \n",
       "8       на проведение свадьбы  \n",
       "9     покупка жилья для семьи  "
      ]
     },
     "execution_count": 5,
     "metadata": {},
     "output_type": "execute_result"
    }
   ],
   "source": [
    "df['days_employed'] = abs(df['days_employed']) / 24\n",
    "df.head(10)"
   ]
  },
  {
   "cell_type": "markdown",
   "id": "cfe9e138",
   "metadata": {},
   "source": [
    "Теперь заполним пропуски в `days_employed` медианным значением этого столбца и убедимся, что в таблице не осталось пропусков. Для этого еще раз посчитаем пропущенные значения."
   ]
  },
  {
   "cell_type": "code",
   "execution_count": 6,
   "id": "93c80d26",
   "metadata": {},
   "outputs": [
    {
     "data": {
      "text/plain": [
       "children            0\n",
       "days_employed       0\n",
       "dob_years           0\n",
       "education           0\n",
       "education_id        0\n",
       "family_status       0\n",
       "family_status_id    0\n",
       "gender              0\n",
       "income_type         0\n",
       "debt                0\n",
       "total_income        0\n",
       "purpose             0\n",
       "dtype: int64"
      ]
     },
     "execution_count": 6,
     "metadata": {},
     "output_type": "execute_result"
    }
   ],
   "source": [
    "df['days_employed'] = df['days_employed'].fillna(df['days_employed'].median())\n",
    "df.isna().sum()"
   ]
  },
  {
   "cell_type": "markdown",
   "id": "d3260b50",
   "metadata": {},
   "source": [
    "В столбце `children` обнаружено значение -1 и 20. Избавимся от минуса, а вместо аномально большого значения 20 детей укажем 2 т.к возможно \"0\" был напечатан случайно."
   ]
  },
  {
   "cell_type": "code",
   "execution_count": 7,
   "id": "85a21d98",
   "metadata": {},
   "outputs": [
    {
     "data": {
      "text/plain": [
       "0    14149\n",
       "1     4865\n",
       "2     2131\n",
       "3      330\n",
       "4       41\n",
       "5        9\n",
       "Name: children, dtype: int64"
      ]
     },
     "execution_count": 7,
     "metadata": {},
     "output_type": "execute_result"
    }
   ],
   "source": [
    "df['children'] = abs(df['children'])\n",
    "df.loc[df['children'] == 20, 'children'] = 2\n",
    "df['children'].value_counts() #проверим что ушли отрицательные значения и выброс"
   ]
  },
  {
   "cell_type": "markdown",
   "id": "ee8c9078",
   "metadata": {},
   "source": [
    "### Шаг 2.3. Изменение типов данных."
   ]
  },
  {
   "cell_type": "markdown",
   "id": "f7a81a15",
   "metadata": {},
   "source": [
    "Заменим вещественный тип данных в столбце `total_income` на целочисленный:"
   ]
  },
  {
   "cell_type": "code",
   "execution_count": 8,
   "id": "903846de",
   "metadata": {},
   "outputs": [
    {
     "name": "stdout",
     "output_type": "stream",
     "text": [
      "<class 'pandas.core.frame.DataFrame'>\n",
      "RangeIndex: 21525 entries, 0 to 21524\n",
      "Data columns (total 12 columns):\n",
      " #   Column            Non-Null Count  Dtype  \n",
      "---  ------            --------------  -----  \n",
      " 0   children          21525 non-null  int64  \n",
      " 1   days_employed     21525 non-null  float64\n",
      " 2   dob_years         21525 non-null  int64  \n",
      " 3   education         21525 non-null  object \n",
      " 4   education_id      21525 non-null  int64  \n",
      " 5   family_status     21525 non-null  object \n",
      " 6   family_status_id  21525 non-null  int64  \n",
      " 7   gender            21525 non-null  object \n",
      " 8   income_type       21525 non-null  object \n",
      " 9   debt              21525 non-null  int64  \n",
      " 10  total_income      21525 non-null  int64  \n",
      " 11  purpose           21525 non-null  object \n",
      "dtypes: float64(1), int64(6), object(5)\n",
      "memory usage: 2.0+ MB\n"
     ]
    }
   ],
   "source": [
    "df['total_income'] = df['total_income'].astype('int')\n",
    "df.info() #проверим изменение типа"
   ]
  },
  {
   "cell_type": "markdown",
   "id": "0172e016",
   "metadata": {},
   "source": [
    "### Шаг 2.4. Удаление дубликатов."
   ]
  },
  {
   "cell_type": "markdown",
   "id": "1d230ebb",
   "metadata": {},
   "source": [
    "Проверим данные на наличие явных дубликатов. "
   ]
  },
  {
   "cell_type": "code",
   "execution_count": 9,
   "id": "fb74b298",
   "metadata": {},
   "outputs": [
    {
     "data": {
      "text/plain": [
       "54"
      ]
     },
     "execution_count": 9,
     "metadata": {},
     "output_type": "execute_result"
    }
   ],
   "source": [
    "df.duplicated().sum()"
   ]
  },
  {
   "cell_type": "markdown",
   "id": "20e38cab",
   "metadata": {},
   "source": [
    "Чтобы избавиться от таких дубликатов, вызовем метод drop_duplicates():"
   ]
  },
  {
   "cell_type": "code",
   "execution_count": 10,
   "id": "33256e61",
   "metadata": {},
   "outputs": [
    {
     "data": {
      "text/plain": [
       "0"
      ]
     },
     "execution_count": 10,
     "metadata": {},
     "output_type": "execute_result"
    }
   ],
   "source": [
    "df = df.drop_duplicates().reset_index(drop=True)\n",
    "df.duplicated().sum() #проверим, что удалили явные дубликаты"
   ]
  },
  {
   "cell_type": "markdown",
   "id": "9c9d40a1",
   "metadata": {},
   "source": [
    "Теперь проверим наличие неявных дубликатов в стобце `education`"
   ]
  },
  {
   "cell_type": "code",
   "execution_count": 11,
   "id": "3b5857fb",
   "metadata": {
    "scrolled": true
   },
   "outputs": [
    {
     "data": {
      "text/plain": [
       "среднее                13705\n",
       "высшее                  4710\n",
       "СРЕДНЕЕ                  772\n",
       "Среднее                  711\n",
       "неоконченное высшее      668\n",
       "ВЫСШЕЕ                   273\n",
       "Высшее                   268\n",
       "начальное                250\n",
       "Неоконченное высшее       47\n",
       "НЕОКОНЧЕННОЕ ВЫСШЕЕ       29\n",
       "НАЧАЛЬНОЕ                 17\n",
       "Начальное                 15\n",
       "ученая степень             4\n",
       "Ученая степень             1\n",
       "УЧЕНАЯ СТЕПЕНЬ             1\n",
       "Name: education, dtype: int64"
      ]
     },
     "execution_count": 11,
     "metadata": {},
     "output_type": "execute_result"
    }
   ],
   "source": [
    "df['education'].value_counts()"
   ]
  },
  {
   "cell_type": "markdown",
   "id": "69aae6b3",
   "metadata": {},
   "source": [
    "Одни и те же значения, но записанны по-разному: с использованием заглавных и строчных букв. Приведем их к одному регистру."
   ]
  },
  {
   "cell_type": "code",
   "execution_count": 12,
   "id": "ec64808a",
   "metadata": {},
   "outputs": [
    {
     "data": {
      "text/plain": [
       "среднее                15188\n",
       "высшее                  5251\n",
       "неоконченное высшее      744\n",
       "начальное                282\n",
       "ученая степень             6\n",
       "Name: education, dtype: int64"
      ]
     },
     "execution_count": 12,
     "metadata": {},
     "output_type": "execute_result"
    }
   ],
   "source": [
    "df['education'] = df['education'].str.lower()\n",
    "df['education'].value_counts() # проверим, что удалили неявные дубликаты"
   ]
  },
  {
   "cell_type": "markdown",
   "id": "98eb8450",
   "metadata": {},
   "source": [
    "Для поиска явных дубликатов в pandas есть специальный метод duplicated(). Чтобы посчитать такие строки, результат метода передают функции sum(). Чтобы избавиться от таких дубликатов, вызовем метод drop_duplicates()\n",
    "\n",
    "Для поиска неявных дубликатов вызвали метод value_counts(), который анализирует столбец, выбирает каждое уникальное значение и подсчитывает частоту его встречаемости в списке. Для их удаления перевели все к нижнему регистру методом str.lower()\n",
    "\n",
    "Появление таких дубликатов возможно из-за человеческого фактара или неккоректной выгрузки"
   ]
  },
  {
   "cell_type": "markdown",
   "id": "a5d3d61f",
   "metadata": {},
   "source": [
    "### Шаг 2.5. Формирование дополнительных датафреймов словарей, декомпозиция исходного датафрейма."
   ]
  },
  {
   "cell_type": "markdown",
   "id": "afab732a",
   "metadata": {},
   "source": [
    "Создадим два новых датафрейма, в которых:\n",
    "* каждому уникальному значению из `education` соответствует уникальное значение `education_id` — в первом;\n",
    "* каждому уникальному значению из `family_status` соответствует уникальное значение `family_status_id` — во втором"
   ]
  },
  {
   "cell_type": "code",
   "execution_count": 13,
   "id": "5f509451",
   "metadata": {},
   "outputs": [
    {
     "data": {
      "text/html": [
       "<div>\n",
       "<style scoped>\n",
       "    .dataframe tbody tr th:only-of-type {\n",
       "        vertical-align: middle;\n",
       "    }\n",
       "\n",
       "    .dataframe tbody tr th {\n",
       "        vertical-align: top;\n",
       "    }\n",
       "\n",
       "    .dataframe thead th {\n",
       "        text-align: right;\n",
       "    }\n",
       "</style>\n",
       "<table border=\"1\" class=\"dataframe\">\n",
       "  <thead>\n",
       "    <tr style=\"text-align: right;\">\n",
       "      <th></th>\n",
       "      <th>education</th>\n",
       "      <th>education_id</th>\n",
       "    </tr>\n",
       "  </thead>\n",
       "  <tbody>\n",
       "    <tr>\n",
       "      <th>0</th>\n",
       "      <td>высшее</td>\n",
       "      <td>0</td>\n",
       "    </tr>\n",
       "    <tr>\n",
       "      <th>1</th>\n",
       "      <td>среднее</td>\n",
       "      <td>1</td>\n",
       "    </tr>\n",
       "    <tr>\n",
       "      <th>2</th>\n",
       "      <td>среднее</td>\n",
       "      <td>1</td>\n",
       "    </tr>\n",
       "    <tr>\n",
       "      <th>3</th>\n",
       "      <td>среднее</td>\n",
       "      <td>1</td>\n",
       "    </tr>\n",
       "    <tr>\n",
       "      <th>4</th>\n",
       "      <td>среднее</td>\n",
       "      <td>1</td>\n",
       "    </tr>\n",
       "    <tr>\n",
       "      <th>5</th>\n",
       "      <td>высшее</td>\n",
       "      <td>0</td>\n",
       "    </tr>\n",
       "    <tr>\n",
       "      <th>6</th>\n",
       "      <td>высшее</td>\n",
       "      <td>0</td>\n",
       "    </tr>\n",
       "    <tr>\n",
       "      <th>7</th>\n",
       "      <td>среднее</td>\n",
       "      <td>1</td>\n",
       "    </tr>\n",
       "    <tr>\n",
       "      <th>8</th>\n",
       "      <td>высшее</td>\n",
       "      <td>0</td>\n",
       "    </tr>\n",
       "    <tr>\n",
       "      <th>9</th>\n",
       "      <td>среднее</td>\n",
       "      <td>1</td>\n",
       "    </tr>\n",
       "  </tbody>\n",
       "</table>\n",
       "</div>"
      ],
      "text/plain": [
       "  education  education_id\n",
       "0    высшее             0\n",
       "1   среднее             1\n",
       "2   среднее             1\n",
       "3   среднее             1\n",
       "4   среднее             1\n",
       "5    высшее             0\n",
       "6    высшее             0\n",
       "7   среднее             1\n",
       "8    высшее             0\n",
       "9   среднее             1"
      ]
     },
     "execution_count": 13,
     "metadata": {},
     "output_type": "execute_result"
    }
   ],
   "source": [
    "df_education = df[['education', 'education_id']]\n",
    "df_education.head(10)"
   ]
  },
  {
   "cell_type": "code",
   "execution_count": 14,
   "id": "36252c51",
   "metadata": {
    "scrolled": true
   },
   "outputs": [
    {
     "data": {
      "text/plain": [
       "family_status          family_status_id\n",
       "женат / замужем        0                   12344\n",
       "гражданский брак       1                    4163\n",
       "Не женат / не замужем  4                    2810\n",
       "в разводе              3                    1195\n",
       "вдовец / вдова         2                     959\n",
       "dtype: int64"
      ]
     },
     "execution_count": 14,
     "metadata": {},
     "output_type": "execute_result"
    }
   ],
   "source": [
    "df_family_status = df[['family_status', 'family_status_id']]\n",
    "df_family_status.value_counts()"
   ]
  },
  {
   "cell_type": "markdown",
   "id": "7cdbb0de",
   "metadata": {},
   "source": [
    "Удалим из исходного датафрейма столбцы `education` и `family_status`, оставив только их идентификаторы: `education_id` и `family_status_id`. "
   ]
  },
  {
   "cell_type": "code",
   "execution_count": 15,
   "id": "758f3126",
   "metadata": {},
   "outputs": [
    {
     "data": {
      "text/plain": [
       "Index(['children', 'days_employed', 'dob_years', 'education_id',\n",
       "       'family_status_id', 'gender', 'income_type', 'debt', 'total_income',\n",
       "       'purpose'],\n",
       "      dtype='object')"
      ]
     },
     "execution_count": 15,
     "metadata": {},
     "output_type": "execute_result"
    }
   ],
   "source": [
    "df.drop(columns=['education','family_status'], axis=1, inplace=True)\n",
    "df.columns"
   ]
  },
  {
   "cell_type": "markdown",
   "id": "5036c0fd",
   "metadata": {},
   "source": [
    "### Шаг 2.6. Категоризация дохода."
   ]
  },
  {
   "cell_type": "markdown",
   "id": "4df60191",
   "metadata": {},
   "source": [
    "На основании диапазонов, создадим столбец `total_income_category`:\n",
    "* 0–30000 — 'E';\n",
    "* 30001–50000 — 'D';\n",
    "* 50001–200000 — 'C';\n",
    "* 200001–1000000 — 'B';\n",
    "* 1000001 и выше — 'A'.\n",
    "\n",
    "Cоздадим функцию, которая будет присваивать категории:"
   ]
  },
  {
   "cell_type": "code",
   "execution_count": 16,
   "id": "0c8feed0",
   "metadata": {},
   "outputs": [
    {
     "data": {
      "text/plain": [
       "'C'"
      ]
     },
     "execution_count": 16,
     "metadata": {},
     "output_type": "execute_result"
    }
   ],
   "source": [
    "def income_category(total_income):\n",
    "    if total_income <= 30000:\n",
    "        return 'E'\n",
    "    if (total_income >= 30001)&(total_income <= 50000):\n",
    "        return 'D'\n",
    "    if (total_income >= 50001)&(total_income <= 200000):\n",
    "        return 'C'\n",
    "    if (total_income >= 200001)&(total_income <= 1000000):\n",
    "        return 'B'\n",
    "    return 'A'\n",
    "income_category(70000)  "
   ]
  },
  {
   "cell_type": "markdown",
   "id": "8719b489",
   "metadata": {},
   "source": [
    "Написанная функция работает корректно. Осталось создать отдельный столбец с категориями дохода, и в его ячейках записать значения, возвращаемые функцией. "
   ]
  },
  {
   "cell_type": "code",
   "execution_count": 17,
   "id": "637699fb",
   "metadata": {
    "scrolled": true
   },
   "outputs": [
    {
     "data": {
      "text/html": [
       "<div>\n",
       "<style scoped>\n",
       "    .dataframe tbody tr th:only-of-type {\n",
       "        vertical-align: middle;\n",
       "    }\n",
       "\n",
       "    .dataframe tbody tr th {\n",
       "        vertical-align: top;\n",
       "    }\n",
       "\n",
       "    .dataframe thead th {\n",
       "        text-align: right;\n",
       "    }\n",
       "</style>\n",
       "<table border=\"1\" class=\"dataframe\">\n",
       "  <thead>\n",
       "    <tr style=\"text-align: right;\">\n",
       "      <th></th>\n",
       "      <th>children</th>\n",
       "      <th>days_employed</th>\n",
       "      <th>dob_years</th>\n",
       "      <th>education_id</th>\n",
       "      <th>family_status_id</th>\n",
       "      <th>gender</th>\n",
       "      <th>income_type</th>\n",
       "      <th>debt</th>\n",
       "      <th>total_income</th>\n",
       "      <th>purpose</th>\n",
       "      <th>total_income_category</th>\n",
       "    </tr>\n",
       "  </thead>\n",
       "  <tbody>\n",
       "    <tr>\n",
       "      <th>0</th>\n",
       "      <td>1</td>\n",
       "      <td>351.569709</td>\n",
       "      <td>42</td>\n",
       "      <td>0</td>\n",
       "      <td>0</td>\n",
       "      <td>F</td>\n",
       "      <td>сотрудник</td>\n",
       "      <td>0</td>\n",
       "      <td>253875</td>\n",
       "      <td>покупка жилья</td>\n",
       "      <td>B</td>\n",
       "    </tr>\n",
       "    <tr>\n",
       "      <th>1</th>\n",
       "      <td>1</td>\n",
       "      <td>167.700156</td>\n",
       "      <td>36</td>\n",
       "      <td>1</td>\n",
       "      <td>0</td>\n",
       "      <td>F</td>\n",
       "      <td>сотрудник</td>\n",
       "      <td>0</td>\n",
       "      <td>112080</td>\n",
       "      <td>приобретение автомобиля</td>\n",
       "      <td>C</td>\n",
       "    </tr>\n",
       "    <tr>\n",
       "      <th>2</th>\n",
       "      <td>0</td>\n",
       "      <td>234.309275</td>\n",
       "      <td>33</td>\n",
       "      <td>1</td>\n",
       "      <td>0</td>\n",
       "      <td>M</td>\n",
       "      <td>сотрудник</td>\n",
       "      <td>0</td>\n",
       "      <td>145885</td>\n",
       "      <td>покупка жилья</td>\n",
       "      <td>C</td>\n",
       "    </tr>\n",
       "    <tr>\n",
       "      <th>3</th>\n",
       "      <td>3</td>\n",
       "      <td>171.864467</td>\n",
       "      <td>32</td>\n",
       "      <td>1</td>\n",
       "      <td>0</td>\n",
       "      <td>M</td>\n",
       "      <td>сотрудник</td>\n",
       "      <td>0</td>\n",
       "      <td>267628</td>\n",
       "      <td>дополнительное образование</td>\n",
       "      <td>B</td>\n",
       "    </tr>\n",
       "    <tr>\n",
       "      <th>4</th>\n",
       "      <td>0</td>\n",
       "      <td>14177.753002</td>\n",
       "      <td>53</td>\n",
       "      <td>1</td>\n",
       "      <td>1</td>\n",
       "      <td>F</td>\n",
       "      <td>пенсионер</td>\n",
       "      <td>0</td>\n",
       "      <td>158616</td>\n",
       "      <td>сыграть свадьбу</td>\n",
       "      <td>C</td>\n",
       "    </tr>\n",
       "  </tbody>\n",
       "</table>\n",
       "</div>"
      ],
      "text/plain": [
       "   children  days_employed  dob_years  education_id  family_status_id gender  \\\n",
       "0         1     351.569709         42             0                 0      F   \n",
       "1         1     167.700156         36             1                 0      F   \n",
       "2         0     234.309275         33             1                 0      M   \n",
       "3         3     171.864467         32             1                 0      M   \n",
       "4         0   14177.753002         53             1                 1      F   \n",
       "\n",
       "  income_type  debt  total_income                     purpose  \\\n",
       "0   сотрудник     0        253875               покупка жилья   \n",
       "1   сотрудник     0        112080     приобретение автомобиля   \n",
       "2   сотрудник     0        145885               покупка жилья   \n",
       "3   сотрудник     0        267628  дополнительное образование   \n",
       "4   пенсионер     0        158616             сыграть свадьбу   \n",
       "\n",
       "  total_income_category  \n",
       "0                     B  \n",
       "1                     C  \n",
       "2                     C  \n",
       "3                     B  \n",
       "4                     C  "
      ]
     },
     "execution_count": 17,
     "metadata": {},
     "output_type": "execute_result"
    }
   ],
   "source": [
    "df['total_income_category'] = df['total_income'].apply(income_category)\n",
    "df.head()"
   ]
  },
  {
   "cell_type": "markdown",
   "id": "4047b6fe",
   "metadata": {},
   "source": [
    "Категоризация поможет нам изучить влияние уровня дохода на возврат кредита в срок."
   ]
  },
  {
   "cell_type": "markdown",
   "id": "a1114452",
   "metadata": {},
   "source": [
    "### Шаг 2.7. Категоризация целей кредита."
   ]
  },
  {
   "cell_type": "markdown",
   "id": "c4fa2b68",
   "metadata": {},
   "source": [
    "Создадим функцию, которая на основании данных из столбца `purpose` сформирует новый столбец `purpose_category`, в который войдут следующие категории:\n",
    "* 'операции с автомобилем',\n",
    "* 'операции с недвижимостью',\n",
    "* 'проведение свадьбы',\n",
    "* 'получение образования'.\n"
   ]
  },
  {
   "cell_type": "code",
   "execution_count": 18,
   "id": "ff8798d7",
   "metadata": {},
   "outputs": [
    {
     "data": {
      "text/plain": [
       "'проведение свадьбы'"
      ]
     },
     "execution_count": 18,
     "metadata": {},
     "output_type": "execute_result"
    }
   ],
   "source": [
    "def purpose_group(purpose): #свадьб недвижимост жиль автомобил образовани\n",
    "    if 'свадьб' in purpose:\n",
    "        return 'проведение свадьбы'\n",
    "    if ('недвижимост' in purpose) or ('жиль' in purpose):\n",
    "        return 'операции с недвижимостью'\n",
    "    if 'авто' in purpose:\n",
    "        return 'операции с автомобилем'\n",
    "    return 'получение образования'\n",
    "purpose_group('сыграть свадьбу') #проверим что функция работает корректно"
   ]
  },
  {
   "cell_type": "markdown",
   "id": "7053e3e8",
   "metadata": {},
   "source": [
    "Создадим новый столбец `purpose_category`:"
   ]
  },
  {
   "cell_type": "code",
   "execution_count": 19,
   "id": "3ca31766",
   "metadata": {
    "scrolled": true
   },
   "outputs": [
    {
     "data": {
      "text/html": [
       "<div>\n",
       "<style scoped>\n",
       "    .dataframe tbody tr th:only-of-type {\n",
       "        vertical-align: middle;\n",
       "    }\n",
       "\n",
       "    .dataframe tbody tr th {\n",
       "        vertical-align: top;\n",
       "    }\n",
       "\n",
       "    .dataframe thead th {\n",
       "        text-align: right;\n",
       "    }\n",
       "</style>\n",
       "<table border=\"1\" class=\"dataframe\">\n",
       "  <thead>\n",
       "    <tr style=\"text-align: right;\">\n",
       "      <th></th>\n",
       "      <th>children</th>\n",
       "      <th>days_employed</th>\n",
       "      <th>dob_years</th>\n",
       "      <th>education_id</th>\n",
       "      <th>family_status_id</th>\n",
       "      <th>gender</th>\n",
       "      <th>income_type</th>\n",
       "      <th>debt</th>\n",
       "      <th>total_income</th>\n",
       "      <th>purpose</th>\n",
       "      <th>total_income_category</th>\n",
       "      <th>purpose_category</th>\n",
       "    </tr>\n",
       "  </thead>\n",
       "  <tbody>\n",
       "    <tr>\n",
       "      <th>0</th>\n",
       "      <td>1</td>\n",
       "      <td>351.569709</td>\n",
       "      <td>42</td>\n",
       "      <td>0</td>\n",
       "      <td>0</td>\n",
       "      <td>F</td>\n",
       "      <td>сотрудник</td>\n",
       "      <td>0</td>\n",
       "      <td>253875</td>\n",
       "      <td>покупка жилья</td>\n",
       "      <td>B</td>\n",
       "      <td>операции с недвижимостью</td>\n",
       "    </tr>\n",
       "    <tr>\n",
       "      <th>1</th>\n",
       "      <td>1</td>\n",
       "      <td>167.700156</td>\n",
       "      <td>36</td>\n",
       "      <td>1</td>\n",
       "      <td>0</td>\n",
       "      <td>F</td>\n",
       "      <td>сотрудник</td>\n",
       "      <td>0</td>\n",
       "      <td>112080</td>\n",
       "      <td>приобретение автомобиля</td>\n",
       "      <td>C</td>\n",
       "      <td>операции с автомобилем</td>\n",
       "    </tr>\n",
       "    <tr>\n",
       "      <th>2</th>\n",
       "      <td>0</td>\n",
       "      <td>234.309275</td>\n",
       "      <td>33</td>\n",
       "      <td>1</td>\n",
       "      <td>0</td>\n",
       "      <td>M</td>\n",
       "      <td>сотрудник</td>\n",
       "      <td>0</td>\n",
       "      <td>145885</td>\n",
       "      <td>покупка жилья</td>\n",
       "      <td>C</td>\n",
       "      <td>операции с недвижимостью</td>\n",
       "    </tr>\n",
       "    <tr>\n",
       "      <th>3</th>\n",
       "      <td>3</td>\n",
       "      <td>171.864467</td>\n",
       "      <td>32</td>\n",
       "      <td>1</td>\n",
       "      <td>0</td>\n",
       "      <td>M</td>\n",
       "      <td>сотрудник</td>\n",
       "      <td>0</td>\n",
       "      <td>267628</td>\n",
       "      <td>дополнительное образование</td>\n",
       "      <td>B</td>\n",
       "      <td>получение образования</td>\n",
       "    </tr>\n",
       "    <tr>\n",
       "      <th>4</th>\n",
       "      <td>0</td>\n",
       "      <td>14177.753002</td>\n",
       "      <td>53</td>\n",
       "      <td>1</td>\n",
       "      <td>1</td>\n",
       "      <td>F</td>\n",
       "      <td>пенсионер</td>\n",
       "      <td>0</td>\n",
       "      <td>158616</td>\n",
       "      <td>сыграть свадьбу</td>\n",
       "      <td>C</td>\n",
       "      <td>проведение свадьбы</td>\n",
       "    </tr>\n",
       "  </tbody>\n",
       "</table>\n",
       "</div>"
      ],
      "text/plain": [
       "   children  days_employed  dob_years  education_id  family_status_id gender  \\\n",
       "0         1     351.569709         42             0                 0      F   \n",
       "1         1     167.700156         36             1                 0      F   \n",
       "2         0     234.309275         33             1                 0      M   \n",
       "3         3     171.864467         32             1                 0      M   \n",
       "4         0   14177.753002         53             1                 1      F   \n",
       "\n",
       "  income_type  debt  total_income                     purpose  \\\n",
       "0   сотрудник     0        253875               покупка жилья   \n",
       "1   сотрудник     0        112080     приобретение автомобиля   \n",
       "2   сотрудник     0        145885               покупка жилья   \n",
       "3   сотрудник     0        267628  дополнительное образование   \n",
       "4   пенсионер     0        158616             сыграть свадьбу   \n",
       "\n",
       "  total_income_category          purpose_category  \n",
       "0                     B  операции с недвижимостью  \n",
       "1                     C    операции с автомобилем  \n",
       "2                     C  операции с недвижимостью  \n",
       "3                     B     получение образования  \n",
       "4                     C        проведение свадьбы  "
      ]
     },
     "execution_count": 19,
     "metadata": {},
     "output_type": "execute_result"
    }
   ],
   "source": [
    "df['purpose_category'] = df['purpose'].apply(purpose_group)\n",
    "df.head()"
   ]
  },
  {
   "cell_type": "markdown",
   "id": "7730c7d6",
   "metadata": {},
   "source": [
    "Категоризация поможет нам изучить влияние целей кредита на возврат кредита в срок"
   ]
  },
  {
   "cell_type": "markdown",
   "id": "3d2be82f",
   "metadata": {},
   "source": [
    "### Ответы на вопросы."
   ]
  },
  {
   "cell_type": "markdown",
   "id": "6ff4a5fa",
   "metadata": {},
   "source": [
    "##### Вопрос 1:\n",
    "**Есть ли зависимость между количеством детей и возвратом кредита в срок?**\n"
   ]
  },
  {
   "cell_type": "markdown",
   "id": "25e668b9",
   "metadata": {},
   "source": [
    "Напишем функцию для категоризации клиентов с детьми и без детей."
   ]
  },
  {
   "cell_type": "code",
   "execution_count": 20,
   "id": "2cbc7721",
   "metadata": {},
   "outputs": [
    {
     "data": {
      "text/plain": [
       "1"
      ]
     },
     "execution_count": 20,
     "metadata": {},
     "output_type": "execute_result"
    }
   ],
   "source": [
    "def having_children(children):\n",
    "    if children > 0:\n",
    "        return 1\n",
    "    return 0\n",
    "having_children(3) #проверим работу функции"
   ]
  },
  {
   "cell_type": "markdown",
   "id": "9d8a088b",
   "metadata": {},
   "source": [
    "Создадим новый столец `having_child`"
   ]
  },
  {
   "cell_type": "code",
   "execution_count": 21,
   "id": "caaab1c2",
   "metadata": {
    "scrolled": true
   },
   "outputs": [
    {
     "data": {
      "text/html": [
       "<div>\n",
       "<style scoped>\n",
       "    .dataframe tbody tr th:only-of-type {\n",
       "        vertical-align: middle;\n",
       "    }\n",
       "\n",
       "    .dataframe tbody tr th {\n",
       "        vertical-align: top;\n",
       "    }\n",
       "\n",
       "    .dataframe thead th {\n",
       "        text-align: right;\n",
       "    }\n",
       "</style>\n",
       "<table border=\"1\" class=\"dataframe\">\n",
       "  <thead>\n",
       "    <tr style=\"text-align: right;\">\n",
       "      <th></th>\n",
       "      <th>children</th>\n",
       "      <th>days_employed</th>\n",
       "      <th>dob_years</th>\n",
       "      <th>education_id</th>\n",
       "      <th>family_status_id</th>\n",
       "      <th>gender</th>\n",
       "      <th>income_type</th>\n",
       "      <th>debt</th>\n",
       "      <th>total_income</th>\n",
       "      <th>purpose</th>\n",
       "      <th>total_income_category</th>\n",
       "      <th>purpose_category</th>\n",
       "      <th>having_child</th>\n",
       "    </tr>\n",
       "  </thead>\n",
       "  <tbody>\n",
       "    <tr>\n",
       "      <th>0</th>\n",
       "      <td>1</td>\n",
       "      <td>351.569709</td>\n",
       "      <td>42</td>\n",
       "      <td>0</td>\n",
       "      <td>0</td>\n",
       "      <td>F</td>\n",
       "      <td>сотрудник</td>\n",
       "      <td>0</td>\n",
       "      <td>253875</td>\n",
       "      <td>покупка жилья</td>\n",
       "      <td>B</td>\n",
       "      <td>операции с недвижимостью</td>\n",
       "      <td>1</td>\n",
       "    </tr>\n",
       "    <tr>\n",
       "      <th>1</th>\n",
       "      <td>1</td>\n",
       "      <td>167.700156</td>\n",
       "      <td>36</td>\n",
       "      <td>1</td>\n",
       "      <td>0</td>\n",
       "      <td>F</td>\n",
       "      <td>сотрудник</td>\n",
       "      <td>0</td>\n",
       "      <td>112080</td>\n",
       "      <td>приобретение автомобиля</td>\n",
       "      <td>C</td>\n",
       "      <td>операции с автомобилем</td>\n",
       "      <td>1</td>\n",
       "    </tr>\n",
       "    <tr>\n",
       "      <th>2</th>\n",
       "      <td>0</td>\n",
       "      <td>234.309275</td>\n",
       "      <td>33</td>\n",
       "      <td>1</td>\n",
       "      <td>0</td>\n",
       "      <td>M</td>\n",
       "      <td>сотрудник</td>\n",
       "      <td>0</td>\n",
       "      <td>145885</td>\n",
       "      <td>покупка жилья</td>\n",
       "      <td>C</td>\n",
       "      <td>операции с недвижимостью</td>\n",
       "      <td>0</td>\n",
       "    </tr>\n",
       "    <tr>\n",
       "      <th>3</th>\n",
       "      <td>3</td>\n",
       "      <td>171.864467</td>\n",
       "      <td>32</td>\n",
       "      <td>1</td>\n",
       "      <td>0</td>\n",
       "      <td>M</td>\n",
       "      <td>сотрудник</td>\n",
       "      <td>0</td>\n",
       "      <td>267628</td>\n",
       "      <td>дополнительное образование</td>\n",
       "      <td>B</td>\n",
       "      <td>получение образования</td>\n",
       "      <td>1</td>\n",
       "    </tr>\n",
       "    <tr>\n",
       "      <th>4</th>\n",
       "      <td>0</td>\n",
       "      <td>14177.753002</td>\n",
       "      <td>53</td>\n",
       "      <td>1</td>\n",
       "      <td>1</td>\n",
       "      <td>F</td>\n",
       "      <td>пенсионер</td>\n",
       "      <td>0</td>\n",
       "      <td>158616</td>\n",
       "      <td>сыграть свадьбу</td>\n",
       "      <td>C</td>\n",
       "      <td>проведение свадьбы</td>\n",
       "      <td>0</td>\n",
       "    </tr>\n",
       "  </tbody>\n",
       "</table>\n",
       "</div>"
      ],
      "text/plain": [
       "   children  days_employed  dob_years  education_id  family_status_id gender  \\\n",
       "0         1     351.569709         42             0                 0      F   \n",
       "1         1     167.700156         36             1                 0      F   \n",
       "2         0     234.309275         33             1                 0      M   \n",
       "3         3     171.864467         32             1                 0      M   \n",
       "4         0   14177.753002         53             1                 1      F   \n",
       "\n",
       "  income_type  debt  total_income                     purpose  \\\n",
       "0   сотрудник     0        253875               покупка жилья   \n",
       "1   сотрудник     0        112080     приобретение автомобиля   \n",
       "2   сотрудник     0        145885               покупка жилья   \n",
       "3   сотрудник     0        267628  дополнительное образование   \n",
       "4   пенсионер     0        158616             сыграть свадьбу   \n",
       "\n",
       "  total_income_category          purpose_category  having_child  \n",
       "0                     B  операции с недвижимостью             1  \n",
       "1                     C    операции с автомобилем             1  \n",
       "2                     C  операции с недвижимостью             0  \n",
       "3                     B     получение образования             1  \n",
       "4                     C        проведение свадьбы             0  "
      ]
     },
     "execution_count": 21,
     "metadata": {},
     "output_type": "execute_result"
    }
   ],
   "source": [
    "df['having_child'] = df['children'].apply(having_children)\n",
    "df.head()"
   ]
  },
  {
   "cell_type": "markdown",
   "id": "45f657d6",
   "metadata": {},
   "source": [
    "Создадим сводную таблицу, чтобы посмотреть зависимость между наличием детей и возврата кредита в срок."
   ]
  },
  {
   "cell_type": "code",
   "execution_count": 22,
   "id": "5f50f7c9",
   "metadata": {},
   "outputs": [
    {
     "data": {
      "text/html": [
       "<div>\n",
       "<style scoped>\n",
       "    .dataframe tbody tr th:only-of-type {\n",
       "        vertical-align: middle;\n",
       "    }\n",
       "\n",
       "    .dataframe tbody tr th {\n",
       "        vertical-align: top;\n",
       "    }\n",
       "\n",
       "    .dataframe thead th {\n",
       "        text-align: right;\n",
       "    }\n",
       "</style>\n",
       "<table border=\"1\" class=\"dataframe\">\n",
       "  <thead>\n",
       "    <tr style=\"text-align: right;\">\n",
       "      <th></th>\n",
       "      <th>debt</th>\n",
       "    </tr>\n",
       "    <tr>\n",
       "      <th>having_child</th>\n",
       "      <th></th>\n",
       "    </tr>\n",
       "  </thead>\n",
       "  <tbody>\n",
       "    <tr>\n",
       "      <th>0</th>\n",
       "      <td>0.075353</td>\n",
       "    </tr>\n",
       "    <tr>\n",
       "      <th>1</th>\n",
       "      <td>0.092070</td>\n",
       "    </tr>\n",
       "  </tbody>\n",
       "</table>\n",
       "</div>"
      ],
      "text/plain": [
       "                  debt\n",
       "having_child          \n",
       "0             0.075353\n",
       "1             0.092070"
      ]
     },
     "execution_count": 22,
     "metadata": {},
     "output_type": "execute_result"
    }
   ],
   "source": [
    "df_pivot_child = df.pivot_table(index=['having_child'],values='debt')\n",
    "df_pivot_child"
   ]
  },
  {
   "cell_type": "markdown",
   "id": "d31c40b6",
   "metadata": {},
   "source": [
    "* Вероятность задолженности клиента с детьми составляет 0.092070 или **9.2%**\n",
    "* Вероятность задолженности клиента без детей составляет 0.075353 или **7.5%**"
   ]
  },
  {
   "cell_type": "markdown",
   "id": "1a133443",
   "metadata": {},
   "source": [
    "##### Вывод 1:\n",
    "\n",
    "Исходя из данных выше можно сделать вывод, что клиенты без детей ответственнее относятся к выплатам кредита в срок. "
   ]
  },
  {
   "cell_type": "markdown",
   "id": "43662c8e",
   "metadata": {},
   "source": [
    "##### Вопрос 2:\n",
    "**Есть ли зависимость между семейным положением и возвратом кредита в срок?**"
   ]
  },
  {
   "cell_type": "markdown",
   "id": "54d369f3",
   "metadata": {},
   "source": [
    "Создадим сводную таблицу и посмотрим зависимость между семейным положением и возвратом кредита в срок. Категоризация по семейному положению в столбце `family_status_id`\n",
    "\n",
    "* 0 - женат/замужем \n",
    "* 1 - гражданский брак\n",
    "* 2 - вдовец/вдова \n",
    "* 3 - в разводе\n",
    "* 4 - Не женат/не замужем"
   ]
  },
  {
   "cell_type": "code",
   "execution_count": 23,
   "id": "e89df18d",
   "metadata": {},
   "outputs": [
    {
     "data": {
      "text/html": [
       "<div>\n",
       "<style scoped>\n",
       "    .dataframe tbody tr th:only-of-type {\n",
       "        vertical-align: middle;\n",
       "    }\n",
       "\n",
       "    .dataframe tbody tr th {\n",
       "        vertical-align: top;\n",
       "    }\n",
       "\n",
       "    .dataframe thead th {\n",
       "        text-align: right;\n",
       "    }\n",
       "</style>\n",
       "<table border=\"1\" class=\"dataframe\">\n",
       "  <thead>\n",
       "    <tr style=\"text-align: right;\">\n",
       "      <th></th>\n",
       "      <th>debt</th>\n",
       "    </tr>\n",
       "    <tr>\n",
       "      <th>family_status_id</th>\n",
       "      <th></th>\n",
       "    </tr>\n",
       "  </thead>\n",
       "  <tbody>\n",
       "    <tr>\n",
       "      <th>0</th>\n",
       "      <td>0.075421</td>\n",
       "    </tr>\n",
       "    <tr>\n",
       "      <th>1</th>\n",
       "      <td>0.093202</td>\n",
       "    </tr>\n",
       "    <tr>\n",
       "      <th>2</th>\n",
       "      <td>0.065693</td>\n",
       "    </tr>\n",
       "    <tr>\n",
       "      <th>3</th>\n",
       "      <td>0.071130</td>\n",
       "    </tr>\n",
       "    <tr>\n",
       "      <th>4</th>\n",
       "      <td>0.097509</td>\n",
       "    </tr>\n",
       "  </tbody>\n",
       "</table>\n",
       "</div>"
      ],
      "text/plain": [
       "                      debt\n",
       "family_status_id          \n",
       "0                 0.075421\n",
       "1                 0.093202\n",
       "2                 0.065693\n",
       "3                 0.071130\n",
       "4                 0.097509"
      ]
     },
     "execution_count": 23,
     "metadata": {},
     "output_type": "execute_result"
    }
   ],
   "source": [
    "df_pivot_family = df.pivot_table(index=['family_status_id'], values='debt')\n",
    "df_pivot_family"
   ]
  },
  {
   "cell_type": "markdown",
   "id": "d3436280",
   "metadata": {},
   "source": [
    "Вероятность задолженности по убыванию:\n",
    "\n",
    "1. не женат / не замужем = 9,8%\n",
    "2. гражданский брак = 9,3%\n",
    "3. женат / замужем = 7,5%\n",
    "4. в разводе = 7,1%\n",
    "5. вдовец / вдова = 6,6%"
   ]
  },
  {
   "cell_type": "markdown",
   "id": "3c97f74f",
   "metadata": {},
   "source": [
    "##### Вывод 2:\n",
    "На основании этого можно сделать вывод, что зависимость между семейным положением и возвратом кредита в срок есть. Люди не в браке и не состощие в официальном браке, имеют больший шанс задолжить выплаты по кредиту. Также из таблицы видно, что те, кто развелись и овдовели чаще платят в срок."
   ]
  },
  {
   "cell_type": "markdown",
   "id": "b213a84c",
   "metadata": {},
   "source": [
    "##### Вопрос 3:\n",
    "**Есть ли зависимость между уровнем дохода и возвратом кредита в срок?**"
   ]
  },
  {
   "cell_type": "markdown",
   "id": "a469fb33",
   "metadata": {},
   "source": [
    "Создадим сводную таблицу и посмотрим зависимость между уровнем дохода и возвратом кредита в срок. В этом нам поможет столбец `total_income_category` с категоризацией дохода\n",
    "* 0–30000 — 'E';\n",
    "* 30001–50000 — 'D';\n",
    "* 50001–200000 — 'C';\n",
    "* 200001–1000000 — 'B';\n",
    "* 1000001 и выше — 'A'."
   ]
  },
  {
   "cell_type": "code",
   "execution_count": 24,
   "id": "58194633",
   "metadata": {},
   "outputs": [
    {
     "data": {
      "text/html": [
       "<div>\n",
       "<style scoped>\n",
       "    .dataframe tbody tr th:only-of-type {\n",
       "        vertical-align: middle;\n",
       "    }\n",
       "\n",
       "    .dataframe tbody tr th {\n",
       "        vertical-align: top;\n",
       "    }\n",
       "\n",
       "    .dataframe thead th {\n",
       "        text-align: right;\n",
       "    }\n",
       "</style>\n",
       "<table border=\"1\" class=\"dataframe\">\n",
       "  <thead>\n",
       "    <tr style=\"text-align: right;\">\n",
       "      <th></th>\n",
       "      <th>debt</th>\n",
       "    </tr>\n",
       "    <tr>\n",
       "      <th>total_income_category</th>\n",
       "      <th></th>\n",
       "    </tr>\n",
       "  </thead>\n",
       "  <tbody>\n",
       "    <tr>\n",
       "      <th>A</th>\n",
       "      <td>0.080000</td>\n",
       "    </tr>\n",
       "    <tr>\n",
       "      <th>B</th>\n",
       "      <td>0.070621</td>\n",
       "    </tr>\n",
       "    <tr>\n",
       "      <th>C</th>\n",
       "      <td>0.084825</td>\n",
       "    </tr>\n",
       "    <tr>\n",
       "      <th>D</th>\n",
       "      <td>0.060000</td>\n",
       "    </tr>\n",
       "    <tr>\n",
       "      <th>E</th>\n",
       "      <td>0.090909</td>\n",
       "    </tr>\n",
       "  </tbody>\n",
       "</table>\n",
       "</div>"
      ],
      "text/plain": [
       "                           debt\n",
       "total_income_category          \n",
       "A                      0.080000\n",
       "B                      0.070621\n",
       "C                      0.084825\n",
       "D                      0.060000\n",
       "E                      0.090909"
      ]
     },
     "execution_count": 24,
     "metadata": {},
     "output_type": "execute_result"
    }
   ],
   "source": [
    "df_pivot_income = df.pivot_table(index=['total_income_category'], values='debt')\n",
    "df_pivot_income"
   ]
  },
  {
   "cell_type": "markdown",
   "id": "351c1290",
   "metadata": {},
   "source": [
    "Получившиеся вероятности:\n",
    "1. Категория Е - 9,1%\n",
    "2. Категория С - 8,4%\n",
    "3. Категория А - 8%\n",
    "4. Категория В - 7,1%\n",
    "5. Категория D - 6%\n"
   ]
  },
  {
   "cell_type": "markdown",
   "id": "29c8a99e",
   "metadata": {},
   "source": [
    "##### Вывод 3:\n",
    "Зависимость между уровнем дохода и возвратом кредита в срок не наблюдается. "
   ]
  },
  {
   "cell_type": "markdown",
   "id": "c711db40",
   "metadata": {},
   "source": [
    "##### Вопрос 4:\n",
    "**Как разные цели кредита влияют на его возврат в срок?**"
   ]
  },
  {
   "cell_type": "markdown",
   "id": "00f25156",
   "metadata": {},
   "source": [
    "Создадим сводную таблицу. В ответе на этот вопрос нам поможет столбец `purpose_category`"
   ]
  },
  {
   "cell_type": "code",
   "execution_count": 25,
   "id": "3201e39f",
   "metadata": {
    "scrolled": true
   },
   "outputs": [
    {
     "data": {
      "text/html": [
       "<div>\n",
       "<style scoped>\n",
       "    .dataframe tbody tr th:only-of-type {\n",
       "        vertical-align: middle;\n",
       "    }\n",
       "\n",
       "    .dataframe tbody tr th {\n",
       "        vertical-align: top;\n",
       "    }\n",
       "\n",
       "    .dataframe thead th {\n",
       "        text-align: right;\n",
       "    }\n",
       "</style>\n",
       "<table border=\"1\" class=\"dataframe\">\n",
       "  <thead>\n",
       "    <tr style=\"text-align: right;\">\n",
       "      <th></th>\n",
       "      <th>debt</th>\n",
       "    </tr>\n",
       "    <tr>\n",
       "      <th>purpose_category</th>\n",
       "      <th></th>\n",
       "    </tr>\n",
       "  </thead>\n",
       "  <tbody>\n",
       "    <tr>\n",
       "      <th>операции с автомобилем</th>\n",
       "      <td>0.093547</td>\n",
       "    </tr>\n",
       "    <tr>\n",
       "      <th>операции с недвижимостью</th>\n",
       "      <td>0.072314</td>\n",
       "    </tr>\n",
       "    <tr>\n",
       "      <th>получение образования</th>\n",
       "      <td>0.092177</td>\n",
       "    </tr>\n",
       "    <tr>\n",
       "      <th>проведение свадьбы</th>\n",
       "      <td>0.079657</td>\n",
       "    </tr>\n",
       "  </tbody>\n",
       "</table>\n",
       "</div>"
      ],
      "text/plain": [
       "                              debt\n",
       "purpose_category                  \n",
       "операции с автомобилем    0.093547\n",
       "операции с недвижимостью  0.072314\n",
       "получение образования     0.092177\n",
       "проведение свадьбы        0.079657"
      ]
     },
     "execution_count": 25,
     "metadata": {},
     "output_type": "execute_result"
    }
   ],
   "source": [
    "df_pivot_purpose = df.pivot_table(index=['purpose_category'], values='debt')\n",
    "df_pivot_purpose                                 "
   ]
  },
  {
   "cell_type": "markdown",
   "id": "a4d76414",
   "metadata": {},
   "source": [
    "Полученные вероятности:\n",
    "1. операции с автомобилем 9,4%\n",
    "2. получение образования 9,2%\n",
    "3. проведение свадьбы 8%\n",
    "4. операции с недвижимостью 7,2%"
   ]
  },
  {
   "cell_type": "markdown",
   "id": "81467f44",
   "metadata": {},
   "source": [
    "##### Вывод 4:\n",
    "На основании полученных данных можно сделать вывод, что клиенты берущие кредит на операции с недживимостью чаще платят в срок. Чуть реже на проведение свадьбы. Клиенты берущие кредит для операций с автомобилем и получения образования чаще задерживают выплаты."
   ]
  },
  {
   "cell_type": "markdown",
   "id": "e20bc8a3",
   "metadata": {},
   "source": [
    "## Общий вывод:"
   ]
  },
  {
   "cell_type": "markdown",
   "id": "ff8a1651",
   "metadata": {},
   "source": [
    "Семейный статус влияет на возврат кредита в срок: люди, состоящие в официальном браке, разведенные или потерявшие своего супруга реже пропускают выплаты. \n",
    "Наличие детей также влияет на выплаты в срок: так люди не имеющие детей имеют меньше задоленности по кредиту.\n",
    "Цели кредита также влияют на возврат в срок: люди, берущие кредит на операции с недвижимостью или на проведение свадьбы имеют меньше задолженностей.\n",
    "\n",
    "На основании этого можно составить портрет идеального клиента:\n",
    "Женщина( или мужчина, влияние пола не проводилось в данном иследовании) замужем или в разводе, без детей, берет кредит с целью покупки недвижимости."
   ]
  }
 ],
 "metadata": {
  "ExecuteTimeLog": [
   {
    "duration": 498,
    "start_time": "2022-05-05T09:42:07.371Z"
   },
   {
    "duration": 67,
    "start_time": "2022-05-05T10:41:05.665Z"
   },
   {
    "duration": 71,
    "start_time": "2022-05-05T10:41:36.039Z"
   },
   {
    "duration": 14,
    "start_time": "2022-05-05T10:46:05.079Z"
   },
   {
    "duration": 62,
    "start_time": "2022-05-05T10:48:33.754Z"
   },
   {
    "duration": 14,
    "start_time": "2022-05-05T10:48:42.250Z"
   },
   {
    "duration": 16,
    "start_time": "2022-05-05T11:16:50.221Z"
   },
   {
    "duration": 4,
    "start_time": "2022-05-05T13:29:47.955Z"
   },
   {
    "duration": 5,
    "start_time": "2022-05-05T13:30:48.525Z"
   },
   {
    "duration": 12,
    "start_time": "2022-05-05T13:31:18.986Z"
   },
   {
    "duration": 11,
    "start_time": "2022-05-05T13:32:07.009Z"
   },
   {
    "duration": 63,
    "start_time": "2022-05-05T13:32:20.744Z"
   },
   {
    "duration": 14,
    "start_time": "2022-05-05T13:32:24.484Z"
   },
   {
    "duration": 10,
    "start_time": "2022-05-05T13:32:29.293Z"
   },
   {
    "duration": 11,
    "start_time": "2022-05-05T13:32:33.581Z"
   },
   {
    "duration": 16,
    "start_time": "2022-05-05T14:44:56.195Z"
   },
   {
    "duration": 16,
    "start_time": "2022-05-05T14:45:24.100Z"
   },
   {
    "duration": 27,
    "start_time": "2022-05-05T14:46:51.665Z"
   },
   {
    "duration": 17,
    "start_time": "2022-05-05T14:47:09.479Z"
   },
   {
    "duration": 13,
    "start_time": "2022-05-05T14:47:29.965Z"
   },
   {
    "duration": 68,
    "start_time": "2022-05-05T14:47:47.210Z"
   },
   {
    "duration": 17,
    "start_time": "2022-05-05T14:47:51.394Z"
   },
   {
    "duration": 13,
    "start_time": "2022-05-05T14:47:57.060Z"
   },
   {
    "duration": 13,
    "start_time": "2022-05-05T14:48:00.552Z"
   },
   {
    "duration": 13,
    "start_time": "2022-05-05T14:48:06.138Z"
   },
   {
    "duration": 17,
    "start_time": "2022-05-05T14:49:28.773Z"
   },
   {
    "duration": 17,
    "start_time": "2022-05-05T14:50:52.273Z"
   },
   {
    "duration": 97,
    "start_time": "2022-05-05T14:51:45.998Z"
   },
   {
    "duration": 36,
    "start_time": "2022-05-05T14:51:51.296Z"
   },
   {
    "duration": 10,
    "start_time": "2022-05-05T14:51:58.482Z"
   },
   {
    "duration": 12,
    "start_time": "2022-05-05T14:52:01.459Z"
   },
   {
    "duration": 22,
    "start_time": "2022-05-05T14:52:06.710Z"
   },
   {
    "duration": 20,
    "start_time": "2022-05-05T14:52:31.678Z"
   },
   {
    "duration": 17,
    "start_time": "2022-05-05T14:52:40.668Z"
   },
   {
    "duration": 17,
    "start_time": "2022-05-05T14:52:46.856Z"
   },
   {
    "duration": 12,
    "start_time": "2022-05-05T14:52:50.368Z"
   },
   {
    "duration": 13,
    "start_time": "2022-05-05T14:52:53.753Z"
   },
   {
    "duration": 68,
    "start_time": "2022-05-05T14:53:19.731Z"
   },
   {
    "duration": 14,
    "start_time": "2022-05-05T14:53:27.485Z"
   },
   {
    "duration": 10,
    "start_time": "2022-05-05T14:53:31.946Z"
   },
   {
    "duration": 11,
    "start_time": "2022-05-05T14:53:35.261Z"
   },
   {
    "duration": 13,
    "start_time": "2022-05-05T14:53:41.844Z"
   },
   {
    "duration": 11,
    "start_time": "2022-05-05T14:58:27.733Z"
   },
   {
    "duration": 439,
    "start_time": "2022-05-06T05:45:33.136Z"
   },
   {
    "duration": 15,
    "start_time": "2022-05-06T05:45:37.439Z"
   },
   {
    "duration": 9,
    "start_time": "2022-05-06T05:45:42.018Z"
   },
   {
    "duration": 11,
    "start_time": "2022-05-06T05:45:46.277Z"
   },
   {
    "duration": 16,
    "start_time": "2022-05-06T05:45:50.181Z"
   },
   {
    "duration": 11,
    "start_time": "2022-05-06T05:45:55.200Z"
   },
   {
    "duration": 15,
    "start_time": "2022-05-06T06:26:29.514Z"
   },
   {
    "duration": 17,
    "start_time": "2022-05-06T06:27:12.001Z"
   },
   {
    "duration": 19,
    "start_time": "2022-05-06T06:43:05.237Z"
   },
   {
    "duration": 20,
    "start_time": "2022-05-06T06:48:24.251Z"
   },
   {
    "duration": 32,
    "start_time": "2022-05-06T06:48:37.671Z"
   },
   {
    "duration": 7,
    "start_time": "2022-05-06T07:26:57.890Z"
   },
   {
    "duration": 12,
    "start_time": "2022-05-06T07:29:22.802Z"
   },
   {
    "duration": 7,
    "start_time": "2022-05-06T07:30:50.432Z"
   },
   {
    "duration": 9,
    "start_time": "2022-05-06T07:31:03.767Z"
   },
   {
    "duration": 8,
    "start_time": "2022-05-06T07:31:10.377Z"
   },
   {
    "duration": 15,
    "start_time": "2022-05-06T07:31:59.807Z"
   },
   {
    "duration": 7,
    "start_time": "2022-05-06T07:34:51.778Z"
   },
   {
    "duration": 7,
    "start_time": "2022-05-06T07:35:04.020Z"
   },
   {
    "duration": 9,
    "start_time": "2022-05-06T07:35:51.607Z"
   },
   {
    "duration": 12,
    "start_time": "2022-05-06T07:36:52.101Z"
   },
   {
    "duration": 8,
    "start_time": "2022-05-06T08:25:56.981Z"
   },
   {
    "duration": 68,
    "start_time": "2022-05-06T08:27:37.167Z"
   },
   {
    "duration": 8,
    "start_time": "2022-05-06T08:27:56.278Z"
   },
   {
    "duration": 87,
    "start_time": "2022-05-06T08:29:52.854Z"
   },
   {
    "duration": 18,
    "start_time": "2022-05-06T08:32:00.431Z"
   },
   {
    "duration": 8,
    "start_time": "2022-05-06T08:32:11.508Z"
   },
   {
    "duration": 8,
    "start_time": "2022-05-06T08:32:14.422Z"
   },
   {
    "duration": 5,
    "start_time": "2022-05-06T09:01:09.340Z"
   },
   {
    "duration": 14,
    "start_time": "2022-05-06T09:01:24.263Z"
   },
   {
    "duration": 12,
    "start_time": "2022-05-06T09:01:51.475Z"
   },
   {
    "duration": 62,
    "start_time": "2022-05-06T09:02:47.722Z"
   },
   {
    "duration": 16,
    "start_time": "2022-05-06T09:02:51.825Z"
   },
   {
    "duration": 9,
    "start_time": "2022-05-06T09:02:55.992Z"
   },
   {
    "duration": 10,
    "start_time": "2022-05-06T09:03:03.479Z"
   },
   {
    "duration": 14,
    "start_time": "2022-05-06T09:03:10.849Z"
   },
   {
    "duration": 12,
    "start_time": "2022-05-06T09:03:15.726Z"
   },
   {
    "duration": 16,
    "start_time": "2022-05-06T09:03:21.383Z"
   },
   {
    "duration": 18,
    "start_time": "2022-05-06T09:03:25.102Z"
   },
   {
    "duration": 36,
    "start_time": "2022-05-06T09:03:27.308Z"
   },
   {
    "duration": 7,
    "start_time": "2022-05-06T09:03:30.582Z"
   },
   {
    "duration": 16,
    "start_time": "2022-05-06T09:03:33.511Z"
   },
   {
    "duration": 9,
    "start_time": "2022-05-06T09:03:38.034Z"
   },
   {
    "duration": 9,
    "start_time": "2022-05-06T09:03:41.141Z"
   },
   {
    "duration": 14,
    "start_time": "2022-05-06T09:03:44.650Z"
   },
   {
    "duration": 13,
    "start_time": "2022-05-06T09:04:21.540Z"
   },
   {
    "duration": 11,
    "start_time": "2022-05-06T09:04:28.507Z"
   },
   {
    "duration": 80,
    "start_time": "2022-05-06T09:04:49.119Z"
   },
   {
    "duration": 23,
    "start_time": "2022-05-06T09:04:49.201Z"
   },
   {
    "duration": 10,
    "start_time": "2022-05-06T09:04:49.226Z"
   },
   {
    "duration": 10,
    "start_time": "2022-05-06T09:04:49.239Z"
   },
   {
    "duration": 12,
    "start_time": "2022-05-06T09:04:49.251Z"
   },
   {
    "duration": 12,
    "start_time": "2022-05-06T09:04:49.264Z"
   },
   {
    "duration": 13,
    "start_time": "2022-05-06T09:04:49.278Z"
   },
   {
    "duration": 16,
    "start_time": "2022-05-06T09:04:49.324Z"
   },
   {
    "duration": 31,
    "start_time": "2022-05-06T09:04:49.342Z"
   },
   {
    "duration": 7,
    "start_time": "2022-05-06T09:04:49.375Z"
   },
   {
    "duration": 46,
    "start_time": "2022-05-06T09:04:49.383Z"
   },
   {
    "duration": 9,
    "start_time": "2022-05-06T09:04:49.430Z"
   },
   {
    "duration": 10,
    "start_time": "2022-05-06T09:04:49.440Z"
   },
   {
    "duration": 9,
    "start_time": "2022-05-06T09:04:49.451Z"
   },
   {
    "duration": 11,
    "start_time": "2022-05-06T09:05:45.693Z"
   },
   {
    "duration": 59,
    "start_time": "2022-05-06T09:05:49.472Z"
   },
   {
    "duration": 14,
    "start_time": "2022-05-06T09:05:49.532Z"
   },
   {
    "duration": 8,
    "start_time": "2022-05-06T09:05:49.548Z"
   },
   {
    "duration": 15,
    "start_time": "2022-05-06T09:05:49.558Z"
   },
   {
    "duration": 13,
    "start_time": "2022-05-06T09:05:49.574Z"
   },
   {
    "duration": 13,
    "start_time": "2022-05-06T09:05:49.588Z"
   },
   {
    "duration": 34,
    "start_time": "2022-05-06T09:05:49.603Z"
   },
   {
    "duration": 16,
    "start_time": "2022-05-06T09:05:49.638Z"
   },
   {
    "duration": 32,
    "start_time": "2022-05-06T09:05:49.655Z"
   },
   {
    "duration": 35,
    "start_time": "2022-05-06T09:05:49.690Z"
   },
   {
    "duration": 17,
    "start_time": "2022-05-06T09:05:49.727Z"
   },
   {
    "duration": 12,
    "start_time": "2022-05-06T09:05:49.745Z"
   },
   {
    "duration": 11,
    "start_time": "2022-05-06T09:05:49.759Z"
   },
   {
    "duration": 9,
    "start_time": "2022-05-06T09:05:49.772Z"
   },
   {
    "duration": 4,
    "start_time": "2022-05-06T10:15:18.789Z"
   },
   {
    "duration": 5,
    "start_time": "2022-05-06T10:16:02.933Z"
   },
   {
    "duration": 17,
    "start_time": "2022-05-06T10:27:48.624Z"
   },
   {
    "duration": 14,
    "start_time": "2022-05-06T12:04:12.856Z"
   },
   {
    "duration": 7,
    "start_time": "2022-05-06T12:06:20.025Z"
   },
   {
    "duration": 14,
    "start_time": "2022-05-06T12:06:29.440Z"
   },
   {
    "duration": 5,
    "start_time": "2022-05-06T12:16:15.213Z"
   },
   {
    "duration": 17,
    "start_time": "2022-05-06T12:17:25.300Z"
   },
   {
    "duration": 5,
    "start_time": "2022-05-06T12:18:51.434Z"
   },
   {
    "duration": 17,
    "start_time": "2022-05-06T12:20:37.749Z"
   },
   {
    "duration": 609,
    "start_time": "2022-05-06T15:03:43.594Z"
   },
   {
    "duration": 21,
    "start_time": "2022-05-06T15:03:44.206Z"
   },
   {
    "duration": 13,
    "start_time": "2022-05-06T15:03:44.229Z"
   },
   {
    "duration": 17,
    "start_time": "2022-05-06T15:03:44.245Z"
   },
   {
    "duration": 22,
    "start_time": "2022-05-06T15:03:44.293Z"
   },
   {
    "duration": 14,
    "start_time": "2022-05-06T15:03:44.317Z"
   },
   {
    "duration": 23,
    "start_time": "2022-05-06T15:03:44.333Z"
   },
   {
    "duration": 57,
    "start_time": "2022-05-06T15:03:44.358Z"
   },
   {
    "duration": 52,
    "start_time": "2022-05-06T15:03:44.417Z"
   },
   {
    "duration": 30,
    "start_time": "2022-05-06T15:03:44.471Z"
   },
   {
    "duration": 29,
    "start_time": "2022-05-06T15:03:44.503Z"
   },
   {
    "duration": 14,
    "start_time": "2022-05-06T15:03:44.534Z"
   },
   {
    "duration": 16,
    "start_time": "2022-05-06T15:03:44.550Z"
   },
   {
    "duration": 35,
    "start_time": "2022-05-06T15:03:44.569Z"
   },
   {
    "duration": 18,
    "start_time": "2022-05-06T15:03:44.606Z"
   },
   {
    "duration": 38,
    "start_time": "2022-05-06T15:03:44.626Z"
   },
   {
    "duration": 8,
    "start_time": "2022-05-06T15:03:44.666Z"
   },
   {
    "duration": 34,
    "start_time": "2022-05-06T15:03:44.676Z"
   },
   {
    "duration": 95,
    "start_time": "2022-05-06T15:09:52.102Z"
   },
   {
    "duration": 11,
    "start_time": "2022-05-06T15:09:58.813Z"
   },
   {
    "duration": 8,
    "start_time": "2022-05-06T15:10:25.444Z"
   },
   {
    "duration": 4,
    "start_time": "2022-05-06T15:14:35.296Z"
   },
   {
    "duration": 86,
    "start_time": "2022-05-06T15:14:48.141Z"
   },
   {
    "duration": 20,
    "start_time": "2022-05-06T15:14:48.229Z"
   },
   {
    "duration": 12,
    "start_time": "2022-05-06T15:14:48.251Z"
   },
   {
    "duration": 16,
    "start_time": "2022-05-06T15:14:48.292Z"
   },
   {
    "duration": 22,
    "start_time": "2022-05-06T15:14:48.309Z"
   },
   {
    "duration": 18,
    "start_time": "2022-05-06T15:14:48.333Z"
   },
   {
    "duration": 4,
    "start_time": "2022-05-06T15:14:48.353Z"
   },
   {
    "duration": 21,
    "start_time": "2022-05-06T15:14:48.392Z"
   },
   {
    "duration": 24,
    "start_time": "2022-05-06T15:14:48.415Z"
   },
   {
    "duration": 80,
    "start_time": "2022-05-06T15:14:48.442Z"
   },
   {
    "duration": 10,
    "start_time": "2022-05-06T15:14:48.524Z"
   },
   {
    "duration": 31,
    "start_time": "2022-05-06T15:14:48.536Z"
   },
   {
    "duration": 26,
    "start_time": "2022-05-06T15:14:48.569Z"
   },
   {
    "duration": 19,
    "start_time": "2022-05-06T15:14:48.597Z"
   },
   {
    "duration": 34,
    "start_time": "2022-05-06T15:14:48.618Z"
   },
   {
    "duration": 21,
    "start_time": "2022-05-06T15:14:48.654Z"
   },
   {
    "duration": 36,
    "start_time": "2022-05-06T15:14:48.677Z"
   },
   {
    "duration": 10,
    "start_time": "2022-05-06T15:14:48.715Z"
   },
   {
    "duration": 28,
    "start_time": "2022-05-06T15:14:48.728Z"
   },
   {
    "duration": 19,
    "start_time": "2022-05-06T15:14:48.758Z"
   },
   {
    "duration": 24,
    "start_time": "2022-05-06T15:41:35.909Z"
   },
   {
    "duration": 31,
    "start_time": "2022-05-06T15:41:56.850Z"
   },
   {
    "duration": 10,
    "start_time": "2022-05-06T15:43:34.500Z"
   },
   {
    "duration": 10,
    "start_time": "2022-05-06T15:45:43.361Z"
   },
   {
    "duration": 9,
    "start_time": "2022-05-06T15:46:11.412Z"
   },
   {
    "duration": 455,
    "start_time": "2022-05-07T05:33:45.982Z"
   },
   {
    "duration": 17,
    "start_time": "2022-05-07T05:33:51.043Z"
   },
   {
    "duration": 11,
    "start_time": "2022-05-07T05:33:55.672Z"
   },
   {
    "duration": 13,
    "start_time": "2022-05-07T05:34:00.440Z"
   },
   {
    "duration": 20,
    "start_time": "2022-05-07T05:34:08.437Z"
   },
   {
    "duration": 13,
    "start_time": "2022-05-07T05:34:26.286Z"
   },
   {
    "duration": 5,
    "start_time": "2022-05-07T05:37:26.279Z"
   },
   {
    "duration": 923,
    "start_time": "2022-05-07T05:39:08.030Z"
   },
   {
    "duration": 20,
    "start_time": "2022-05-07T05:39:42.771Z"
   },
   {
    "duration": 72,
    "start_time": "2022-05-07T05:42:18.718Z"
   },
   {
    "duration": 16,
    "start_time": "2022-05-07T05:42:18.792Z"
   },
   {
    "duration": 11,
    "start_time": "2022-05-07T05:42:18.809Z"
   },
   {
    "duration": 33,
    "start_time": "2022-05-07T05:42:18.823Z"
   },
   {
    "duration": 14,
    "start_time": "2022-05-07T05:42:18.857Z"
   },
   {
    "duration": 14,
    "start_time": "2022-05-07T05:42:18.873Z"
   },
   {
    "duration": 16,
    "start_time": "2022-05-07T05:42:18.889Z"
   },
   {
    "duration": 16,
    "start_time": "2022-05-07T05:42:18.906Z"
   },
   {
    "duration": 46,
    "start_time": "2022-05-07T05:42:18.924Z"
   },
   {
    "duration": 34,
    "start_time": "2022-05-07T05:42:18.973Z"
   },
   {
    "duration": 7,
    "start_time": "2022-05-07T05:42:19.009Z"
   },
   {
    "duration": 43,
    "start_time": "2022-05-07T05:42:19.017Z"
   },
   {
    "duration": 7,
    "start_time": "2022-05-07T05:42:19.062Z"
   },
   {
    "duration": 10,
    "start_time": "2022-05-07T05:42:19.071Z"
   },
   {
    "duration": 7,
    "start_time": "2022-05-07T05:42:19.083Z"
   },
   {
    "duration": 6,
    "start_time": "2022-05-07T05:42:19.091Z"
   },
   {
    "duration": 20,
    "start_time": "2022-05-07T05:42:19.099Z"
   },
   {
    "duration": 5,
    "start_time": "2022-05-07T05:42:19.121Z"
   },
   {
    "duration": 18,
    "start_time": "2022-05-07T05:42:19.155Z"
   },
   {
    "duration": 8,
    "start_time": "2022-05-07T05:42:19.175Z"
   },
   {
    "duration": 557,
    "start_time": "2022-05-08T06:52:44.862Z"
   },
   {
    "duration": 27,
    "start_time": "2022-05-08T06:52:45.421Z"
   },
   {
    "duration": 14,
    "start_time": "2022-05-08T06:52:45.450Z"
   },
   {
    "duration": 16,
    "start_time": "2022-05-08T06:52:45.467Z"
   },
   {
    "duration": 17,
    "start_time": "2022-05-08T06:52:45.485Z"
   },
   {
    "duration": 15,
    "start_time": "2022-05-08T06:52:45.504Z"
   },
   {
    "duration": 21,
    "start_time": "2022-05-08T06:52:45.548Z"
   },
   {
    "duration": 22,
    "start_time": "2022-05-08T06:52:45.571Z"
   },
   {
    "duration": 24,
    "start_time": "2022-05-08T06:52:45.594Z"
   },
   {
    "duration": 73,
    "start_time": "2022-05-08T06:52:45.621Z"
   },
   {
    "duration": 8,
    "start_time": "2022-05-08T06:52:45.696Z"
   },
   {
    "duration": 24,
    "start_time": "2022-05-08T06:52:45.706Z"
   },
   {
    "duration": 10,
    "start_time": "2022-05-08T06:52:45.747Z"
   },
   {
    "duration": 15,
    "start_time": "2022-05-08T06:52:45.759Z"
   },
   {
    "duration": 8,
    "start_time": "2022-05-08T06:52:45.775Z"
   },
   {
    "duration": 5,
    "start_time": "2022-05-08T06:52:45.785Z"
   },
   {
    "duration": 24,
    "start_time": "2022-05-08T06:52:45.792Z"
   },
   {
    "duration": 30,
    "start_time": "2022-05-08T06:52:45.818Z"
   },
   {
    "duration": 24,
    "start_time": "2022-05-08T06:52:45.850Z"
   },
   {
    "duration": 8,
    "start_time": "2022-05-08T07:19:17.249Z"
   },
   {
    "duration": 65,
    "start_time": "2022-05-08T07:19:46.703Z"
   },
   {
    "duration": 14,
    "start_time": "2022-05-08T07:19:46.770Z"
   },
   {
    "duration": 9,
    "start_time": "2022-05-08T07:19:46.785Z"
   },
   {
    "duration": 11,
    "start_time": "2022-05-08T07:19:46.796Z"
   },
   {
    "duration": 41,
    "start_time": "2022-05-08T07:19:46.808Z"
   },
   {
    "duration": 12,
    "start_time": "2022-05-08T07:19:46.850Z"
   },
   {
    "duration": 9,
    "start_time": "2022-05-08T07:19:46.863Z"
   },
   {
    "duration": 23,
    "start_time": "2022-05-08T07:19:46.873Z"
   },
   {
    "duration": 15,
    "start_time": "2022-05-08T07:19:46.897Z"
   },
   {
    "duration": 52,
    "start_time": "2022-05-08T07:19:46.915Z"
   },
   {
    "duration": 6,
    "start_time": "2022-05-08T07:19:46.968Z"
   },
   {
    "duration": 17,
    "start_time": "2022-05-08T07:19:46.976Z"
   },
   {
    "duration": 12,
    "start_time": "2022-05-08T07:19:46.994Z"
   },
   {
    "duration": 8,
    "start_time": "2022-05-08T07:19:47.007Z"
   },
   {
    "duration": 6,
    "start_time": "2022-05-08T07:19:47.017Z"
   },
   {
    "duration": 4,
    "start_time": "2022-05-08T07:19:47.048Z"
   },
   {
    "duration": 21,
    "start_time": "2022-05-08T07:19:47.054Z"
   },
   {
    "duration": 4,
    "start_time": "2022-05-08T07:19:47.077Z"
   },
   {
    "duration": 17,
    "start_time": "2022-05-08T07:19:47.083Z"
   },
   {
    "duration": 7,
    "start_time": "2022-05-08T07:21:55.621Z"
   },
   {
    "duration": 7,
    "start_time": "2022-05-08T07:22:08.810Z"
   },
   {
    "duration": 8,
    "start_time": "2022-05-08T07:22:26.506Z"
   },
   {
    "duration": 9,
    "start_time": "2022-05-08T07:23:46.162Z"
   },
   {
    "duration": 24,
    "start_time": "2022-05-08T07:24:02.757Z"
   },
   {
    "duration": 103,
    "start_time": "2022-05-08T07:24:21.029Z"
   },
   {
    "duration": 18,
    "start_time": "2022-05-08T07:24:41.949Z"
   },
   {
    "duration": 24,
    "start_time": "2022-05-08T07:24:50.370Z"
   },
   {
    "duration": 61,
    "start_time": "2022-05-08T07:25:53.724Z"
   },
   {
    "duration": 12,
    "start_time": "2022-05-08T07:26:13.506Z"
   },
   {
    "duration": 68,
    "start_time": "2022-05-08T07:26:21.185Z"
   },
   {
    "duration": 15,
    "start_time": "2022-05-08T07:26:21.256Z"
   },
   {
    "duration": 10,
    "start_time": "2022-05-08T07:26:21.272Z"
   },
   {
    "duration": 11,
    "start_time": "2022-05-08T07:26:21.284Z"
   },
   {
    "duration": 13,
    "start_time": "2022-05-08T07:26:21.297Z"
   },
   {
    "duration": 12,
    "start_time": "2022-05-08T07:26:21.347Z"
   },
   {
    "duration": 15,
    "start_time": "2022-05-08T07:26:21.361Z"
   },
   {
    "duration": 14,
    "start_time": "2022-05-08T07:26:21.378Z"
   },
   {
    "duration": 17,
    "start_time": "2022-05-08T07:26:21.394Z"
   },
   {
    "duration": 64,
    "start_time": "2022-05-08T07:26:21.413Z"
   },
   {
    "duration": 7,
    "start_time": "2022-05-08T07:26:21.479Z"
   },
   {
    "duration": 17,
    "start_time": "2022-05-08T07:26:21.488Z"
   },
   {
    "duration": 11,
    "start_time": "2022-05-08T07:26:21.507Z"
   },
   {
    "duration": 31,
    "start_time": "2022-05-08T07:26:21.520Z"
   },
   {
    "duration": 14,
    "start_time": "2022-05-08T07:26:21.553Z"
   },
   {
    "duration": 9,
    "start_time": "2022-05-08T07:26:21.569Z"
   },
   {
    "duration": 21,
    "start_time": "2022-05-08T07:26:21.579Z"
   },
   {
    "duration": 5,
    "start_time": "2022-05-08T07:26:21.601Z"
   },
   {
    "duration": 18,
    "start_time": "2022-05-08T07:26:21.608Z"
   },
   {
    "duration": 7,
    "start_time": "2022-05-08T07:27:07.997Z"
   },
   {
    "duration": 59,
    "start_time": "2022-05-08T07:27:12.210Z"
   },
   {
    "duration": 14,
    "start_time": "2022-05-08T07:27:12.271Z"
   },
   {
    "duration": 9,
    "start_time": "2022-05-08T07:27:12.287Z"
   },
   {
    "duration": 10,
    "start_time": "2022-05-08T07:27:12.298Z"
   },
   {
    "duration": 45,
    "start_time": "2022-05-08T07:27:12.309Z"
   },
   {
    "duration": 11,
    "start_time": "2022-05-08T07:27:12.356Z"
   },
   {
    "duration": 7,
    "start_time": "2022-05-08T07:27:12.369Z"
   },
   {
    "duration": 15,
    "start_time": "2022-05-08T07:27:12.377Z"
   },
   {
    "duration": 17,
    "start_time": "2022-05-08T07:27:12.393Z"
   },
   {
    "duration": 66,
    "start_time": "2022-05-08T07:27:12.412Z"
   },
   {
    "duration": 6,
    "start_time": "2022-05-08T07:27:12.480Z"
   },
   {
    "duration": 17,
    "start_time": "2022-05-08T07:27:12.488Z"
   },
   {
    "duration": 9,
    "start_time": "2022-05-08T07:27:12.507Z"
   },
   {
    "duration": 35,
    "start_time": "2022-05-08T07:27:12.518Z"
   },
   {
    "duration": 9,
    "start_time": "2022-05-08T07:27:12.554Z"
   },
   {
    "duration": 13,
    "start_time": "2022-05-08T07:27:12.565Z"
   },
   {
    "duration": 21,
    "start_time": "2022-05-08T07:27:12.580Z"
   },
   {
    "duration": 10,
    "start_time": "2022-05-08T07:27:12.603Z"
   },
   {
    "duration": 21,
    "start_time": "2022-05-08T07:27:12.614Z"
   },
   {
    "duration": 5,
    "start_time": "2022-05-08T07:49:37.071Z"
   },
   {
    "duration": 17,
    "start_time": "2022-05-08T07:55:05.076Z"
   },
   {
    "duration": 7,
    "start_time": "2022-05-08T07:59:12.525Z"
   },
   {
    "duration": 6,
    "start_time": "2022-05-08T08:03:44.529Z"
   },
   {
    "duration": 15,
    "start_time": "2022-05-08T08:04:14.587Z"
   },
   {
    "duration": 73,
    "start_time": "2022-05-08T08:08:41.903Z"
   },
   {
    "duration": 92,
    "start_time": "2022-05-08T08:20:19.176Z"
   },
   {
    "duration": 15,
    "start_time": "2022-05-08T08:20:19.270Z"
   },
   {
    "duration": 11,
    "start_time": "2022-05-08T08:20:19.287Z"
   },
   {
    "duration": 14,
    "start_time": "2022-05-08T08:20:19.299Z"
   },
   {
    "duration": 40,
    "start_time": "2022-05-08T08:20:19.315Z"
   },
   {
    "duration": 14,
    "start_time": "2022-05-08T08:20:19.357Z"
   },
   {
    "duration": 8,
    "start_time": "2022-05-08T08:20:19.372Z"
   },
   {
    "duration": 25,
    "start_time": "2022-05-08T08:20:19.382Z"
   },
   {
    "duration": 49,
    "start_time": "2022-05-08T08:20:19.408Z"
   },
   {
    "duration": 49,
    "start_time": "2022-05-08T08:20:19.459Z"
   },
   {
    "duration": 9,
    "start_time": "2022-05-08T08:20:19.510Z"
   },
   {
    "duration": 49,
    "start_time": "2022-05-08T08:20:19.522Z"
   },
   {
    "duration": 14,
    "start_time": "2022-05-08T08:20:19.573Z"
   },
   {
    "duration": 12,
    "start_time": "2022-05-08T08:20:19.590Z"
   },
   {
    "duration": 11,
    "start_time": "2022-05-08T08:20:19.604Z"
   },
   {
    "duration": 8,
    "start_time": "2022-05-08T08:20:19.616Z"
   },
   {
    "duration": 47,
    "start_time": "2022-05-08T08:20:19.625Z"
   },
   {
    "duration": 6,
    "start_time": "2022-05-08T08:20:19.674Z"
   },
   {
    "duration": 30,
    "start_time": "2022-05-08T08:20:19.682Z"
   },
   {
    "duration": 5,
    "start_time": "2022-05-08T08:20:19.715Z"
   },
   {
    "duration": 38,
    "start_time": "2022-05-08T08:20:19.722Z"
   },
   {
    "duration": 15,
    "start_time": "2022-05-08T08:20:19.762Z"
   },
   {
    "duration": 7,
    "start_time": "2022-05-08T08:23:04.718Z"
   },
   {
    "duration": 13,
    "start_time": "2022-05-08T08:23:29.492Z"
   },
   {
    "duration": 8,
    "start_time": "2022-05-08T08:24:50.306Z"
   },
   {
    "duration": 12,
    "start_time": "2022-05-08T08:25:21.364Z"
   },
   {
    "duration": 9,
    "start_time": "2022-05-08T08:26:58.210Z"
   },
   {
    "duration": 60,
    "start_time": "2022-05-08T08:27:10.484Z"
   },
   {
    "duration": 14,
    "start_time": "2022-05-08T08:27:10.546Z"
   },
   {
    "duration": 9,
    "start_time": "2022-05-08T08:27:10.561Z"
   },
   {
    "duration": 11,
    "start_time": "2022-05-08T08:27:10.572Z"
   },
   {
    "duration": 13,
    "start_time": "2022-05-08T08:27:10.585Z"
   },
   {
    "duration": 11,
    "start_time": "2022-05-08T08:27:10.599Z"
   },
   {
    "duration": 41,
    "start_time": "2022-05-08T08:27:10.612Z"
   },
   {
    "duration": 18,
    "start_time": "2022-05-08T08:27:10.654Z"
   },
   {
    "duration": 16,
    "start_time": "2022-05-08T08:27:10.673Z"
   },
   {
    "duration": 32,
    "start_time": "2022-05-08T08:27:10.691Z"
   },
   {
    "duration": 7,
    "start_time": "2022-05-08T08:27:10.748Z"
   },
   {
    "duration": 16,
    "start_time": "2022-05-08T08:27:10.757Z"
   },
   {
    "duration": 9,
    "start_time": "2022-05-08T08:27:10.775Z"
   },
   {
    "duration": 16,
    "start_time": "2022-05-08T08:27:10.788Z"
   },
   {
    "duration": 6,
    "start_time": "2022-05-08T08:27:10.806Z"
   },
   {
    "duration": 35,
    "start_time": "2022-05-08T08:27:10.813Z"
   },
   {
    "duration": 18,
    "start_time": "2022-05-08T08:27:10.850Z"
   },
   {
    "duration": 7,
    "start_time": "2022-05-08T08:27:10.869Z"
   },
   {
    "duration": 17,
    "start_time": "2022-05-08T08:27:10.878Z"
   },
   {
    "duration": 5,
    "start_time": "2022-05-08T08:27:10.896Z"
   },
   {
    "duration": 47,
    "start_time": "2022-05-08T08:27:10.902Z"
   },
   {
    "duration": 15,
    "start_time": "2022-05-08T08:27:10.951Z"
   },
   {
    "duration": 12,
    "start_time": "2022-05-08T08:27:10.968Z"
   },
   {
    "duration": 507,
    "start_time": "2022-05-08T10:20:40.050Z"
   },
   {
    "duration": 18,
    "start_time": "2022-05-08T10:20:40.559Z"
   },
   {
    "duration": 22,
    "start_time": "2022-05-08T10:20:40.580Z"
   },
   {
    "duration": 40,
    "start_time": "2022-05-08T10:20:40.605Z"
   },
   {
    "duration": 23,
    "start_time": "2022-05-08T10:20:40.647Z"
   },
   {
    "duration": 15,
    "start_time": "2022-05-08T10:20:40.673Z"
   },
   {
    "duration": 9,
    "start_time": "2022-05-08T10:20:40.690Z"
   },
   {
    "duration": 21,
    "start_time": "2022-05-08T10:20:40.735Z"
   },
   {
    "duration": 23,
    "start_time": "2022-05-08T10:20:40.758Z"
   },
   {
    "duration": 66,
    "start_time": "2022-05-08T10:20:40.785Z"
   },
   {
    "duration": 11,
    "start_time": "2022-05-08T10:20:40.854Z"
   },
   {
    "duration": 28,
    "start_time": "2022-05-08T10:20:40.868Z"
   },
   {
    "duration": 39,
    "start_time": "2022-05-08T10:20:40.898Z"
   },
   {
    "duration": 15,
    "start_time": "2022-05-08T10:20:40.940Z"
   },
   {
    "duration": 6,
    "start_time": "2022-05-08T10:20:40.957Z"
   },
   {
    "duration": 9,
    "start_time": "2022-05-08T10:20:40.965Z"
   },
   {
    "duration": 23,
    "start_time": "2022-05-08T10:20:40.976Z"
   },
   {
    "duration": 37,
    "start_time": "2022-05-08T10:20:41.001Z"
   },
   {
    "duration": 33,
    "start_time": "2022-05-08T10:20:41.040Z"
   },
   {
    "duration": 5,
    "start_time": "2022-05-08T10:20:41.075Z"
   },
   {
    "duration": 53,
    "start_time": "2022-05-08T10:20:41.082Z"
   },
   {
    "duration": 22,
    "start_time": "2022-05-08T10:20:41.137Z"
   },
   {
    "duration": 19,
    "start_time": "2022-05-08T10:20:41.161Z"
   },
   {
    "duration": 139,
    "start_time": "2022-05-08T10:27:52.236Z"
   },
   {
    "duration": 109,
    "start_time": "2022-05-08T10:29:40.146Z"
   },
   {
    "duration": 26,
    "start_time": "2022-05-08T10:30:02.294Z"
   },
   {
    "duration": 4,
    "start_time": "2022-05-08T10:48:51.421Z"
   },
   {
    "duration": 3,
    "start_time": "2022-05-08T10:48:54.577Z"
   },
   {
    "duration": 17,
    "start_time": "2022-05-08T10:48:58.490Z"
   },
   {
    "duration": 83,
    "start_time": "2022-05-08T10:49:32.277Z"
   },
   {
    "duration": 18,
    "start_time": "2022-05-08T10:49:32.363Z"
   },
   {
    "duration": 19,
    "start_time": "2022-05-08T10:49:32.382Z"
   },
   {
    "duration": 38,
    "start_time": "2022-05-08T10:49:32.404Z"
   },
   {
    "duration": 32,
    "start_time": "2022-05-08T10:49:32.444Z"
   },
   {
    "duration": 12,
    "start_time": "2022-05-08T10:49:32.478Z"
   },
   {
    "duration": 8,
    "start_time": "2022-05-08T10:49:32.492Z"
   },
   {
    "duration": 52,
    "start_time": "2022-05-08T10:49:32.501Z"
   },
   {
    "duration": 24,
    "start_time": "2022-05-08T10:49:32.555Z"
   },
   {
    "duration": 53,
    "start_time": "2022-05-08T10:49:32.582Z"
   },
   {
    "duration": 16,
    "start_time": "2022-05-08T10:49:32.638Z"
   },
   {
    "duration": 21,
    "start_time": "2022-05-08T10:49:32.656Z"
   },
   {
    "duration": 18,
    "start_time": "2022-05-08T10:49:32.679Z"
   },
   {
    "duration": 15,
    "start_time": "2022-05-08T10:49:32.699Z"
   },
   {
    "duration": 10,
    "start_time": "2022-05-08T10:49:32.733Z"
   },
   {
    "duration": 21,
    "start_time": "2022-05-08T10:49:32.745Z"
   },
   {
    "duration": 26,
    "start_time": "2022-05-08T10:49:32.767Z"
   },
   {
    "duration": 13,
    "start_time": "2022-05-08T10:49:32.795Z"
   },
   {
    "duration": 39,
    "start_time": "2022-05-08T10:49:32.810Z"
   },
   {
    "duration": 11,
    "start_time": "2022-05-08T10:49:32.852Z"
   },
   {
    "duration": 45,
    "start_time": "2022-05-08T10:49:32.865Z"
   },
   {
    "duration": 15,
    "start_time": "2022-05-08T10:49:32.912Z"
   },
   {
    "duration": 28,
    "start_time": "2022-05-08T10:49:32.935Z"
   },
   {
    "duration": 21,
    "start_time": "2022-05-08T10:49:32.965Z"
   },
   {
    "duration": 17,
    "start_time": "2022-05-08T10:49:32.987Z"
   },
   {
    "duration": 76,
    "start_time": "2022-05-08T10:50:48.721Z"
   },
   {
    "duration": 42,
    "start_time": "2022-05-08T10:50:48.800Z"
   },
   {
    "duration": 11,
    "start_time": "2022-05-08T10:50:48.845Z"
   },
   {
    "duration": 21,
    "start_time": "2022-05-08T10:50:48.859Z"
   },
   {
    "duration": 52,
    "start_time": "2022-05-08T10:50:48.883Z"
   },
   {
    "duration": 14,
    "start_time": "2022-05-08T10:50:48.938Z"
   },
   {
    "duration": 9,
    "start_time": "2022-05-08T10:50:48.954Z"
   },
   {
    "duration": 22,
    "start_time": "2022-05-08T10:50:48.965Z"
   },
   {
    "duration": 61,
    "start_time": "2022-05-08T10:50:48.988Z"
   },
   {
    "duration": 54,
    "start_time": "2022-05-08T10:50:49.050Z"
   },
   {
    "duration": 8,
    "start_time": "2022-05-08T10:50:49.106Z"
   },
   {
    "duration": 30,
    "start_time": "2022-05-08T10:50:49.135Z"
   },
   {
    "duration": 15,
    "start_time": "2022-05-08T10:50:49.167Z"
   },
   {
    "duration": 17,
    "start_time": "2022-05-08T10:50:49.187Z"
   },
   {
    "duration": 9,
    "start_time": "2022-05-08T10:50:49.234Z"
   },
   {
    "duration": 17,
    "start_time": "2022-05-08T10:50:49.245Z"
   },
   {
    "duration": 32,
    "start_time": "2022-05-08T10:50:49.264Z"
   },
   {
    "duration": 6,
    "start_time": "2022-05-08T10:50:49.299Z"
   },
   {
    "duration": 54,
    "start_time": "2022-05-08T10:50:49.307Z"
   },
   {
    "duration": 4,
    "start_time": "2022-05-08T10:50:49.363Z"
   },
   {
    "duration": 24,
    "start_time": "2022-05-08T10:50:49.369Z"
   },
   {
    "duration": 48,
    "start_time": "2022-05-08T10:50:49.395Z"
   },
   {
    "duration": 20,
    "start_time": "2022-05-08T10:50:49.445Z"
   },
   {
    "duration": 23,
    "start_time": "2022-05-08T10:50:49.467Z"
   },
   {
    "duration": 51,
    "start_time": "2022-05-08T10:50:49.493Z"
   },
   {
    "duration": 140,
    "start_time": "2022-05-08T10:52:06.570Z"
   },
   {
    "duration": 7,
    "start_time": "2022-05-08T10:52:14.467Z"
   },
   {
    "duration": 112,
    "start_time": "2022-05-08T10:52:22.603Z"
   },
   {
    "duration": 25,
    "start_time": "2022-05-08T10:52:22.735Z"
   },
   {
    "duration": 18,
    "start_time": "2022-05-08T10:52:22.762Z"
   },
   {
    "duration": 52,
    "start_time": "2022-05-08T10:52:22.784Z"
   },
   {
    "duration": 21,
    "start_time": "2022-05-08T10:52:22.838Z"
   },
   {
    "duration": 17,
    "start_time": "2022-05-08T10:52:22.861Z"
   },
   {
    "duration": 9,
    "start_time": "2022-05-08T10:52:22.881Z"
   },
   {
    "duration": 57,
    "start_time": "2022-05-08T10:52:22.892Z"
   },
   {
    "duration": 26,
    "start_time": "2022-05-08T10:52:22.952Z"
   },
   {
    "duration": 60,
    "start_time": "2022-05-08T10:52:22.982Z"
   },
   {
    "duration": 9,
    "start_time": "2022-05-08T10:52:23.043Z"
   },
   {
    "duration": 35,
    "start_time": "2022-05-08T10:52:23.054Z"
   },
   {
    "duration": 10,
    "start_time": "2022-05-08T10:52:23.091Z"
   },
   {
    "duration": 42,
    "start_time": "2022-05-08T10:52:23.103Z"
   },
   {
    "duration": 9,
    "start_time": "2022-05-08T10:52:23.147Z"
   },
   {
    "duration": 9,
    "start_time": "2022-05-08T10:52:23.159Z"
   },
   {
    "duration": 30,
    "start_time": "2022-05-08T10:52:23.170Z"
   },
   {
    "duration": 34,
    "start_time": "2022-05-08T10:52:23.202Z"
   },
   {
    "duration": 40,
    "start_time": "2022-05-08T10:52:23.238Z"
   },
   {
    "duration": 6,
    "start_time": "2022-05-08T10:52:23.280Z"
   },
   {
    "duration": 31,
    "start_time": "2022-05-08T10:52:23.288Z"
   },
   {
    "duration": 33,
    "start_time": "2022-05-08T10:52:23.321Z"
   },
   {
    "duration": 17,
    "start_time": "2022-05-08T10:52:23.355Z"
   },
   {
    "duration": 20,
    "start_time": "2022-05-08T10:52:23.374Z"
   },
   {
    "duration": 53,
    "start_time": "2022-05-08T10:52:23.397Z"
   },
   {
    "duration": 143,
    "start_time": "2022-05-08T10:54:30.496Z"
   },
   {
    "duration": 834,
    "start_time": "2022-05-09T11:37:24.214Z"
   },
   {
    "duration": 29,
    "start_time": "2022-05-09T11:37:25.053Z"
   },
   {
    "duration": 23,
    "start_time": "2022-05-09T11:37:25.084Z"
   },
   {
    "duration": 17,
    "start_time": "2022-05-09T11:37:25.110Z"
   },
   {
    "duration": 29,
    "start_time": "2022-05-09T11:37:25.158Z"
   },
   {
    "duration": 17,
    "start_time": "2022-05-09T11:37:25.189Z"
   },
   {
    "duration": 11,
    "start_time": "2022-05-09T11:37:25.209Z"
   },
   {
    "duration": 30,
    "start_time": "2022-05-09T11:37:25.257Z"
   },
   {
    "duration": 34,
    "start_time": "2022-05-09T11:37:25.289Z"
   },
   {
    "duration": 80,
    "start_time": "2022-05-09T11:37:25.326Z"
   },
   {
    "duration": 10,
    "start_time": "2022-05-09T11:37:25.408Z"
   },
   {
    "duration": 61,
    "start_time": "2022-05-09T11:37:25.422Z"
   },
   {
    "duration": 14,
    "start_time": "2022-05-09T11:37:25.485Z"
   },
   {
    "duration": 23,
    "start_time": "2022-05-09T11:37:25.505Z"
   },
   {
    "duration": 27,
    "start_time": "2022-05-09T11:37:25.531Z"
   },
   {
    "duration": 22,
    "start_time": "2022-05-09T11:37:25.560Z"
   },
   {
    "duration": 43,
    "start_time": "2022-05-09T11:37:25.585Z"
   },
   {
    "duration": 25,
    "start_time": "2022-05-09T11:37:25.630Z"
   },
   {
    "duration": 49,
    "start_time": "2022-05-09T11:37:25.657Z"
   },
   {
    "duration": 17,
    "start_time": "2022-05-09T11:37:25.709Z"
   },
   {
    "duration": 51,
    "start_time": "2022-05-09T11:37:25.728Z"
   },
   {
    "duration": 23,
    "start_time": "2022-05-09T11:37:25.782Z"
   },
   {
    "duration": 19,
    "start_time": "2022-05-09T11:37:25.807Z"
   },
   {
    "duration": 53,
    "start_time": "2022-05-09T11:37:25.828Z"
   },
   {
    "duration": 21,
    "start_time": "2022-05-09T11:37:25.884Z"
   },
   {
    "duration": 17,
    "start_time": "2022-05-09T11:40:53.070Z"
   }
  ],
  "kernelspec": {
   "display_name": "Python 3 (ipykernel)",
   "language": "python",
   "name": "python3"
  },
  "language_info": {
   "codemirror_mode": {
    "name": "ipython",
    "version": 3
   },
   "file_extension": ".py",
   "mimetype": "text/x-python",
   "name": "python",
   "nbconvert_exporter": "python",
   "pygments_lexer": "ipython3",
   "version": "3.9.7"
  },
  "toc": {
   "base_numbering": 1,
   "nav_menu": {},
   "number_sections": true,
   "sideBar": true,
   "skip_h1_title": true,
   "title_cell": "Table of Contents",
   "title_sidebar": "Contents",
   "toc_cell": false,
   "toc_position": {},
   "toc_section_display": true,
   "toc_window_display": false
  }
 },
 "nbformat": 4,
 "nbformat_minor": 5
}
