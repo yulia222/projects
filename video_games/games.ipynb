{
 "cells": [
  {
   "cell_type": "markdown",
   "metadata": {},
   "source": [
    "# Сборный проект- 1: Определение параметров успешной игры\n"
   ]
  },
  {
   "cell_type": "markdown",
   "metadata": {},
   "source": [
    "Вы работаете в интернет-магазине «Стримчик», который продаёт по всему миру компьютерные игры. Из открытых источников доступны исторические данные о продажах игр, оценки пользователей и экспертов, жанры и платформы (например, Xbox или PlayStation). Вам нужно выявить определяющие успешность игры закономерности. Это позволит сделать ставку на потенциально популярный продукт и спланировать рекламные кампании.\n",
    "\n",
    "Перед вами данные до 2016 года.\n",
    "\n",
    "Необходимо провезти исследовательский анализ и проверить гипотезы:\n",
    "* Средние пользовательские рейтинги платформ Xbox One и PC одинаковые;\n",
    "* Средние пользовательские рейтинги жанров Action (англ. «действие», экшен-игры) и Sports (англ. «спортивные соревнования») разные."
   ]
  },
  {
   "cell_type": "markdown",
   "metadata": {},
   "source": [
    "## Изучение данных"
   ]
  },
  {
   "cell_type": "markdown",
   "metadata": {},
   "source": [
    "Составим первое представление о данных."
   ]
  },
  {
   "cell_type": "code",
   "execution_count": 1,
   "metadata": {},
   "outputs": [
    {
     "data": {
      "text/html": [
       "<div>\n",
       "<style scoped>\n",
       "    .dataframe tbody tr th:only-of-type {\n",
       "        vertical-align: middle;\n",
       "    }\n",
       "\n",
       "    .dataframe tbody tr th {\n",
       "        vertical-align: top;\n",
       "    }\n",
       "\n",
       "    .dataframe thead th {\n",
       "        text-align: right;\n",
       "    }\n",
       "</style>\n",
       "<table border=\"1\" class=\"dataframe\">\n",
       "  <thead>\n",
       "    <tr style=\"text-align: right;\">\n",
       "      <th></th>\n",
       "      <th>Name</th>\n",
       "      <th>Platform</th>\n",
       "      <th>Year_of_Release</th>\n",
       "      <th>Genre</th>\n",
       "      <th>NA_sales</th>\n",
       "      <th>EU_sales</th>\n",
       "      <th>JP_sales</th>\n",
       "      <th>Other_sales</th>\n",
       "      <th>Critic_Score</th>\n",
       "      <th>User_Score</th>\n",
       "      <th>Rating</th>\n",
       "    </tr>\n",
       "  </thead>\n",
       "  <tbody>\n",
       "    <tr>\n",
       "      <th>0</th>\n",
       "      <td>Wii Sports</td>\n",
       "      <td>Wii</td>\n",
       "      <td>2006.0</td>\n",
       "      <td>Sports</td>\n",
       "      <td>41.36</td>\n",
       "      <td>28.96</td>\n",
       "      <td>3.77</td>\n",
       "      <td>8.45</td>\n",
       "      <td>76.0</td>\n",
       "      <td>8</td>\n",
       "      <td>E</td>\n",
       "    </tr>\n",
       "    <tr>\n",
       "      <th>1</th>\n",
       "      <td>Super Mario Bros.</td>\n",
       "      <td>NES</td>\n",
       "      <td>1985.0</td>\n",
       "      <td>Platform</td>\n",
       "      <td>29.08</td>\n",
       "      <td>3.58</td>\n",
       "      <td>6.81</td>\n",
       "      <td>0.77</td>\n",
       "      <td>NaN</td>\n",
       "      <td>NaN</td>\n",
       "      <td>NaN</td>\n",
       "    </tr>\n",
       "    <tr>\n",
       "      <th>2</th>\n",
       "      <td>Mario Kart Wii</td>\n",
       "      <td>Wii</td>\n",
       "      <td>2008.0</td>\n",
       "      <td>Racing</td>\n",
       "      <td>15.68</td>\n",
       "      <td>12.76</td>\n",
       "      <td>3.79</td>\n",
       "      <td>3.29</td>\n",
       "      <td>82.0</td>\n",
       "      <td>8.3</td>\n",
       "      <td>E</td>\n",
       "    </tr>\n",
       "    <tr>\n",
       "      <th>3</th>\n",
       "      <td>Wii Sports Resort</td>\n",
       "      <td>Wii</td>\n",
       "      <td>2009.0</td>\n",
       "      <td>Sports</td>\n",
       "      <td>15.61</td>\n",
       "      <td>10.93</td>\n",
       "      <td>3.28</td>\n",
       "      <td>2.95</td>\n",
       "      <td>80.0</td>\n",
       "      <td>8</td>\n",
       "      <td>E</td>\n",
       "    </tr>\n",
       "    <tr>\n",
       "      <th>4</th>\n",
       "      <td>Pokemon Red/Pokemon Blue</td>\n",
       "      <td>GB</td>\n",
       "      <td>1996.0</td>\n",
       "      <td>Role-Playing</td>\n",
       "      <td>11.27</td>\n",
       "      <td>8.89</td>\n",
       "      <td>10.22</td>\n",
       "      <td>1.00</td>\n",
       "      <td>NaN</td>\n",
       "      <td>NaN</td>\n",
       "      <td>NaN</td>\n",
       "    </tr>\n",
       "    <tr>\n",
       "      <th>5</th>\n",
       "      <td>Tetris</td>\n",
       "      <td>GB</td>\n",
       "      <td>1989.0</td>\n",
       "      <td>Puzzle</td>\n",
       "      <td>23.20</td>\n",
       "      <td>2.26</td>\n",
       "      <td>4.22</td>\n",
       "      <td>0.58</td>\n",
       "      <td>NaN</td>\n",
       "      <td>NaN</td>\n",
       "      <td>NaN</td>\n",
       "    </tr>\n",
       "    <tr>\n",
       "      <th>6</th>\n",
       "      <td>New Super Mario Bros.</td>\n",
       "      <td>DS</td>\n",
       "      <td>2006.0</td>\n",
       "      <td>Platform</td>\n",
       "      <td>11.28</td>\n",
       "      <td>9.14</td>\n",
       "      <td>6.50</td>\n",
       "      <td>2.88</td>\n",
       "      <td>89.0</td>\n",
       "      <td>8.5</td>\n",
       "      <td>E</td>\n",
       "    </tr>\n",
       "    <tr>\n",
       "      <th>7</th>\n",
       "      <td>Wii Play</td>\n",
       "      <td>Wii</td>\n",
       "      <td>2006.0</td>\n",
       "      <td>Misc</td>\n",
       "      <td>13.96</td>\n",
       "      <td>9.18</td>\n",
       "      <td>2.93</td>\n",
       "      <td>2.84</td>\n",
       "      <td>58.0</td>\n",
       "      <td>6.6</td>\n",
       "      <td>E</td>\n",
       "    </tr>\n",
       "    <tr>\n",
       "      <th>8</th>\n",
       "      <td>New Super Mario Bros. Wii</td>\n",
       "      <td>Wii</td>\n",
       "      <td>2009.0</td>\n",
       "      <td>Platform</td>\n",
       "      <td>14.44</td>\n",
       "      <td>6.94</td>\n",
       "      <td>4.70</td>\n",
       "      <td>2.24</td>\n",
       "      <td>87.0</td>\n",
       "      <td>8.4</td>\n",
       "      <td>E</td>\n",
       "    </tr>\n",
       "    <tr>\n",
       "      <th>9</th>\n",
       "      <td>Duck Hunt</td>\n",
       "      <td>NES</td>\n",
       "      <td>1984.0</td>\n",
       "      <td>Shooter</td>\n",
       "      <td>26.93</td>\n",
       "      <td>0.63</td>\n",
       "      <td>0.28</td>\n",
       "      <td>0.47</td>\n",
       "      <td>NaN</td>\n",
       "      <td>NaN</td>\n",
       "      <td>NaN</td>\n",
       "    </tr>\n",
       "  </tbody>\n",
       "</table>\n",
       "</div>"
      ],
      "text/plain": [
       "                        Name Platform  Year_of_Release         Genre  \\\n",
       "0                 Wii Sports      Wii           2006.0        Sports   \n",
       "1          Super Mario Bros.      NES           1985.0      Platform   \n",
       "2             Mario Kart Wii      Wii           2008.0        Racing   \n",
       "3          Wii Sports Resort      Wii           2009.0        Sports   \n",
       "4   Pokemon Red/Pokemon Blue       GB           1996.0  Role-Playing   \n",
       "5                     Tetris       GB           1989.0        Puzzle   \n",
       "6      New Super Mario Bros.       DS           2006.0      Platform   \n",
       "7                   Wii Play      Wii           2006.0          Misc   \n",
       "8  New Super Mario Bros. Wii      Wii           2009.0      Platform   \n",
       "9                  Duck Hunt      NES           1984.0       Shooter   \n",
       "\n",
       "   NA_sales  EU_sales  JP_sales  Other_sales  Critic_Score User_Score Rating  \n",
       "0     41.36     28.96      3.77         8.45          76.0          8      E  \n",
       "1     29.08      3.58      6.81         0.77           NaN        NaN    NaN  \n",
       "2     15.68     12.76      3.79         3.29          82.0        8.3      E  \n",
       "3     15.61     10.93      3.28         2.95          80.0          8      E  \n",
       "4     11.27      8.89     10.22         1.00           NaN        NaN    NaN  \n",
       "5     23.20      2.26      4.22         0.58           NaN        NaN    NaN  \n",
       "6     11.28      9.14      6.50         2.88          89.0        8.5      E  \n",
       "7     13.96      9.18      2.93         2.84          58.0        6.6      E  \n",
       "8     14.44      6.94      4.70         2.24          87.0        8.4      E  \n",
       "9     26.93      0.63      0.28         0.47           NaN        NaN    NaN  "
      ]
     },
     "execution_count": 1,
     "metadata": {},
     "output_type": "execute_result"
    }
   ],
   "source": [
    "import pandas as pd\n",
    "import matplotlib.pyplot as plt\n",
    "import numpy as np\n",
    "from scipy import stats as st\n",
    "import seaborn as sns\n",
    "\n",
    "df = pd.read_csv('/datasets/games.csv')\n",
    "df.head(10)"
   ]
  },
  {
   "cell_type": "markdown",
   "metadata": {},
   "source": [
    "Получили первые 10 строк таблицы.\n",
    "\n",
    "Теперь получим общую информацию."
   ]
  },
  {
   "cell_type": "code",
   "execution_count": 2,
   "metadata": {},
   "outputs": [
    {
     "name": "stdout",
     "output_type": "stream",
     "text": [
      "<class 'pandas.core.frame.DataFrame'>\n",
      "RangeIndex: 16715 entries, 0 to 16714\n",
      "Data columns (total 11 columns):\n",
      " #   Column           Non-Null Count  Dtype  \n",
      "---  ------           --------------  -----  \n",
      " 0   Name             16713 non-null  object \n",
      " 1   Platform         16715 non-null  object \n",
      " 2   Year_of_Release  16446 non-null  float64\n",
      " 3   Genre            16713 non-null  object \n",
      " 4   NA_sales         16715 non-null  float64\n",
      " 5   EU_sales         16715 non-null  float64\n",
      " 6   JP_sales         16715 non-null  float64\n",
      " 7   Other_sales      16715 non-null  float64\n",
      " 8   Critic_Score     8137 non-null   float64\n",
      " 9   User_Score       10014 non-null  object \n",
      " 10  Rating           9949 non-null   object \n",
      "dtypes: float64(6), object(5)\n",
      "memory usage: 1.4+ MB\n"
     ]
    }
   ],
   "source": [
    "df.info()"
   ]
  },
  {
   "cell_type": "markdown",
   "metadata": {},
   "source": [
    "Итак, в таблицк 11 столбцов. Типы данных object, float. \n",
    "\n",
    "Согласно документации к данным:\n",
    "* `Name` — название игры\n",
    "* `Platform` — платформа\n",
    "* `Year_of_Release` — год выпуска\n",
    "* `Genre` — жанр игры\n",
    "* `NA_sales` — продажи в Северной Америке (миллионы проданных копий)\n",
    "* `EU_sales` — продажи в Европе (миллионы проданных копий)\n",
    "* `JP_sales` — продажи в Японии (миллионы проданных копий)\n",
    "* `Other_sales` — продажи в других странах (миллионы проданных копий)\n",
    "* `Critic_Score` — оценка критиков (максимум 100)\n",
    "* `User_Score` — оценка пользователей (максимум 10)\n",
    "* `Rating` — рейтинг от организации ESRB (англ. Entertainment Software Rating Board). Эта ассоциация определяет рейтинг компьютерных игр и присваивает им подходящую возрастную категорию.\n",
    "\n",
    "Данные за 2016 год могут быть неполными.\n",
    "\n",
    "Количество значений в столбцах различается. Значит, в данных есть пропущенные значения.\n",
    "\n",
    "В названиях столбцов присутствует нарушение стиля."
   ]
  },
  {
   "cell_type": "markdown",
   "metadata": {},
   "source": [
    "**Вывод**\n",
    "\n",
    "В каждой строке таблицы - данные о продажах игр, оценки пользователей и экспертов, жанры и платформы. \n",
    "\n",
    "Предварительно можно утверждать, что, данных достаточно для проверки гипотез. Но встречаются пропуски.\n",
    "\n",
    "Чтобы двигаться дальше, нужно устранить проблемы в данных."
   ]
  },
  {
   "cell_type": "markdown",
   "metadata": {},
   "source": [
    "## Предобработка данных"
   ]
  },
  {
   "cell_type": "markdown",
   "metadata": {},
   "source": [
    "### Стиль заголовков"
   ]
  },
  {
   "cell_type": "markdown",
   "metadata": {},
   "source": [
    "Выведем на экран названия столбцов:"
   ]
  },
  {
   "cell_type": "code",
   "execution_count": 3,
   "metadata": {},
   "outputs": [
    {
     "data": {
      "text/plain": [
       "Index(['Name', 'Platform', 'Year_of_Release', 'Genre', 'NA_sales', 'EU_sales',\n",
       "       'JP_sales', 'Other_sales', 'Critic_Score', 'User_Score', 'Rating'],\n",
       "      dtype='object')"
      ]
     },
     "execution_count": 3,
     "metadata": {},
     "output_type": "execute_result"
    }
   ],
   "source": [
    "df.columns"
   ]
  },
  {
   "cell_type": "markdown",
   "metadata": {},
   "source": [
    "Переведем названия столбцов к нижнему регистру:"
   ]
  },
  {
   "cell_type": "code",
   "execution_count": 4,
   "metadata": {},
   "outputs": [
    {
     "data": {
      "text/plain": [
       "Index(['name', 'platform', 'year_of_release', 'genre', 'na_sales', 'eu_sales',\n",
       "       'jp_sales', 'other_sales', 'critic_score', 'user_score', 'rating'],\n",
       "      dtype='object')"
      ]
     },
     "execution_count": 4,
     "metadata": {},
     "output_type": "execute_result"
    }
   ],
   "source": [
    "df.columns=df.columns.str.lower()\n",
    "df.columns"
   ]
  },
  {
   "cell_type": "markdown",
   "metadata": {},
   "source": [
    "### Обработка пропусков "
   ]
  },
  {
   "cell_type": "markdown",
   "metadata": {},
   "source": [
    "Посчитаем сколько в таблице пропущенных значений."
   ]
  },
  {
   "cell_type": "code",
   "execution_count": 5,
   "metadata": {},
   "outputs": [
    {
     "data": {
      "text/plain": [
       "name                  2\n",
       "platform              0\n",
       "year_of_release     269\n",
       "genre                 2\n",
       "na_sales              0\n",
       "eu_sales              0\n",
       "jp_sales              0\n",
       "other_sales           0\n",
       "critic_score       8578\n",
       "user_score         6701\n",
       "rating             6766\n",
       "dtype: int64"
      ]
     },
     "execution_count": 5,
     "metadata": {},
     "output_type": "execute_result"
    }
   ],
   "source": [
    "df.isna().sum()"
   ]
  },
  {
   "cell_type": "markdown",
   "metadata": {},
   "source": [
    "Удалим строки с пропуском в столбце `name`."
   ]
  },
  {
   "cell_type": "code",
   "execution_count": 6,
   "metadata": {
    "scrolled": true
   },
   "outputs": [
    {
     "data": {
      "text/plain": [
       "0"
      ]
     },
     "execution_count": 6,
     "metadata": {},
     "output_type": "execute_result"
    }
   ],
   "source": [
    "df = df.dropna(subset=['name'])\n",
    "df['name'].isna().sum()"
   ]
  },
  {
   "cell_type": "markdown",
   "metadata": {},
   "source": [
    "Пропуски в столбце `rating` заменим на «RP» («Rating Pending») — «Рейтинг ожидается». \n",
    "Классификация ESRB появилась толкьо в 1994 году, логично что некоторые игры были без рейтинга. И проверим, что избавились от пропусков."
   ]
  },
  {
   "cell_type": "code",
   "execution_count": 7,
   "metadata": {
    "scrolled": true
   },
   "outputs": [
    {
     "data": {
      "text/plain": [
       "0"
      ]
     },
     "execution_count": 7,
     "metadata": {},
     "output_type": "execute_result"
    }
   ],
   "source": [
    "df['rating'] = df['rating'].fillna('RP')\n",
    "df['rating'].isna().sum()"
   ]
  },
  {
   "cell_type": "markdown",
   "metadata": {},
   "source": [
    "Остались пропуски в столбцах в оценками критиков и пользователей. Заменять значений медианной или средним - неккоректно,ведь это субъективная оценка. Удалять эти строки тоже не вариант, их слишком много, это сильно повлияет на результат анализа. Поэтому пропуски трогать не будем. \n",
    "\n",
    "Также в столбце с оценками пользователей есть значение tbd - это \"to be determined\". По сути это тот же пропуск. Значит заменим его на Nan."
   ]
  },
  {
   "cell_type": "code",
   "execution_count": 8,
   "metadata": {
    "scrolled": true
   },
   "outputs": [
    {
     "data": {
      "text/html": [
       "<div>\n",
       "<style scoped>\n",
       "    .dataframe tbody tr th:only-of-type {\n",
       "        vertical-align: middle;\n",
       "    }\n",
       "\n",
       "    .dataframe tbody tr th {\n",
       "        vertical-align: top;\n",
       "    }\n",
       "\n",
       "    .dataframe thead th {\n",
       "        text-align: right;\n",
       "    }\n",
       "</style>\n",
       "<table border=\"1\" class=\"dataframe\">\n",
       "  <thead>\n",
       "    <tr style=\"text-align: right;\">\n",
       "      <th></th>\n",
       "      <th>name</th>\n",
       "      <th>platform</th>\n",
       "      <th>year_of_release</th>\n",
       "      <th>genre</th>\n",
       "      <th>na_sales</th>\n",
       "      <th>eu_sales</th>\n",
       "      <th>jp_sales</th>\n",
       "      <th>other_sales</th>\n",
       "      <th>critic_score</th>\n",
       "      <th>user_score</th>\n",
       "      <th>rating</th>\n",
       "    </tr>\n",
       "  </thead>\n",
       "  <tbody>\n",
       "    <tr>\n",
       "      <th>16710</th>\n",
       "      <td>Samurai Warriors: Sanada Maru</td>\n",
       "      <td>PS3</td>\n",
       "      <td>2016.0</td>\n",
       "      <td>Action</td>\n",
       "      <td>0.00</td>\n",
       "      <td>0.00</td>\n",
       "      <td>0.01</td>\n",
       "      <td>0.0</td>\n",
       "      <td>NaN</td>\n",
       "      <td>NaN</td>\n",
       "      <td>RP</td>\n",
       "    </tr>\n",
       "    <tr>\n",
       "      <th>16711</th>\n",
       "      <td>LMA Manager 2007</td>\n",
       "      <td>X360</td>\n",
       "      <td>2006.0</td>\n",
       "      <td>Sports</td>\n",
       "      <td>0.00</td>\n",
       "      <td>0.01</td>\n",
       "      <td>0.00</td>\n",
       "      <td>0.0</td>\n",
       "      <td>NaN</td>\n",
       "      <td>NaN</td>\n",
       "      <td>RP</td>\n",
       "    </tr>\n",
       "    <tr>\n",
       "      <th>16712</th>\n",
       "      <td>Haitaka no Psychedelica</td>\n",
       "      <td>PSV</td>\n",
       "      <td>2016.0</td>\n",
       "      <td>Adventure</td>\n",
       "      <td>0.00</td>\n",
       "      <td>0.00</td>\n",
       "      <td>0.01</td>\n",
       "      <td>0.0</td>\n",
       "      <td>NaN</td>\n",
       "      <td>NaN</td>\n",
       "      <td>RP</td>\n",
       "    </tr>\n",
       "    <tr>\n",
       "      <th>16713</th>\n",
       "      <td>Spirits &amp; Spells</td>\n",
       "      <td>GBA</td>\n",
       "      <td>2003.0</td>\n",
       "      <td>Platform</td>\n",
       "      <td>0.01</td>\n",
       "      <td>0.00</td>\n",
       "      <td>0.00</td>\n",
       "      <td>0.0</td>\n",
       "      <td>NaN</td>\n",
       "      <td>NaN</td>\n",
       "      <td>RP</td>\n",
       "    </tr>\n",
       "    <tr>\n",
       "      <th>16714</th>\n",
       "      <td>Winning Post 8 2016</td>\n",
       "      <td>PSV</td>\n",
       "      <td>2016.0</td>\n",
       "      <td>Simulation</td>\n",
       "      <td>0.00</td>\n",
       "      <td>0.00</td>\n",
       "      <td>0.01</td>\n",
       "      <td>0.0</td>\n",
       "      <td>NaN</td>\n",
       "      <td>NaN</td>\n",
       "      <td>RP</td>\n",
       "    </tr>\n",
       "  </tbody>\n",
       "</table>\n",
       "</div>"
      ],
      "text/plain": [
       "                                name platform  year_of_release       genre  \\\n",
       "16710  Samurai Warriors: Sanada Maru      PS3           2016.0      Action   \n",
       "16711               LMA Manager 2007     X360           2006.0      Sports   \n",
       "16712        Haitaka no Psychedelica      PSV           2016.0   Adventure   \n",
       "16713               Spirits & Spells      GBA           2003.0    Platform   \n",
       "16714            Winning Post 8 2016      PSV           2016.0  Simulation   \n",
       "\n",
       "       na_sales  eu_sales  jp_sales  other_sales  critic_score user_score  \\\n",
       "16710      0.00      0.00      0.01          0.0           NaN        NaN   \n",
       "16711      0.00      0.01      0.00          0.0           NaN        NaN   \n",
       "16712      0.00      0.00      0.01          0.0           NaN        NaN   \n",
       "16713      0.01      0.00      0.00          0.0           NaN        NaN   \n",
       "16714      0.00      0.00      0.01          0.0           NaN        NaN   \n",
       "\n",
       "      rating  \n",
       "16710     RP  \n",
       "16711     RP  \n",
       "16712     RP  \n",
       "16713     RP  \n",
       "16714     RP  "
      ]
     },
     "execution_count": 8,
     "metadata": {},
     "output_type": "execute_result"
    }
   ],
   "source": [
    "df.loc[df['user_score']=='tbd','user_score'] = np.nan\n",
    "df.tail()"
   ]
  },
  {
   "cell_type": "markdown",
   "metadata": {},
   "source": [
    "### Изменение типа данных"
   ]
  },
  {
   "cell_type": "markdown",
   "metadata": {},
   "source": [
    "Заменим тип в столбце `user_score` на float, `year_of_release` на int."
   ]
  },
  {
   "cell_type": "code",
   "execution_count": 9,
   "metadata": {
    "scrolled": true
   },
   "outputs": [
    {
     "name": "stdout",
     "output_type": "stream",
     "text": [
      "<class 'pandas.core.frame.DataFrame'>\n",
      "Int64Index: 16713 entries, 0 to 16714\n",
      "Data columns (total 11 columns):\n",
      " #   Column           Non-Null Count  Dtype  \n",
      "---  ------           --------------  -----  \n",
      " 0   name             16713 non-null  object \n",
      " 1   platform         16713 non-null  object \n",
      " 2   year_of_release  16444 non-null  Int64  \n",
      " 3   genre            16713 non-null  object \n",
      " 4   na_sales         16713 non-null  float64\n",
      " 5   eu_sales         16713 non-null  float64\n",
      " 6   jp_sales         16713 non-null  float64\n",
      " 7   other_sales      16713 non-null  float64\n",
      " 8   critic_score     8137 non-null   float64\n",
      " 9   user_score       7590 non-null   float64\n",
      " 10  rating           16713 non-null  object \n",
      "dtypes: Int64(1), float64(6), object(4)\n",
      "memory usage: 1.5+ MB\n"
     ]
    }
   ],
   "source": [
    "df['user_score'] = df['user_score'].astype('float')\n",
    "df['year_of_release'] = df['year_of_release'].astype('Int64')\n",
    "df.info() #проверим изменение типа"
   ]
  },
  {
   "cell_type": "markdown",
   "metadata": {},
   "source": [
    "### Добавление столбца"
   ]
  },
  {
   "cell_type": "markdown",
   "metadata": {},
   "source": [
    "Посчитаем суммарные продажи во всех регионах и запишем их в отдельный столбец `total_sales`"
   ]
  },
  {
   "cell_type": "code",
   "execution_count": 10,
   "metadata": {
    "scrolled": true
   },
   "outputs": [
    {
     "data": {
      "text/html": [
       "<div>\n",
       "<style scoped>\n",
       "    .dataframe tbody tr th:only-of-type {\n",
       "        vertical-align: middle;\n",
       "    }\n",
       "\n",
       "    .dataframe tbody tr th {\n",
       "        vertical-align: top;\n",
       "    }\n",
       "\n",
       "    .dataframe thead th {\n",
       "        text-align: right;\n",
       "    }\n",
       "</style>\n",
       "<table border=\"1\" class=\"dataframe\">\n",
       "  <thead>\n",
       "    <tr style=\"text-align: right;\">\n",
       "      <th></th>\n",
       "      <th>name</th>\n",
       "      <th>platform</th>\n",
       "      <th>year_of_release</th>\n",
       "      <th>genre</th>\n",
       "      <th>na_sales</th>\n",
       "      <th>eu_sales</th>\n",
       "      <th>jp_sales</th>\n",
       "      <th>other_sales</th>\n",
       "      <th>critic_score</th>\n",
       "      <th>user_score</th>\n",
       "      <th>rating</th>\n",
       "      <th>total_sales</th>\n",
       "    </tr>\n",
       "  </thead>\n",
       "  <tbody>\n",
       "    <tr>\n",
       "      <th>0</th>\n",
       "      <td>Wii Sports</td>\n",
       "      <td>Wii</td>\n",
       "      <td>2006</td>\n",
       "      <td>Sports</td>\n",
       "      <td>41.36</td>\n",
       "      <td>28.96</td>\n",
       "      <td>3.77</td>\n",
       "      <td>8.45</td>\n",
       "      <td>76.0</td>\n",
       "      <td>8.0</td>\n",
       "      <td>E</td>\n",
       "      <td>82.54</td>\n",
       "    </tr>\n",
       "    <tr>\n",
       "      <th>1</th>\n",
       "      <td>Super Mario Bros.</td>\n",
       "      <td>NES</td>\n",
       "      <td>1985</td>\n",
       "      <td>Platform</td>\n",
       "      <td>29.08</td>\n",
       "      <td>3.58</td>\n",
       "      <td>6.81</td>\n",
       "      <td>0.77</td>\n",
       "      <td>NaN</td>\n",
       "      <td>NaN</td>\n",
       "      <td>RP</td>\n",
       "      <td>40.24</td>\n",
       "    </tr>\n",
       "    <tr>\n",
       "      <th>2</th>\n",
       "      <td>Mario Kart Wii</td>\n",
       "      <td>Wii</td>\n",
       "      <td>2008</td>\n",
       "      <td>Racing</td>\n",
       "      <td>15.68</td>\n",
       "      <td>12.76</td>\n",
       "      <td>3.79</td>\n",
       "      <td>3.29</td>\n",
       "      <td>82.0</td>\n",
       "      <td>8.3</td>\n",
       "      <td>E</td>\n",
       "      <td>35.52</td>\n",
       "    </tr>\n",
       "    <tr>\n",
       "      <th>3</th>\n",
       "      <td>Wii Sports Resort</td>\n",
       "      <td>Wii</td>\n",
       "      <td>2009</td>\n",
       "      <td>Sports</td>\n",
       "      <td>15.61</td>\n",
       "      <td>10.93</td>\n",
       "      <td>3.28</td>\n",
       "      <td>2.95</td>\n",
       "      <td>80.0</td>\n",
       "      <td>8.0</td>\n",
       "      <td>E</td>\n",
       "      <td>32.77</td>\n",
       "    </tr>\n",
       "    <tr>\n",
       "      <th>4</th>\n",
       "      <td>Pokemon Red/Pokemon Blue</td>\n",
       "      <td>GB</td>\n",
       "      <td>1996</td>\n",
       "      <td>Role-Playing</td>\n",
       "      <td>11.27</td>\n",
       "      <td>8.89</td>\n",
       "      <td>10.22</td>\n",
       "      <td>1.00</td>\n",
       "      <td>NaN</td>\n",
       "      <td>NaN</td>\n",
       "      <td>RP</td>\n",
       "      <td>31.38</td>\n",
       "    </tr>\n",
       "  </tbody>\n",
       "</table>\n",
       "</div>"
      ],
      "text/plain": [
       "                       name platform  year_of_release         genre  na_sales  \\\n",
       "0                Wii Sports      Wii             2006        Sports     41.36   \n",
       "1         Super Mario Bros.      NES             1985      Platform     29.08   \n",
       "2            Mario Kart Wii      Wii             2008        Racing     15.68   \n",
       "3         Wii Sports Resort      Wii             2009        Sports     15.61   \n",
       "4  Pokemon Red/Pokemon Blue       GB             1996  Role-Playing     11.27   \n",
       "\n",
       "   eu_sales  jp_sales  other_sales  critic_score  user_score rating  \\\n",
       "0     28.96      3.77         8.45          76.0         8.0      E   \n",
       "1      3.58      6.81         0.77           NaN         NaN     RP   \n",
       "2     12.76      3.79         3.29          82.0         8.3      E   \n",
       "3     10.93      3.28         2.95          80.0         8.0      E   \n",
       "4      8.89     10.22         1.00           NaN         NaN     RP   \n",
       "\n",
       "   total_sales  \n",
       "0        82.54  \n",
       "1        40.24  \n",
       "2        35.52  \n",
       "3        32.77  \n",
       "4        31.38  "
      ]
     },
     "execution_count": 10,
     "metadata": {},
     "output_type": "execute_result"
    }
   ],
   "source": [
    "df['total_sales'] = df['na_sales'] + df['jp_sales'] + df['other_sales'] + df['eu_sales']\n",
    "df.head()"
   ]
  },
  {
   "cell_type": "markdown",
   "metadata": {},
   "source": [
    "### Вывод "
   ]
  },
  {
   "cell_type": "markdown",
   "metadata": {},
   "source": [
    "Произвели предобработку данных, избавелись от пропусков там где это было необходимо, изменили тип данных в столбцах и добавили новый столбец с суммарными продажами во всех регионах. Это упростит нам дальшеющую работу с данными."
   ]
  },
  {
   "cell_type": "markdown",
   "metadata": {},
   "source": [
    "## Исследовательский анализ данных"
   ]
  },
  {
   "cell_type": "markdown",
   "metadata": {},
   "source": [
    "### Cколько игр выпускалось в разные годы"
   ]
  },
  {
   "cell_type": "markdown",
   "metadata": {},
   "source": [
    "Посмотрим сколько игр выпускалось в разные годы. Построим гистограмму."
   ]
  },
  {
   "cell_type": "code",
   "execution_count": 11,
   "metadata": {
    "scrolled": false
   },
   "outputs": [
    {
     "data": {
      "text/plain": [
       "Text(0.5, 0, 'Год')"
      ]
     },
     "execution_count": 11,
     "metadata": {},
     "output_type": "execute_result"
    },
    {
     "data": {
      "image/png": "[encoded data removed]",
      "text/plain": [
       "<Figure size 432x288 with 1 Axes>"
      ]
     },
     "metadata": {
      "needs_background": "light"
     },
     "output_type": "display_data"
    }
   ],
   "source": [
    "df.plot(y='year_of_release', kind='hist', grid=True, bins=40, range=[1980,2016])\n",
    "plt.title('Частота выпускания игр')\n",
    "plt.ylabel('Частота')\n",
    "plt.xlabel('Год')"
   ]
  },
  {
   "cell_type": "code",
   "execution_count": 12,
   "metadata": {},
   "outputs": [
    {
     "data": {
      "text/html": [
       "<div>\n",
       "<style scoped>\n",
       "    .dataframe tbody tr th:only-of-type {\n",
       "        vertical-align: middle;\n",
       "    }\n",
       "\n",
       "    .dataframe tbody tr th {\n",
       "        vertical-align: top;\n",
       "    }\n",
       "\n",
       "    .dataframe thead th {\n",
       "        text-align: right;\n",
       "    }\n",
       "</style>\n",
       "<table border=\"1\" class=\"dataframe\">\n",
       "  <thead>\n",
       "    <tr style=\"text-align: right;\">\n",
       "      <th></th>\n",
       "      <th>year_of_release</th>\n",
       "      <th>name</th>\n",
       "    </tr>\n",
       "  </thead>\n",
       "  <tbody>\n",
       "    <tr>\n",
       "      <th>0</th>\n",
       "      <td>1980</td>\n",
       "      <td>9</td>\n",
       "    </tr>\n",
       "    <tr>\n",
       "      <th>1</th>\n",
       "      <td>1981</td>\n",
       "      <td>46</td>\n",
       "    </tr>\n",
       "    <tr>\n",
       "      <th>2</th>\n",
       "      <td>1982</td>\n",
       "      <td>36</td>\n",
       "    </tr>\n",
       "    <tr>\n",
       "      <th>3</th>\n",
       "      <td>1983</td>\n",
       "      <td>17</td>\n",
       "    </tr>\n",
       "    <tr>\n",
       "      <th>4</th>\n",
       "      <td>1984</td>\n",
       "      <td>14</td>\n",
       "    </tr>\n",
       "    <tr>\n",
       "      <th>5</th>\n",
       "      <td>1985</td>\n",
       "      <td>14</td>\n",
       "    </tr>\n",
       "    <tr>\n",
       "      <th>6</th>\n",
       "      <td>1986</td>\n",
       "      <td>21</td>\n",
       "    </tr>\n",
       "    <tr>\n",
       "      <th>7</th>\n",
       "      <td>1987</td>\n",
       "      <td>16</td>\n",
       "    </tr>\n",
       "    <tr>\n",
       "      <th>8</th>\n",
       "      <td>1988</td>\n",
       "      <td>15</td>\n",
       "    </tr>\n",
       "    <tr>\n",
       "      <th>9</th>\n",
       "      <td>1989</td>\n",
       "      <td>17</td>\n",
       "    </tr>\n",
       "    <tr>\n",
       "      <th>10</th>\n",
       "      <td>1990</td>\n",
       "      <td>16</td>\n",
       "    </tr>\n",
       "    <tr>\n",
       "      <th>11</th>\n",
       "      <td>1991</td>\n",
       "      <td>41</td>\n",
       "    </tr>\n",
       "    <tr>\n",
       "      <th>12</th>\n",
       "      <td>1992</td>\n",
       "      <td>43</td>\n",
       "    </tr>\n",
       "    <tr>\n",
       "      <th>13</th>\n",
       "      <td>1993</td>\n",
       "      <td>60</td>\n",
       "    </tr>\n",
       "    <tr>\n",
       "      <th>14</th>\n",
       "      <td>1994</td>\n",
       "      <td>121</td>\n",
       "    </tr>\n",
       "    <tr>\n",
       "      <th>15</th>\n",
       "      <td>1995</td>\n",
       "      <td>219</td>\n",
       "    </tr>\n",
       "    <tr>\n",
       "      <th>16</th>\n",
       "      <td>1996</td>\n",
       "      <td>263</td>\n",
       "    </tr>\n",
       "    <tr>\n",
       "      <th>17</th>\n",
       "      <td>1997</td>\n",
       "      <td>289</td>\n",
       "    </tr>\n",
       "    <tr>\n",
       "      <th>18</th>\n",
       "      <td>1998</td>\n",
       "      <td>379</td>\n",
       "    </tr>\n",
       "    <tr>\n",
       "      <th>19</th>\n",
       "      <td>1999</td>\n",
       "      <td>338</td>\n",
       "    </tr>\n",
       "    <tr>\n",
       "      <th>20</th>\n",
       "      <td>2000</td>\n",
       "      <td>350</td>\n",
       "    </tr>\n",
       "    <tr>\n",
       "      <th>21</th>\n",
       "      <td>2001</td>\n",
       "      <td>482</td>\n",
       "    </tr>\n",
       "    <tr>\n",
       "      <th>22</th>\n",
       "      <td>2002</td>\n",
       "      <td>829</td>\n",
       "    </tr>\n",
       "    <tr>\n",
       "      <th>23</th>\n",
       "      <td>2003</td>\n",
       "      <td>775</td>\n",
       "    </tr>\n",
       "    <tr>\n",
       "      <th>24</th>\n",
       "      <td>2004</td>\n",
       "      <td>762</td>\n",
       "    </tr>\n",
       "    <tr>\n",
       "      <th>25</th>\n",
       "      <td>2005</td>\n",
       "      <td>939</td>\n",
       "    </tr>\n",
       "    <tr>\n",
       "      <th>26</th>\n",
       "      <td>2006</td>\n",
       "      <td>1006</td>\n",
       "    </tr>\n",
       "    <tr>\n",
       "      <th>27</th>\n",
       "      <td>2007</td>\n",
       "      <td>1197</td>\n",
       "    </tr>\n",
       "    <tr>\n",
       "      <th>28</th>\n",
       "      <td>2008</td>\n",
       "      <td>1427</td>\n",
       "    </tr>\n",
       "    <tr>\n",
       "      <th>29</th>\n",
       "      <td>2009</td>\n",
       "      <td>1426</td>\n",
       "    </tr>\n",
       "    <tr>\n",
       "      <th>30</th>\n",
       "      <td>2010</td>\n",
       "      <td>1255</td>\n",
       "    </tr>\n",
       "    <tr>\n",
       "      <th>31</th>\n",
       "      <td>2011</td>\n",
       "      <td>1136</td>\n",
       "    </tr>\n",
       "    <tr>\n",
       "      <th>32</th>\n",
       "      <td>2012</td>\n",
       "      <td>653</td>\n",
       "    </tr>\n",
       "    <tr>\n",
       "      <th>33</th>\n",
       "      <td>2013</td>\n",
       "      <td>544</td>\n",
       "    </tr>\n",
       "    <tr>\n",
       "      <th>34</th>\n",
       "      <td>2014</td>\n",
       "      <td>581</td>\n",
       "    </tr>\n",
       "    <tr>\n",
       "      <th>35</th>\n",
       "      <td>2015</td>\n",
       "      <td>606</td>\n",
       "    </tr>\n",
       "    <tr>\n",
       "      <th>36</th>\n",
       "      <td>2016</td>\n",
       "      <td>502</td>\n",
       "    </tr>\n",
       "  </tbody>\n",
       "</table>\n",
       "</div>"
      ],
      "text/plain": [
       "    year_of_release  name\n",
       "0              1980     9\n",
       "1              1981    46\n",
       "2              1982    36\n",
       "3              1983    17\n",
       "4              1984    14\n",
       "5              1985    14\n",
       "6              1986    21\n",
       "7              1987    16\n",
       "8              1988    15\n",
       "9              1989    17\n",
       "10             1990    16\n",
       "11             1991    41\n",
       "12             1992    43\n",
       "13             1993    60\n",
       "14             1994   121\n",
       "15             1995   219\n",
       "16             1996   263\n",
       "17             1997   289\n",
       "18             1998   379\n",
       "19             1999   338\n",
       "20             2000   350\n",
       "21             2001   482\n",
       "22             2002   829\n",
       "23             2003   775\n",
       "24             2004   762\n",
       "25             2005   939\n",
       "26             2006  1006\n",
       "27             2007  1197\n",
       "28             2008  1427\n",
       "29             2009  1426\n",
       "30             2010  1255\n",
       "31             2011  1136\n",
       "32             2012   653\n",
       "33             2013   544\n",
       "34             2014   581\n",
       "35             2015   606\n",
       "36             2016   502"
      ]
     },
     "execution_count": 12,
     "metadata": {},
     "output_type": "execute_result"
    }
   ],
   "source": [
    "df.groupby('year_of_release')['name'].count().reset_index()"
   ]
  },
  {
   "cell_type": "markdown",
   "metadata": {},
   "source": [
    "**Вывод**\n",
    "\n",
    "Игры начали выпускать с 1980 года. С ростом возможностей начало и расти производство видеоигр. с 2002 по 2011 год выпускалось наибольшее количество игр. Дальше пошел спад, возможно из-за перенасыщения рынка, либо из-за развития мобильных игр и приложений. Можно рассматривать данные начиная с 2002 года, до этого времени колличество выпущенных игр было мало."
   ]
  },
  {
   "cell_type": "markdown",
   "metadata": {},
   "source": [
    "### Как менялись продажи по платформам"
   ]
  },
  {
   "cell_type": "markdown",
   "metadata": {},
   "source": [
    "Выберем платформы с наибольшими суммарными продажами."
   ]
  },
  {
   "cell_type": "code",
   "execution_count": 13,
   "metadata": {},
   "outputs": [
    {
     "data": {
      "text/html": [
       "<div>\n",
       "<style scoped>\n",
       "    .dataframe tbody tr th:only-of-type {\n",
       "        vertical-align: middle;\n",
       "    }\n",
       "\n",
       "    .dataframe tbody tr th {\n",
       "        vertical-align: top;\n",
       "    }\n",
       "\n",
       "    .dataframe thead th {\n",
       "        text-align: right;\n",
       "    }\n",
       "</style>\n",
       "<table border=\"1\" class=\"dataframe\">\n",
       "  <thead>\n",
       "    <tr style=\"text-align: right;\">\n",
       "      <th></th>\n",
       "      <th>platform</th>\n",
       "      <th>total_sales</th>\n",
       "    </tr>\n",
       "  </thead>\n",
       "  <tbody>\n",
       "    <tr>\n",
       "      <th>0</th>\n",
       "      <td>PS2</td>\n",
       "      <td>1255.77</td>\n",
       "    </tr>\n",
       "    <tr>\n",
       "      <th>1</th>\n",
       "      <td>X360</td>\n",
       "      <td>971.42</td>\n",
       "    </tr>\n",
       "    <tr>\n",
       "      <th>2</th>\n",
       "      <td>PS3</td>\n",
       "      <td>939.65</td>\n",
       "    </tr>\n",
       "    <tr>\n",
       "      <th>3</th>\n",
       "      <td>Wii</td>\n",
       "      <td>907.51</td>\n",
       "    </tr>\n",
       "    <tr>\n",
       "      <th>4</th>\n",
       "      <td>DS</td>\n",
       "      <td>806.12</td>\n",
       "    </tr>\n",
       "    <tr>\n",
       "      <th>5</th>\n",
       "      <td>PS</td>\n",
       "      <td>730.86</td>\n",
       "    </tr>\n",
       "    <tr>\n",
       "      <th>6</th>\n",
       "      <td>GBA</td>\n",
       "      <td>317.85</td>\n",
       "    </tr>\n",
       "    <tr>\n",
       "      <th>7</th>\n",
       "      <td>PS4</td>\n",
       "      <td>314.14</td>\n",
       "    </tr>\n",
       "    <tr>\n",
       "      <th>8</th>\n",
       "      <td>PSP</td>\n",
       "      <td>294.05</td>\n",
       "    </tr>\n",
       "    <tr>\n",
       "      <th>9</th>\n",
       "      <td>PC</td>\n",
       "      <td>259.52</td>\n",
       "    </tr>\n",
       "    <tr>\n",
       "      <th>10</th>\n",
       "      <td>3DS</td>\n",
       "      <td>259.00</td>\n",
       "    </tr>\n",
       "    <tr>\n",
       "      <th>11</th>\n",
       "      <td>XB</td>\n",
       "      <td>257.74</td>\n",
       "    </tr>\n",
       "    <tr>\n",
       "      <th>12</th>\n",
       "      <td>GB</td>\n",
       "      <td>255.46</td>\n",
       "    </tr>\n",
       "    <tr>\n",
       "      <th>13</th>\n",
       "      <td>NES</td>\n",
       "      <td>251.05</td>\n",
       "    </tr>\n",
       "    <tr>\n",
       "      <th>14</th>\n",
       "      <td>N64</td>\n",
       "      <td>218.68</td>\n",
       "    </tr>\n",
       "    <tr>\n",
       "      <th>15</th>\n",
       "      <td>SNES</td>\n",
       "      <td>200.04</td>\n",
       "    </tr>\n",
       "    <tr>\n",
       "      <th>16</th>\n",
       "      <td>GC</td>\n",
       "      <td>198.93</td>\n",
       "    </tr>\n",
       "    <tr>\n",
       "      <th>17</th>\n",
       "      <td>XOne</td>\n",
       "      <td>159.32</td>\n",
       "    </tr>\n",
       "    <tr>\n",
       "      <th>18</th>\n",
       "      <td>2600</td>\n",
       "      <td>96.98</td>\n",
       "    </tr>\n",
       "    <tr>\n",
       "      <th>19</th>\n",
       "      <td>WiiU</td>\n",
       "      <td>82.19</td>\n",
       "    </tr>\n",
       "    <tr>\n",
       "      <th>20</th>\n",
       "      <td>PSV</td>\n",
       "      <td>54.07</td>\n",
       "    </tr>\n",
       "    <tr>\n",
       "      <th>21</th>\n",
       "      <td>SAT</td>\n",
       "      <td>33.59</td>\n",
       "    </tr>\n",
       "    <tr>\n",
       "      <th>22</th>\n",
       "      <td>GEN</td>\n",
       "      <td>28.35</td>\n",
       "    </tr>\n",
       "    <tr>\n",
       "      <th>23</th>\n",
       "      <td>DC</td>\n",
       "      <td>15.95</td>\n",
       "    </tr>\n",
       "    <tr>\n",
       "      <th>24</th>\n",
       "      <td>SCD</td>\n",
       "      <td>1.86</td>\n",
       "    </tr>\n",
       "    <tr>\n",
       "      <th>25</th>\n",
       "      <td>NG</td>\n",
       "      <td>1.44</td>\n",
       "    </tr>\n",
       "    <tr>\n",
       "      <th>26</th>\n",
       "      <td>WS</td>\n",
       "      <td>1.42</td>\n",
       "    </tr>\n",
       "    <tr>\n",
       "      <th>27</th>\n",
       "      <td>TG16</td>\n",
       "      <td>0.16</td>\n",
       "    </tr>\n",
       "    <tr>\n",
       "      <th>28</th>\n",
       "      <td>3DO</td>\n",
       "      <td>0.10</td>\n",
       "    </tr>\n",
       "    <tr>\n",
       "      <th>29</th>\n",
       "      <td>GG</td>\n",
       "      <td>0.04</td>\n",
       "    </tr>\n",
       "    <tr>\n",
       "      <th>30</th>\n",
       "      <td>PCFX</td>\n",
       "      <td>0.03</td>\n",
       "    </tr>\n",
       "  </tbody>\n",
       "</table>\n",
       "</div>"
      ],
      "text/plain": [
       "   platform  total_sales\n",
       "0       PS2      1255.77\n",
       "1      X360       971.42\n",
       "2       PS3       939.65\n",
       "3       Wii       907.51\n",
       "4        DS       806.12\n",
       "5        PS       730.86\n",
       "6       GBA       317.85\n",
       "7       PS4       314.14\n",
       "8       PSP       294.05\n",
       "9        PC       259.52\n",
       "10      3DS       259.00\n",
       "11       XB       257.74\n",
       "12       GB       255.46\n",
       "13      NES       251.05\n",
       "14      N64       218.68\n",
       "15     SNES       200.04\n",
       "16       GC       198.93\n",
       "17     XOne       159.32\n",
       "18     2600        96.98\n",
       "19     WiiU        82.19\n",
       "20      PSV        54.07\n",
       "21      SAT        33.59\n",
       "22      GEN        28.35\n",
       "23       DC        15.95\n",
       "24      SCD         1.86\n",
       "25       NG         1.44\n",
       "26       WS         1.42\n",
       "27     TG16         0.16\n",
       "28      3DO         0.10\n",
       "29       GG         0.04\n",
       "30     PCFX         0.03"
      ]
     },
     "execution_count": 13,
     "metadata": {},
     "output_type": "execute_result"
    }
   ],
   "source": [
    "df.groupby('platform')['total_sales'].sum().sort_values(ascending=False).reset_index()"
   ]
  },
  {
   "cell_type": "markdown",
   "metadata": {},
   "source": [
    "Наибольшие суммарные продажи были для платформ PS2, X360, PS3, Wii, DS, . Построим распределения по годам для этих платформ."
   ]
  },
  {
   "cell_type": "code",
   "execution_count": 14,
   "metadata": {},
   "outputs": [
    {
     "data": {
      "text/plain": [
       "Text(0.5, 0, 'Год')"
      ]
     },
     "execution_count": 14,
     "metadata": {},
     "output_type": "execute_result"
    },
    {
     "data": {
      "image/png": "[encoded data removed]",
      "text/plain": [
       "<Figure size 432x288 with 1 Axes>"
      ]
     },
     "metadata": {
      "needs_background": "light"
     },
     "output_type": "display_data"
    }
   ],
   "source": [
    "platform_ps2 = df.query('platform == \"PS2\"')\n",
    "platform_ps2.plot(y='year_of_release', kind='hist',grid=True, bins=30, range=[1999,2012])\n",
    "plt.title('Частота выпускания игр для PS2')\n",
    "plt.ylabel('Частота')\n",
    "plt.xlabel('Год')"
   ]
  },
  {
   "cell_type": "code",
   "execution_count": 15,
   "metadata": {},
   "outputs": [
    {
     "data": {
      "text/plain": [
       "Text(0.5, 0, 'Год')"
      ]
     },
     "execution_count": 15,
     "metadata": {},
     "output_type": "execute_result"
    },
    {
     "data": {
      "image/png": "[encoded data removed]",
      "text/plain": [
       "<Figure size 432x288 with 1 Axes>"
      ]
     },
     "metadata": {
      "needs_background": "light"
     },
     "output_type": "display_data"
    }
   ],
   "source": [
    "platform_x360 = df.query('platform == \"X360\"')\n",
    "platform_x360.plot(y='year_of_release', kind='hist', grid=True, bins=30, range=[2004,2016])\n",
    "plt.title('Частота выпускания игр для X360')\n",
    "plt.ylabel('Частота')\n",
    "plt.xlabel('Год')"
   ]
  },
  {
   "cell_type": "code",
   "execution_count": 16,
   "metadata": {},
   "outputs": [
    {
     "data": {
      "text/plain": [
       "Text(0.5, 0, 'Год')"
      ]
     },
     "execution_count": 16,
     "metadata": {},
     "output_type": "execute_result"
    },
    {
     "data": {
      "image/png": "[encoded data removed]",
      "text/plain": [
       "<Figure size 432x288 with 1 Axes>"
      ]
     },
     "metadata": {
      "needs_background": "light"
     },
     "output_type": "display_data"
    }
   ],
   "source": [
    "platform_wii = df.query('platform == \"Wii\"')\n",
    "platform_wii.plot(y='year_of_release', kind='hist', grid=True, bins=30, range=[2005,2016])\n",
    "plt.title('Частота выпускания игр для Wii')\n",
    "plt.ylabel('Частота')\n",
    "plt.xlabel('Год')"
   ]
  },
  {
   "cell_type": "code",
   "execution_count": 17,
   "metadata": {},
   "outputs": [
    {
     "data": {
      "text/plain": [
       "Text(0.5, 0, 'Год')"
      ]
     },
     "execution_count": 17,
     "metadata": {},
     "output_type": "execute_result"
    },
    {
     "data": {
      "image/png": "[encoded data removed]",
      "text/plain": [
       "<Figure size 432x288 with 1 Axes>"
      ]
     },
     "metadata": {
      "needs_background": "light"
     },
     "output_type": "display_data"
    }
   ],
   "source": [
    "platform_ds = df.query('platform == \"DS\"')\n",
    "platform_ds.plot(y='year_of_release', kind='hist', grid=True, bins=30, range=[2003,2014])\n",
    "plt.title('Частота выпускания игр для DS')\n",
    "plt.ylabel('Частота')\n",
    "plt.xlabel('Год')"
   ]
  },
  {
   "cell_type": "code",
   "execution_count": 18,
   "metadata": {},
   "outputs": [
    {
     "data": {
      "text/plain": [
       "Text(0.5, 0, 'Год')"
      ]
     },
     "execution_count": 18,
     "metadata": {},
     "output_type": "execute_result"
    },
    {
     "data": {
      "image/png": "[encoded data removed]",
      "text/plain": [
       "<Figure size 432x288 with 1 Axes>"
      ]
     },
     "metadata": {
      "needs_background": "light"
     },
     "output_type": "display_data"
    }
   ],
   "source": [
    "platform_ps3 = df.query('platform == \"PS3\"')\n",
    "platform_ps3.plot(y='year_of_release', kind='hist', grid=True, bins=30, range=[2005,2016])\n",
    "plt.title('Частота выпускания игр для PS3')\n",
    "plt.ylabel('Частота')\n",
    "plt.xlabel('Год')"
   ]
  },
  {
   "cell_type": "markdown",
   "metadata": {},
   "source": [
    "* Для PS2 выпускались игры с 2000 по 2010 год;\n",
    "* Для Х360 с 2005 по 2016;\n",
    "* Для Wii с 2006 по 2012;\n",
    "* Для DS c 2004 по 2012;\n",
    "* Для PS3 c 2006 по 2016. \n",
    "\n",
    "**Вывод** \n",
    "\n",
    "На основании этого можно сделать вывод, что примерно за 9 лет появляются новые и изчезают старые платформы. Если судить по продажам видеоигр. "
   ]
  },
  {
   "cell_type": "markdown",
   "metadata": {},
   "source": [
    "### Прогноз на 2017 год"
   ]
  },
  {
   "cell_type": "markdown",
   "metadata": {},
   "source": [
    "Возьмем данные за соответствующий актуальный период. Как видно из предыдущего пункта срок существования платформ примерно 10 лет. Поэтому для прогноза на 2017 год возьмем период в 2 года, чтобы не захватить уже отжившие тредны. Значит актуальный период  2015-2016."
   ]
  },
  {
   "cell_type": "code",
   "execution_count": 19,
   "metadata": {},
   "outputs": [
    {
     "data": {
      "text/html": [
       "<div>\n",
       "<style scoped>\n",
       "    .dataframe tbody tr th:only-of-type {\n",
       "        vertical-align: middle;\n",
       "    }\n",
       "\n",
       "    .dataframe tbody tr th {\n",
       "        vertical-align: top;\n",
       "    }\n",
       "\n",
       "    .dataframe thead th {\n",
       "        text-align: right;\n",
       "    }\n",
       "</style>\n",
       "<table border=\"1\" class=\"dataframe\">\n",
       "  <thead>\n",
       "    <tr style=\"text-align: right;\">\n",
       "      <th></th>\n",
       "      <th>name</th>\n",
       "      <th>platform</th>\n",
       "      <th>year_of_release</th>\n",
       "      <th>genre</th>\n",
       "      <th>na_sales</th>\n",
       "      <th>eu_sales</th>\n",
       "      <th>jp_sales</th>\n",
       "      <th>other_sales</th>\n",
       "      <th>critic_score</th>\n",
       "      <th>user_score</th>\n",
       "      <th>rating</th>\n",
       "      <th>total_sales</th>\n",
       "    </tr>\n",
       "  </thead>\n",
       "  <tbody>\n",
       "    <tr>\n",
       "      <th>31</th>\n",
       "      <td>Call of Duty: Black Ops 3</td>\n",
       "      <td>PS4</td>\n",
       "      <td>2015</td>\n",
       "      <td>Shooter</td>\n",
       "      <td>6.03</td>\n",
       "      <td>5.86</td>\n",
       "      <td>0.36</td>\n",
       "      <td>2.38</td>\n",
       "      <td>NaN</td>\n",
       "      <td>NaN</td>\n",
       "      <td>RP</td>\n",
       "      <td>14.63</td>\n",
       "    </tr>\n",
       "    <tr>\n",
       "      <th>77</th>\n",
       "      <td>FIFA 16</td>\n",
       "      <td>PS4</td>\n",
       "      <td>2015</td>\n",
       "      <td>Sports</td>\n",
       "      <td>1.12</td>\n",
       "      <td>6.12</td>\n",
       "      <td>0.06</td>\n",
       "      <td>1.28</td>\n",
       "      <td>82.0</td>\n",
       "      <td>4.3</td>\n",
       "      <td>E</td>\n",
       "      <td>8.58</td>\n",
       "    </tr>\n",
       "    <tr>\n",
       "      <th>87</th>\n",
       "      <td>Star Wars Battlefront (2015)</td>\n",
       "      <td>PS4</td>\n",
       "      <td>2015</td>\n",
       "      <td>Shooter</td>\n",
       "      <td>2.99</td>\n",
       "      <td>3.49</td>\n",
       "      <td>0.22</td>\n",
       "      <td>1.28</td>\n",
       "      <td>NaN</td>\n",
       "      <td>NaN</td>\n",
       "      <td>RP</td>\n",
       "      <td>7.98</td>\n",
       "    </tr>\n",
       "    <tr>\n",
       "      <th>94</th>\n",
       "      <td>FIFA 17</td>\n",
       "      <td>PS4</td>\n",
       "      <td>2016</td>\n",
       "      <td>Sports</td>\n",
       "      <td>0.66</td>\n",
       "      <td>5.75</td>\n",
       "      <td>0.08</td>\n",
       "      <td>1.11</td>\n",
       "      <td>85.0</td>\n",
       "      <td>5.0</td>\n",
       "      <td>E</td>\n",
       "      <td>7.60</td>\n",
       "    </tr>\n",
       "    <tr>\n",
       "      <th>99</th>\n",
       "      <td>Call of Duty: Black Ops 3</td>\n",
       "      <td>XOne</td>\n",
       "      <td>2015</td>\n",
       "      <td>Shooter</td>\n",
       "      <td>4.59</td>\n",
       "      <td>2.11</td>\n",
       "      <td>0.01</td>\n",
       "      <td>0.68</td>\n",
       "      <td>NaN</td>\n",
       "      <td>NaN</td>\n",
       "      <td>RP</td>\n",
       "      <td>7.39</td>\n",
       "    </tr>\n",
       "    <tr>\n",
       "      <th>105</th>\n",
       "      <td>Fallout 4</td>\n",
       "      <td>PS4</td>\n",
       "      <td>2015</td>\n",
       "      <td>Role-Playing</td>\n",
       "      <td>2.53</td>\n",
       "      <td>3.27</td>\n",
       "      <td>0.24</td>\n",
       "      <td>1.13</td>\n",
       "      <td>87.0</td>\n",
       "      <td>6.5</td>\n",
       "      <td>M</td>\n",
       "      <td>7.17</td>\n",
       "    </tr>\n",
       "    <tr>\n",
       "      <th>108</th>\n",
       "      <td>Pokemon Sun/Moon</td>\n",
       "      <td>3DS</td>\n",
       "      <td>2016</td>\n",
       "      <td>Role-Playing</td>\n",
       "      <td>2.98</td>\n",
       "      <td>1.45</td>\n",
       "      <td>2.26</td>\n",
       "      <td>0.45</td>\n",
       "      <td>NaN</td>\n",
       "      <td>NaN</td>\n",
       "      <td>RP</td>\n",
       "      <td>7.14</td>\n",
       "    </tr>\n",
       "    <tr>\n",
       "      <th>171</th>\n",
       "      <td>Uncharted 4: A Thief's End</td>\n",
       "      <td>PS4</td>\n",
       "      <td>2016</td>\n",
       "      <td>Shooter</td>\n",
       "      <td>1.85</td>\n",
       "      <td>2.50</td>\n",
       "      <td>0.19</td>\n",
       "      <td>0.85</td>\n",
       "      <td>93.0</td>\n",
       "      <td>7.9</td>\n",
       "      <td>T</td>\n",
       "      <td>5.39</td>\n",
       "    </tr>\n",
       "    <tr>\n",
       "      <th>231</th>\n",
       "      <td>Uncharted: The Nathan Drake Collection</td>\n",
       "      <td>PS4</td>\n",
       "      <td>2015</td>\n",
       "      <td>Action</td>\n",
       "      <td>2.07</td>\n",
       "      <td>1.71</td>\n",
       "      <td>0.08</td>\n",
       "      <td>0.76</td>\n",
       "      <td>86.0</td>\n",
       "      <td>8.1</td>\n",
       "      <td>T</td>\n",
       "      <td>4.62</td>\n",
       "    </tr>\n",
       "    <tr>\n",
       "      <th>242</th>\n",
       "      <td>Halo 5: Guardians</td>\n",
       "      <td>XOne</td>\n",
       "      <td>2015</td>\n",
       "      <td>Shooter</td>\n",
       "      <td>2.78</td>\n",
       "      <td>1.27</td>\n",
       "      <td>0.03</td>\n",
       "      <td>0.41</td>\n",
       "      <td>84.0</td>\n",
       "      <td>6.4</td>\n",
       "      <td>T</td>\n",
       "      <td>4.49</td>\n",
       "    </tr>\n",
       "  </tbody>\n",
       "</table>\n",
       "</div>"
      ],
      "text/plain": [
       "                                       name platform  year_of_release  \\\n",
       "31                Call of Duty: Black Ops 3      PS4             2015   \n",
       "77                                  FIFA 16      PS4             2015   \n",
       "87             Star Wars Battlefront (2015)      PS4             2015   \n",
       "94                                  FIFA 17      PS4             2016   \n",
       "99                Call of Duty: Black Ops 3     XOne             2015   \n",
       "105                               Fallout 4      PS4             2015   \n",
       "108                        Pokemon Sun/Moon      3DS             2016   \n",
       "171              Uncharted 4: A Thief's End      PS4             2016   \n",
       "231  Uncharted: The Nathan Drake Collection      PS4             2015   \n",
       "242                       Halo 5: Guardians     XOne             2015   \n",
       "\n",
       "            genre  na_sales  eu_sales  jp_sales  other_sales  critic_score  \\\n",
       "31        Shooter      6.03      5.86      0.36         2.38           NaN   \n",
       "77         Sports      1.12      6.12      0.06         1.28          82.0   \n",
       "87        Shooter      2.99      3.49      0.22         1.28           NaN   \n",
       "94         Sports      0.66      5.75      0.08         1.11          85.0   \n",
       "99        Shooter      4.59      2.11      0.01         0.68           NaN   \n",
       "105  Role-Playing      2.53      3.27      0.24         1.13          87.0   \n",
       "108  Role-Playing      2.98      1.45      2.26         0.45           NaN   \n",
       "171       Shooter      1.85      2.50      0.19         0.85          93.0   \n",
       "231        Action      2.07      1.71      0.08         0.76          86.0   \n",
       "242       Shooter      2.78      1.27      0.03         0.41          84.0   \n",
       "\n",
       "     user_score rating  total_sales  \n",
       "31          NaN     RP        14.63  \n",
       "77          4.3      E         8.58  \n",
       "87          NaN     RP         7.98  \n",
       "94          5.0      E         7.60  \n",
       "99          NaN     RP         7.39  \n",
       "105         6.5      M         7.17  \n",
       "108         NaN     RP         7.14  \n",
       "171         7.9      T         5.39  \n",
       "231         8.1      T         4.62  \n",
       "242         6.4      T         4.49  "
      ]
     },
     "execution_count": 19,
     "metadata": {},
     "output_type": "execute_result"
    }
   ],
   "source": [
    "good_df = df.query('year_of_release >= 2015')\n",
    "good_df.head(10)"
   ]
  },
  {
   "cell_type": "markdown",
   "metadata": {},
   "source": [
    "#### Выбор нескольких потенциально прибыльных платформ"
   ]
  },
  {
   "cell_type": "markdown",
   "metadata": {},
   "source": [
    "Cоздадим сводную таблицу"
   ]
  },
  {
   "cell_type": "code",
   "execution_count": 20,
   "metadata": {
    "scrolled": false
   },
   "outputs": [
    {
     "data": {
      "text/html": [
       "<div>\n",
       "<style scoped>\n",
       "    .dataframe tbody tr th:only-of-type {\n",
       "        vertical-align: middle;\n",
       "    }\n",
       "\n",
       "    .dataframe tbody tr th {\n",
       "        vertical-align: top;\n",
       "    }\n",
       "\n",
       "    .dataframe thead th {\n",
       "        text-align: right;\n",
       "    }\n",
       "</style>\n",
       "<table border=\"1\" class=\"dataframe\">\n",
       "  <thead>\n",
       "    <tr style=\"text-align: right;\">\n",
       "      <th>platform</th>\n",
       "      <th>3DS</th>\n",
       "      <th>PC</th>\n",
       "      <th>PS3</th>\n",
       "      <th>PS4</th>\n",
       "      <th>PSP</th>\n",
       "      <th>PSV</th>\n",
       "      <th>Wii</th>\n",
       "      <th>WiiU</th>\n",
       "      <th>X360</th>\n",
       "      <th>XOne</th>\n",
       "    </tr>\n",
       "    <tr>\n",
       "      <th>year_of_release</th>\n",
       "      <th></th>\n",
       "      <th></th>\n",
       "      <th></th>\n",
       "      <th></th>\n",
       "      <th></th>\n",
       "      <th></th>\n",
       "      <th></th>\n",
       "      <th></th>\n",
       "      <th></th>\n",
       "      <th></th>\n",
       "    </tr>\n",
       "  </thead>\n",
       "  <tbody>\n",
       "    <tr>\n",
       "      <th>2015</th>\n",
       "      <td>27.78</td>\n",
       "      <td>8.52</td>\n",
       "      <td>16.82</td>\n",
       "      <td>118.90</td>\n",
       "      <td>0.12</td>\n",
       "      <td>6.25</td>\n",
       "      <td>1.14</td>\n",
       "      <td>16.35</td>\n",
       "      <td>11.96</td>\n",
       "      <td>60.14</td>\n",
       "    </tr>\n",
       "    <tr>\n",
       "      <th>2016</th>\n",
       "      <td>15.14</td>\n",
       "      <td>5.25</td>\n",
       "      <td>3.60</td>\n",
       "      <td>69.25</td>\n",
       "      <td>0.00</td>\n",
       "      <td>4.25</td>\n",
       "      <td>0.18</td>\n",
       "      <td>4.60</td>\n",
       "      <td>1.52</td>\n",
       "      <td>26.15</td>\n",
       "    </tr>\n",
       "  </tbody>\n",
       "</table>\n",
       "</div>"
      ],
      "text/plain": [
       "platform           3DS    PC    PS3     PS4   PSP   PSV   Wii   WiiU   X360  \\\n",
       "year_of_release                                                               \n",
       "2015             27.78  8.52  16.82  118.90  0.12  6.25  1.14  16.35  11.96   \n",
       "2016             15.14  5.25   3.60   69.25  0.00  4.25  0.18   4.60   1.52   \n",
       "\n",
       "platform          XOne  \n",
       "year_of_release         \n",
       "2015             60.14  \n",
       "2016             26.15  "
      ]
     },
     "execution_count": 20,
     "metadata": {},
     "output_type": "execute_result"
    }
   ],
   "source": [
    "df_pivot = good_df.pivot_table(index='year_of_release', columns='platform', values='total_sales',aggfunc='sum').fillna(0)\n",
    "df_pivot.head(10)"
   ]
  },
  {
   "cell_type": "markdown",
   "metadata": {},
   "source": [
    "Поистроим график с объемами продаж на разных платформах по годам."
   ]
  },
  {
   "cell_type": "code",
   "execution_count": 21,
   "metadata": {},
   "outputs": [
    {
     "data": {
      "text/plain": [
       "Text(0, 0.5, 'Объём продаж за год')"
      ]
     },
     "execution_count": 21,
     "metadata": {},
     "output_type": "execute_result"
    },
    {
     "data": {
      "image/png": "[encoded data removed]",
      "text/plain": [
       "<Figure size 1080x432 with 1 Axes>"
      ]
     },
     "metadata": {
      "needs_background": "light"
     },
     "output_type": "display_data"
    }
   ],
   "source": [
    "df_pivot.plot(grid=True, style='-', figsize=(15,6))\n",
    "plt.title('Объёмы продаж на разных платформах по годам')\n",
    "plt.xlabel('Год')    \n",
    "plt.ylabel('Объём продаж за год')"
   ]
  },
  {
   "cell_type": "markdown",
   "metadata": {},
   "source": [
    "**Вывод**\n",
    "\n",
    "Исходя из графика видно, что такие популярные и прибыльные платформы как X360, Wii, PS3 уже прошли свой пик(напомню, что примерное время существование платформы взяли за 9 лет) и за актуальный период их продажи близятся к 0. \n",
    "\n",
    "Однако, мы можем увидеть прибыльные платформы, которые на данный период являются актуальными. Это такие как PS4 и XOne. 3DS также достаточно потенциальные, но в меньших объемах."
   ]
  },
  {
   "cell_type": "markdown",
   "metadata": {},
   "source": [
    "#### Построение графика «ящик с усами» по глобальным продажам игр в разбивке по платформам. "
   ]
  },
  {
   "cell_type": "markdown",
   "metadata": {},
   "source": [
    "Построим «ящик с усами» по глобальным продажам топ платформ за актуальный период. Для этого создадим список с популярными платформами за актуальный период и будем строить график для этих платформ."
   ]
  },
  {
   "cell_type": "code",
   "execution_count": 22,
   "metadata": {},
   "outputs": [
    {
     "data": {
      "image/png": "[encoded data removed]",
      "text/plain": [
       "<Figure size 1080x360 with 1 Axes>"
      ]
     },
     "metadata": {
      "needs_background": "light"
     },
     "output_type": "display_data"
    },
    {
     "data": {
      "image/png": "[encoded data removed]",
      "text/plain": [
       "<Figure size 1080x360 with 1 Axes>"
      ]
     },
     "metadata": {
      "needs_background": "light"
     },
     "output_type": "display_data"
    }
   ],
   "source": [
    "top_platforms = ['PS4', 'XOne', '3DS']\n",
    "plt.figure(figsize=(15,5))\n",
    "sns.boxplot(y='total_sales', x='platform',\n",
    "            data = good_df.query('platform in @top_platforms and total_sales < 4')\n",
    "            ,order=top_platforms\n",
    "           )\n",
    "plt.title('Общие продажи по платформам')\n",
    "plt.show()\n",
    "\n",
    "top_platforms = ['PS4', 'XOne', '3DS']\n",
    "plt.figure(figsize=(15,5))\n",
    "sns.boxplot(y='total_sales', x='platform',\n",
    "            data = good_df.query('platform in @top_platforms and total_sales < 4')\n",
    "            ,order=top_platforms\n",
    "           )\n",
    "plt.ylim(0,1.2)\n",
    "plt.title('Общие продажи по платформам')\n",
    "plt.show()"
   ]
  },
  {
   "cell_type": "markdown",
   "metadata": {},
   "source": [
    "**Вывод**\n",
    "\n",
    "Продажи на популярных платформах схожи. Медианные значения у PS4,XOne находятся близко к 0,1. На платформе 3DS меньший разброс цен. Разброс выручки от игр на XOne чуть больше остальных."
   ]
  },
  {
   "cell_type": "markdown",
   "metadata": {},
   "source": [
    "#### Влияние отзывывов пользователей и критиков на продажи внутри одной популярной платформы "
   ]
  },
  {
   "cell_type": "markdown",
   "metadata": {},
   "source": [
    "Рассмотрим как влияют отзывы на продажи на платформе PS4. Для этого создадим отдельный датафрейм."
   ]
  },
  {
   "cell_type": "code",
   "execution_count": 23,
   "metadata": {
    "scrolled": true
   },
   "outputs": [
    {
     "data": {
      "text/html": [
       "<div>\n",
       "<style scoped>\n",
       "    .dataframe tbody tr th:only-of-type {\n",
       "        vertical-align: middle;\n",
       "    }\n",
       "\n",
       "    .dataframe tbody tr th {\n",
       "        vertical-align: top;\n",
       "    }\n",
       "\n",
       "    .dataframe thead th {\n",
       "        text-align: right;\n",
       "    }\n",
       "</style>\n",
       "<table border=\"1\" class=\"dataframe\">\n",
       "  <thead>\n",
       "    <tr style=\"text-align: right;\">\n",
       "      <th></th>\n",
       "      <th>name</th>\n",
       "      <th>platform</th>\n",
       "      <th>year_of_release</th>\n",
       "      <th>genre</th>\n",
       "      <th>na_sales</th>\n",
       "      <th>eu_sales</th>\n",
       "      <th>jp_sales</th>\n",
       "      <th>other_sales</th>\n",
       "      <th>critic_score</th>\n",
       "      <th>user_score</th>\n",
       "      <th>rating</th>\n",
       "      <th>total_sales</th>\n",
       "    </tr>\n",
       "  </thead>\n",
       "  <tbody>\n",
       "    <tr>\n",
       "      <th>16500</th>\n",
       "      <td>Root Letter</td>\n",
       "      <td>PS4</td>\n",
       "      <td>2016</td>\n",
       "      <td>Adventure</td>\n",
       "      <td>0.00</td>\n",
       "      <td>0.00</td>\n",
       "      <td>0.01</td>\n",
       "      <td>0.0</td>\n",
       "      <td>69.0</td>\n",
       "      <td>7.5</td>\n",
       "      <td>RP</td>\n",
       "      <td>0.01</td>\n",
       "    </tr>\n",
       "    <tr>\n",
       "      <th>16503</th>\n",
       "      <td>Shin Hayarigami 2</td>\n",
       "      <td>PS4</td>\n",
       "      <td>2016</td>\n",
       "      <td>Adventure</td>\n",
       "      <td>0.00</td>\n",
       "      <td>0.00</td>\n",
       "      <td>0.01</td>\n",
       "      <td>0.0</td>\n",
       "      <td>NaN</td>\n",
       "      <td>NaN</td>\n",
       "      <td>RP</td>\n",
       "      <td>0.01</td>\n",
       "    </tr>\n",
       "    <tr>\n",
       "      <th>16526</th>\n",
       "      <td>Dungeons 2</td>\n",
       "      <td>PS4</td>\n",
       "      <td>2016</td>\n",
       "      <td>Role-Playing</td>\n",
       "      <td>0.01</td>\n",
       "      <td>0.00</td>\n",
       "      <td>0.00</td>\n",
       "      <td>0.0</td>\n",
       "      <td>61.0</td>\n",
       "      <td>7.9</td>\n",
       "      <td>T</td>\n",
       "      <td>0.01</td>\n",
       "    </tr>\n",
       "    <tr>\n",
       "      <th>16530</th>\n",
       "      <td>Carmageddon: Max Damage</td>\n",
       "      <td>PS4</td>\n",
       "      <td>2016</td>\n",
       "      <td>Action</td>\n",
       "      <td>0.01</td>\n",
       "      <td>0.00</td>\n",
       "      <td>0.00</td>\n",
       "      <td>0.0</td>\n",
       "      <td>51.0</td>\n",
       "      <td>5.5</td>\n",
       "      <td>M</td>\n",
       "      <td>0.01</td>\n",
       "    </tr>\n",
       "    <tr>\n",
       "      <th>16585</th>\n",
       "      <td>Farming 2017 - The Simulation</td>\n",
       "      <td>PS4</td>\n",
       "      <td>2016</td>\n",
       "      <td>Simulation</td>\n",
       "      <td>0.00</td>\n",
       "      <td>0.01</td>\n",
       "      <td>0.00</td>\n",
       "      <td>0.0</td>\n",
       "      <td>NaN</td>\n",
       "      <td>NaN</td>\n",
       "      <td>RP</td>\n",
       "      <td>0.01</td>\n",
       "    </tr>\n",
       "  </tbody>\n",
       "</table>\n",
       "</div>"
      ],
      "text/plain": [
       "                                name platform  year_of_release         genre  \\\n",
       "16500                    Root Letter      PS4             2016     Adventure   \n",
       "16503              Shin Hayarigami 2      PS4             2016     Adventure   \n",
       "16526                     Dungeons 2      PS4             2016  Role-Playing   \n",
       "16530        Carmageddon: Max Damage      PS4             2016        Action   \n",
       "16585  Farming 2017 - The Simulation      PS4             2016    Simulation   \n",
       "\n",
       "       na_sales  eu_sales  jp_sales  other_sales  critic_score  user_score  \\\n",
       "16500      0.00      0.00      0.01          0.0          69.0         7.5   \n",
       "16503      0.00      0.00      0.01          0.0           NaN         NaN   \n",
       "16526      0.01      0.00      0.00          0.0          61.0         7.9   \n",
       "16530      0.01      0.00      0.00          0.0          51.0         5.5   \n",
       "16585      0.00      0.01      0.00          0.0           NaN         NaN   \n",
       "\n",
       "      rating  total_sales  \n",
       "16500     RP         0.01  \n",
       "16503     RP         0.01  \n",
       "16526      T         0.01  \n",
       "16530      M         0.01  \n",
       "16585     RP         0.01  "
      ]
     },
     "execution_count": 23,
     "metadata": {},
     "output_type": "execute_result"
    }
   ],
   "source": [
    "df_ps4 = good_df.query('platform == \"PS4\"')\n",
    "df_ps4.tail()"
   ]
  },
  {
   "cell_type": "markdown",
   "metadata": {},
   "source": [
    "* Посмотрим зависимость между прожами и оценками критиков и посчитаем корреляцию."
   ]
  },
  {
   "cell_type": "code",
   "execution_count": 24,
   "metadata": {},
   "outputs": [
    {
     "data": {
      "text/plain": [
       "<AxesSubplot:title={'center':'Зависимость продаж от оценок критиков для PS4'}, xlabel='critic_score', ylabel='total_sales'>"
      ]
     },
     "execution_count": 24,
     "metadata": {},
     "output_type": "execute_result"
    },
    {
     "data": {
      "image/png": "[encoded data removed]",
      "text/plain": [
       "<Figure size 576x432 with 1 Axes>"
      ]
     },
     "metadata": {
      "needs_background": "light"
     },
     "output_type": "display_data"
    }
   ],
   "source": [
    "df_ps4.plot(x='critic_score', y='total_sales', kind='scatter', grid=True, figsize=(8, 6), title= 'Зависимость продаж от оценок критиков для PS4')\n"
   ]
  },
  {
   "cell_type": "code",
   "execution_count": 25,
   "metadata": {},
   "outputs": [
    {
     "data": {
      "text/plain": [
       "0.3928485555130599"
      ]
     },
     "execution_count": 25,
     "metadata": {},
     "output_type": "execute_result"
    }
   ],
   "source": [
    "df_ps4['critic_score'].corr(df_ps4['total_sales'])"
   ]
  },
  {
   "cell_type": "markdown",
   "metadata": {},
   "source": [
    "Коэффициент корреляции Пирсона 0,39 говорит о наличии сзязи, однако очень слабой.\n",
    "\n",
    "* Посмотрим зависимость между отзывами пользователей и продаж."
   ]
  },
  {
   "cell_type": "code",
   "execution_count": 26,
   "metadata": {},
   "outputs": [
    {
     "data": {
      "text/plain": [
       "<AxesSubplot:title={'center':'Зависимость продаж от оценок пользователей для PS4'}, xlabel='user_score', ylabel='total_sales'>"
      ]
     },
     "execution_count": 26,
     "metadata": {},
     "output_type": "execute_result"
    },
    {
     "data": {
      "image/png": "[encoded data removed]",
      "text/plain": [
       "<Figure size 576x432 with 1 Axes>"
      ]
     },
     "metadata": {
      "needs_background": "light"
     },
     "output_type": "display_data"
    }
   ],
   "source": [
    "df_ps4.plot(x='user_score', y='total_sales', kind='scatter', figsize=(8, 6), grid=True, title= 'Зависимость продаж от оценок пользователей для PS4')"
   ]
  },
  {
   "cell_type": "code",
   "execution_count": 27,
   "metadata": {},
   "outputs": [
    {
     "data": {
      "text/plain": [
       "-0.05973845712638214"
      ]
     },
     "execution_count": 27,
     "metadata": {},
     "output_type": "execute_result"
    }
   ],
   "source": [
    "df_ps4['user_score'].corr(df_ps4['total_sales'])"
   ]
  },
  {
   "cell_type": "markdown",
   "metadata": {},
   "source": [
    "Коэффициент Пирсона -0.06 связь отсутствует."
   ]
  },
  {
   "cell_type": "markdown",
   "metadata": {},
   "source": [
    "**Вывод**\n",
    "\n",
    "Критики как правило более благосклонны к играм. В то время как зависимость между отзывами пользователей и продажами почти не прослеживается. Пользователи более критичны в своих оценках."
   ]
  },
  {
   "cell_type": "markdown",
   "metadata": {},
   "source": [
    "#### Продажи игр на других платформах"
   ]
  },
  {
   "cell_type": "markdown",
   "metadata": {},
   "source": [
    "Посмотрим как влияют отзывы критиков и пользователей на продажи игр на других платформах."
   ]
  },
  {
   "cell_type": "markdown",
   "metadata": {},
   "source": [
    "* Посмотрим зависимость между продажами и оценками критиков и посчитаем корреляцию."
   ]
  },
  {
   "cell_type": "code",
   "execution_count": 28,
   "metadata": {},
   "outputs": [
    {
     "data": {
      "text/plain": [
       "<AxesSubplot:title={'center':'Зависимость продаж от оценок критиков для других платформ'}, xlabel='critic_score', ylabel='total_sales'>"
      ]
     },
     "execution_count": 28,
     "metadata": {},
     "output_type": "execute_result"
    },
    {
     "data": {
      "image/png": "[encoded data removed]",
      "text/plain": [
       "<Figure size 576x432 with 1 Axes>"
      ]
     },
     "metadata": {
      "needs_background": "light"
     },
     "output_type": "display_data"
    }
   ],
   "source": [
    "good_df.query('platform in @top_platforms and platform != \"PS4\"').plot(\n",
    "    x='critic_score', y='total_sales', kind='scatter',\n",
    "    figsize=(8, 6), grid=True, title='Зависимость продаж от оценок критиков для других платформ')"
   ]
  },
  {
   "cell_type": "code",
   "execution_count": 29,
   "metadata": {
    "scrolled": true
   },
   "outputs": [
    {
     "data": {
      "text/html": [
       "<div>\n",
       "<style scoped>\n",
       "    .dataframe tbody tr th:only-of-type {\n",
       "        vertical-align: middle;\n",
       "    }\n",
       "\n",
       "    .dataframe tbody tr th {\n",
       "        vertical-align: top;\n",
       "    }\n",
       "\n",
       "    .dataframe thead th {\n",
       "        text-align: right;\n",
       "    }\n",
       "</style>\n",
       "<table border=\"1\" class=\"dataframe\">\n",
       "  <thead>\n",
       "    <tr style=\"text-align: right;\">\n",
       "      <th></th>\n",
       "      <th></th>\n",
       "      <th>critic_score</th>\n",
       "    </tr>\n",
       "    <tr>\n",
       "      <th>platform</th>\n",
       "      <th></th>\n",
       "      <th></th>\n",
       "    </tr>\n",
       "  </thead>\n",
       "  <tbody>\n",
       "    <tr>\n",
       "      <th rowspan=\"2\" valign=\"top\">3DS</th>\n",
       "      <th>critic_score</th>\n",
       "      <td>1.000000</td>\n",
       "    </tr>\n",
       "    <tr>\n",
       "      <th>total_sales</th>\n",
       "      <td>0.177575</td>\n",
       "    </tr>\n",
       "    <tr>\n",
       "      <th rowspan=\"2\" valign=\"top\">XOne</th>\n",
       "      <th>critic_score</th>\n",
       "      <td>1.000000</td>\n",
       "    </tr>\n",
       "    <tr>\n",
       "      <th>total_sales</th>\n",
       "      <td>0.430889</td>\n",
       "    </tr>\n",
       "  </tbody>\n",
       "</table>\n",
       "</div>"
      ],
      "text/plain": [
       "                       critic_score\n",
       "platform                           \n",
       "3DS      critic_score      1.000000\n",
       "         total_sales       0.177575\n",
       "XOne     critic_score      1.000000\n",
       "         total_sales       0.430889"
      ]
     },
     "execution_count": 29,
     "metadata": {},
     "output_type": "execute_result"
    }
   ],
   "source": [
    "good_df.query('platform in @top_platforms and platform != \"PS4\"').pivot_table(\n",
    "    index='platform',values=['critic_score','total_sales'], aggfunc='corr').drop(columns = ['total_sales'],axis = 1)"
   ]
  },
  {
   "cell_type": "markdown",
   "metadata": {},
   "source": [
    "Судя по коэффициентам корреляции зависимость между продажами и оценками критиков есть, однако очень слабая."
   ]
  },
  {
   "cell_type": "markdown",
   "metadata": {},
   "source": [
    "* Посмотрим зависимость между продажами и оценками пользователей и посчитаем корреляцию."
   ]
  },
  {
   "cell_type": "code",
   "execution_count": 30,
   "metadata": {},
   "outputs": [
    {
     "data": {
      "text/plain": [
       "<AxesSubplot:title={'center':'Зависимость продаж от оценок пользователей для других платформ'}, xlabel='user_score', ylabel='total_sales'>"
      ]
     },
     "execution_count": 30,
     "metadata": {},
     "output_type": "execute_result"
    },
    {
     "data": {
      "image/png": "[encoded data removed]",
      "text/plain": [
       "<Figure size 576x432 with 1 Axes>"
      ]
     },
     "metadata": {
      "needs_background": "light"
     },
     "output_type": "display_data"
    }
   ],
   "source": [
    "good_df.query('platform in @top_platforms and platform != \"PS4\"').plot(\n",
    "    x='user_score', y='total_sales', kind='scatter',\n",
    "    figsize=(8, 6), grid=True, title='Зависимость продаж от оценок пользователей для других платформ')"
   ]
  },
  {
   "cell_type": "code",
   "execution_count": 31,
   "metadata": {
    "scrolled": false
   },
   "outputs": [
    {
     "data": {
      "text/html": [
       "<div>\n",
       "<style scoped>\n",
       "    .dataframe tbody tr th:only-of-type {\n",
       "        vertical-align: middle;\n",
       "    }\n",
       "\n",
       "    .dataframe tbody tr th {\n",
       "        vertical-align: top;\n",
       "    }\n",
       "\n",
       "    .dataframe thead th {\n",
       "        text-align: right;\n",
       "    }\n",
       "</style>\n",
       "<table border=\"1\" class=\"dataframe\">\n",
       "  <thead>\n",
       "    <tr style=\"text-align: right;\">\n",
       "      <th></th>\n",
       "      <th></th>\n",
       "      <th>user_score</th>\n",
       "    </tr>\n",
       "    <tr>\n",
       "      <th>platform</th>\n",
       "      <th></th>\n",
       "      <th></th>\n",
       "    </tr>\n",
       "  </thead>\n",
       "  <tbody>\n",
       "    <tr>\n",
       "      <th rowspan=\"2\" valign=\"top\">3DS</th>\n",
       "      <th>user_score</th>\n",
       "      <td>1.000000</td>\n",
       "    </tr>\n",
       "    <tr>\n",
       "      <th>total_sales</th>\n",
       "      <td>0.198796</td>\n",
       "    </tr>\n",
       "    <tr>\n",
       "      <th rowspan=\"2\" valign=\"top\">XOne</th>\n",
       "      <th>user_score</th>\n",
       "      <td>1.000000</td>\n",
       "    </tr>\n",
       "    <tr>\n",
       "      <th>total_sales</th>\n",
       "      <td>-0.041467</td>\n",
       "    </tr>\n",
       "  </tbody>\n",
       "</table>\n",
       "</div>"
      ],
      "text/plain": [
       "                      user_score\n",
       "platform                        \n",
       "3DS      user_score     1.000000\n",
       "         total_sales    0.198796\n",
       "XOne     user_score     1.000000\n",
       "         total_sales   -0.041467"
      ]
     },
     "execution_count": 31,
     "metadata": {},
     "output_type": "execute_result"
    }
   ],
   "source": [
    "good_df.query('platform in @top_platforms and platform != \"PS4\"').pivot_table(\n",
    "    index='platform',values=['user_score','total_sales'], aggfunc='corr').drop(columns = ['total_sales'],axis = 1)"
   ]
  },
  {
   "cell_type": "markdown",
   "metadata": {},
   "source": [
    "Судя по коэффициентам корреляции зависимости между продажами и оценками пользавателей нет."
   ]
  },
  {
   "cell_type": "markdown",
   "metadata": {},
   "source": [
    "**Вывод**\n",
    "\n"
   ]
  },
  {
   "cell_type": "markdown",
   "metadata": {},
   "source": [
    "Схожие тенденции имеют место почти для всех платформ. Отзывы критиков слабо, но влияют на продажи(кроме платформы PSV), а отзывы пользователей на продажи не влияют(кроме платформы WiiU)."
   ]
  },
  {
   "cell_type": "markdown",
   "metadata": {},
   "source": [
    "#### Oбщее распределение игр по жанрам"
   ]
  },
  {
   "cell_type": "markdown",
   "metadata": {},
   "source": [
    "Создадим сводную таблицу сводную таблицу с едианными продажами по каждому жанру."
   ]
  },
  {
   "cell_type": "code",
   "execution_count": 32,
   "metadata": {},
   "outputs": [
    {
     "data": {
      "text/html": [
       "<div>\n",
       "<style scoped>\n",
       "    .dataframe tbody tr th:only-of-type {\n",
       "        vertical-align: middle;\n",
       "    }\n",
       "\n",
       "    .dataframe tbody tr th {\n",
       "        vertical-align: top;\n",
       "    }\n",
       "\n",
       "    .dataframe thead th {\n",
       "        text-align: right;\n",
       "    }\n",
       "</style>\n",
       "<table border=\"1\" class=\"dataframe\">\n",
       "  <thead>\n",
       "    <tr style=\"text-align: right;\">\n",
       "      <th></th>\n",
       "      <th>median</th>\n",
       "    </tr>\n",
       "    <tr>\n",
       "      <th>genre</th>\n",
       "      <th></th>\n",
       "    </tr>\n",
       "  </thead>\n",
       "  <tbody>\n",
       "    <tr>\n",
       "      <th>Shooter</th>\n",
       "      <td>0.380</td>\n",
       "    </tr>\n",
       "    <tr>\n",
       "      <th>Sports</th>\n",
       "      <td>0.120</td>\n",
       "    </tr>\n",
       "    <tr>\n",
       "      <th>Role-Playing</th>\n",
       "      <td>0.115</td>\n",
       "    </tr>\n",
       "    <tr>\n",
       "      <th>Platform</th>\n",
       "      <td>0.100</td>\n",
       "    </tr>\n",
       "    <tr>\n",
       "      <th>Simulation</th>\n",
       "      <td>0.100</td>\n",
       "    </tr>\n",
       "    <tr>\n",
       "      <th>Fighting</th>\n",
       "      <td>0.090</td>\n",
       "    </tr>\n",
       "    <tr>\n",
       "      <th>Action</th>\n",
       "      <td>0.060</td>\n",
       "    </tr>\n",
       "    <tr>\n",
       "      <th>Misc</th>\n",
       "      <td>0.060</td>\n",
       "    </tr>\n",
       "    <tr>\n",
       "      <th>Racing</th>\n",
       "      <td>0.055</td>\n",
       "    </tr>\n",
       "    <tr>\n",
       "      <th>Strategy</th>\n",
       "      <td>0.050</td>\n",
       "    </tr>\n",
       "    <tr>\n",
       "      <th>Adventure</th>\n",
       "      <td>0.030</td>\n",
       "    </tr>\n",
       "    <tr>\n",
       "      <th>Puzzle</th>\n",
       "      <td>0.030</td>\n",
       "    </tr>\n",
       "  </tbody>\n",
       "</table>\n",
       "</div>"
      ],
      "text/plain": [
       "              median\n",
       "genre               \n",
       "Shooter        0.380\n",
       "Sports         0.120\n",
       "Role-Playing   0.115\n",
       "Platform       0.100\n",
       "Simulation     0.100\n",
       "Fighting       0.090\n",
       "Action         0.060\n",
       "Misc           0.060\n",
       "Racing         0.055\n",
       "Strategy       0.050\n",
       "Adventure      0.030\n",
       "Puzzle         0.030"
      ]
     },
     "execution_count": 32,
     "metadata": {},
     "output_type": "execute_result"
    }
   ],
   "source": [
    "genre_df = good_df.pivot_table(index='genre', values='total_sales',aggfunc='median').sort_values(by='total_sales', ascending=False)\n",
    "genre_df.columns = ['median']\n",
    "genre_df"
   ]
  },
  {
   "cell_type": "markdown",
   "metadata": {},
   "source": [
    "Построим диаграмму размаха, чтобы оценить прибыльность жанров."
   ]
  },
  {
   "cell_type": "code",
   "execution_count": 33,
   "metadata": {},
   "outputs": [
    {
     "data": {
      "image/png": "[encoded data removed]",
      "text/plain": [
       "<Figure size 1080x360 with 1 Axes>"
      ]
     },
     "metadata": {
      "needs_background": "light"
     },
     "output_type": "display_data"
    },
    {
     "data": {
      "image/png": "[encoded data removed]",
      "text/plain": [
       "<Figure size 1080x360 with 1 Axes>"
      ]
     },
     "metadata": {
      "needs_background": "light"
     },
     "output_type": "display_data"
    }
   ],
   "source": [
    "plt.figure(figsize=(15,5))\n",
    "sns.boxplot(y='total_sales', x='genre', data=good_df)\n",
    "plt.title('Общие продажи по жанрам')\n",
    "plt.show()\n",
    "\n",
    "plt.figure(figsize=(15,5))\n",
    "sns.boxplot(y='total_sales', x='genre', data=good_df)\n",
    "plt.ylim(0,1.75)\n",
    "plt.title('Общие продажи по жанрам')\n",
    "plt.show()"
   ]
  },
  {
   "cell_type": "markdown",
   "metadata": {},
   "source": [
    "**Вывод**\n",
    "\n",
    "Из диаграммы видно, что наиболее прибыльные жанры для актуального периода: Shooter, Sports, Role-Playing, Platform и Simulation. Самым прибыльным из них является Shooter."
   ]
  },
  {
   "cell_type": "markdown",
   "metadata": {},
   "source": [
    "## Составление портрета пользователя для каждого региона (NA, EU, JP)"
   ]
  },
  {
   "cell_type": "markdown",
   "metadata": {},
   "source": [
    "### Самые популярные платформы (топ-5)"
   ]
  },
  {
   "cell_type": "markdown",
   "metadata": {},
   "source": [
    "Посмотрим топ-5 самых популярных платформ в Северной Америке, Европе и Японии. Для этого сгруппируем данные и по ним построим графики."
   ]
  },
  {
   "cell_type": "code",
   "execution_count": 34,
   "metadata": {},
   "outputs": [
    {
     "data": {
      "image/png": "[encoded data removed]",
      "text/plain": [
       "<Figure size 1440x432 with 3 Axes>"
      ]
     },
     "metadata": {
      "needs_background": "light"
     },
     "output_type": "display_data"
    }
   ],
   "source": [
    "sales = ['na_sales', 'eu_sales', 'jp_sales']\n",
    "countries = ['N-A', 'Eu','Jp']\n",
    "fig, axs = plt.subplots(nrows = 1, ncols =3, figsize=(20,6))\n",
    "fig.suptitle('Топ-5 популярных платформ в разных странах')\n",
    "for i, sale in enumerate(sales):\n",
    "    for country in countries:\n",
    "        good_df.groupby('platform')[sale].sum().plot(kind='bar', ax=axs[i], title=sale)"
   ]
  },
  {
   "cell_type": "markdown",
   "metadata": {},
   "source": [
    "* Популярные платформы в Северной Америке: PS4, XOne, 3DS, WiiU, X360\n",
    "\n",
    "* Популярные платформы в Европе: PS4, XOne, PC, 3DS, PS3\n",
    "\n",
    "* Популярные платформы в Японии: 3DS, PS4, PSV, WiiU, PS3\n",
    "\n",
    "\n",
    "\n"
   ]
  },
  {
   "cell_type": "code",
   "execution_count": 35,
   "metadata": {},
   "outputs": [
    {
     "data": {
      "image/png": "[encoded data removed]",
      "text/plain": [
       "<Figure size 1296x432 with 3 Axes>"
      ]
     },
     "metadata": {},
     "output_type": "display_data"
    }
   ],
   "source": [
    "# задаем список регионов\n",
    "countries = good_df.columns[4:7]\n",
    "# начертим круговую диаграмму для каждого региона\n",
    "fig, axs = plt.subplots(1, 3, figsize=(18, 6))\n",
    "fig.suptitle('ТОП-5 платформ в регионах')\n",
    "for i in range(3):\n",
    "  # выберем 5 самых продающих платформ\n",
    "    df_i = (good_df.groupby('platform')[countries[i]].sum().\n",
    "             reset_index().\n",
    "             sort_values(countries[i], ascending = False, ignore_index = True).\n",
    "             head(5))\n",
    "  # занесем все остальыне продажи в Other_platforms\n",
    "    df_i = (df_i.append({'platform': 'Other', countries[i]: good_df[countries[i]].sum() \n",
    "                       - df_i[countries[i]].sum()}, ignore_index= True)\n",
    "         )\n",
    "    \n",
    "    axs[i].pie(df_i[countries[i]], labels = df_i['platform'], autopct='%.2f',\n",
    "       wedgeprops={'linewidth': 3.0, 'edgecolor': 'white'},\n",
    "       textprops={'size': 'large'})\n",
    "\n",
    "  # Зададим название региона.\n",
    "    axs[i].set_title(df_i.columns[1].split('_')[0].upper())\n",
    "    \n",
    "plt.show()"
   ]
  },
  {
   "cell_type": "markdown",
   "metadata": {},
   "source": [
    "### Самые популярные жанры (топ-5)"
   ]
  },
  {
   "cell_type": "markdown",
   "metadata": {},
   "source": [
    "Посмотрим топ-5 самых популряных жанров в Северной Америке, Европе и Японии"
   ]
  },
  {
   "cell_type": "code",
   "execution_count": 36,
   "metadata": {},
   "outputs": [
    {
     "data": {
      "image/png": "[encoded data removed]",
      "text/plain": [
       "<Figure size 1440x432 with 3 Axes>"
      ]
     },
     "metadata": {
      "needs_background": "light"
     },
     "output_type": "display_data"
    }
   ],
   "source": [
    "sales = ['na_sales', 'eu_sales', 'jp_sales']\n",
    "countries = ['N-A', 'Eu','Jp']\n",
    "fig, axs = plt.subplots(nrows = 1, ncols =3, figsize=(20,6))\n",
    "fig.suptitle('Топ-5 популярных жанров в разных странах')\n",
    "for i, sale in enumerate(sales):\n",
    "    for country in countries:\n",
    "        good_df.groupby('genre')[sale].sum().plot(kind='bar', ax=axs[i], title=sale)"
   ]
  },
  {
   "cell_type": "markdown",
   "metadata": {},
   "source": [
    "* В Северной Америке популярны такие жанры как Shooter, Action, Sports, Role-Playing, Misc.\n",
    "* В Европе Shooter, Action, Sports, Role-Playing, Racing.\n",
    "* В Японии Action, Role-Playing, Shooter, Misc, Sports, Adventure.\n",
    "\n",
    "**Вывод** \n",
    "\n",
    "В Северной Америке и Европе предпочтения очень схожи, за исключением того, что в Северной Америке любят Misc, а в Европе предпочитают гонки.\n",
    "\n",
    "В Японии дела обстоят немного иначе. Самый популрный жанр - экшен, на втором месте ролевые игры.  "
   ]
  },
  {
   "cell_type": "markdown",
   "metadata": {},
   "source": [
    "### Влияние рейтинга ESRB на продажи в отдельном регионе"
   ]
  },
  {
   "cell_type": "markdown",
   "metadata": {},
   "source": [
    "* «EC» («Early childhood») — «Для детей младшего возраста»\n",
    "* «E» («Everyone») — «Для всех» \n",
    "* «E10+» («Everyone 10 and older») — «Для всех от 10 лет и старше»\n",
    "* «T» («Teen») — «Подросткам»\n",
    "* «M» («Mature») — «Для взрослых»\n",
    "* «RP» («Rating Pending») — «Рейтинг ожидается»\n",
    "\n",
    "Создадим сводную таблицу и посмотрим влияние рейтинга на продажи."
   ]
  },
  {
   "cell_type": "code",
   "execution_count": 37,
   "metadata": {
    "scrolled": true
   },
   "outputs": [
    {
     "data": {
      "text/html": [
       "<div>\n",
       "<style scoped>\n",
       "    .dataframe tbody tr th:only-of-type {\n",
       "        vertical-align: middle;\n",
       "    }\n",
       "\n",
       "    .dataframe tbody tr th {\n",
       "        vertical-align: top;\n",
       "    }\n",
       "\n",
       "    .dataframe thead th {\n",
       "        text-align: right;\n",
       "    }\n",
       "</style>\n",
       "<table border=\"1\" class=\"dataframe\">\n",
       "  <thead>\n",
       "    <tr style=\"text-align: right;\">\n",
       "      <th></th>\n",
       "      <th>eu_sales</th>\n",
       "      <th>jp_sales</th>\n",
       "      <th>na_sales</th>\n",
       "    </tr>\n",
       "    <tr>\n",
       "      <th>rating</th>\n",
       "      <th></th>\n",
       "      <th></th>\n",
       "      <th></th>\n",
       "    </tr>\n",
       "  </thead>\n",
       "  <tbody>\n",
       "    <tr>\n",
       "      <th>E</th>\n",
       "      <td>34.83</td>\n",
       "      <td>5.25</td>\n",
       "      <td>26.59</td>\n",
       "    </tr>\n",
       "    <tr>\n",
       "      <th>E10+</th>\n",
       "      <td>11.54</td>\n",
       "      <td>3.27</td>\n",
       "      <td>17.87</td>\n",
       "    </tr>\n",
       "    <tr>\n",
       "      <th>M</th>\n",
       "      <td>45.54</td>\n",
       "      <td>4.29</td>\n",
       "      <td>47.03</td>\n",
       "    </tr>\n",
       "    <tr>\n",
       "      <th>RP</th>\n",
       "      <td>35.71</td>\n",
       "      <td>32.89</td>\n",
       "      <td>37.44</td>\n",
       "    </tr>\n",
       "    <tr>\n",
       "      <th>T</th>\n",
       "      <td>20.32</td>\n",
       "      <td>7.70</td>\n",
       "      <td>22.86</td>\n",
       "    </tr>\n",
       "  </tbody>\n",
       "</table>\n",
       "</div>"
      ],
      "text/plain": [
       "        eu_sales  jp_sales  na_sales\n",
       "rating                              \n",
       "E          34.83      5.25     26.59\n",
       "E10+       11.54      3.27     17.87\n",
       "M          45.54      4.29     47.03\n",
       "RP         35.71     32.89     37.44\n",
       "T          20.32      7.70     22.86"
      ]
     },
     "execution_count": 37,
     "metadata": {},
     "output_type": "execute_result"
    }
   ],
   "source": [
    "good_df.pivot_table(index='rating', values=['na_sales', 'eu_sales','jp_sales'], aggfunc='sum')"
   ]
  },
  {
   "cell_type": "code",
   "execution_count": 38,
   "metadata": {},
   "outputs": [
    {
     "data": {
      "image/png": "[encoded data removed]",
      "text/plain": [
       "<Figure size 1440x432 with 3 Axes>"
      ]
     },
     "metadata": {
      "needs_background": "light"
     },
     "output_type": "display_data"
    }
   ],
   "source": [
    "sales = ['na_sales', 'eu_sales', 'jp_sales']\n",
    "countries = ['N-A', 'Eu','Jp']\n",
    "fig, axs = plt.subplots(nrows = 1, ncols =3, figsize=(20,6))\n",
    "fig.suptitle('Влияние рейтинга ESRB на продажи в разных странах')\n",
    "for i, sale in enumerate(sales):\n",
    "    for country in countries:\n",
    "        good_df.groupby('rating')[sale].sum().plot(kind='bar', ax=axs[i], title=sale)"
   ]
  },
  {
   "cell_type": "markdown",
   "metadata": {},
   "source": [
    "**Вывод**\n",
    "\n",
    "Самым популярный рейтингом для Северной Америки и Европы является «М», в то время как для Японии на первом месте рейтинг «T»."
   ]
  },
  {
   "cell_type": "markdown",
   "metadata": {},
   "source": [
    "## Проверка гипотез"
   ]
  },
  {
   "cell_type": "markdown",
   "metadata": {},
   "source": [
    "### Средние пользовательские рейтинги платформ Xbox One и PC одинаковые"
   ]
  },
  {
   "cell_type": "markdown",
   "metadata": {},
   "source": [
    "Сформулируем нулевую и альтернативную гипотезы:\n",
    "\n",
    "* H0: Средние пользовательские рейтинги платформ Xbox One и PC одинаковые;\n",
    "* H1: Средние пользовательские рейтинги платформ Xbox One и PC разные.\n",
    "\n",
    "Для проверки гипотезы воспользуемся методом `scipy.stats.ttest_ind` т.к мы имеем две независимые генеральные совокупности."
   ]
  },
  {
   "cell_type": "markdown",
   "metadata": {},
   "source": [
    "Для начала полностью избавимся от пропусков в датафрейме. Данные больше не пригодятся нам для анализа, а пропуски в столбце `user_score` помешают проверке гипотезы."
   ]
  },
  {
   "cell_type": "code",
   "execution_count": 39,
   "metadata": {},
   "outputs": [
    {
     "data": {
      "text/html": [
       "<div>\n",
       "<style scoped>\n",
       "    .dataframe tbody tr th:only-of-type {\n",
       "        vertical-align: middle;\n",
       "    }\n",
       "\n",
       "    .dataframe tbody tr th {\n",
       "        vertical-align: top;\n",
       "    }\n",
       "\n",
       "    .dataframe thead th {\n",
       "        text-align: right;\n",
       "    }\n",
       "</style>\n",
       "<table border=\"1\" class=\"dataframe\">\n",
       "  <thead>\n",
       "    <tr style=\"text-align: right;\">\n",
       "      <th></th>\n",
       "      <th>name</th>\n",
       "      <th>platform</th>\n",
       "      <th>year_of_release</th>\n",
       "      <th>genre</th>\n",
       "      <th>na_sales</th>\n",
       "      <th>eu_sales</th>\n",
       "      <th>jp_sales</th>\n",
       "      <th>other_sales</th>\n",
       "      <th>critic_score</th>\n",
       "      <th>user_score</th>\n",
       "      <th>rating</th>\n",
       "      <th>total_sales</th>\n",
       "    </tr>\n",
       "  </thead>\n",
       "  <tbody>\n",
       "    <tr>\n",
       "      <th>77</th>\n",
       "      <td>FIFA 16</td>\n",
       "      <td>PS4</td>\n",
       "      <td>2015</td>\n",
       "      <td>Sports</td>\n",
       "      <td>1.12</td>\n",
       "      <td>6.12</td>\n",
       "      <td>0.06</td>\n",
       "      <td>1.28</td>\n",
       "      <td>82.0</td>\n",
       "      <td>4.3</td>\n",
       "      <td>E</td>\n",
       "      <td>8.58</td>\n",
       "    </tr>\n",
       "    <tr>\n",
       "      <th>94</th>\n",
       "      <td>FIFA 17</td>\n",
       "      <td>PS4</td>\n",
       "      <td>2016</td>\n",
       "      <td>Sports</td>\n",
       "      <td>0.66</td>\n",
       "      <td>5.75</td>\n",
       "      <td>0.08</td>\n",
       "      <td>1.11</td>\n",
       "      <td>85.0</td>\n",
       "      <td>5.0</td>\n",
       "      <td>E</td>\n",
       "      <td>7.60</td>\n",
       "    </tr>\n",
       "    <tr>\n",
       "      <th>105</th>\n",
       "      <td>Fallout 4</td>\n",
       "      <td>PS4</td>\n",
       "      <td>2015</td>\n",
       "      <td>Role-Playing</td>\n",
       "      <td>2.53</td>\n",
       "      <td>3.27</td>\n",
       "      <td>0.24</td>\n",
       "      <td>1.13</td>\n",
       "      <td>87.0</td>\n",
       "      <td>6.5</td>\n",
       "      <td>M</td>\n",
       "      <td>7.17</td>\n",
       "    </tr>\n",
       "    <tr>\n",
       "      <th>171</th>\n",
       "      <td>Uncharted 4: A Thief's End</td>\n",
       "      <td>PS4</td>\n",
       "      <td>2016</td>\n",
       "      <td>Shooter</td>\n",
       "      <td>1.85</td>\n",
       "      <td>2.50</td>\n",
       "      <td>0.19</td>\n",
       "      <td>0.85</td>\n",
       "      <td>93.0</td>\n",
       "      <td>7.9</td>\n",
       "      <td>T</td>\n",
       "      <td>5.39</td>\n",
       "    </tr>\n",
       "    <tr>\n",
       "      <th>231</th>\n",
       "      <td>Uncharted: The Nathan Drake Collection</td>\n",
       "      <td>PS4</td>\n",
       "      <td>2015</td>\n",
       "      <td>Action</td>\n",
       "      <td>2.07</td>\n",
       "      <td>1.71</td>\n",
       "      <td>0.08</td>\n",
       "      <td>0.76</td>\n",
       "      <td>86.0</td>\n",
       "      <td>8.1</td>\n",
       "      <td>T</td>\n",
       "      <td>4.62</td>\n",
       "    </tr>\n",
       "  </tbody>\n",
       "</table>\n",
       "</div>"
      ],
      "text/plain": [
       "                                       name platform  year_of_release  \\\n",
       "77                                  FIFA 16      PS4             2015   \n",
       "94                                  FIFA 17      PS4             2016   \n",
       "105                               Fallout 4      PS4             2015   \n",
       "171              Uncharted 4: A Thief's End      PS4             2016   \n",
       "231  Uncharted: The Nathan Drake Collection      PS4             2015   \n",
       "\n",
       "            genre  na_sales  eu_sales  jp_sales  other_sales  critic_score  \\\n",
       "77         Sports      1.12      6.12      0.06         1.28          82.0   \n",
       "94         Sports      0.66      5.75      0.08         1.11          85.0   \n",
       "105  Role-Playing      2.53      3.27      0.24         1.13          87.0   \n",
       "171       Shooter      1.85      2.50      0.19         0.85          93.0   \n",
       "231        Action      2.07      1.71      0.08         0.76          86.0   \n",
       "\n",
       "     user_score rating  total_sales  \n",
       "77          4.3      E         8.58  \n",
       "94          5.0      E         7.60  \n",
       "105         6.5      M         7.17  \n",
       "171         7.9      T         5.39  \n",
       "231         8.1      T         4.62  "
      ]
     },
     "execution_count": 39,
     "metadata": {},
     "output_type": "execute_result"
    }
   ],
   "source": [
    "new_df = good_df.dropna()\n",
    "new_df.head()"
   ]
  },
  {
   "cell_type": "code",
   "execution_count": 40,
   "metadata": {
    "scrolled": true
   },
   "outputs": [
    {
     "name": "stdout",
     "output_type": "stream",
     "text": [
      "p-значение: 0.3431338388627947\n",
      "Не получилось отвергнуть нулевую гипотезу\n"
     ]
    }
   ],
   "source": [
    "alpha = .05\n",
    "results = st.ttest_ind(\n",
    "    new_df[new_df['platform'] == 'XOne']['user_score'],new_df[new_df['platform'] == 'PC']['user_score'],equal_var = False)\n",
    "print('p-значение:', results.pvalue)\n",
    "if results.pvalue < alpha:\n",
    "    print(\"Отвергаем нулевую гипотезу\")\n",
    "else:\n",
    "    print(\"Не получилось отвергнуть нулевую гипотезу\") "
   ]
  },
  {
   "cell_type": "markdown",
   "metadata": {},
   "source": [
    "**Вывод**\n",
    "\n",
    "Значение p-value показывает: вероятность случайно получить такое или большее различие равно почти 34%. Это явно слишком большая вероятность, чтобы делать вывод о значимом различии между средними пользовательскими рейтингами. \n",
    "\n",
    "Средние пользовательские рейтинги платформ Xbox One и PC одинаковые."
   ]
  },
  {
   "cell_type": "markdown",
   "metadata": {},
   "source": [
    "### Средние пользовательские рейтинги жанров Action (англ. «действие», экшен-игры) и Sports (англ. «спортивные соревнования») разные."
   ]
  },
  {
   "cell_type": "markdown",
   "metadata": {},
   "source": [
    "Сформулируем нулевую и альтернативную гипотезы:\n",
    "\n",
    "* H0: Средние пользовательские рейтинги жанров Action и Sports одинаковые;\n",
    "* H1: Средние пользовательские рейтинги жанров Action и Sports разные.\n",
    "\n",
    "Для проверки гипотезы воспользуемся методом `scipy.stats.ttest_ind` т.к мы имеем две независимые генеральные совокупности."
   ]
  },
  {
   "cell_type": "code",
   "execution_count": 41,
   "metadata": {},
   "outputs": [
    {
     "name": "stdout",
     "output_type": "stream",
     "text": [
      "p-значение: 7.438306158797003e-06\n",
      "Отвергаем нулевую гипотезу\n"
     ]
    }
   ],
   "source": [
    "alpha = .05\n",
    "results = st.ttest_ind(\n",
    "    new_df[new_df['genre'] == 'Action']['user_score'],new_df[new_df['genre'] == 'Sports']['user_score'],equal_var = False)\n",
    "print('p-значение:', results.pvalue)\n",
    "if results.pvalue < alpha:\n",
    "    print(\"Отвергаем нулевую гипотезу\")\n",
    "else:\n",
    "    print(\"Не получилось отвергнуть нулевую гипотезу\") "
   ]
  },
  {
   "cell_type": "markdown",
   "metadata": {},
   "source": [
    "**Вывод**\n",
    "\n",
    "Данные предоставляют достаточное основание — для выбранного уровня значимости — отвергнуть нулевую гипотезу. Полученный результат является статистически значимым, поскольку р-значение ниже, чем альфа.\n",
    "\n",
    "Средние пользовательские рейтинги жанров Action и Sports разные."
   ]
  },
  {
   "cell_type": "markdown",
   "metadata": {},
   "source": [
    "## Общий вывод"
   ]
  },
  {
   "cell_type": "markdown",
   "metadata": {},
   "source": [
    "В ходе проекта были изучены и обработанны данные по продажам игра:\n",
    "* Произведена предобработка исходного датасета поменяли стиль заголовков, обработали пропуски, изменили типы данных в необходимых столбцах и добавили новый столбец суммарных продаж во всех регионах;\n",
    "* Посчитано сколько игр выпускалось в разные года;\n",
    "* Как менялись продажи по платформам; \n",
    "* Определена скорость устаревания платформ. В среднем современные консоли устаревают за 9 лет;\n",
    "* Выбрали несколько потенциальных платформ(PS4, XOne, 3DS) и посмотрели для них зависимость продаж от отзывов пользователей и критиков;\n",
    "* Составили портрет пользователя для Северно Америки, Европы и Японии;\n",
    "* Проверели гипотезы и установили что средние пользовательские рейтинги платформ Xbox One и PC одинаковые, а средние пользовательские рейтинги жанров Action и Sports разные.\n",
    "\n",
    "На основании анализа можно сделать прогноз успешной игры на 2017 год:\n",
    "\n",
    "Стратегии будут отличаться для различных регионов, но можно обобщить.\n",
    "Самыми популярными жанрами являются Shooter и Action. Наиболее прибыльный жанр для актуального периода: Shooter. Самые популярные платформы PS4 и XOne. Отзывы критиков немного могут влиять на продажи видеоигр."
   ]
  }
 ],
 "metadata": {
  "ExecuteTimeLog": [
   {
    "duration": 1123,
    "start_time": "2022-06-14T08:17:15.652Z"
   },
   {
    "duration": 197,
    "start_time": "2022-06-14T08:18:18.132Z"
   },
   {
    "duration": 20,
    "start_time": "2022-06-14T08:21:07.869Z"
   },
   {
    "duration": 28,
    "start_time": "2022-06-14T08:21:33.890Z"
   },
   {
    "duration": 83,
    "start_time": "2022-06-14T08:32:06.914Z"
   },
   {
    "duration": 7,
    "start_time": "2022-06-14T08:32:09.740Z"
   },
   {
    "duration": 4,
    "start_time": "2022-06-14T08:32:19.925Z"
   },
   {
    "duration": 7,
    "start_time": "2022-06-14T08:39:23.676Z"
   },
   {
    "duration": 137,
    "start_time": "2022-06-14T08:44:56.950Z"
   },
   {
    "duration": 8,
    "start_time": "2022-06-14T08:45:20.673Z"
   },
   {
    "duration": 10,
    "start_time": "2022-06-14T08:45:32.910Z"
   },
   {
    "duration": 1023,
    "start_time": "2022-06-14T08:45:48.751Z"
   },
   {
    "duration": 13,
    "start_time": "2022-06-14T08:45:49.776Z"
   },
   {
    "duration": 6,
    "start_time": "2022-06-14T08:45:49.791Z"
   },
   {
    "duration": 17,
    "start_time": "2022-06-14T08:45:49.799Z"
   },
   {
    "duration": 91,
    "start_time": "2022-06-14T08:46:21.532Z"
   },
   {
    "duration": 8,
    "start_time": "2022-06-14T08:46:33.732Z"
   },
   {
    "duration": 2,
    "start_time": "2022-06-14T08:46:46.914Z"
   },
   {
    "duration": 9,
    "start_time": "2022-06-14T08:46:51.662Z"
   },
   {
    "duration": 1080,
    "start_time": "2022-06-14T08:46:58.113Z"
   },
   {
    "duration": 17,
    "start_time": "2022-06-14T08:46:59.196Z"
   },
   {
    "duration": 10,
    "start_time": "2022-06-14T08:46:59.215Z"
   },
   {
    "duration": 10,
    "start_time": "2022-06-14T08:46:59.227Z"
   },
   {
    "duration": 2,
    "start_time": "2022-06-14T08:51:34.576Z"
   },
   {
    "duration": 5,
    "start_time": "2022-06-14T08:51:54.710Z"
   },
   {
    "duration": 105,
    "start_time": "2022-06-14T08:57:26.533Z"
   },
   {
    "duration": 61,
    "start_time": "2022-06-14T08:57:37.530Z"
   },
   {
    "duration": 13,
    "start_time": "2022-06-14T08:57:40.292Z"
   },
   {
    "duration": 4,
    "start_time": "2022-06-14T08:57:43.719Z"
   },
   {
    "duration": 5,
    "start_time": "2022-06-14T08:57:46.392Z"
   },
   {
    "duration": 15,
    "start_time": "2022-06-14T08:57:50.642Z"
   },
   {
    "duration": 8,
    "start_time": "2022-06-14T10:11:48.582Z"
   },
   {
    "duration": 32,
    "start_time": "2022-06-14T10:23:43.075Z"
   },
   {
    "duration": 12,
    "start_time": "2022-06-14T10:23:55.160Z"
   },
   {
    "duration": 37,
    "start_time": "2022-06-14T10:28:32.399Z"
   },
   {
    "duration": 6,
    "start_time": "2022-06-14T10:28:56.187Z"
   },
   {
    "duration": 6,
    "start_time": "2022-06-14T10:29:23.791Z"
   },
   {
    "duration": 8,
    "start_time": "2022-06-14T10:29:38.219Z"
   },
   {
    "duration": 8,
    "start_time": "2022-06-14T10:29:54.199Z"
   },
   {
    "duration": 14,
    "start_time": "2022-06-14T10:44:36.753Z"
   },
   {
    "duration": 8,
    "start_time": "2022-06-14T10:45:31.371Z"
   },
   {
    "duration": 10,
    "start_time": "2022-06-14T10:46:27.149Z"
   },
   {
    "duration": 7,
    "start_time": "2022-06-14T11:01:27.012Z"
   },
   {
    "duration": 35,
    "start_time": "2022-06-14T11:03:59.902Z"
   },
   {
    "duration": 9,
    "start_time": "2022-06-14T11:05:29.313Z"
   },
   {
    "duration": 9,
    "start_time": "2022-06-14T11:05:40.349Z"
   },
   {
    "duration": 8,
    "start_time": "2022-06-14T11:05:50.905Z"
   },
   {
    "duration": 1064,
    "start_time": "2022-06-14T11:06:05.578Z"
   },
   {
    "duration": 12,
    "start_time": "2022-06-14T11:06:06.643Z"
   },
   {
    "duration": 4,
    "start_time": "2022-06-14T11:06:06.656Z"
   },
   {
    "duration": 5,
    "start_time": "2022-06-14T11:06:06.662Z"
   },
   {
    "duration": 10,
    "start_time": "2022-06-14T11:06:06.668Z"
   },
   {
    "duration": 8,
    "start_time": "2022-06-14T11:06:06.679Z"
   },
   {
    "duration": 7,
    "start_time": "2022-06-14T11:06:06.689Z"
   },
   {
    "duration": 7,
    "start_time": "2022-06-14T11:06:06.698Z"
   },
   {
    "duration": 96,
    "start_time": "2022-06-14T11:06:06.707Z"
   },
   {
    "duration": 8,
    "start_time": "2022-06-14T11:07:27.962Z"
   },
   {
    "duration": 8,
    "start_time": "2022-06-14T11:08:38.801Z"
   },
   {
    "duration": 7,
    "start_time": "2022-06-14T11:10:16.592Z"
   },
   {
    "duration": 8,
    "start_time": "2022-06-14T11:10:26.702Z"
   },
   {
    "duration": 10,
    "start_time": "2022-06-14T11:12:57.901Z"
   },
   {
    "duration": 9,
    "start_time": "2022-06-14T11:13:06.805Z"
   },
   {
    "duration": 8,
    "start_time": "2022-06-14T11:13:11.225Z"
   },
   {
    "duration": 9,
    "start_time": "2022-06-14T11:13:19.759Z"
   },
   {
    "duration": 7,
    "start_time": "2022-06-14T11:16:05.267Z"
   },
   {
    "duration": 8,
    "start_time": "2022-06-14T11:16:09.974Z"
   },
   {
    "duration": 3,
    "start_time": "2022-06-14T11:25:04.149Z"
   },
   {
    "duration": 7,
    "start_time": "2022-06-14T11:31:18.054Z"
   },
   {
    "duration": 11,
    "start_time": "2022-06-14T11:31:28.602Z"
   },
   {
    "duration": 1046,
    "start_time": "2022-06-14T11:31:38.628Z"
   },
   {
    "duration": 33,
    "start_time": "2022-06-14T11:31:39.677Z"
   },
   {
    "duration": 15,
    "start_time": "2022-06-14T11:31:39.712Z"
   },
   {
    "duration": 11,
    "start_time": "2022-06-14T11:31:39.729Z"
   },
   {
    "duration": 14,
    "start_time": "2022-06-14T11:31:39.741Z"
   },
   {
    "duration": 16,
    "start_time": "2022-06-14T11:31:39.756Z"
   },
   {
    "duration": 10,
    "start_time": "2022-06-14T11:31:39.773Z"
   },
   {
    "duration": 27,
    "start_time": "2022-06-14T11:31:39.786Z"
   },
   {
    "duration": 5,
    "start_time": "2022-06-14T11:31:39.815Z"
   },
   {
    "duration": 20,
    "start_time": "2022-06-14T11:31:39.822Z"
   },
   {
    "duration": 520,
    "start_time": "2022-06-14T11:44:20.255Z"
   },
   {
    "duration": 208,
    "start_time": "2022-06-14T11:44:33.393Z"
   },
   {
    "duration": 196,
    "start_time": "2022-06-14T11:45:36.565Z"
   },
   {
    "duration": 200,
    "start_time": "2022-06-14T11:45:48.959Z"
   },
   {
    "duration": 198,
    "start_time": "2022-06-14T11:45:59.486Z"
   },
   {
    "duration": 167,
    "start_time": "2022-06-14T11:46:09.068Z"
   },
   {
    "duration": 8,
    "start_time": "2022-06-14T11:47:01.714Z"
   },
   {
    "duration": 179,
    "start_time": "2022-06-14T11:55:17.384Z"
   },
   {
    "duration": 9,
    "start_time": "2022-06-14T11:55:53.994Z"
   },
   {
    "duration": 12,
    "start_time": "2022-06-14T12:10:32.547Z"
   },
   {
    "duration": 15,
    "start_time": "2022-06-14T12:13:59.609Z"
   },
   {
    "duration": 12,
    "start_time": "2022-06-14T12:14:42.547Z"
   },
   {
    "duration": 13,
    "start_time": "2022-06-14T12:16:09.088Z"
   },
   {
    "duration": 8,
    "start_time": "2022-06-14T12:40:37.985Z"
   },
   {
    "duration": 11,
    "start_time": "2022-06-14T12:40:46.295Z"
   },
   {
    "duration": 8,
    "start_time": "2022-06-14T12:42:20.454Z"
   },
   {
    "duration": 7,
    "start_time": "2022-06-14T12:42:30.860Z"
   },
   {
    "duration": 2,
    "start_time": "2022-06-14T12:46:40.411Z"
   },
   {
    "duration": 11,
    "start_time": "2022-06-14T12:48:03.674Z"
   },
   {
    "duration": 24,
    "start_time": "2022-06-14T12:48:18.908Z"
   },
   {
    "duration": 163,
    "start_time": "2022-06-14T12:49:59.418Z"
   },
   {
    "duration": 178,
    "start_time": "2022-06-14T12:50:29.172Z"
   },
   {
    "duration": 218,
    "start_time": "2022-06-14T12:50:39.412Z"
   },
   {
    "duration": 155,
    "start_time": "2022-06-14T12:50:44.590Z"
   },
   {
    "duration": 162,
    "start_time": "2022-06-14T12:50:50.553Z"
   },
   {
    "duration": 200,
    "start_time": "2022-06-14T12:50:58.152Z"
   },
   {
    "duration": 157,
    "start_time": "2022-06-14T12:51:03.704Z"
   },
   {
    "duration": 163,
    "start_time": "2022-06-14T12:51:09.791Z"
   },
   {
    "duration": 175,
    "start_time": "2022-06-14T12:51:33.610Z"
   },
   {
    "duration": 169,
    "start_time": "2022-06-14T12:51:39.057Z"
   },
   {
    "duration": 178,
    "start_time": "2022-06-14T12:51:52.609Z"
   },
   {
    "duration": 165,
    "start_time": "2022-06-14T12:52:13.437Z"
   },
   {
    "duration": 168,
    "start_time": "2022-06-14T12:52:24.262Z"
   },
   {
    "duration": 16,
    "start_time": "2022-06-14T12:53:04.157Z"
   },
   {
    "duration": 323,
    "start_time": "2022-06-14T12:55:33.603Z"
   },
   {
    "duration": 186,
    "start_time": "2022-06-14T12:55:59.352Z"
   },
   {
    "duration": 181,
    "start_time": "2022-06-14T12:57:26.135Z"
   },
   {
    "duration": 170,
    "start_time": "2022-06-14T12:58:56.690Z"
   },
   {
    "duration": 218,
    "start_time": "2022-06-14T12:59:12.154Z"
   },
   {
    "duration": 185,
    "start_time": "2022-06-14T12:59:20.313Z"
   },
   {
    "duration": 204,
    "start_time": "2022-06-14T12:59:27.468Z"
   },
   {
    "duration": 171,
    "start_time": "2022-06-14T12:59:40.301Z"
   },
   {
    "duration": 215,
    "start_time": "2022-06-14T13:00:33.700Z"
   },
   {
    "duration": 173,
    "start_time": "2022-06-14T13:00:42.269Z"
   },
   {
    "duration": 242,
    "start_time": "2022-06-14T13:00:47.977Z"
   },
   {
    "duration": 289,
    "start_time": "2022-06-14T13:01:30.757Z"
   },
   {
    "duration": 198,
    "start_time": "2022-06-14T13:01:41.410Z"
   },
   {
    "duration": 165,
    "start_time": "2022-06-14T13:02:13.205Z"
   },
   {
    "duration": 132,
    "start_time": "2022-06-14T13:04:02.213Z"
   },
   {
    "duration": 186,
    "start_time": "2022-06-14T13:04:15.397Z"
   },
   {
    "duration": 18,
    "start_time": "2022-06-14T13:54:37.949Z"
   },
   {
    "duration": 34,
    "start_time": "2022-06-14T14:24:25.205Z"
   },
   {
    "duration": 21,
    "start_time": "2022-06-14T14:25:20.918Z"
   },
   {
    "duration": 45,
    "start_time": "2022-06-14T14:25:43.842Z"
   },
   {
    "duration": 598,
    "start_time": "2022-06-14T14:31:18.814Z"
   },
   {
    "duration": 594,
    "start_time": "2022-06-14T14:32:21.243Z"
   },
   {
    "duration": 35,
    "start_time": "2022-06-14T14:32:46.667Z"
   },
   {
    "duration": 552,
    "start_time": "2022-06-14T14:32:52.592Z"
   },
   {
    "duration": 595,
    "start_time": "2022-06-14T14:33:17.008Z"
   },
   {
    "duration": 255,
    "start_time": "2022-06-14T14:33:58.661Z"
   },
   {
    "duration": 278,
    "start_time": "2022-06-14T14:34:45.944Z"
   },
   {
    "duration": 258,
    "start_time": "2022-06-14T14:34:59.213Z"
   },
   {
    "duration": 366,
    "start_time": "2022-06-14T14:35:17.406Z"
   },
   {
    "duration": 255,
    "start_time": "2022-06-14T14:35:56.110Z"
   },
   {
    "duration": 275,
    "start_time": "2022-06-14T14:36:03.135Z"
   },
   {
    "duration": 506,
    "start_time": "2022-06-14T14:37:05.105Z"
   },
   {
    "duration": 34,
    "start_time": "2022-06-14T14:39:45.260Z"
   },
   {
    "duration": 9,
    "start_time": "2022-06-14T14:39:59.004Z"
   },
   {
    "duration": 285,
    "start_time": "2022-06-14T14:40:06.296Z"
   },
   {
    "duration": 390,
    "start_time": "2022-06-14T14:40:44.356Z"
   },
   {
    "duration": 440,
    "start_time": "2022-06-14T14:41:07.776Z"
   },
   {
    "duration": 305,
    "start_time": "2022-06-14T14:41:25.661Z"
   },
   {
    "duration": 318,
    "start_time": "2022-06-14T14:42:20.809Z"
   },
   {
    "duration": 43,
    "start_time": "2022-06-14T14:43:12.316Z"
   },
   {
    "duration": 315,
    "start_time": "2022-06-14T14:44:46.674Z"
   },
   {
    "duration": 28,
    "start_time": "2022-06-14T15:24:55.746Z"
   },
   {
    "duration": 4,
    "start_time": "2022-06-14T15:25:46.666Z"
   },
   {
    "duration": 25,
    "start_time": "2022-06-14T15:27:59.237Z"
   },
   {
    "duration": 14,
    "start_time": "2022-06-14T15:28:14.484Z"
   },
   {
    "duration": 25,
    "start_time": "2022-06-14T15:28:37.043Z"
   },
   {
    "duration": 25,
    "start_time": "2022-06-14T15:29:08.778Z"
   },
   {
    "duration": 14,
    "start_time": "2022-06-14T15:30:22.476Z"
   },
   {
    "duration": 13,
    "start_time": "2022-06-14T15:30:29.869Z"
   },
   {
    "duration": 26,
    "start_time": "2022-06-14T15:32:13.150Z"
   },
   {
    "duration": 5,
    "start_time": "2022-06-14T15:35:16.231Z"
   },
   {
    "duration": 13,
    "start_time": "2022-06-14T15:41:03.468Z"
   },
   {
    "duration": 1139,
    "start_time": "2022-06-14T15:41:34.882Z"
   },
   {
    "duration": 14,
    "start_time": "2022-06-14T15:41:36.023Z"
   },
   {
    "duration": 3,
    "start_time": "2022-06-14T15:41:36.039Z"
   },
   {
    "duration": 7,
    "start_time": "2022-06-14T15:41:36.044Z"
   },
   {
    "duration": 11,
    "start_time": "2022-06-14T15:41:36.052Z"
   },
   {
    "duration": 11,
    "start_time": "2022-06-14T15:41:36.078Z"
   },
   {
    "duration": 8,
    "start_time": "2022-06-14T15:41:36.090Z"
   },
   {
    "duration": 8,
    "start_time": "2022-06-14T15:41:36.099Z"
   },
   {
    "duration": 19,
    "start_time": "2022-06-14T15:41:36.108Z"
   },
   {
    "duration": 230,
    "start_time": "2022-06-14T15:41:36.129Z"
   },
   {
    "duration": 17,
    "start_time": "2022-06-14T15:41:36.361Z"
   },
   {
    "duration": 22,
    "start_time": "2022-06-14T15:41:36.380Z"
   },
   {
    "duration": 224,
    "start_time": "2022-06-14T15:41:36.404Z"
   },
   {
    "duration": 192,
    "start_time": "2022-06-14T15:41:36.630Z"
   },
   {
    "duration": 176,
    "start_time": "2022-06-14T15:41:36.824Z"
   },
   {
    "duration": 183,
    "start_time": "2022-06-14T15:41:37.002Z"
   },
   {
    "duration": 181,
    "start_time": "2022-06-14T15:41:37.186Z"
   },
   {
    "duration": 24,
    "start_time": "2022-06-14T15:41:37.369Z"
   },
   {
    "duration": 32,
    "start_time": "2022-06-14T15:41:37.395Z"
   },
   {
    "duration": 334,
    "start_time": "2022-06-14T15:41:37.428Z"
   },
   {
    "duration": 217,
    "start_time": "2022-06-14T15:41:37.763Z"
   },
   {
    "duration": 52,
    "start_time": "2022-06-14T17:33:06.937Z"
   },
   {
    "duration": 1528,
    "start_time": "2022-06-14T17:33:22.815Z"
   },
   {
    "duration": 16,
    "start_time": "2022-06-14T17:33:24.345Z"
   },
   {
    "duration": 11,
    "start_time": "2022-06-14T17:33:24.363Z"
   },
   {
    "duration": 7,
    "start_time": "2022-06-14T17:33:24.377Z"
   },
   {
    "duration": 23,
    "start_time": "2022-06-14T17:33:24.386Z"
   },
   {
    "duration": 14,
    "start_time": "2022-06-14T17:33:24.410Z"
   },
   {
    "duration": 8,
    "start_time": "2022-06-14T17:33:24.426Z"
   },
   {
    "duration": 14,
    "start_time": "2022-06-14T17:33:24.435Z"
   },
   {
    "duration": 22,
    "start_time": "2022-06-14T17:33:24.451Z"
   },
   {
    "duration": 250,
    "start_time": "2022-06-14T17:33:24.476Z"
   },
   {
    "duration": 14,
    "start_time": "2022-06-14T17:33:24.728Z"
   },
   {
    "duration": 13,
    "start_time": "2022-06-14T17:33:24.744Z"
   },
   {
    "duration": 229,
    "start_time": "2022-06-14T17:33:24.759Z"
   },
   {
    "duration": 231,
    "start_time": "2022-06-14T17:33:24.990Z"
   },
   {
    "duration": 223,
    "start_time": "2022-06-14T17:33:25.223Z"
   },
   {
    "duration": 210,
    "start_time": "2022-06-14T17:33:25.447Z"
   },
   {
    "duration": 212,
    "start_time": "2022-06-14T17:33:25.659Z"
   },
   {
    "duration": 38,
    "start_time": "2022-06-14T17:33:25.872Z"
   },
   {
    "duration": 46,
    "start_time": "2022-06-14T17:33:25.912Z"
   },
   {
    "duration": 378,
    "start_time": "2022-06-14T17:33:25.959Z"
   },
   {
    "duration": 108,
    "start_time": "2022-06-14T17:33:26.338Z"
   },
   {
    "duration": 32,
    "start_time": "2022-06-14T17:34:22.607Z"
   },
   {
    "duration": 38,
    "start_time": "2022-06-14T17:40:07.144Z"
   },
   {
    "duration": 288,
    "start_time": "2022-06-14T17:40:49.240Z"
   },
   {
    "duration": 210,
    "start_time": "2022-06-14T17:41:44.041Z"
   },
   {
    "duration": 184,
    "start_time": "2022-06-14T17:42:20.424Z"
   },
   {
    "duration": 214,
    "start_time": "2022-06-14T17:43:00.250Z"
   },
   {
    "duration": 210,
    "start_time": "2022-06-14T17:43:11.220Z"
   },
   {
    "duration": 208,
    "start_time": "2022-06-14T17:44:03.218Z"
   },
   {
    "duration": 191,
    "start_time": "2022-06-14T17:44:10.485Z"
   },
   {
    "duration": 200,
    "start_time": "2022-06-14T17:44:18.129Z"
   },
   {
    "duration": 196,
    "start_time": "2022-06-14T17:44:27.027Z"
   },
   {
    "duration": 192,
    "start_time": "2022-06-14T17:44:36.125Z"
   },
   {
    "duration": 198,
    "start_time": "2022-06-14T17:44:58.310Z"
   },
   {
    "duration": 302,
    "start_time": "2022-06-14T17:45:06.717Z"
   },
   {
    "duration": 213,
    "start_time": "2022-06-14T17:48:20.065Z"
   },
   {
    "duration": 289,
    "start_time": "2022-06-14T17:50:30.463Z"
   },
   {
    "duration": 333,
    "start_time": "2022-06-14T18:01:06.313Z"
   },
   {
    "duration": 276,
    "start_time": "2022-06-14T18:01:56.099Z"
   },
   {
    "duration": 257,
    "start_time": "2022-06-14T18:02:07.661Z"
   },
   {
    "duration": 215,
    "start_time": "2022-06-14T18:05:48.757Z"
   },
   {
    "duration": 365,
    "start_time": "2022-06-14T18:06:12.754Z"
   },
   {
    "duration": 246,
    "start_time": "2022-06-14T18:06:25.940Z"
   },
   {
    "duration": 282,
    "start_time": "2022-06-14T18:06:42.786Z"
   },
   {
    "duration": 194,
    "start_time": "2022-06-14T18:07:03.123Z"
   },
   {
    "duration": 204,
    "start_time": "2022-06-14T18:07:11.433Z"
   },
   {
    "duration": 37,
    "start_time": "2022-06-14T18:17:02.522Z"
   },
   {
    "duration": 18,
    "start_time": "2022-06-14T18:17:17.753Z"
   },
   {
    "duration": 409,
    "start_time": "2022-06-14T18:17:56.820Z"
   },
   {
    "duration": 243,
    "start_time": "2022-06-14T18:18:50.268Z"
   },
   {
    "duration": 216,
    "start_time": "2022-06-14T18:19:55.430Z"
   },
   {
    "duration": 5,
    "start_time": "2022-06-14T18:21:11.068Z"
   },
   {
    "duration": 24,
    "start_time": "2022-06-14T18:23:03.290Z"
   },
   {
    "duration": 20,
    "start_time": "2022-06-14T18:24:35.887Z"
   },
   {
    "duration": 141,
    "start_time": "2022-06-14T18:27:28.006Z"
   },
   {
    "duration": 14,
    "start_time": "2022-06-14T18:29:00.150Z"
   },
   {
    "duration": 120,
    "start_time": "2022-06-14T18:29:19.806Z"
   },
   {
    "duration": 1268,
    "start_time": "2022-06-15T03:59:24.227Z"
   },
   {
    "duration": 14,
    "start_time": "2022-06-15T03:59:25.497Z"
   },
   {
    "duration": 4,
    "start_time": "2022-06-15T03:59:25.513Z"
   },
   {
    "duration": 6,
    "start_time": "2022-06-15T03:59:25.519Z"
   },
   {
    "duration": 22,
    "start_time": "2022-06-15T03:59:25.527Z"
   },
   {
    "duration": 9,
    "start_time": "2022-06-15T03:59:25.551Z"
   },
   {
    "duration": 7,
    "start_time": "2022-06-15T03:59:25.561Z"
   },
   {
    "duration": 10,
    "start_time": "2022-06-15T03:59:25.569Z"
   },
   {
    "duration": 102,
    "start_time": "2022-06-15T03:59:25.581Z"
   },
   {
    "duration": 0,
    "start_time": "2022-06-15T03:59:25.685Z"
   },
   {
    "duration": 0,
    "start_time": "2022-06-15T03:59:25.686Z"
   },
   {
    "duration": 0,
    "start_time": "2022-06-15T03:59:25.687Z"
   },
   {
    "duration": 0,
    "start_time": "2022-06-15T03:59:25.688Z"
   },
   {
    "duration": 0,
    "start_time": "2022-06-15T03:59:25.689Z"
   },
   {
    "duration": 0,
    "start_time": "2022-06-15T03:59:25.690Z"
   },
   {
    "duration": 0,
    "start_time": "2022-06-15T03:59:25.691Z"
   },
   {
    "duration": 0,
    "start_time": "2022-06-15T03:59:25.692Z"
   },
   {
    "duration": 0,
    "start_time": "2022-06-15T03:59:25.693Z"
   },
   {
    "duration": 0,
    "start_time": "2022-06-15T03:59:25.694Z"
   },
   {
    "duration": 0,
    "start_time": "2022-06-15T03:59:25.695Z"
   },
   {
    "duration": 0,
    "start_time": "2022-06-15T03:59:25.696Z"
   },
   {
    "duration": 0,
    "start_time": "2022-06-15T03:59:25.697Z"
   },
   {
    "duration": 0,
    "start_time": "2022-06-15T03:59:25.698Z"
   },
   {
    "duration": 0,
    "start_time": "2022-06-15T03:59:25.699Z"
   },
   {
    "duration": 0,
    "start_time": "2022-06-15T03:59:25.700Z"
   },
   {
    "duration": 5,
    "start_time": "2022-06-15T03:59:45.866Z"
   },
   {
    "duration": 16,
    "start_time": "2022-06-15T04:00:14.613Z"
   },
   {
    "duration": 1171,
    "start_time": "2022-06-15T04:01:07.135Z"
   },
   {
    "duration": 13,
    "start_time": "2022-06-15T04:01:08.308Z"
   },
   {
    "duration": 8,
    "start_time": "2022-06-15T04:01:08.323Z"
   },
   {
    "duration": 6,
    "start_time": "2022-06-15T04:01:08.333Z"
   },
   {
    "duration": 10,
    "start_time": "2022-06-15T04:01:08.341Z"
   },
   {
    "duration": 11,
    "start_time": "2022-06-15T04:01:08.364Z"
   },
   {
    "duration": 6,
    "start_time": "2022-06-15T04:01:08.376Z"
   },
   {
    "duration": 8,
    "start_time": "2022-06-15T04:01:08.383Z"
   },
   {
    "duration": 19,
    "start_time": "2022-06-15T04:01:08.392Z"
   },
   {
    "duration": 17,
    "start_time": "2022-06-15T04:01:08.413Z"
   },
   {
    "duration": 225,
    "start_time": "2022-06-15T04:01:08.431Z"
   },
   {
    "duration": 16,
    "start_time": "2022-06-15T04:01:08.657Z"
   },
   {
    "duration": 10,
    "start_time": "2022-06-15T04:01:08.674Z"
   },
   {
    "duration": 208,
    "start_time": "2022-06-15T04:01:08.686Z"
   },
   {
    "duration": 243,
    "start_time": "2022-06-15T04:01:08.896Z"
   },
   {
    "duration": 180,
    "start_time": "2022-06-15T04:01:09.141Z"
   },
   {
    "duration": 180,
    "start_time": "2022-06-15T04:01:09.323Z"
   },
   {
    "duration": 169,
    "start_time": "2022-06-15T04:01:09.504Z"
   },
   {
    "duration": 19,
    "start_time": "2022-06-15T04:01:09.675Z"
   },
   {
    "duration": 31,
    "start_time": "2022-06-15T04:01:09.696Z"
   },
   {
    "duration": 375,
    "start_time": "2022-06-15T04:01:09.728Z"
   },
   {
    "duration": 238,
    "start_time": "2022-06-15T04:01:10.105Z"
   },
   {
    "duration": 28,
    "start_time": "2022-06-15T04:01:10.345Z"
   },
   {
    "duration": 196,
    "start_time": "2022-06-15T04:01:10.375Z"
   },
   {
    "duration": 5,
    "start_time": "2022-06-15T04:01:10.573Z"
   },
   {
    "duration": 99,
    "start_time": "2022-06-15T04:01:49.955Z"
   },
   {
    "duration": 119,
    "start_time": "2022-06-15T04:02:28.623Z"
   },
   {
    "duration": 139,
    "start_time": "2022-06-15T04:02:44.534Z"
   },
   {
    "duration": 144,
    "start_time": "2022-06-15T04:03:01.736Z"
   },
   {
    "duration": 138,
    "start_time": "2022-06-15T04:03:37.703Z"
   },
   {
    "duration": 140,
    "start_time": "2022-06-15T04:03:44.052Z"
   },
   {
    "duration": 133,
    "start_time": "2022-06-15T04:03:55.875Z"
   },
   {
    "duration": 148,
    "start_time": "2022-06-15T04:04:10.654Z"
   },
   {
    "duration": 84,
    "start_time": "2022-06-15T04:04:46.902Z"
   },
   {
    "duration": 15,
    "start_time": "2022-06-15T04:08:36.009Z"
   },
   {
    "duration": 1170,
    "start_time": "2022-06-15T04:08:56.339Z"
   },
   {
    "duration": 14,
    "start_time": "2022-06-15T04:08:57.511Z"
   },
   {
    "duration": 4,
    "start_time": "2022-06-15T04:08:57.527Z"
   },
   {
    "duration": 7,
    "start_time": "2022-06-15T04:08:57.532Z"
   },
   {
    "duration": 25,
    "start_time": "2022-06-15T04:08:57.541Z"
   },
   {
    "duration": 10,
    "start_time": "2022-06-15T04:08:57.568Z"
   },
   {
    "duration": 6,
    "start_time": "2022-06-15T04:08:57.579Z"
   },
   {
    "duration": 6,
    "start_time": "2022-06-15T04:08:57.587Z"
   },
   {
    "duration": 17,
    "start_time": "2022-06-15T04:08:57.594Z"
   },
   {
    "duration": 22,
    "start_time": "2022-06-15T04:08:57.614Z"
   },
   {
    "duration": 44,
    "start_time": "2022-06-15T04:08:57.637Z"
   },
   {
    "duration": 209,
    "start_time": "2022-06-15T04:08:57.683Z"
   },
   {
    "duration": 12,
    "start_time": "2022-06-15T04:08:57.894Z"
   },
   {
    "duration": 11,
    "start_time": "2022-06-15T04:08:57.908Z"
   },
   {
    "duration": 194,
    "start_time": "2022-06-15T04:08:57.920Z"
   },
   {
    "duration": 204,
    "start_time": "2022-06-15T04:08:58.116Z"
   },
   {
    "duration": 182,
    "start_time": "2022-06-15T04:08:58.322Z"
   },
   {
    "duration": 193,
    "start_time": "2022-06-15T04:08:58.506Z"
   },
   {
    "duration": 188,
    "start_time": "2022-06-15T04:08:58.701Z"
   },
   {
    "duration": 26,
    "start_time": "2022-06-15T04:08:58.892Z"
   },
   {
    "duration": 61,
    "start_time": "2022-06-15T04:08:58.920Z"
   },
   {
    "duration": 368,
    "start_time": "2022-06-15T04:08:58.983Z"
   },
   {
    "duration": 245,
    "start_time": "2022-06-15T04:08:59.353Z"
   },
   {
    "duration": 18,
    "start_time": "2022-06-15T04:08:59.599Z"
   },
   {
    "duration": 168,
    "start_time": "2022-06-15T04:08:59.618Z"
   },
   {
    "duration": 5,
    "start_time": "2022-06-15T04:08:59.789Z"
   },
   {
    "duration": 150,
    "start_time": "2022-06-15T04:08:59.795Z"
   },
   {
    "duration": 4,
    "start_time": "2022-06-15T04:08:59.948Z"
   },
   {
    "duration": 50,
    "start_time": "2022-06-15T09:39:44.190Z"
   },
   {
    "duration": 6,
    "start_time": "2022-06-15T09:40:06.555Z"
   },
   {
    "duration": 1358,
    "start_time": "2022-06-15T09:40:19.642Z"
   },
   {
    "duration": 13,
    "start_time": "2022-06-15T09:40:21.002Z"
   },
   {
    "duration": 6,
    "start_time": "2022-06-15T09:40:21.016Z"
   },
   {
    "duration": 11,
    "start_time": "2022-06-15T09:40:21.024Z"
   },
   {
    "duration": 9,
    "start_time": "2022-06-15T09:40:21.038Z"
   },
   {
    "duration": 11,
    "start_time": "2022-06-15T09:40:21.049Z"
   },
   {
    "duration": 36,
    "start_time": "2022-06-15T09:40:21.062Z"
   },
   {
    "duration": 7,
    "start_time": "2022-06-15T09:40:21.100Z"
   },
   {
    "duration": 20,
    "start_time": "2022-06-15T09:40:21.109Z"
   },
   {
    "duration": 17,
    "start_time": "2022-06-15T09:40:21.131Z"
   },
   {
    "duration": 45,
    "start_time": "2022-06-15T09:40:21.150Z"
   },
   {
    "duration": 202,
    "start_time": "2022-06-15T09:40:21.198Z"
   },
   {
    "duration": 11,
    "start_time": "2022-06-15T09:40:21.402Z"
   },
   {
    "duration": 11,
    "start_time": "2022-06-15T09:40:21.415Z"
   },
   {
    "duration": 185,
    "start_time": "2022-06-15T09:40:21.428Z"
   },
   {
    "duration": 190,
    "start_time": "2022-06-15T09:40:21.615Z"
   },
   {
    "duration": 173,
    "start_time": "2022-06-15T09:40:21.806Z"
   },
   {
    "duration": 187,
    "start_time": "2022-06-15T09:40:21.981Z"
   },
   {
    "duration": 176,
    "start_time": "2022-06-15T09:40:22.170Z"
   },
   {
    "duration": 19,
    "start_time": "2022-06-15T09:40:22.347Z"
   },
   {
    "duration": 42,
    "start_time": "2022-06-15T09:40:22.367Z"
   },
   {
    "duration": 395,
    "start_time": "2022-06-15T09:40:22.410Z"
   },
   {
    "duration": 280,
    "start_time": "2022-06-15T09:40:22.806Z"
   },
   {
    "duration": 19,
    "start_time": "2022-06-15T09:40:23.094Z"
   },
   {
    "duration": 193,
    "start_time": "2022-06-15T09:40:23.116Z"
   },
   {
    "duration": 5,
    "start_time": "2022-06-15T09:40:23.311Z"
   },
   {
    "duration": 209,
    "start_time": "2022-06-15T09:40:23.318Z"
   },
   {
    "duration": 6,
    "start_time": "2022-06-15T09:40:23.528Z"
   },
   {
    "duration": 219,
    "start_time": "2022-06-15T09:40:23.535Z"
   },
   {
    "duration": 125,
    "start_time": "2022-06-15T09:40:52.851Z"
   },
   {
    "duration": 175,
    "start_time": "2022-06-15T09:41:23.644Z"
   },
   {
    "duration": 134,
    "start_time": "2022-06-15T09:45:26.349Z"
   },
   {
    "duration": 140,
    "start_time": "2022-06-15T09:45:39.796Z"
   },
   {
    "duration": 1063,
    "start_time": "2022-06-15T09:45:48.442Z"
   },
   {
    "duration": 13,
    "start_time": "2022-06-15T09:45:49.507Z"
   },
   {
    "duration": 4,
    "start_time": "2022-06-15T09:45:49.521Z"
   },
   {
    "duration": 6,
    "start_time": "2022-06-15T09:45:49.528Z"
   },
   {
    "duration": 10,
    "start_time": "2022-06-15T09:45:49.536Z"
   },
   {
    "duration": 10,
    "start_time": "2022-06-15T09:45:49.547Z"
   },
   {
    "duration": 36,
    "start_time": "2022-06-15T09:45:49.558Z"
   },
   {
    "duration": 6,
    "start_time": "2022-06-15T09:45:49.596Z"
   },
   {
    "duration": 17,
    "start_time": "2022-06-15T09:45:49.603Z"
   },
   {
    "duration": 14,
    "start_time": "2022-06-15T09:45:49.622Z"
   },
   {
    "duration": 17,
    "start_time": "2022-06-15T09:45:49.637Z"
   },
   {
    "duration": 210,
    "start_time": "2022-06-15T09:45:49.656Z"
   },
   {
    "duration": 11,
    "start_time": "2022-06-15T09:45:49.867Z"
   },
   {
    "duration": 29,
    "start_time": "2022-06-15T09:45:49.880Z"
   },
   {
    "duration": 175,
    "start_time": "2022-06-15T09:45:49.910Z"
   },
   {
    "duration": 196,
    "start_time": "2022-06-15T09:45:50.087Z"
   },
   {
    "duration": 182,
    "start_time": "2022-06-15T09:45:50.284Z"
   },
   {
    "duration": 195,
    "start_time": "2022-06-15T09:45:50.468Z"
   },
   {
    "duration": 177,
    "start_time": "2022-06-15T09:45:50.664Z"
   },
   {
    "duration": 19,
    "start_time": "2022-06-15T09:45:50.843Z"
   },
   {
    "duration": 42,
    "start_time": "2022-06-15T09:45:50.865Z"
   },
   {
    "duration": 355,
    "start_time": "2022-06-15T09:45:50.909Z"
   },
   {
    "duration": 235,
    "start_time": "2022-06-15T09:45:51.266Z"
   },
   {
    "duration": 22,
    "start_time": "2022-06-15T09:45:51.503Z"
   },
   {
    "duration": 198,
    "start_time": "2022-06-15T09:45:51.527Z"
   },
   {
    "duration": 5,
    "start_time": "2022-06-15T09:45:51.726Z"
   },
   {
    "duration": 153,
    "start_time": "2022-06-15T09:45:51.733Z"
   },
   {
    "duration": 5,
    "start_time": "2022-06-15T09:45:51.893Z"
   },
   {
    "duration": 165,
    "start_time": "2022-06-15T09:45:51.900Z"
   },
   {
    "duration": 228,
    "start_time": "2022-06-15T09:47:14.698Z"
   },
   {
    "duration": 160,
    "start_time": "2022-06-15T09:47:23.107Z"
   },
   {
    "duration": 159,
    "start_time": "2022-06-15T09:47:53.920Z"
   },
   {
    "duration": 142,
    "start_time": "2022-06-15T09:48:20.599Z"
   },
   {
    "duration": 149,
    "start_time": "2022-06-15T09:48:36.483Z"
   },
   {
    "duration": 158,
    "start_time": "2022-06-15T09:48:48.163Z"
   },
   {
    "duration": 188,
    "start_time": "2022-06-15T09:50:07.446Z"
   },
   {
    "duration": 36,
    "start_time": "2022-06-15T09:56:21.157Z"
   },
   {
    "duration": 26,
    "start_time": "2022-06-15T09:56:35.646Z"
   },
   {
    "duration": 91,
    "start_time": "2022-06-15T09:57:07.851Z"
   },
   {
    "duration": 128,
    "start_time": "2022-06-15T10:04:32.808Z"
   },
   {
    "duration": 18,
    "start_time": "2022-06-15T10:06:08.480Z"
   },
   {
    "duration": 38,
    "start_time": "2022-06-15T10:20:41.962Z"
   },
   {
    "duration": 20,
    "start_time": "2022-06-15T10:20:46.566Z"
   },
   {
    "duration": 21,
    "start_time": "2022-06-15T10:20:59.344Z"
   },
   {
    "duration": 26,
    "start_time": "2022-06-15T10:21:17.493Z"
   },
   {
    "duration": 29,
    "start_time": "2022-06-15T10:21:27.408Z"
   },
   {
    "duration": 19,
    "start_time": "2022-06-15T10:32:02.202Z"
   },
   {
    "duration": 144,
    "start_time": "2022-06-15T10:34:56.698Z"
   },
   {
    "duration": 20,
    "start_time": "2022-06-15T10:35:44.483Z"
   },
   {
    "duration": 21,
    "start_time": "2022-06-15T10:36:17.171Z"
   },
   {
    "duration": 19,
    "start_time": "2022-06-15T10:40:55.036Z"
   },
   {
    "duration": 17,
    "start_time": "2022-06-15T10:41:22.403Z"
   },
   {
    "duration": 20,
    "start_time": "2022-06-15T10:41:47.238Z"
   },
   {
    "duration": 18,
    "start_time": "2022-06-15T11:03:05.501Z"
   },
   {
    "duration": 19,
    "start_time": "2022-06-15T11:03:22.184Z"
   },
   {
    "duration": 48,
    "start_time": "2022-06-15T11:05:37.624Z"
   },
   {
    "duration": 15,
    "start_time": "2022-06-15T11:43:36.475Z"
   },
   {
    "duration": 20,
    "start_time": "2022-06-15T11:50:48.649Z"
   },
   {
    "duration": 509,
    "start_time": "2022-06-15T11:54:49.095Z"
   },
   {
    "duration": 28,
    "start_time": "2022-06-15T11:55:30.612Z"
   },
   {
    "duration": 20,
    "start_time": "2022-06-15T11:55:43.002Z"
   },
   {
    "duration": 38,
    "start_time": "2022-06-15T11:56:35.780Z"
   },
   {
    "duration": 31,
    "start_time": "2022-06-15T11:57:01.302Z"
   },
   {
    "duration": 3,
    "start_time": "2022-06-15T11:57:09.295Z"
   },
   {
    "duration": 19,
    "start_time": "2022-06-15T11:57:13.993Z"
   },
   {
    "duration": 454,
    "start_time": "2022-06-15T12:04:43.148Z"
   },
   {
    "duration": 15,
    "start_time": "2022-06-15T12:05:00.857Z"
   },
   {
    "duration": 23,
    "start_time": "2022-06-15T12:05:07.375Z"
   },
   {
    "duration": 467,
    "start_time": "2022-06-15T12:05:36.142Z"
   },
   {
    "duration": 19,
    "start_time": "2022-06-15T12:05:52.390Z"
   },
   {
    "duration": 14,
    "start_time": "2022-06-15T12:15:10.799Z"
   },
   {
    "duration": 15,
    "start_time": "2022-06-15T12:15:33.746Z"
   },
   {
    "duration": 138,
    "start_time": "2022-06-15T12:16:35.329Z"
   },
   {
    "duration": 225,
    "start_time": "2022-06-15T12:16:56.448Z"
   },
   {
    "duration": 15,
    "start_time": "2022-06-15T12:18:07.004Z"
   },
   {
    "duration": 15,
    "start_time": "2022-06-15T12:18:35.083Z"
   },
   {
    "duration": 13,
    "start_time": "2022-06-15T12:18:49.986Z"
   },
   {
    "duration": 15,
    "start_time": "2022-06-15T12:19:04.410Z"
   },
   {
    "duration": 133,
    "start_time": "2022-06-15T12:23:36.216Z"
   },
   {
    "duration": 115,
    "start_time": "2022-06-15T12:23:50.057Z"
   },
   {
    "duration": 19,
    "start_time": "2022-06-15T12:25:46.739Z"
   },
   {
    "duration": 33,
    "start_time": "2022-06-15T12:26:08.084Z"
   },
   {
    "duration": 19,
    "start_time": "2022-06-15T12:26:15.521Z"
   },
   {
    "duration": 118,
    "start_time": "2022-06-15T12:28:54.613Z"
   },
   {
    "duration": 13,
    "start_time": "2022-06-15T12:31:20.555Z"
   },
   {
    "duration": 18,
    "start_time": "2022-06-15T12:31:29.453Z"
   },
   {
    "duration": 495,
    "start_time": "2022-06-15T12:38:06.705Z"
   },
   {
    "duration": 269,
    "start_time": "2022-06-15T12:38:26.747Z"
   },
   {
    "duration": 270,
    "start_time": "2022-06-15T12:39:04.139Z"
   },
   {
    "duration": 273,
    "start_time": "2022-06-15T12:40:04.733Z"
   },
   {
    "duration": 538,
    "start_time": "2022-06-15T12:40:50.381Z"
   },
   {
    "duration": 995,
    "start_time": "2022-06-15T13:38:45.414Z"
   },
   {
    "duration": 11,
    "start_time": "2022-06-15T13:38:46.411Z"
   },
   {
    "duration": 3,
    "start_time": "2022-06-15T13:38:46.424Z"
   },
   {
    "duration": 7,
    "start_time": "2022-06-15T13:38:46.428Z"
   },
   {
    "duration": 11,
    "start_time": "2022-06-15T13:38:46.436Z"
   },
   {
    "duration": 10,
    "start_time": "2022-06-15T13:38:46.449Z"
   },
   {
    "duration": 5,
    "start_time": "2022-06-15T13:38:46.461Z"
   },
   {
    "duration": 27,
    "start_time": "2022-06-15T13:38:46.468Z"
   },
   {
    "duration": 19,
    "start_time": "2022-06-15T13:38:46.496Z"
   },
   {
    "duration": 13,
    "start_time": "2022-06-15T13:38:46.516Z"
   },
   {
    "duration": 16,
    "start_time": "2022-06-15T13:38:46.530Z"
   },
   {
    "duration": 198,
    "start_time": "2022-06-15T13:38:46.547Z"
   },
   {
    "duration": 12,
    "start_time": "2022-06-15T13:38:46.746Z"
   },
   {
    "duration": 12,
    "start_time": "2022-06-15T13:38:46.760Z"
   },
   {
    "duration": 179,
    "start_time": "2022-06-15T13:38:46.773Z"
   },
   {
    "duration": 187,
    "start_time": "2022-06-15T13:38:46.953Z"
   },
   {
    "duration": 191,
    "start_time": "2022-06-15T13:38:47.141Z"
   },
   {
    "duration": 219,
    "start_time": "2022-06-15T13:38:47.334Z"
   },
   {
    "duration": 162,
    "start_time": "2022-06-15T13:38:47.555Z"
   },
   {
    "duration": 18,
    "start_time": "2022-06-15T13:38:47.719Z"
   },
   {
    "duration": 40,
    "start_time": "2022-06-15T13:38:47.738Z"
   },
   {
    "duration": 341,
    "start_time": "2022-06-15T13:38:47.779Z"
   },
   {
    "duration": 237,
    "start_time": "2022-06-15T13:38:48.122Z"
   },
   {
    "duration": 16,
    "start_time": "2022-06-15T13:38:48.361Z"
   },
   {
    "duration": 158,
    "start_time": "2022-06-15T13:38:48.378Z"
   },
   {
    "duration": 5,
    "start_time": "2022-06-15T13:38:48.537Z"
   },
   {
    "duration": 146,
    "start_time": "2022-06-15T13:38:48.544Z"
   },
   {
    "duration": 4,
    "start_time": "2022-06-15T13:38:48.694Z"
   },
   {
    "duration": 156,
    "start_time": "2022-06-15T13:38:48.700Z"
   },
   {
    "duration": 20,
    "start_time": "2022-06-15T13:38:48.857Z"
   },
   {
    "duration": 156,
    "start_time": "2022-06-15T13:38:48.878Z"
   },
   {
    "duration": 21,
    "start_time": "2022-06-15T13:38:49.035Z"
   },
   {
    "duration": 37,
    "start_time": "2022-06-15T13:38:49.057Z"
   },
   {
    "duration": 550,
    "start_time": "2022-06-15T13:38:49.096Z"
   },
   {
    "duration": 1330,
    "start_time": "2022-06-15T13:39:59.806Z"
   },
   {
    "duration": 12,
    "start_time": "2022-06-15T13:40:01.138Z"
   },
   {
    "duration": 20,
    "start_time": "2022-06-15T13:40:01.151Z"
   },
   {
    "duration": 13,
    "start_time": "2022-06-15T13:40:01.173Z"
   },
   {
    "duration": 21,
    "start_time": "2022-06-15T13:40:01.187Z"
   },
   {
    "duration": 20,
    "start_time": "2022-06-15T13:40:01.210Z"
   },
   {
    "duration": 20,
    "start_time": "2022-06-15T13:40:01.232Z"
   },
   {
    "duration": 16,
    "start_time": "2022-06-15T13:40:01.253Z"
   },
   {
    "duration": 18,
    "start_time": "2022-06-15T13:40:01.271Z"
   },
   {
    "duration": 12,
    "start_time": "2022-06-15T13:40:01.292Z"
   },
   {
    "duration": 82,
    "start_time": "2022-06-15T13:40:01.305Z"
   },
   {
    "duration": 187,
    "start_time": "2022-06-15T13:40:01.389Z"
   },
   {
    "duration": 20,
    "start_time": "2022-06-15T13:40:01.577Z"
   },
   {
    "duration": 12,
    "start_time": "2022-06-15T13:40:01.599Z"
   },
   {
    "duration": 191,
    "start_time": "2022-06-15T13:40:01.612Z"
   },
   {
    "duration": 206,
    "start_time": "2022-06-15T13:40:01.804Z"
   },
   {
    "duration": 196,
    "start_time": "2022-06-15T13:40:02.012Z"
   },
   {
    "duration": 184,
    "start_time": "2022-06-15T13:40:02.210Z"
   },
   {
    "duration": 176,
    "start_time": "2022-06-15T13:40:02.396Z"
   },
   {
    "duration": 26,
    "start_time": "2022-06-15T13:40:02.574Z"
   },
   {
    "duration": 30,
    "start_time": "2022-06-15T13:40:02.602Z"
   },
   {
    "duration": 354,
    "start_time": "2022-06-15T13:40:02.634Z"
   },
   {
    "duration": 232,
    "start_time": "2022-06-15T13:40:02.990Z"
   },
   {
    "duration": 15,
    "start_time": "2022-06-15T13:40:03.224Z"
   },
   {
    "duration": 157,
    "start_time": "2022-06-15T13:40:03.241Z"
   },
   {
    "duration": 5,
    "start_time": "2022-06-15T13:40:03.400Z"
   },
   {
    "duration": 148,
    "start_time": "2022-06-15T13:40:03.406Z"
   },
   {
    "duration": 4,
    "start_time": "2022-06-15T13:40:03.557Z"
   },
   {
    "duration": 164,
    "start_time": "2022-06-15T13:40:03.562Z"
   },
   {
    "duration": 19,
    "start_time": "2022-06-15T13:40:03.727Z"
   },
   {
    "duration": 168,
    "start_time": "2022-06-15T13:40:03.748Z"
   },
   {
    "duration": 20,
    "start_time": "2022-06-15T13:40:03.917Z"
   },
   {
    "duration": 17,
    "start_time": "2022-06-15T13:40:03.939Z"
   },
   {
    "duration": 571,
    "start_time": "2022-06-15T13:40:03.958Z"
   },
   {
    "duration": 10,
    "start_time": "2022-06-15T14:13:16.492Z"
   },
   {
    "duration": 10,
    "start_time": "2022-06-15T14:13:44.286Z"
   },
   {
    "duration": 10,
    "start_time": "2022-06-15T14:14:41.569Z"
   },
   {
    "duration": 10,
    "start_time": "2022-06-15T14:15:02.130Z"
   },
   {
    "duration": 104,
    "start_time": "2022-06-15T14:17:08.742Z"
   },
   {
    "duration": 107,
    "start_time": "2022-06-15T14:18:13.789Z"
   },
   {
    "duration": 99,
    "start_time": "2022-06-15T14:18:53.050Z"
   },
   {
    "duration": 100,
    "start_time": "2022-06-15T14:19:21.517Z"
   },
   {
    "duration": 107,
    "start_time": "2022-06-15T14:20:02.539Z"
   },
   {
    "duration": 126,
    "start_time": "2022-06-15T14:21:36.616Z"
   },
   {
    "duration": 204,
    "start_time": "2022-06-15T14:21:54.641Z"
   },
   {
    "duration": 130,
    "start_time": "2022-06-15T14:22:30.033Z"
   },
   {
    "duration": 143,
    "start_time": "2022-06-15T14:22:42.027Z"
   },
   {
    "duration": 1087,
    "start_time": "2022-06-15T14:22:57.034Z"
   },
   {
    "duration": 13,
    "start_time": "2022-06-15T14:22:58.122Z"
   },
   {
    "duration": 7,
    "start_time": "2022-06-15T14:22:58.136Z"
   },
   {
    "duration": 6,
    "start_time": "2022-06-15T14:22:58.145Z"
   },
   {
    "duration": 10,
    "start_time": "2022-06-15T14:22:58.152Z"
   },
   {
    "duration": 10,
    "start_time": "2022-06-15T14:22:58.164Z"
   },
   {
    "duration": 24,
    "start_time": "2022-06-15T14:22:58.176Z"
   },
   {
    "duration": 8,
    "start_time": "2022-06-15T14:22:58.201Z"
   },
   {
    "duration": 17,
    "start_time": "2022-06-15T14:22:58.210Z"
   },
   {
    "duration": 15,
    "start_time": "2022-06-15T14:22:58.230Z"
   },
   {
    "duration": 17,
    "start_time": "2022-06-15T14:22:58.246Z"
   },
   {
    "duration": 190,
    "start_time": "2022-06-15T14:22:58.295Z"
   },
   {
    "duration": 16,
    "start_time": "2022-06-15T14:22:58.487Z"
   },
   {
    "duration": 10,
    "start_time": "2022-06-15T14:22:58.505Z"
   },
   {
    "duration": 191,
    "start_time": "2022-06-15T14:22:58.517Z"
   },
   {
    "duration": 198,
    "start_time": "2022-06-15T14:22:58.710Z"
   },
   {
    "duration": 193,
    "start_time": "2022-06-15T14:22:58.909Z"
   },
   {
    "duration": 212,
    "start_time": "2022-06-15T14:22:59.103Z"
   },
   {
    "duration": 177,
    "start_time": "2022-06-15T14:22:59.317Z"
   },
   {
    "duration": 18,
    "start_time": "2022-06-15T14:22:59.496Z"
   },
   {
    "duration": 30,
    "start_time": "2022-06-15T14:22:59.515Z"
   },
   {
    "duration": 365,
    "start_time": "2022-06-15T14:22:59.547Z"
   },
   {
    "duration": 261,
    "start_time": "2022-06-15T14:22:59.914Z"
   },
   {
    "duration": 19,
    "start_time": "2022-06-15T14:23:00.177Z"
   },
   {
    "duration": 172,
    "start_time": "2022-06-15T14:23:00.198Z"
   },
   {
    "duration": 5,
    "start_time": "2022-06-15T14:23:00.372Z"
   },
   {
    "duration": 168,
    "start_time": "2022-06-15T14:23:00.378Z"
   },
   {
    "duration": 5,
    "start_time": "2022-06-15T14:23:00.549Z"
   },
   {
    "duration": 155,
    "start_time": "2022-06-15T14:23:00.556Z"
   },
   {
    "duration": 20,
    "start_time": "2022-06-15T14:23:00.712Z"
   },
   {
    "duration": 165,
    "start_time": "2022-06-15T14:23:00.733Z"
   },
   {
    "duration": 18,
    "start_time": "2022-06-15T14:23:00.900Z"
   },
   {
    "duration": 20,
    "start_time": "2022-06-15T14:23:00.920Z"
   },
   {
    "duration": 585,
    "start_time": "2022-06-15T14:23:00.941Z"
   },
   {
    "duration": 132,
    "start_time": "2022-06-15T14:23:01.527Z"
   },
   {
    "duration": 101,
    "start_time": "2022-06-15T14:23:01.660Z"
   },
   {
    "duration": 109,
    "start_time": "2022-06-15T14:23:01.762Z"
   },
   {
    "duration": 2,
    "start_time": "2022-06-15T14:25:33.805Z"
   },
   {
    "duration": 2,
    "start_time": "2022-06-15T14:25:36.535Z"
   },
   {
    "duration": 132,
    "start_time": "2022-06-15T14:25:42.423Z"
   },
   {
    "duration": 123,
    "start_time": "2022-06-15T14:25:55.488Z"
   },
   {
    "duration": 291,
    "start_time": "2022-06-15T14:27:04.473Z"
   },
   {
    "duration": 298,
    "start_time": "2022-06-15T14:27:27.720Z"
   },
   {
    "duration": 44,
    "start_time": "2022-06-16T05:00:19.011Z"
   },
   {
    "duration": 1400,
    "start_time": "2022-06-16T05:00:26.299Z"
   },
   {
    "duration": 14,
    "start_time": "2022-06-16T05:00:27.702Z"
   },
   {
    "duration": 4,
    "start_time": "2022-06-16T05:00:27.717Z"
   },
   {
    "duration": 8,
    "start_time": "2022-06-16T05:00:27.722Z"
   },
   {
    "duration": 10,
    "start_time": "2022-06-16T05:00:27.731Z"
   },
   {
    "duration": 9,
    "start_time": "2022-06-16T05:00:27.742Z"
   },
   {
    "duration": 5,
    "start_time": "2022-06-16T05:00:27.752Z"
   },
   {
    "duration": 7,
    "start_time": "2022-06-16T05:00:27.758Z"
   },
   {
    "duration": 14,
    "start_time": "2022-06-16T05:00:27.767Z"
   },
   {
    "duration": 13,
    "start_time": "2022-06-16T05:00:27.784Z"
   },
   {
    "duration": 42,
    "start_time": "2022-06-16T05:00:27.798Z"
   },
   {
    "duration": 191,
    "start_time": "2022-06-16T05:00:27.841Z"
   },
   {
    "duration": 12,
    "start_time": "2022-06-16T05:00:28.033Z"
   },
   {
    "duration": 12,
    "start_time": "2022-06-16T05:00:28.047Z"
   },
   {
    "duration": 193,
    "start_time": "2022-06-16T05:00:28.061Z"
   },
   {
    "duration": 199,
    "start_time": "2022-06-16T05:00:28.256Z"
   },
   {
    "duration": 162,
    "start_time": "2022-06-16T05:00:28.457Z"
   },
   {
    "duration": 180,
    "start_time": "2022-06-16T05:00:28.620Z"
   },
   {
    "duration": 168,
    "start_time": "2022-06-16T05:00:28.802Z"
   },
   {
    "duration": 18,
    "start_time": "2022-06-16T05:00:28.972Z"
   },
   {
    "duration": 41,
    "start_time": "2022-06-16T05:00:28.992Z"
   },
   {
    "duration": 324,
    "start_time": "2022-06-16T05:00:29.034Z"
   },
   {
    "duration": 216,
    "start_time": "2022-06-16T05:00:29.360Z"
   },
   {
    "duration": 15,
    "start_time": "2022-06-16T05:00:29.578Z"
   },
   {
    "duration": 162,
    "start_time": "2022-06-16T05:00:29.594Z"
   },
   {
    "duration": 5,
    "start_time": "2022-06-16T05:00:29.757Z"
   },
   {
    "duration": 148,
    "start_time": "2022-06-16T05:00:29.763Z"
   },
   {
    "duration": 4,
    "start_time": "2022-06-16T05:00:29.915Z"
   },
   {
    "duration": 153,
    "start_time": "2022-06-16T05:00:29.925Z"
   },
   {
    "duration": 29,
    "start_time": "2022-06-16T05:00:30.080Z"
   },
   {
    "duration": 168,
    "start_time": "2022-06-16T05:00:30.124Z"
   },
   {
    "duration": 19,
    "start_time": "2022-06-16T05:00:30.293Z"
   },
   {
    "duration": 28,
    "start_time": "2022-06-16T05:00:30.313Z"
   },
   {
    "duration": 588,
    "start_time": "2022-06-16T05:00:30.343Z"
   },
   {
    "duration": 302,
    "start_time": "2022-06-16T05:00:30.932Z"
   },
   {
    "duration": 19,
    "start_time": "2022-06-16T05:22:40.574Z"
   },
   {
    "duration": 17,
    "start_time": "2022-06-16T05:23:28.087Z"
   },
   {
    "duration": 33,
    "start_time": "2022-06-16T05:29:02.181Z"
   },
   {
    "duration": 311,
    "start_time": "2022-06-16T05:29:12.299Z"
   },
   {
    "duration": 348,
    "start_time": "2022-06-16T05:30:05.185Z"
   },
   {
    "duration": 202,
    "start_time": "2022-06-16T05:30:24.106Z"
   },
   {
    "duration": 223,
    "start_time": "2022-06-16T05:43:01.249Z"
   },
   {
    "duration": 252,
    "start_time": "2022-06-16T05:44:05.003Z"
   },
   {
    "duration": 132,
    "start_time": "2022-06-16T06:08:39.593Z"
   },
   {
    "duration": 139,
    "start_time": "2022-06-16T06:08:45.132Z"
   },
   {
    "duration": 160,
    "start_time": "2022-06-16T06:08:53.102Z"
   },
   {
    "duration": 117,
    "start_time": "2022-06-16T06:10:55.144Z"
   },
   {
    "duration": 3966,
    "start_time": "2022-06-16T06:12:03.623Z"
   },
   {
    "duration": 1116,
    "start_time": "2022-06-16T06:14:54.836Z"
   },
   {
    "duration": 13,
    "start_time": "2022-06-16T06:14:55.954Z"
   },
   {
    "duration": 4,
    "start_time": "2022-06-16T06:14:55.969Z"
   },
   {
    "duration": 7,
    "start_time": "2022-06-16T06:14:55.974Z"
   },
   {
    "duration": 11,
    "start_time": "2022-06-16T06:14:55.983Z"
   },
   {
    "duration": 41,
    "start_time": "2022-06-16T06:14:55.996Z"
   },
   {
    "duration": 8,
    "start_time": "2022-06-16T06:14:56.039Z"
   },
   {
    "duration": 8,
    "start_time": "2022-06-16T06:14:56.049Z"
   },
   {
    "duration": 23,
    "start_time": "2022-06-16T06:14:56.059Z"
   },
   {
    "duration": 19,
    "start_time": "2022-06-16T06:14:56.084Z"
   },
   {
    "duration": 19,
    "start_time": "2022-06-16T06:14:56.125Z"
   },
   {
    "duration": 208,
    "start_time": "2022-06-16T06:14:56.146Z"
   },
   {
    "duration": 11,
    "start_time": "2022-06-16T06:14:56.356Z"
   },
   {
    "duration": 11,
    "start_time": "2022-06-16T06:14:56.370Z"
   },
   {
    "duration": 238,
    "start_time": "2022-06-16T06:14:56.382Z"
   },
   {
    "duration": 273,
    "start_time": "2022-06-16T06:14:56.625Z"
   },
   {
    "duration": 180,
    "start_time": "2022-06-16T06:14:56.899Z"
   },
   {
    "duration": 168,
    "start_time": "2022-06-16T06:14:57.080Z"
   },
   {
    "duration": 168,
    "start_time": "2022-06-16T06:14:57.249Z"
   },
   {
    "duration": 21,
    "start_time": "2022-06-16T06:14:57.419Z"
   },
   {
    "duration": 29,
    "start_time": "2022-06-16T06:14:57.441Z"
   },
   {
    "duration": 331,
    "start_time": "2022-06-16T06:14:57.471Z"
   },
   {
    "duration": 223,
    "start_time": "2022-06-16T06:14:57.805Z"
   },
   {
    "duration": 16,
    "start_time": "2022-06-16T06:14:58.031Z"
   },
   {
    "duration": 152,
    "start_time": "2022-06-16T06:14:58.049Z"
   },
   {
    "duration": 6,
    "start_time": "2022-06-16T06:14:58.203Z"
   },
   {
    "duration": 149,
    "start_time": "2022-06-16T06:14:58.210Z"
   },
   {
    "duration": 4,
    "start_time": "2022-06-16T06:14:58.361Z"
   },
   {
    "duration": 151,
    "start_time": "2022-06-16T06:14:58.366Z"
   },
   {
    "duration": 23,
    "start_time": "2022-06-16T06:14:58.518Z"
   },
   {
    "duration": 147,
    "start_time": "2022-06-16T06:14:58.542Z"
   },
   {
    "duration": 17,
    "start_time": "2022-06-16T06:14:58.691Z"
   },
   {
    "duration": 30,
    "start_time": "2022-06-16T06:14:58.709Z"
   },
   {
    "duration": 627,
    "start_time": "2022-06-16T06:14:58.741Z"
   },
   {
    "duration": 344,
    "start_time": "2022-06-16T06:14:59.370Z"
   },
   {
    "duration": 297,
    "start_time": "2022-06-16T06:14:59.716Z"
   },
   {
    "duration": 113626,
    "start_time": "2022-06-16T06:15:00.026Z"
   },
   {
    "duration": 328,
    "start_time": "2022-06-16T06:16:53.655Z"
   },
   {
    "duration": 68,
    "start_time": "2022-06-16T06:21:36.048Z"
   },
   {
    "duration": 14,
    "start_time": "2022-06-16T06:21:36.118Z"
   },
   {
    "duration": 4,
    "start_time": "2022-06-16T06:21:36.133Z"
   },
   {
    "duration": 10,
    "start_time": "2022-06-16T06:21:36.138Z"
   },
   {
    "duration": 15,
    "start_time": "2022-06-16T06:21:36.150Z"
   },
   {
    "duration": 10,
    "start_time": "2022-06-16T06:21:36.166Z"
   },
   {
    "duration": 5,
    "start_time": "2022-06-16T06:21:36.178Z"
   },
   {
    "duration": 41,
    "start_time": "2022-06-16T06:21:36.185Z"
   },
   {
    "duration": 15,
    "start_time": "2022-06-16T06:21:36.228Z"
   },
   {
    "duration": 18,
    "start_time": "2022-06-16T06:21:36.244Z"
   },
   {
    "duration": 20,
    "start_time": "2022-06-16T06:21:36.264Z"
   },
   {
    "duration": 220,
    "start_time": "2022-06-16T06:21:36.286Z"
   },
   {
    "duration": 19,
    "start_time": "2022-06-16T06:21:36.509Z"
   },
   {
    "duration": 14,
    "start_time": "2022-06-16T06:21:36.532Z"
   },
   {
    "duration": 268,
    "start_time": "2022-06-16T06:21:36.548Z"
   },
   {
    "duration": 239,
    "start_time": "2022-06-16T06:21:36.818Z"
   },
   {
    "duration": 213,
    "start_time": "2022-06-16T06:21:37.059Z"
   },
   {
    "duration": 212,
    "start_time": "2022-06-16T06:21:37.274Z"
   },
   {
    "duration": 200,
    "start_time": "2022-06-16T06:21:37.488Z"
   },
   {
    "duration": 22,
    "start_time": "2022-06-16T06:21:37.690Z"
   },
   {
    "duration": 33,
    "start_time": "2022-06-16T06:21:37.725Z"
   },
   {
    "duration": 382,
    "start_time": "2022-06-16T06:21:37.760Z"
   },
   {
    "duration": 194,
    "start_time": "2022-06-16T06:21:38.144Z"
   },
   {
    "duration": 18,
    "start_time": "2022-06-16T06:21:38.339Z"
   },
   {
    "duration": 173,
    "start_time": "2022-06-16T06:21:38.359Z"
   },
   {
    "duration": 5,
    "start_time": "2022-06-16T06:21:38.534Z"
   },
   {
    "duration": 181,
    "start_time": "2022-06-16T06:21:38.540Z"
   },
   {
    "duration": 5,
    "start_time": "2022-06-16T06:21:38.725Z"
   },
   {
    "duration": 203,
    "start_time": "2022-06-16T06:21:38.731Z"
   },
   {
    "duration": 21,
    "start_time": "2022-06-16T06:21:38.936Z"
   },
   {
    "duration": 174,
    "start_time": "2022-06-16T06:21:38.958Z"
   },
   {
    "duration": 22,
    "start_time": "2022-06-16T06:21:39.133Z"
   },
   {
    "duration": 20,
    "start_time": "2022-06-16T06:21:39.156Z"
   },
   {
    "duration": 670,
    "start_time": "2022-06-16T06:21:39.177Z"
   },
   {
    "duration": 379,
    "start_time": "2022-06-16T06:21:39.849Z"
   },
   {
    "duration": 310,
    "start_time": "2022-06-16T06:21:40.230Z"
   },
   {
    "duration": 130,
    "start_time": "2022-06-16T06:22:32.086Z"
   },
   {
    "duration": 107991,
    "start_time": "2022-06-16T06:23:02.164Z"
   },
   {
    "duration": 438,
    "start_time": "2022-06-16T06:46:46.539Z"
   },
   {
    "duration": 250,
    "start_time": "2022-06-16T06:46:57.050Z"
   },
   {
    "duration": 318,
    "start_time": "2022-06-16T06:47:26.456Z"
   },
   {
    "duration": 273,
    "start_time": "2022-06-16T06:48:12.317Z"
   },
   {
    "duration": 151,
    "start_time": "2022-06-16T06:51:43.284Z"
   },
   {
    "duration": 355,
    "start_time": "2022-06-16T06:51:59.726Z"
   },
   {
    "duration": 271,
    "start_time": "2022-06-16T06:52:14.955Z"
   },
   {
    "duration": 177,
    "start_time": "2022-06-16T06:52:32.385Z"
   },
   {
    "duration": 176,
    "start_time": "2022-06-16T06:52:55.716Z"
   },
   {
    "duration": 20,
    "start_time": "2022-06-16T06:56:20.833Z"
   },
   {
    "duration": 155,
    "start_time": "2022-06-16T06:56:51.258Z"
   },
   {
    "duration": 10,
    "start_time": "2022-06-16T06:57:05.277Z"
   },
   {
    "duration": 16,
    "start_time": "2022-06-16T06:57:11.895Z"
   },
   {
    "duration": 186,
    "start_time": "2022-06-16T06:58:50.100Z"
   },
   {
    "duration": 175,
    "start_time": "2022-06-16T06:59:59.703Z"
   },
   {
    "duration": 227,
    "start_time": "2022-06-16T07:00:16.146Z"
   },
   {
    "duration": 255,
    "start_time": "2022-06-16T07:00:35.133Z"
   },
   {
    "duration": 191,
    "start_time": "2022-06-16T07:04:29.420Z"
   },
   {
    "duration": 273,
    "start_time": "2022-06-16T07:04:57.575Z"
   },
   {
    "duration": 14,
    "start_time": "2022-06-16T07:06:21.890Z"
   },
   {
    "duration": 15,
    "start_time": "2022-06-16T07:06:49.154Z"
   },
   {
    "duration": 16,
    "start_time": "2022-06-16T07:07:13.990Z"
   },
   {
    "duration": 17,
    "start_time": "2022-06-16T07:07:26.654Z"
   },
   {
    "duration": 3,
    "start_time": "2022-06-16T08:26:56.636Z"
   },
   {
    "duration": 8,
    "start_time": "2022-06-16T08:27:40.396Z"
   },
   {
    "duration": 9,
    "start_time": "2022-06-16T08:30:06.129Z"
   },
   {
    "duration": 7,
    "start_time": "2022-06-16T08:31:26.414Z"
   },
   {
    "duration": 8,
    "start_time": "2022-06-16T08:31:34.575Z"
   },
   {
    "duration": 10,
    "start_time": "2022-06-16T08:33:50.935Z"
   },
   {
    "duration": 1567,
    "start_time": "2022-06-16T08:36:30.767Z"
   },
   {
    "duration": 13,
    "start_time": "2022-06-16T08:36:32.336Z"
   },
   {
    "duration": 4,
    "start_time": "2022-06-16T08:36:32.350Z"
   },
   {
    "duration": 15,
    "start_time": "2022-06-16T08:36:32.356Z"
   },
   {
    "duration": 14,
    "start_time": "2022-06-16T08:36:32.372Z"
   },
   {
    "duration": 12,
    "start_time": "2022-06-16T08:36:32.388Z"
   },
   {
    "duration": 27,
    "start_time": "2022-06-16T08:36:32.402Z"
   },
   {
    "duration": 16,
    "start_time": "2022-06-16T08:36:32.431Z"
   },
   {
    "duration": 23,
    "start_time": "2022-06-16T08:36:32.449Z"
   },
   {
    "duration": 18,
    "start_time": "2022-06-16T08:36:32.476Z"
   },
   {
    "duration": 244,
    "start_time": "2022-06-16T08:36:32.496Z"
   },
   {
    "duration": 14,
    "start_time": "2022-06-16T08:36:32.742Z"
   },
   {
    "duration": 21,
    "start_time": "2022-06-16T08:36:32.758Z"
   },
   {
    "duration": 228,
    "start_time": "2022-06-16T08:36:32.781Z"
   },
   {
    "duration": 219,
    "start_time": "2022-06-16T08:36:33.011Z"
   },
   {
    "duration": 194,
    "start_time": "2022-06-16T08:36:33.231Z"
   },
   {
    "duration": 192,
    "start_time": "2022-06-16T08:36:33.427Z"
   },
   {
    "duration": 188,
    "start_time": "2022-06-16T08:36:33.620Z"
   },
   {
    "duration": 22,
    "start_time": "2022-06-16T08:36:33.810Z"
   },
   {
    "duration": 30,
    "start_time": "2022-06-16T08:36:33.834Z"
   },
   {
    "duration": 394,
    "start_time": "2022-06-16T08:36:33.865Z"
   },
   {
    "duration": 243,
    "start_time": "2022-06-16T08:36:34.261Z"
   },
   {
    "duration": 24,
    "start_time": "2022-06-16T08:36:34.506Z"
   },
   {
    "duration": 182,
    "start_time": "2022-06-16T08:36:34.532Z"
   },
   {
    "duration": 14,
    "start_time": "2022-06-16T08:36:34.716Z"
   },
   {
    "duration": 171,
    "start_time": "2022-06-16T08:36:34.731Z"
   },
   {
    "duration": 4,
    "start_time": "2022-06-16T08:36:34.904Z"
   },
   {
    "duration": 169,
    "start_time": "2022-06-16T08:36:34.911Z"
   },
   {
    "duration": 22,
    "start_time": "2022-06-16T08:36:35.082Z"
   },
   {
    "duration": 179,
    "start_time": "2022-06-16T08:36:35.106Z"
   },
   {
    "duration": 22,
    "start_time": "2022-06-16T08:36:35.287Z"
   },
   {
    "duration": 35,
    "start_time": "2022-06-16T08:36:35.311Z"
   },
   {
    "duration": 593,
    "start_time": "2022-06-16T08:36:35.347Z"
   },
   {
    "duration": 356,
    "start_time": "2022-06-16T08:36:35.942Z"
   },
   {
    "duration": 385,
    "start_time": "2022-06-16T08:36:36.301Z"
   },
   {
    "duration": 20,
    "start_time": "2022-06-16T08:36:36.688Z"
   },
   {
    "duration": 24,
    "start_time": "2022-06-16T08:36:36.710Z"
   },
   {
    "duration": 9,
    "start_time": "2022-06-16T08:41:13.883Z"
   },
   {
    "duration": 8,
    "start_time": "2022-06-16T08:41:49.842Z"
   },
   {
    "duration": 13,
    "start_time": "2022-06-16T08:44:44.953Z"
   },
   {
    "duration": 8,
    "start_time": "2022-06-16T08:45:07.568Z"
   },
   {
    "duration": 20,
    "start_time": "2022-06-16T08:53:37.222Z"
   },
   {
    "duration": 7,
    "start_time": "2022-06-16T08:54:26.978Z"
   },
   {
    "duration": 7,
    "start_time": "2022-06-16T09:02:04.695Z"
   },
   {
    "duration": 7,
    "start_time": "2022-06-16T09:03:10.439Z"
   },
   {
    "duration": 7,
    "start_time": "2022-06-16T09:03:32.832Z"
   },
   {
    "duration": 23,
    "start_time": "2022-06-16T09:35:23.413Z"
   },
   {
    "duration": 1150,
    "start_time": "2022-06-16T10:59:08.567Z"
   },
   {
    "duration": 16,
    "start_time": "2022-06-16T10:59:09.719Z"
   },
   {
    "duration": 21,
    "start_time": "2022-06-16T10:59:09.740Z"
   },
   {
    "duration": 9,
    "start_time": "2022-06-16T10:59:09.764Z"
   },
   {
    "duration": 12,
    "start_time": "2022-06-16T10:59:09.775Z"
   },
   {
    "duration": 13,
    "start_time": "2022-06-16T10:59:09.789Z"
   },
   {
    "duration": 8,
    "start_time": "2022-06-16T10:59:09.826Z"
   },
   {
    "duration": 25,
    "start_time": "2022-06-16T10:59:09.836Z"
   },
   {
    "duration": 17,
    "start_time": "2022-06-16T10:59:09.863Z"
   },
   {
    "duration": 43,
    "start_time": "2022-06-16T10:59:09.882Z"
   },
   {
    "duration": 229,
    "start_time": "2022-06-16T10:59:09.928Z"
   },
   {
    "duration": 13,
    "start_time": "2022-06-16T10:59:10.159Z"
   },
   {
    "duration": 14,
    "start_time": "2022-06-16T10:59:10.175Z"
   },
   {
    "duration": 225,
    "start_time": "2022-06-16T10:59:10.191Z"
   },
   {
    "duration": 206,
    "start_time": "2022-06-16T10:59:10.419Z"
   },
   {
    "duration": 207,
    "start_time": "2022-06-16T10:59:10.627Z"
   },
   {
    "duration": 184,
    "start_time": "2022-06-16T10:59:10.836Z"
   },
   {
    "duration": 172,
    "start_time": "2022-06-16T10:59:11.022Z"
   },
   {
    "duration": 31,
    "start_time": "2022-06-16T10:59:11.196Z"
   },
   {
    "duration": 56,
    "start_time": "2022-06-16T10:59:11.229Z"
   },
   {
    "duration": 356,
    "start_time": "2022-06-16T10:59:11.287Z"
   },
   {
    "duration": 247,
    "start_time": "2022-06-16T10:59:11.645Z"
   },
   {
    "duration": 17,
    "start_time": "2022-06-16T10:59:11.894Z"
   },
   {
    "duration": 216,
    "start_time": "2022-06-16T10:59:11.926Z"
   },
   {
    "duration": 5,
    "start_time": "2022-06-16T10:59:12.144Z"
   },
   {
    "duration": 224,
    "start_time": "2022-06-16T10:59:12.151Z"
   },
   {
    "duration": 5,
    "start_time": "2022-06-16T10:59:12.377Z"
   },
   {
    "duration": 167,
    "start_time": "2022-06-16T10:59:12.384Z"
   },
   {
    "duration": 20,
    "start_time": "2022-06-16T10:59:12.553Z"
   },
   {
    "duration": 172,
    "start_time": "2022-06-16T10:59:12.575Z"
   },
   {
    "duration": 21,
    "start_time": "2022-06-16T10:59:12.749Z"
   },
   {
    "duration": 29,
    "start_time": "2022-06-16T10:59:12.772Z"
   },
   {
    "duration": 639,
    "start_time": "2022-06-16T10:59:12.803Z"
   },
   {
    "duration": 343,
    "start_time": "2022-06-16T10:59:13.444Z"
   },
   {
    "duration": 292,
    "start_time": "2022-06-16T10:59:13.789Z"
   },
   {
    "duration": 13,
    "start_time": "2022-06-16T10:59:14.083Z"
   },
   {
    "duration": 31,
    "start_time": "2022-06-16T10:59:14.098Z"
   },
   {
    "duration": 14,
    "start_time": "2022-06-16T10:59:14.132Z"
   },
   {
    "duration": 7,
    "start_time": "2022-06-16T10:59:14.148Z"
   },
   {
    "duration": 44,
    "start_time": "2022-06-16T20:04:40.511Z"
   },
   {
    "duration": 1364,
    "start_time": "2022-06-16T20:20:40.639Z"
   },
   {
    "duration": 14,
    "start_time": "2022-06-16T20:20:42.005Z"
   },
   {
    "duration": 4,
    "start_time": "2022-06-16T20:20:42.021Z"
   },
   {
    "duration": 7,
    "start_time": "2022-06-16T20:20:42.027Z"
   },
   {
    "duration": 10,
    "start_time": "2022-06-16T20:20:42.038Z"
   },
   {
    "duration": 46,
    "start_time": "2022-06-16T20:20:42.050Z"
   },
   {
    "duration": 7,
    "start_time": "2022-06-16T20:20:42.097Z"
   },
   {
    "duration": 17,
    "start_time": "2022-06-16T20:20:42.106Z"
   },
   {
    "duration": 15,
    "start_time": "2022-06-16T20:20:42.124Z"
   },
   {
    "duration": 16,
    "start_time": "2022-06-16T20:20:42.140Z"
   },
   {
    "duration": 252,
    "start_time": "2022-06-16T20:20:42.157Z"
   },
   {
    "duration": 12,
    "start_time": "2022-06-16T20:20:42.411Z"
   },
   {
    "duration": 16,
    "start_time": "2022-06-16T20:20:42.425Z"
   },
   {
    "duration": 219,
    "start_time": "2022-06-16T20:20:42.445Z"
   },
   {
    "duration": 206,
    "start_time": "2022-06-16T20:20:42.666Z"
   },
   {
    "duration": 204,
    "start_time": "2022-06-16T20:20:42.874Z"
   },
   {
    "duration": 202,
    "start_time": "2022-06-16T20:20:43.079Z"
   },
   {
    "duration": 186,
    "start_time": "2022-06-16T20:20:43.282Z"
   },
   {
    "duration": 26,
    "start_time": "2022-06-16T20:20:43.469Z"
   },
   {
    "duration": 33,
    "start_time": "2022-06-16T20:20:43.496Z"
   },
   {
    "duration": 382,
    "start_time": "2022-06-16T20:20:43.531Z"
   },
   {
    "duration": 271,
    "start_time": "2022-06-16T20:20:43.914Z"
   },
   {
    "duration": 23,
    "start_time": "2022-06-16T20:20:44.187Z"
   },
   {
    "duration": 182,
    "start_time": "2022-06-16T20:20:44.212Z"
   },
   {
    "duration": 6,
    "start_time": "2022-06-16T20:20:44.396Z"
   },
   {
    "duration": 167,
    "start_time": "2022-06-16T20:20:44.404Z"
   },
   {
    "duration": 6,
    "start_time": "2022-06-16T20:20:44.572Z"
   },
   {
    "duration": 173,
    "start_time": "2022-06-16T20:20:44.580Z"
   },
   {
    "duration": 42,
    "start_time": "2022-06-16T20:20:44.756Z"
   },
   {
    "duration": 193,
    "start_time": "2022-06-16T20:20:44.801Z"
   },
   {
    "duration": 22,
    "start_time": "2022-06-16T20:20:44.996Z"
   },
   {
    "duration": 19,
    "start_time": "2022-06-16T20:20:45.019Z"
   },
   {
    "duration": 654,
    "start_time": "2022-06-16T20:20:45.040Z"
   },
   {
    "duration": 371,
    "start_time": "2022-06-16T20:20:45.695Z"
   },
   {
    "duration": 314,
    "start_time": "2022-06-16T20:20:46.067Z"
   },
   {
    "duration": 23,
    "start_time": "2022-06-16T20:20:46.383Z"
   },
   {
    "duration": 27,
    "start_time": "2022-06-16T20:20:46.408Z"
   },
   {
    "duration": 13,
    "start_time": "2022-06-16T20:20:46.437Z"
   },
   {
    "duration": 27,
    "start_time": "2022-06-16T20:20:46.451Z"
   },
   {
    "duration": 61,
    "start_time": "2022-06-17T05:10:21.549Z"
   },
   {
    "duration": 1372,
    "start_time": "2022-06-17T05:10:31.122Z"
   },
   {
    "duration": 16,
    "start_time": "2022-06-17T05:10:36.494Z"
   },
   {
    "duration": 4,
    "start_time": "2022-06-17T05:10:41.120Z"
   },
   {
    "duration": 5,
    "start_time": "2022-06-17T05:10:43.879Z"
   },
   {
    "duration": 14,
    "start_time": "2022-06-17T05:10:46.699Z"
   },
   {
    "duration": 12,
    "start_time": "2022-06-17T05:10:49.291Z"
   },
   {
    "duration": 8,
    "start_time": "2022-06-17T05:10:52.516Z"
   },
   {
    "duration": 17,
    "start_time": "2022-06-17T05:10:55.925Z"
   },
   {
    "duration": 16,
    "start_time": "2022-06-17T05:11:00.475Z"
   },
   {
    "duration": 16,
    "start_time": "2022-06-17T05:11:37.662Z"
   },
   {
    "duration": 304,
    "start_time": "2022-06-17T05:12:47.243Z"
   },
   {
    "duration": 71,
    "start_time": "2022-06-17T05:14:35.558Z"
   },
   {
    "duration": 12,
    "start_time": "2022-06-17T05:15:00.160Z"
   },
   {
    "duration": 14,
    "start_time": "2022-06-17T05:17:21.650Z"
   },
   {
    "duration": 5,
    "start_time": "2022-06-17T05:18:26.694Z"
   },
   {
    "duration": 13,
    "start_time": "2022-06-17T05:18:37.640Z"
   },
   {
    "duration": 18,
    "start_time": "2022-06-17T05:20:03.903Z"
   },
   {
    "duration": 276,
    "start_time": "2022-06-17T05:20:13.892Z"
   },
   {
    "duration": 25,
    "start_time": "2022-06-17T05:26:21.924Z"
   },
   {
    "duration": 10,
    "start_time": "2022-06-17T05:27:14.160Z"
   },
   {
    "duration": 13,
    "start_time": "2022-06-17T05:27:23.401Z"
   },
   {
    "duration": 186,
    "start_time": "2022-06-17T05:28:20.240Z"
   },
   {
    "duration": 204,
    "start_time": "2022-06-17T05:28:26.465Z"
   },
   {
    "duration": 184,
    "start_time": "2022-06-17T05:28:31.985Z"
   },
   {
    "duration": 195,
    "start_time": "2022-06-17T05:28:37.651Z"
   },
   {
    "duration": 170,
    "start_time": "2022-06-17T05:28:41.125Z"
   },
   {
    "duration": 19,
    "start_time": "2022-06-17T05:39:10.661Z"
   },
   {
    "duration": 20,
    "start_time": "2022-06-17T05:40:07.143Z"
   },
   {
    "duration": 333,
    "start_time": "2022-06-17T05:40:23.492Z"
   },
   {
    "duration": 141,
    "start_time": "2022-06-17T05:49:25.364Z"
   },
   {
    "duration": 168,
    "start_time": "2022-06-17T05:49:46.161Z"
   },
   {
    "duration": 188,
    "start_time": "2022-06-17T05:49:53.768Z"
   },
   {
    "duration": 353,
    "start_time": "2022-06-17T05:50:42.399Z"
   },
   {
    "duration": 335,
    "start_time": "2022-06-17T05:50:52.809Z"
   },
   {
    "duration": 19,
    "start_time": "2022-06-17T05:53:46.759Z"
   },
   {
    "duration": 171,
    "start_time": "2022-06-17T05:54:01.936Z"
   },
   {
    "duration": 5,
    "start_time": "2022-06-17T05:54:06.682Z"
   },
   {
    "duration": 153,
    "start_time": "2022-06-17T05:54:45.492Z"
   },
   {
    "duration": 8,
    "start_time": "2022-06-17T05:55:00.032Z"
   },
   {
    "duration": 160,
    "start_time": "2022-06-17T06:16:40.239Z"
   },
   {
    "duration": 19,
    "start_time": "2022-06-17T06:16:47.091Z"
   },
   {
    "duration": 237,
    "start_time": "2022-06-17T06:17:14.522Z"
   },
   {
    "duration": 22,
    "start_time": "2022-06-17T06:17:22.715Z"
   },
   {
    "duration": 18,
    "start_time": "2022-06-17T06:19:59.592Z"
   },
   {
    "duration": 609,
    "start_time": "2022-06-17T06:20:14.033Z"
   },
   {
    "duration": 15,
    "start_time": "2022-06-17T06:23:16.377Z"
   },
   {
    "duration": 266,
    "start_time": "2022-06-17T06:24:33.333Z"
   },
   {
    "duration": 294,
    "start_time": "2022-06-17T06:25:00.391Z"
   },
   {
    "duration": 324,
    "start_time": "2022-06-17T06:25:04.393Z"
   },
   {
    "duration": 814,
    "start_time": "2022-06-17T06:25:32.367Z"
   },
   {
    "duration": 593,
    "start_time": "2022-06-17T06:25:53.084Z"
   },
   {
    "duration": 570,
    "start_time": "2022-06-17T06:26:13.508Z"
   },
   {
    "duration": 698,
    "start_time": "2022-06-17T06:26:25.584Z"
   },
   {
    "duration": 548,
    "start_time": "2022-06-17T06:26:37.749Z"
   },
   {
    "duration": 24,
    "start_time": "2022-06-17T06:27:27.186Z"
   },
   {
    "duration": 632,
    "start_time": "2022-06-17T06:27:29.985Z"
   },
   {
    "duration": 7,
    "start_time": "2022-06-17T06:28:47.264Z"
   },
   {
    "duration": 704,
    "start_time": "2022-06-17T06:29:25.095Z"
   },
   {
    "duration": 15,
    "start_time": "2022-06-17T06:30:42.384Z"
   },
   {
    "duration": 20,
    "start_time": "2022-06-17T06:30:58.167Z"
   },
   {
    "duration": 3,
    "start_time": "2022-06-17T06:32:15.444Z"
   },
   {
    "duration": 18,
    "start_time": "2022-06-17T06:37:08.243Z"
   },
   {
    "duration": 16,
    "start_time": "2022-06-17T06:38:13.855Z"
   },
   {
    "duration": 13,
    "start_time": "2022-06-17T06:38:19.995Z"
   },
   {
    "duration": 14,
    "start_time": "2022-06-17T06:46:33.326Z"
   },
   {
    "duration": 15,
    "start_time": "2022-06-17T06:46:46.083Z"
   },
   {
    "duration": 10,
    "start_time": "2022-06-17T06:47:18.634Z"
   },
   {
    "duration": 14,
    "start_time": "2022-06-17T06:47:25.684Z"
   },
   {
    "duration": 439,
    "start_time": "2022-06-17T06:51:10.843Z"
   },
   {
    "duration": 486,
    "start_time": "2022-06-17T06:56:59.052Z"
   },
   {
    "duration": 38,
    "start_time": "2022-06-17T06:57:39.947Z"
   },
   {
    "duration": 531,
    "start_time": "2022-06-17T06:57:46.120Z"
   },
   {
    "duration": 360,
    "start_time": "2022-06-17T07:03:43.986Z"
   },
   {
    "duration": 606,
    "start_time": "2022-06-17T07:05:31.141Z"
   },
   {
    "duration": 285,
    "start_time": "2022-06-17T07:05:50.812Z"
   },
   {
    "duration": 273,
    "start_time": "2022-06-17T07:05:59.627Z"
   },
   {
    "duration": 370,
    "start_time": "2022-06-17T07:07:21.601Z"
   },
   {
    "duration": 298,
    "start_time": "2022-06-17T07:07:37.966Z"
   },
   {
    "duration": 818,
    "start_time": "2022-06-17T07:10:37.124Z"
   },
   {
    "duration": 696,
    "start_time": "2022-06-17T07:12:20.851Z"
   },
   {
    "duration": 522,
    "start_time": "2022-06-17T07:14:38.802Z"
   },
   {
    "duration": 662,
    "start_time": "2022-06-17T07:14:47.199Z"
   },
   {
    "duration": 991,
    "start_time": "2022-06-17T07:15:01.320Z"
   },
   {
    "duration": 634,
    "start_time": "2022-06-17T07:15:31.493Z"
   },
   {
    "duration": 540,
    "start_time": "2022-06-17T07:15:49.742Z"
   },
   {
    "duration": 731,
    "start_time": "2022-06-17T07:15:55.356Z"
   },
   {
    "duration": 564,
    "start_time": "2022-06-17T07:21:28.272Z"
   },
   {
    "duration": 560,
    "start_time": "2022-06-17T07:24:58.458Z"
   },
   {
    "duration": 575,
    "start_time": "2022-06-17T07:26:59.966Z"
   },
   {
    "duration": 467,
    "start_time": "2022-06-17T07:27:58.257Z"
   },
   {
    "duration": 512,
    "start_time": "2022-06-17T07:28:05.769Z"
   },
   {
    "duration": 27,
    "start_time": "2022-06-17T07:29:38.996Z"
   },
   {
    "duration": 523,
    "start_time": "2022-06-17T07:30:00.683Z"
   },
   {
    "duration": 270,
    "start_time": "2022-06-17T07:30:52.175Z"
   },
   {
    "duration": 648,
    "start_time": "2022-06-17T07:31:06.122Z"
   },
   {
    "duration": 433,
    "start_time": "2022-06-17T07:31:44.609Z"
   },
   {
    "duration": 22,
    "start_time": "2022-06-17T07:33:40.318Z"
   },
   {
    "duration": 526,
    "start_time": "2022-06-17T07:34:02.191Z"
   },
   {
    "duration": 43,
    "start_time": "2022-06-17T07:34:32.749Z"
   },
   {
    "duration": 510,
    "start_time": "2022-06-17T07:41:38.015Z"
   },
   {
    "duration": 19,
    "start_time": "2022-06-17T07:47:43.082Z"
   },
   {
    "duration": 358,
    "start_time": "2022-06-17T07:49:15.986Z"
   },
   {
    "duration": 20,
    "start_time": "2022-06-17T07:50:33.747Z"
   },
   {
    "duration": 671,
    "start_time": "2022-06-17T07:51:11.880Z"
   },
   {
    "duration": 32,
    "start_time": "2022-06-17T08:30:04.034Z"
   },
   {
    "duration": 9,
    "start_time": "2022-06-17T08:30:07.289Z"
   },
   {
    "duration": 10,
    "start_time": "2022-06-17T08:30:36.684Z"
   },
   {
    "duration": 1222,
    "start_time": "2022-06-17T08:33:12.982Z"
   },
   {
    "duration": 15,
    "start_time": "2022-06-17T08:33:14.206Z"
   },
   {
    "duration": 8,
    "start_time": "2022-06-17T08:33:14.223Z"
   },
   {
    "duration": 10,
    "start_time": "2022-06-17T08:33:14.233Z"
   },
   {
    "duration": 35,
    "start_time": "2022-06-17T08:33:14.245Z"
   },
   {
    "duration": 12,
    "start_time": "2022-06-17T08:33:14.282Z"
   },
   {
    "duration": 9,
    "start_time": "2022-06-17T08:33:14.296Z"
   },
   {
    "duration": 21,
    "start_time": "2022-06-17T08:33:14.307Z"
   },
   {
    "duration": 40,
    "start_time": "2022-06-17T08:33:14.330Z"
   },
   {
    "duration": 24,
    "start_time": "2022-06-17T08:33:14.376Z"
   },
   {
    "duration": 279,
    "start_time": "2022-06-17T08:33:14.401Z"
   },
   {
    "duration": 11,
    "start_time": "2022-06-17T08:33:14.682Z"
   },
   {
    "duration": 16,
    "start_time": "2022-06-17T08:33:14.695Z"
   },
   {
    "duration": 240,
    "start_time": "2022-06-17T08:33:14.713Z"
   },
   {
    "duration": 226,
    "start_time": "2022-06-17T08:33:14.955Z"
   },
   {
    "duration": 204,
    "start_time": "2022-06-17T08:33:15.183Z"
   },
   {
    "duration": 205,
    "start_time": "2022-06-17T08:33:15.388Z"
   },
   {
    "duration": 237,
    "start_time": "2022-06-17T08:33:15.595Z"
   },
   {
    "duration": 46,
    "start_time": "2022-06-17T08:33:15.834Z"
   },
   {
    "duration": 35,
    "start_time": "2022-06-17T08:33:15.882Z"
   },
   {
    "duration": 471,
    "start_time": "2022-06-17T08:33:15.919Z"
   },
   {
    "duration": 431,
    "start_time": "2022-06-17T08:33:16.392Z"
   },
   {
    "duration": 37,
    "start_time": "2022-06-17T08:33:16.825Z"
   },
   {
    "duration": 171,
    "start_time": "2022-06-17T08:33:16.871Z"
   },
   {
    "duration": 22,
    "start_time": "2022-06-17T08:33:17.045Z"
   },
   {
    "duration": 179,
    "start_time": "2022-06-17T08:33:17.070Z"
   },
   {
    "duration": 10,
    "start_time": "2022-06-17T08:33:17.251Z"
   },
   {
    "duration": 250,
    "start_time": "2022-06-17T08:33:17.264Z"
   },
   {
    "duration": 34,
    "start_time": "2022-06-17T08:33:17.517Z"
   },
   {
    "duration": 232,
    "start_time": "2022-06-17T08:33:17.563Z"
   },
   {
    "duration": 21,
    "start_time": "2022-06-17T08:33:17.796Z"
   },
   {
    "duration": 26,
    "start_time": "2022-06-17T08:33:17.819Z"
   },
   {
    "duration": 632,
    "start_time": "2022-06-17T08:33:17.848Z"
   },
   {
    "duration": 624,
    "start_time": "2022-06-17T08:33:18.482Z"
   },
   {
    "duration": 542,
    "start_time": "2022-06-17T08:33:19.108Z"
   },
   {
    "duration": 28,
    "start_time": "2022-06-17T08:33:19.651Z"
   },
   {
    "duration": 400,
    "start_time": "2022-06-17T08:33:19.681Z"
   },
   {
    "duration": 18,
    "start_time": "2022-06-17T08:33:20.083Z"
   },
   {
    "duration": 14,
    "start_time": "2022-06-17T08:33:20.102Z"
   },
   {
    "duration": 23,
    "start_time": "2022-06-17T08:33:20.118Z"
   },
   {
    "duration": 1285,
    "start_time": "2022-06-17T08:37:50.356Z"
   },
   {
    "duration": 22,
    "start_time": "2022-06-17T08:37:51.644Z"
   },
   {
    "duration": 12,
    "start_time": "2022-06-17T08:37:51.671Z"
   },
   {
    "duration": 9,
    "start_time": "2022-06-17T08:37:51.685Z"
   },
   {
    "duration": 13,
    "start_time": "2022-06-17T08:37:51.697Z"
   },
   {
    "duration": 15,
    "start_time": "2022-06-17T08:37:51.712Z"
   },
   {
    "duration": 7,
    "start_time": "2022-06-17T08:37:51.729Z"
   },
   {
    "duration": 40,
    "start_time": "2022-06-17T08:37:51.738Z"
   },
   {
    "duration": 25,
    "start_time": "2022-06-17T08:37:51.781Z"
   },
   {
    "duration": 22,
    "start_time": "2022-06-17T08:37:51.808Z"
   },
   {
    "duration": 321,
    "start_time": "2022-06-17T08:37:51.831Z"
   },
   {
    "duration": 22,
    "start_time": "2022-06-17T08:37:52.154Z"
   },
   {
    "duration": 22,
    "start_time": "2022-06-17T08:37:52.178Z"
   },
   {
    "duration": 213,
    "start_time": "2022-06-17T08:37:52.204Z"
   },
   {
    "duration": 216,
    "start_time": "2022-06-17T08:37:52.419Z"
   },
   {
    "duration": 249,
    "start_time": "2022-06-17T08:37:52.637Z"
   },
   {
    "duration": 223,
    "start_time": "2022-06-17T08:37:52.888Z"
   },
   {
    "duration": 193,
    "start_time": "2022-06-17T08:37:53.113Z"
   },
   {
    "duration": 26,
    "start_time": "2022-06-17T08:37:53.308Z"
   },
   {
    "duration": 52,
    "start_time": "2022-06-17T08:37:53.336Z"
   },
   {
    "duration": 296,
    "start_time": "2022-06-17T08:37:53.390Z"
   },
   {
    "duration": 464,
    "start_time": "2022-06-17T08:37:53.688Z"
   },
   {
    "duration": 29,
    "start_time": "2022-06-17T08:37:54.153Z"
   },
   {
    "duration": 170,
    "start_time": "2022-06-17T08:37:54.184Z"
   },
   {
    "duration": 15,
    "start_time": "2022-06-17T08:37:54.357Z"
   },
   {
    "duration": 166,
    "start_time": "2022-06-17T08:37:54.377Z"
   },
   {
    "duration": 4,
    "start_time": "2022-06-17T08:37:54.545Z"
   },
   {
    "duration": 176,
    "start_time": "2022-06-17T08:37:54.558Z"
   },
   {
    "duration": 41,
    "start_time": "2022-06-17T08:37:54.736Z"
   },
   {
    "duration": 167,
    "start_time": "2022-06-17T08:37:54.780Z"
   },
   {
    "duration": 28,
    "start_time": "2022-06-17T08:37:54.949Z"
   },
   {
    "duration": 54,
    "start_time": "2022-06-17T08:37:54.979Z"
   },
   {
    "duration": 647,
    "start_time": "2022-06-17T08:37:55.035Z"
   },
   {
    "duration": 642,
    "start_time": "2022-06-17T08:37:55.685Z"
   },
   {
    "duration": 624,
    "start_time": "2022-06-17T08:37:56.329Z"
   },
   {
    "duration": 24,
    "start_time": "2022-06-17T08:37:56.961Z"
   },
   {
    "duration": 418,
    "start_time": "2022-06-17T08:37:56.987Z"
   },
   {
    "duration": 22,
    "start_time": "2022-06-17T08:37:57.409Z"
   },
   {
    "duration": 27,
    "start_time": "2022-06-17T08:37:57.433Z"
   },
   {
    "duration": 43,
    "start_time": "2022-06-17T08:37:57.468Z"
   },
   {
    "duration": 38,
    "start_time": "2022-06-17T21:13:36.395Z"
   },
   {
    "duration": 1174,
    "start_time": "2022-06-17T21:13:43.316Z"
   },
   {
    "duration": 14,
    "start_time": "2022-06-17T21:13:44.491Z"
   },
   {
    "duration": 4,
    "start_time": "2022-06-17T21:13:44.507Z"
   },
   {
    "duration": 7,
    "start_time": "2022-06-17T21:13:44.514Z"
   },
   {
    "duration": 12,
    "start_time": "2022-06-17T21:13:44.522Z"
   },
   {
    "duration": 10,
    "start_time": "2022-06-17T21:13:44.552Z"
   },
   {
    "duration": 7,
    "start_time": "2022-06-17T21:13:44.563Z"
   },
   {
    "duration": 16,
    "start_time": "2022-06-17T21:13:44.571Z"
   },
   {
    "duration": 17,
    "start_time": "2022-06-17T21:13:44.588Z"
   },
   {
    "duration": 45,
    "start_time": "2022-06-17T21:13:44.607Z"
   },
   {
    "duration": 243,
    "start_time": "2022-06-17T21:13:44.654Z"
   },
   {
    "duration": 10,
    "start_time": "2022-06-17T21:13:44.898Z"
   },
   {
    "duration": 11,
    "start_time": "2022-06-17T21:13:44.910Z"
   },
   {
    "duration": 202,
    "start_time": "2022-06-17T21:13:44.922Z"
   },
   {
    "duration": 245,
    "start_time": "2022-06-17T21:13:45.125Z"
   },
   {
    "duration": 191,
    "start_time": "2022-06-17T21:13:45.372Z"
   },
   {
    "duration": 193,
    "start_time": "2022-06-17T21:13:45.564Z"
   },
   {
    "duration": 177,
    "start_time": "2022-06-17T21:13:45.759Z"
   },
   {
    "duration": 25,
    "start_time": "2022-06-17T21:13:45.937Z"
   },
   {
    "duration": 22,
    "start_time": "2022-06-17T21:13:45.964Z"
   },
   {
    "duration": 289,
    "start_time": "2022-06-17T21:13:45.988Z"
   },
   {
    "duration": 375,
    "start_time": "2022-06-17T21:13:46.279Z"
   },
   {
    "duration": 16,
    "start_time": "2022-06-17T21:13:46.656Z"
   },
   {
    "duration": 159,
    "start_time": "2022-06-17T21:13:46.674Z"
   },
   {
    "duration": 5,
    "start_time": "2022-06-17T21:13:46.835Z"
   },
   {
    "duration": 155,
    "start_time": "2022-06-17T21:13:46.842Z"
   },
   {
    "duration": 4,
    "start_time": "2022-06-17T21:13:46.999Z"
   },
   {
    "duration": 166,
    "start_time": "2022-06-17T21:13:47.006Z"
   },
   {
    "duration": 18,
    "start_time": "2022-06-17T21:13:47.174Z"
   },
   {
    "duration": 172,
    "start_time": "2022-06-17T21:13:47.194Z"
   },
   {
    "duration": 20,
    "start_time": "2022-06-17T21:13:47.367Z"
   },
   {
    "duration": 15,
    "start_time": "2022-06-17T21:13:47.388Z"
   },
   {
    "duration": 557,
    "start_time": "2022-06-17T21:13:47.405Z"
   },
   {
    "duration": 578,
    "start_time": "2022-06-17T21:13:47.964Z"
   },
   {
    "duration": 22,
    "start_time": "2022-06-17T21:13:48.543Z"
   },
   {
    "duration": 0,
    "start_time": "2022-06-17T21:13:48.568Z"
   },
   {
    "duration": 0,
    "start_time": "2022-06-17T21:13:48.569Z"
   },
   {
    "duration": 0,
    "start_time": "2022-06-17T21:13:48.570Z"
   },
   {
    "duration": 0,
    "start_time": "2022-06-17T21:13:48.571Z"
   },
   {
    "duration": 0,
    "start_time": "2022-06-17T21:13:48.572Z"
   },
   {
    "duration": 0,
    "start_time": "2022-06-17T21:13:48.573Z"
   },
   {
    "duration": 317,
    "start_time": "2022-06-17T21:14:03.223Z"
   },
   {
    "duration": 320,
    "start_time": "2022-06-17T21:14:25.065Z"
   },
   {
    "duration": 305,
    "start_time": "2022-06-17T21:14:30.217Z"
   },
   {
    "duration": 1153,
    "start_time": "2022-06-17T21:15:57.866Z"
   },
   {
    "duration": 13,
    "start_time": "2022-06-17T21:15:59.021Z"
   },
   {
    "duration": 4,
    "start_time": "2022-06-17T21:15:59.036Z"
   },
   {
    "duration": 6,
    "start_time": "2022-06-17T21:15:59.042Z"
   },
   {
    "duration": 17,
    "start_time": "2022-06-17T21:15:59.050Z"
   },
   {
    "duration": 16,
    "start_time": "2022-06-17T21:15:59.069Z"
   },
   {
    "duration": 6,
    "start_time": "2022-06-17T21:15:59.086Z"
   },
   {
    "duration": 17,
    "start_time": "2022-06-17T21:15:59.093Z"
   },
   {
    "duration": 15,
    "start_time": "2022-06-17T21:15:59.112Z"
   },
   {
    "duration": 31,
    "start_time": "2022-06-17T21:15:59.129Z"
   },
   {
    "duration": 245,
    "start_time": "2022-06-17T21:15:59.162Z"
   },
   {
    "duration": 11,
    "start_time": "2022-06-17T21:15:59.409Z"
   },
   {
    "duration": 11,
    "start_time": "2022-06-17T21:15:59.421Z"
   },
   {
    "duration": 215,
    "start_time": "2022-06-17T21:15:59.434Z"
   },
   {
    "duration": 206,
    "start_time": "2022-06-17T21:15:59.651Z"
   },
   {
    "duration": 193,
    "start_time": "2022-06-17T21:15:59.859Z"
   },
   {
    "duration": 185,
    "start_time": "2022-06-17T21:16:00.054Z"
   },
   {
    "duration": 190,
    "start_time": "2022-06-17T21:16:00.240Z"
   },
   {
    "duration": 24,
    "start_time": "2022-06-17T21:16:00.431Z"
   },
   {
    "duration": 22,
    "start_time": "2022-06-17T21:16:00.457Z"
   },
   {
    "duration": 292,
    "start_time": "2022-06-17T21:16:00.480Z"
   },
   {
    "duration": 397,
    "start_time": "2022-06-17T21:16:00.774Z"
   },
   {
    "duration": 16,
    "start_time": "2022-06-17T21:16:01.173Z"
   },
   {
    "duration": 172,
    "start_time": "2022-06-17T21:16:01.191Z"
   },
   {
    "duration": 7,
    "start_time": "2022-06-17T21:16:01.365Z"
   },
   {
    "duration": 164,
    "start_time": "2022-06-17T21:16:01.374Z"
   },
   {
    "duration": 5,
    "start_time": "2022-06-17T21:16:01.540Z"
   },
   {
    "duration": 171,
    "start_time": "2022-06-17T21:16:01.551Z"
   },
   {
    "duration": 19,
    "start_time": "2022-06-17T21:16:01.724Z"
   },
   {
    "duration": 182,
    "start_time": "2022-06-17T21:16:01.745Z"
   },
   {
    "duration": 27,
    "start_time": "2022-06-17T21:16:01.929Z"
   },
   {
    "duration": 33,
    "start_time": "2022-06-17T21:16:01.957Z"
   },
   {
    "duration": 554,
    "start_time": "2022-06-17T21:16:01.992Z"
   },
   {
    "duration": 630,
    "start_time": "2022-06-17T21:16:02.552Z"
   },
   {
    "duration": 312,
    "start_time": "2022-06-17T21:16:03.184Z"
   },
   {
    "duration": 528,
    "start_time": "2022-06-17T21:16:03.498Z"
   },
   {
    "duration": 14,
    "start_time": "2022-06-17T21:16:04.027Z"
   },
   {
    "duration": 375,
    "start_time": "2022-06-17T21:16:04.043Z"
   },
   {
    "duration": 16,
    "start_time": "2022-06-17T21:16:04.419Z"
   },
   {
    "duration": 15,
    "start_time": "2022-06-17T21:16:04.437Z"
   },
   {
    "duration": 42,
    "start_time": "2022-06-17T21:16:04.453Z"
   },
   {
    "duration": 1158,
    "start_time": "2022-06-17T21:20:04.641Z"
   },
   {
    "duration": 14,
    "start_time": "2022-06-17T21:20:05.800Z"
   },
   {
    "duration": 4,
    "start_time": "2022-06-17T21:20:05.815Z"
   },
   {
    "duration": 6,
    "start_time": "2022-06-17T21:20:05.821Z"
   },
   {
    "duration": 29,
    "start_time": "2022-06-17T21:20:05.829Z"
   },
   {
    "duration": 29,
    "start_time": "2022-06-17T21:20:05.860Z"
   },
   {
    "duration": 7,
    "start_time": "2022-06-17T21:20:05.891Z"
   },
   {
    "duration": 18,
    "start_time": "2022-06-17T21:20:05.899Z"
   },
   {
    "duration": 16,
    "start_time": "2022-06-17T21:20:05.918Z"
   },
   {
    "duration": 32,
    "start_time": "2022-06-17T21:20:05.936Z"
   },
   {
    "duration": 261,
    "start_time": "2022-06-17T21:20:05.970Z"
   },
   {
    "duration": 20,
    "start_time": "2022-06-17T21:20:06.232Z"
   },
   {
    "duration": 16,
    "start_time": "2022-06-17T21:20:06.253Z"
   },
   {
    "duration": 214,
    "start_time": "2022-06-17T21:20:06.272Z"
   },
   {
    "duration": 225,
    "start_time": "2022-06-17T21:20:06.487Z"
   },
   {
    "duration": 200,
    "start_time": "2022-06-17T21:20:06.713Z"
   },
   {
    "duration": 196,
    "start_time": "2022-06-17T21:20:06.915Z"
   },
   {
    "duration": 187,
    "start_time": "2022-06-17T21:20:07.113Z"
   },
   {
    "duration": 21,
    "start_time": "2022-06-17T21:20:07.301Z"
   },
   {
    "duration": 37,
    "start_time": "2022-06-17T21:20:07.323Z"
   },
   {
    "duration": 276,
    "start_time": "2022-06-17T21:20:07.362Z"
   },
   {
    "duration": 384,
    "start_time": "2022-06-17T21:20:07.640Z"
   },
   {
    "duration": 17,
    "start_time": "2022-06-17T21:20:08.026Z"
   },
   {
    "duration": 154,
    "start_time": "2022-06-17T21:20:08.052Z"
   },
   {
    "duration": 5,
    "start_time": "2022-06-17T21:20:08.208Z"
   },
   {
    "duration": 165,
    "start_time": "2022-06-17T21:20:08.214Z"
   },
   {
    "duration": 5,
    "start_time": "2022-06-17T21:20:08.380Z"
   },
   {
    "duration": 159,
    "start_time": "2022-06-17T21:20:08.386Z"
   },
   {
    "duration": 21,
    "start_time": "2022-06-17T21:20:08.551Z"
   },
   {
    "duration": 157,
    "start_time": "2022-06-17T21:20:08.573Z"
   },
   {
    "duration": 26,
    "start_time": "2022-06-17T21:20:08.732Z"
   },
   {
    "duration": 25,
    "start_time": "2022-06-17T21:20:08.760Z"
   },
   {
    "duration": 525,
    "start_time": "2022-06-17T21:20:08.786Z"
   },
   {
    "duration": 572,
    "start_time": "2022-06-17T21:20:09.313Z"
   },
   {
    "duration": 341,
    "start_time": "2022-06-17T21:20:09.887Z"
   },
   {
    "duration": 523,
    "start_time": "2022-06-17T21:20:10.229Z"
   },
   {
    "duration": 20,
    "start_time": "2022-06-17T21:20:10.754Z"
   },
   {
    "duration": 387,
    "start_time": "2022-06-17T21:20:10.775Z"
   },
   {
    "duration": 16,
    "start_time": "2022-06-17T21:20:11.165Z"
   },
   {
    "duration": 9,
    "start_time": "2022-06-17T21:20:11.183Z"
   },
   {
    "duration": 6,
    "start_time": "2022-06-17T21:20:11.195Z"
   }
  ],
  "kernelspec": {
   "display_name": "Python 3 (ipykernel)",
   "language": "python",
   "name": "python3"
  },
  "language_info": {
   "codemirror_mode": {
    "name": "ipython",
    "version": 3
   },
   "file_extension": ".py",
   "mimetype": "text/x-python",
   "name": "python",
   "nbconvert_exporter": "python",
   "pygments_lexer": "ipython3",
   "version": "3.9.7"
  },
  "toc": {
   "base_numbering": 1,
   "nav_menu": {},
   "number_sections": true,
   "sideBar": true,
   "skip_h1_title": true,
   "title_cell": "Table of Contents",
   "title_sidebar": "Contents",
   "toc_cell": false,
   "toc_position": {},
   "toc_section_display": true,
   "toc_window_display": true
  }
 },
 "nbformat": 4,
 "nbformat_minor": 2
}
