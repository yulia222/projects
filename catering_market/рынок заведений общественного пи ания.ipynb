{
 "cells": [
  {
   "cell_type": "markdown",
   "metadata": {},
   "source": [
    "# Рынок заведений общественного питания Москвы\n"
   ]
  },
  {
   "cell_type": "markdown",
   "metadata": {},
   "source": [
    "Вы решили открыть небольшое кафе в Москве. Оно оригинальное — гостей должны обслуживать роботы. Проект многообещающий, но дорогой. Вместе с партнёрами вы решились обратиться к инвесторам. Их интересует текущее положение дел на рынке — сможете ли вы снискать популярность на долгое время, когда все зеваки насмотрятся на роботов-официантов?\n",
    "\n",
    "Партнёры просят подготовить исследование рынка. У нас есть открытые данные о заведениях общественного питания в Москве.\n",
    "\n",
    "Описание данных\n",
    "\n",
    "Таблица rest_data:\n",
    "* id — идентификатор объекта;\n",
    "* object_name — название объекта общественного питания;\n",
    "* chain — сетевой ресторан;\n",
    "* object_type — тип объекта общественного питания;\n",
    "* address — адрес;\n",
    "* number — количество посадочных мест.\n"
   ]
  },
  {
   "cell_type": "markdown",
   "metadata": {},
   "source": [
    "## Изучение данных"
   ]
  },
  {
   "cell_type": "markdown",
   "metadata": {},
   "source": [
    "Составим первое представление о данных"
   ]
  },
  {
   "cell_type": "code",
   "execution_count": 1,
   "metadata": {},
   "outputs": [],
   "source": [
    "import pandas as pd\n",
    "import matplotlib.pyplot as plt\n",
    "import numpy as np\n",
    "import seaborn as sns"
   ]
  },
  {
   "cell_type": "code",
   "execution_count": 2,
   "metadata": {},
   "outputs": [
    {
     "data": {
      "text/html": [
       "<div>\n",
       "<style scoped>\n",
       "    .dataframe tbody tr th:only-of-type {\n",
       "        vertical-align: middle;\n",
       "    }\n",
       "\n",
       "    .dataframe tbody tr th {\n",
       "        vertical-align: top;\n",
       "    }\n",
       "\n",
       "    .dataframe thead th {\n",
       "        text-align: right;\n",
       "    }\n",
       "</style>\n",
       "<table border=\"1\" class=\"dataframe\">\n",
       "  <thead>\n",
       "    <tr style=\"text-align: right;\">\n",
       "      <th></th>\n",
       "      <th>id</th>\n",
       "      <th>object_name</th>\n",
       "      <th>chain</th>\n",
       "      <th>object_type</th>\n",
       "      <th>address</th>\n",
       "      <th>number</th>\n",
       "    </tr>\n",
       "  </thead>\n",
       "  <tbody>\n",
       "    <tr>\n",
       "      <th>0</th>\n",
       "      <td>151635</td>\n",
       "      <td>СМЕТАНА</td>\n",
       "      <td>нет</td>\n",
       "      <td>кафе</td>\n",
       "      <td>город Москва, улица Егора Абакумова, дом 9</td>\n",
       "      <td>48</td>\n",
       "    </tr>\n",
       "    <tr>\n",
       "      <th>1</th>\n",
       "      <td>77874</td>\n",
       "      <td>Родник</td>\n",
       "      <td>нет</td>\n",
       "      <td>кафе</td>\n",
       "      <td>город Москва, улица Талалихина, дом 2/1, корпус 1</td>\n",
       "      <td>35</td>\n",
       "    </tr>\n",
       "    <tr>\n",
       "      <th>2</th>\n",
       "      <td>24309</td>\n",
       "      <td>Кафе «Академия»</td>\n",
       "      <td>нет</td>\n",
       "      <td>кафе</td>\n",
       "      <td>город Москва, Абельмановская улица, дом 6</td>\n",
       "      <td>95</td>\n",
       "    </tr>\n",
       "    <tr>\n",
       "      <th>3</th>\n",
       "      <td>21894</td>\n",
       "      <td>ПИЦЦЕТОРИЯ</td>\n",
       "      <td>да</td>\n",
       "      <td>кафе</td>\n",
       "      <td>город Москва, Абрамцевская улица, дом 1</td>\n",
       "      <td>40</td>\n",
       "    </tr>\n",
       "    <tr>\n",
       "      <th>4</th>\n",
       "      <td>119365</td>\n",
       "      <td>Кафе «Вишневая метель»</td>\n",
       "      <td>нет</td>\n",
       "      <td>кафе</td>\n",
       "      <td>город Москва, Абрамцевская улица, дом 9, корпус 1</td>\n",
       "      <td>50</td>\n",
       "    </tr>\n",
       "  </tbody>\n",
       "</table>\n",
       "</div>"
      ],
      "text/plain": [
       "       id             object_name chain object_type  \\\n",
       "0  151635                 СМЕТАНА   нет        кафе   \n",
       "1   77874                  Родник   нет        кафе   \n",
       "2   24309         Кафе «Академия»   нет        кафе   \n",
       "3   21894              ПИЦЦЕТОРИЯ    да        кафе   \n",
       "4  119365  Кафе «Вишневая метель»   нет        кафе   \n",
       "\n",
       "                                             address  number  \n",
       "0         город Москва, улица Егора Абакумова, дом 9      48  \n",
       "1  город Москва, улица Талалихина, дом 2/1, корпус 1      35  \n",
       "2          город Москва, Абельмановская улица, дом 6      95  \n",
       "3            город Москва, Абрамцевская улица, дом 1      40  \n",
       "4  город Москва, Абрамцевская улица, дом 9, корпус 1      50  "
      ]
     },
     "metadata": {},
     "output_type": "display_data"
    },
    {
     "name": "stdout",
     "output_type": "stream",
     "text": [
      "<class 'pandas.core.frame.DataFrame'>\n",
      "RangeIndex: 15366 entries, 0 to 15365\n",
      "Data columns (total 6 columns):\n",
      " #   Column       Non-Null Count  Dtype \n",
      "---  ------       --------------  ----- \n",
      " 0   id           15366 non-null  int64 \n",
      " 1   object_name  15366 non-null  object\n",
      " 2   chain        15366 non-null  object\n",
      " 3   object_type  15366 non-null  object\n",
      " 4   address      15366 non-null  object\n",
      " 5   number       15366 non-null  int64 \n",
      "dtypes: int64(2), object(4)\n",
      "memory usage: 720.4+ KB\n"
     ]
    },
    {
     "data": {
      "text/plain": [
       "None"
      ]
     },
     "metadata": {},
     "output_type": "display_data"
    }
   ],
   "source": [
    "data = pd.read_csv('rest_data.csv')\n",
    "display(data.head())\n",
    "display(data.info())"
   ]
  },
  {
   "cell_type": "markdown",
   "metadata": {},
   "source": [
    "Итак, в таблице 6 столбцов, количество значений в столбцах одинаковое, значит пропусков нет. Типы данных int и object."
   ]
  },
  {
   "cell_type": "markdown",
   "metadata": {},
   "source": [
    "Посмотрим наличие явных и неявнях дубликатов"
   ]
  },
  {
   "cell_type": "code",
   "execution_count": 3,
   "metadata": {},
   "outputs": [
    {
     "name": "stdout",
     "output_type": "stream",
     "text": [
      "Количество явных дубликатов: 0\n",
      "Количество неявных дубликатов: 171\n"
     ]
    }
   ],
   "source": [
    "dupl = len(data[data[['object_name', 'address', 'object_type']].duplicated() == True][['object_name', 'address']])\n",
    "print('Количество явных дубликатов:', data.duplicated().sum())\n",
    "print('Количество неявных дубликатов:', dupl)"
   ]
  },
  {
   "cell_type": "markdown",
   "metadata": {},
   "source": [
    "Количество неявных дубликатов составляет 1% от общего числа. Принимает решение их оставить т.к на результаты они не повлияют."
   ]
  },
  {
   "cell_type": "markdown",
   "metadata": {},
   "source": [
    "## Cоотношение видов объектов общественного питания по количеству."
   ]
  },
  {
   "cell_type": "markdown",
   "metadata": {},
   "source": [
    "Исследуем соотношение видов общественного питания по их количеству. Для этого сгруппируем данные по object_type и посчитаем их количество. Для наглядности построим график."
   ]
  },
  {
   "cell_type": "code",
   "execution_count": 4,
   "metadata": {},
   "outputs": [
    {
     "data": {
      "text/html": [
       "<div>\n",
       "<style scoped>\n",
       "    .dataframe tbody tr th:only-of-type {\n",
       "        vertical-align: middle;\n",
       "    }\n",
       "\n",
       "    .dataframe tbody tr th {\n",
       "        vertical-align: top;\n",
       "    }\n",
       "\n",
       "    .dataframe thead th {\n",
       "        text-align: right;\n",
       "    }\n",
       "</style>\n",
       "<table border=\"1\" class=\"dataframe\">\n",
       "  <thead>\n",
       "    <tr style=\"text-align: right;\">\n",
       "      <th></th>\n",
       "      <th>Тип объекта</th>\n",
       "      <th>Количество</th>\n",
       "      <th>Доля от общего числа,%</th>\n",
       "    </tr>\n",
       "  </thead>\n",
       "  <tbody>\n",
       "    <tr>\n",
       "      <th>0</th>\n",
       "      <td>кафе</td>\n",
       "      <td>6099</td>\n",
       "      <td>39.7</td>\n",
       "    </tr>\n",
       "    <tr>\n",
       "      <th>1</th>\n",
       "      <td>столовая</td>\n",
       "      <td>2587</td>\n",
       "      <td>16.8</td>\n",
       "    </tr>\n",
       "    <tr>\n",
       "      <th>2</th>\n",
       "      <td>ресторан</td>\n",
       "      <td>2285</td>\n",
       "      <td>14.9</td>\n",
       "    </tr>\n",
       "    <tr>\n",
       "      <th>3</th>\n",
       "      <td>предприятие быстрого обслуживания</td>\n",
       "      <td>1923</td>\n",
       "      <td>12.5</td>\n",
       "    </tr>\n",
       "    <tr>\n",
       "      <th>4</th>\n",
       "      <td>бар</td>\n",
       "      <td>856</td>\n",
       "      <td>5.6</td>\n",
       "    </tr>\n",
       "    <tr>\n",
       "      <th>5</th>\n",
       "      <td>буфет</td>\n",
       "      <td>585</td>\n",
       "      <td>3.8</td>\n",
       "    </tr>\n",
       "    <tr>\n",
       "      <th>6</th>\n",
       "      <td>кафетерий</td>\n",
       "      <td>398</td>\n",
       "      <td>2.6</td>\n",
       "    </tr>\n",
       "    <tr>\n",
       "      <th>7</th>\n",
       "      <td>закусочная</td>\n",
       "      <td>360</td>\n",
       "      <td>2.3</td>\n",
       "    </tr>\n",
       "    <tr>\n",
       "      <th>8</th>\n",
       "      <td>магазин (отдел кулинарии)</td>\n",
       "      <td>273</td>\n",
       "      <td>1.8</td>\n",
       "    </tr>\n",
       "  </tbody>\n",
       "</table>\n",
       "</div>"
      ],
      "text/plain": [
       "                         Тип объекта  Количество  Доля от общего числа,%\n",
       "0                               кафе        6099                    39.7\n",
       "1                           столовая        2587                    16.8\n",
       "2                           ресторан        2285                    14.9\n",
       "3  предприятие быстрого обслуживания        1923                    12.5\n",
       "4                                бар         856                     5.6\n",
       "5                              буфет         585                     3.8\n",
       "6                          кафетерий         398                     2.6\n",
       "7                         закусочная         360                     2.3\n",
       "8          магазин (отдел кулинарии)         273                     1.8"
      ]
     },
     "metadata": {},
     "output_type": "display_data"
    },
    {
     "data": {
      "image/png": "[encoded data removed]",
      "text/plain": [
       "<Figure size 1152x576 with 1 Axes>"
      ]
     },
     "metadata": {
      "needs_background": "light"
     },
     "output_type": "display_data"
    }
   ],
   "source": [
    "data_type = data.groupby(by='object_type').agg({'id':'count'}).sort_values(by='id', ascending=False).reset_index()\n",
    "\n",
    "data_type.columns = ['Тип объекта','Количество']\n",
    "data_type['Доля от общего числа,%'] = (data_type['Количество'] /data_type['Количество'].sum() * 100).round(1)\n",
    "display(data_type.sort_values(by='Количество',ascending=False))\n",
    "\n",
    "plt.figure(figsize=(16, 8))\n",
    "sns.barplot(data=data_type,x='Количество', y='Тип объекта')\n",
    "sns.set_style(\"darkgrid\")\n",
    "\n",
    "plt.title('Cоотношение видов объектов общественного питания по количеству');"
   ]
  },
  {
   "cell_type": "markdown",
   "metadata": {},
   "source": [
    "Судя по графику наибольшую долю рынка общественного питания в Москве занимают:\n",
    "* кафе(39,7%);\n",
    "* столовые(16,8%);\n",
    "* рестораны(14,9%);\n",
    "* предприятия быстрого обслуживания(12,5%). \n",
    "\n",
    "Остальные виды объектов общественного питания в сумме занимают 16,1%."
   ]
  },
  {
   "cell_type": "markdown",
   "metadata": {},
   "source": [
    "## Соотношение сетевых и несетевых заведений по количеству"
   ]
  },
  {
   "cell_type": "markdown",
   "metadata": {},
   "source": [
    "Исследуем соотношение сетевых и несетевых заведений по их количеству. сгрупируем данные по chain и посчитаем их количество. Для наглядности построим график."
   ]
  },
  {
   "cell_type": "code",
   "execution_count": 5,
   "metadata": {},
   "outputs": [
    {
     "data": {
      "text/html": [
       "<div>\n",
       "<style scoped>\n",
       "    .dataframe tbody tr th:only-of-type {\n",
       "        vertical-align: middle;\n",
       "    }\n",
       "\n",
       "    .dataframe tbody tr th {\n",
       "        vertical-align: top;\n",
       "    }\n",
       "\n",
       "    .dataframe thead th {\n",
       "        text-align: right;\n",
       "    }\n",
       "</style>\n",
       "<table border=\"1\" class=\"dataframe\">\n",
       "  <thead>\n",
       "    <tr style=\"text-align: right;\">\n",
       "      <th></th>\n",
       "      <th>Сетевой ресторан</th>\n",
       "      <th>Количество</th>\n",
       "      <th>Доля от общего числа,%</th>\n",
       "    </tr>\n",
       "  </thead>\n",
       "  <tbody>\n",
       "    <tr>\n",
       "      <th>0</th>\n",
       "      <td>нет</td>\n",
       "      <td>12398</td>\n",
       "      <td>80.7</td>\n",
       "    </tr>\n",
       "    <tr>\n",
       "      <th>1</th>\n",
       "      <td>да</td>\n",
       "      <td>2968</td>\n",
       "      <td>19.3</td>\n",
       "    </tr>\n",
       "  </tbody>\n",
       "</table>\n",
       "</div>"
      ],
      "text/plain": [
       "  Сетевой ресторан  Количество  Доля от общего числа,%\n",
       "0              нет       12398                    80.7\n",
       "1               да        2968                    19.3"
      ]
     },
     "metadata": {},
     "output_type": "display_data"
    },
    {
     "data": {
      "image/png": "[encoded data removed]",
      "text/plain": [
       "<Figure size 1152x288 with 1 Axes>"
      ]
     },
     "metadata": {},
     "output_type": "display_data"
    }
   ],
   "source": [
    "data_chain = data.groupby(by='chain').agg({'id':'count'}).sort_values(by='id', ascending=False).reset_index()\n",
    "\n",
    "data_chain.columns = ['Сетевой ресторан','Количество']\n",
    "data_chain['Доля от общего числа,%'] = (data_chain['Количество'] /data_chain['Количество'].sum() * 100).round(1)\n",
    "display(data_chain)\n",
    "\n",
    "plt.figure(figsize=(16, 4))\n",
    "sns.barplot(data=data_chain,x='Количество', y='Сетевой ресторан')\n",
    "sns.set_style(\"darkgrid\")\n",
    "\n",
    "plt.title('Соотношение сетевых и несетевых заведений по количеству');"
   ]
  },
  {
   "cell_type": "markdown",
   "metadata": {},
   "source": [
    "Количество несетевых объектов общественного питания составляет 80,7% от общей массы. В 4 раза выше, чем сетевых(19,3%)"
   ]
  },
  {
   "cell_type": "markdown",
   "metadata": {},
   "source": [
    "## Для какого вида объекта общественного питания характерно сетевое распространение"
   ]
  },
  {
   "cell_type": "markdown",
   "metadata": {},
   "source": [
    "Создадим сводную таблицу и посмотрим процент сетевых заведений в каждом типе. Для наглядности построим график."
   ]
  },
  {
   "cell_type": "code",
   "execution_count": 6,
   "metadata": {},
   "outputs": [
    {
     "data": {
      "text/html": [
       "<div>\n",
       "<style scoped>\n",
       "    .dataframe tbody tr th:only-of-type {\n",
       "        vertical-align: middle;\n",
       "    }\n",
       "\n",
       "    .dataframe tbody tr th {\n",
       "        vertical-align: top;\n",
       "    }\n",
       "\n",
       "    .dataframe thead th {\n",
       "        text-align: right;\n",
       "    }\n",
       "</style>\n",
       "<table border=\"1\" class=\"dataframe\">\n",
       "  <thead>\n",
       "    <tr style=\"text-align: right;\">\n",
       "      <th></th>\n",
       "      <th>Вид объекта</th>\n",
       "      <th>Сетевой</th>\n",
       "      <th>Несетевой</th>\n",
       "      <th>Доля сетевых объектов</th>\n",
       "    </tr>\n",
       "  </thead>\n",
       "  <tbody>\n",
       "    <tr>\n",
       "      <th>6</th>\n",
       "      <td>предприятие быстрого обслуживания</td>\n",
       "      <td>791</td>\n",
       "      <td>1132</td>\n",
       "      <td>41.1</td>\n",
       "    </tr>\n",
       "    <tr>\n",
       "      <th>5</th>\n",
       "      <td>магазин (отдел кулинарии)</td>\n",
       "      <td>78</td>\n",
       "      <td>195</td>\n",
       "      <td>28.6</td>\n",
       "    </tr>\n",
       "    <tr>\n",
       "      <th>7</th>\n",
       "      <td>ресторан</td>\n",
       "      <td>544</td>\n",
       "      <td>1741</td>\n",
       "      <td>23.8</td>\n",
       "    </tr>\n",
       "    <tr>\n",
       "      <th>3</th>\n",
       "      <td>кафе</td>\n",
       "      <td>1396</td>\n",
       "      <td>4703</td>\n",
       "      <td>22.9</td>\n",
       "    </tr>\n",
       "    <tr>\n",
       "      <th>2</th>\n",
       "      <td>закусочная</td>\n",
       "      <td>56</td>\n",
       "      <td>304</td>\n",
       "      <td>15.6</td>\n",
       "    </tr>\n",
       "    <tr>\n",
       "      <th>4</th>\n",
       "      <td>кафетерий</td>\n",
       "      <td>52</td>\n",
       "      <td>346</td>\n",
       "      <td>13.1</td>\n",
       "    </tr>\n",
       "    <tr>\n",
       "      <th>0</th>\n",
       "      <td>бар</td>\n",
       "      <td>37</td>\n",
       "      <td>819</td>\n",
       "      <td>4.3</td>\n",
       "    </tr>\n",
       "    <tr>\n",
       "      <th>1</th>\n",
       "      <td>буфет</td>\n",
       "      <td>11</td>\n",
       "      <td>574</td>\n",
       "      <td>1.9</td>\n",
       "    </tr>\n",
       "    <tr>\n",
       "      <th>8</th>\n",
       "      <td>столовая</td>\n",
       "      <td>3</td>\n",
       "      <td>2584</td>\n",
       "      <td>0.1</td>\n",
       "    </tr>\n",
       "  </tbody>\n",
       "</table>\n",
       "</div>"
      ],
      "text/plain": [
       "                         Вид объекта  Сетевой  Несетевой  \\\n",
       "6  предприятие быстрого обслуживания      791       1132   \n",
       "5          магазин (отдел кулинарии)       78        195   \n",
       "7                           ресторан      544       1741   \n",
       "3                               кафе     1396       4703   \n",
       "2                         закусочная       56        304   \n",
       "4                          кафетерий       52        346   \n",
       "0                                бар       37        819   \n",
       "1                              буфет       11        574   \n",
       "8                           столовая        3       2584   \n",
       "\n",
       "   Доля сетевых объектов  \n",
       "6                   41.1  \n",
       "5                   28.6  \n",
       "7                   23.8  \n",
       "3                   22.9  \n",
       "2                   15.6  \n",
       "4                   13.1  \n",
       "0                    4.3  \n",
       "1                    1.9  \n",
       "8                    0.1  "
      ]
     },
     "metadata": {},
     "output_type": "display_data"
    }
   ],
   "source": [
    "chain_true = data.pivot_table(index='object_type', values='id', columns='chain', aggfunc='count').reset_index()\n",
    "chain_true['Доля сетевых объектов %'] = ((chain_true['да'] / (chain_true['да'] + chain_true['нет'])) * 100).round(1)\n",
    "chain_true = chain_true.sort_values('Доля сетевых объектов %', ascending = False)\n",
    "chain_true.columns = ['Вид объекта', 'Сетевой', 'Несетевой', 'Доля сетевых объектов']\n",
    "display(chain_true)"
   ]
  },
  {
   "cell_type": "code",
   "execution_count": 7,
   "metadata": {
    "scrolled": false
   },
   "outputs": [
    {
     "data": {
      "image/png": "[encoded data removed]",
      "text/plain": [
       "<Figure size 2250x900 with 1 Axes>"
      ]
     },
     "metadata": {},
     "output_type": "display_data"
    }
   ],
   "source": [
    "plt.figure(figsize=(15,6), dpi=150)\n",
    "\n",
    "data.groupby('object_type')['chain'].value_counts(normalize=True) \\\n",
    "    .rename('percent') \\\n",
    "    .reset_index() \\\n",
    "    .pipe((sns.barplot, 'data'), x='object_type', y='percent', hue='chain', palette=sns.color_palette('Paired'))\n",
    "\n",
    "old_ticks, old_labels = plt.xticks()\n",
    "plt.xticks(old_ticks, ['\\n'.join(label.get_text().split()) for label in old_labels]);"
   ]
  },
  {
   "cell_type": "markdown",
   "metadata": {},
   "source": [
    "Сетевое распространение характерно для:\n",
    "* предприятий быстрого обслуживания(41,1%);\n",
    "* магазин (отдел кулинарии)(28,6%);\n",
    "* рестораны(23,8%)."
   ]
  },
  {
   "cell_type": "markdown",
   "metadata": {},
   "source": [
    "## Что характерно для сетевых заведений"
   ]
  },
  {
   "cell_type": "markdown",
   "metadata": {},
   "source": [
    "Посмотрим что характерно для сетевых заведений: много заведений с небольшим числом посадочных мест в каждом или мало заведений с большим количеством посадочных мест?"
   ]
  },
  {
   "cell_type": "code",
   "execution_count": 8,
   "metadata": {
    "scrolled": false
   },
   "outputs": [
    {
     "data": {
      "text/html": [
       "<div>\n",
       "<style scoped>\n",
       "    .dataframe tbody tr th:only-of-type {\n",
       "        vertical-align: middle;\n",
       "    }\n",
       "\n",
       "    .dataframe tbody tr th {\n",
       "        vertical-align: top;\n",
       "    }\n",
       "\n",
       "    .dataframe thead th {\n",
       "        text-align: right;\n",
       "    }\n",
       "</style>\n",
       "<table border=\"1\" class=\"dataframe\">\n",
       "  <thead>\n",
       "    <tr style=\"text-align: right;\">\n",
       "      <th></th>\n",
       "      <th>object_name</th>\n",
       "      <th>id</th>\n",
       "      <th>number</th>\n",
       "    </tr>\n",
       "  </thead>\n",
       "  <tbody>\n",
       "    <tr>\n",
       "      <th>3</th>\n",
       "      <td>Bocconcino</td>\n",
       "      <td>3</td>\n",
       "      <td>66.7</td>\n",
       "    </tr>\n",
       "    <tr>\n",
       "      <th>6</th>\n",
       "      <td>Burger Club</td>\n",
       "      <td>3</td>\n",
       "      <td>20.3</td>\n",
       "    </tr>\n",
       "    <tr>\n",
       "      <th>7</th>\n",
       "      <td>COFIX</td>\n",
       "      <td>3</td>\n",
       "      <td>10.7</td>\n",
       "    </tr>\n",
       "    <tr>\n",
       "      <th>10</th>\n",
       "      <td>Coffeeshop Company</td>\n",
       "      <td>4</td>\n",
       "      <td>47.2</td>\n",
       "    </tr>\n",
       "    <tr>\n",
       "      <th>11</th>\n",
       "      <td>Cofix</td>\n",
       "      <td>22</td>\n",
       "      <td>9.5</td>\n",
       "    </tr>\n",
       "    <tr>\n",
       "      <th>...</th>\n",
       "      <td>...</td>\n",
       "      <td>...</td>\n",
       "      <td>...</td>\n",
       "    </tr>\n",
       "    <tr>\n",
       "      <th>702</th>\n",
       "      <td>Шоколадница</td>\n",
       "      <td>141</td>\n",
       "      <td>56.2</td>\n",
       "    </tr>\n",
       "    <tr>\n",
       "      <th>706</th>\n",
       "      <td>Штолле</td>\n",
       "      <td>12</td>\n",
       "      <td>31.4</td>\n",
       "    </tr>\n",
       "    <tr>\n",
       "      <th>708</th>\n",
       "      <td>ЯКИТОРИЯ</td>\n",
       "      <td>5</td>\n",
       "      <td>185.6</td>\n",
       "    </tr>\n",
       "    <tr>\n",
       "      <th>712</th>\n",
       "      <td>Якитория</td>\n",
       "      <td>33</td>\n",
       "      <td>106.8</td>\n",
       "    </tr>\n",
       "    <tr>\n",
       "      <th>720</th>\n",
       "      <td>кафе «Старбакс»</td>\n",
       "      <td>2</td>\n",
       "      <td>63.5</td>\n",
       "    </tr>\n",
       "  </tbody>\n",
       "</table>\n",
       "<p>274 rows × 3 columns</p>\n",
       "</div>"
      ],
      "text/plain": [
       "            object_name   id  number\n",
       "3            Bocconcino    3    66.7\n",
       "6           Burger Club    3    20.3\n",
       "7                 COFIX    3    10.7\n",
       "10   Coffeeshop Company    4    47.2\n",
       "11                Cofix   22     9.5\n",
       "..                  ...  ...     ...\n",
       "702         Шоколадница  141    56.2\n",
       "706              Штолле   12    31.4\n",
       "708            ЯКИТОРИЯ    5   185.6\n",
       "712            Якитория   33   106.8\n",
       "720     кафе «Старбакс»    2    63.5\n",
       "\n",
       "[274 rows x 3 columns]"
      ]
     },
     "execution_count": 8,
     "metadata": {},
     "output_type": "execute_result"
    }
   ],
   "source": [
    "chain_number = data.query('chain==\"да\"').groupby('object_name').agg({'id':'count','number':'mean'}).reset_index().round(1)\n",
    "chain_number = chain_number.query('id !=1')\n",
    "chain_number"
   ]
  },
  {
   "cell_type": "markdown",
   "metadata": {},
   "source": [
    "Определим какое число заведений в сети можно считать большим, а какое небольшим и то же самое сделать для числа посадочных мест, ориентируясь по квантилям."
   ]
  },
  {
   "cell_type": "code",
   "execution_count": 9,
   "metadata": {
    "scrolled": true
   },
   "outputs": [
    {
     "data": {
      "text/html": [
       "<div>\n",
       "<style scoped>\n",
       "    .dataframe tbody tr th:only-of-type {\n",
       "        vertical-align: middle;\n",
       "    }\n",
       "\n",
       "    .dataframe tbody tr th {\n",
       "        vertical-align: top;\n",
       "    }\n",
       "\n",
       "    .dataframe thead tr th {\n",
       "        text-align: left;\n",
       "    }\n",
       "\n",
       "    .dataframe thead tr:last-of-type th {\n",
       "        text-align: right;\n",
       "    }\n",
       "</style>\n",
       "<table border=\"1\" class=\"dataframe\">\n",
       "  <thead>\n",
       "    <tr>\n",
       "      <th></th>\n",
       "      <th colspan=\"3\" halign=\"left\">0</th>\n",
       "    </tr>\n",
       "    <tr>\n",
       "      <th>id</th>\n",
       "      <th>мало заведений</th>\n",
       "      <th>средне заведений</th>\n",
       "      <th>много заведений</th>\n",
       "    </tr>\n",
       "    <tr>\n",
       "      <th>number</th>\n",
       "      <th></th>\n",
       "      <th></th>\n",
       "      <th></th>\n",
       "    </tr>\n",
       "  </thead>\n",
       "  <tbody>\n",
       "    <tr>\n",
       "      <th>мало мест</th>\n",
       "      <td>37</td>\n",
       "      <td>27</td>\n",
       "      <td>27</td>\n",
       "    </tr>\n",
       "    <tr>\n",
       "      <th>средне мест</th>\n",
       "      <td>28</td>\n",
       "      <td>29</td>\n",
       "      <td>33</td>\n",
       "    </tr>\n",
       "    <tr>\n",
       "      <th>много мест</th>\n",
       "      <td>34</td>\n",
       "      <td>33</td>\n",
       "      <td>26</td>\n",
       "    </tr>\n",
       "  </tbody>\n",
       "</table>\n",
       "</div>"
      ],
      "text/plain": [
       "                         0                                 \n",
       "id          мало заведений средне заведений много заведений\n",
       "number                                                     \n",
       "мало мест               37               27              27\n",
       "средне мест             28               29              33\n",
       "много мест              34               33              26"
      ]
     },
     "execution_count": 9,
     "metadata": {},
     "output_type": "execute_result"
    }
   ],
   "source": [
    "var_c_33 = chain_number['id'].quantile(0.33)\n",
    "var_c_66 = chain_number['id'].quantile(0.66)\n",
    "var_s_33 = chain_number['number'].quantile(0.33)\n",
    "var_s_66 = chain_number['number'].quantile(0.66)\n",
    "\n",
    "pd.concat([pd.cut(chain_number['id'], bins=[1,var_c_33,var_c_66,np.inf], labels=['мало заведений', 'средне заведений', 'много заведений']),\n",
    "        pd.cut(chain_number['number'], bins=[0,var_s_33,var_s_66,np.inf], labels=['мало мест', 'средне мест', 'много мест'], include_lowest=True)], axis=1).value_counts().to_frame().unstack('id')"
   ]
  },
  {
   "cell_type": "code",
   "execution_count": 11,
   "metadata": {},
   "outputs": [
    {
     "data": {
      "image/png": "[encoded data removed]",
      "text/plain": [
       "<Figure size 720x648 with 1 Axes>"
      ]
     },
     "metadata": {},
     "output_type": "display_data"
    }
   ],
   "source": [
    "plt.figure(figsize=(10, 9))\n",
    "sns.scatterplot(data=chain_number, x=\"number\", y=\"id\")\n",
    "plt.title('Зависимость сетевых заведений от числа посадочных мест');"
   ]
  },
  {
   "cell_type": "markdown",
   "metadata": {},
   "source": [
    "По графику видно, что у большей части сетевых заведений характерно мало заведений с небольшим числом посадочных мест."
   ]
  },
  {
   "cell_type": "markdown",
   "metadata": {},
   "source": [
    "## Среднее количество посадочных мест для каждого вида объекта общественного питания"
   ]
  },
  {
   "cell_type": "code",
   "execution_count": 12,
   "metadata": {},
   "outputs": [
    {
     "data": {
      "text/html": [
       "<div>\n",
       "<style scoped>\n",
       "    .dataframe tbody tr th:only-of-type {\n",
       "        vertical-align: middle;\n",
       "    }\n",
       "\n",
       "    .dataframe tbody tr th {\n",
       "        vertical-align: top;\n",
       "    }\n",
       "\n",
       "    .dataframe thead th {\n",
       "        text-align: right;\n",
       "    }\n",
       "</style>\n",
       "<table border=\"1\" class=\"dataframe\">\n",
       "  <thead>\n",
       "    <tr style=\"text-align: right;\">\n",
       "      <th></th>\n",
       "      <th>Тип объекта</th>\n",
       "      <th>Среднее число посадочных мест</th>\n",
       "    </tr>\n",
       "  </thead>\n",
       "  <tbody>\n",
       "    <tr>\n",
       "      <th>5</th>\n",
       "      <td>магазин (отдел кулинарии)</td>\n",
       "      <td>5.6</td>\n",
       "    </tr>\n",
       "    <tr>\n",
       "      <th>2</th>\n",
       "      <td>закусочная</td>\n",
       "      <td>7.6</td>\n",
       "    </tr>\n",
       "    <tr>\n",
       "      <th>4</th>\n",
       "      <td>кафетерий</td>\n",
       "      <td>9.1</td>\n",
       "    </tr>\n",
       "    <tr>\n",
       "      <th>6</th>\n",
       "      <td>предприятие быстрого обслуживания</td>\n",
       "      <td>20.6</td>\n",
       "    </tr>\n",
       "    <tr>\n",
       "      <th>3</th>\n",
       "      <td>кафе</td>\n",
       "      <td>39.7</td>\n",
       "    </tr>\n",
       "    <tr>\n",
       "      <th>0</th>\n",
       "      <td>бар</td>\n",
       "      <td>43.5</td>\n",
       "    </tr>\n",
       "    <tr>\n",
       "      <th>1</th>\n",
       "      <td>буфет</td>\n",
       "      <td>51.1</td>\n",
       "    </tr>\n",
       "    <tr>\n",
       "      <th>7</th>\n",
       "      <td>ресторан</td>\n",
       "      <td>96.8</td>\n",
       "    </tr>\n",
       "    <tr>\n",
       "      <th>8</th>\n",
       "      <td>столовая</td>\n",
       "      <td>130.2</td>\n",
       "    </tr>\n",
       "  </tbody>\n",
       "</table>\n",
       "</div>"
      ],
      "text/plain": [
       "                         Тип объекта  Среднее число посадочных мест\n",
       "5          магазин (отдел кулинарии)                            5.6\n",
       "2                         закусочная                            7.6\n",
       "4                          кафетерий                            9.1\n",
       "6  предприятие быстрого обслуживания                           20.6\n",
       "3                               кафе                           39.7\n",
       "0                                бар                           43.5\n",
       "1                              буфет                           51.1\n",
       "7                           ресторан                           96.8\n",
       "8                           столовая                          130.2"
      ]
     },
     "metadata": {},
     "output_type": "display_data"
    },
    {
     "data": {
      "image/png": "[encoded data removed]",
      "text/plain": [
       "<Figure size 1152x504 with 1 Axes>"
      ]
     },
     "metadata": {},
     "output_type": "display_data"
    }
   ],
   "source": [
    "type_number = data.groupby('object_type').agg({'number':'mean'}).reset_index().round(1)\n",
    "type_number.columns = ['Тип объекта','Среднее число посадочных мест']\n",
    "type_number = type_number.sort_values(by='Среднее число посадочных мест')\n",
    "display(type_number)\n",
    "\n",
    "plt.figure(figsize=(16, 7))\n",
    "sns.barplot(data=type_number,x='Среднее число посадочных мест', y='Тип объекта')\n",
    "sns.set_style(\"darkgrid\")\n",
    "\n",
    "plt.title('Среднее число посадочных мест для каждого типа объекта');"
   ]
  },
  {
   "cell_type": "markdown",
   "metadata": {},
   "source": [
    "* В среднем наибольшее количество посадочных мест характерно для столовых(130) и ресторанов(96) \n",
    "* Меньше всего посадочных мест в магазинах (отделах кулинарии), закусочных и кафетериях (менее 10 посадочных.)"
   ]
  },
  {
   "cell_type": "markdown",
   "metadata": {},
   "source": [
    "## Создание отдельного столбца с информацией об улице из столбца address "
   ]
  },
  {
   "cell_type": "markdown",
   "metadata": {},
   "source": [
    "Выделим столбец с улицей"
   ]
  },
  {
   "cell_type": "code",
   "execution_count": 13,
   "metadata": {},
   "outputs": [
    {
     "data": {
      "text/html": [
       "<div>\n",
       "<style scoped>\n",
       "    .dataframe tbody tr th:only-of-type {\n",
       "        vertical-align: middle;\n",
       "    }\n",
       "\n",
       "    .dataframe tbody tr th {\n",
       "        vertical-align: top;\n",
       "    }\n",
       "\n",
       "    .dataframe thead th {\n",
       "        text-align: right;\n",
       "    }\n",
       "</style>\n",
       "<table border=\"1\" class=\"dataframe\">\n",
       "  <thead>\n",
       "    <tr style=\"text-align: right;\">\n",
       "      <th></th>\n",
       "      <th>id</th>\n",
       "      <th>object_name</th>\n",
       "      <th>chain</th>\n",
       "      <th>object_type</th>\n",
       "      <th>address</th>\n",
       "      <th>number</th>\n",
       "      <th>street</th>\n",
       "    </tr>\n",
       "  </thead>\n",
       "  <tbody>\n",
       "    <tr>\n",
       "      <th>11314</th>\n",
       "      <td>175569</td>\n",
       "      <td>KFC</td>\n",
       "      <td>да</td>\n",
       "      <td>кафе</td>\n",
       "      <td>город Москва, Севастопольский проспект, дом 11Е</td>\n",
       "      <td>20</td>\n",
       "      <td>Севастопольский проспект</td>\n",
       "    </tr>\n",
       "    <tr>\n",
       "      <th>10127</th>\n",
       "      <td>172551</td>\n",
       "      <td>Ресторан Le restaurant</td>\n",
       "      <td>нет</td>\n",
       "      <td>ресторан</td>\n",
       "      <td>город Москва, 2-я Звенигородская улица, дом 13...</td>\n",
       "      <td>86</td>\n",
       "      <td>2-я Звенигородская улица</td>\n",
       "    </tr>\n",
       "    <tr>\n",
       "      <th>15119</th>\n",
       "      <td>219044</td>\n",
       "      <td>Крошка Картошка</td>\n",
       "      <td>да</td>\n",
       "      <td>кафе</td>\n",
       "      <td>город Москва, улица Вавилова, дом 3</td>\n",
       "      <td>0</td>\n",
       "      <td>улица Вавилова</td>\n",
       "    </tr>\n",
       "    <tr>\n",
       "      <th>3858</th>\n",
       "      <td>22647</td>\n",
       "      <td>ТД ГУМ Кафе 2 Гастроном 1</td>\n",
       "      <td>нет</td>\n",
       "      <td>кафе</td>\n",
       "      <td>город Москва, Красная площадь, дом 3</td>\n",
       "      <td>25</td>\n",
       "      <td>Красная площадь</td>\n",
       "    </tr>\n",
       "    <tr>\n",
       "      <th>9699</th>\n",
       "      <td>169146</td>\n",
       "      <td>БИРЕТТА</td>\n",
       "      <td>нет</td>\n",
       "      <td>кафе</td>\n",
       "      <td>город Москва, Сущёвская улица, дом 19, строение 4</td>\n",
       "      <td>15</td>\n",
       "      <td>Сущёвская улица</td>\n",
       "    </tr>\n",
       "  </tbody>\n",
       "</table>\n",
       "</div>"
      ],
      "text/plain": [
       "           id                object_name chain object_type  \\\n",
       "11314  175569                        KFC    да        кафе   \n",
       "10127  172551     Ресторан Le restaurant   нет    ресторан   \n",
       "15119  219044            Крошка Картошка    да        кафе   \n",
       "3858    22647  ТД ГУМ Кафе 2 Гастроном 1   нет        кафе   \n",
       "9699   169146                    БИРЕТТА   нет        кафе   \n",
       "\n",
       "                                                 address  number  \\\n",
       "11314    город Москва, Севастопольский проспект, дом 11Е      20   \n",
       "10127  город Москва, 2-я Звенигородская улица, дом 13...      86   \n",
       "15119                город Москва, улица Вавилова, дом 3       0   \n",
       "3858                город Москва, Красная площадь, дом 3      25   \n",
       "9699   город Москва, Сущёвская улица, дом 19, строение 4      15   \n",
       "\n",
       "                          street  \n",
       "11314   Севастопольский проспект  \n",
       "10127   2-я Звенигородская улица  \n",
       "15119             улица Вавилова  \n",
       "3858             Красная площадь  \n",
       "9699             Сущёвская улица  "
      ]
     },
     "execution_count": 13,
     "metadata": {},
     "output_type": "execute_result"
    }
   ],
   "source": [
    "data['street'] = data['address'].str.split(',', expand=True)[1]\n",
    "data.sample(5)"
   ]
  },
  {
   "cell_type": "markdown",
   "metadata": {},
   "source": [
    "Можно увидеть, что в столбец street попали города/поселения/и т.п.. От этого избавимся с помощью str. contains."
   ]
  },
  {
   "cell_type": "code",
   "execution_count": 15,
   "metadata": {
    "scrolled": true
   },
   "outputs": [
    {
     "data": {
      "text/html": [
       "<div>\n",
       "<style scoped>\n",
       "    .dataframe tbody tr th:only-of-type {\n",
       "        vertical-align: middle;\n",
       "    }\n",
       "\n",
       "    .dataframe tbody tr th {\n",
       "        vertical-align: top;\n",
       "    }\n",
       "\n",
       "    .dataframe thead th {\n",
       "        text-align: right;\n",
       "    }\n",
       "</style>\n",
       "<table border=\"1\" class=\"dataframe\">\n",
       "  <thead>\n",
       "    <tr style=\"text-align: right;\">\n",
       "      <th></th>\n",
       "      <th>id</th>\n",
       "      <th>object_name</th>\n",
       "      <th>chain</th>\n",
       "      <th>object_type</th>\n",
       "      <th>address</th>\n",
       "      <th>number</th>\n",
       "      <th>street</th>\n",
       "    </tr>\n",
       "  </thead>\n",
       "  <tbody>\n",
       "    <tr>\n",
       "      <th>12557</th>\n",
       "      <td>198920</td>\n",
       "      <td>Бар Great Room</td>\n",
       "      <td>нет</td>\n",
       "      <td>бар</td>\n",
       "      <td>город Москва, Левобережная улица, дом 12</td>\n",
       "      <td>102</td>\n",
       "      <td>Левобережная улица</td>\n",
       "    </tr>\n",
       "    <tr>\n",
       "      <th>9254</th>\n",
       "      <td>166444</td>\n",
       "      <td>Эко-пекарня Президент</td>\n",
       "      <td>нет</td>\n",
       "      <td>кафетерий</td>\n",
       "      <td>город Москва, Новолесная улица, дом 18, корпус 2</td>\n",
       "      <td>3</td>\n",
       "      <td>Новолесная улица</td>\n",
       "    </tr>\n",
       "    <tr>\n",
       "      <th>8100</th>\n",
       "      <td>147988</td>\n",
       "      <td>KFC</td>\n",
       "      <td>да</td>\n",
       "      <td>предприятие быстрого обслуживания</td>\n",
       "      <td>город Москва, Комсомольская площадь, дом 2</td>\n",
       "      <td>52</td>\n",
       "      <td>Комсомольская площадь</td>\n",
       "    </tr>\n",
       "    <tr>\n",
       "      <th>9084</th>\n",
       "      <td>162641</td>\n",
       "      <td>КАФЕ</td>\n",
       "      <td>нет</td>\n",
       "      <td>кафе</td>\n",
       "      <td>город Москва, Сельскохозяйственная улица, дом ...</td>\n",
       "      <td>40</td>\n",
       "      <td>Сельскохозяйственная улица</td>\n",
       "    </tr>\n",
       "    <tr>\n",
       "      <th>13480</th>\n",
       "      <td>194880</td>\n",
       "      <td>Чайхона №1</td>\n",
       "      <td>да</td>\n",
       "      <td>ресторан</td>\n",
       "      <td>город Москва, улица Маршала Катукова, дом 23</td>\n",
       "      <td>150</td>\n",
       "      <td>улица Маршала Катукова</td>\n",
       "    </tr>\n",
       "  </tbody>\n",
       "</table>\n",
       "</div>"
      ],
      "text/plain": [
       "           id            object_name chain                        object_type  \\\n",
       "12557  198920         Бар Great Room   нет                                бар   \n",
       "9254   166444  Эко-пекарня Президент   нет                          кафетерий   \n",
       "8100   147988                    KFC    да  предприятие быстрого обслуживания   \n",
       "9084   162641                   КАФЕ   нет                               кафе   \n",
       "13480  194880             Чайхона №1    да                           ресторан   \n",
       "\n",
       "                                                 address  number  \\\n",
       "12557           город Москва, Левобережная улица, дом 12     102   \n",
       "9254    город Москва, Новолесная улица, дом 18, корпус 2       3   \n",
       "8100          город Москва, Комсомольская площадь, дом 2      52   \n",
       "9084   город Москва, Сельскохозяйственная улица, дом ...      40   \n",
       "13480       город Москва, улица Маршала Катукова, дом 23     150   \n",
       "\n",
       "                            street  \n",
       "12557           Левобережная улица  \n",
       "9254              Новолесная улица  \n",
       "8100         Комсомольская площадь  \n",
       "9084    Сельскохозяйственная улица  \n",
       "13480       улица Маршала Катукова  "
      ]
     },
     "execution_count": 15,
     "metadata": {},
     "output_type": "execute_result"
    }
   ],
   "source": [
    "data = data[data['street'].str.contains('город|поселение|территория') == False]\n",
    "data.sample(5)"
   ]
  },
  {
   "cell_type": "markdown",
   "metadata": {},
   "source": [
    "Таким образом, успешно выделили столбец с названием улицы."
   ]
  },
  {
   "cell_type": "markdown",
   "metadata": {},
   "source": [
    "## Топ-10 улиц по количеству объектов общественного питания. "
   ]
  },
  {
   "cell_type": "code",
   "execution_count": 16,
   "metadata": {},
   "outputs": [
    {
     "data": {
      "text/html": [
       "<div>\n",
       "<style scoped>\n",
       "    .dataframe tbody tr th:only-of-type {\n",
       "        vertical-align: middle;\n",
       "    }\n",
       "\n",
       "    .dataframe tbody tr th {\n",
       "        vertical-align: top;\n",
       "    }\n",
       "\n",
       "    .dataframe thead th {\n",
       "        text-align: right;\n",
       "    }\n",
       "</style>\n",
       "<table border=\"1\" class=\"dataframe\">\n",
       "  <thead>\n",
       "    <tr style=\"text-align: right;\">\n",
       "      <th></th>\n",
       "      <th>street</th>\n",
       "      <th>id</th>\n",
       "    </tr>\n",
       "  </thead>\n",
       "  <tbody>\n",
       "    <tr>\n",
       "      <th>1422</th>\n",
       "      <td>проспект Мира</td>\n",
       "      <td>204</td>\n",
       "    </tr>\n",
       "    <tr>\n",
       "      <th>986</th>\n",
       "      <td>Профсоюзная улица</td>\n",
       "      <td>182</td>\n",
       "    </tr>\n",
       "    <tr>\n",
       "      <th>679</th>\n",
       "      <td>Ленинградский проспект</td>\n",
       "      <td>171</td>\n",
       "    </tr>\n",
       "    <tr>\n",
       "      <th>972</th>\n",
       "      <td>Пресненская набережная</td>\n",
       "      <td>167</td>\n",
       "    </tr>\n",
       "    <tr>\n",
       "      <th>406</th>\n",
       "      <td>Варшавское шоссе</td>\n",
       "      <td>161</td>\n",
       "    </tr>\n",
       "    <tr>\n",
       "      <th>682</th>\n",
       "      <td>Ленинский проспект</td>\n",
       "      <td>147</td>\n",
       "    </tr>\n",
       "    <tr>\n",
       "      <th>1419</th>\n",
       "      <td>проспект Вернадского</td>\n",
       "      <td>132</td>\n",
       "    </tr>\n",
       "    <tr>\n",
       "      <th>670</th>\n",
       "      <td>Кутузовский проспект</td>\n",
       "      <td>114</td>\n",
       "    </tr>\n",
       "    <tr>\n",
       "      <th>597</th>\n",
       "      <td>Каширское шоссе</td>\n",
       "      <td>112</td>\n",
       "    </tr>\n",
       "    <tr>\n",
       "      <th>602</th>\n",
       "      <td>Кировоградская улица</td>\n",
       "      <td>110</td>\n",
       "    </tr>\n",
       "  </tbody>\n",
       "</table>\n",
       "</div>"
      ],
      "text/plain": [
       "                       street   id\n",
       "1422            проспект Мира  204\n",
       "986         Профсоюзная улица  182\n",
       "679    Ленинградский проспект  171\n",
       "972    Пресненская набережная  167\n",
       "406          Варшавское шоссе  161\n",
       "682        Ленинский проспект  147\n",
       "1419     проспект Вернадского  132\n",
       "670      Кутузовский проспект  114\n",
       "597           Каширское шоссе  112\n",
       "602      Кировоградская улица  110"
      ]
     },
     "metadata": {},
     "output_type": "display_data"
    },
    {
     "data": {
      "image/png": "[encoded data removed]",
      "text/plain": [
       "<Figure size 1152x504 with 1 Axes>"
      ]
     },
     "metadata": {},
     "output_type": "display_data"
    }
   ],
   "source": [
    "top_10 = data.groupby('street').agg({'id':'count'}).reset_index().sort_values(by='id', ascending=False).head(10)\n",
    "#top_10.columns = ['Название улицы','Количество заведений']\n",
    "display(top_10)\n",
    "\n",
    "plt.figure(figsize=(16, 7))\n",
    "sns.barplot(data=top_10,x='id', y='street')\n",
    "sns.set_style(\"darkgrid\")\n",
    "plt.ylabel('Название улицы')\n",
    "plt.xlabel('Количество заведений')\n",
    "plt.title('Топ-10 улиц по количеству объектов общественного питания');"
   ]
  },
  {
   "cell_type": "markdown",
   "metadata": {},
   "source": [
    "Импортируем таблицу с заведениями и названиями районов и округов из Портала открытых данных."
   ]
  },
  {
   "cell_type": "code",
   "execution_count": 17,
   "metadata": {},
   "outputs": [
    {
     "data": {
      "text/html": [
       "<div>\n",
       "<style scoped>\n",
       "    .dataframe tbody tr th:only-of-type {\n",
       "        vertical-align: middle;\n",
       "    }\n",
       "\n",
       "    .dataframe tbody tr th {\n",
       "        vertical-align: top;\n",
       "    }\n",
       "\n",
       "    .dataframe thead th {\n",
       "        text-align: right;\n",
       "    }\n",
       "</style>\n",
       "<table border=\"1\" class=\"dataframe\">\n",
       "  <thead>\n",
       "    <tr style=\"text-align: right;\">\n",
       "      <th></th>\n",
       "      <th>ID</th>\n",
       "      <th>Name</th>\n",
       "      <th>global_id</th>\n",
       "      <th>IsNetObject</th>\n",
       "      <th>OperatingCompany</th>\n",
       "      <th>TypeObject</th>\n",
       "      <th>AdmArea</th>\n",
       "      <th>District</th>\n",
       "      <th>Address</th>\n",
       "      <th>PublicPhone</th>\n",
       "      <th>SeatsCount</th>\n",
       "      <th>SocialPrivileges</th>\n",
       "      <th>Longitude_WGS84</th>\n",
       "      <th>Latitude_WGS84</th>\n",
       "      <th>geodata_center</th>\n",
       "      <th>geoarea</th>\n",
       "    </tr>\n",
       "  </thead>\n",
       "  <tbody>\n",
       "    <tr>\n",
       "      <th>0</th>\n",
       "      <td>Код</td>\n",
       "      <td>Наименование</td>\n",
       "      <td>global_id</td>\n",
       "      <td>Является сетевым</td>\n",
       "      <td>Название управляющей компании</td>\n",
       "      <td>Вид объекта</td>\n",
       "      <td>Административный округ по адресу</td>\n",
       "      <td>Район</td>\n",
       "      <td>Адрес</td>\n",
       "      <td>Контактный телефон</td>\n",
       "      <td>Число посадочных мест</td>\n",
       "      <td>Показатель социальных льгот</td>\n",
       "      <td>Долгота в WGS-84</td>\n",
       "      <td>Широта в WGS-84</td>\n",
       "      <td>geodata_center</td>\n",
       "      <td>geoarea</td>\n",
       "    </tr>\n",
       "    <tr>\n",
       "      <th>1</th>\n",
       "      <td>00151635</td>\n",
       "      <td>СМЕТАНА</td>\n",
       "      <td>637376221</td>\n",
       "      <td>нет</td>\n",
       "      <td>NaN</td>\n",
       "      <td>кафе</td>\n",
       "      <td>Северо-Восточный административный округ</td>\n",
       "      <td>Ярославский район</td>\n",
       "      <td>город Москва, улица Егора Абакумова, дом 9</td>\n",
       "      <td>PublicPhone:(499) 183-14-10\\n\\n</td>\n",
       "      <td>48</td>\n",
       "      <td>нет</td>\n",
       "      <td>37.7145650004360390</td>\n",
       "      <td>55.8790015313033730</td>\n",
       "      <td>NaN</td>\n",
       "      <td>NaN</td>\n",
       "    </tr>\n",
       "    <tr>\n",
       "      <th>2</th>\n",
       "      <td>000077874</td>\n",
       "      <td>Родник</td>\n",
       "      <td>637376331</td>\n",
       "      <td>нет</td>\n",
       "      <td>NaN</td>\n",
       "      <td>кафе</td>\n",
       "      <td>Центральный административный округ</td>\n",
       "      <td>Таганский район</td>\n",
       "      <td>город Москва, улица Талалихина, дом 2/1, корпус 1</td>\n",
       "      <td>PublicPhone:(495) 676-55-35\\n\\n</td>\n",
       "      <td>35</td>\n",
       "      <td>нет</td>\n",
       "      <td>37.6733061300344000</td>\n",
       "      <td>55.7382386551547000</td>\n",
       "      <td>NaN</td>\n",
       "      <td>NaN</td>\n",
       "    </tr>\n",
       "    <tr>\n",
       "      <th>3</th>\n",
       "      <td>000024309</td>\n",
       "      <td>Кафе «Академия»</td>\n",
       "      <td>637376349</td>\n",
       "      <td>нет</td>\n",
       "      <td>NaN</td>\n",
       "      <td>ресторан</td>\n",
       "      <td>Центральный административный округ</td>\n",
       "      <td>Таганский район</td>\n",
       "      <td>Российская Федерация, город Москва, внутригоро...</td>\n",
       "      <td>PublicPhone:(495) 662-30-10\\n\\n</td>\n",
       "      <td>95</td>\n",
       "      <td>нет</td>\n",
       "      <td>37.6696475969381000</td>\n",
       "      <td>55.7355114718314000</td>\n",
       "      <td>NaN</td>\n",
       "      <td>NaN</td>\n",
       "    </tr>\n",
       "    <tr>\n",
       "      <th>4</th>\n",
       "      <td>000027429</td>\n",
       "      <td>ГБОУ «Школа № 1430 имени Героя Социалистическо...</td>\n",
       "      <td>637376480</td>\n",
       "      <td>нет</td>\n",
       "      <td>NaN</td>\n",
       "      <td>столовая</td>\n",
       "      <td>Северо-Восточный административный округ</td>\n",
       "      <td>район Лианозово</td>\n",
       "      <td>город Москва, Угличская улица, дом 17</td>\n",
       "      <td>PublicPhone:(499) 908-06-15\\n\\n</td>\n",
       "      <td>240</td>\n",
       "      <td>нет</td>\n",
       "      <td>37.5669400000000020</td>\n",
       "      <td>55.9040188006692200</td>\n",
       "      <td>NaN</td>\n",
       "      <td>NaN</td>\n",
       "    </tr>\n",
       "  </tbody>\n",
       "</table>\n",
       "</div>"
      ],
      "text/plain": [
       "          ID                                               Name  global_id  \\\n",
       "0        Код                                       Наименование  global_id   \n",
       "1   00151635                                            СМЕТАНА  637376221   \n",
       "2  000077874                                             Родник  637376331   \n",
       "3  000024309                                    Кафе «Академия»  637376349   \n",
       "4  000027429  ГБОУ «Школа № 1430 имени Героя Социалистическо...  637376480   \n",
       "\n",
       "        IsNetObject               OperatingCompany   TypeObject  \\\n",
       "0  Является сетевым  Название управляющей компании  Вид объекта   \n",
       "1               нет                            NaN         кафе   \n",
       "2               нет                            NaN         кафе   \n",
       "3               нет                            NaN     ресторан   \n",
       "4               нет                            NaN     столовая   \n",
       "\n",
       "                                   AdmArea           District  \\\n",
       "0         Административный округ по адресу              Район   \n",
       "1  Северо-Восточный административный округ  Ярославский район   \n",
       "2       Центральный административный округ    Таганский район   \n",
       "3       Центральный административный округ    Таганский район   \n",
       "4  Северо-Восточный административный округ    район Лианозово   \n",
       "\n",
       "                                             Address  \\\n",
       "0                                              Адрес   \n",
       "1         город Москва, улица Егора Абакумова, дом 9   \n",
       "2  город Москва, улица Талалихина, дом 2/1, корпус 1   \n",
       "3  Российская Федерация, город Москва, внутригоро...   \n",
       "4              город Москва, Угличская улица, дом 17   \n",
       "\n",
       "                       PublicPhone             SeatsCount  \\\n",
       "0               Контактный телефон  Число посадочных мест   \n",
       "1  PublicPhone:(499) 183-14-10\\n\\n                     48   \n",
       "2  PublicPhone:(495) 676-55-35\\n\\n                     35   \n",
       "3  PublicPhone:(495) 662-30-10\\n\\n                     95   \n",
       "4  PublicPhone:(499) 908-06-15\\n\\n                    240   \n",
       "\n",
       "              SocialPrivileges      Longitude_WGS84       Latitude_WGS84  \\\n",
       "0  Показатель социальных льгот     Долгота в WGS-84      Широта в WGS-84   \n",
       "1                          нет  37.7145650004360390  55.8790015313033730   \n",
       "2                          нет  37.6733061300344000  55.7382386551547000   \n",
       "3                          нет  37.6696475969381000  55.7355114718314000   \n",
       "4                          нет  37.5669400000000020  55.9040188006692200   \n",
       "\n",
       "   geodata_center  geoarea  \n",
       "0  geodata_center  geoarea  \n",
       "1             NaN      NaN  \n",
       "2             NaN      NaN  \n",
       "3             NaN      NaN  \n",
       "4             NaN      NaN  "
      ]
     },
     "execution_count": 17,
     "metadata": {},
     "output_type": "execute_result"
    }
   ],
   "source": [
    "from io import BytesIO\n",
    "import requests\n",
    "spreadsheet_id = '1voOLKixVHWmW3wtWXShQpgYk0r9Di5TAWZ4vU2ZRmiA'\n",
    "file_name = 'https://docs.google.com/spreadsheets/d/{}/export?format=csv'.format(spreadsheet_id)\n",
    "r = requests.get(file_name)\n",
    "df = pd.read_csv(BytesIO(r.content))\n",
    "df.head(5)"
   ]
  },
  {
   "cell_type": "markdown",
   "metadata": {},
   "source": [
    "Объединим две таблицы, чтобы узнать названия округов и районов для наших улиц."
   ]
  },
  {
   "cell_type": "code",
   "execution_count": 18,
   "metadata": {
    "scrolled": true
   },
   "outputs": [
    {
     "data": {
      "text/html": [
       "<div>\n",
       "<style scoped>\n",
       "    .dataframe tbody tr th:only-of-type {\n",
       "        vertical-align: middle;\n",
       "    }\n",
       "\n",
       "    .dataframe tbody tr th {\n",
       "        vertical-align: top;\n",
       "    }\n",
       "\n",
       "    .dataframe thead th {\n",
       "        text-align: right;\n",
       "    }\n",
       "</style>\n",
       "<table border=\"1\" class=\"dataframe\">\n",
       "  <thead>\n",
       "    <tr style=\"text-align: right;\">\n",
       "      <th></th>\n",
       "      <th>id</th>\n",
       "      <th>object_name</th>\n",
       "      <th>chain</th>\n",
       "      <th>object_type</th>\n",
       "      <th>address</th>\n",
       "      <th>number</th>\n",
       "      <th>street</th>\n",
       "      <th>district</th>\n",
       "      <th>admarea</th>\n",
       "    </tr>\n",
       "  </thead>\n",
       "  <tbody>\n",
       "    <tr>\n",
       "      <th>0</th>\n",
       "      <td>151635</td>\n",
       "      <td>СМЕТАНА</td>\n",
       "      <td>нет</td>\n",
       "      <td>кафе</td>\n",
       "      <td>город Москва, улица Егора Абакумова, дом 9</td>\n",
       "      <td>48</td>\n",
       "      <td>улица Егора Абакумова</td>\n",
       "      <td>Ярославский район</td>\n",
       "      <td>Северо-Восточный административный округ</td>\n",
       "    </tr>\n",
       "    <tr>\n",
       "      <th>1</th>\n",
       "      <td>77874</td>\n",
       "      <td>Родник</td>\n",
       "      <td>нет</td>\n",
       "      <td>кафе</td>\n",
       "      <td>город Москва, улица Талалихина, дом 2/1, корпус 1</td>\n",
       "      <td>35</td>\n",
       "      <td>улица Талалихина</td>\n",
       "      <td>Таганский район</td>\n",
       "      <td>Центральный административный округ</td>\n",
       "    </tr>\n",
       "    <tr>\n",
       "      <th>3</th>\n",
       "      <td>21894</td>\n",
       "      <td>ПИЦЦЕТОРИЯ</td>\n",
       "      <td>да</td>\n",
       "      <td>кафе</td>\n",
       "      <td>город Москва, Абрамцевская улица, дом 1</td>\n",
       "      <td>40</td>\n",
       "      <td>Абрамцевская улица</td>\n",
       "      <td>район Лианозово</td>\n",
       "      <td>Северо-Восточный административный округ</td>\n",
       "    </tr>\n",
       "    <tr>\n",
       "      <th>7</th>\n",
       "      <td>148815</td>\n",
       "      <td>Брусника</td>\n",
       "      <td>да</td>\n",
       "      <td>кафе</td>\n",
       "      <td>город Москва, переулок Сивцев Вражек, дом 6/2</td>\n",
       "      <td>10</td>\n",
       "      <td>переулок Сивцев Вражек</td>\n",
       "      <td>район Арбат</td>\n",
       "      <td>Центральный административный округ</td>\n",
       "    </tr>\n",
       "    <tr>\n",
       "      <th>8</th>\n",
       "      <td>20957</td>\n",
       "      <td>Буфет МТУСИ</td>\n",
       "      <td>нет</td>\n",
       "      <td>столовая</td>\n",
       "      <td>город Москва, Авиамоторная улица, дом 8, строе...</td>\n",
       "      <td>90</td>\n",
       "      <td>Авиамоторная улица</td>\n",
       "      <td>район Лефортово</td>\n",
       "      <td>Юго-Восточный административный округ</td>\n",
       "    </tr>\n",
       "  </tbody>\n",
       "</table>\n",
       "</div>"
      ],
      "text/plain": [
       "       id  object_name chain object_type  \\\n",
       "0  151635      СМЕТАНА   нет        кафе   \n",
       "1   77874       Родник   нет        кафе   \n",
       "3   21894   ПИЦЦЕТОРИЯ    да        кафе   \n",
       "7  148815     Брусника    да        кафе   \n",
       "8   20957  Буфет МТУСИ   нет    столовая   \n",
       "\n",
       "                                             address  number  \\\n",
       "0         город Москва, улица Егора Абакумова, дом 9      48   \n",
       "1  город Москва, улица Талалихина, дом 2/1, корпус 1      35   \n",
       "3            город Москва, Абрамцевская улица, дом 1      40   \n",
       "7      город Москва, переулок Сивцев Вражек, дом 6/2      10   \n",
       "8  город Москва, Авиамоторная улица, дом 8, строе...      90   \n",
       "\n",
       "                    street           district  \\\n",
       "0    улица Егора Абакумова  Ярославский район   \n",
       "1         улица Талалихина    Таганский район   \n",
       "3       Абрамцевская улица    район Лианозово   \n",
       "7   переулок Сивцев Вражек        район Арбат   \n",
       "8       Авиамоторная улица    район Лефортово   \n",
       "\n",
       "                                   admarea  \n",
       "0  Северо-Восточный административный округ  \n",
       "1       Центральный административный округ  \n",
       "3  Северо-Восточный административный округ  \n",
       "7       Центральный административный округ  \n",
       "8     Юго-Восточный административный округ  "
      ]
     },
     "execution_count": 18,
     "metadata": {},
     "output_type": "execute_result"
    }
   ],
   "source": [
    "df.columns = df.columns.str.lower()\n",
    "rest_data = data.merge(df[['district', 'admarea', 'address']], on='address', how='left')\n",
    "rest_data = rest_data.dropna().drop_duplicates()\n",
    "rest_data.head()"
   ]
  },
  {
   "cell_type": "markdown",
   "metadata": {},
   "source": [
    "Теперь посмотрм названия районов и округов для нашего Топ-10."
   ]
  },
  {
   "cell_type": "code",
   "execution_count": 24,
   "metadata": {},
   "outputs": [
    {
     "data": {
      "text/html": [
       "<div>\n",
       "<style scoped>\n",
       "    .dataframe tbody tr th:only-of-type {\n",
       "        vertical-align: middle;\n",
       "    }\n",
       "\n",
       "    .dataframe tbody tr th {\n",
       "        vertical-align: top;\n",
       "    }\n",
       "\n",
       "    .dataframe thead th {\n",
       "        text-align: right;\n",
       "    }\n",
       "</style>\n",
       "<table border=\"1\" class=\"dataframe\">\n",
       "  <thead>\n",
       "    <tr style=\"text-align: right;\">\n",
       "      <th></th>\n",
       "      <th></th>\n",
       "      <th>id</th>\n",
       "    </tr>\n",
       "    <tr>\n",
       "      <th>street</th>\n",
       "      <th>district</th>\n",
       "      <th></th>\n",
       "    </tr>\n",
       "  </thead>\n",
       "  <tbody>\n",
       "    <tr>\n",
       "      <th rowspan=\"7\" valign=\"top\">Варшавское шоссе</th>\n",
       "      <th>Донской район</th>\n",
       "      <td>31</td>\n",
       "    </tr>\n",
       "    <tr>\n",
       "      <th>Нагорный район</th>\n",
       "      <td>25</td>\n",
       "    </tr>\n",
       "    <tr>\n",
       "      <th>район Нагатино-Садовники</th>\n",
       "      <td>4</td>\n",
       "    </tr>\n",
       "    <tr>\n",
       "      <th>район Чертаново Северное</th>\n",
       "      <td>19</td>\n",
       "    </tr>\n",
       "    <tr>\n",
       "      <th>район Чертаново Центральное</th>\n",
       "      <td>8</td>\n",
       "    </tr>\n",
       "    <tr>\n",
       "      <th>район Чертаново Южное</th>\n",
       "      <td>35</td>\n",
       "    </tr>\n",
       "    <tr>\n",
       "      <th>район Южное Бутово</th>\n",
       "      <td>2</td>\n",
       "    </tr>\n",
       "    <tr>\n",
       "      <th rowspan=\"4\" valign=\"top\">Каширское шоссе</th>\n",
       "      <th>район Москворечье-Сабурово</th>\n",
       "      <td>29</td>\n",
       "    </tr>\n",
       "    <tr>\n",
       "      <th>район Нагатино-Садовники</th>\n",
       "      <td>20</td>\n",
       "    </tr>\n",
       "    <tr>\n",
       "      <th>район Орехово-Борисово Северное</th>\n",
       "      <td>10</td>\n",
       "    </tr>\n",
       "    <tr>\n",
       "      <th>район Орехово-Борисово Южное</th>\n",
       "      <td>4</td>\n",
       "    </tr>\n",
       "    <tr>\n",
       "      <th rowspan=\"3\" valign=\"top\">Кировоградская улица</th>\n",
       "      <th>район Чертаново Северное</th>\n",
       "      <td>19</td>\n",
       "    </tr>\n",
       "    <tr>\n",
       "      <th>район Чертаново Центральное</th>\n",
       "      <td>78</td>\n",
       "    </tr>\n",
       "    <tr>\n",
       "      <th>район Чертаново Южное</th>\n",
       "      <td>7</td>\n",
       "    </tr>\n",
       "    <tr>\n",
       "      <th rowspan=\"3\" valign=\"top\">Кутузовский проспект</th>\n",
       "      <th>поселение Краснопахорское</th>\n",
       "      <td>40</td>\n",
       "    </tr>\n",
       "    <tr>\n",
       "      <th>район Дорогомилово</th>\n",
       "      <td>39</td>\n",
       "    </tr>\n",
       "    <tr>\n",
       "      <th>район Фили-Давыдково</th>\n",
       "      <td>63</td>\n",
       "    </tr>\n",
       "    <tr>\n",
       "      <th rowspan=\"4\" valign=\"top\">Ленинградский проспект</th>\n",
       "      <th>Хорошёвский район</th>\n",
       "      <td>12</td>\n",
       "    </tr>\n",
       "    <tr>\n",
       "      <th>район Аэропорт</th>\n",
       "      <td>62</td>\n",
       "    </tr>\n",
       "    <tr>\n",
       "      <th>район Беговой</th>\n",
       "      <td>46</td>\n",
       "    </tr>\n",
       "    <tr>\n",
       "      <th>район Сокол</th>\n",
       "      <td>20</td>\n",
       "    </tr>\n",
       "    <tr>\n",
       "      <th rowspan=\"8\" valign=\"top\">Ленинский проспект</th>\n",
       "      <th>Гагаринский район</th>\n",
       "      <td>31</td>\n",
       "    </tr>\n",
       "    <tr>\n",
       "      <th>Донской район</th>\n",
       "      <td>10</td>\n",
       "    </tr>\n",
       "    <tr>\n",
       "      <th>Ломоносовский район</th>\n",
       "      <td>10</td>\n",
       "    </tr>\n",
       "    <tr>\n",
       "      <th>Обручевский район</th>\n",
       "      <td>30</td>\n",
       "    </tr>\n",
       "    <tr>\n",
       "      <th>район Проспект Вернадского</th>\n",
       "      <td>1</td>\n",
       "    </tr>\n",
       "    <tr>\n",
       "      <th>район Тропарёво-Никулино</th>\n",
       "      <td>20</td>\n",
       "    </tr>\n",
       "    <tr>\n",
       "      <th>район Тёплый Стан</th>\n",
       "      <td>3</td>\n",
       "    </tr>\n",
       "    <tr>\n",
       "      <th>район Якиманка</th>\n",
       "      <td>12</td>\n",
       "    </tr>\n",
       "    <tr>\n",
       "      <th>Пресненская набережная</th>\n",
       "      <th>Пресненский район</th>\n",
       "      <td>135</td>\n",
       "    </tr>\n",
       "    <tr>\n",
       "      <th rowspan=\"5\" valign=\"top\">Профсоюзная улица</th>\n",
       "      <th>Обручевский район</th>\n",
       "      <td>30</td>\n",
       "    </tr>\n",
       "    <tr>\n",
       "      <th>район Коньково</th>\n",
       "      <td>29</td>\n",
       "    </tr>\n",
       "    <tr>\n",
       "      <th>район Тёплый Стан</th>\n",
       "      <td>36</td>\n",
       "    </tr>\n",
       "    <tr>\n",
       "      <th>район Черёмушки</th>\n",
       "      <td>35</td>\n",
       "    </tr>\n",
       "    <tr>\n",
       "      <th>район Ясенево</th>\n",
       "      <td>14</td>\n",
       "    </tr>\n",
       "    <tr>\n",
       "      <th rowspan=\"5\" valign=\"top\">проспект Вернадского</th>\n",
       "      <th>Ломоносовский район</th>\n",
       "      <td>13</td>\n",
       "    </tr>\n",
       "    <tr>\n",
       "      <th>поселение Вороновское</th>\n",
       "      <td>1</td>\n",
       "    </tr>\n",
       "    <tr>\n",
       "      <th>район Проспект Вернадского</th>\n",
       "      <td>11</td>\n",
       "    </tr>\n",
       "    <tr>\n",
       "      <th>район Раменки</th>\n",
       "      <td>32</td>\n",
       "    </tr>\n",
       "    <tr>\n",
       "      <th>район Тропарёво-Никулино</th>\n",
       "      <td>47</td>\n",
       "    </tr>\n",
       "    <tr>\n",
       "      <th rowspan=\"5\" valign=\"top\">проспект Мира</th>\n",
       "      <th>Алексеевский район</th>\n",
       "      <td>43</td>\n",
       "    </tr>\n",
       "    <tr>\n",
       "      <th>Мещанский район</th>\n",
       "      <td>53</td>\n",
       "    </tr>\n",
       "    <tr>\n",
       "      <th>Останкинский район</th>\n",
       "      <td>12</td>\n",
       "    </tr>\n",
       "    <tr>\n",
       "      <th>район Ростокино</th>\n",
       "      <td>6</td>\n",
       "    </tr>\n",
       "    <tr>\n",
       "      <th>район Свиблово</th>\n",
       "      <td>62</td>\n",
       "    </tr>\n",
       "  </tbody>\n",
       "</table>\n",
       "</div>"
      ],
      "text/plain": [
       "                                                          id\n",
       "street                  district                            \n",
       " Варшавское шоссе       Донской район                     31\n",
       "                        Нагорный район                    25\n",
       "                        район Нагатино-Садовники           4\n",
       "                        район Чертаново Северное          19\n",
       "                        район Чертаново Центральное        8\n",
       "                        район Чертаново Южное             35\n",
       "                        район Южное Бутово                 2\n",
       " Каширское шоссе        район Москворечье-Сабурово        29\n",
       "                        район Нагатино-Садовники          20\n",
       "                        район Орехово-Борисово Северное   10\n",
       "                        район Орехово-Борисово Южное       4\n",
       " Кировоградская улица   район Чертаново Северное          19\n",
       "                        район Чертаново Центральное       78\n",
       "                        район Чертаново Южное              7\n",
       " Кутузовский проспект   поселение Краснопахорское         40\n",
       "                        район Дорогомилово                39\n",
       "                        район Фили-Давыдково              63\n",
       " Ленинградский проспект Хорошёвский район                 12\n",
       "                        район Аэропорт                    62\n",
       "                        район Беговой                     46\n",
       "                        район Сокол                       20\n",
       " Ленинский проспект     Гагаринский район                 31\n",
       "                        Донской район                     10\n",
       "                        Ломоносовский район               10\n",
       "                        Обручевский район                 30\n",
       "                        район Проспект Вернадского         1\n",
       "                        район Тропарёво-Никулино          20\n",
       "                        район Тёплый Стан                  3\n",
       "                        район Якиманка                    12\n",
       " Пресненская набережная Пресненский район                135\n",
       " Профсоюзная улица      Обручевский район                 30\n",
       "                        район Коньково                    29\n",
       "                        район Тёплый Стан                 36\n",
       "                        район Черёмушки                   35\n",
       "                        район Ясенево                     14\n",
       " проспект Вернадского   Ломоносовский район               13\n",
       "                        поселение Вороновское              1\n",
       "                        район Проспект Вернадского        11\n",
       "                        район Раменки                     32\n",
       "                        район Тропарёво-Никулино          47\n",
       " проспект Мира          Алексеевский район                43\n",
       "                        Мещанский район                   53\n",
       "                        Останкинский район                12\n",
       "                        район Ростокино                    6\n",
       "                        район Свиблово                    62"
      ]
     },
     "execution_count": 24,
     "metadata": {},
     "output_type": "execute_result"
    }
   ],
   "source": [
    "rest_data[rest_data['street'].isin(top_10['street'])].groupby(['street','district']).agg({'id' : 'count'})"
   ]
  },
  {
   "cell_type": "markdown",
   "metadata": {},
   "source": [
    "* Наибольшее количество объектов питания располагается на Проспекте Мира, здесь 204 объектов общественного питания;\n",
    "* Каждая улица в топ-10 включает в себя более 100 заведений;\n",
    "* Улицы в списке топ-10 проходят через 35 районов Москвы."
   ]
  },
  {
   "cell_type": "markdown",
   "metadata": {},
   "source": [
    "## Улицы с одним объектом общественного питания"
   ]
  },
  {
   "cell_type": "markdown",
   "metadata": {},
   "source": [
    "Посмотрм сколько всего улиц с одним объектом общественного питания:"
   ]
  },
  {
   "cell_type": "code",
   "execution_count": 21,
   "metadata": {},
   "outputs": [
    {
     "name": "stdout",
     "output_type": "stream",
     "text": [
      "Число улиц с одним объектом общественного питания: 577\n"
     ]
    }
   ],
   "source": [
    "one_type = data.groupby('street').agg({'id':'count'}).reset_index().sort_values(by='id').query('id==1')\n",
    "print('Число улиц с одним объектом общественного питания:', one_type['id'].count())"
   ]
  },
  {
   "cell_type": "markdown",
   "metadata": {},
   "source": [
    "Теперь посмотрим в каких районах они находятся. Для этого возьмем данные уже из готовой таблицы data_dis"
   ]
  },
  {
   "cell_type": "code",
   "execution_count": 22,
   "metadata": {},
   "outputs": [
    {
     "data": {
      "text/html": [
       "<div>\n",
       "<style scoped>\n",
       "    .dataframe tbody tr th:only-of-type {\n",
       "        vertical-align: middle;\n",
       "    }\n",
       "\n",
       "    .dataframe tbody tr th {\n",
       "        vertical-align: top;\n",
       "    }\n",
       "\n",
       "    .dataframe thead th {\n",
       "        text-align: right;\n",
       "    }\n",
       "</style>\n",
       "<table border=\"1\" class=\"dataframe\">\n",
       "  <thead>\n",
       "    <tr style=\"text-align: right;\">\n",
       "      <th></th>\n",
       "      <th></th>\n",
       "      <th></th>\n",
       "      <th>id</th>\n",
       "    </tr>\n",
       "    <tr>\n",
       "      <th>street</th>\n",
       "      <th>district</th>\n",
       "      <th>admarea</th>\n",
       "      <th></th>\n",
       "    </tr>\n",
       "  </thead>\n",
       "  <tbody>\n",
       "    <tr>\n",
       "      <th>1-й Балтийский переулок</th>\n",
       "      <th>район Аэропорт</th>\n",
       "      <th>Северный административный округ</th>\n",
       "      <td>1</td>\n",
       "    </tr>\n",
       "    <tr>\n",
       "      <th>1-й Басманный переулок</th>\n",
       "      <th>Красносельский район</th>\n",
       "      <th>Центральный административный округ</th>\n",
       "      <td>1</td>\n",
       "    </tr>\n",
       "    <tr>\n",
       "      <th>1-й Ботанический проезд</th>\n",
       "      <th>район Свиблово</th>\n",
       "      <th>Северо-Восточный административный округ</th>\n",
       "      <td>1</td>\n",
       "    </tr>\n",
       "    <tr>\n",
       "      <th>1-й Голутвинский переулок</th>\n",
       "      <th>район Якиманка</th>\n",
       "      <th>Центральный административный округ</th>\n",
       "      <td>1</td>\n",
       "    </tr>\n",
       "    <tr>\n",
       "      <th>1-й Котельнический переулок</th>\n",
       "      <th>Таганский район</th>\n",
       "      <th>Центральный административный округ</th>\n",
       "      <td>1</td>\n",
       "    </tr>\n",
       "  </tbody>\n",
       "</table>\n",
       "</div>"
      ],
      "text/plain": [
       "                                                                                           id\n",
       "street                       district             admarea                                    \n",
       " 1-й Балтийский переулок     район Аэропорт       Северный административный округ           1\n",
       " 1-й Басманный переулок      Красносельский район Центральный административный округ        1\n",
       " 1-й Ботанический проезд     район Свиблово       Северо-Восточный административный округ   1\n",
       " 1-й Голутвинский переулок   район Якиманка       Центральный административный округ        1\n",
       " 1-й Котельнический переулок Таганский район      Центральный административный округ        1"
      ]
     },
     "metadata": {},
     "output_type": "display_data"
    },
    {
     "name": "stdout",
     "output_type": "stream",
     "text": [
      "district\n",
      "Таганский район               19\n",
      "Басманный район               16\n",
      "Тверской район                15\n",
      "район Хамовники               15\n",
      "район Сокольники              10\n",
      "                              ..\n",
      "район Москворечье-Сабурово     1\n",
      "район Нагатино-Садовники       1\n",
      "район Некрасовка               1\n",
      "район Очаково-Матвеевское      1\n",
      "район Капотня                  1\n",
      "Length: 92, dtype: int64\n"
     ]
    }
   ],
   "source": [
    "on_type_dis = one_type.merge(data_dis, how='left', on='street').pivot_table(index=['street', 'district','admarea'])\n",
    "display(on_type_dis.head())\n",
    "#pd.set_option('display.max_rows', None)\n",
    "print(on_type_dis.value_counts('district'))"
   ]
  },
  {
   "cell_type": "markdown",
   "metadata": {},
   "source": [
    "* Количество улиц с одним объектом общественного питания - 577\n",
    "* Количество районов через которые проходят эти улицы - 92"
   ]
  },
  {
   "cell_type": "markdown",
   "metadata": {},
   "source": [
    "## Вывод"
   ]
  },
  {
   "cell_type": "markdown",
   "metadata": {},
   "source": [
    "Был проведен анализ рынка заведений общественного питания в Москве. На основании данного анализа можно сделать такие выводы:\n",
    "* Наибльшую долю рынка общественного питания в Москве занимают кафе(39,7%), столовые(16,8%), рестораны(14,9%) и предприятия быстрого обслуживания(12,5%). Остальные виды объектов общественного питания в сумме занимают 16,1%;\n",
    "* Наиболее распространены несетевые объекты. Их количество составляет 80,7% от общей массы. Это в 4 раза выше, чем сетевых(19,3%);\n",
    "* Сетевое распространение характерно для: предприятий быстрого обслуживания(41,1%), магазинов (отдел кулинарии)(28,6%) и ресторанов(23,8%);\n",
    "* Для сетевых заведений характерно мало заведений с небольшим числом посадочных мест;\n",
    "* В среднем наибольшее количество посадочных мест характерно для столовых(130) и ресторанов(96). Меньше всего посадочных мест в магазинах (отделах кулинарии), закусочных и кафетериях (менее 10);\n",
    "* Выявлен топ-!0 улиц по количеству объектов общественного питания. Наибольшее количество располагается на Проспекте Мира, здесь 204 объектов общественного питания. Каждая улица в топ-10 включает в себя более 100 заведений и эти улицы проходят через 35 районов Москвы;\n",
    "* Количество улиц с одним объектом общественного питания - 577. Также можно посмотреть в каких районах и округах располагаются эти улицы.\n",
    "\n",
    "На основании анализа могу дать рекомендации для партнеров:\n",
    "* Так как наибольшую долю ранка составляют кафе(почти 40%), можно сделать вывод о популярности данного типо заденения в Москве. Плюс такой тип хорошо подойдет под формат описанный в ТЗ. Небольшое кафе с роботами-официантами;\n",
    "* Судя по анализу для кафе характерно среднее количество посадочных мест 40 шт. Можно рассматрвать интервал посадки в 30-50 посадочных мест;\n",
    "* Район расположеия так же очень важен. Я бы рекомендовала рассмотреть улицы в списке Топ-10, неспроста на этих улицах большое количество заведений. Большая проходимость людей один из главных факторов. Следует также рассмотреть помещения в близкой доступтости от метро, наличия бизнес центров, университетов, отелей в данных районах. В Москве большое количество туристов, их также может заинтересовать необычная концепция. "
   ]
  },
  {
   "cell_type": "markdown",
   "metadata": {},
   "source": [
    "Презентация: https://disk.yandex.ru/i/_Ne3TTcy55oNIw"
   ]
  }
 ],
 "metadata": {
  "ExecuteTimeLog": [
   {
    "duration": 1288,
    "start_time": "2022-08-19T16:55:25.178Z"
   },
   {
    "duration": 569,
    "start_time": "2022-08-19T16:56:00.777Z"
   },
   {
    "duration": 77,
    "start_time": "2022-08-19T16:56:08.331Z"
   },
   {
    "duration": 83,
    "start_time": "2022-08-19T16:57:09.310Z"
   },
   {
    "duration": 15,
    "start_time": "2022-08-19T17:02:33.677Z"
   },
   {
    "duration": 62,
    "start_time": "2022-08-19T17:03:44.119Z"
   },
   {
    "duration": 16,
    "start_time": "2022-08-19T17:04:05.175Z"
   },
   {
    "duration": 21,
    "start_time": "2022-08-19T17:06:01.270Z"
   },
   {
    "duration": 93,
    "start_time": "2022-08-19T17:07:34.946Z"
   },
   {
    "duration": 18,
    "start_time": "2022-08-19T17:07:45.559Z"
   },
   {
    "duration": 17,
    "start_time": "2022-08-19T17:08:36.852Z"
   },
   {
    "duration": 21,
    "start_time": "2022-08-19T17:09:10.463Z"
   },
   {
    "duration": 25,
    "start_time": "2022-08-19T17:09:33.469Z"
   },
   {
    "duration": 30,
    "start_time": "2022-08-19T17:10:32.612Z"
   },
   {
    "duration": 25,
    "start_time": "2022-08-19T17:10:44.755Z"
   },
   {
    "duration": 24,
    "start_time": "2022-08-19T17:10:54.025Z"
   },
   {
    "duration": 201,
    "start_time": "2022-08-19T17:11:30.327Z"
   },
   {
    "duration": 12,
    "start_time": "2022-08-19T17:11:54.588Z"
   },
   {
    "duration": 188,
    "start_time": "2022-08-19T17:12:00.214Z"
   },
   {
    "duration": 22,
    "start_time": "2022-08-19T17:24:49.181Z"
   },
   {
    "duration": 13,
    "start_time": "2022-08-19T17:33:12.311Z"
   },
   {
    "duration": 23,
    "start_time": "2022-08-19T17:33:21.020Z"
   },
   {
    "duration": 17,
    "start_time": "2022-08-19T17:34:52.766Z"
   },
   {
    "duration": 33,
    "start_time": "2022-08-19T17:36:26.786Z"
   },
   {
    "duration": 24,
    "start_time": "2022-08-19T17:44:45.096Z"
   },
   {
    "duration": 14,
    "start_time": "2022-08-19T17:56:36.026Z"
   },
   {
    "duration": 25795,
    "start_time": "2022-08-19T17:56:51.750Z"
   },
   {
    "duration": 9,
    "start_time": "2022-08-19T17:59:24.822Z"
   },
   {
    "duration": 22,
    "start_time": "2022-08-19T17:59:54.383Z"
   },
   {
    "duration": 129,
    "start_time": "2022-08-19T18:00:41.860Z"
   },
   {
    "duration": 18,
    "start_time": "2022-08-19T18:01:03.454Z"
   },
   {
    "duration": 14,
    "start_time": "2022-08-19T18:01:07.714Z"
   },
   {
    "duration": 267,
    "start_time": "2022-08-19T18:02:19.026Z"
   },
   {
    "duration": 74,
    "start_time": "2022-08-19T18:07:01.978Z"
   },
   {
    "duration": 86,
    "start_time": "2022-08-19T18:07:11.038Z"
   },
   {
    "duration": 252,
    "start_time": "2022-08-19T18:09:07.800Z"
   },
   {
    "duration": 273,
    "start_time": "2022-08-19T18:09:19.728Z"
   },
   {
    "duration": 213,
    "start_time": "2022-08-19T18:11:53.824Z"
   },
   {
    "duration": 2289,
    "start_time": "2022-08-19T18:12:08.525Z"
   },
   {
    "duration": 234,
    "start_time": "2022-08-19T18:12:29.063Z"
   },
   {
    "duration": 316,
    "start_time": "2022-08-19T18:12:39.524Z"
   },
   {
    "duration": 244,
    "start_time": "2022-08-19T18:13:41.826Z"
   },
   {
    "duration": 289,
    "start_time": "2022-08-19T18:13:51.251Z"
   },
   {
    "duration": 218,
    "start_time": "2022-08-19T18:15:36.831Z"
   },
   {
    "duration": 238,
    "start_time": "2022-08-19T18:16:27.052Z"
   },
   {
    "duration": 283,
    "start_time": "2022-08-19T18:16:58.430Z"
   },
   {
    "duration": 288,
    "start_time": "2022-08-19T18:19:15.295Z"
   },
   {
    "duration": 315,
    "start_time": "2022-08-19T18:19:27.582Z"
   },
   {
    "duration": 8,
    "start_time": "2022-08-19T18:21:22.225Z"
   },
   {
    "duration": 198,
    "start_time": "2022-08-19T18:23:00.007Z"
   },
   {
    "duration": 388,
    "start_time": "2022-08-19T18:23:28.045Z"
   },
   {
    "duration": 348,
    "start_time": "2022-08-19T18:23:55.023Z"
   },
   {
    "duration": 412,
    "start_time": "2022-08-19T18:24:14.439Z"
   },
   {
    "duration": 293,
    "start_time": "2022-08-19T18:24:33.416Z"
   },
   {
    "duration": 304,
    "start_time": "2022-08-19T18:32:17.697Z"
   },
   {
    "duration": 320,
    "start_time": "2022-08-19T18:33:33.233Z"
   },
   {
    "duration": 367,
    "start_time": "2022-08-19T18:33:43.576Z"
   },
   {
    "duration": 271,
    "start_time": "2022-08-19T18:33:48.081Z"
   },
   {
    "duration": 159,
    "start_time": "2022-08-19T18:40:56.606Z"
   },
   {
    "duration": 16,
    "start_time": "2022-08-19T18:41:32.651Z"
   },
   {
    "duration": 176,
    "start_time": "2022-08-19T18:44:02.011Z"
   },
   {
    "duration": 175,
    "start_time": "2022-08-19T18:44:26.067Z"
   },
   {
    "duration": 383,
    "start_time": "2022-08-19T18:49:54.530Z"
   },
   {
    "duration": 256,
    "start_time": "2022-08-19T18:50:08.526Z"
   },
   {
    "duration": 182,
    "start_time": "2022-08-19T18:50:57.430Z"
   },
   {
    "duration": 211,
    "start_time": "2022-08-19T18:51:14.443Z"
   },
   {
    "duration": 13,
    "start_time": "2022-08-19T18:53:17.600Z"
   },
   {
    "duration": 7,
    "start_time": "2022-08-19T18:53:28.119Z"
   },
   {
    "duration": 59,
    "start_time": "2022-08-19T18:56:39.131Z"
   },
   {
    "duration": 57,
    "start_time": "2022-08-19T18:57:08.767Z"
   },
   {
    "duration": 67,
    "start_time": "2022-08-19T18:57:15.329Z"
   },
   {
    "duration": 19,
    "start_time": "2022-08-19T18:57:34.167Z"
   },
   {
    "duration": 26,
    "start_time": "2022-08-19T18:59:45.577Z"
   },
   {
    "duration": 51,
    "start_time": "2022-08-19T19:00:44.005Z"
   },
   {
    "duration": 41,
    "start_time": "2022-08-19T19:00:55.028Z"
   },
   {
    "duration": 10,
    "start_time": "2022-08-19T19:01:25.948Z"
   },
   {
    "duration": 18,
    "start_time": "2022-08-19T19:01:38.132Z"
   },
   {
    "duration": 12,
    "start_time": "2022-08-19T19:02:12.201Z"
   },
   {
    "duration": 13,
    "start_time": "2022-08-19T19:03:48.905Z"
   },
   {
    "duration": 18,
    "start_time": "2022-08-19T19:05:36.061Z"
   },
   {
    "duration": 17,
    "start_time": "2022-08-19T19:05:50.563Z"
   },
   {
    "duration": 28,
    "start_time": "2022-08-19T19:05:59.878Z"
   },
   {
    "duration": 270,
    "start_time": "2022-08-19T19:08:50.706Z"
   },
   {
    "duration": 190,
    "start_time": "2022-08-19T19:09:00.921Z"
   },
   {
    "duration": 233,
    "start_time": "2022-08-19T19:10:55.980Z"
   },
   {
    "duration": 314,
    "start_time": "2022-08-19T19:11:23.861Z"
   },
   {
    "duration": 314,
    "start_time": "2022-08-19T19:11:42.083Z"
   },
   {
    "duration": 271,
    "start_time": "2022-08-19T19:15:07.536Z"
   },
   {
    "duration": 235,
    "start_time": "2022-08-19T19:15:36.905Z"
   },
   {
    "duration": 292,
    "start_time": "2022-08-19T19:18:16.758Z"
   },
   {
    "duration": 485,
    "start_time": "2022-08-19T19:18:34.281Z"
   },
   {
    "duration": 336,
    "start_time": "2022-08-19T19:19:30.827Z"
   },
   {
    "duration": 341,
    "start_time": "2022-08-19T19:19:55.000Z"
   },
   {
    "duration": 308,
    "start_time": "2022-08-19T19:21:00.113Z"
   },
   {
    "duration": 323,
    "start_time": "2022-08-19T19:21:15.043Z"
   },
   {
    "duration": 327,
    "start_time": "2022-08-19T19:21:28.140Z"
   },
   {
    "duration": 338,
    "start_time": "2022-08-19T19:30:07.975Z"
   },
   {
    "duration": 268,
    "start_time": "2022-08-19T19:30:19.096Z"
   },
   {
    "duration": 309,
    "start_time": "2022-08-19T19:30:47.670Z"
   },
   {
    "duration": 272,
    "start_time": "2022-08-19T19:30:51.707Z"
   },
   {
    "duration": 21,
    "start_time": "2022-08-19T19:36:05.666Z"
   },
   {
    "duration": 10,
    "start_time": "2022-08-19T19:40:34.933Z"
   },
   {
    "duration": 17,
    "start_time": "2022-08-19T19:40:43.433Z"
   },
   {
    "duration": 33,
    "start_time": "2022-08-19T19:43:02.322Z"
   },
   {
    "duration": 22,
    "start_time": "2022-08-19T19:43:29.243Z"
   },
   {
    "duration": 14,
    "start_time": "2022-08-19T19:43:47.806Z"
   },
   {
    "duration": 1217,
    "start_time": "2022-08-19T19:50:27.565Z"
   },
   {
    "duration": 95,
    "start_time": "2022-08-19T19:50:28.784Z"
   },
   {
    "duration": 41,
    "start_time": "2022-08-19T19:50:28.880Z"
   },
   {
    "duration": 324,
    "start_time": "2022-08-19T19:50:28.923Z"
   },
   {
    "duration": 202,
    "start_time": "2022-08-19T19:50:29.249Z"
   },
   {
    "duration": 347,
    "start_time": "2022-08-19T19:50:29.453Z"
   },
   {
    "duration": 10,
    "start_time": "2022-08-19T19:53:42.906Z"
   },
   {
    "duration": 13,
    "start_time": "2022-08-19T19:54:08.434Z"
   },
   {
    "duration": 20,
    "start_time": "2022-08-19T20:00:12.420Z"
   },
   {
    "duration": 50,
    "start_time": "2022-08-19T20:02:56.811Z"
   },
   {
    "duration": 77,
    "start_time": "2022-08-19T20:03:11.662Z"
   },
   {
    "duration": 64,
    "start_time": "2022-08-19T20:03:26.217Z"
   },
   {
    "duration": 23,
    "start_time": "2022-08-19T20:04:02.542Z"
   },
   {
    "duration": 37,
    "start_time": "2022-08-19T20:08:10.307Z"
   },
   {
    "duration": 71,
    "start_time": "2022-08-19T20:53:29.358Z"
   },
   {
    "duration": 1340,
    "start_time": "2022-08-19T20:53:41.412Z"
   },
   {
    "duration": 116,
    "start_time": "2022-08-19T20:53:42.753Z"
   },
   {
    "duration": 54,
    "start_time": "2022-08-19T20:53:42.871Z"
   },
   {
    "duration": 333,
    "start_time": "2022-08-19T20:53:42.927Z"
   },
   {
    "duration": 197,
    "start_time": "2022-08-19T20:53:43.262Z"
   },
   {
    "duration": 41,
    "start_time": "2022-08-19T20:53:43.461Z"
   },
   {
    "duration": 37,
    "start_time": "2022-08-19T20:53:43.504Z"
   },
   {
    "duration": 366,
    "start_time": "2022-08-19T20:53:43.543Z"
   },
   {
    "duration": 34,
    "start_time": "2022-08-19T20:54:51.973Z"
   },
   {
    "duration": 111,
    "start_time": "2022-08-19T20:55:16.444Z"
   },
   {
    "duration": 33,
    "start_time": "2022-08-19T20:55:32.918Z"
   },
   {
    "duration": 25,
    "start_time": "2022-08-19T20:55:44.634Z"
   },
   {
    "duration": 20,
    "start_time": "2022-08-19T20:56:01.760Z"
   },
   {
    "duration": 26,
    "start_time": "2022-08-19T20:56:10.041Z"
   },
   {
    "duration": 40,
    "start_time": "2022-08-19T20:58:03.076Z"
   },
   {
    "duration": 31,
    "start_time": "2022-08-19T20:58:20.183Z"
   },
   {
    "duration": 24,
    "start_time": "2022-08-19T20:59:51.310Z"
   },
   {
    "duration": 41,
    "start_time": "2022-08-19T21:00:22.156Z"
   },
   {
    "duration": 33,
    "start_time": "2022-08-19T21:00:59.172Z"
   },
   {
    "duration": 350,
    "start_time": "2022-08-19T21:01:40.025Z"
   },
   {
    "duration": 19,
    "start_time": "2022-08-19T21:13:35.003Z"
   },
   {
    "duration": 16,
    "start_time": "2022-08-19T21:14:10.024Z"
   },
   {
    "duration": 18,
    "start_time": "2022-08-19T21:15:52.259Z"
   },
   {
    "duration": 36,
    "start_time": "2022-08-19T21:16:59.578Z"
   },
   {
    "duration": 191,
    "start_time": "2022-08-19T21:18:49.751Z"
   },
   {
    "duration": 198,
    "start_time": "2022-08-19T21:18:57.915Z"
   },
   {
    "duration": 171,
    "start_time": "2022-08-19T21:19:26.410Z"
   },
   {
    "duration": 196,
    "start_time": "2022-08-19T21:24:23.266Z"
   },
   {
    "duration": 25,
    "start_time": "2022-08-19T21:24:53.168Z"
   },
   {
    "duration": 260,
    "start_time": "2022-08-19T21:26:20.743Z"
   },
   {
    "duration": 193,
    "start_time": "2022-08-19T21:27:17.836Z"
   },
   {
    "duration": 200,
    "start_time": "2022-08-19T21:28:59.348Z"
   },
   {
    "duration": 226,
    "start_time": "2022-08-19T21:30:16.902Z"
   },
   {
    "duration": 19,
    "start_time": "2022-08-19T21:31:37.921Z"
   },
   {
    "duration": 226,
    "start_time": "2022-08-19T21:32:18.741Z"
   },
   {
    "duration": 207,
    "start_time": "2022-08-19T21:34:07.263Z"
   },
   {
    "duration": 200,
    "start_time": "2022-08-19T21:34:25.306Z"
   },
   {
    "duration": 278,
    "start_time": "2022-08-19T21:36:03.556Z"
   },
   {
    "duration": 567,
    "start_time": "2022-08-19T21:37:02.053Z"
   },
   {
    "duration": 1300,
    "start_time": "2022-08-22T13:14:20.425Z"
   },
   {
    "duration": 254,
    "start_time": "2022-08-22T13:14:21.727Z"
   },
   {
    "duration": 33,
    "start_time": "2022-08-22T13:14:21.983Z"
   },
   {
    "duration": 225,
    "start_time": "2022-08-22T13:14:22.017Z"
   },
   {
    "duration": 168,
    "start_time": "2022-08-22T13:14:22.244Z"
   },
   {
    "duration": 297,
    "start_time": "2022-08-22T13:14:22.414Z"
   },
   {
    "duration": 241,
    "start_time": "2022-08-22T13:14:22.712Z"
   },
   {
    "duration": 203,
    "start_time": "2022-08-22T13:15:31.641Z"
   },
   {
    "duration": 242,
    "start_time": "2022-08-22T13:16:50.281Z"
   },
   {
    "duration": 255,
    "start_time": "2022-08-22T13:18:11.102Z"
   },
   {
    "duration": 18,
    "start_time": "2022-08-22T13:22:13.293Z"
   },
   {
    "duration": 9,
    "start_time": "2022-08-22T13:23:41.199Z"
   },
   {
    "duration": 14,
    "start_time": "2022-08-22T13:23:48.921Z"
   },
   {
    "duration": 78,
    "start_time": "2022-08-22T13:24:30.938Z"
   },
   {
    "duration": 16,
    "start_time": "2022-08-22T13:24:41.236Z"
   },
   {
    "duration": 14,
    "start_time": "2022-08-22T13:25:27.403Z"
   },
   {
    "duration": 250,
    "start_time": "2022-08-22T13:27:05.413Z"
   },
   {
    "duration": 290,
    "start_time": "2022-08-22T13:27:20.576Z"
   },
   {
    "duration": 228,
    "start_time": "2022-08-22T13:28:18.618Z"
   },
   {
    "duration": 45,
    "start_time": "2022-08-22T13:38:18.142Z"
   },
   {
    "duration": 38,
    "start_time": "2022-08-22T13:38:33.460Z"
   },
   {
    "duration": 41,
    "start_time": "2022-08-22T13:41:43.104Z"
   },
   {
    "duration": 12,
    "start_time": "2022-08-22T13:46:15.351Z"
   },
   {
    "duration": 10,
    "start_time": "2022-08-22T13:46:20.112Z"
   },
   {
    "duration": 1571,
    "start_time": "2022-08-22T13:46:34.327Z"
   },
   {
    "duration": 92,
    "start_time": "2022-08-22T13:46:35.899Z"
   },
   {
    "duration": 31,
    "start_time": "2022-08-22T13:46:35.992Z"
   },
   {
    "duration": 239,
    "start_time": "2022-08-22T13:46:36.024Z"
   },
   {
    "duration": 168,
    "start_time": "2022-08-22T13:46:36.265Z"
   },
   {
    "duration": 298,
    "start_time": "2022-08-22T13:46:36.435Z"
   },
   {
    "duration": 252,
    "start_time": "2022-08-22T13:46:36.735Z"
   },
   {
    "duration": 237,
    "start_time": "2022-08-22T13:46:36.989Z"
   },
   {
    "duration": 9,
    "start_time": "2022-08-22T13:46:37.228Z"
   },
   {
    "duration": 105,
    "start_time": "2022-08-22T13:46:37.239Z"
   },
   {
    "duration": 49,
    "start_time": "2022-08-22T13:47:27.295Z"
   },
   {
    "duration": 40,
    "start_time": "2022-08-22T13:47:38.944Z"
   },
   {
    "duration": 37,
    "start_time": "2022-08-22T13:47:44.122Z"
   },
   {
    "duration": 44,
    "start_time": "2022-08-22T13:52:35.074Z"
   },
   {
    "duration": 118,
    "start_time": "2022-08-22T13:52:48.925Z"
   },
   {
    "duration": 3,
    "start_time": "2022-08-22T13:53:10.894Z"
   },
   {
    "duration": 1129,
    "start_time": "2022-08-22T13:53:16.928Z"
   },
   {
    "duration": 85,
    "start_time": "2022-08-22T13:53:18.059Z"
   },
   {
    "duration": 33,
    "start_time": "2022-08-22T13:53:18.146Z"
   },
   {
    "duration": 237,
    "start_time": "2022-08-22T13:53:18.182Z"
   },
   {
    "duration": 176,
    "start_time": "2022-08-22T13:53:18.422Z"
   },
   {
    "duration": 299,
    "start_time": "2022-08-22T13:53:18.600Z"
   },
   {
    "duration": 241,
    "start_time": "2022-08-22T13:53:18.902Z"
   },
   {
    "duration": 267,
    "start_time": "2022-08-22T13:53:19.145Z"
   },
   {
    "duration": 57,
    "start_time": "2022-08-22T13:53:19.414Z"
   },
   {
    "duration": 2,
    "start_time": "2022-08-22T13:53:19.473Z"
   },
   {
    "duration": 11,
    "start_time": "2022-08-22T14:00:12.131Z"
   },
   {
    "duration": 28,
    "start_time": "2022-08-22T14:01:09.992Z"
   },
   {
    "duration": 7,
    "start_time": "2022-08-22T14:01:36.201Z"
   },
   {
    "duration": 5,
    "start_time": "2022-08-22T14:01:57.496Z"
   },
   {
    "duration": 6,
    "start_time": "2022-08-22T14:02:33.457Z"
   },
   {
    "duration": 7,
    "start_time": "2022-08-22T14:02:55.275Z"
   },
   {
    "duration": 7,
    "start_time": "2022-08-22T14:03:35.037Z"
   },
   {
    "duration": 22,
    "start_time": "2022-08-22T14:04:23.894Z"
   },
   {
    "duration": 20,
    "start_time": "2022-08-22T14:04:51.017Z"
   },
   {
    "duration": 25,
    "start_time": "2022-08-22T14:05:15.411Z"
   },
   {
    "duration": 4,
    "start_time": "2022-08-22T14:10:37.314Z"
   },
   {
    "duration": 17,
    "start_time": "2022-08-22T14:10:45.139Z"
   },
   {
    "duration": 16,
    "start_time": "2022-08-22T14:11:06.225Z"
   },
   {
    "duration": 15,
    "start_time": "2022-08-22T14:11:44.059Z"
   },
   {
    "duration": 15,
    "start_time": "2022-08-22T14:12:28.837Z"
   },
   {
    "duration": 248,
    "start_time": "2022-08-22T14:14:57.370Z"
   },
   {
    "duration": 388,
    "start_time": "2022-08-22T14:52:50.801Z"
   },
   {
    "duration": 1887,
    "start_time": "2022-08-22T14:53:37.262Z"
   },
   {
    "duration": 1977,
    "start_time": "2022-08-22T14:53:49.063Z"
   },
   {
    "duration": 1872,
    "start_time": "2022-08-22T14:54:57.660Z"
   },
   {
    "duration": 257,
    "start_time": "2022-08-22T14:56:42.598Z"
   },
   {
    "duration": 122,
    "start_time": "2022-08-22T15:00:13.043Z"
   },
   {
    "duration": 23,
    "start_time": "2022-08-22T15:00:39.033Z"
   },
   {
    "duration": 22,
    "start_time": "2022-08-22T15:00:45.551Z"
   },
   {
    "duration": 12,
    "start_time": "2022-08-22T15:02:27.181Z"
   },
   {
    "duration": 11,
    "start_time": "2022-08-22T15:04:35.168Z"
   },
   {
    "duration": 9,
    "start_time": "2022-08-22T15:04:47.969Z"
   },
   {
    "duration": 8,
    "start_time": "2022-08-22T15:04:52.802Z"
   },
   {
    "duration": 8,
    "start_time": "2022-08-22T15:05:05.847Z"
   },
   {
    "duration": 9,
    "start_time": "2022-08-22T15:10:57.691Z"
   },
   {
    "duration": 1077,
    "start_time": "2022-08-22T15:11:13.272Z"
   },
   {
    "duration": 86,
    "start_time": "2022-08-22T15:11:14.351Z"
   },
   {
    "duration": 29,
    "start_time": "2022-08-22T15:11:14.438Z"
   },
   {
    "duration": 221,
    "start_time": "2022-08-22T15:11:14.469Z"
   },
   {
    "duration": 165,
    "start_time": "2022-08-22T15:11:14.692Z"
   },
   {
    "duration": 288,
    "start_time": "2022-08-22T15:11:14.859Z"
   },
   {
    "duration": 234,
    "start_time": "2022-08-22T15:11:15.148Z"
   },
   {
    "duration": 294,
    "start_time": "2022-08-22T15:11:15.384Z"
   },
   {
    "duration": 59,
    "start_time": "2022-08-22T15:11:15.680Z"
   },
   {
    "duration": 45,
    "start_time": "2022-08-22T15:11:15.743Z"
   },
   {
    "duration": 119,
    "start_time": "2022-08-22T15:11:15.790Z"
   },
   {
    "duration": 0,
    "start_time": "2022-08-22T15:11:15.910Z"
   },
   {
    "duration": 0,
    "start_time": "2022-08-22T15:11:15.912Z"
   },
   {
    "duration": 290,
    "start_time": "2022-08-22T15:11:45.508Z"
   },
   {
    "duration": 2097,
    "start_time": "2022-08-22T15:11:50.738Z"
   },
   {
    "duration": 4,
    "start_time": "2022-08-22T15:11:56.858Z"
   },
   {
    "duration": 22,
    "start_time": "2022-08-22T15:12:05.362Z"
   },
   {
    "duration": 9,
    "start_time": "2022-08-22T15:14:16.699Z"
   },
   {
    "duration": 9,
    "start_time": "2022-08-22T15:14:21.692Z"
   },
   {
    "duration": 8,
    "start_time": "2022-08-22T15:14:39.038Z"
   },
   {
    "duration": 1902,
    "start_time": "2022-08-22T15:14:46.038Z"
   },
   {
    "duration": 4,
    "start_time": "2022-08-22T15:14:52.051Z"
   },
   {
    "duration": 5,
    "start_time": "2022-08-22T15:14:59.441Z"
   },
   {
    "duration": 50,
    "start_time": "2022-08-22T15:18:02.154Z"
   },
   {
    "duration": 82,
    "start_time": "2022-08-22T15:21:46.569Z"
   },
   {
    "duration": 80,
    "start_time": "2022-08-22T15:22:27.513Z"
   },
   {
    "duration": 51,
    "start_time": "2022-08-22T15:22:49.224Z"
   },
   {
    "duration": 133,
    "start_time": "2022-08-22T15:23:35.907Z"
   },
   {
    "duration": 124,
    "start_time": "2022-08-22T15:24:11.987Z"
   },
   {
    "duration": 42,
    "start_time": "2022-08-22T15:27:31.487Z"
   },
   {
    "duration": 47,
    "start_time": "2022-08-22T15:28:00.611Z"
   },
   {
    "duration": 46,
    "start_time": "2022-08-22T15:28:22.647Z"
   },
   {
    "duration": 45,
    "start_time": "2022-08-22T15:30:58.952Z"
   },
   {
    "duration": 1040,
    "start_time": "2022-08-22T15:31:19.906Z"
   },
   {
    "duration": 84,
    "start_time": "2022-08-22T15:31:20.947Z"
   },
   {
    "duration": 33,
    "start_time": "2022-08-22T15:31:21.032Z"
   },
   {
    "duration": 233,
    "start_time": "2022-08-22T15:31:21.066Z"
   },
   {
    "duration": 166,
    "start_time": "2022-08-22T15:31:21.301Z"
   },
   {
    "duration": 298,
    "start_time": "2022-08-22T15:31:21.469Z"
   },
   {
    "duration": 228,
    "start_time": "2022-08-22T15:31:21.769Z"
   },
   {
    "duration": 245,
    "start_time": "2022-08-22T15:31:21.998Z"
   },
   {
    "duration": 49,
    "start_time": "2022-08-22T15:31:22.245Z"
   },
   {
    "duration": 20,
    "start_time": "2022-08-22T15:31:22.296Z"
   },
   {
    "duration": 266,
    "start_time": "2022-08-22T15:31:22.317Z"
   },
   {
    "duration": 2013,
    "start_time": "2022-08-22T15:31:22.585Z"
   },
   {
    "duration": 4,
    "start_time": "2022-08-22T15:31:24.600Z"
   },
   {
    "duration": 138,
    "start_time": "2022-08-22T15:31:24.606Z"
   },
   {
    "duration": 46,
    "start_time": "2022-08-22T15:31:24.746Z"
   },
   {
    "duration": 106,
    "start_time": "2022-08-22T15:39:04.309Z"
   },
   {
    "duration": 29,
    "start_time": "2022-08-22T15:39:17.149Z"
   },
   {
    "duration": 264,
    "start_time": "2022-08-22T15:39:31.045Z"
   },
   {
    "duration": 13,
    "start_time": "2022-08-22T15:39:37.660Z"
   },
   {
    "duration": 12,
    "start_time": "2022-08-22T15:40:53.396Z"
   },
   {
    "duration": 1066,
    "start_time": "2022-08-22T15:41:00.686Z"
   },
   {
    "duration": 91,
    "start_time": "2022-08-22T15:41:01.754Z"
   },
   {
    "duration": 30,
    "start_time": "2022-08-22T15:41:01.847Z"
   },
   {
    "duration": 269,
    "start_time": "2022-08-22T15:41:01.879Z"
   },
   {
    "duration": 166,
    "start_time": "2022-08-22T15:41:02.150Z"
   },
   {
    "duration": 296,
    "start_time": "2022-08-22T15:41:02.317Z"
   },
   {
    "duration": 238,
    "start_time": "2022-08-22T15:41:02.615Z"
   },
   {
    "duration": 237,
    "start_time": "2022-08-22T15:41:02.854Z"
   },
   {
    "duration": 45,
    "start_time": "2022-08-22T15:41:03.092Z"
   },
   {
    "duration": 37,
    "start_time": "2022-08-22T15:41:03.139Z"
   },
   {
    "duration": 284,
    "start_time": "2022-08-22T15:41:03.178Z"
   },
   {
    "duration": 3514,
    "start_time": "2022-08-22T15:41:03.463Z"
   },
   {
    "duration": 5,
    "start_time": "2022-08-22T15:41:06.979Z"
   },
   {
    "duration": 138,
    "start_time": "2022-08-22T15:41:06.986Z"
   },
   {
    "duration": 111,
    "start_time": "2022-08-22T15:41:07.126Z"
   },
   {
    "duration": 39,
    "start_time": "2022-08-22T15:41:37.737Z"
   },
   {
    "duration": 126,
    "start_time": "2022-08-22T15:42:12.987Z"
   },
   {
    "duration": 124,
    "start_time": "2022-08-22T15:43:08.346Z"
   },
   {
    "duration": 9,
    "start_time": "2022-08-22T16:03:27.466Z"
   },
   {
    "duration": 16,
    "start_time": "2022-08-22T16:03:33.919Z"
   },
   {
    "duration": 18,
    "start_time": "2022-08-22T16:04:07.617Z"
   },
   {
    "duration": 16,
    "start_time": "2022-08-22T16:04:24.396Z"
   },
   {
    "duration": 81,
    "start_time": "2022-08-22T16:05:01.862Z"
   },
   {
    "duration": 18,
    "start_time": "2022-08-22T16:05:06.052Z"
   },
   {
    "duration": 13,
    "start_time": "2022-08-22T16:06:07.687Z"
   },
   {
    "duration": 13,
    "start_time": "2022-08-22T16:06:23.562Z"
   },
   {
    "duration": 13,
    "start_time": "2022-08-22T16:06:42.049Z"
   },
   {
    "duration": 29,
    "start_time": "2022-08-22T16:07:16.741Z"
   },
   {
    "duration": 27,
    "start_time": "2022-08-22T16:07:23.941Z"
   },
   {
    "duration": 1073,
    "start_time": "2022-08-22T16:07:40.262Z"
   },
   {
    "duration": 89,
    "start_time": "2022-08-22T16:07:41.338Z"
   },
   {
    "duration": 28,
    "start_time": "2022-08-22T16:07:41.428Z"
   },
   {
    "duration": 232,
    "start_time": "2022-08-22T16:07:41.458Z"
   },
   {
    "duration": 166,
    "start_time": "2022-08-22T16:07:41.692Z"
   },
   {
    "duration": 297,
    "start_time": "2022-08-22T16:07:41.860Z"
   },
   {
    "duration": 229,
    "start_time": "2022-08-22T16:07:42.159Z"
   },
   {
    "duration": 241,
    "start_time": "2022-08-22T16:07:42.390Z"
   },
   {
    "duration": 50,
    "start_time": "2022-08-22T16:07:42.632Z"
   },
   {
    "duration": 20,
    "start_time": "2022-08-22T16:07:42.684Z"
   },
   {
    "duration": 259,
    "start_time": "2022-08-22T16:07:42.705Z"
   },
   {
    "duration": 3551,
    "start_time": "2022-08-22T16:07:42.965Z"
   },
   {
    "duration": 151,
    "start_time": "2022-08-22T16:07:46.518Z"
   },
   {
    "duration": 36,
    "start_time": "2022-08-22T16:07:46.670Z"
   },
   {
    "duration": 14,
    "start_time": "2022-08-22T16:07:46.708Z"
   },
   {
    "duration": 32,
    "start_time": "2022-08-22T16:10:32.300Z"
   },
   {
    "duration": 35,
    "start_time": "2022-08-22T16:13:01.605Z"
   },
   {
    "duration": 116,
    "start_time": "2022-08-22T16:13:58.521Z"
   },
   {
    "duration": 31,
    "start_time": "2022-08-22T16:14:07.708Z"
   },
   {
    "duration": 25,
    "start_time": "2022-08-22T16:14:26.311Z"
   },
   {
    "duration": 28,
    "start_time": "2022-08-22T16:14:34.369Z"
   },
   {
    "duration": 29,
    "start_time": "2022-08-22T16:37:47.112Z"
   },
   {
    "duration": 951,
    "start_time": "2022-08-22T16:38:53.875Z"
   },
   {
    "duration": 1033,
    "start_time": "2022-08-22T16:39:29.793Z"
   },
   {
    "duration": 28,
    "start_time": "2022-08-22T16:39:46.071Z"
   },
   {
    "duration": 26,
    "start_time": "2022-08-22T16:40:26.671Z"
   },
   {
    "duration": 25,
    "start_time": "2022-08-22T16:40:49.470Z"
   },
   {
    "duration": 33,
    "start_time": "2022-08-22T16:43:40.743Z"
   },
   {
    "duration": 1234,
    "start_time": "2022-08-22T16:44:28.757Z"
   },
   {
    "duration": 101,
    "start_time": "2022-08-22T16:44:29.994Z"
   },
   {
    "duration": 41,
    "start_time": "2022-08-22T16:44:30.100Z"
   },
   {
    "duration": 254,
    "start_time": "2022-08-22T16:44:30.158Z"
   },
   {
    "duration": 183,
    "start_time": "2022-08-22T16:44:30.414Z"
   },
   {
    "duration": 324,
    "start_time": "2022-08-22T16:44:30.598Z"
   },
   {
    "duration": 247,
    "start_time": "2022-08-22T16:44:30.923Z"
   },
   {
    "duration": 270,
    "start_time": "2022-08-22T16:44:31.172Z"
   },
   {
    "duration": 78,
    "start_time": "2022-08-22T16:44:31.445Z"
   },
   {
    "duration": 39,
    "start_time": "2022-08-22T16:44:31.525Z"
   },
   {
    "duration": 277,
    "start_time": "2022-08-22T16:44:31.566Z"
   },
   {
    "duration": 2938,
    "start_time": "2022-08-22T16:44:31.846Z"
   },
   {
    "duration": 136,
    "start_time": "2022-08-22T16:44:34.785Z"
   },
   {
    "duration": 40,
    "start_time": "2022-08-22T16:44:34.922Z"
   },
   {
    "duration": 12,
    "start_time": "2022-08-22T16:44:34.963Z"
   },
   {
    "duration": 136,
    "start_time": "2022-08-22T16:44:34.976Z"
   },
   {
    "duration": 28,
    "start_time": "2022-08-22T16:44:47.532Z"
   },
   {
    "duration": 28,
    "start_time": "2022-08-22T16:45:16.128Z"
   },
   {
    "duration": 42,
    "start_time": "2022-08-22T16:45:22.229Z"
   },
   {
    "duration": 31,
    "start_time": "2022-08-22T16:45:26.495Z"
   },
   {
    "duration": 1141,
    "start_time": "2022-08-22T16:49:28.993Z"
   },
   {
    "duration": 95,
    "start_time": "2022-08-22T16:49:30.137Z"
   },
   {
    "duration": 33,
    "start_time": "2022-08-22T16:49:30.234Z"
   },
   {
    "duration": 265,
    "start_time": "2022-08-22T16:49:30.270Z"
   },
   {
    "duration": 186,
    "start_time": "2022-08-22T16:49:30.536Z"
   },
   {
    "duration": 313,
    "start_time": "2022-08-22T16:49:30.723Z"
   },
   {
    "duration": 247,
    "start_time": "2022-08-22T16:49:31.037Z"
   },
   {
    "duration": 283,
    "start_time": "2022-08-22T16:49:31.285Z"
   },
   {
    "duration": 46,
    "start_time": "2022-08-22T16:49:31.570Z"
   },
   {
    "duration": 57,
    "start_time": "2022-08-22T16:49:31.618Z"
   },
   {
    "duration": 264,
    "start_time": "2022-08-22T16:49:31.676Z"
   },
   {
    "duration": 2124,
    "start_time": "2022-08-22T16:49:31.942Z"
   },
   {
    "duration": 128,
    "start_time": "2022-08-22T16:49:34.067Z"
   },
   {
    "duration": 30,
    "start_time": "2022-08-22T16:49:34.197Z"
   },
   {
    "duration": 12,
    "start_time": "2022-08-22T16:49:34.229Z"
   },
   {
    "duration": 28,
    "start_time": "2022-08-22T16:49:34.258Z"
   },
   {
    "duration": 1328,
    "start_time": "2022-08-23T12:18:56.575Z"
   },
   {
    "duration": 299,
    "start_time": "2022-08-23T12:18:57.905Z"
   },
   {
    "duration": 29,
    "start_time": "2022-08-23T12:18:58.206Z"
   },
   {
    "duration": 236,
    "start_time": "2022-08-23T12:18:58.237Z"
   },
   {
    "duration": 180,
    "start_time": "2022-08-23T12:18:58.474Z"
   },
   {
    "duration": 344,
    "start_time": "2022-08-23T12:18:58.656Z"
   },
   {
    "duration": 233,
    "start_time": "2022-08-23T12:18:59.005Z"
   },
   {
    "duration": 264,
    "start_time": "2022-08-23T12:18:59.240Z"
   },
   {
    "duration": 45,
    "start_time": "2022-08-23T12:18:59.506Z"
   },
   {
    "duration": 21,
    "start_time": "2022-08-23T12:18:59.554Z"
   },
   {
    "duration": 287,
    "start_time": "2022-08-23T12:18:59.576Z"
   },
   {
    "duration": 2240,
    "start_time": "2022-08-23T12:18:59.865Z"
   },
   {
    "duration": 147,
    "start_time": "2022-08-23T12:19:02.107Z"
   },
   {
    "duration": 50,
    "start_time": "2022-08-23T12:19:02.255Z"
   },
   {
    "duration": 13,
    "start_time": "2022-08-23T12:19:02.306Z"
   },
   {
    "duration": 28,
    "start_time": "2022-08-23T12:19:02.320Z"
   },
   {
    "duration": 260,
    "start_time": "2022-08-23T12:20:05.017Z"
   },
   {
    "duration": 325,
    "start_time": "2022-08-23T12:27:04.826Z"
   },
   {
    "duration": 1220,
    "start_time": "2022-08-23T12:27:16.158Z"
   },
   {
    "duration": 86,
    "start_time": "2022-08-23T12:27:17.380Z"
   },
   {
    "duration": 30,
    "start_time": "2022-08-23T12:27:17.468Z"
   },
   {
    "duration": 251,
    "start_time": "2022-08-23T12:27:17.499Z"
   },
   {
    "duration": 173,
    "start_time": "2022-08-23T12:27:17.752Z"
   },
   {
    "duration": 340,
    "start_time": "2022-08-23T12:27:17.927Z"
   },
   {
    "duration": 238,
    "start_time": "2022-08-23T12:27:18.269Z"
   },
   {
    "duration": 255,
    "start_time": "2022-08-23T12:27:18.509Z"
   },
   {
    "duration": 50,
    "start_time": "2022-08-23T12:27:18.766Z"
   },
   {
    "duration": 23,
    "start_time": "2022-08-23T12:27:18.817Z"
   },
   {
    "duration": 274,
    "start_time": "2022-08-23T12:27:18.842Z"
   },
   {
    "duration": 2534,
    "start_time": "2022-08-23T12:27:19.118Z"
   },
   {
    "duration": 155,
    "start_time": "2022-08-23T12:27:21.654Z"
   },
   {
    "duration": 36,
    "start_time": "2022-08-23T12:27:21.812Z"
   },
   {
    "duration": 14,
    "start_time": "2022-08-23T12:27:21.850Z"
   },
   {
    "duration": 41,
    "start_time": "2022-08-23T12:27:21.888Z"
   },
   {
    "duration": 305,
    "start_time": "2022-08-23T12:27:42.989Z"
   },
   {
    "duration": 250,
    "start_time": "2022-08-23T12:27:59.372Z"
   },
   {
    "duration": 235,
    "start_time": "2022-08-23T12:28:10.994Z"
   },
   {
    "duration": 311,
    "start_time": "2022-08-23T12:28:38.390Z"
   },
   {
    "duration": 312,
    "start_time": "2022-08-23T12:28:50.575Z"
   },
   {
    "duration": 301,
    "start_time": "2022-08-23T12:28:58.048Z"
   },
   {
    "duration": 323,
    "start_time": "2022-08-23T12:41:14.604Z"
   },
   {
    "duration": 328,
    "start_time": "2022-08-23T12:42:04.823Z"
   },
   {
    "duration": 247,
    "start_time": "2022-08-23T12:43:49.919Z"
   },
   {
    "duration": 282,
    "start_time": "2022-08-23T12:44:09.064Z"
   },
   {
    "duration": 373,
    "start_time": "2022-08-23T12:46:20.564Z"
   },
   {
    "duration": 44,
    "start_time": "2022-08-23T12:48:16.608Z"
   },
   {
    "duration": 1082,
    "start_time": "2022-08-23T12:55:43.491Z"
   },
   {
    "duration": 85,
    "start_time": "2022-08-23T12:55:44.575Z"
   },
   {
    "duration": 28,
    "start_time": "2022-08-23T12:55:44.661Z"
   },
   {
    "duration": 218,
    "start_time": "2022-08-23T12:55:44.691Z"
   },
   {
    "duration": 161,
    "start_time": "2022-08-23T12:55:44.911Z"
   },
   {
    "duration": 295,
    "start_time": "2022-08-23T12:55:45.074Z"
   },
   {
    "duration": 233,
    "start_time": "2022-08-23T12:55:45.371Z"
   },
   {
    "duration": 232,
    "start_time": "2022-08-23T12:55:45.606Z"
   },
   {
    "duration": 47,
    "start_time": "2022-08-23T12:55:45.840Z"
   },
   {
    "duration": 20,
    "start_time": "2022-08-23T12:55:45.890Z"
   },
   {
    "duration": 265,
    "start_time": "2022-08-23T12:55:45.911Z"
   },
   {
    "duration": 2704,
    "start_time": "2022-08-23T12:55:46.178Z"
   },
   {
    "duration": 148,
    "start_time": "2022-08-23T12:55:48.886Z"
   },
   {
    "duration": 30,
    "start_time": "2022-08-23T12:55:49.036Z"
   },
   {
    "duration": 26,
    "start_time": "2022-08-23T12:55:49.068Z"
   },
   {
    "duration": 26,
    "start_time": "2022-08-23T12:55:49.096Z"
   },
   {
    "duration": 229,
    "start_time": "2022-08-23T14:12:56.906Z"
   },
   {
    "duration": 1101,
    "start_time": "2022-08-23T15:14:43.171Z"
   },
   {
    "duration": 83,
    "start_time": "2022-08-23T15:14:44.274Z"
   },
   {
    "duration": 26,
    "start_time": "2022-08-23T15:14:44.359Z"
   },
   {
    "duration": 213,
    "start_time": "2022-08-23T15:14:44.387Z"
   },
   {
    "duration": 148,
    "start_time": "2022-08-23T15:14:44.602Z"
   },
   {
    "duration": 311,
    "start_time": "2022-08-23T15:14:44.751Z"
   },
   {
    "duration": 226,
    "start_time": "2022-08-23T15:14:45.063Z"
   },
   {
    "duration": 227,
    "start_time": "2022-08-23T15:14:45.290Z"
   },
   {
    "duration": 44,
    "start_time": "2022-08-23T15:14:45.518Z"
   },
   {
    "duration": 34,
    "start_time": "2022-08-23T15:14:45.565Z"
   },
   {
    "duration": 249,
    "start_time": "2022-08-23T15:14:45.600Z"
   },
   {
    "duration": 2875,
    "start_time": "2022-08-23T15:14:45.850Z"
   },
   {
    "duration": 149,
    "start_time": "2022-08-23T15:14:48.727Z"
   },
   {
    "duration": 39,
    "start_time": "2022-08-23T15:14:48.877Z"
   },
   {
    "duration": 12,
    "start_time": "2022-08-23T15:14:48.917Z"
   },
   {
    "duration": 37,
    "start_time": "2022-08-23T15:14:48.930Z"
   },
   {
    "duration": 48,
    "start_time": "2022-08-24T11:36:01.825Z"
   },
   {
    "duration": 1330,
    "start_time": "2022-08-24T11:36:05.110Z"
   },
   {
    "duration": 284,
    "start_time": "2022-08-24T11:36:06.442Z"
   },
   {
    "duration": 75,
    "start_time": "2022-08-24T11:36:06.728Z"
   },
   {
    "duration": 483,
    "start_time": "2022-08-24T11:36:06.805Z"
   },
   {
    "duration": 324,
    "start_time": "2022-08-24T11:36:07.290Z"
   },
   {
    "duration": 608,
    "start_time": "2022-08-24T11:36:07.616Z"
   },
   {
    "duration": 274,
    "start_time": "2022-08-24T11:36:08.225Z"
   },
   {
    "duration": 242,
    "start_time": "2022-08-24T11:36:08.500Z"
   },
   {
    "duration": 243,
    "start_time": "2022-08-24T11:36:08.743Z"
   },
   {
    "duration": 46,
    "start_time": "2022-08-24T11:36:08.988Z"
   },
   {
    "duration": 26,
    "start_time": "2022-08-24T11:36:09.036Z"
   },
   {
    "duration": 352,
    "start_time": "2022-08-24T11:36:09.064Z"
   },
   {
    "duration": 3269,
    "start_time": "2022-08-24T11:36:09.417Z"
   },
   {
    "duration": 149,
    "start_time": "2022-08-24T11:36:12.688Z"
   },
   {
    "duration": 34,
    "start_time": "2022-08-24T11:36:12.839Z"
   },
   {
    "duration": 25,
    "start_time": "2022-08-24T11:36:12.875Z"
   },
   {
    "duration": 44,
    "start_time": "2022-08-24T11:36:12.901Z"
   },
   {
    "duration": 393,
    "start_time": "2022-08-24T11:36:22.426Z"
   },
   {
    "duration": 463,
    "start_time": "2022-08-24T11:37:04.109Z"
   },
   {
    "duration": 397,
    "start_time": "2022-08-24T11:37:08.471Z"
   },
   {
    "duration": 416,
    "start_time": "2022-08-24T11:37:25.842Z"
   },
   {
    "duration": 8,
    "start_time": "2022-08-24T11:41:49.759Z"
   },
   {
    "duration": 77,
    "start_time": "2022-08-24T15:45:19.653Z"
   },
   {
    "duration": 68,
    "start_time": "2022-08-24T15:54:38.253Z"
   },
   {
    "duration": 1300,
    "start_time": "2022-08-24T16:06:03.292Z"
   },
   {
    "duration": 142,
    "start_time": "2022-08-24T16:06:04.594Z"
   },
   {
    "duration": 25,
    "start_time": "2022-08-24T16:06:04.737Z"
   },
   {
    "duration": 239,
    "start_time": "2022-08-24T16:06:04.764Z"
   },
   {
    "duration": 182,
    "start_time": "2022-08-24T16:06:05.005Z"
   },
   {
    "duration": 349,
    "start_time": "2022-08-24T16:06:05.188Z"
   },
   {
    "duration": 420,
    "start_time": "2022-08-24T16:06:05.540Z"
   },
   {
    "duration": 303,
    "start_time": "2022-08-24T16:06:05.962Z"
   },
   {
    "duration": 280,
    "start_time": "2022-08-24T16:06:06.267Z"
   },
   {
    "duration": 44,
    "start_time": "2022-08-24T16:06:06.550Z"
   },
   {
    "duration": 17,
    "start_time": "2022-08-24T16:06:06.595Z"
   },
   {
    "duration": 31,
    "start_time": "2022-08-24T16:06:06.613Z"
   },
   {
    "duration": 368,
    "start_time": "2022-08-24T16:06:06.646Z"
   },
   {
    "duration": 3086,
    "start_time": "2022-08-24T16:06:07.016Z"
   },
   {
    "duration": 160,
    "start_time": "2022-08-24T16:06:10.104Z"
   },
   {
    "duration": 52,
    "start_time": "2022-08-24T16:06:10.266Z"
   },
   {
    "duration": 17,
    "start_time": "2022-08-24T16:06:10.321Z"
   },
   {
    "duration": 34,
    "start_time": "2022-08-24T16:06:10.339Z"
   },
   {
    "duration": 100,
    "start_time": "2022-08-24T16:06:58.284Z"
   },
   {
    "duration": 128,
    "start_time": "2022-08-24T16:07:18.865Z"
   },
   {
    "duration": 12,
    "start_time": "2022-08-24T16:31:50.860Z"
   },
   {
    "duration": 1107,
    "start_time": "2022-08-24T16:32:04.035Z"
   },
   {
    "duration": 93,
    "start_time": "2022-08-24T16:32:05.144Z"
   },
   {
    "duration": 28,
    "start_time": "2022-08-24T16:32:05.239Z"
   },
   {
    "duration": 240,
    "start_time": "2022-08-24T16:32:05.269Z"
   },
   {
    "duration": 169,
    "start_time": "2022-08-24T16:32:05.511Z"
   },
   {
    "duration": 316,
    "start_time": "2022-08-24T16:32:05.682Z"
   },
   {
    "duration": 492,
    "start_time": "2022-08-24T16:32:06.000Z"
   },
   {
    "duration": 251,
    "start_time": "2022-08-24T16:32:06.493Z"
   },
   {
    "duration": 259,
    "start_time": "2022-08-24T16:32:06.745Z"
   },
   {
    "duration": 53,
    "start_time": "2022-08-24T16:32:07.007Z"
   },
   {
    "duration": 7,
    "start_time": "2022-08-24T16:32:07.061Z"
   },
   {
    "duration": 46,
    "start_time": "2022-08-24T16:32:07.070Z"
   },
   {
    "duration": 349,
    "start_time": "2022-08-24T16:32:07.118Z"
   },
   {
    "duration": 3241,
    "start_time": "2022-08-24T16:32:07.468Z"
   },
   {
    "duration": 139,
    "start_time": "2022-08-24T16:32:10.711Z"
   },
   {
    "duration": 11,
    "start_time": "2022-08-24T16:32:10.851Z"
   },
   {
    "duration": 43,
    "start_time": "2022-08-24T16:32:10.863Z"
   },
   {
    "duration": 30,
    "start_time": "2022-08-24T16:32:10.910Z"
   },
   {
    "duration": 3,
    "start_time": "2022-08-24T16:33:08.900Z"
   },
   {
    "duration": 6,
    "start_time": "2022-08-24T16:33:20.120Z"
   },
   {
    "duration": 14,
    "start_time": "2022-08-24T16:35:46.757Z"
   },
   {
    "duration": 13,
    "start_time": "2022-08-24T16:36:10.362Z"
   },
   {
    "duration": 14,
    "start_time": "2022-08-24T16:37:13.754Z"
   },
   {
    "duration": 55,
    "start_time": "2022-08-24T16:45:28.030Z"
   },
   {
    "duration": 34,
    "start_time": "2022-08-24T16:45:44.856Z"
   },
   {
    "duration": 19,
    "start_time": "2022-08-24T16:55:29.513Z"
   },
   {
    "duration": 15,
    "start_time": "2022-08-24T16:56:15.502Z"
   },
   {
    "duration": 43,
    "start_time": "2022-08-24T16:57:47.826Z"
   },
   {
    "duration": 1102,
    "start_time": "2022-08-24T16:57:54.874Z"
   },
   {
    "duration": 188,
    "start_time": "2022-08-24T16:57:55.979Z"
   },
   {
    "duration": 31,
    "start_time": "2022-08-24T16:57:56.169Z"
   },
   {
    "duration": 255,
    "start_time": "2022-08-24T16:57:56.203Z"
   },
   {
    "duration": 175,
    "start_time": "2022-08-24T16:57:56.460Z"
   },
   {
    "duration": 302,
    "start_time": "2022-08-24T16:57:56.636Z"
   },
   {
    "duration": 445,
    "start_time": "2022-08-24T16:57:56.940Z"
   },
   {
    "duration": 270,
    "start_time": "2022-08-24T16:57:57.387Z"
   },
   {
    "duration": 241,
    "start_time": "2022-08-24T16:57:57.659Z"
   },
   {
    "duration": 52,
    "start_time": "2022-08-24T16:57:57.902Z"
   },
   {
    "duration": 7,
    "start_time": "2022-08-24T16:57:57.956Z"
   },
   {
    "duration": 39,
    "start_time": "2022-08-24T16:57:57.964Z"
   },
   {
    "duration": 341,
    "start_time": "2022-08-24T16:57:58.005Z"
   },
   {
    "duration": 2078,
    "start_time": "2022-08-24T16:57:58.347Z"
   },
   {
    "duration": 142,
    "start_time": "2022-08-24T16:58:00.427Z"
   },
   {
    "duration": 15,
    "start_time": "2022-08-24T16:58:00.571Z"
   },
   {
    "duration": 37,
    "start_time": "2022-08-24T16:58:00.588Z"
   },
   {
    "duration": 32,
    "start_time": "2022-08-24T16:58:00.626Z"
   },
   {
    "duration": 53,
    "start_time": "2022-08-24T17:00:35.504Z"
   },
   {
    "duration": 14,
    "start_time": "2022-08-24T17:03:52.955Z"
   },
   {
    "duration": 14,
    "start_time": "2022-08-24T17:10:17.342Z"
   },
   {
    "duration": 10,
    "start_time": "2022-08-24T17:10:37.983Z"
   },
   {
    "duration": 23,
    "start_time": "2022-08-24T17:11:09.576Z"
   },
   {
    "duration": 11,
    "start_time": "2022-08-24T17:11:21.944Z"
   },
   {
    "duration": 71,
    "start_time": "2022-08-24T17:12:25.624Z"
   },
   {
    "duration": 12,
    "start_time": "2022-08-24T17:12:31.487Z"
   },
   {
    "duration": 12,
    "start_time": "2022-08-24T17:13:50.669Z"
   },
   {
    "duration": 13,
    "start_time": "2022-08-24T17:14:17.712Z"
   },
   {
    "duration": 1172,
    "start_time": "2022-08-24T17:14:24.029Z"
   },
   {
    "duration": 93,
    "start_time": "2022-08-24T17:14:25.203Z"
   },
   {
    "duration": 31,
    "start_time": "2022-08-24T17:14:25.298Z"
   },
   {
    "duration": 242,
    "start_time": "2022-08-24T17:14:25.330Z"
   },
   {
    "duration": 189,
    "start_time": "2022-08-24T17:14:25.574Z"
   },
   {
    "duration": 386,
    "start_time": "2022-08-24T17:14:25.765Z"
   },
   {
    "duration": 545,
    "start_time": "2022-08-24T17:14:26.153Z"
   },
   {
    "duration": 227,
    "start_time": "2022-08-24T17:14:26.706Z"
   },
   {
    "duration": 253,
    "start_time": "2022-08-24T17:14:26.935Z"
   },
   {
    "duration": 50,
    "start_time": "2022-08-24T17:14:27.191Z"
   },
   {
    "duration": 6,
    "start_time": "2022-08-24T17:14:27.243Z"
   },
   {
    "duration": 20,
    "start_time": "2022-08-24T17:14:27.251Z"
   },
   {
    "duration": 349,
    "start_time": "2022-08-24T17:14:27.273Z"
   },
   {
    "duration": 3196,
    "start_time": "2022-08-24T17:14:27.623Z"
   },
   {
    "duration": 132,
    "start_time": "2022-08-24T17:14:30.821Z"
   },
   {
    "duration": 13,
    "start_time": "2022-08-24T17:14:30.955Z"
   },
   {
    "duration": 18,
    "start_time": "2022-08-24T17:14:30.969Z"
   },
   {
    "duration": 46,
    "start_time": "2022-08-24T17:14:30.988Z"
   },
   {
    "duration": 6,
    "start_time": "2022-08-24T17:14:41.132Z"
   },
   {
    "duration": 14,
    "start_time": "2022-08-24T17:15:41.319Z"
   },
   {
    "duration": 16,
    "start_time": "2022-08-24T17:15:49.690Z"
   },
   {
    "duration": 228,
    "start_time": "2022-08-24T17:15:57.278Z"
   },
   {
    "duration": 6,
    "start_time": "2022-08-24T17:16:06.676Z"
   },
   {
    "duration": 100,
    "start_time": "2022-08-24T17:24:12.532Z"
   },
   {
    "duration": 17,
    "start_time": "2022-08-24T17:24:20.520Z"
   },
   {
    "duration": 22,
    "start_time": "2022-08-24T17:24:42.576Z"
   },
   {
    "duration": 18,
    "start_time": "2022-08-24T17:25:19.144Z"
   },
   {
    "duration": 7,
    "start_time": "2022-08-24T17:26:46.485Z"
   },
   {
    "duration": 1381,
    "start_time": "2022-08-25T05:52:28.355Z"
   },
   {
    "duration": 355,
    "start_time": "2022-08-25T05:52:29.738Z"
   },
   {
    "duration": 55,
    "start_time": "2022-08-25T05:52:30.095Z"
   },
   {
    "duration": 243,
    "start_time": "2022-08-25T05:52:30.152Z"
   },
   {
    "duration": 177,
    "start_time": "2022-08-25T05:52:30.404Z"
   },
   {
    "duration": 370,
    "start_time": "2022-08-25T05:52:30.583Z"
   },
   {
    "duration": 479,
    "start_time": "2022-08-25T05:52:30.955Z"
   },
   {
    "duration": 338,
    "start_time": "2022-08-25T05:52:31.436Z"
   },
   {
    "duration": 286,
    "start_time": "2022-08-25T05:52:31.776Z"
   },
   {
    "duration": 65,
    "start_time": "2022-08-25T05:52:32.064Z"
   },
   {
    "duration": 18,
    "start_time": "2022-08-25T05:52:32.131Z"
   },
   {
    "duration": 44,
    "start_time": "2022-08-25T05:52:32.151Z"
   },
   {
    "duration": 399,
    "start_time": "2022-08-25T05:52:32.197Z"
   },
   {
    "duration": 2466,
    "start_time": "2022-08-25T05:52:32.599Z"
   },
   {
    "duration": 162,
    "start_time": "2022-08-25T05:52:35.067Z"
   },
   {
    "duration": 7,
    "start_time": "2022-08-25T05:52:35.232Z"
   },
   {
    "duration": 21,
    "start_time": "2022-08-25T05:52:35.241Z"
   },
   {
    "duration": 45,
    "start_time": "2022-08-25T05:52:35.264Z"
   },
   {
    "duration": 129,
    "start_time": "2022-08-25T05:54:51.855Z"
   },
   {
    "duration": 136,
    "start_time": "2022-08-25T06:02:45.560Z"
   },
   {
    "duration": 147,
    "start_time": "2022-08-25T06:03:28.382Z"
   },
   {
    "duration": 130,
    "start_time": "2022-08-25T06:05:16.327Z"
   },
   {
    "duration": 14,
    "start_time": "2022-08-25T06:07:32.680Z"
   },
   {
    "duration": 130,
    "start_time": "2022-08-25T06:09:25.653Z"
   },
   {
    "duration": 27,
    "start_time": "2022-08-25T06:09:49.697Z"
   },
   {
    "duration": 26,
    "start_time": "2022-08-25T06:12:15.291Z"
   },
   {
    "duration": 25,
    "start_time": "2022-08-25T06:14:06.931Z"
   },
   {
    "duration": 12,
    "start_time": "2022-08-25T06:16:30.480Z"
   },
   {
    "duration": 25,
    "start_time": "2022-08-25T06:17:08.225Z"
   },
   {
    "duration": 911,
    "start_time": "2022-08-25T06:42:13.464Z"
   },
   {
    "duration": 34,
    "start_time": "2022-08-25T06:43:26.658Z"
   },
   {
    "duration": 19,
    "start_time": "2022-08-25T06:43:42.726Z"
   },
   {
    "duration": 17,
    "start_time": "2022-08-25T06:44:27.821Z"
   },
   {
    "duration": 7,
    "start_time": "2022-08-25T07:00:53.966Z"
   },
   {
    "duration": 8,
    "start_time": "2022-08-25T07:01:28.084Z"
   },
   {
    "duration": 20,
    "start_time": "2022-08-25T07:02:28.167Z"
   },
   {
    "duration": 20,
    "start_time": "2022-08-25T07:02:37.626Z"
   },
   {
    "duration": 19,
    "start_time": "2022-08-25T07:02:49.726Z"
   },
   {
    "duration": 24,
    "start_time": "2022-08-25T07:03:33.321Z"
   },
   {
    "duration": 7,
    "start_time": "2022-08-25T07:03:50.951Z"
   },
   {
    "duration": 12,
    "start_time": "2022-08-25T07:05:00.075Z"
   },
   {
    "duration": 12,
    "start_time": "2022-08-25T07:06:09.220Z"
   },
   {
    "duration": 23,
    "start_time": "2022-08-25T07:06:33.723Z"
   },
   {
    "duration": 16,
    "start_time": "2022-08-25T07:07:47.336Z"
   },
   {
    "duration": 18,
    "start_time": "2022-08-25T07:08:05.081Z"
   },
   {
    "duration": 30,
    "start_time": "2022-08-25T07:08:59.647Z"
   },
   {
    "duration": 223,
    "start_time": "2022-08-25T07:12:22.244Z"
   },
   {
    "duration": 210,
    "start_time": "2022-08-25T07:12:43.936Z"
   },
   {
    "duration": 1127,
    "start_time": "2022-08-25T07:25:16.658Z"
   },
   {
    "duration": 93,
    "start_time": "2022-08-25T07:25:17.787Z"
   },
   {
    "duration": 33,
    "start_time": "2022-08-25T07:25:17.881Z"
   },
   {
    "duration": 222,
    "start_time": "2022-08-25T07:25:17.917Z"
   },
   {
    "duration": 171,
    "start_time": "2022-08-25T07:25:18.142Z"
   },
   {
    "duration": 297,
    "start_time": "2022-08-25T07:25:18.315Z"
   },
   {
    "duration": 401,
    "start_time": "2022-08-25T07:25:18.618Z"
   },
   {
    "duration": 23,
    "start_time": "2022-08-25T07:25:19.020Z"
   },
   {
    "duration": 20,
    "start_time": "2022-08-25T07:25:19.044Z"
   },
   {
    "duration": 234,
    "start_time": "2022-08-25T07:25:19.067Z"
   },
   {
    "duration": 228,
    "start_time": "2022-08-25T07:25:19.314Z"
   },
   {
    "duration": 45,
    "start_time": "2022-08-25T07:25:19.544Z"
   },
   {
    "duration": 16,
    "start_time": "2022-08-25T07:25:19.604Z"
   },
   {
    "duration": 22,
    "start_time": "2022-08-25T07:25:19.622Z"
   },
   {
    "duration": 330,
    "start_time": "2022-08-25T07:25:19.645Z"
   },
   {
    "duration": 3096,
    "start_time": "2022-08-25T07:25:19.977Z"
   },
   {
    "duration": 141,
    "start_time": "2022-08-25T07:25:23.075Z"
   },
   {
    "duration": 24,
    "start_time": "2022-08-25T07:25:23.218Z"
   },
   {
    "duration": 13,
    "start_time": "2022-08-25T07:25:23.243Z"
   },
   {
    "duration": 31,
    "start_time": "2022-08-25T07:25:23.257Z"
   },
   {
    "duration": 123,
    "start_time": "2022-08-25T13:23:03.773Z"
   },
   {
    "duration": 75,
    "start_time": "2022-08-25T13:23:58.258Z"
   },
   {
    "duration": 1258,
    "start_time": "2022-08-25T13:24:01.349Z"
   },
   {
    "duration": 141,
    "start_time": "2022-08-25T13:24:02.609Z"
   },
   {
    "duration": 32,
    "start_time": "2022-08-25T13:24:02.751Z"
   },
   {
    "duration": 253,
    "start_time": "2022-08-25T13:24:02.786Z"
   },
   {
    "duration": 218,
    "start_time": "2022-08-25T13:24:03.041Z"
   },
   {
    "duration": 355,
    "start_time": "2022-08-25T13:24:03.261Z"
   },
   {
    "duration": 456,
    "start_time": "2022-08-25T13:24:03.618Z"
   },
   {
    "duration": 33,
    "start_time": "2022-08-25T13:24:04.076Z"
   },
   {
    "duration": 23,
    "start_time": "2022-08-25T13:24:04.111Z"
   },
   {
    "duration": 99,
    "start_time": "2022-08-25T13:24:04.138Z"
   },
   {
    "duration": 221,
    "start_time": "2022-08-25T13:24:04.240Z"
   },
   {
    "duration": 265,
    "start_time": "2022-08-25T13:24:04.463Z"
   },
   {
    "duration": 126,
    "start_time": "2022-08-25T13:24:04.729Z"
   },
   {
    "duration": 8,
    "start_time": "2022-08-25T13:24:04.856Z"
   },
   {
    "duration": 45,
    "start_time": "2022-08-25T13:24:04.866Z"
   },
   {
    "duration": 301,
    "start_time": "2022-08-25T13:24:04.913Z"
   },
   {
    "duration": 3348,
    "start_time": "2022-08-25T13:24:05.216Z"
   },
   {
    "duration": 129,
    "start_time": "2022-08-25T13:24:08.565Z"
   },
   {
    "duration": 25,
    "start_time": "2022-08-25T13:24:08.695Z"
   },
   {
    "duration": 14,
    "start_time": "2022-08-25T13:24:08.721Z"
   },
   {
    "duration": 22,
    "start_time": "2022-08-25T13:24:08.736Z"
   },
   {
    "duration": 19,
    "start_time": "2022-08-25T13:26:46.000Z"
   },
   {
    "duration": 17,
    "start_time": "2022-08-25T13:27:01.366Z"
   },
   {
    "duration": 5,
    "start_time": "2022-08-25T13:28:24.310Z"
   },
   {
    "duration": 10,
    "start_time": "2022-08-25T13:28:28.824Z"
   },
   {
    "duration": 111,
    "start_time": "2022-08-25T13:28:34.429Z"
   },
   {
    "duration": 14,
    "start_time": "2022-08-25T13:28:35.862Z"
   },
   {
    "duration": 14,
    "start_time": "2022-08-25T13:29:01.250Z"
   },
   {
    "duration": 600,
    "start_time": "2022-08-25T13:29:31.283Z"
   },
   {
    "duration": 2627,
    "start_time": "2022-08-25T13:29:41.126Z"
   },
   {
    "duration": 1759,
    "start_time": "2022-08-25T13:29:52.068Z"
   },
   {
    "duration": 1708,
    "start_time": "2022-08-25T13:29:59.526Z"
   },
   {
    "duration": 1733,
    "start_time": "2022-08-25T13:30:04.618Z"
   },
   {
    "duration": 1789,
    "start_time": "2022-08-25T13:30:11.891Z"
   },
   {
    "duration": 1799,
    "start_time": "2022-08-25T13:30:17.490Z"
   },
   {
    "duration": 2134,
    "start_time": "2022-08-25T13:30:47.730Z"
   },
   {
    "duration": 1789,
    "start_time": "2022-08-25T13:30:55.732Z"
   }
  ],
  "kernelspec": {
   "display_name": "Python 3 (ipykernel)",
   "language": "python",
   "name": "python3"
  },
  "language_info": {
   "codemirror_mode": {
    "name": "ipython",
    "version": 3
   },
   "file_extension": ".py",
   "mimetype": "text/x-python",
   "name": "python",
   "nbconvert_exporter": "python",
   "pygments_lexer": "ipython3",
   "version": "3.9.7"
  },
  "toc": {
   "base_numbering": 1,
   "nav_menu": {},
   "number_sections": true,
   "sideBar": true,
   "skip_h1_title": true,
   "title_cell": "Table of Contents",
   "title_sidebar": "Contents",
   "toc_cell": false,
   "toc_position": {},
   "toc_section_display": true,
   "toc_window_display": true
  }
 },
 "nbformat": 4,
 "nbformat_minor": 2
}
