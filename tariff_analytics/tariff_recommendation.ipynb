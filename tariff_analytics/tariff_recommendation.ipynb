{
 "cells": [
  {
   "cell_type": "markdown",
   "metadata": {},
   "source": [
    "# Определение перспективного тарифа для телеком-компании\n",
    "\n",
    "Клиентам предлагают два тарифных плана: «Смарт» и «Ультра». Чтобы скорректировать рекламный бюджет, коммерческий департамент хочет понять, какой тариф приносит больше денег.\n",
    "\n",
    "Предстоит сделать предварительный анализ тарифов на небольшой выборке клиентов. В нашем распоряжении данные 500 пользователей «Мегалайна»: кто они, откуда, каким тарифом пользуются, сколько звонков и сообщений каждый отправил за 2018 год. Нужно проанализировать поведение клиентов и сделать вывод — какой тариф лучше.\n",
    "\n",
    "**Описание тарифов**\n",
    "\n",
    "Тариф «Смарт»\n",
    "\n",
    "* Ежемесячная плата: 550 рублей\n",
    "* Включено 500 минут разговора, 50 сообщений и 15 Гб интернет-трафика\n",
    "* Стоимость услуг сверх тарифного пакета:\n",
    "* минута разговора: 3 рубля\n",
    "* сообщение: 3 рубля\n",
    "* 1 Гб интернет-трафика: 200 рублей\n",
    "\n",
    "Тариф «Ультра»\n",
    "\n",
    "* Ежемесячная плата: 1950 рублей\n",
    "* Включено 3000 минут разговора, 1000 сообщений и 30 Гб интернет-трафика\n",
    "* Стоимость услуг сверх тарифного пакета:\n",
    "* минута разговора: 1 рубль\n",
    "* сообщение: 1 рубль\n",
    "* 1 Гб интернет-трафика: 150 рублей\n",
    "\n",
    "\n",
    "Необходимо проверить гипотезы:\n",
    "* средняя выручка пользователей тарифов «Ультра» и «Смарт» различаются;\n",
    "* средняя выручка пользователей из Москвы отличается от выручки пользователей из других регионов."
   ]
  },
  {
   "cell_type": "markdown",
   "metadata": {},
   "source": [
    "## Изучение данных"
   ]
  },
  {
   "cell_type": "markdown",
   "metadata": {},
   "source": [
    "Составим первое представление о данных."
   ]
  },
  {
   "cell_type": "code",
   "execution_count": 1,
   "metadata": {},
   "outputs": [
    {
     "data": {
      "text/html": [
       "<div>\n",
       "<style scoped>\n",
       "    .dataframe tbody tr th:only-of-type {\n",
       "        vertical-align: middle;\n",
       "    }\n",
       "\n",
       "    .dataframe tbody tr th {\n",
       "        vertical-align: top;\n",
       "    }\n",
       "\n",
       "    .dataframe thead th {\n",
       "        text-align: right;\n",
       "    }\n",
       "</style>\n",
       "<table border=\"1\" class=\"dataframe\">\n",
       "  <thead>\n",
       "    <tr style=\"text-align: right;\">\n",
       "      <th></th>\n",
       "      <th>id</th>\n",
       "      <th>call_date</th>\n",
       "      <th>duration</th>\n",
       "      <th>user_id</th>\n",
       "    </tr>\n",
       "  </thead>\n",
       "  <tbody>\n",
       "    <tr>\n",
       "      <th>0</th>\n",
       "      <td>1000_0</td>\n",
       "      <td>2018-07-25</td>\n",
       "      <td>0.00</td>\n",
       "      <td>1000</td>\n",
       "    </tr>\n",
       "    <tr>\n",
       "      <th>1</th>\n",
       "      <td>1000_1</td>\n",
       "      <td>2018-08-17</td>\n",
       "      <td>0.00</td>\n",
       "      <td>1000</td>\n",
       "    </tr>\n",
       "    <tr>\n",
       "      <th>2</th>\n",
       "      <td>1000_2</td>\n",
       "      <td>2018-06-11</td>\n",
       "      <td>2.85</td>\n",
       "      <td>1000</td>\n",
       "    </tr>\n",
       "    <tr>\n",
       "      <th>3</th>\n",
       "      <td>1000_3</td>\n",
       "      <td>2018-09-21</td>\n",
       "      <td>13.80</td>\n",
       "      <td>1000</td>\n",
       "    </tr>\n",
       "    <tr>\n",
       "      <th>4</th>\n",
       "      <td>1000_4</td>\n",
       "      <td>2018-12-15</td>\n",
       "      <td>5.18</td>\n",
       "      <td>1000</td>\n",
       "    </tr>\n",
       "    <tr>\n",
       "      <th>5</th>\n",
       "      <td>1000_5</td>\n",
       "      <td>2018-11-02</td>\n",
       "      <td>0.00</td>\n",
       "      <td>1000</td>\n",
       "    </tr>\n",
       "    <tr>\n",
       "      <th>6</th>\n",
       "      <td>1000_6</td>\n",
       "      <td>2018-10-18</td>\n",
       "      <td>0.00</td>\n",
       "      <td>1000</td>\n",
       "    </tr>\n",
       "    <tr>\n",
       "      <th>7</th>\n",
       "      <td>1000_7</td>\n",
       "      <td>2018-08-22</td>\n",
       "      <td>18.31</td>\n",
       "      <td>1000</td>\n",
       "    </tr>\n",
       "    <tr>\n",
       "      <th>8</th>\n",
       "      <td>1000_8</td>\n",
       "      <td>2018-09-15</td>\n",
       "      <td>18.44</td>\n",
       "      <td>1000</td>\n",
       "    </tr>\n",
       "    <tr>\n",
       "      <th>9</th>\n",
       "      <td>1000_9</td>\n",
       "      <td>2018-08-15</td>\n",
       "      <td>0.00</td>\n",
       "      <td>1000</td>\n",
       "    </tr>\n",
       "  </tbody>\n",
       "</table>\n",
       "</div>"
      ],
      "text/plain": [
       "       id   call_date  duration  user_id\n",
       "0  1000_0  2018-07-25      0.00     1000\n",
       "1  1000_1  2018-08-17      0.00     1000\n",
       "2  1000_2  2018-06-11      2.85     1000\n",
       "3  1000_3  2018-09-21     13.80     1000\n",
       "4  1000_4  2018-12-15      5.18     1000\n",
       "5  1000_5  2018-11-02      0.00     1000\n",
       "6  1000_6  2018-10-18      0.00     1000\n",
       "7  1000_7  2018-08-22     18.31     1000\n",
       "8  1000_8  2018-09-15     18.44     1000\n",
       "9  1000_9  2018-08-15      0.00     1000"
      ]
     },
     "execution_count": 1,
     "metadata": {},
     "output_type": "execute_result"
    }
   ],
   "source": [
    "import pandas as pd\n",
    "import matplotlib.pyplot as plt\n",
    "import numpy as np\n",
    "from scipy import stats as st\n",
    "\n",
    "calls = pd.read_csv('/datasets/calls.csv')\n",
    "users = pd.read_csv('/datasets/users.csv')\n",
    "messages = pd.read_csv('/datasets/messages.csv')\n",
    "internet = pd.read_csv('/datasets/internet.csv')\n",
    "tariffs = pd.read_csv('/datasets/tariffs.csv')\n",
    "calls.head(10)"
   ]
  },
  {
   "cell_type": "markdown",
   "metadata": {},
   "source": [
    "Получили первый 10 строк таблицы `calls`, теперь посмотрим общую информацию:"
   ]
  },
  {
   "cell_type": "code",
   "execution_count": 2,
   "metadata": {},
   "outputs": [
    {
     "name": "stdout",
     "output_type": "stream",
     "text": [
      "<class 'pandas.core.frame.DataFrame'>\n",
      "RangeIndex: 202607 entries, 0 to 202606\n",
      "Data columns (total 4 columns):\n",
      " #   Column     Non-Null Count   Dtype  \n",
      "---  ------     --------------   -----  \n",
      " 0   id         202607 non-null  object \n",
      " 1   call_date  202607 non-null  object \n",
      " 2   duration   202607 non-null  float64\n",
      " 3   user_id    202607 non-null  int64  \n",
      "dtypes: float64(1), int64(1), object(2)\n",
      "memory usage: 6.2+ MB\n"
     ]
    }
   ],
   "source": [
    "calls.info()"
   ]
  },
  {
   "cell_type": "markdown",
   "metadata": {},
   "source": [
    "Итак, в таблице `calls` 4 стоблца, типы данных float, int, object."
   ]
  },
  {
   "cell_type": "markdown",
   "metadata": {},
   "source": [
    "**Составим представление о таблице `users`:**"
   ]
  },
  {
   "cell_type": "code",
   "execution_count": 3,
   "metadata": {},
   "outputs": [
    {
     "data": {
      "text/html": [
       "<div>\n",
       "<style scoped>\n",
       "    .dataframe tbody tr th:only-of-type {\n",
       "        vertical-align: middle;\n",
       "    }\n",
       "\n",
       "    .dataframe tbody tr th {\n",
       "        vertical-align: top;\n",
       "    }\n",
       "\n",
       "    .dataframe thead th {\n",
       "        text-align: right;\n",
       "    }\n",
       "</style>\n",
       "<table border=\"1\" class=\"dataframe\">\n",
       "  <thead>\n",
       "    <tr style=\"text-align: right;\">\n",
       "      <th></th>\n",
       "      <th>user_id</th>\n",
       "      <th>age</th>\n",
       "      <th>churn_date</th>\n",
       "      <th>city</th>\n",
       "      <th>first_name</th>\n",
       "      <th>last_name</th>\n",
       "      <th>reg_date</th>\n",
       "      <th>tariff</th>\n",
       "    </tr>\n",
       "  </thead>\n",
       "  <tbody>\n",
       "    <tr>\n",
       "      <th>0</th>\n",
       "      <td>1000</td>\n",
       "      <td>52</td>\n",
       "      <td>NaN</td>\n",
       "      <td>Краснодар</td>\n",
       "      <td>Рафаил</td>\n",
       "      <td>Верещагин</td>\n",
       "      <td>2018-05-25</td>\n",
       "      <td>ultra</td>\n",
       "    </tr>\n",
       "    <tr>\n",
       "      <th>1</th>\n",
       "      <td>1001</td>\n",
       "      <td>41</td>\n",
       "      <td>NaN</td>\n",
       "      <td>Москва</td>\n",
       "      <td>Иван</td>\n",
       "      <td>Ежов</td>\n",
       "      <td>2018-11-01</td>\n",
       "      <td>smart</td>\n",
       "    </tr>\n",
       "    <tr>\n",
       "      <th>2</th>\n",
       "      <td>1002</td>\n",
       "      <td>59</td>\n",
       "      <td>NaN</td>\n",
       "      <td>Стерлитамак</td>\n",
       "      <td>Евгений</td>\n",
       "      <td>Абрамович</td>\n",
       "      <td>2018-06-17</td>\n",
       "      <td>smart</td>\n",
       "    </tr>\n",
       "    <tr>\n",
       "      <th>3</th>\n",
       "      <td>1003</td>\n",
       "      <td>23</td>\n",
       "      <td>NaN</td>\n",
       "      <td>Москва</td>\n",
       "      <td>Белла</td>\n",
       "      <td>Белякова</td>\n",
       "      <td>2018-08-17</td>\n",
       "      <td>ultra</td>\n",
       "    </tr>\n",
       "    <tr>\n",
       "      <th>4</th>\n",
       "      <td>1004</td>\n",
       "      <td>68</td>\n",
       "      <td>NaN</td>\n",
       "      <td>Новокузнецк</td>\n",
       "      <td>Татьяна</td>\n",
       "      <td>Авдеенко</td>\n",
       "      <td>2018-05-14</td>\n",
       "      <td>ultra</td>\n",
       "    </tr>\n",
       "    <tr>\n",
       "      <th>5</th>\n",
       "      <td>1005</td>\n",
       "      <td>67</td>\n",
       "      <td>NaN</td>\n",
       "      <td>Набережные Челны</td>\n",
       "      <td>Афанасий</td>\n",
       "      <td>Горлов</td>\n",
       "      <td>2018-01-25</td>\n",
       "      <td>smart</td>\n",
       "    </tr>\n",
       "    <tr>\n",
       "      <th>6</th>\n",
       "      <td>1006</td>\n",
       "      <td>21</td>\n",
       "      <td>NaN</td>\n",
       "      <td>Ульяновск</td>\n",
       "      <td>Леонид</td>\n",
       "      <td>Ермолаев</td>\n",
       "      <td>2018-02-26</td>\n",
       "      <td>smart</td>\n",
       "    </tr>\n",
       "    <tr>\n",
       "      <th>7</th>\n",
       "      <td>1007</td>\n",
       "      <td>65</td>\n",
       "      <td>NaN</td>\n",
       "      <td>Москва</td>\n",
       "      <td>Юна</td>\n",
       "      <td>Березина</td>\n",
       "      <td>2018-04-19</td>\n",
       "      <td>smart</td>\n",
       "    </tr>\n",
       "    <tr>\n",
       "      <th>8</th>\n",
       "      <td>1008</td>\n",
       "      <td>63</td>\n",
       "      <td>NaN</td>\n",
       "      <td>Челябинск</td>\n",
       "      <td>Рустэм</td>\n",
       "      <td>Пономарёв</td>\n",
       "      <td>2018-12-19</td>\n",
       "      <td>smart</td>\n",
       "    </tr>\n",
       "    <tr>\n",
       "      <th>9</th>\n",
       "      <td>1009</td>\n",
       "      <td>24</td>\n",
       "      <td>NaN</td>\n",
       "      <td>Пермь</td>\n",
       "      <td>Василиса</td>\n",
       "      <td>Блинова</td>\n",
       "      <td>2018-03-22</td>\n",
       "      <td>smart</td>\n",
       "    </tr>\n",
       "  </tbody>\n",
       "</table>\n",
       "</div>"
      ],
      "text/plain": [
       "   user_id  age churn_date              city first_name  last_name  \\\n",
       "0     1000   52        NaN         Краснодар     Рафаил  Верещагин   \n",
       "1     1001   41        NaN            Москва       Иван       Ежов   \n",
       "2     1002   59        NaN       Стерлитамак    Евгений  Абрамович   \n",
       "3     1003   23        NaN            Москва      Белла   Белякова   \n",
       "4     1004   68        NaN       Новокузнецк    Татьяна   Авдеенко   \n",
       "5     1005   67        NaN  Набережные Челны   Афанасий     Горлов   \n",
       "6     1006   21        NaN         Ульяновск     Леонид   Ермолаев   \n",
       "7     1007   65        NaN            Москва        Юна   Березина   \n",
       "8     1008   63        NaN         Челябинск     Рустэм  Пономарёв   \n",
       "9     1009   24        NaN             Пермь   Василиса    Блинова   \n",
       "\n",
       "     reg_date tariff  \n",
       "0  2018-05-25  ultra  \n",
       "1  2018-11-01  smart  \n",
       "2  2018-06-17  smart  \n",
       "3  2018-08-17  ultra  \n",
       "4  2018-05-14  ultra  \n",
       "5  2018-01-25  smart  \n",
       "6  2018-02-26  smart  \n",
       "7  2018-04-19  smart  \n",
       "8  2018-12-19  smart  \n",
       "9  2018-03-22  smart  "
      ]
     },
     "execution_count": 3,
     "metadata": {},
     "output_type": "execute_result"
    }
   ],
   "source": [
    "users.head(10)"
   ]
  },
  {
   "cell_type": "code",
   "execution_count": 4,
   "metadata": {},
   "outputs": [
    {
     "name": "stdout",
     "output_type": "stream",
     "text": [
      "<class 'pandas.core.frame.DataFrame'>\n",
      "RangeIndex: 500 entries, 0 to 499\n",
      "Data columns (total 8 columns):\n",
      " #   Column      Non-Null Count  Dtype \n",
      "---  ------      --------------  ----- \n",
      " 0   user_id     500 non-null    int64 \n",
      " 1   age         500 non-null    int64 \n",
      " 2   churn_date  38 non-null     object\n",
      " 3   city        500 non-null    object\n",
      " 4   first_name  500 non-null    object\n",
      " 5   last_name   500 non-null    object\n",
      " 6   reg_date    500 non-null    object\n",
      " 7   tariff      500 non-null    object\n",
      "dtypes: int64(2), object(6)\n",
      "memory usage: 31.4+ KB\n"
     ]
    }
   ],
   "source": [
    "users.info()"
   ]
  },
  {
   "cell_type": "markdown",
   "metadata": {},
   "source": [
    "В таблице 8 стоблцов, типы данных int и object. "
   ]
  },
  {
   "cell_type": "markdown",
   "metadata": {},
   "source": [
    "**Составим представление о таблице `messages`:**"
   ]
  },
  {
   "cell_type": "code",
   "execution_count": 5,
   "metadata": {},
   "outputs": [
    {
     "data": {
      "text/html": [
       "<div>\n",
       "<style scoped>\n",
       "    .dataframe tbody tr th:only-of-type {\n",
       "        vertical-align: middle;\n",
       "    }\n",
       "\n",
       "    .dataframe tbody tr th {\n",
       "        vertical-align: top;\n",
       "    }\n",
       "\n",
       "    .dataframe thead th {\n",
       "        text-align: right;\n",
       "    }\n",
       "</style>\n",
       "<table border=\"1\" class=\"dataframe\">\n",
       "  <thead>\n",
       "    <tr style=\"text-align: right;\">\n",
       "      <th></th>\n",
       "      <th>id</th>\n",
       "      <th>message_date</th>\n",
       "      <th>user_id</th>\n",
       "    </tr>\n",
       "  </thead>\n",
       "  <tbody>\n",
       "    <tr>\n",
       "      <th>0</th>\n",
       "      <td>1000_0</td>\n",
       "      <td>2018-06-27</td>\n",
       "      <td>1000</td>\n",
       "    </tr>\n",
       "    <tr>\n",
       "      <th>1</th>\n",
       "      <td>1000_1</td>\n",
       "      <td>2018-10-08</td>\n",
       "      <td>1000</td>\n",
       "    </tr>\n",
       "    <tr>\n",
       "      <th>2</th>\n",
       "      <td>1000_2</td>\n",
       "      <td>2018-08-04</td>\n",
       "      <td>1000</td>\n",
       "    </tr>\n",
       "    <tr>\n",
       "      <th>3</th>\n",
       "      <td>1000_3</td>\n",
       "      <td>2018-06-16</td>\n",
       "      <td>1000</td>\n",
       "    </tr>\n",
       "    <tr>\n",
       "      <th>4</th>\n",
       "      <td>1000_4</td>\n",
       "      <td>2018-12-05</td>\n",
       "      <td>1000</td>\n",
       "    </tr>\n",
       "    <tr>\n",
       "      <th>5</th>\n",
       "      <td>1000_5</td>\n",
       "      <td>2018-06-20</td>\n",
       "      <td>1000</td>\n",
       "    </tr>\n",
       "    <tr>\n",
       "      <th>6</th>\n",
       "      <td>1000_6</td>\n",
       "      <td>2018-11-19</td>\n",
       "      <td>1000</td>\n",
       "    </tr>\n",
       "    <tr>\n",
       "      <th>7</th>\n",
       "      <td>1000_7</td>\n",
       "      <td>2018-10-29</td>\n",
       "      <td>1000</td>\n",
       "    </tr>\n",
       "    <tr>\n",
       "      <th>8</th>\n",
       "      <td>1000_8</td>\n",
       "      <td>2018-06-25</td>\n",
       "      <td>1000</td>\n",
       "    </tr>\n",
       "    <tr>\n",
       "      <th>9</th>\n",
       "      <td>1000_9</td>\n",
       "      <td>2018-12-18</td>\n",
       "      <td>1000</td>\n",
       "    </tr>\n",
       "  </tbody>\n",
       "</table>\n",
       "</div>"
      ],
      "text/plain": [
       "       id message_date  user_id\n",
       "0  1000_0   2018-06-27     1000\n",
       "1  1000_1   2018-10-08     1000\n",
       "2  1000_2   2018-08-04     1000\n",
       "3  1000_3   2018-06-16     1000\n",
       "4  1000_4   2018-12-05     1000\n",
       "5  1000_5   2018-06-20     1000\n",
       "6  1000_6   2018-11-19     1000\n",
       "7  1000_7   2018-10-29     1000\n",
       "8  1000_8   2018-06-25     1000\n",
       "9  1000_9   2018-12-18     1000"
      ]
     },
     "execution_count": 5,
     "metadata": {},
     "output_type": "execute_result"
    }
   ],
   "source": [
    "messages.head(10)"
   ]
  },
  {
   "cell_type": "code",
   "execution_count": 6,
   "metadata": {},
   "outputs": [
    {
     "name": "stdout",
     "output_type": "stream",
     "text": [
      "<class 'pandas.core.frame.DataFrame'>\n",
      "RangeIndex: 123036 entries, 0 to 123035\n",
      "Data columns (total 3 columns):\n",
      " #   Column        Non-Null Count   Dtype \n",
      "---  ------        --------------   ----- \n",
      " 0   id            123036 non-null  object\n",
      " 1   message_date  123036 non-null  object\n",
      " 2   user_id       123036 non-null  int64 \n",
      "dtypes: int64(1), object(2)\n",
      "memory usage: 2.8+ MB\n"
     ]
    }
   ],
   "source": [
    "messages.info()"
   ]
  },
  {
   "cell_type": "markdown",
   "metadata": {},
   "source": [
    "В таблице 3 стоблца, типы данных int и object. "
   ]
  },
  {
   "cell_type": "markdown",
   "metadata": {},
   "source": [
    "**Составим представление о таблице `internet`:**"
   ]
  },
  {
   "cell_type": "code",
   "execution_count": 7,
   "metadata": {},
   "outputs": [
    {
     "data": {
      "text/html": [
       "<div>\n",
       "<style scoped>\n",
       "    .dataframe tbody tr th:only-of-type {\n",
       "        vertical-align: middle;\n",
       "    }\n",
       "\n",
       "    .dataframe tbody tr th {\n",
       "        vertical-align: top;\n",
       "    }\n",
       "\n",
       "    .dataframe thead th {\n",
       "        text-align: right;\n",
       "    }\n",
       "</style>\n",
       "<table border=\"1\" class=\"dataframe\">\n",
       "  <thead>\n",
       "    <tr style=\"text-align: right;\">\n",
       "      <th></th>\n",
       "      <th>Unnamed: 0</th>\n",
       "      <th>id</th>\n",
       "      <th>mb_used</th>\n",
       "      <th>session_date</th>\n",
       "      <th>user_id</th>\n",
       "    </tr>\n",
       "  </thead>\n",
       "  <tbody>\n",
       "    <tr>\n",
       "      <th>0</th>\n",
       "      <td>0</td>\n",
       "      <td>1000_0</td>\n",
       "      <td>112.95</td>\n",
       "      <td>2018-11-25</td>\n",
       "      <td>1000</td>\n",
       "    </tr>\n",
       "    <tr>\n",
       "      <th>1</th>\n",
       "      <td>1</td>\n",
       "      <td>1000_1</td>\n",
       "      <td>1052.81</td>\n",
       "      <td>2018-09-07</td>\n",
       "      <td>1000</td>\n",
       "    </tr>\n",
       "    <tr>\n",
       "      <th>2</th>\n",
       "      <td>2</td>\n",
       "      <td>1000_2</td>\n",
       "      <td>1197.26</td>\n",
       "      <td>2018-06-25</td>\n",
       "      <td>1000</td>\n",
       "    </tr>\n",
       "    <tr>\n",
       "      <th>3</th>\n",
       "      <td>3</td>\n",
       "      <td>1000_3</td>\n",
       "      <td>550.27</td>\n",
       "      <td>2018-08-22</td>\n",
       "      <td>1000</td>\n",
       "    </tr>\n",
       "    <tr>\n",
       "      <th>4</th>\n",
       "      <td>4</td>\n",
       "      <td>1000_4</td>\n",
       "      <td>302.56</td>\n",
       "      <td>2018-09-24</td>\n",
       "      <td>1000</td>\n",
       "    </tr>\n",
       "    <tr>\n",
       "      <th>5</th>\n",
       "      <td>5</td>\n",
       "      <td>1000_5</td>\n",
       "      <td>399.97</td>\n",
       "      <td>2018-10-02</td>\n",
       "      <td>1000</td>\n",
       "    </tr>\n",
       "    <tr>\n",
       "      <th>6</th>\n",
       "      <td>6</td>\n",
       "      <td>1000_6</td>\n",
       "      <td>540.08</td>\n",
       "      <td>2018-09-07</td>\n",
       "      <td>1000</td>\n",
       "    </tr>\n",
       "    <tr>\n",
       "      <th>7</th>\n",
       "      <td>7</td>\n",
       "      <td>1000_7</td>\n",
       "      <td>415.70</td>\n",
       "      <td>2018-07-11</td>\n",
       "      <td>1000</td>\n",
       "    </tr>\n",
       "    <tr>\n",
       "      <th>8</th>\n",
       "      <td>8</td>\n",
       "      <td>1000_8</td>\n",
       "      <td>505.40</td>\n",
       "      <td>2018-10-08</td>\n",
       "      <td>1000</td>\n",
       "    </tr>\n",
       "    <tr>\n",
       "      <th>9</th>\n",
       "      <td>9</td>\n",
       "      <td>1000_9</td>\n",
       "      <td>345.54</td>\n",
       "      <td>2018-09-03</td>\n",
       "      <td>1000</td>\n",
       "    </tr>\n",
       "  </tbody>\n",
       "</table>\n",
       "</div>"
      ],
      "text/plain": [
       "   Unnamed: 0      id  mb_used session_date  user_id\n",
       "0           0  1000_0   112.95   2018-11-25     1000\n",
       "1           1  1000_1  1052.81   2018-09-07     1000\n",
       "2           2  1000_2  1197.26   2018-06-25     1000\n",
       "3           3  1000_3   550.27   2018-08-22     1000\n",
       "4           4  1000_4   302.56   2018-09-24     1000\n",
       "5           5  1000_5   399.97   2018-10-02     1000\n",
       "6           6  1000_6   540.08   2018-09-07     1000\n",
       "7           7  1000_7   415.70   2018-07-11     1000\n",
       "8           8  1000_8   505.40   2018-10-08     1000\n",
       "9           9  1000_9   345.54   2018-09-03     1000"
      ]
     },
     "execution_count": 7,
     "metadata": {},
     "output_type": "execute_result"
    }
   ],
   "source": [
    "internet.head(10)"
   ]
  },
  {
   "cell_type": "code",
   "execution_count": 8,
   "metadata": {},
   "outputs": [
    {
     "name": "stdout",
     "output_type": "stream",
     "text": [
      "<class 'pandas.core.frame.DataFrame'>\n",
      "RangeIndex: 149396 entries, 0 to 149395\n",
      "Data columns (total 5 columns):\n",
      " #   Column        Non-Null Count   Dtype  \n",
      "---  ------        --------------   -----  \n",
      " 0   Unnamed: 0    149396 non-null  int64  \n",
      " 1   id            149396 non-null  object \n",
      " 2   mb_used       149396 non-null  float64\n",
      " 3   session_date  149396 non-null  object \n",
      " 4   user_id       149396 non-null  int64  \n",
      "dtypes: float64(1), int64(2), object(2)\n",
      "memory usage: 5.7+ MB\n"
     ]
    }
   ],
   "source": [
    "internet.info()"
   ]
  },
  {
   "cell_type": "markdown",
   "metadata": {},
   "source": [
    "В таблице 5 столбцов,типы данных float, int, object. "
   ]
  },
  {
   "cell_type": "markdown",
   "metadata": {},
   "source": [
    "**Составим представление о таблице `tariffs`:**"
   ]
  },
  {
   "cell_type": "code",
   "execution_count": 9,
   "metadata": {},
   "outputs": [
    {
     "data": {
      "text/html": [
       "<div>\n",
       "<style scoped>\n",
       "    .dataframe tbody tr th:only-of-type {\n",
       "        vertical-align: middle;\n",
       "    }\n",
       "\n",
       "    .dataframe tbody tr th {\n",
       "        vertical-align: top;\n",
       "    }\n",
       "\n",
       "    .dataframe thead th {\n",
       "        text-align: right;\n",
       "    }\n",
       "</style>\n",
       "<table border=\"1\" class=\"dataframe\">\n",
       "  <thead>\n",
       "    <tr style=\"text-align: right;\">\n",
       "      <th></th>\n",
       "      <th>messages_included</th>\n",
       "      <th>mb_per_month_included</th>\n",
       "      <th>minutes_included</th>\n",
       "      <th>rub_monthly_fee</th>\n",
       "      <th>rub_per_gb</th>\n",
       "      <th>rub_per_message</th>\n",
       "      <th>rub_per_minute</th>\n",
       "      <th>tariff_name</th>\n",
       "    </tr>\n",
       "  </thead>\n",
       "  <tbody>\n",
       "    <tr>\n",
       "      <th>0</th>\n",
       "      <td>50</td>\n",
       "      <td>15360</td>\n",
       "      <td>500</td>\n",
       "      <td>550</td>\n",
       "      <td>200</td>\n",
       "      <td>3</td>\n",
       "      <td>3</td>\n",
       "      <td>smart</td>\n",
       "    </tr>\n",
       "    <tr>\n",
       "      <th>1</th>\n",
       "      <td>1000</td>\n",
       "      <td>30720</td>\n",
       "      <td>3000</td>\n",
       "      <td>1950</td>\n",
       "      <td>150</td>\n",
       "      <td>1</td>\n",
       "      <td>1</td>\n",
       "      <td>ultra</td>\n",
       "    </tr>\n",
       "  </tbody>\n",
       "</table>\n",
       "</div>"
      ],
      "text/plain": [
       "   messages_included  mb_per_month_included  minutes_included  \\\n",
       "0                 50                  15360               500   \n",
       "1               1000                  30720              3000   \n",
       "\n",
       "   rub_monthly_fee  rub_per_gb  rub_per_message  rub_per_minute tariff_name  \n",
       "0              550         200                3               3       smart  \n",
       "1             1950         150                1               1       ultra  "
      ]
     },
     "execution_count": 9,
     "metadata": {},
     "output_type": "execute_result"
    }
   ],
   "source": [
    "tariffs.head()"
   ]
  },
  {
   "cell_type": "code",
   "execution_count": 10,
   "metadata": {},
   "outputs": [
    {
     "name": "stdout",
     "output_type": "stream",
     "text": [
      "<class 'pandas.core.frame.DataFrame'>\n",
      "RangeIndex: 2 entries, 0 to 1\n",
      "Data columns (total 8 columns):\n",
      " #   Column                 Non-Null Count  Dtype \n",
      "---  ------                 --------------  ----- \n",
      " 0   messages_included      2 non-null      int64 \n",
      " 1   mb_per_month_included  2 non-null      int64 \n",
      " 2   minutes_included       2 non-null      int64 \n",
      " 3   rub_monthly_fee        2 non-null      int64 \n",
      " 4   rub_per_gb             2 non-null      int64 \n",
      " 5   rub_per_message        2 non-null      int64 \n",
      " 6   rub_per_minute         2 non-null      int64 \n",
      " 7   tariff_name            2 non-null      object\n",
      "dtypes: int64(7), object(1)\n",
      "memory usage: 256.0+ bytes\n"
     ]
    }
   ],
   "source": [
    "tariffs.info()"
   ]
  },
  {
   "cell_type": "markdown",
   "metadata": {},
   "source": [
    "В таблице 8 стоблцов и всего 2 строки по двум тарифам. Типы данных int, object."
   ]
  },
  {
   "cell_type": "markdown",
   "metadata": {},
   "source": [
    "Согласно документации к данным:\n",
    "\n",
    "Таблица `users` (информация о пользователях):\n",
    "* user_id — уникальный идентификатор пользователя\n",
    "* first_name — имя пользователя\n",
    "* last_name — фамилия пользователя\n",
    "* age — возраст пользователя (годы)\n",
    "* reg_date — дата подключения тарифа (день, месяц, год)\n",
    "* churn_date — дата прекращения пользования тарифом (если значение пропущено, то тариф ещё действовал на момент выгрузки данных)\n",
    "* city — город проживания пользователя\n",
    "* tariff — название тарифного плана\n",
    "\n",
    "Таблица `calls` (информация о звонках):\n",
    "* id — уникальный номер звонка\n",
    "* call_date — дата звонка\n",
    "* duration — длительность звонка в минутах\n",
    "* user_id — идентификатор пользователя, сделавшего звонок\n",
    "\n",
    "Таблица `messages` (информация о сообщениях):\n",
    "* id — уникальный номер сообщения\n",
    "* message_date — дата сообщения\n",
    "* user_id — идентификатор пользователя, отправившего сообщение\n",
    "\n",
    "Таблица `internet` (информация об интернет-сессиях):\n",
    "* id — уникальный номер сессии\n",
    "* mb_used — объём потраченного за сессию интернет-трафика (в мегабайтах)\n",
    "* session_date — дата интернет-сессии\n",
    "* user_id — идентификатор пользователя\n",
    "\n",
    "Таблица `tariffs` (информация о тарифах):\n",
    "* tariff_name — название тарифа\n",
    "* rub_monthly_fee — ежемесячная абонентская плата в рублях\n",
    "* minutes_included — количество минут разговора в месяц, включённых в абонентскую плату\n",
    "* messages_included — количество сообщений в месяц, включённых в абонентскую плату\n",
    "* mb_per_month_included — объём интернет-трафика, включённого в абонентскую плату (в мегабайтах)\n",
    "* rub_per_minute — стоимость минуты разговора сверх тарифного пакета (например, если в тарифе 100 минут разговора в месяц, то со 101 минуты будет взиматься плата)\n",
    "* rub_per_message — стоимость отправки сообщения сверх тарифного пакета\n",
    "* rub_per_gb — стоимость дополнительного гигабайта интернет-трафика сверх тарифного пакета (1 гигабайт = 1024 мегабайта)\n",
    "\n",
    "Нарушение стиля в стоблцах отсутствуют.\n",
    "В таблице `users` есть пропуски в столбце churn_date, их мы трогать не будем(если значение пропущено, то тариф ещё действовал на момент выгрузки данных). В остальных таблицах пропусков нет."
   ]
  },
  {
   "cell_type": "markdown",
   "metadata": {},
   "source": [
    "### Вывод\n",
    "\n",
    "В нашем распоряжении 5 таблиц с данными о пользователях, откуда они, каким тарифом пользуются, сколько звонков и сообщений каждый отправил за 2018 год. \n",
    "Предварительно можно утверждать что данных достаточно для проверки гипотез. "
   ]
  },
  {
   "cell_type": "markdown",
   "metadata": {},
   "source": [
    "## Подготовка данных"
   ]
  },
  {
   "cell_type": "markdown",
   "metadata": {},
   "source": [
    "### Изменение типов данных\n",
    "Приведем данные в столбцах в нужный формат:"
   ]
  },
  {
   "cell_type": "code",
   "execution_count": 11,
   "metadata": {},
   "outputs": [],
   "source": [
    "calls['call_date'] = pd.to_datetime(calls['call_date'], format='%Y-%m-%d')\n",
    "users['churn_date'] = pd.to_datetime(users['churn_date'], format='%Y-%m-%d')\n",
    "users['reg_date'] = pd.to_datetime(users['reg_date'], format='%Y-%m-%d')\n",
    "messages['message_date'] = pd.to_datetime(messages['message_date'], format='%Y-%m-%d')\n",
    "internet['mb_used'] = internet['mb_used'].astype('int')\n",
    "internet['session_date'] = pd.to_datetime(internet['session_date'], format='%Y-%m-%d')"
   ]
  },
  {
   "cell_type": "markdown",
   "metadata": {},
   "source": [
    "### Исправление ошибок в данных"
   ]
  },
  {
   "cell_type": "markdown",
   "metadata": {},
   "source": [
    "**Таблица `calls`**\n",
    "\n",
    "В данных присутствуют звонки с нулевой продолжительностью. Это не ошибка: нулями обозначены пропущенные звонки, поэтому их не нужно удалять.\n",
    "\n",
    "Округлим значение длительности звонка в минутах в большую сторону(«Мегалайн» всегда округляет секунды до минут) и создадим отдельный столбец с месяцем из даты звонка:"
   ]
  },
  {
   "cell_type": "code",
   "execution_count": 12,
   "metadata": {},
   "outputs": [
    {
     "data": {
      "text/html": [
       "<div>\n",
       "<style scoped>\n",
       "    .dataframe tbody tr th:only-of-type {\n",
       "        vertical-align: middle;\n",
       "    }\n",
       "\n",
       "    .dataframe tbody tr th {\n",
       "        vertical-align: top;\n",
       "    }\n",
       "\n",
       "    .dataframe thead th {\n",
       "        text-align: right;\n",
       "    }\n",
       "</style>\n",
       "<table border=\"1\" class=\"dataframe\">\n",
       "  <thead>\n",
       "    <tr style=\"text-align: right;\">\n",
       "      <th></th>\n",
       "      <th>id</th>\n",
       "      <th>call_date</th>\n",
       "      <th>duration</th>\n",
       "      <th>user_id</th>\n",
       "      <th>month</th>\n",
       "    </tr>\n",
       "  </thead>\n",
       "  <tbody>\n",
       "    <tr>\n",
       "      <th>0</th>\n",
       "      <td>1000_0</td>\n",
       "      <td>2018-07-25</td>\n",
       "      <td>0.0</td>\n",
       "      <td>1000</td>\n",
       "      <td>7</td>\n",
       "    </tr>\n",
       "    <tr>\n",
       "      <th>1</th>\n",
       "      <td>1000_1</td>\n",
       "      <td>2018-08-17</td>\n",
       "      <td>0.0</td>\n",
       "      <td>1000</td>\n",
       "      <td>8</td>\n",
       "    </tr>\n",
       "    <tr>\n",
       "      <th>2</th>\n",
       "      <td>1000_2</td>\n",
       "      <td>2018-06-11</td>\n",
       "      <td>3.0</td>\n",
       "      <td>1000</td>\n",
       "      <td>6</td>\n",
       "    </tr>\n",
       "    <tr>\n",
       "      <th>3</th>\n",
       "      <td>1000_3</td>\n",
       "      <td>2018-09-21</td>\n",
       "      <td>14.0</td>\n",
       "      <td>1000</td>\n",
       "      <td>9</td>\n",
       "    </tr>\n",
       "    <tr>\n",
       "      <th>4</th>\n",
       "      <td>1000_4</td>\n",
       "      <td>2018-12-15</td>\n",
       "      <td>6.0</td>\n",
       "      <td>1000</td>\n",
       "      <td>12</td>\n",
       "    </tr>\n",
       "    <tr>\n",
       "      <th>5</th>\n",
       "      <td>1000_5</td>\n",
       "      <td>2018-11-02</td>\n",
       "      <td>0.0</td>\n",
       "      <td>1000</td>\n",
       "      <td>11</td>\n",
       "    </tr>\n",
       "    <tr>\n",
       "      <th>6</th>\n",
       "      <td>1000_6</td>\n",
       "      <td>2018-10-18</td>\n",
       "      <td>0.0</td>\n",
       "      <td>1000</td>\n",
       "      <td>10</td>\n",
       "    </tr>\n",
       "    <tr>\n",
       "      <th>7</th>\n",
       "      <td>1000_7</td>\n",
       "      <td>2018-08-22</td>\n",
       "      <td>19.0</td>\n",
       "      <td>1000</td>\n",
       "      <td>8</td>\n",
       "    </tr>\n",
       "    <tr>\n",
       "      <th>8</th>\n",
       "      <td>1000_8</td>\n",
       "      <td>2018-09-15</td>\n",
       "      <td>19.0</td>\n",
       "      <td>1000</td>\n",
       "      <td>9</td>\n",
       "    </tr>\n",
       "    <tr>\n",
       "      <th>9</th>\n",
       "      <td>1000_9</td>\n",
       "      <td>2018-08-15</td>\n",
       "      <td>0.0</td>\n",
       "      <td>1000</td>\n",
       "      <td>8</td>\n",
       "    </tr>\n",
       "  </tbody>\n",
       "</table>\n",
       "</div>"
      ],
      "text/plain": [
       "       id  call_date  duration  user_id  month\n",
       "0  1000_0 2018-07-25       0.0     1000      7\n",
       "1  1000_1 2018-08-17       0.0     1000      8\n",
       "2  1000_2 2018-06-11       3.0     1000      6\n",
       "3  1000_3 2018-09-21      14.0     1000      9\n",
       "4  1000_4 2018-12-15       6.0     1000     12\n",
       "5  1000_5 2018-11-02       0.0     1000     11\n",
       "6  1000_6 2018-10-18       0.0     1000     10\n",
       "7  1000_7 2018-08-22      19.0     1000      8\n",
       "8  1000_8 2018-09-15      19.0     1000      9\n",
       "9  1000_9 2018-08-15       0.0     1000      8"
      ]
     },
     "execution_count": 12,
     "metadata": {},
     "output_type": "execute_result"
    }
   ],
   "source": [
    "calls['duration'] = np.ceil(calls['duration'])\n",
    "calls['month'] = pd.DatetimeIndex(calls['call_date']).month\n",
    "calls.head(10)"
   ]
  },
  {
   "cell_type": "markdown",
   "metadata": {},
   "source": [
    "**Таблица `messages`**\n",
    "\n",
    "Создадим отдельный столбец с месяцем из даты сообщения:"
   ]
  },
  {
   "cell_type": "code",
   "execution_count": 13,
   "metadata": {},
   "outputs": [
    {
     "data": {
      "text/html": [
       "<div>\n",
       "<style scoped>\n",
       "    .dataframe tbody tr th:only-of-type {\n",
       "        vertical-align: middle;\n",
       "    }\n",
       "\n",
       "    .dataframe tbody tr th {\n",
       "        vertical-align: top;\n",
       "    }\n",
       "\n",
       "    .dataframe thead th {\n",
       "        text-align: right;\n",
       "    }\n",
       "</style>\n",
       "<table border=\"1\" class=\"dataframe\">\n",
       "  <thead>\n",
       "    <tr style=\"text-align: right;\">\n",
       "      <th></th>\n",
       "      <th>id</th>\n",
       "      <th>message_date</th>\n",
       "      <th>user_id</th>\n",
       "      <th>month</th>\n",
       "    </tr>\n",
       "  </thead>\n",
       "  <tbody>\n",
       "    <tr>\n",
       "      <th>0</th>\n",
       "      <td>1000_0</td>\n",
       "      <td>2018-06-27</td>\n",
       "      <td>1000</td>\n",
       "      <td>6</td>\n",
       "    </tr>\n",
       "    <tr>\n",
       "      <th>1</th>\n",
       "      <td>1000_1</td>\n",
       "      <td>2018-10-08</td>\n",
       "      <td>1000</td>\n",
       "      <td>10</td>\n",
       "    </tr>\n",
       "    <tr>\n",
       "      <th>2</th>\n",
       "      <td>1000_2</td>\n",
       "      <td>2018-08-04</td>\n",
       "      <td>1000</td>\n",
       "      <td>8</td>\n",
       "    </tr>\n",
       "    <tr>\n",
       "      <th>3</th>\n",
       "      <td>1000_3</td>\n",
       "      <td>2018-06-16</td>\n",
       "      <td>1000</td>\n",
       "      <td>6</td>\n",
       "    </tr>\n",
       "    <tr>\n",
       "      <th>4</th>\n",
       "      <td>1000_4</td>\n",
       "      <td>2018-12-05</td>\n",
       "      <td>1000</td>\n",
       "      <td>12</td>\n",
       "    </tr>\n",
       "  </tbody>\n",
       "</table>\n",
       "</div>"
      ],
      "text/plain": [
       "       id message_date  user_id  month\n",
       "0  1000_0   2018-06-27     1000      6\n",
       "1  1000_1   2018-10-08     1000     10\n",
       "2  1000_2   2018-08-04     1000      8\n",
       "3  1000_3   2018-06-16     1000      6\n",
       "4  1000_4   2018-12-05     1000     12"
      ]
     },
     "execution_count": 13,
     "metadata": {},
     "output_type": "execute_result"
    }
   ],
   "source": [
    "messages['month'] = pd.DatetimeIndex(messages['message_date']).month\n",
    "messages.head()"
   ]
  },
  {
   "cell_type": "markdown",
   "metadata": {},
   "source": [
    "**Таблица `internet`**\n",
    "\n",
    "Создадим отдельный столбец с месяцем и переведем интернет трафик из мегабайтов в гигабайты и так же  создадим отдельный столбец."
   ]
  },
  {
   "cell_type": "code",
   "execution_count": 14,
   "metadata": {},
   "outputs": [
    {
     "data": {
      "text/html": [
       "<div>\n",
       "<style scoped>\n",
       "    .dataframe tbody tr th:only-of-type {\n",
       "        vertical-align: middle;\n",
       "    }\n",
       "\n",
       "    .dataframe tbody tr th {\n",
       "        vertical-align: top;\n",
       "    }\n",
       "\n",
       "    .dataframe thead th {\n",
       "        text-align: right;\n",
       "    }\n",
       "</style>\n",
       "<table border=\"1\" class=\"dataframe\">\n",
       "  <thead>\n",
       "    <tr style=\"text-align: right;\">\n",
       "      <th></th>\n",
       "      <th>Unnamed: 0</th>\n",
       "      <th>id</th>\n",
       "      <th>mb_used</th>\n",
       "      <th>session_date</th>\n",
       "      <th>user_id</th>\n",
       "      <th>month</th>\n",
       "      <th>gb_used</th>\n",
       "    </tr>\n",
       "  </thead>\n",
       "  <tbody>\n",
       "    <tr>\n",
       "      <th>0</th>\n",
       "      <td>0</td>\n",
       "      <td>1000_0</td>\n",
       "      <td>112</td>\n",
       "      <td>2018-11-25</td>\n",
       "      <td>1000</td>\n",
       "      <td>11</td>\n",
       "      <td>0.109375</td>\n",
       "    </tr>\n",
       "    <tr>\n",
       "      <th>1</th>\n",
       "      <td>1</td>\n",
       "      <td>1000_1</td>\n",
       "      <td>1052</td>\n",
       "      <td>2018-09-07</td>\n",
       "      <td>1000</td>\n",
       "      <td>9</td>\n",
       "      <td>1.027344</td>\n",
       "    </tr>\n",
       "    <tr>\n",
       "      <th>2</th>\n",
       "      <td>2</td>\n",
       "      <td>1000_2</td>\n",
       "      <td>1197</td>\n",
       "      <td>2018-06-25</td>\n",
       "      <td>1000</td>\n",
       "      <td>6</td>\n",
       "      <td>1.168945</td>\n",
       "    </tr>\n",
       "    <tr>\n",
       "      <th>3</th>\n",
       "      <td>3</td>\n",
       "      <td>1000_3</td>\n",
       "      <td>550</td>\n",
       "      <td>2018-08-22</td>\n",
       "      <td>1000</td>\n",
       "      <td>8</td>\n",
       "      <td>0.537109</td>\n",
       "    </tr>\n",
       "    <tr>\n",
       "      <th>4</th>\n",
       "      <td>4</td>\n",
       "      <td>1000_4</td>\n",
       "      <td>302</td>\n",
       "      <td>2018-09-24</td>\n",
       "      <td>1000</td>\n",
       "      <td>9</td>\n",
       "      <td>0.294922</td>\n",
       "    </tr>\n",
       "  </tbody>\n",
       "</table>\n",
       "</div>"
      ],
      "text/plain": [
       "   Unnamed: 0      id  mb_used session_date  user_id  month   gb_used\n",
       "0           0  1000_0      112   2018-11-25     1000     11  0.109375\n",
       "1           1  1000_1     1052   2018-09-07     1000      9  1.027344\n",
       "2           2  1000_2     1197   2018-06-25     1000      6  1.168945\n",
       "3           3  1000_3      550   2018-08-22     1000      8  0.537109\n",
       "4           4  1000_4      302   2018-09-24     1000      9  0.294922"
      ]
     },
     "execution_count": 14,
     "metadata": {},
     "output_type": "execute_result"
    }
   ],
   "source": [
    "internet['month'] = pd.DatetimeIndex(internet['session_date']).month\n",
    "internet['gb_used'] = internet['mb_used'] / 1024\n",
    "internet.head()"
   ]
  },
  {
   "cell_type": "markdown",
   "metadata": {},
   "source": [
    "### Рассчеты для каждого пользователя"
   ]
  },
  {
   "cell_type": "markdown",
   "metadata": {},
   "source": [
    "**Количество сделанных звонков и израсходованных минут разговора по месяцам**\n",
    "\n",
    "Создадим сводную таблицу:"
   ]
  },
  {
   "cell_type": "code",
   "execution_count": 15,
   "metadata": {},
   "outputs": [
    {
     "data": {
      "text/html": [
       "<div>\n",
       "<style scoped>\n",
       "    .dataframe tbody tr th:only-of-type {\n",
       "        vertical-align: middle;\n",
       "    }\n",
       "\n",
       "    .dataframe tbody tr th {\n",
       "        vertical-align: top;\n",
       "    }\n",
       "\n",
       "    .dataframe thead th {\n",
       "        text-align: right;\n",
       "    }\n",
       "</style>\n",
       "<table border=\"1\" class=\"dataframe\">\n",
       "  <thead>\n",
       "    <tr style=\"text-align: right;\">\n",
       "      <th></th>\n",
       "      <th></th>\n",
       "      <th>count_calls</th>\n",
       "      <th>sum_minute_calls</th>\n",
       "    </tr>\n",
       "    <tr>\n",
       "      <th>user_id</th>\n",
       "      <th>month</th>\n",
       "      <th></th>\n",
       "      <th></th>\n",
       "    </tr>\n",
       "  </thead>\n",
       "  <tbody>\n",
       "    <tr>\n",
       "      <th rowspan=\"5\" valign=\"top\">1000</th>\n",
       "      <th>5</th>\n",
       "      <td>22</td>\n",
       "      <td>159.0</td>\n",
       "    </tr>\n",
       "    <tr>\n",
       "      <th>6</th>\n",
       "      <td>43</td>\n",
       "      <td>172.0</td>\n",
       "    </tr>\n",
       "    <tr>\n",
       "      <th>7</th>\n",
       "      <td>47</td>\n",
       "      <td>340.0</td>\n",
       "    </tr>\n",
       "    <tr>\n",
       "      <th>8</th>\n",
       "      <td>52</td>\n",
       "      <td>408.0</td>\n",
       "    </tr>\n",
       "    <tr>\n",
       "      <th>9</th>\n",
       "      <td>58</td>\n",
       "      <td>466.0</td>\n",
       "    </tr>\n",
       "    <tr>\n",
       "      <th>...</th>\n",
       "      <th>...</th>\n",
       "      <td>...</td>\n",
       "      <td>...</td>\n",
       "    </tr>\n",
       "    <tr>\n",
       "      <th>1498</th>\n",
       "      <th>10</th>\n",
       "      <td>41</td>\n",
       "      <td>247.0</td>\n",
       "    </tr>\n",
       "    <tr>\n",
       "      <th rowspan=\"4\" valign=\"top\">1499</th>\n",
       "      <th>9</th>\n",
       "      <td>9</td>\n",
       "      <td>70.0</td>\n",
       "    </tr>\n",
       "    <tr>\n",
       "      <th>10</th>\n",
       "      <td>68</td>\n",
       "      <td>449.0</td>\n",
       "    </tr>\n",
       "    <tr>\n",
       "      <th>11</th>\n",
       "      <td>74</td>\n",
       "      <td>612.0</td>\n",
       "    </tr>\n",
       "    <tr>\n",
       "      <th>12</th>\n",
       "      <td>69</td>\n",
       "      <td>492.0</td>\n",
       "    </tr>\n",
       "  </tbody>\n",
       "</table>\n",
       "<p>3174 rows × 2 columns</p>\n",
       "</div>"
      ],
      "text/plain": [
       "               count_calls  sum_minute_calls\n",
       "user_id month                               \n",
       "1000    5               22             159.0\n",
       "        6               43             172.0\n",
       "        7               47             340.0\n",
       "        8               52             408.0\n",
       "        9               58             466.0\n",
       "...                    ...               ...\n",
       "1498    10              41             247.0\n",
       "1499    9                9              70.0\n",
       "        10              68             449.0\n",
       "        11              74             612.0\n",
       "        12              69             492.0\n",
       "\n",
       "[3174 rows x 2 columns]"
      ]
     },
     "execution_count": 15,
     "metadata": {},
     "output_type": "execute_result"
    }
   ],
   "source": [
    "calls_pivot_table = calls.pivot_table(index=['user_id', 'month'], values= 'duration', aggfunc=['count', 'sum'])\n",
    "calls_pivot_table.columns = ['count_calls', 'sum_minute_calls']\n",
    "calls_pivot_table"
   ]
  },
  {
   "cell_type": "markdown",
   "metadata": {},
   "source": [
    "**Количество отправленных сообщений по месяцам**"
   ]
  },
  {
   "cell_type": "code",
   "execution_count": 16,
   "metadata": {},
   "outputs": [
    {
     "data": {
      "text/html": [
       "<div>\n",
       "<style scoped>\n",
       "    .dataframe tbody tr th:only-of-type {\n",
       "        vertical-align: middle;\n",
       "    }\n",
       "\n",
       "    .dataframe tbody tr th {\n",
       "        vertical-align: top;\n",
       "    }\n",
       "\n",
       "    .dataframe thead th {\n",
       "        text-align: right;\n",
       "    }\n",
       "</style>\n",
       "<table border=\"1\" class=\"dataframe\">\n",
       "  <thead>\n",
       "    <tr style=\"text-align: right;\">\n",
       "      <th></th>\n",
       "      <th></th>\n",
       "      <th>count_messages</th>\n",
       "    </tr>\n",
       "    <tr>\n",
       "      <th>user_id</th>\n",
       "      <th>month</th>\n",
       "      <th></th>\n",
       "    </tr>\n",
       "  </thead>\n",
       "  <tbody>\n",
       "    <tr>\n",
       "      <th rowspan=\"5\" valign=\"top\">1000</th>\n",
       "      <th>5</th>\n",
       "      <td>22</td>\n",
       "    </tr>\n",
       "    <tr>\n",
       "      <th>6</th>\n",
       "      <td>60</td>\n",
       "    </tr>\n",
       "    <tr>\n",
       "      <th>7</th>\n",
       "      <td>75</td>\n",
       "    </tr>\n",
       "    <tr>\n",
       "      <th>8</th>\n",
       "      <td>81</td>\n",
       "    </tr>\n",
       "    <tr>\n",
       "      <th>9</th>\n",
       "      <td>57</td>\n",
       "    </tr>\n",
       "    <tr>\n",
       "      <th>...</th>\n",
       "      <th>...</th>\n",
       "      <td>...</td>\n",
       "    </tr>\n",
       "    <tr>\n",
       "      <th>1498</th>\n",
       "      <th>10</th>\n",
       "      <td>42</td>\n",
       "    </tr>\n",
       "    <tr>\n",
       "      <th rowspan=\"4\" valign=\"top\">1499</th>\n",
       "      <th>9</th>\n",
       "      <td>11</td>\n",
       "    </tr>\n",
       "    <tr>\n",
       "      <th>10</th>\n",
       "      <td>48</td>\n",
       "    </tr>\n",
       "    <tr>\n",
       "      <th>11</th>\n",
       "      <td>59</td>\n",
       "    </tr>\n",
       "    <tr>\n",
       "      <th>12</th>\n",
       "      <td>66</td>\n",
       "    </tr>\n",
       "  </tbody>\n",
       "</table>\n",
       "<p>2717 rows × 1 columns</p>\n",
       "</div>"
      ],
      "text/plain": [
       "               count_messages\n",
       "user_id month                \n",
       "1000    5                  22\n",
       "        6                  60\n",
       "        7                  75\n",
       "        8                  81\n",
       "        9                  57\n",
       "...                       ...\n",
       "1498    10                 42\n",
       "1499    9                  11\n",
       "        10                 48\n",
       "        11                 59\n",
       "        12                 66\n",
       "\n",
       "[2717 rows x 1 columns]"
      ]
     },
     "execution_count": 16,
     "metadata": {},
     "output_type": "execute_result"
    }
   ],
   "source": [
    "messages_pivot_table = messages.pivot_table(index=['user_id', 'month'], values= 'id', aggfunc='count')\n",
    "messages_pivot_table.columns = ['count_messages']\n",
    "messages_pivot_table"
   ]
  },
  {
   "cell_type": "markdown",
   "metadata": {},
   "source": [
    "**Объем израсходованного интернет-трафика по месяцам**\n",
    "\n",
    "Создадим сводную таблицу и округлим количество Гб в большую сторону(Для веб-трафика отдельные сессии не считаются. Вместо этого общая сумма за месяц округляется в бо́льшую сторону.)"
   ]
  },
  {
   "cell_type": "code",
   "execution_count": 17,
   "metadata": {},
   "outputs": [
    {
     "data": {
      "text/html": [
       "<div>\n",
       "<style scoped>\n",
       "    .dataframe tbody tr th:only-of-type {\n",
       "        vertical-align: middle;\n",
       "    }\n",
       "\n",
       "    .dataframe tbody tr th {\n",
       "        vertical-align: top;\n",
       "    }\n",
       "\n",
       "    .dataframe thead th {\n",
       "        text-align: right;\n",
       "    }\n",
       "</style>\n",
       "<table border=\"1\" class=\"dataframe\">\n",
       "  <thead>\n",
       "    <tr style=\"text-align: right;\">\n",
       "      <th></th>\n",
       "      <th></th>\n",
       "      <th>sum_gb_used</th>\n",
       "    </tr>\n",
       "    <tr>\n",
       "      <th>user_id</th>\n",
       "      <th>month</th>\n",
       "      <th></th>\n",
       "    </tr>\n",
       "  </thead>\n",
       "  <tbody>\n",
       "    <tr>\n",
       "      <th rowspan=\"5\" valign=\"top\">1000</th>\n",
       "      <th>5</th>\n",
       "      <td>3.0</td>\n",
       "    </tr>\n",
       "    <tr>\n",
       "      <th>6</th>\n",
       "      <td>23.0</td>\n",
       "    </tr>\n",
       "    <tr>\n",
       "      <th>7</th>\n",
       "      <td>14.0</td>\n",
       "    </tr>\n",
       "    <tr>\n",
       "      <th>8</th>\n",
       "      <td>14.0</td>\n",
       "    </tr>\n",
       "    <tr>\n",
       "      <th>9</th>\n",
       "      <td>15.0</td>\n",
       "    </tr>\n",
       "    <tr>\n",
       "      <th>...</th>\n",
       "      <th>...</th>\n",
       "      <td>...</td>\n",
       "    </tr>\n",
       "    <tr>\n",
       "      <th>1498</th>\n",
       "      <th>10</th>\n",
       "      <td>21.0</td>\n",
       "    </tr>\n",
       "    <tr>\n",
       "      <th rowspan=\"4\" valign=\"top\">1499</th>\n",
       "      <th>9</th>\n",
       "      <td>2.0</td>\n",
       "    </tr>\n",
       "    <tr>\n",
       "      <th>10</th>\n",
       "      <td>18.0</td>\n",
       "    </tr>\n",
       "    <tr>\n",
       "      <th>11</th>\n",
       "      <td>18.0</td>\n",
       "    </tr>\n",
       "    <tr>\n",
       "      <th>12</th>\n",
       "      <td>13.0</td>\n",
       "    </tr>\n",
       "  </tbody>\n",
       "</table>\n",
       "<p>3203 rows × 1 columns</p>\n",
       "</div>"
      ],
      "text/plain": [
       "               sum_gb_used\n",
       "user_id month             \n",
       "1000    5              3.0\n",
       "        6             23.0\n",
       "        7             14.0\n",
       "        8             14.0\n",
       "        9             15.0\n",
       "...                    ...\n",
       "1498    10            21.0\n",
       "1499    9              2.0\n",
       "        10            18.0\n",
       "        11            18.0\n",
       "        12            13.0\n",
       "\n",
       "[3203 rows x 1 columns]"
      ]
     },
     "execution_count": 17,
     "metadata": {},
     "output_type": "execute_result"
    }
   ],
   "source": [
    "internet_pivot_table = internet.pivot_table(index=['user_id', 'month'], values= 'gb_used', aggfunc='sum')\n",
    "internet_pivot_table.columns = ['sum_gb_used']\n",
    "internet_pivot_table['sum_gb_used'] = np.ceil(internet_pivot_table['sum_gb_used'])\n",
    "internet_pivot_table"
   ]
  },
  {
   "cell_type": "markdown",
   "metadata": {},
   "source": [
    "**Помесячную выручку с каждого пользователя**\n",
    "\n",
    "Объеденим 3 сводных таблицы с таблицей users в одну и посчитаем выручку с каждого пользователя таким способом:\n",
    "\n",
    "Вычтем бесплатный лимит из суммарного количества звонков, сообщений и интернет-трафика; остаток умножем на значение из тарифного плана; прибавьте абонентскую плату, соответствующую тарифному плану."
   ]
  },
  {
   "cell_type": "markdown",
   "metadata": {},
   "source": [
    "Тариф «Смарт»\n",
    "\n",
    "* Ежемесячная плата: 550 рублей\n",
    "* Включено 500 минут разговора, 50 сообщений и 15 Гб интернет-трафика\n",
    "* Стоимость услуг сверх тарифного пакета:\n",
    "* минута разговора: 3 рубля\n",
    "* сообщение: 3 рубля\n",
    "* 1 Гб интернет-трафика: 200 рублей\n",
    "\n",
    "Тариф «Ультра»\n",
    "\n",
    "* Ежемесячная плата: 1950 рублей\n",
    "* Включено 3000 минут разговора, 1000 сообщений и 30 Гб интернет-трафика\n",
    "* Стоимость услуг сверх тарифного пакета:\n",
    "* минута разговора: 1 рубль\n",
    "* сообщение: 1 рубль\n",
    "* 1 Гб интернет-трафика: 150 рублей"
   ]
  },
  {
   "cell_type": "code",
   "execution_count": 18,
   "metadata": {
    "scrolled": true
   },
   "outputs": [
    {
     "data": {
      "text/html": [
       "<div>\n",
       "<style scoped>\n",
       "    .dataframe tbody tr th:only-of-type {\n",
       "        vertical-align: middle;\n",
       "    }\n",
       "\n",
       "    .dataframe tbody tr th {\n",
       "        vertical-align: top;\n",
       "    }\n",
       "\n",
       "    .dataframe thead th {\n",
       "        text-align: right;\n",
       "    }\n",
       "</style>\n",
       "<table border=\"1\" class=\"dataframe\">\n",
       "  <thead>\n",
       "    <tr style=\"text-align: right;\">\n",
       "      <th></th>\n",
       "      <th>user_id</th>\n",
       "      <th>count_calls</th>\n",
       "      <th>sum_minute_calls</th>\n",
       "      <th>count_messages</th>\n",
       "      <th>sum_gb_used</th>\n",
       "      <th>age</th>\n",
       "      <th>churn_date</th>\n",
       "      <th>city</th>\n",
       "      <th>first_name</th>\n",
       "      <th>last_name</th>\n",
       "      <th>reg_date</th>\n",
       "      <th>tariff</th>\n",
       "    </tr>\n",
       "  </thead>\n",
       "  <tbody>\n",
       "    <tr>\n",
       "      <th>0</th>\n",
       "      <td>1000</td>\n",
       "      <td>22</td>\n",
       "      <td>159.0</td>\n",
       "      <td>22</td>\n",
       "      <td>3.0</td>\n",
       "      <td>52</td>\n",
       "      <td>NaT</td>\n",
       "      <td>Краснодар</td>\n",
       "      <td>Рафаил</td>\n",
       "      <td>Верещагин</td>\n",
       "      <td>2018-05-25</td>\n",
       "      <td>ultra</td>\n",
       "    </tr>\n",
       "    <tr>\n",
       "      <th>1</th>\n",
       "      <td>1000</td>\n",
       "      <td>43</td>\n",
       "      <td>172.0</td>\n",
       "      <td>60</td>\n",
       "      <td>23.0</td>\n",
       "      <td>52</td>\n",
       "      <td>NaT</td>\n",
       "      <td>Краснодар</td>\n",
       "      <td>Рафаил</td>\n",
       "      <td>Верещагин</td>\n",
       "      <td>2018-05-25</td>\n",
       "      <td>ultra</td>\n",
       "    </tr>\n",
       "    <tr>\n",
       "      <th>2</th>\n",
       "      <td>1000</td>\n",
       "      <td>47</td>\n",
       "      <td>340.0</td>\n",
       "      <td>75</td>\n",
       "      <td>14.0</td>\n",
       "      <td>52</td>\n",
       "      <td>NaT</td>\n",
       "      <td>Краснодар</td>\n",
       "      <td>Рафаил</td>\n",
       "      <td>Верещагин</td>\n",
       "      <td>2018-05-25</td>\n",
       "      <td>ultra</td>\n",
       "    </tr>\n",
       "    <tr>\n",
       "      <th>3</th>\n",
       "      <td>1000</td>\n",
       "      <td>52</td>\n",
       "      <td>408.0</td>\n",
       "      <td>81</td>\n",
       "      <td>14.0</td>\n",
       "      <td>52</td>\n",
       "      <td>NaT</td>\n",
       "      <td>Краснодар</td>\n",
       "      <td>Рафаил</td>\n",
       "      <td>Верещагин</td>\n",
       "      <td>2018-05-25</td>\n",
       "      <td>ultra</td>\n",
       "    </tr>\n",
       "    <tr>\n",
       "      <th>4</th>\n",
       "      <td>1000</td>\n",
       "      <td>58</td>\n",
       "      <td>466.0</td>\n",
       "      <td>57</td>\n",
       "      <td>15.0</td>\n",
       "      <td>52</td>\n",
       "      <td>NaT</td>\n",
       "      <td>Краснодар</td>\n",
       "      <td>Рафаил</td>\n",
       "      <td>Верещагин</td>\n",
       "      <td>2018-05-25</td>\n",
       "      <td>ultra</td>\n",
       "    </tr>\n",
       "    <tr>\n",
       "      <th>5</th>\n",
       "      <td>1000</td>\n",
       "      <td>57</td>\n",
       "      <td>350.0</td>\n",
       "      <td>73</td>\n",
       "      <td>15.0</td>\n",
       "      <td>52</td>\n",
       "      <td>NaT</td>\n",
       "      <td>Краснодар</td>\n",
       "      <td>Рафаил</td>\n",
       "      <td>Верещагин</td>\n",
       "      <td>2018-05-25</td>\n",
       "      <td>ultra</td>\n",
       "    </tr>\n",
       "    <tr>\n",
       "      <th>6</th>\n",
       "      <td>1000</td>\n",
       "      <td>43</td>\n",
       "      <td>338.0</td>\n",
       "      <td>58</td>\n",
       "      <td>15.0</td>\n",
       "      <td>52</td>\n",
       "      <td>NaT</td>\n",
       "      <td>Краснодар</td>\n",
       "      <td>Рафаил</td>\n",
       "      <td>Верещагин</td>\n",
       "      <td>2018-05-25</td>\n",
       "      <td>ultra</td>\n",
       "    </tr>\n",
       "    <tr>\n",
       "      <th>7</th>\n",
       "      <td>1000</td>\n",
       "      <td>46</td>\n",
       "      <td>333.0</td>\n",
       "      <td>70</td>\n",
       "      <td>10.0</td>\n",
       "      <td>52</td>\n",
       "      <td>NaT</td>\n",
       "      <td>Краснодар</td>\n",
       "      <td>Рафаил</td>\n",
       "      <td>Верещагин</td>\n",
       "      <td>2018-05-25</td>\n",
       "      <td>ultra</td>\n",
       "    </tr>\n",
       "    <tr>\n",
       "      <th>8</th>\n",
       "      <td>1002</td>\n",
       "      <td>15</td>\n",
       "      <td>117.0</td>\n",
       "      <td>4</td>\n",
       "      <td>11.0</td>\n",
       "      <td>59</td>\n",
       "      <td>NaT</td>\n",
       "      <td>Стерлитамак</td>\n",
       "      <td>Евгений</td>\n",
       "      <td>Абрамович</td>\n",
       "      <td>2018-06-17</td>\n",
       "      <td>smart</td>\n",
       "    </tr>\n",
       "    <tr>\n",
       "      <th>9</th>\n",
       "      <td>1002</td>\n",
       "      <td>26</td>\n",
       "      <td>214.0</td>\n",
       "      <td>11</td>\n",
       "      <td>18.0</td>\n",
       "      <td>59</td>\n",
       "      <td>NaT</td>\n",
       "      <td>Стерлитамак</td>\n",
       "      <td>Евгений</td>\n",
       "      <td>Абрамович</td>\n",
       "      <td>2018-06-17</td>\n",
       "      <td>smart</td>\n",
       "    </tr>\n",
       "  </tbody>\n",
       "</table>\n",
       "</div>"
      ],
      "text/plain": [
       "   user_id  count_calls  sum_minute_calls  count_messages  sum_gb_used  age  \\\n",
       "0     1000           22             159.0              22          3.0   52   \n",
       "1     1000           43             172.0              60         23.0   52   \n",
       "2     1000           47             340.0              75         14.0   52   \n",
       "3     1000           52             408.0              81         14.0   52   \n",
       "4     1000           58             466.0              57         15.0   52   \n",
       "5     1000           57             350.0              73         15.0   52   \n",
       "6     1000           43             338.0              58         15.0   52   \n",
       "7     1000           46             333.0              70         10.0   52   \n",
       "8     1002           15             117.0               4         11.0   59   \n",
       "9     1002           26             214.0              11         18.0   59   \n",
       "\n",
       "  churn_date         city first_name  last_name   reg_date tariff  \n",
       "0        NaT    Краснодар     Рафаил  Верещагин 2018-05-25  ultra  \n",
       "1        NaT    Краснодар     Рафаил  Верещагин 2018-05-25  ultra  \n",
       "2        NaT    Краснодар     Рафаил  Верещагин 2018-05-25  ultra  \n",
       "3        NaT    Краснодар     Рафаил  Верещагин 2018-05-25  ultra  \n",
       "4        NaT    Краснодар     Рафаил  Верещагин 2018-05-25  ultra  \n",
       "5        NaT    Краснодар     Рафаил  Верещагин 2018-05-25  ultra  \n",
       "6        NaT    Краснодар     Рафаил  Верещагин 2018-05-25  ultra  \n",
       "7        NaT    Краснодар     Рафаил  Верещагин 2018-05-25  ultra  \n",
       "8        NaT  Стерлитамак    Евгений  Абрамович 2018-06-17  smart  \n",
       "9        NaT  Стерлитамак    Евгений  Абрамович 2018-06-17  smart  "
      ]
     },
     "execution_count": 18,
     "metadata": {},
     "output_type": "execute_result"
    }
   ],
   "source": [
    "calls_and_messages = calls_pivot_table.merge(messages_pivot_table, on=['user_id', 'month'])\n",
    "calls_messages_internet = calls_and_messages.merge(internet_pivot_table, on=['user_id', 'month']) #потом соеденить с интернетом по id и месяцу\n",
    "df_merge = calls_messages_internet.merge(users, on='user_id', how='left')\n",
    "df_merge.head(10)"
   ]
  },
  {
   "cell_type": "markdown",
   "metadata": {},
   "source": [
    "Создадим функцию, которая будет считать выручку"
   ]
  },
  {
   "cell_type": "code",
   "execution_count": 19,
   "metadata": {},
   "outputs": [
    {
     "data": {
      "text/html": [
       "<div>\n",
       "<style scoped>\n",
       "    .dataframe tbody tr th:only-of-type {\n",
       "        vertical-align: middle;\n",
       "    }\n",
       "\n",
       "    .dataframe tbody tr th {\n",
       "        vertical-align: top;\n",
       "    }\n",
       "\n",
       "    .dataframe thead th {\n",
       "        text-align: right;\n",
       "    }\n",
       "</style>\n",
       "<table border=\"1\" class=\"dataframe\">\n",
       "  <thead>\n",
       "    <tr style=\"text-align: right;\">\n",
       "      <th></th>\n",
       "      <th>user_id</th>\n",
       "      <th>count_calls</th>\n",
       "      <th>sum_minute_calls</th>\n",
       "      <th>count_messages</th>\n",
       "      <th>sum_gb_used</th>\n",
       "      <th>age</th>\n",
       "      <th>churn_date</th>\n",
       "      <th>city</th>\n",
       "      <th>first_name</th>\n",
       "      <th>last_name</th>\n",
       "      <th>reg_date</th>\n",
       "      <th>tariff</th>\n",
       "      <th>total_income</th>\n",
       "    </tr>\n",
       "  </thead>\n",
       "  <tbody>\n",
       "    <tr>\n",
       "      <th>0</th>\n",
       "      <td>1000</td>\n",
       "      <td>22</td>\n",
       "      <td>159.0</td>\n",
       "      <td>22</td>\n",
       "      <td>3.0</td>\n",
       "      <td>52</td>\n",
       "      <td>NaT</td>\n",
       "      <td>Краснодар</td>\n",
       "      <td>Рафаил</td>\n",
       "      <td>Верещагин</td>\n",
       "      <td>2018-05-25</td>\n",
       "      <td>ultra</td>\n",
       "      <td>1950.0</td>\n",
       "    </tr>\n",
       "    <tr>\n",
       "      <th>1</th>\n",
       "      <td>1000</td>\n",
       "      <td>43</td>\n",
       "      <td>172.0</td>\n",
       "      <td>60</td>\n",
       "      <td>23.0</td>\n",
       "      <td>52</td>\n",
       "      <td>NaT</td>\n",
       "      <td>Краснодар</td>\n",
       "      <td>Рафаил</td>\n",
       "      <td>Верещагин</td>\n",
       "      <td>2018-05-25</td>\n",
       "      <td>ultra</td>\n",
       "      <td>1950.0</td>\n",
       "    </tr>\n",
       "    <tr>\n",
       "      <th>2</th>\n",
       "      <td>1000</td>\n",
       "      <td>47</td>\n",
       "      <td>340.0</td>\n",
       "      <td>75</td>\n",
       "      <td>14.0</td>\n",
       "      <td>52</td>\n",
       "      <td>NaT</td>\n",
       "      <td>Краснодар</td>\n",
       "      <td>Рафаил</td>\n",
       "      <td>Верещагин</td>\n",
       "      <td>2018-05-25</td>\n",
       "      <td>ultra</td>\n",
       "      <td>1950.0</td>\n",
       "    </tr>\n",
       "    <tr>\n",
       "      <th>3</th>\n",
       "      <td>1000</td>\n",
       "      <td>52</td>\n",
       "      <td>408.0</td>\n",
       "      <td>81</td>\n",
       "      <td>14.0</td>\n",
       "      <td>52</td>\n",
       "      <td>NaT</td>\n",
       "      <td>Краснодар</td>\n",
       "      <td>Рафаил</td>\n",
       "      <td>Верещагин</td>\n",
       "      <td>2018-05-25</td>\n",
       "      <td>ultra</td>\n",
       "      <td>1950.0</td>\n",
       "    </tr>\n",
       "    <tr>\n",
       "      <th>4</th>\n",
       "      <td>1000</td>\n",
       "      <td>58</td>\n",
       "      <td>466.0</td>\n",
       "      <td>57</td>\n",
       "      <td>15.0</td>\n",
       "      <td>52</td>\n",
       "      <td>NaT</td>\n",
       "      <td>Краснодар</td>\n",
       "      <td>Рафаил</td>\n",
       "      <td>Верещагин</td>\n",
       "      <td>2018-05-25</td>\n",
       "      <td>ultra</td>\n",
       "      <td>1950.0</td>\n",
       "    </tr>\n",
       "    <tr>\n",
       "      <th>5</th>\n",
       "      <td>1000</td>\n",
       "      <td>57</td>\n",
       "      <td>350.0</td>\n",
       "      <td>73</td>\n",
       "      <td>15.0</td>\n",
       "      <td>52</td>\n",
       "      <td>NaT</td>\n",
       "      <td>Краснодар</td>\n",
       "      <td>Рафаил</td>\n",
       "      <td>Верещагин</td>\n",
       "      <td>2018-05-25</td>\n",
       "      <td>ultra</td>\n",
       "      <td>1950.0</td>\n",
       "    </tr>\n",
       "    <tr>\n",
       "      <th>6</th>\n",
       "      <td>1000</td>\n",
       "      <td>43</td>\n",
       "      <td>338.0</td>\n",
       "      <td>58</td>\n",
       "      <td>15.0</td>\n",
       "      <td>52</td>\n",
       "      <td>NaT</td>\n",
       "      <td>Краснодар</td>\n",
       "      <td>Рафаил</td>\n",
       "      <td>Верещагин</td>\n",
       "      <td>2018-05-25</td>\n",
       "      <td>ultra</td>\n",
       "      <td>1950.0</td>\n",
       "    </tr>\n",
       "    <tr>\n",
       "      <th>7</th>\n",
       "      <td>1000</td>\n",
       "      <td>46</td>\n",
       "      <td>333.0</td>\n",
       "      <td>70</td>\n",
       "      <td>10.0</td>\n",
       "      <td>52</td>\n",
       "      <td>NaT</td>\n",
       "      <td>Краснодар</td>\n",
       "      <td>Рафаил</td>\n",
       "      <td>Верещагин</td>\n",
       "      <td>2018-05-25</td>\n",
       "      <td>ultra</td>\n",
       "      <td>1950.0</td>\n",
       "    </tr>\n",
       "    <tr>\n",
       "      <th>8</th>\n",
       "      <td>1002</td>\n",
       "      <td>15</td>\n",
       "      <td>117.0</td>\n",
       "      <td>4</td>\n",
       "      <td>11.0</td>\n",
       "      <td>59</td>\n",
       "      <td>NaT</td>\n",
       "      <td>Стерлитамак</td>\n",
       "      <td>Евгений</td>\n",
       "      <td>Абрамович</td>\n",
       "      <td>2018-06-17</td>\n",
       "      <td>smart</td>\n",
       "      <td>550.0</td>\n",
       "    </tr>\n",
       "    <tr>\n",
       "      <th>9</th>\n",
       "      <td>1002</td>\n",
       "      <td>26</td>\n",
       "      <td>214.0</td>\n",
       "      <td>11</td>\n",
       "      <td>18.0</td>\n",
       "      <td>59</td>\n",
       "      <td>NaT</td>\n",
       "      <td>Стерлитамак</td>\n",
       "      <td>Евгений</td>\n",
       "      <td>Абрамович</td>\n",
       "      <td>2018-06-17</td>\n",
       "      <td>smart</td>\n",
       "      <td>1150.0</td>\n",
       "    </tr>\n",
       "  </tbody>\n",
       "</table>\n",
       "</div>"
      ],
      "text/plain": [
       "   user_id  count_calls  sum_minute_calls  count_messages  sum_gb_used  age  \\\n",
       "0     1000           22             159.0              22          3.0   52   \n",
       "1     1000           43             172.0              60         23.0   52   \n",
       "2     1000           47             340.0              75         14.0   52   \n",
       "3     1000           52             408.0              81         14.0   52   \n",
       "4     1000           58             466.0              57         15.0   52   \n",
       "5     1000           57             350.0              73         15.0   52   \n",
       "6     1000           43             338.0              58         15.0   52   \n",
       "7     1000           46             333.0              70         10.0   52   \n",
       "8     1002           15             117.0               4         11.0   59   \n",
       "9     1002           26             214.0              11         18.0   59   \n",
       "\n",
       "  churn_date         city first_name  last_name   reg_date tariff  \\\n",
       "0        NaT    Краснодар     Рафаил  Верещагин 2018-05-25  ultra   \n",
       "1        NaT    Краснодар     Рафаил  Верещагин 2018-05-25  ultra   \n",
       "2        NaT    Краснодар     Рафаил  Верещагин 2018-05-25  ultra   \n",
       "3        NaT    Краснодар     Рафаил  Верещагин 2018-05-25  ultra   \n",
       "4        NaT    Краснодар     Рафаил  Верещагин 2018-05-25  ultra   \n",
       "5        NaT    Краснодар     Рафаил  Верещагин 2018-05-25  ultra   \n",
       "6        NaT    Краснодар     Рафаил  Верещагин 2018-05-25  ultra   \n",
       "7        NaT    Краснодар     Рафаил  Верещагин 2018-05-25  ultra   \n",
       "8        NaT  Стерлитамак    Евгений  Абрамович 2018-06-17  smart   \n",
       "9        NaT  Стерлитамак    Евгений  Абрамович 2018-06-17  smart   \n",
       "\n",
       "   total_income  \n",
       "0        1950.0  \n",
       "1        1950.0  \n",
       "2        1950.0  \n",
       "3        1950.0  \n",
       "4        1950.0  \n",
       "5        1950.0  \n",
       "6        1950.0  \n",
       "7        1950.0  \n",
       "8         550.0  \n",
       "9        1150.0  "
      ]
     },
     "execution_count": 19,
     "metadata": {},
     "output_type": "execute_result"
    }
   ],
   "source": [
    "def income(row):\n",
    "    if row['tariff'] == 'smart': \n",
    "        sms = (row['count_messages'] - 50)*3\n",
    "        mins = (row['sum_minute_calls'] - 500)*3\n",
    "        gb = (row['sum_gb_used'] - 15)*200\n",
    "        total = 550\n",
    "        for i in [sms, mins, gb]:\n",
    "            if i > 0:\n",
    "                total += i\n",
    "    if row['tariff'] == 'ultra':\n",
    "        sms = (row['count_messages'] - 1000)*1\n",
    "        mins = (row['sum_minute_calls'] - 3000)*1\n",
    "        gb = (row['sum_gb_used'] - 30)*150\n",
    "        total = 1950\n",
    "        for i in [sms, mins, gb]:\n",
    "            if i > 0:\n",
    "                total += i\n",
    "                \n",
    "    return total\n",
    "\n",
    "df_merge['total_income'] = df_merge.apply(income,axis=1)\n",
    "df_merge.head(10)"
   ]
  },
  {
   "cell_type": "markdown",
   "metadata": {},
   "source": [
    "### Вывод\n",
    "\n",
    "Изменили типы данных в необходимых столбцах и дополнили наши таблицы значениями: посчитали количество сделанных звонков и израсходованных минут разговора по месяцам, количество отправленных сообщений по месяцам, объем израсходованного интернет-трафика по месяцам и помесячную выручку с каждого пользователя. Данные нам пригодятся для дальнейшего анализа."
   ]
  },
  {
   "cell_type": "markdown",
   "metadata": {},
   "source": [
    "## Анализ данных"
   ]
  },
  {
   "cell_type": "markdown",
   "metadata": {},
   "source": [
    "### Описание поведения клиентов"
   ]
  },
  {
   "cell_type": "markdown",
   "metadata": {},
   "source": [
    "Создадим 2 таблицы по тарифам"
   ]
  },
  {
   "cell_type": "code",
   "execution_count": 20,
   "metadata": {},
   "outputs": [],
   "source": [
    "smart = df_merge.query('tariff == \"smart\"')\n",
    "ultra = df_merge.query('tariff == \"ultra\"')"
   ]
  },
  {
   "cell_type": "code",
   "execution_count": 21,
   "metadata": {},
   "outputs": [
    {
     "data": {
      "text/html": [
       "<div>\n",
       "<style scoped>\n",
       "    .dataframe tbody tr th:only-of-type {\n",
       "        vertical-align: middle;\n",
       "    }\n",
       "\n",
       "    .dataframe tbody tr th {\n",
       "        vertical-align: top;\n",
       "    }\n",
       "\n",
       "    .dataframe thead th {\n",
       "        text-align: right;\n",
       "    }\n",
       "</style>\n",
       "<table border=\"1\" class=\"dataframe\">\n",
       "  <thead>\n",
       "    <tr style=\"text-align: right;\">\n",
       "      <th></th>\n",
       "      <th>sum_minute_calls</th>\n",
       "      <th>count_messages</th>\n",
       "      <th>sum_gb_used</th>\n",
       "      <th>total_income</th>\n",
       "    </tr>\n",
       "  </thead>\n",
       "  <tbody>\n",
       "    <tr>\n",
       "      <th>count</th>\n",
       "      <td>1915.000000</td>\n",
       "      <td>1915.000000</td>\n",
       "      <td>1915.000000</td>\n",
       "      <td>1915.000000</td>\n",
       "    </tr>\n",
       "    <tr>\n",
       "      <th>mean</th>\n",
       "      <td>421.034987</td>\n",
       "      <td>38.767102</td>\n",
       "      <td>16.343603</td>\n",
       "      <td>1287.544648</td>\n",
       "    </tr>\n",
       "    <tr>\n",
       "      <th>std</th>\n",
       "      <td>187.712806</td>\n",
       "      <td>26.810513</td>\n",
       "      <td>5.664880</td>\n",
       "      <td>821.141734</td>\n",
       "    </tr>\n",
       "    <tr>\n",
       "      <th>min</th>\n",
       "      <td>0.000000</td>\n",
       "      <td>1.000000</td>\n",
       "      <td>0.000000</td>\n",
       "      <td>550.000000</td>\n",
       "    </tr>\n",
       "    <tr>\n",
       "      <th>25%</th>\n",
       "      <td>287.500000</td>\n",
       "      <td>17.000000</td>\n",
       "      <td>13.000000</td>\n",
       "      <td>553.000000</td>\n",
       "    </tr>\n",
       "    <tr>\n",
       "      <th>50%</th>\n",
       "      <td>427.000000</td>\n",
       "      <td>34.000000</td>\n",
       "      <td>17.000000</td>\n",
       "      <td>1009.000000</td>\n",
       "    </tr>\n",
       "    <tr>\n",
       "      <th>75%</th>\n",
       "      <td>547.000000</td>\n",
       "      <td>55.000000</td>\n",
       "      <td>20.000000</td>\n",
       "      <td>1750.000000</td>\n",
       "    </tr>\n",
       "    <tr>\n",
       "      <th>max</th>\n",
       "      <td>1435.000000</td>\n",
       "      <td>143.000000</td>\n",
       "      <td>38.000000</td>\n",
       "      <td>6770.000000</td>\n",
       "    </tr>\n",
       "  </tbody>\n",
       "</table>\n",
       "</div>"
      ],
      "text/plain": [
       "       sum_minute_calls  count_messages  sum_gb_used  total_income\n",
       "count       1915.000000     1915.000000  1915.000000   1915.000000\n",
       "mean         421.034987       38.767102    16.343603   1287.544648\n",
       "std          187.712806       26.810513     5.664880    821.141734\n",
       "min            0.000000        1.000000     0.000000    550.000000\n",
       "25%          287.500000       17.000000    13.000000    553.000000\n",
       "50%          427.000000       34.000000    17.000000   1009.000000\n",
       "75%          547.000000       55.000000    20.000000   1750.000000\n",
       "max         1435.000000      143.000000    38.000000   6770.000000"
      ]
     },
     "execution_count": 21,
     "metadata": {},
     "output_type": "execute_result"
    }
   ],
   "source": [
    "smart[['sum_minute_calls','count_messages','sum_gb_used','total_income']].describe()"
   ]
  },
  {
   "cell_type": "code",
   "execution_count": 22,
   "metadata": {},
   "outputs": [
    {
     "data": {
      "text/html": [
       "<div>\n",
       "<style scoped>\n",
       "    .dataframe tbody tr th:only-of-type {\n",
       "        vertical-align: middle;\n",
       "    }\n",
       "\n",
       "    .dataframe tbody tr th {\n",
       "        vertical-align: top;\n",
       "    }\n",
       "\n",
       "    .dataframe thead th {\n",
       "        text-align: right;\n",
       "    }\n",
       "</style>\n",
       "<table border=\"1\" class=\"dataframe\">\n",
       "  <thead>\n",
       "    <tr style=\"text-align: right;\">\n",
       "      <th></th>\n",
       "      <th>sum_minute_calls</th>\n",
       "      <th>count_messages</th>\n",
       "      <th>sum_gb_used</th>\n",
       "      <th>total_income</th>\n",
       "    </tr>\n",
       "  </thead>\n",
       "  <tbody>\n",
       "    <tr>\n",
       "      <th>count</th>\n",
       "      <td>752.000000</td>\n",
       "      <td>752.000000</td>\n",
       "      <td>752.000000</td>\n",
       "      <td>752.000000</td>\n",
       "    </tr>\n",
       "    <tr>\n",
       "      <th>mean</th>\n",
       "      <td>556.857713</td>\n",
       "      <td>61.640957</td>\n",
       "      <td>19.603723</td>\n",
       "      <td>2048.337766</td>\n",
       "    </tr>\n",
       "    <tr>\n",
       "      <th>std</th>\n",
       "      <td>311.862810</td>\n",
       "      <td>44.816850</td>\n",
       "      <td>9.382386</td>\n",
       "      <td>331.402263</td>\n",
       "    </tr>\n",
       "    <tr>\n",
       "      <th>min</th>\n",
       "      <td>0.000000</td>\n",
       "      <td>1.000000</td>\n",
       "      <td>0.000000</td>\n",
       "      <td>1950.000000</td>\n",
       "    </tr>\n",
       "    <tr>\n",
       "      <th>25%</th>\n",
       "      <td>331.750000</td>\n",
       "      <td>25.000000</td>\n",
       "      <td>12.000000</td>\n",
       "      <td>1950.000000</td>\n",
       "    </tr>\n",
       "    <tr>\n",
       "      <th>50%</th>\n",
       "      <td>537.500000</td>\n",
       "      <td>53.000000</td>\n",
       "      <td>19.000000</td>\n",
       "      <td>1950.000000</td>\n",
       "    </tr>\n",
       "    <tr>\n",
       "      <th>75%</th>\n",
       "      <td>760.250000</td>\n",
       "      <td>89.000000</td>\n",
       "      <td>27.000000</td>\n",
       "      <td>1950.000000</td>\n",
       "    </tr>\n",
       "    <tr>\n",
       "      <th>max</th>\n",
       "      <td>1673.000000</td>\n",
       "      <td>224.000000</td>\n",
       "      <td>49.000000</td>\n",
       "      <td>4800.000000</td>\n",
       "    </tr>\n",
       "  </tbody>\n",
       "</table>\n",
       "</div>"
      ],
      "text/plain": [
       "       sum_minute_calls  count_messages  sum_gb_used  total_income\n",
       "count        752.000000      752.000000   752.000000    752.000000\n",
       "mean         556.857713       61.640957    19.603723   2048.337766\n",
       "std          311.862810       44.816850     9.382386    331.402263\n",
       "min            0.000000        1.000000     0.000000   1950.000000\n",
       "25%          331.750000       25.000000    12.000000   1950.000000\n",
       "50%          537.500000       53.000000    19.000000   1950.000000\n",
       "75%          760.250000       89.000000    27.000000   1950.000000\n",
       "max         1673.000000      224.000000    49.000000   4800.000000"
      ]
     },
     "execution_count": 22,
     "metadata": {},
     "output_type": "execute_result"
    }
   ],
   "source": [
    "ultra[['sum_minute_calls','count_messages','sum_gb_used','total_income']].describe()"
   ]
  },
  {
   "cell_type": "markdown",
   "metadata": {},
   "source": [
    "Медианное число израсходованных минут по месяцам в тарифе `smart` 427, в `ultra` 538.\n",
    "\n",
    "Медианное количество сообщений в `smart` 34, в `ultra` 53\n",
    "\n",
    "Медианный объем ихрасходованного трафика в `smart` 17Гб, в `ultra` 19Гб.\n",
    "\n",
    "Медианная прибыль с одного клиента в месяц в `smart` 1009 рублей, в `ultra` 1950 рублей.\n"
   ]
  },
  {
   "cell_type": "markdown",
   "metadata": {},
   "source": [
    "**Посчитаем среднее количество, дисперсию и стандартное отклонение для минут разговора по двум тарифам:**"
   ]
  },
  {
   "cell_type": "code",
   "execution_count": 23,
   "metadata": {},
   "outputs": [
    {
     "data": {
      "text/html": [
       "<div>\n",
       "<style scoped>\n",
       "    .dataframe tbody tr th:only-of-type {\n",
       "        vertical-align: middle;\n",
       "    }\n",
       "\n",
       "    .dataframe tbody tr th {\n",
       "        vertical-align: top;\n",
       "    }\n",
       "\n",
       "    .dataframe thead th {\n",
       "        text-align: right;\n",
       "    }\n",
       "</style>\n",
       "<table border=\"1\" class=\"dataframe\">\n",
       "  <thead>\n",
       "    <tr style=\"text-align: right;\">\n",
       "      <th></th>\n",
       "      <th>mean</th>\n",
       "      <th>std</th>\n",
       "      <th>var</th>\n",
       "    </tr>\n",
       "    <tr>\n",
       "      <th>tariff</th>\n",
       "      <th></th>\n",
       "      <th></th>\n",
       "      <th></th>\n",
       "    </tr>\n",
       "  </thead>\n",
       "  <tbody>\n",
       "    <tr>\n",
       "      <th>smart</th>\n",
       "      <td>421.034987</td>\n",
       "      <td>187.712806</td>\n",
       "      <td>35236.097521</td>\n",
       "    </tr>\n",
       "    <tr>\n",
       "      <th>ultra</th>\n",
       "      <td>556.857713</td>\n",
       "      <td>311.862810</td>\n",
       "      <td>97258.412484</td>\n",
       "    </tr>\n",
       "  </tbody>\n",
       "</table>\n",
       "</div>"
      ],
      "text/plain": [
       "              mean         std           var\n",
       "tariff                                      \n",
       "smart   421.034987  187.712806  35236.097521\n",
       "ultra   556.857713  311.862810  97258.412484"
      ]
     },
     "execution_count": 23,
     "metadata": {},
     "output_type": "execute_result"
    }
   ],
   "source": [
    "mins_tariffs = df_merge.pivot_table(index='tariff', values='sum_minute_calls', aggfunc=['mean','std','var'])\n",
    "mins_tariffs.columns=['mean','std','var']\n",
    "mins_tariffs"
   ]
  },
  {
   "cell_type": "markdown",
   "metadata": {},
   "source": [
    "Среднее значение, стандартное отклоние и дисперсия минут для тарифа ultra больше."
   ]
  },
  {
   "cell_type": "markdown",
   "metadata": {},
   "source": [
    "**Посчитаем среднее количество, дисперсию и стандартное отклонение для сообщений по двум тарифам:**"
   ]
  },
  {
   "cell_type": "code",
   "execution_count": 24,
   "metadata": {},
   "outputs": [
    {
     "data": {
      "text/html": [
       "<div>\n",
       "<style scoped>\n",
       "    .dataframe tbody tr th:only-of-type {\n",
       "        vertical-align: middle;\n",
       "    }\n",
       "\n",
       "    .dataframe tbody tr th {\n",
       "        vertical-align: top;\n",
       "    }\n",
       "\n",
       "    .dataframe thead th {\n",
       "        text-align: right;\n",
       "    }\n",
       "</style>\n",
       "<table border=\"1\" class=\"dataframe\">\n",
       "  <thead>\n",
       "    <tr style=\"text-align: right;\">\n",
       "      <th></th>\n",
       "      <th>mean</th>\n",
       "      <th>std</th>\n",
       "      <th>var</th>\n",
       "    </tr>\n",
       "    <tr>\n",
       "      <th>tariff</th>\n",
       "      <th></th>\n",
       "      <th></th>\n",
       "      <th></th>\n",
       "    </tr>\n",
       "  </thead>\n",
       "  <tbody>\n",
       "    <tr>\n",
       "      <th>smart</th>\n",
       "      <td>38.767102</td>\n",
       "      <td>26.810513</td>\n",
       "      <td>718.803619</td>\n",
       "    </tr>\n",
       "    <tr>\n",
       "      <th>ultra</th>\n",
       "      <td>61.640957</td>\n",
       "      <td>44.816850</td>\n",
       "      <td>2008.550011</td>\n",
       "    </tr>\n",
       "  </tbody>\n",
       "</table>\n",
       "</div>"
      ],
      "text/plain": [
       "             mean        std          var\n",
       "tariff                                   \n",
       "smart   38.767102  26.810513   718.803619\n",
       "ultra   61.640957  44.816850  2008.550011"
      ]
     },
     "execution_count": 24,
     "metadata": {},
     "output_type": "execute_result"
    }
   ],
   "source": [
    "sms_tariffs = df_merge.pivot_table(index='tariff', values='count_messages', aggfunc=['mean','std','var'])\n",
    "sms_tariffs.columns=['mean','std','var']\n",
    "sms_tariffs"
   ]
  },
  {
   "cell_type": "markdown",
   "metadata": {},
   "source": [
    "Среднее значение, стандартное отклоние и дисперсия сообщений для тарифа ultra больше."
   ]
  },
  {
   "cell_type": "markdown",
   "metadata": {},
   "source": [
    "**Посчитаем среднее количество, дисперсию и стандартное отклонение для интернет-трафика по двум тарифам:**"
   ]
  },
  {
   "cell_type": "code",
   "execution_count": 25,
   "metadata": {},
   "outputs": [
    {
     "data": {
      "text/html": [
       "<div>\n",
       "<style scoped>\n",
       "    .dataframe tbody tr th:only-of-type {\n",
       "        vertical-align: middle;\n",
       "    }\n",
       "\n",
       "    .dataframe tbody tr th {\n",
       "        vertical-align: top;\n",
       "    }\n",
       "\n",
       "    .dataframe thead th {\n",
       "        text-align: right;\n",
       "    }\n",
       "</style>\n",
       "<table border=\"1\" class=\"dataframe\">\n",
       "  <thead>\n",
       "    <tr style=\"text-align: right;\">\n",
       "      <th></th>\n",
       "      <th>mean</th>\n",
       "      <th>std</th>\n",
       "      <th>var</th>\n",
       "    </tr>\n",
       "    <tr>\n",
       "      <th>tariff</th>\n",
       "      <th></th>\n",
       "      <th></th>\n",
       "      <th></th>\n",
       "    </tr>\n",
       "  </thead>\n",
       "  <tbody>\n",
       "    <tr>\n",
       "      <th>smart</th>\n",
       "      <td>16.343603</td>\n",
       "      <td>5.664880</td>\n",
       "      <td>32.090862</td>\n",
       "    </tr>\n",
       "    <tr>\n",
       "      <th>ultra</th>\n",
       "      <td>19.603723</td>\n",
       "      <td>9.382386</td>\n",
       "      <td>88.029174</td>\n",
       "    </tr>\n",
       "  </tbody>\n",
       "</table>\n",
       "</div>"
      ],
      "text/plain": [
       "             mean       std        var\n",
       "tariff                                \n",
       "smart   16.343603  5.664880  32.090862\n",
       "ultra   19.603723  9.382386  88.029174"
      ]
     },
     "execution_count": 25,
     "metadata": {},
     "output_type": "execute_result"
    }
   ],
   "source": [
    "gb_tariffs = df_merge.pivot_table(index='tariff', values='sum_gb_used', aggfunc=['mean','std','var'])\n",
    "gb_tariffs.columns=['mean','std','var']\n",
    "gb_tariffs"
   ]
  },
  {
   "cell_type": "markdown",
   "metadata": {},
   "source": [
    "Среднее значение, стандартное отклоние и дисперсия интернет-трафика для тарифа ultra больше."
   ]
  },
  {
   "cell_type": "markdown",
   "metadata": {},
   "source": [
    "### Построение гистограмм"
   ]
  },
  {
   "cell_type": "markdown",
   "metadata": {},
   "source": [
    "**Построим гистограмму для минут разговора по двум тарифам**"
   ]
  },
  {
   "cell_type": "code",
   "execution_count": 26,
   "metadata": {
    "scrolled": true
   },
   "outputs": [
    {
     "data": {
      "text/plain": [
       "Text(0.5, 0, 'Минуты')"
      ]
     },
     "execution_count": 26,
     "metadata": {},
     "output_type": "execute_result"
    },
    {
     "data": {
      "image/png": "[encoded data removed]",
      "text/plain": [
       "<Figure size 432x288 with 1 Axes>"
      ]
     },
     "metadata": {
      "needs_background": "light"
     },
     "output_type": "display_data"
    }
   ],
   "source": [
    "ax = smart.plot(\n",
    "    kind='hist',\n",
    "    y='sum_minute_calls',\n",
    "    histtype='step',\n",
    "    grid=True,\n",
    "    bins=10, \n",
    "    range=[0,1000],\n",
    "    alpha=0.7, \n",
    "    linewidth=5,\n",
    "    label='smart'\n",
    ")\n",
    "ultra.plot(\n",
    "    kind='hist',\n",
    "    y='sum_minute_calls',\n",
    "    histtype='step',\n",
    "    grid=True,\n",
    "    bins=10, \n",
    "    range=[0,1000],\n",
    "    alpha=0.7, \n",
    "    linewidth=5, \n",
    "    label='ultra',\n",
    "    ax=ax, \n",
    "    legend=True)\n",
    "plt.title('Звонки')\n",
    "plt.ylabel('Частота')\n",
    "plt.xlabel('Минуты')"
   ]
  },
  {
   "cell_type": "markdown",
   "metadata": {},
   "source": [
    "Нормальное распределение"
   ]
  },
  {
   "cell_type": "markdown",
   "metadata": {},
   "source": [
    "**Построим гистограмму для сообщений по двум тарифам**"
   ]
  },
  {
   "cell_type": "code",
   "execution_count": 27,
   "metadata": {
    "scrolled": true
   },
   "outputs": [
    {
     "data": {
      "text/plain": [
       "Text(0.5, 0, 'Количество смс')"
      ]
     },
     "execution_count": 27,
     "metadata": {},
     "output_type": "execute_result"
    },
    {
     "data": {
      "image/png": "[encoded data removed]",
      "text/plain": [
       "<Figure size 432x288 with 1 Axes>"
      ]
     },
     "metadata": {
      "needs_background": "light"
     },
     "output_type": "display_data"
    }
   ],
   "source": [
    "ax = smart.plot(\n",
    "    kind='hist',\n",
    "    y='count_messages',\n",
    "    histtype='step',\n",
    "    grid=True,\n",
    "    bins=15, \n",
    "    range=[0,180],\n",
    "    alpha=0.7, \n",
    "    linewidth=5,\n",
    "    label='smart'\n",
    ")\n",
    "ultra.plot(\n",
    "    kind='hist',\n",
    "    y='count_messages',\n",
    "    histtype='step',\n",
    "    grid=True,\n",
    "    bins=15, \n",
    "    range=[0,180],\n",
    "    alpha=0.7, \n",
    "    linewidth=5, \n",
    "    label='ultra',\n",
    "    ax=ax, \n",
    "    legend=True)\n",
    "plt.title('Сообщения')\n",
    "plt.ylabel('Частота')\n",
    "plt.xlabel('Количество смс')"
   ]
  },
  {
   "cell_type": "markdown",
   "metadata": {},
   "source": [
    "Для тарифа smart нормальное распределение со смещением влево, распределение тарифа ultra сильно отличается от нормального."
   ]
  },
  {
   "cell_type": "markdown",
   "metadata": {},
   "source": [
    "**Построим гистограмму для интернет-трафика по двум тарифам**"
   ]
  },
  {
   "cell_type": "code",
   "execution_count": 28,
   "metadata": {
    "scrolled": true
   },
   "outputs": [
    {
     "data": {
      "text/plain": [
       "Text(0.5, 0, 'Гб')"
      ]
     },
     "execution_count": 28,
     "metadata": {},
     "output_type": "execute_result"
    },
    {
     "data": {
      "image/png": "[encoded data removed]",
      "text/plain": [
       "<Figure size 432x288 with 1 Axes>"
      ]
     },
     "metadata": {
      "needs_background": "light"
     },
     "output_type": "display_data"
    }
   ],
   "source": [
    "ax = smart.plot(\n",
    "    kind='hist',\n",
    "    y='sum_gb_used',\n",
    "    histtype='step',\n",
    "    grid=True,\n",
    "    bins=15, \n",
    "    range=[0,50],\n",
    "    alpha=0.7, \n",
    "    linewidth=5,\n",
    "    label='smart'\n",
    ")\n",
    "ultra.plot(\n",
    "    kind='hist',\n",
    "    y='sum_gb_used',\n",
    "    histtype='step',\n",
    "    grid=True,\n",
    "    bins=15, \n",
    "    range=[0,50],\n",
    "    alpha=0.7, \n",
    "    linewidth=5, \n",
    "    label='ultra',\n",
    "    ax=ax, \n",
    "    legend=True\n",
    ")\n",
    "plt.title('Интернет-трафик')\n",
    "plt.ylabel('Частота')\n",
    "plt.xlabel('Гб') "
   ]
  },
  {
   "cell_type": "markdown",
   "metadata": {},
   "source": [
    "Нормальное распределение"
   ]
  },
  {
   "cell_type": "markdown",
   "metadata": {},
   "source": [
    "### Вывод"
   ]
  },
  {
   "cell_type": "markdown",
   "metadata": {},
   "source": [
    "Для пользователей тарифа «Смарт» характерно следующее:\n",
    "* в среднем требуется от 300 до 550 минут на звонки в месяц;\n",
    "* от 15 до 48 сообщений в месяц;\n",
    "* от 13 до 23 Гб интернет-трафика в месяц.\n",
    "\n",
    "Для пользователей тарифа «Ультра» характерно следующее:\n",
    "* в среднем требуется от 300 до 900 минут на звонки в месяц;\n",
    "* до 105 сообщений в месяц;\n",
    "* от 10 до 32 Гб интернет-трафика в месяц.\n",
    "\n",
    "Пользователи тарифа 'Смарт' чаще превышают лимит, особенно по звонкам и интернет-трафику. В то время как пользователи тарифа 'Ультра' могут превысить лимит только по интернет-трафику.\n"
   ]
  },
  {
   "cell_type": "markdown",
   "metadata": {},
   "source": [
    "## Проверка гипотез"
   ]
  },
  {
   "cell_type": "markdown",
   "metadata": {},
   "source": [
    "### Средняя выручка пользователей тарифов «Ультра» и «Смарт» различаются"
   ]
  },
  {
   "cell_type": "markdown",
   "metadata": {},
   "source": [
    "Сформулируем нулевую и альтернативную гипотезы:\n",
    "\n",
    "* Н0: Средняя выручка пользователей тарифов «Ультра» и «Смарт» равны;\n",
    "* Н1: Средняя выручка пользователей тарифов «Ультра» и «Смарт» различаются.\n",
    "\n",
    "Для проверки гипотезы воспользуемся методом `scipy.stats.ttest_ind` т.к мы имеем две независимые генеральные совокупности."
   ]
  },
  {
   "cell_type": "code",
   "execution_count": 29,
   "metadata": {},
   "outputs": [
    {
     "name": "stdout",
     "output_type": "stream",
     "text": [
      "p-значение: 1.1602666276933817e-211\n",
      "Отвергаем нулевую гипотезу\n"
     ]
    }
   ],
   "source": [
    "alpha = .05\n",
    "results = st.ttest_ind(df_merge[df_merge['tariff'] == 'smart']['total_income'],df_merge[df_merge['tariff'] == 'ultra']['total_income'],equal_var = False)\n",
    "print('p-значение:', results.pvalue)\n",
    "if results.pvalue < alpha:\n",
    "    print(\"Отвергаем нулевую гипотезу\")\n",
    "else:\n",
    "    print(\"Не получилось отвергнуть нулевую гипотезу\") "
   ]
  },
  {
   "cell_type": "markdown",
   "metadata": {},
   "source": [
    "Данные предоставляют достаточное основание — для выбранного уровня значимости — отвергнуть нулевую гипотезу. Вероятность, что средняя выручка тарифов «Ультра» и «Смарт» равны близится к 0. Кстати, даже при более строгом критическом значении статистической значимости — 0.01 — мы бы получили тот же результат: p-value не превышает и этого значения.\n",
    "\n",
    "Средняя выручка пользователей тарифов «Ультра» и «Смарт» различаются."
   ]
  },
  {
   "cell_type": "markdown",
   "metadata": {},
   "source": [
    "### Cредняя выручка пользователей из Москвы отличается от выручки пользователей из других регионов"
   ]
  },
  {
   "cell_type": "markdown",
   "metadata": {},
   "source": [
    "Сформулируем нулевую и альтернативную гипотезы:\n",
    "\n",
    "* Н0: Cредняя выручка пользователей из Москвы равна выручке пользователей из других регионов;\n",
    "* Н1: Cредняя выручка пользователей из Москвы отличается от выручки пользователей из других регионов.\n",
    "\n",
    "Для проверки гипотезы воспользуемся методом `scipy.stats.ttest_ind` т.к мы имее две независимые генеральные совокупности."
   ]
  },
  {
   "cell_type": "code",
   "execution_count": 30,
   "metadata": {},
   "outputs": [
    {
     "name": "stdout",
     "output_type": "stream",
     "text": [
      "p-значение: 0.11476827641741034\n",
      "Не получилось отвергнуть нулевую гипотезу\n"
     ]
    }
   ],
   "source": [
    "alpha = .05\n",
    "results = st.ttest_ind(df_merge[df_merge['city'] == 'Москва']['total_income'],df_merge[df_merge['city'] != 'Москва']['total_income'])\n",
    "print('p-значение:', results.pvalue)\n",
    "if results.pvalue < alpha:\n",
    "    print(\"Отвергаем нулевую гипотезу\")\n",
    "else:\n",
    "    print(\"Не получилось отвергнуть нулевую гипотезу\") "
   ]
  },
  {
   "cell_type": "markdown",
   "metadata": {},
   "source": [
    "Значение p-value показывает: вероятность случайно получить такое или большее различие равно почти 12%. Это явно слишком большая вероятность, чтобы делать вывод о значимом различии между средней выручкой пользователей из Москвы и других регионов. \n",
    "\n",
    "Cредняя выручка пользователей из Москвы равна выручке пользователей из других регионов."
   ]
  },
  {
   "cell_type": "markdown",
   "metadata": {},
   "source": [
    "## Общий вывод"
   ]
  },
  {
   "cell_type": "markdown",
   "metadata": {},
   "source": [
    "В ходе проекта была произведена предобработка исходных датасетов: добавлены столбцы с месяцами для таблиц calls, messages, internet, округлены в большую сторону количество минут разговора пользователей, переведены мб в гб, изменены типы данных необходимых значений.\n",
    "\n",
    "Для каждого пользователя были рассчитаны: количество сделанных звонков и израсходованных минут разговора по месяцам, количество отправленных сообщений по месяцам, объем израсходованного интернет-трафика по месяцам, помесячная выручка с каждого пользователя.\n",
    "\n",
    "Расчитано, сколько минут разговора, сообщений и какой объем трафика требуется пользователям каждого тарифа в месяц. Произвели расчет среднего количества, дисперсии и стандартного отклонения.\n",
    "\n",
    "Построены гистограммы, проанализированы распределения и сделаны выводы.\n",
    "\n",
    "Сформулированы и проверены гипотезы о различии выручки в зависимости от тарифа и от города пользователей.\n",
    "\n",
    "По результатам статистического анализа доходы от тарифа «Ультра» больше, чем от тарифа «Смарт»: в среднем «Мегалайн» от одного пользователя в месяц получает 1950 рублей и 1009 рублей соответственно.\n",
    "\n",
    "Однако, пользователи больше предпочитают тариф «Смарт». И именно этот тариф приносит больше дополнительного дохода т.к пользователи чаще превышают лимит(по количеству минут и особенно по интернет-трафику).\n",
    "\n",
    "Пользователи тарифа «Ультра» могут превысить лимит только в количестве гб интернета."
   ]
  }
 ],
 "metadata": {
  "ExecuteTimeLog": [
   {
    "duration": 72,
    "start_time": "2022-06-04T12:56:56.114Z"
   },
   {
    "duration": 515,
    "start_time": "2022-06-04T12:57:07.418Z"
   },
   {
    "duration": 227,
    "start_time": "2022-06-04T12:57:49.458Z"
   },
   {
    "duration": 207,
    "start_time": "2022-06-04T12:58:02.740Z"
   },
   {
    "duration": 185,
    "start_time": "2022-06-04T12:58:31.940Z"
   },
   {
    "duration": 30,
    "start_time": "2022-06-04T12:59:42.194Z"
   },
   {
    "duration": 180,
    "start_time": "2022-06-04T13:04:13.230Z"
   },
   {
    "duration": 26,
    "start_time": "2022-06-04T13:04:18.185Z"
   },
   {
    "duration": 872,
    "start_time": "2022-06-04T13:09:50.834Z"
   },
   {
    "duration": 447,
    "start_time": "2022-06-04T13:10:07.912Z"
   },
   {
    "duration": 25,
    "start_time": "2022-06-04T13:11:20.117Z"
   },
   {
    "duration": 10,
    "start_time": "2022-06-04T13:11:48.985Z"
   },
   {
    "duration": 12,
    "start_time": "2022-06-04T13:12:05.276Z"
   },
   {
    "duration": 10,
    "start_time": "2022-06-04T13:15:15.798Z"
   },
   {
    "duration": 19,
    "start_time": "2022-06-04T13:15:23.639Z"
   },
   {
    "duration": 14,
    "start_time": "2022-06-04T13:20:07.058Z"
   },
   {
    "duration": 23,
    "start_time": "2022-06-04T13:20:13.801Z"
   },
   {
    "duration": 9,
    "start_time": "2022-06-04T13:22:14.816Z"
   },
   {
    "duration": 11,
    "start_time": "2022-06-04T13:22:21.309Z"
   },
   {
    "duration": 16,
    "start_time": "2022-06-04T13:22:39.837Z"
   },
   {
    "duration": 1481,
    "start_time": "2022-06-04T14:00:39.811Z"
   },
   {
    "duration": 83,
    "start_time": "2022-06-04T14:08:58.017Z"
   },
   {
    "duration": 127,
    "start_time": "2022-06-04T14:09:01.392Z"
   },
   {
    "duration": 469,
    "start_time": "2022-06-04T14:34:15.495Z"
   },
   {
    "duration": 46,
    "start_time": "2022-06-04T14:36:06.091Z"
   },
   {
    "duration": 13,
    "start_time": "2022-06-04T14:40:46.715Z"
   },
   {
    "duration": 80,
    "start_time": "2022-06-04T14:49:03.907Z"
   },
   {
    "duration": 43,
    "start_time": "2022-06-04T14:52:53.811Z"
   },
   {
    "duration": 11,
    "start_time": "2022-06-04T16:18:30.746Z"
   },
   {
    "duration": 59,
    "start_time": "2022-06-04T16:19:48.849Z"
   },
   {
    "duration": 67,
    "start_time": "2022-06-04T16:26:30.835Z"
   },
   {
    "duration": 10,
    "start_time": "2022-06-04T16:31:08.263Z"
   },
   {
    "duration": 5,
    "start_time": "2022-06-04T16:31:15.867Z"
   },
   {
    "duration": 8,
    "start_time": "2022-06-04T17:05:29.700Z"
   },
   {
    "duration": 62,
    "start_time": "2022-06-04T17:05:35.741Z"
   },
   {
    "duration": 17,
    "start_time": "2022-06-04T17:05:37.806Z"
   },
   {
    "duration": 58,
    "start_time": "2022-06-04T17:09:56.862Z"
   },
   {
    "duration": 71,
    "start_time": "2022-06-04T17:11:19.901Z"
   },
   {
    "duration": 34,
    "start_time": "2022-06-04T17:18:35.266Z"
   },
   {
    "duration": 37,
    "start_time": "2022-06-04T17:23:50.708Z"
   },
   {
    "duration": 38,
    "start_time": "2022-06-04T17:27:44.154Z"
   },
   {
    "duration": 73,
    "start_time": "2022-06-04T18:03:40.754Z"
   },
   {
    "duration": 2265,
    "start_time": "2022-06-04T18:04:00.626Z"
   },
   {
    "duration": 26,
    "start_time": "2022-06-04T18:04:02.893Z"
   },
   {
    "duration": 21,
    "start_time": "2022-06-04T18:04:02.921Z"
   },
   {
    "duration": 24,
    "start_time": "2022-06-04T18:04:02.944Z"
   },
   {
    "duration": 14,
    "start_time": "2022-06-04T18:04:02.969Z"
   },
   {
    "duration": 33,
    "start_time": "2022-06-04T18:04:02.984Z"
   },
   {
    "duration": 19,
    "start_time": "2022-06-04T18:04:03.019Z"
   },
   {
    "duration": 45,
    "start_time": "2022-06-04T18:04:03.040Z"
   },
   {
    "duration": 10,
    "start_time": "2022-06-04T18:04:03.087Z"
   },
   {
    "duration": 38,
    "start_time": "2022-06-04T18:04:03.099Z"
   },
   {
    "duration": 108,
    "start_time": "2022-06-04T18:04:03.139Z"
   },
   {
    "duration": 35,
    "start_time": "2022-06-04T18:04:03.249Z"
   },
   {
    "duration": 20,
    "start_time": "2022-06-04T18:04:03.286Z"
   },
   {
    "duration": 43,
    "start_time": "2022-06-04T18:04:03.308Z"
   },
   {
    "duration": 135,
    "start_time": "2022-06-04T18:04:03.353Z"
   },
   {
    "duration": 0,
    "start_time": "2022-06-04T18:04:03.490Z"
   },
   {
    "duration": 0,
    "start_time": "2022-06-04T18:04:03.491Z"
   },
   {
    "duration": 0,
    "start_time": "2022-06-04T18:04:03.493Z"
   },
   {
    "duration": 22,
    "start_time": "2022-06-04T18:04:36.535Z"
   },
   {
    "duration": 30,
    "start_time": "2022-06-04T18:04:52.639Z"
   },
   {
    "duration": 456,
    "start_time": "2022-06-04T18:05:36.916Z"
   },
   {
    "duration": 1680,
    "start_time": "2022-06-04T18:05:48.235Z"
   },
   {
    "duration": 34,
    "start_time": "2022-06-04T18:05:49.917Z"
   },
   {
    "duration": 16,
    "start_time": "2022-06-04T18:05:49.953Z"
   },
   {
    "duration": 14,
    "start_time": "2022-06-04T18:05:49.971Z"
   },
   {
    "duration": 30,
    "start_time": "2022-06-04T18:05:49.988Z"
   },
   {
    "duration": 47,
    "start_time": "2022-06-04T18:05:50.020Z"
   },
   {
    "duration": 10,
    "start_time": "2022-06-04T18:05:50.069Z"
   },
   {
    "duration": 41,
    "start_time": "2022-06-04T18:05:50.081Z"
   },
   {
    "duration": 11,
    "start_time": "2022-06-04T18:05:50.124Z"
   },
   {
    "duration": 33,
    "start_time": "2022-06-04T18:05:50.137Z"
   },
   {
    "duration": 93,
    "start_time": "2022-06-04T18:05:50.172Z"
   },
   {
    "duration": 41,
    "start_time": "2022-06-04T18:05:50.267Z"
   },
   {
    "duration": 31,
    "start_time": "2022-06-04T18:05:50.310Z"
   },
   {
    "duration": 29,
    "start_time": "2022-06-04T18:05:50.343Z"
   },
   {
    "duration": 95,
    "start_time": "2022-06-04T18:05:50.373Z"
   },
   {
    "duration": 37,
    "start_time": "2022-06-04T18:05:50.469Z"
   },
   {
    "duration": 56,
    "start_time": "2022-06-04T18:05:50.508Z"
   },
   {
    "duration": 124,
    "start_time": "2022-06-04T18:05:50.566Z"
   },
   {
    "duration": 23,
    "start_time": "2022-06-04T18:07:32.752Z"
   },
   {
    "duration": 53,
    "start_time": "2022-06-06T05:26:45.123Z"
   },
   {
    "duration": 2057,
    "start_time": "2022-06-06T05:27:03.904Z"
   },
   {
    "duration": 25,
    "start_time": "2022-06-06T05:27:05.963Z"
   },
   {
    "duration": 10,
    "start_time": "2022-06-06T05:27:05.989Z"
   },
   {
    "duration": 12,
    "start_time": "2022-06-06T05:27:06.001Z"
   },
   {
    "duration": 14,
    "start_time": "2022-06-06T05:27:06.015Z"
   },
   {
    "duration": 39,
    "start_time": "2022-06-06T05:27:06.030Z"
   },
   {
    "duration": 9,
    "start_time": "2022-06-06T05:27:06.071Z"
   },
   {
    "duration": 23,
    "start_time": "2022-06-06T05:27:06.081Z"
   },
   {
    "duration": 7,
    "start_time": "2022-06-06T05:27:06.106Z"
   },
   {
    "duration": 18,
    "start_time": "2022-06-06T05:27:06.115Z"
   },
   {
    "duration": 89,
    "start_time": "2022-06-06T05:27:06.134Z"
   },
   {
    "duration": 39,
    "start_time": "2022-06-06T05:27:06.225Z"
   },
   {
    "duration": 20,
    "start_time": "2022-06-06T05:27:06.266Z"
   },
   {
    "duration": 25,
    "start_time": "2022-06-06T05:27:06.287Z"
   },
   {
    "duration": 84,
    "start_time": "2022-06-06T05:27:06.314Z"
   },
   {
    "duration": 32,
    "start_time": "2022-06-06T05:27:06.400Z"
   },
   {
    "duration": 57,
    "start_time": "2022-06-06T05:27:06.434Z"
   },
   {
    "duration": 28,
    "start_time": "2022-06-06T05:27:06.493Z"
   },
   {
    "duration": 34,
    "start_time": "2022-06-06T05:30:58.181Z"
   },
   {
    "duration": 7,
    "start_time": "2022-06-06T05:41:47.882Z"
   },
   {
    "duration": 4,
    "start_time": "2022-06-06T06:32:57.600Z"
   },
   {
    "duration": 106,
    "start_time": "2022-06-06T06:34:39.633Z"
   },
   {
    "duration": 25,
    "start_time": "2022-06-06T06:36:38.036Z"
   },
   {
    "duration": 24,
    "start_time": "2022-06-06T06:39:08.642Z"
   },
   {
    "duration": 120,
    "start_time": "2022-06-06T06:39:51.341Z"
   },
   {
    "duration": 96,
    "start_time": "2022-06-06T06:40:04.100Z"
   },
   {
    "duration": 118,
    "start_time": "2022-06-06T06:40:17.990Z"
   },
   {
    "duration": 84,
    "start_time": "2022-06-06T06:42:22.545Z"
   },
   {
    "duration": 48,
    "start_time": "2022-06-06T06:42:59.624Z"
   },
   {
    "duration": 36,
    "start_time": "2022-06-06T06:44:12.684Z"
   },
   {
    "duration": 25,
    "start_time": "2022-06-06T07:35:39.452Z"
   },
   {
    "duration": 437,
    "start_time": "2022-06-06T07:36:06.925Z"
   },
   {
    "duration": 1518,
    "start_time": "2022-06-06T07:36:23.989Z"
   },
   {
    "duration": 25,
    "start_time": "2022-06-06T07:36:25.509Z"
   },
   {
    "duration": 12,
    "start_time": "2022-06-06T07:36:25.536Z"
   },
   {
    "duration": 17,
    "start_time": "2022-06-06T07:36:25.549Z"
   },
   {
    "duration": 13,
    "start_time": "2022-06-06T07:36:25.569Z"
   },
   {
    "duration": 27,
    "start_time": "2022-06-06T07:36:25.584Z"
   },
   {
    "duration": 10,
    "start_time": "2022-06-06T07:36:25.613Z"
   },
   {
    "duration": 40,
    "start_time": "2022-06-06T07:36:25.626Z"
   },
   {
    "duration": 9,
    "start_time": "2022-06-06T07:36:25.668Z"
   },
   {
    "duration": 15,
    "start_time": "2022-06-06T07:36:25.679Z"
   },
   {
    "duration": 93,
    "start_time": "2022-06-06T07:36:25.695Z"
   },
   {
    "duration": 33,
    "start_time": "2022-06-06T07:36:25.791Z"
   },
   {
    "duration": 36,
    "start_time": "2022-06-06T07:36:25.825Z"
   },
   {
    "duration": 28,
    "start_time": "2022-06-06T07:36:25.863Z"
   },
   {
    "duration": 85,
    "start_time": "2022-06-06T07:36:25.893Z"
   },
   {
    "duration": 34,
    "start_time": "2022-06-06T07:36:25.980Z"
   },
   {
    "duration": 57,
    "start_time": "2022-06-06T07:36:26.016Z"
   },
   {
    "duration": 36,
    "start_time": "2022-06-06T07:36:26.074Z"
   },
   {
    "duration": 91,
    "start_time": "2022-06-06T07:36:26.112Z"
   },
   {
    "duration": 8,
    "start_time": "2022-06-06T07:36:26.204Z"
   },
   {
    "duration": 6,
    "start_time": "2022-06-06T07:37:11.170Z"
   },
   {
    "duration": 9,
    "start_time": "2022-06-06T07:39:29.828Z"
   },
   {
    "duration": 9,
    "start_time": "2022-06-06T07:48:55.479Z"
   },
   {
    "duration": 28,
    "start_time": "2022-06-06T07:50:16.149Z"
   },
   {
    "duration": 487,
    "start_time": "2022-06-06T07:51:52.204Z"
   },
   {
    "duration": 21,
    "start_time": "2022-06-06T07:52:22.880Z"
   },
   {
    "duration": 22,
    "start_time": "2022-06-06T07:52:47.664Z"
   },
   {
    "duration": 28,
    "start_time": "2022-06-06T08:01:11.814Z"
   },
   {
    "duration": 32,
    "start_time": "2022-06-06T08:17:12.094Z"
   },
   {
    "duration": 24,
    "start_time": "2022-06-06T08:17:54.230Z"
   },
   {
    "duration": 30,
    "start_time": "2022-06-06T08:18:28.691Z"
   },
   {
    "duration": 18,
    "start_time": "2022-06-06T08:19:01.221Z"
   },
   {
    "duration": 39,
    "start_time": "2022-06-06T08:19:28.904Z"
   },
   {
    "duration": 16,
    "start_time": "2022-06-06T08:20:28.282Z"
   },
   {
    "duration": 10,
    "start_time": "2022-06-06T08:21:12.245Z"
   },
   {
    "duration": 16,
    "start_time": "2022-06-06T08:21:22.440Z"
   },
   {
    "duration": 30,
    "start_time": "2022-06-06T08:21:47.522Z"
   },
   {
    "duration": 9,
    "start_time": "2022-06-06T08:24:49.189Z"
   },
   {
    "duration": 23,
    "start_time": "2022-06-06T08:32:19.172Z"
   },
   {
    "duration": 28,
    "start_time": "2022-06-06T08:36:51.820Z"
   },
   {
    "duration": 24,
    "start_time": "2022-06-06T08:36:59.348Z"
   },
   {
    "duration": 24,
    "start_time": "2022-06-06T08:39:09.373Z"
   },
   {
    "duration": 24,
    "start_time": "2022-06-06T08:40:39.734Z"
   },
   {
    "duration": 179,
    "start_time": "2022-06-06T08:55:53.821Z"
   },
   {
    "duration": 156,
    "start_time": "2022-06-06T08:56:15.397Z"
   },
   {
    "duration": 229,
    "start_time": "2022-06-06T08:56:32.137Z"
   },
   {
    "duration": 192,
    "start_time": "2022-06-06T09:05:26.471Z"
   },
   {
    "duration": 158,
    "start_time": "2022-06-06T09:05:36.958Z"
   },
   {
    "duration": 157,
    "start_time": "2022-06-06T09:05:50.134Z"
   },
   {
    "duration": 143,
    "start_time": "2022-06-06T09:06:03.281Z"
   },
   {
    "duration": 154,
    "start_time": "2022-06-06T09:17:28.122Z"
   },
   {
    "duration": 175,
    "start_time": "2022-06-06T09:17:41.835Z"
   },
   {
    "duration": 168,
    "start_time": "2022-06-06T09:17:51.365Z"
   },
   {
    "duration": 165,
    "start_time": "2022-06-06T09:18:14.215Z"
   },
   {
    "duration": 176,
    "start_time": "2022-06-06T09:18:21.262Z"
   },
   {
    "duration": 168,
    "start_time": "2022-06-06T09:21:30.244Z"
   },
   {
    "duration": 261,
    "start_time": "2022-06-06T09:21:46.180Z"
   },
   {
    "duration": 167,
    "start_time": "2022-06-06T09:22:00.675Z"
   },
   {
    "duration": 173,
    "start_time": "2022-06-06T09:22:40.888Z"
   },
   {
    "duration": 177,
    "start_time": "2022-06-06T09:22:48.029Z"
   },
   {
    "duration": 211,
    "start_time": "2022-06-06T09:22:54.188Z"
   },
   {
    "duration": 319,
    "start_time": "2022-06-06T09:23:05.993Z"
   },
   {
    "duration": 222,
    "start_time": "2022-06-06T09:23:15.241Z"
   },
   {
    "duration": 238,
    "start_time": "2022-06-06T09:23:22.804Z"
   },
   {
    "duration": 209,
    "start_time": "2022-06-06T09:23:30.714Z"
   },
   {
    "duration": 257,
    "start_time": "2022-06-06T09:23:39.025Z"
   },
   {
    "duration": 141,
    "start_time": "2022-06-06T09:23:50.248Z"
   },
   {
    "duration": 181,
    "start_time": "2022-06-06T09:23:55.097Z"
   },
   {
    "duration": 159,
    "start_time": "2022-06-06T09:24:03.554Z"
   },
   {
    "duration": 183,
    "start_time": "2022-06-06T09:24:22.940Z"
   },
   {
    "duration": 198,
    "start_time": "2022-06-06T09:24:30.399Z"
   },
   {
    "duration": 152,
    "start_time": "2022-06-06T09:24:40.009Z"
   },
   {
    "duration": 155,
    "start_time": "2022-06-06T09:24:51.478Z"
   },
   {
    "duration": 188,
    "start_time": "2022-06-06T09:25:17.864Z"
   },
   {
    "duration": 194,
    "start_time": "2022-06-06T09:25:26.684Z"
   },
   {
    "duration": 166,
    "start_time": "2022-06-06T09:25:32.448Z"
   },
   {
    "duration": 185,
    "start_time": "2022-06-06T09:25:47.031Z"
   },
   {
    "duration": 163,
    "start_time": "2022-06-06T09:33:09.519Z"
   },
   {
    "duration": 223,
    "start_time": "2022-06-06T09:38:56.678Z"
   },
   {
    "duration": 357,
    "start_time": "2022-06-06T09:43:24.298Z"
   },
   {
    "duration": 222,
    "start_time": "2022-06-06T09:43:32.415Z"
   },
   {
    "duration": 234,
    "start_time": "2022-06-06T09:43:48.625Z"
   },
   {
    "duration": 155,
    "start_time": "2022-06-06T09:47:06.963Z"
   },
   {
    "duration": 159,
    "start_time": "2022-06-06T09:47:36.572Z"
   },
   {
    "duration": 181,
    "start_time": "2022-06-06T09:47:44.057Z"
   },
   {
    "duration": 151,
    "start_time": "2022-06-06T09:47:50.072Z"
   },
   {
    "duration": 154,
    "start_time": "2022-06-06T10:00:10.952Z"
   },
   {
    "duration": 147,
    "start_time": "2022-06-06T10:00:55.599Z"
   },
   {
    "duration": 139,
    "start_time": "2022-06-06T10:01:42.364Z"
   },
   {
    "duration": 167,
    "start_time": "2022-06-06T10:09:05.853Z"
   },
   {
    "duration": 43,
    "start_time": "2022-06-06T10:11:57.699Z"
   },
   {
    "duration": 168,
    "start_time": "2022-06-06T10:14:02.579Z"
   },
   {
    "duration": 171,
    "start_time": "2022-06-06T10:14:17.587Z"
   },
   {
    "duration": 164,
    "start_time": "2022-06-06T10:14:45.647Z"
   },
   {
    "duration": 150,
    "start_time": "2022-06-06T10:15:05.913Z"
   },
   {
    "duration": 185,
    "start_time": "2022-06-06T10:15:32.451Z"
   },
   {
    "duration": 161,
    "start_time": "2022-06-06T10:15:53.536Z"
   },
   {
    "duration": 169,
    "start_time": "2022-06-06T10:16:16.140Z"
   },
   {
    "duration": 168,
    "start_time": "2022-06-06T10:16:34.114Z"
   },
   {
    "duration": 362,
    "start_time": "2022-06-06T10:16:54.594Z"
   },
   {
    "duration": 255,
    "start_time": "2022-06-06T10:17:07.272Z"
   },
   {
    "duration": 195,
    "start_time": "2022-06-06T10:19:35.726Z"
   },
   {
    "duration": 54,
    "start_time": "2022-06-06T19:56:00.711Z"
   },
   {
    "duration": 2235,
    "start_time": "2022-06-06T19:56:13.947Z"
   },
   {
    "duration": 26,
    "start_time": "2022-06-06T19:56:16.184Z"
   },
   {
    "duration": 11,
    "start_time": "2022-06-06T19:56:16.212Z"
   },
   {
    "duration": 13,
    "start_time": "2022-06-06T19:56:16.224Z"
   },
   {
    "duration": 10,
    "start_time": "2022-06-06T19:56:16.239Z"
   },
   {
    "duration": 19,
    "start_time": "2022-06-06T19:56:16.251Z"
   },
   {
    "duration": 10,
    "start_time": "2022-06-06T19:56:16.272Z"
   },
   {
    "duration": 55,
    "start_time": "2022-06-06T19:56:16.283Z"
   },
   {
    "duration": 9,
    "start_time": "2022-06-06T19:56:16.340Z"
   },
   {
    "duration": 20,
    "start_time": "2022-06-06T19:56:16.351Z"
   },
   {
    "duration": 100,
    "start_time": "2022-06-06T19:56:16.373Z"
   },
   {
    "duration": 40,
    "start_time": "2022-06-06T19:56:16.477Z"
   },
   {
    "duration": 23,
    "start_time": "2022-06-06T19:56:16.527Z"
   },
   {
    "duration": 35,
    "start_time": "2022-06-06T19:56:16.553Z"
   },
   {
    "duration": 86,
    "start_time": "2022-06-06T19:56:16.590Z"
   },
   {
    "duration": 33,
    "start_time": "2022-06-06T19:56:16.678Z"
   },
   {
    "duration": 50,
    "start_time": "2022-06-06T19:56:16.712Z"
   },
   {
    "duration": 37,
    "start_time": "2022-06-06T19:56:16.764Z"
   },
   {
    "duration": 96,
    "start_time": "2022-06-06T19:56:16.802Z"
   },
   {
    "duration": 10,
    "start_time": "2022-06-06T19:56:16.899Z"
   },
   {
    "duration": 43,
    "start_time": "2022-06-06T19:56:16.911Z"
   },
   {
    "duration": 22,
    "start_time": "2022-06-06T19:56:16.955Z"
   },
   {
    "duration": 24,
    "start_time": "2022-06-06T19:56:16.979Z"
   },
   {
    "duration": 47,
    "start_time": "2022-06-06T19:56:17.004Z"
   },
   {
    "duration": 22,
    "start_time": "2022-06-06T19:56:17.053Z"
   },
   {
    "duration": 214,
    "start_time": "2022-06-06T19:56:17.076Z"
   },
   {
    "duration": 176,
    "start_time": "2022-06-06T19:56:17.292Z"
   },
   {
    "duration": 234,
    "start_time": "2022-06-06T19:56:17.470Z"
   },
   {
    "duration": 115,
    "start_time": "2022-06-06T19:56:17.706Z"
   },
   {
    "duration": 8,
    "start_time": "2022-06-06T20:00:55.703Z"
   },
   {
    "duration": 7,
    "start_time": "2022-06-06T20:02:59.661Z"
   },
   {
    "duration": 18,
    "start_time": "2022-06-06T20:17:09.019Z"
   },
   {
    "duration": 8,
    "start_time": "2022-06-06T20:17:27.782Z"
   },
   {
    "duration": 8,
    "start_time": "2022-06-06T20:17:33.258Z"
   },
   {
    "duration": 12,
    "start_time": "2022-06-06T20:17:46.402Z"
   },
   {
    "duration": 9,
    "start_time": "2022-06-06T20:35:01.214Z"
   },
   {
    "duration": 8,
    "start_time": "2022-06-06T20:35:09.646Z"
   },
   {
    "duration": 8,
    "start_time": "2022-06-06T20:35:23.898Z"
   },
   {
    "duration": 7,
    "start_time": "2022-06-06T20:35:28.072Z"
   },
   {
    "duration": 4,
    "start_time": "2022-06-06T20:48:40.104Z"
   },
   {
    "duration": 4,
    "start_time": "2022-06-06T20:49:09.170Z"
   },
   {
    "duration": 5,
    "start_time": "2022-06-06T20:49:14.805Z"
   },
   {
    "duration": 1537,
    "start_time": "2022-06-06T21:10:49.614Z"
   },
   {
    "duration": 27,
    "start_time": "2022-06-06T21:10:51.153Z"
   },
   {
    "duration": 11,
    "start_time": "2022-06-06T21:10:51.182Z"
   },
   {
    "duration": 17,
    "start_time": "2022-06-06T21:10:51.195Z"
   },
   {
    "duration": 14,
    "start_time": "2022-06-06T21:10:51.215Z"
   },
   {
    "duration": 36,
    "start_time": "2022-06-06T21:10:51.230Z"
   },
   {
    "duration": 11,
    "start_time": "2022-06-06T21:10:51.267Z"
   },
   {
    "duration": 39,
    "start_time": "2022-06-06T21:10:51.280Z"
   },
   {
    "duration": 9,
    "start_time": "2022-06-06T21:10:51.321Z"
   },
   {
    "duration": 32,
    "start_time": "2022-06-06T21:10:51.332Z"
   },
   {
    "duration": 80,
    "start_time": "2022-06-06T21:10:51.366Z"
   },
   {
    "duration": 32,
    "start_time": "2022-06-06T21:10:51.448Z"
   },
   {
    "duration": 21,
    "start_time": "2022-06-06T21:10:51.482Z"
   },
   {
    "duration": 54,
    "start_time": "2022-06-06T21:10:51.507Z"
   },
   {
    "duration": 83,
    "start_time": "2022-06-06T21:10:51.562Z"
   },
   {
    "duration": 40,
    "start_time": "2022-06-06T21:10:51.647Z"
   },
   {
    "duration": 56,
    "start_time": "2022-06-06T21:10:51.689Z"
   },
   {
    "duration": 35,
    "start_time": "2022-06-06T21:10:51.746Z"
   },
   {
    "duration": 86,
    "start_time": "2022-06-06T21:10:51.783Z"
   },
   {
    "duration": 8,
    "start_time": "2022-06-06T21:10:51.871Z"
   },
   {
    "duration": 19,
    "start_time": "2022-06-06T21:10:51.881Z"
   },
   {
    "duration": 42,
    "start_time": "2022-06-06T21:10:51.901Z"
   },
   {
    "duration": 24,
    "start_time": "2022-06-06T21:10:51.946Z"
   },
   {
    "duration": 27,
    "start_time": "2022-06-06T21:10:51.972Z"
   },
   {
    "duration": 51,
    "start_time": "2022-06-06T21:10:52.000Z"
   },
   {
    "duration": 182,
    "start_time": "2022-06-06T21:10:52.052Z"
   },
   {
    "duration": 202,
    "start_time": "2022-06-06T21:10:52.236Z"
   },
   {
    "duration": 245,
    "start_time": "2022-06-06T21:10:52.440Z"
   },
   {
    "duration": 8,
    "start_time": "2022-06-06T21:10:52.687Z"
   },
   {
    "duration": 27,
    "start_time": "2022-06-06T21:10:52.697Z"
   },
   {
    "duration": 49,
    "start_time": "2022-06-07T18:27:16.134Z"
   },
   {
    "duration": 3349,
    "start_time": "2022-06-07T18:50:50.786Z"
   },
   {
    "duration": 24,
    "start_time": "2022-06-07T18:50:54.137Z"
   },
   {
    "duration": 10,
    "start_time": "2022-06-07T18:50:54.162Z"
   },
   {
    "duration": 11,
    "start_time": "2022-06-07T18:50:54.174Z"
   },
   {
    "duration": 23,
    "start_time": "2022-06-07T18:50:54.186Z"
   },
   {
    "duration": 20,
    "start_time": "2022-06-07T18:50:54.211Z"
   },
   {
    "duration": 11,
    "start_time": "2022-06-07T18:50:54.232Z"
   },
   {
    "duration": 21,
    "start_time": "2022-06-07T18:50:54.244Z"
   },
   {
    "duration": 7,
    "start_time": "2022-06-07T18:50:54.267Z"
   },
   {
    "duration": 25,
    "start_time": "2022-06-07T18:50:54.278Z"
   },
   {
    "duration": 81,
    "start_time": "2022-06-07T18:50:54.305Z"
   },
   {
    "duration": 51,
    "start_time": "2022-06-07T18:50:54.388Z"
   },
   {
    "duration": 21,
    "start_time": "2022-06-07T18:50:54.441Z"
   },
   {
    "duration": 41,
    "start_time": "2022-06-07T18:50:54.464Z"
   },
   {
    "duration": 60,
    "start_time": "2022-06-07T18:50:54.507Z"
   },
   {
    "duration": 46,
    "start_time": "2022-06-07T18:50:54.569Z"
   },
   {
    "duration": 34,
    "start_time": "2022-06-07T18:50:54.617Z"
   },
   {
    "duration": 53,
    "start_time": "2022-06-07T18:50:54.653Z"
   },
   {
    "duration": 108,
    "start_time": "2022-06-07T18:50:54.708Z"
   },
   {
    "duration": 9,
    "start_time": "2022-06-07T18:50:54.817Z"
   },
   {
    "duration": 36,
    "start_time": "2022-06-07T18:50:54.828Z"
   },
   {
    "duration": 19,
    "start_time": "2022-06-07T18:50:54.865Z"
   },
   {
    "duration": 39,
    "start_time": "2022-06-07T18:50:54.897Z"
   },
   {
    "duration": 26,
    "start_time": "2022-06-07T18:50:54.938Z"
   },
   {
    "duration": 30,
    "start_time": "2022-06-07T18:50:54.965Z"
   },
   {
    "duration": 198,
    "start_time": "2022-06-07T18:50:54.997Z"
   },
   {
    "duration": 237,
    "start_time": "2022-06-07T18:50:55.197Z"
   },
   {
    "duration": 180,
    "start_time": "2022-06-07T18:50:55.437Z"
   },
   {
    "duration": 7,
    "start_time": "2022-06-07T18:50:55.619Z"
   },
   {
    "duration": 9,
    "start_time": "2022-06-07T18:50:55.627Z"
   },
   {
    "duration": 29,
    "start_time": "2022-06-07T18:52:04.290Z"
   },
   {
    "duration": 144,
    "start_time": "2022-06-07T19:24:37.418Z"
   },
   {
    "duration": 143,
    "start_time": "2022-06-07T19:25:15.849Z"
   },
   {
    "duration": 137,
    "start_time": "2022-06-07T19:25:25.414Z"
   },
   {
    "duration": 136,
    "start_time": "2022-06-07T19:25:42.866Z"
   },
   {
    "duration": 33,
    "start_time": "2022-06-07T19:26:51.967Z"
   },
   {
    "duration": 63,
    "start_time": "2022-06-07T19:26:56.994Z"
   },
   {
    "duration": 131,
    "start_time": "2022-06-07T19:27:05.333Z"
   },
   {
    "duration": 135,
    "start_time": "2022-06-07T19:27:10.523Z"
   },
   {
    "duration": 135,
    "start_time": "2022-06-07T19:28:40.513Z"
   },
   {
    "duration": 177,
    "start_time": "2022-06-07T19:29:26.511Z"
   },
   {
    "duration": 147,
    "start_time": "2022-06-07T19:29:48.350Z"
   },
   {
    "duration": 26,
    "start_time": "2022-06-07T19:33:59.650Z"
   },
   {
    "duration": 1482,
    "start_time": "2022-06-07T20:18:49.282Z"
   },
   {
    "duration": 19,
    "start_time": "2022-06-07T20:18:50.766Z"
   },
   {
    "duration": 10,
    "start_time": "2022-06-07T20:18:50.786Z"
   },
   {
    "duration": 26,
    "start_time": "2022-06-07T20:18:50.798Z"
   },
   {
    "duration": 7,
    "start_time": "2022-06-07T20:18:50.825Z"
   },
   {
    "duration": 15,
    "start_time": "2022-06-07T20:18:50.833Z"
   },
   {
    "duration": 7,
    "start_time": "2022-06-07T20:18:50.849Z"
   },
   {
    "duration": 20,
    "start_time": "2022-06-07T20:18:50.857Z"
   },
   {
    "duration": 6,
    "start_time": "2022-06-07T20:18:50.878Z"
   },
   {
    "duration": 23,
    "start_time": "2022-06-07T20:18:50.893Z"
   },
   {
    "duration": 61,
    "start_time": "2022-06-07T20:18:50.918Z"
   },
   {
    "duration": 32,
    "start_time": "2022-06-07T20:18:50.981Z"
   },
   {
    "duration": 18,
    "start_time": "2022-06-07T20:18:51.014Z"
   },
   {
    "duration": 22,
    "start_time": "2022-06-07T20:18:51.033Z"
   },
   {
    "duration": 74,
    "start_time": "2022-06-07T20:18:51.057Z"
   },
   {
    "duration": 28,
    "start_time": "2022-06-07T20:18:51.132Z"
   },
   {
    "duration": 48,
    "start_time": "2022-06-07T20:18:51.161Z"
   },
   {
    "duration": 26,
    "start_time": "2022-06-07T20:18:51.211Z"
   },
   {
    "duration": 85,
    "start_time": "2022-06-07T20:18:51.239Z"
   },
   {
    "duration": 8,
    "start_time": "2022-06-07T20:18:51.325Z"
   },
   {
    "duration": 18,
    "start_time": "2022-06-07T20:18:51.334Z"
   },
   {
    "duration": 17,
    "start_time": "2022-06-07T20:18:51.353Z"
   },
   {
    "duration": 43,
    "start_time": "2022-06-07T20:18:51.372Z"
   },
   {
    "duration": 21,
    "start_time": "2022-06-07T20:18:51.416Z"
   },
   {
    "duration": 19,
    "start_time": "2022-06-07T20:18:51.438Z"
   },
   {
    "duration": 183,
    "start_time": "2022-06-07T20:18:51.459Z"
   },
   {
    "duration": 149,
    "start_time": "2022-06-07T20:18:51.643Z"
   },
   {
    "duration": 204,
    "start_time": "2022-06-07T20:18:51.796Z"
   },
   {
    "duration": 8,
    "start_time": "2022-06-07T20:18:52.002Z"
   },
   {
    "duration": 11,
    "start_time": "2022-06-07T20:18:52.012Z"
   }
  ],
  "kernelspec": {
   "display_name": "Python 3 (ipykernel)",
   "language": "python",
   "name": "python3"
  },
  "language_info": {
   "codemirror_mode": {
    "name": "ipython",
    "version": 3
   },
   "file_extension": ".py",
   "mimetype": "text/x-python",
   "name": "python",
   "nbconvert_exporter": "python",
   "pygments_lexer": "ipython3",
   "version": "3.9.7"
  },
  "toc": {
   "base_numbering": 1,
   "nav_menu": {},
   "number_sections": true,
   "sideBar": true,
   "skip_h1_title": true,
   "title_cell": "Table of Contents",
   "title_sidebar": "Contents",
   "toc_cell": false,
   "toc_position": {
    "height": "calc(100% - 180px)",
    "left": "10px",
    "top": "150px",
    "width": "306.4px"
   },
   "toc_section_display": true,
   "toc_window_display": true
  }
 },
 "nbformat": 4,
 "nbformat_minor": 2
}
