{
 "cells": [
  {
   "cell_type": "markdown",
   "metadata": {
    "toc": true
   },
   "source": [
    "<h1>Содержание<span class=\"tocSkip\"></span></h1>\n",
    "<div class=\"toc\"><ul class=\"toc-item\"><li><span><a href=\"#Изучение-данных-из-файла\" data-toc-modified-id=\"Изучение-данных-из-файла-1\"><span class=\"toc-item-num\">1&nbsp;&nbsp;</span>Изучение данных из файла</a></span></li><li><span><a href=\"#Предобработка-данных\" data-toc-modified-id=\"Предобработка-данных-2\"><span class=\"toc-item-num\">2&nbsp;&nbsp;</span>Предобработка данных</a></span><ul class=\"toc-item\"><li><span><a href=\"#Стиль-заголовков\" data-toc-modified-id=\"Стиль-заголовков-2.1\"><span class=\"toc-item-num\">2.1&nbsp;&nbsp;</span>Стиль заголовков</a></span></li><li><span><a href=\"#Заполнение-пропусков\" data-toc-modified-id=\"Заполнение-пропусков-2.2\"><span class=\"toc-item-num\">2.2&nbsp;&nbsp;</span>Заполнение пропусков</a></span></li><li><span><a href=\"#Изменение-типов-данных\" data-toc-modified-id=\"Изменение-типов-данных-2.3\"><span class=\"toc-item-num\">2.3&nbsp;&nbsp;</span>Изменение типов данных</a></span></li></ul></li><li><span><a href=\"#Расчёты-и-добавление-результатов-в-таблицу\" data-toc-modified-id=\"Расчёты-и-добавление-результатов-в-таблицу-3\"><span class=\"toc-item-num\">3&nbsp;&nbsp;</span>Расчёты и добавление результатов в таблицу</a></span></li><li><span><a href=\"#Исследовательский-анализ-данных\" data-toc-modified-id=\"Исследовательский-анализ-данных-4\"><span class=\"toc-item-num\">4&nbsp;&nbsp;</span>Исследовательский анализ данных</a></span><ul class=\"toc-item\"><li><span><a href=\"#Изучение-площади,-цены,-числа-комнат,-высоты-потолков.\" data-toc-modified-id=\"Изучение-площади,-цены,-числа-комнат,-высоты-потолков.-4.1\"><span class=\"toc-item-num\">4.1&nbsp;&nbsp;</span>Изучение площади, цены, числа комнат, высоты потолков.</a></span></li><li><span><a href=\"#Изучение-время-продажи-квартиры\" data-toc-modified-id=\"Изучение-время-продажи-квартиры-4.2\"><span class=\"toc-item-num\">4.2&nbsp;&nbsp;</span>Изучение время продажи квартиры</a></span></li><li><span><a href=\"#Избавление-от-редких-и-выбивающихся-значений\" data-toc-modified-id=\"Избавление-от-редких-и-выбивающихся-значений-4.3\"><span class=\"toc-item-num\">4.3&nbsp;&nbsp;</span>Избавление от редких и выбивающихся значений</a></span></li><li><span><a href=\"#Факторы,-влияющие-на-стоимость-квартиры\" data-toc-modified-id=\"Факторы,-влияющие-на-стоимость-квартиры-4.4\"><span class=\"toc-item-num\">4.4&nbsp;&nbsp;</span>Факторы, влияющие на стоимость квартиры</a></span></li><li><span><a href=\"#Изучение-10-населенных-пунктов-с-наибольшим-числом-объявлений.\" data-toc-modified-id=\"Изучение-10-населенных-пунктов-с-наибольшим-числом-объявлений.-4.5\"><span class=\"toc-item-num\">4.5&nbsp;&nbsp;</span>Изучение 10 населенных пунктов с наибольшим числом объявлений.</a></span></li><li><span><a href=\"#Изучение-предложения-квартир-в-Санкт-Петербурге\" data-toc-modified-id=\"Изучение-предложения-квартир-в-Санкт-Петербурге-4.6\"><span class=\"toc-item-num\">4.6&nbsp;&nbsp;</span>Изучение предложения квартир в Санкт-Петербурге</a></span></li><li><span><a href=\"#Выделение-сегмента-квартир-в-центре.-Анализ-этой-территории\" data-toc-modified-id=\"Выделение-сегмента-квартир-в-центре.-Анализ-этой-территории-4.7\"><span class=\"toc-item-num\">4.7&nbsp;&nbsp;</span>Выделение сегмента квартир в центре. Анализ этой территории</a></span></li></ul></li><li><span><a href=\"#Общий-вывод\" data-toc-modified-id=\"Общий-вывод-5\"><span class=\"toc-item-num\">5&nbsp;&nbsp;</span>Общий вывод</a></span></li><li><span><a href=\"#Чек-лист-готовности-проекта\" data-toc-modified-id=\"Чек-лист-готовности-проекта-6\"><span class=\"toc-item-num\">6&nbsp;&nbsp;</span>Чек-лист готовности проекта</a></span></li></ul></div>"
   ]
  },
  {
   "cell_type": "markdown",
   "metadata": {},
   "source": [
    "# Исследование объявлений о продаже квартир\n",
    "\n",
    "В вашем распоряжении данные сервиса Яндекc Недвижимость — архив объявлений о продаже квартир в Санкт-Петербурге и соседних населённых пунктах за несколько лет. Нужно научиться определять рыночную стоимость объектов недвижимости. Ваша задача — установить параметры. Это позволит построить автоматизированную систему: она отследит аномалии и мошенническую деятельность. \n",
    "\n",
    "По каждой квартире на продажу доступны два вида данных. Первые вписаны пользователем, вторые получены автоматически на основе картографических данных. Например, расстояние до центра, аэропорта, ближайшего парка и водоёма. "
   ]
  },
  {
   "cell_type": "markdown",
   "metadata": {},
   "source": [
    "## Изучение данных из файла"
   ]
  },
  {
   "cell_type": "markdown",
   "metadata": {},
   "source": [
    "Составим первое представление о данных."
   ]
  },
  {
   "cell_type": "code",
   "execution_count": 1,
   "metadata": {
    "scrolled": true
   },
   "outputs": [
    {
     "data": {
      "text/html": [
       "<div>\n",
       "<style scoped>\n",
       "    .dataframe tbody tr th:only-of-type {\n",
       "        vertical-align: middle;\n",
       "    }\n",
       "\n",
       "    .dataframe tbody tr th {\n",
       "        vertical-align: top;\n",
       "    }\n",
       "\n",
       "    .dataframe thead th {\n",
       "        text-align: right;\n",
       "    }\n",
       "</style>\n",
       "<table border=\"1\" class=\"dataframe\">\n",
       "  <thead>\n",
       "    <tr style=\"text-align: right;\">\n",
       "      <th></th>\n",
       "      <th>total_images</th>\n",
       "      <th>last_price</th>\n",
       "      <th>total_area</th>\n",
       "      <th>first_day_exposition</th>\n",
       "      <th>rooms</th>\n",
       "      <th>ceiling_height</th>\n",
       "      <th>floors_total</th>\n",
       "      <th>living_area</th>\n",
       "      <th>floor</th>\n",
       "      <th>is_apartment</th>\n",
       "      <th>...</th>\n",
       "      <th>kitchen_area</th>\n",
       "      <th>balcony</th>\n",
       "      <th>locality_name</th>\n",
       "      <th>airports_nearest</th>\n",
       "      <th>cityCenters_nearest</th>\n",
       "      <th>parks_around3000</th>\n",
       "      <th>parks_nearest</th>\n",
       "      <th>ponds_around3000</th>\n",
       "      <th>ponds_nearest</th>\n",
       "      <th>days_exposition</th>\n",
       "    </tr>\n",
       "  </thead>\n",
       "  <tbody>\n",
       "    <tr>\n",
       "      <th>0</th>\n",
       "      <td>20</td>\n",
       "      <td>13000000.0</td>\n",
       "      <td>108.00</td>\n",
       "      <td>2019-03-07T00:00:00</td>\n",
       "      <td>3</td>\n",
       "      <td>2.70</td>\n",
       "      <td>16.0</td>\n",
       "      <td>51.00</td>\n",
       "      <td>8</td>\n",
       "      <td>NaN</td>\n",
       "      <td>...</td>\n",
       "      <td>25.00</td>\n",
       "      <td>NaN</td>\n",
       "      <td>Санкт-Петербург</td>\n",
       "      <td>18863.0</td>\n",
       "      <td>16028.0</td>\n",
       "      <td>1.0</td>\n",
       "      <td>482.0</td>\n",
       "      <td>2.0</td>\n",
       "      <td>755.0</td>\n",
       "      <td>NaN</td>\n",
       "    </tr>\n",
       "    <tr>\n",
       "      <th>1</th>\n",
       "      <td>7</td>\n",
       "      <td>3350000.0</td>\n",
       "      <td>40.40</td>\n",
       "      <td>2018-12-04T00:00:00</td>\n",
       "      <td>1</td>\n",
       "      <td>NaN</td>\n",
       "      <td>11.0</td>\n",
       "      <td>18.60</td>\n",
       "      <td>1</td>\n",
       "      <td>NaN</td>\n",
       "      <td>...</td>\n",
       "      <td>11.00</td>\n",
       "      <td>2.0</td>\n",
       "      <td>посёлок Шушары</td>\n",
       "      <td>12817.0</td>\n",
       "      <td>18603.0</td>\n",
       "      <td>0.0</td>\n",
       "      <td>NaN</td>\n",
       "      <td>0.0</td>\n",
       "      <td>NaN</td>\n",
       "      <td>81.0</td>\n",
       "    </tr>\n",
       "    <tr>\n",
       "      <th>2</th>\n",
       "      <td>10</td>\n",
       "      <td>5196000.0</td>\n",
       "      <td>56.00</td>\n",
       "      <td>2015-08-20T00:00:00</td>\n",
       "      <td>2</td>\n",
       "      <td>NaN</td>\n",
       "      <td>5.0</td>\n",
       "      <td>34.30</td>\n",
       "      <td>4</td>\n",
       "      <td>NaN</td>\n",
       "      <td>...</td>\n",
       "      <td>8.30</td>\n",
       "      <td>0.0</td>\n",
       "      <td>Санкт-Петербург</td>\n",
       "      <td>21741.0</td>\n",
       "      <td>13933.0</td>\n",
       "      <td>1.0</td>\n",
       "      <td>90.0</td>\n",
       "      <td>2.0</td>\n",
       "      <td>574.0</td>\n",
       "      <td>558.0</td>\n",
       "    </tr>\n",
       "    <tr>\n",
       "      <th>3</th>\n",
       "      <td>0</td>\n",
       "      <td>64900000.0</td>\n",
       "      <td>159.00</td>\n",
       "      <td>2015-07-24T00:00:00</td>\n",
       "      <td>3</td>\n",
       "      <td>NaN</td>\n",
       "      <td>14.0</td>\n",
       "      <td>NaN</td>\n",
       "      <td>9</td>\n",
       "      <td>NaN</td>\n",
       "      <td>...</td>\n",
       "      <td>NaN</td>\n",
       "      <td>0.0</td>\n",
       "      <td>Санкт-Петербург</td>\n",
       "      <td>28098.0</td>\n",
       "      <td>6800.0</td>\n",
       "      <td>2.0</td>\n",
       "      <td>84.0</td>\n",
       "      <td>3.0</td>\n",
       "      <td>234.0</td>\n",
       "      <td>424.0</td>\n",
       "    </tr>\n",
       "    <tr>\n",
       "      <th>4</th>\n",
       "      <td>2</td>\n",
       "      <td>10000000.0</td>\n",
       "      <td>100.00</td>\n",
       "      <td>2018-06-19T00:00:00</td>\n",
       "      <td>2</td>\n",
       "      <td>3.03</td>\n",
       "      <td>14.0</td>\n",
       "      <td>32.00</td>\n",
       "      <td>13</td>\n",
       "      <td>NaN</td>\n",
       "      <td>...</td>\n",
       "      <td>41.00</td>\n",
       "      <td>NaN</td>\n",
       "      <td>Санкт-Петербург</td>\n",
       "      <td>31856.0</td>\n",
       "      <td>8098.0</td>\n",
       "      <td>2.0</td>\n",
       "      <td>112.0</td>\n",
       "      <td>1.0</td>\n",
       "      <td>48.0</td>\n",
       "      <td>121.0</td>\n",
       "    </tr>\n",
       "    <tr>\n",
       "      <th>5</th>\n",
       "      <td>10</td>\n",
       "      <td>2890000.0</td>\n",
       "      <td>30.40</td>\n",
       "      <td>2018-09-10T00:00:00</td>\n",
       "      <td>1</td>\n",
       "      <td>NaN</td>\n",
       "      <td>12.0</td>\n",
       "      <td>14.40</td>\n",
       "      <td>5</td>\n",
       "      <td>NaN</td>\n",
       "      <td>...</td>\n",
       "      <td>9.10</td>\n",
       "      <td>NaN</td>\n",
       "      <td>городской посёлок Янино-1</td>\n",
       "      <td>NaN</td>\n",
       "      <td>NaN</td>\n",
       "      <td>NaN</td>\n",
       "      <td>NaN</td>\n",
       "      <td>NaN</td>\n",
       "      <td>NaN</td>\n",
       "      <td>55.0</td>\n",
       "    </tr>\n",
       "    <tr>\n",
       "      <th>6</th>\n",
       "      <td>6</td>\n",
       "      <td>3700000.0</td>\n",
       "      <td>37.30</td>\n",
       "      <td>2017-11-02T00:00:00</td>\n",
       "      <td>1</td>\n",
       "      <td>NaN</td>\n",
       "      <td>26.0</td>\n",
       "      <td>10.60</td>\n",
       "      <td>6</td>\n",
       "      <td>NaN</td>\n",
       "      <td>...</td>\n",
       "      <td>14.40</td>\n",
       "      <td>1.0</td>\n",
       "      <td>посёлок Парголово</td>\n",
       "      <td>52996.0</td>\n",
       "      <td>19143.0</td>\n",
       "      <td>0.0</td>\n",
       "      <td>NaN</td>\n",
       "      <td>0.0</td>\n",
       "      <td>NaN</td>\n",
       "      <td>155.0</td>\n",
       "    </tr>\n",
       "    <tr>\n",
       "      <th>7</th>\n",
       "      <td>5</td>\n",
       "      <td>7915000.0</td>\n",
       "      <td>71.60</td>\n",
       "      <td>2019-04-18T00:00:00</td>\n",
       "      <td>2</td>\n",
       "      <td>NaN</td>\n",
       "      <td>24.0</td>\n",
       "      <td>NaN</td>\n",
       "      <td>22</td>\n",
       "      <td>NaN</td>\n",
       "      <td>...</td>\n",
       "      <td>18.90</td>\n",
       "      <td>2.0</td>\n",
       "      <td>Санкт-Петербург</td>\n",
       "      <td>23982.0</td>\n",
       "      <td>11634.0</td>\n",
       "      <td>0.0</td>\n",
       "      <td>NaN</td>\n",
       "      <td>0.0</td>\n",
       "      <td>NaN</td>\n",
       "      <td>NaN</td>\n",
       "    </tr>\n",
       "    <tr>\n",
       "      <th>8</th>\n",
       "      <td>20</td>\n",
       "      <td>2900000.0</td>\n",
       "      <td>33.16</td>\n",
       "      <td>2018-05-23T00:00:00</td>\n",
       "      <td>1</td>\n",
       "      <td>NaN</td>\n",
       "      <td>27.0</td>\n",
       "      <td>15.43</td>\n",
       "      <td>26</td>\n",
       "      <td>NaN</td>\n",
       "      <td>...</td>\n",
       "      <td>8.81</td>\n",
       "      <td>NaN</td>\n",
       "      <td>посёлок Мурино</td>\n",
       "      <td>NaN</td>\n",
       "      <td>NaN</td>\n",
       "      <td>NaN</td>\n",
       "      <td>NaN</td>\n",
       "      <td>NaN</td>\n",
       "      <td>NaN</td>\n",
       "      <td>189.0</td>\n",
       "    </tr>\n",
       "    <tr>\n",
       "      <th>9</th>\n",
       "      <td>18</td>\n",
       "      <td>5400000.0</td>\n",
       "      <td>61.00</td>\n",
       "      <td>2017-02-26T00:00:00</td>\n",
       "      <td>3</td>\n",
       "      <td>2.50</td>\n",
       "      <td>9.0</td>\n",
       "      <td>43.60</td>\n",
       "      <td>7</td>\n",
       "      <td>NaN</td>\n",
       "      <td>...</td>\n",
       "      <td>6.50</td>\n",
       "      <td>2.0</td>\n",
       "      <td>Санкт-Петербург</td>\n",
       "      <td>50898.0</td>\n",
       "      <td>15008.0</td>\n",
       "      <td>0.0</td>\n",
       "      <td>NaN</td>\n",
       "      <td>0.0</td>\n",
       "      <td>NaN</td>\n",
       "      <td>289.0</td>\n",
       "    </tr>\n",
       "  </tbody>\n",
       "</table>\n",
       "<p>10 rows × 22 columns</p>\n",
       "</div>"
      ],
      "text/plain": [
       "   total_images  last_price  total_area first_day_exposition  rooms  \\\n",
       "0            20  13000000.0      108.00  2019-03-07T00:00:00      3   \n",
       "1             7   3350000.0       40.40  2018-12-04T00:00:00      1   \n",
       "2            10   5196000.0       56.00  2015-08-20T00:00:00      2   \n",
       "3             0  64900000.0      159.00  2015-07-24T00:00:00      3   \n",
       "4             2  10000000.0      100.00  2018-06-19T00:00:00      2   \n",
       "5            10   2890000.0       30.40  2018-09-10T00:00:00      1   \n",
       "6             6   3700000.0       37.30  2017-11-02T00:00:00      1   \n",
       "7             5   7915000.0       71.60  2019-04-18T00:00:00      2   \n",
       "8            20   2900000.0       33.16  2018-05-23T00:00:00      1   \n",
       "9            18   5400000.0       61.00  2017-02-26T00:00:00      3   \n",
       "\n",
       "   ceiling_height  floors_total  living_area  floor is_apartment  ...  \\\n",
       "0            2.70          16.0        51.00      8          NaN  ...   \n",
       "1             NaN          11.0        18.60      1          NaN  ...   \n",
       "2             NaN           5.0        34.30      4          NaN  ...   \n",
       "3             NaN          14.0          NaN      9          NaN  ...   \n",
       "4            3.03          14.0        32.00     13          NaN  ...   \n",
       "5             NaN          12.0        14.40      5          NaN  ...   \n",
       "6             NaN          26.0        10.60      6          NaN  ...   \n",
       "7             NaN          24.0          NaN     22          NaN  ...   \n",
       "8             NaN          27.0        15.43     26          NaN  ...   \n",
       "9            2.50           9.0        43.60      7          NaN  ...   \n",
       "\n",
       "   kitchen_area  balcony              locality_name  airports_nearest  \\\n",
       "0         25.00      NaN            Санкт-Петербург           18863.0   \n",
       "1         11.00      2.0             посёлок Шушары           12817.0   \n",
       "2          8.30      0.0            Санкт-Петербург           21741.0   \n",
       "3           NaN      0.0            Санкт-Петербург           28098.0   \n",
       "4         41.00      NaN            Санкт-Петербург           31856.0   \n",
       "5          9.10      NaN  городской посёлок Янино-1               NaN   \n",
       "6         14.40      1.0          посёлок Парголово           52996.0   \n",
       "7         18.90      2.0            Санкт-Петербург           23982.0   \n",
       "8          8.81      NaN             посёлок Мурино               NaN   \n",
       "9          6.50      2.0            Санкт-Петербург           50898.0   \n",
       "\n",
       "  cityCenters_nearest  parks_around3000  parks_nearest  ponds_around3000  \\\n",
       "0             16028.0               1.0          482.0               2.0   \n",
       "1             18603.0               0.0            NaN               0.0   \n",
       "2             13933.0               1.0           90.0               2.0   \n",
       "3              6800.0               2.0           84.0               3.0   \n",
       "4              8098.0               2.0          112.0               1.0   \n",
       "5                 NaN               NaN            NaN               NaN   \n",
       "6             19143.0               0.0            NaN               0.0   \n",
       "7             11634.0               0.0            NaN               0.0   \n",
       "8                 NaN               NaN            NaN               NaN   \n",
       "9             15008.0               0.0            NaN               0.0   \n",
       "\n",
       "   ponds_nearest  days_exposition  \n",
       "0          755.0              NaN  \n",
       "1            NaN             81.0  \n",
       "2          574.0            558.0  \n",
       "3          234.0            424.0  \n",
       "4           48.0            121.0  \n",
       "5            NaN             55.0  \n",
       "6            NaN            155.0  \n",
       "7            NaN              NaN  \n",
       "8            NaN            189.0  \n",
       "9            NaN            289.0  \n",
       "\n",
       "[10 rows x 22 columns]"
      ]
     },
     "execution_count": 1,
     "metadata": {},
     "output_type": "execute_result"
    }
   ],
   "source": [
    "import pandas as pd\n",
    "import matplotlib.pyplot as plt \n",
    "import warnings \n",
    "warnings.filterwarnings('ignore')\n",
    "\n",
    "df = pd.read_csv('/datasets/real_estate_data.csv', sep='\\t')\n",
    "df.head(10)"
   ]
  },
  {
   "cell_type": "markdown",
   "metadata": {},
   "source": [
    "Получили первые 10 строк в таблице.\n",
    "\n",
    "Теперь получим общую информацию о таблице:"
   ]
  },
  {
   "cell_type": "code",
   "execution_count": 2,
   "metadata": {
    "scrolled": true
   },
   "outputs": [
    {
     "name": "stdout",
     "output_type": "stream",
     "text": [
      "<class 'pandas.core.frame.DataFrame'>\n",
      "RangeIndex: 23699 entries, 0 to 23698\n",
      "Data columns (total 22 columns):\n",
      " #   Column                Non-Null Count  Dtype  \n",
      "---  ------                --------------  -----  \n",
      " 0   total_images          23699 non-null  int64  \n",
      " 1   last_price            23699 non-null  float64\n",
      " 2   total_area            23699 non-null  float64\n",
      " 3   first_day_exposition  23699 non-null  object \n",
      " 4   rooms                 23699 non-null  int64  \n",
      " 5   ceiling_height        14504 non-null  float64\n",
      " 6   floors_total          23613 non-null  float64\n",
      " 7   living_area           21796 non-null  float64\n",
      " 8   floor                 23699 non-null  int64  \n",
      " 9   is_apartment          2775 non-null   object \n",
      " 10  studio                23699 non-null  bool   \n",
      " 11  open_plan             23699 non-null  bool   \n",
      " 12  kitchen_area          21421 non-null  float64\n",
      " 13  balcony               12180 non-null  float64\n",
      " 14  locality_name         23650 non-null  object \n",
      " 15  airports_nearest      18157 non-null  float64\n",
      " 16  cityCenters_nearest   18180 non-null  float64\n",
      " 17  parks_around3000      18181 non-null  float64\n",
      " 18  parks_nearest         8079 non-null   float64\n",
      " 19  ponds_around3000      18181 non-null  float64\n",
      " 20  ponds_nearest         9110 non-null   float64\n",
      " 21  days_exposition       20518 non-null  float64\n",
      "dtypes: bool(2), float64(14), int64(3), object(3)\n",
      "memory usage: 3.7+ MB\n"
     ]
    }
   ],
   "source": [
    "df.info()"
   ]
  },
  {
   "cell_type": "markdown",
   "metadata": {},
   "source": [
    "Во время первичного анализа данных, может помочь метод describe(). Он покажет разброс значений, максимум, минимум, среднее и медиану."
   ]
  },
  {
   "cell_type": "code",
   "execution_count": 3,
   "metadata": {},
   "outputs": [
    {
     "data": {
      "text/html": [
       "<div>\n",
       "<style scoped>\n",
       "    .dataframe tbody tr th:only-of-type {\n",
       "        vertical-align: middle;\n",
       "    }\n",
       "\n",
       "    .dataframe tbody tr th {\n",
       "        vertical-align: top;\n",
       "    }\n",
       "\n",
       "    .dataframe thead th {\n",
       "        text-align: right;\n",
       "    }\n",
       "</style>\n",
       "<table border=\"1\" class=\"dataframe\">\n",
       "  <thead>\n",
       "    <tr style=\"text-align: right;\">\n",
       "      <th></th>\n",
       "      <th>total_images</th>\n",
       "      <th>last_price</th>\n",
       "      <th>total_area</th>\n",
       "      <th>rooms</th>\n",
       "      <th>ceiling_height</th>\n",
       "      <th>floors_total</th>\n",
       "      <th>living_area</th>\n",
       "      <th>floor</th>\n",
       "      <th>kitchen_area</th>\n",
       "      <th>balcony</th>\n",
       "      <th>airports_nearest</th>\n",
       "      <th>cityCenters_nearest</th>\n",
       "      <th>parks_around3000</th>\n",
       "      <th>parks_nearest</th>\n",
       "      <th>ponds_around3000</th>\n",
       "      <th>ponds_nearest</th>\n",
       "      <th>days_exposition</th>\n",
       "    </tr>\n",
       "  </thead>\n",
       "  <tbody>\n",
       "    <tr>\n",
       "      <th>count</th>\n",
       "      <td>23699.000000</td>\n",
       "      <td>2.369900e+04</td>\n",
       "      <td>23699.000000</td>\n",
       "      <td>23699.000000</td>\n",
       "      <td>14504.000000</td>\n",
       "      <td>23613.000000</td>\n",
       "      <td>21796.000000</td>\n",
       "      <td>23699.000000</td>\n",
       "      <td>21421.000000</td>\n",
       "      <td>12180.000000</td>\n",
       "      <td>18157.000000</td>\n",
       "      <td>18180.000000</td>\n",
       "      <td>18181.000000</td>\n",
       "      <td>8079.000000</td>\n",
       "      <td>18181.000000</td>\n",
       "      <td>9110.000000</td>\n",
       "      <td>20518.000000</td>\n",
       "    </tr>\n",
       "    <tr>\n",
       "      <th>mean</th>\n",
       "      <td>9.858475</td>\n",
       "      <td>6.541549e+06</td>\n",
       "      <td>60.348651</td>\n",
       "      <td>2.070636</td>\n",
       "      <td>2.771499</td>\n",
       "      <td>10.673824</td>\n",
       "      <td>34.457852</td>\n",
       "      <td>5.892358</td>\n",
       "      <td>10.569807</td>\n",
       "      <td>1.150082</td>\n",
       "      <td>28793.672193</td>\n",
       "      <td>14191.277833</td>\n",
       "      <td>0.611408</td>\n",
       "      <td>490.804555</td>\n",
       "      <td>0.770255</td>\n",
       "      <td>517.980900</td>\n",
       "      <td>180.888634</td>\n",
       "    </tr>\n",
       "    <tr>\n",
       "      <th>std</th>\n",
       "      <td>5.682529</td>\n",
       "      <td>1.088701e+07</td>\n",
       "      <td>35.654083</td>\n",
       "      <td>1.078405</td>\n",
       "      <td>1.261056</td>\n",
       "      <td>6.597173</td>\n",
       "      <td>22.030445</td>\n",
       "      <td>4.885249</td>\n",
       "      <td>5.905438</td>\n",
       "      <td>1.071300</td>\n",
       "      <td>12630.880622</td>\n",
       "      <td>8608.386210</td>\n",
       "      <td>0.802074</td>\n",
       "      <td>342.317995</td>\n",
       "      <td>0.938346</td>\n",
       "      <td>277.720643</td>\n",
       "      <td>219.727988</td>\n",
       "    </tr>\n",
       "    <tr>\n",
       "      <th>min</th>\n",
       "      <td>0.000000</td>\n",
       "      <td>1.219000e+04</td>\n",
       "      <td>12.000000</td>\n",
       "      <td>0.000000</td>\n",
       "      <td>1.000000</td>\n",
       "      <td>1.000000</td>\n",
       "      <td>2.000000</td>\n",
       "      <td>1.000000</td>\n",
       "      <td>1.300000</td>\n",
       "      <td>0.000000</td>\n",
       "      <td>0.000000</td>\n",
       "      <td>181.000000</td>\n",
       "      <td>0.000000</td>\n",
       "      <td>1.000000</td>\n",
       "      <td>0.000000</td>\n",
       "      <td>13.000000</td>\n",
       "      <td>1.000000</td>\n",
       "    </tr>\n",
       "    <tr>\n",
       "      <th>25%</th>\n",
       "      <td>6.000000</td>\n",
       "      <td>3.400000e+06</td>\n",
       "      <td>40.000000</td>\n",
       "      <td>1.000000</td>\n",
       "      <td>2.520000</td>\n",
       "      <td>5.000000</td>\n",
       "      <td>18.600000</td>\n",
       "      <td>2.000000</td>\n",
       "      <td>7.000000</td>\n",
       "      <td>0.000000</td>\n",
       "      <td>18585.000000</td>\n",
       "      <td>9238.000000</td>\n",
       "      <td>0.000000</td>\n",
       "      <td>288.000000</td>\n",
       "      <td>0.000000</td>\n",
       "      <td>294.000000</td>\n",
       "      <td>45.000000</td>\n",
       "    </tr>\n",
       "    <tr>\n",
       "      <th>50%</th>\n",
       "      <td>9.000000</td>\n",
       "      <td>4.650000e+06</td>\n",
       "      <td>52.000000</td>\n",
       "      <td>2.000000</td>\n",
       "      <td>2.650000</td>\n",
       "      <td>9.000000</td>\n",
       "      <td>30.000000</td>\n",
       "      <td>4.000000</td>\n",
       "      <td>9.100000</td>\n",
       "      <td>1.000000</td>\n",
       "      <td>26726.000000</td>\n",
       "      <td>13098.500000</td>\n",
       "      <td>0.000000</td>\n",
       "      <td>455.000000</td>\n",
       "      <td>1.000000</td>\n",
       "      <td>502.000000</td>\n",
       "      <td>95.000000</td>\n",
       "    </tr>\n",
       "    <tr>\n",
       "      <th>75%</th>\n",
       "      <td>14.000000</td>\n",
       "      <td>6.800000e+06</td>\n",
       "      <td>69.900000</td>\n",
       "      <td>3.000000</td>\n",
       "      <td>2.800000</td>\n",
       "      <td>16.000000</td>\n",
       "      <td>42.300000</td>\n",
       "      <td>8.000000</td>\n",
       "      <td>12.000000</td>\n",
       "      <td>2.000000</td>\n",
       "      <td>37273.000000</td>\n",
       "      <td>16293.000000</td>\n",
       "      <td>1.000000</td>\n",
       "      <td>612.000000</td>\n",
       "      <td>1.000000</td>\n",
       "      <td>729.000000</td>\n",
       "      <td>232.000000</td>\n",
       "    </tr>\n",
       "    <tr>\n",
       "      <th>max</th>\n",
       "      <td>50.000000</td>\n",
       "      <td>7.630000e+08</td>\n",
       "      <td>900.000000</td>\n",
       "      <td>19.000000</td>\n",
       "      <td>100.000000</td>\n",
       "      <td>60.000000</td>\n",
       "      <td>409.700000</td>\n",
       "      <td>33.000000</td>\n",
       "      <td>112.000000</td>\n",
       "      <td>5.000000</td>\n",
       "      <td>84869.000000</td>\n",
       "      <td>65968.000000</td>\n",
       "      <td>3.000000</td>\n",
       "      <td>3190.000000</td>\n",
       "      <td>3.000000</td>\n",
       "      <td>1344.000000</td>\n",
       "      <td>1580.000000</td>\n",
       "    </tr>\n",
       "  </tbody>\n",
       "</table>\n",
       "</div>"
      ],
      "text/plain": [
       "       total_images    last_price    total_area         rooms  ceiling_height  \\\n",
       "count  23699.000000  2.369900e+04  23699.000000  23699.000000    14504.000000   \n",
       "mean       9.858475  6.541549e+06     60.348651      2.070636        2.771499   \n",
       "std        5.682529  1.088701e+07     35.654083      1.078405        1.261056   \n",
       "min        0.000000  1.219000e+04     12.000000      0.000000        1.000000   \n",
       "25%        6.000000  3.400000e+06     40.000000      1.000000        2.520000   \n",
       "50%        9.000000  4.650000e+06     52.000000      2.000000        2.650000   \n",
       "75%       14.000000  6.800000e+06     69.900000      3.000000        2.800000   \n",
       "max       50.000000  7.630000e+08    900.000000     19.000000      100.000000   \n",
       "\n",
       "       floors_total   living_area         floor  kitchen_area       balcony  \\\n",
       "count  23613.000000  21796.000000  23699.000000  21421.000000  12180.000000   \n",
       "mean      10.673824     34.457852      5.892358     10.569807      1.150082   \n",
       "std        6.597173     22.030445      4.885249      5.905438      1.071300   \n",
       "min        1.000000      2.000000      1.000000      1.300000      0.000000   \n",
       "25%        5.000000     18.600000      2.000000      7.000000      0.000000   \n",
       "50%        9.000000     30.000000      4.000000      9.100000      1.000000   \n",
       "75%       16.000000     42.300000      8.000000     12.000000      2.000000   \n",
       "max       60.000000    409.700000     33.000000    112.000000      5.000000   \n",
       "\n",
       "       airports_nearest  cityCenters_nearest  parks_around3000  parks_nearest  \\\n",
       "count      18157.000000         18180.000000      18181.000000    8079.000000   \n",
       "mean       28793.672193         14191.277833          0.611408     490.804555   \n",
       "std        12630.880622          8608.386210          0.802074     342.317995   \n",
       "min            0.000000           181.000000          0.000000       1.000000   \n",
       "25%        18585.000000          9238.000000          0.000000     288.000000   \n",
       "50%        26726.000000         13098.500000          0.000000     455.000000   \n",
       "75%        37273.000000         16293.000000          1.000000     612.000000   \n",
       "max        84869.000000         65968.000000          3.000000    3190.000000   \n",
       "\n",
       "       ponds_around3000  ponds_nearest  days_exposition  \n",
       "count      18181.000000    9110.000000     20518.000000  \n",
       "mean           0.770255     517.980900       180.888634  \n",
       "std            0.938346     277.720643       219.727988  \n",
       "min            0.000000      13.000000         1.000000  \n",
       "25%            0.000000     294.000000        45.000000  \n",
       "50%            1.000000     502.000000        95.000000  \n",
       "75%            1.000000     729.000000       232.000000  \n",
       "max            3.000000    1344.000000      1580.000000  "
      ]
     },
     "execution_count": 3,
     "metadata": {},
     "output_type": "execute_result"
    }
   ],
   "source": [
    "df_description = df.describe()\n",
    "df_description"
   ]
  },
  {
   "cell_type": "markdown",
   "metadata": {},
   "source": [
    "Итак, в таблице 22 столбца. Тип данных в столбцах: object, int, float, bool.\n",
    "\n",
    "Согласно документации к данным:\n",
    "* `airports_nearest` — расстояние до ближайшего аэропорта в метрах (м)\n",
    "* `balcony` — число балконов\n",
    "* `ceiling_height` — высота потолков (м)\n",
    "* `cityCenters_nearest` — расстояние до центра города (м)\n",
    "* `days_exposition` — сколько дней было размещено объявление (от публикации до снятия)\n",
    "* `first_day_exposition` — дата публикации\n",
    "* `floor` — этаж\n",
    "* `floors_total` — всего этажей в доме\n",
    "* `is_apartment` — апартаменты (булев тип)\n",
    "* `kitchen_area` — площадь кухни в квадратных метрах (м²)\n",
    "* `last_price` — цена на момент снятия с публикации\n",
    "* `living_area` — жилая площадь в квадратных метрах (м²)\n",
    "* `locality_name` — название населённого пункта\n",
    "* `open_plan` — свободная планировка (булев тип)\n",
    "* `parks_around3000` — число парков в радиусе 3 км\n",
    "* `parks_nearest` — расстояние до ближайшего парка (м)\n",
    "* `ponds_around3000` — число водоёмов в радиусе 3 км\n",
    "* `ponds_nearest` — расстояние до ближайшего водоёма (м)\n",
    "* `rooms` — число комнат\n",
    "* `studio` — квартира-студия (булев тип)\n",
    "* `total_area` — площадь квартиры в квадратных метрах (м²)\n",
    "* `total_images` — число фотографий квартиры в объявлении\n",
    "\n",
    "В названии столбца `cityCenters_nearest` нарушение стиля.\n",
    "\n",
    "Количество значений в столбцах различается. Значит, в данных есть пропущенные значения."
   ]
  },
  {
   "cell_type": "markdown",
   "metadata": {},
   "source": [
    " **Вывод**"
   ]
  },
  {
   "cell_type": "markdown",
   "metadata": {},
   "source": [
    "В каждой строке таблицы — данные о квартирах: число комнат, площадь квартиры в квадратных метрах (м²), высота потолков и тд.\n",
    "\n",
    "Предварительно можно утверждать, что, данных достаточно для проверки гипотез. Но встречаются пропуски.\n",
    "\n",
    "Чтобы двигаться дальше, нужно устранить проблемы в данных."
   ]
  },
  {
   "cell_type": "markdown",
   "metadata": {},
   "source": [
    "## Предобработка данных"
   ]
  },
  {
   "cell_type": "markdown",
   "metadata": {},
   "source": [
    "### Стиль заголовков"
   ]
  },
  {
   "cell_type": "markdown",
   "metadata": {},
   "source": [
    "Выведем на экран названия столбцов:"
   ]
  },
  {
   "cell_type": "code",
   "execution_count": 4,
   "metadata": {},
   "outputs": [
    {
     "data": {
      "text/plain": [
       "Index(['total_images', 'last_price', 'total_area', 'first_day_exposition',\n",
       "       'rooms', 'ceiling_height', 'floors_total', 'living_area', 'floor',\n",
       "       'is_apartment', 'studio', 'open_plan', 'kitchen_area', 'balcony',\n",
       "       'locality_name', 'airports_nearest', 'cityCenters_nearest',\n",
       "       'parks_around3000', 'parks_nearest', 'ponds_around3000',\n",
       "       'ponds_nearest', 'days_exposition'],\n",
       "      dtype='object')"
      ]
     },
     "execution_count": 4,
     "metadata": {},
     "output_type": "execute_result"
    }
   ],
   "source": [
    "df.columns"
   ]
  },
  {
   "cell_type": "markdown",
   "metadata": {},
   "source": [
    "Переведем название в столбце `cityCenters_nearest` в соответствии с змеинным регистром."
   ]
  },
  {
   "cell_type": "code",
   "execution_count": 5,
   "metadata": {},
   "outputs": [],
   "source": [
    "df = df.rename(columns={'cityCenters_nearest': 'city_centers_nearest'})"
   ]
  },
  {
   "cell_type": "markdown",
   "metadata": {},
   "source": [
    "Проверим результат. Для этого выведем еще раз название столбцов:"
   ]
  },
  {
   "cell_type": "code",
   "execution_count": 6,
   "metadata": {},
   "outputs": [
    {
     "data": {
      "text/plain": [
       "Index(['total_images', 'last_price', 'total_area', 'first_day_exposition',\n",
       "       'rooms', 'ceiling_height', 'floors_total', 'living_area', 'floor',\n",
       "       'is_apartment', 'studio', 'open_plan', 'kitchen_area', 'balcony',\n",
       "       'locality_name', 'airports_nearest', 'city_centers_nearest',\n",
       "       'parks_around3000', 'parks_nearest', 'ponds_around3000',\n",
       "       'ponds_nearest', 'days_exposition'],\n",
       "      dtype='object')"
      ]
     },
     "execution_count": 6,
     "metadata": {},
     "output_type": "execute_result"
    }
   ],
   "source": [
    "df.columns"
   ]
  },
  {
   "cell_type": "markdown",
   "metadata": {},
   "source": [
    "### Заполнение пропусков"
   ]
  },
  {
   "cell_type": "markdown",
   "metadata": {},
   "source": [
    "Посчитаем сколько в таблице пропущенных значений:"
   ]
  },
  {
   "cell_type": "code",
   "execution_count": 7,
   "metadata": {
    "scrolled": false
   },
   "outputs": [
    {
     "data": {
      "text/plain": [
       "total_images                0\n",
       "last_price                  0\n",
       "total_area                  0\n",
       "first_day_exposition        0\n",
       "rooms                       0\n",
       "ceiling_height           9195\n",
       "floors_total               86\n",
       "living_area              1903\n",
       "floor                       0\n",
       "is_apartment            20924\n",
       "studio                      0\n",
       "open_plan                   0\n",
       "kitchen_area             2278\n",
       "balcony                 11519\n",
       "locality_name              49\n",
       "airports_nearest         5542\n",
       "city_centers_nearest     5519\n",
       "parks_around3000         5518\n",
       "parks_nearest           15620\n",
       "ponds_around3000         5518\n",
       "ponds_nearest           14589\n",
       "days_exposition          3181\n",
       "dtype: int64"
      ]
     },
     "execution_count": 7,
     "metadata": {},
     "output_type": "execute_result"
    }
   ],
   "source": [
    "df.isna().sum()"
   ]
  },
  {
   "cell_type": "markdown",
   "metadata": {},
   "source": [
    "Также посмотрим их долю:"
   ]
  },
  {
   "cell_type": "code",
   "execution_count": 8,
   "metadata": {
    "scrolled": true
   },
   "outputs": [
    {
     "data": {
      "text/plain": [
       "total_images            0.000000\n",
       "last_price              0.000000\n",
       "total_area              0.000000\n",
       "first_day_exposition    0.000000\n",
       "rooms                   0.000000\n",
       "ceiling_height          0.387991\n",
       "floors_total            0.003629\n",
       "living_area             0.080299\n",
       "floor                   0.000000\n",
       "is_apartment            0.882906\n",
       "studio                  0.000000\n",
       "open_plan               0.000000\n",
       "kitchen_area            0.096122\n",
       "balcony                 0.486054\n",
       "locality_name           0.002068\n",
       "airports_nearest        0.233850\n",
       "city_centers_nearest    0.232879\n",
       "parks_around3000        0.232837\n",
       "parks_nearest           0.659100\n",
       "ponds_around3000        0.232837\n",
       "ponds_nearest           0.615596\n",
       "days_exposition         0.134225\n",
       "dtype: float64"
      ]
     },
     "execution_count": 8,
     "metadata": {},
     "output_type": "execute_result"
    }
   ],
   "source": [
    "df.isna().mean()"
   ]
  },
  {
   "cell_type": "markdown",
   "metadata": {},
   "source": [
    "Пропущены значения в столбцах : `ceiling_height`, `floors_total`, `living_area`, `is_apartment`, `kitchen_area`, `balcony`, `locality_name`, `airports_nearest`, `city_centers_nearest`, `parks_around3000`, `parks_nearest`, `ponds_around3000`, `ponds_nearest`, `days_exposition.` \n",
    "Причиной появления пропусков мог стать человеческий фактор или неккоректная выгрузка данных."
   ]
  },
  {
   "cell_type": "markdown",
   "metadata": {},
   "source": [
    "\n",
    "Пропуски в столбце `city_centers_nearest` оставим, некорректно их заменять на медианное значение, можно не угадать находится ли квартира в центре или нет, что испортит представление о данных.\n",
    "\n",
    "Значения в столбцах с наличием и расстоянием до прудов/парков и удаленность от аэпорорта не повлияют на исследование, их мы тоже оставим.\n",
    "\n",
    "Для некоторых пропущенных значений можно предположить логичную замену. Если человек не указал количество балконов, значит их нет. Заменим эти пропуски на 0."
   ]
  },
  {
   "cell_type": "code",
   "execution_count": 9,
   "metadata": {},
   "outputs": [],
   "source": [
    "df['balcony'] = df['balcony'].fillna(0)"
   ]
  },
  {
   "cell_type": "markdown",
   "metadata": {},
   "source": [
    "Пропуски в столбце `is_apartment` логично заменить на False. Если человек не указал, что это апартамены, значит это не так."
   ]
  },
  {
   "cell_type": "code",
   "execution_count": 10,
   "metadata": {},
   "outputs": [],
   "source": [
    "df['is_apartment'] = df['is_apartment'].fillna(False)"
   ]
  },
  {
   "cell_type": "markdown",
   "metadata": {},
   "source": [
    "Пропуски в столбце `floors_total` заменим на этаж самой квартиры, из столба `floor`."
   ]
  },
  {
   "cell_type": "code",
   "execution_count": 11,
   "metadata": {},
   "outputs": [],
   "source": [
    "df['floors_total'] = df['floors_total'].fillna(df['floor'])"
   ]
  },
  {
   "cell_type": "markdown",
   "metadata": {},
   "source": [
    "Значения в столбце `locality_name` заменим на \"unknown\". "
   ]
  },
  {
   "cell_type": "code",
   "execution_count": 12,
   "metadata": {},
   "outputs": [],
   "source": [
    "df['locality_name'] = df['locality_name'].fillna('unknown')"
   ]
  },
  {
   "cell_type": "markdown",
   "metadata": {},
   "source": [
    "Заменим пропуски в столбцах `living_area` медианным значением, но сгруппируем их по колличесву комнат. "
   ]
  },
  {
   "cell_type": "code",
   "execution_count": 13,
   "metadata": {
    "scrolled": true
   },
   "outputs": [],
   "source": [
    "df['living_area'] = df['living_area'].fillna(df.groupby('rooms')['living_area'].transform('median'))"
   ]
  },
  {
   "cell_type": "markdown",
   "metadata": {},
   "source": [
    "Таким же образом заменим пропуски в `kitchen_area`. Но у нас могут остаться данные по студиям, где нет отдельной площади кухни, она входит в жилую. Заменим эти значения на 0."
   ]
  },
  {
   "cell_type": "code",
   "execution_count": 14,
   "metadata": {},
   "outputs": [],
   "source": [
    "df['kitchen_area'] = df['kitchen_area'].fillna(df.groupby('rooms')['kitchen_area'].transform('median'))\n",
    "df['kitchen_area'] = df['kitchen_area'].fillna(0)"
   ]
  },
  {
   "cell_type": "markdown",
   "metadata": {},
   "source": [
    "Заменим пропуски в столбце `ceiling_height` медианным значением."
   ]
  },
  {
   "cell_type": "code",
   "execution_count": 15,
   "metadata": {},
   "outputs": [],
   "source": [
    "df['ceiling_height'] = df['ceiling_height'].fillna(df['ceiling_height'].median())"
   ]
  },
  {
   "cell_type": "markdown",
   "metadata": {},
   "source": [
    "Пропуски в столбце `days_exposition` заменим на 0 т.к если появился NaN значит объявление еще висит на продаже."
   ]
  },
  {
   "cell_type": "code",
   "execution_count": 16,
   "metadata": {},
   "outputs": [],
   "source": [
    "df['days_exposition'] = df['days_exposition'].fillna(0)"
   ]
  },
  {
   "cell_type": "markdown",
   "metadata": {},
   "source": [
    "Проверим, что заменили пропуски в необходимых столбцах:"
   ]
  },
  {
   "cell_type": "code",
   "execution_count": 17,
   "metadata": {
    "scrolled": true
   },
   "outputs": [
    {
     "data": {
      "text/plain": [
       "total_images                0\n",
       "last_price                  0\n",
       "total_area                  0\n",
       "first_day_exposition        0\n",
       "rooms                       0\n",
       "ceiling_height              0\n",
       "floors_total                0\n",
       "living_area                 0\n",
       "floor                       0\n",
       "is_apartment                0\n",
       "studio                      0\n",
       "open_plan                   0\n",
       "kitchen_area                0\n",
       "balcony                     0\n",
       "locality_name               0\n",
       "airports_nearest         5542\n",
       "city_centers_nearest     5519\n",
       "parks_around3000         5518\n",
       "parks_nearest           15620\n",
       "ponds_around3000         5518\n",
       "ponds_nearest           14589\n",
       "days_exposition             0\n",
       "dtype: int64"
      ]
     },
     "execution_count": 17,
     "metadata": {},
     "output_type": "execute_result"
    }
   ],
   "source": [
    "df.isna().sum()"
   ]
  },
  {
   "cell_type": "markdown",
   "metadata": {},
   "source": [
    "### Изменение типов данных"
   ]
  },
  {
   "cell_type": "markdown",
   "metadata": {},
   "source": [
    "Изменим типы даных в столбцах `first_day_exposition` , `floors_total` , `is_apartment`, `last_price`, `first_day_exposition` ,`days_exposition`."
   ]
  },
  {
   "cell_type": "code",
   "execution_count": 18,
   "metadata": {},
   "outputs": [
    {
     "name": "stdout",
     "output_type": "stream",
     "text": [
      "<class 'pandas.core.frame.DataFrame'>\n",
      "RangeIndex: 23699 entries, 0 to 23698\n",
      "Data columns (total 22 columns):\n",
      " #   Column                Non-Null Count  Dtype         \n",
      "---  ------                --------------  -----         \n",
      " 0   total_images          23699 non-null  int64         \n",
      " 1   last_price            23699 non-null  int64         \n",
      " 2   total_area            23699 non-null  float64       \n",
      " 3   first_day_exposition  23699 non-null  datetime64[ns]\n",
      " 4   rooms                 23699 non-null  int64         \n",
      " 5   ceiling_height        23699 non-null  float64       \n",
      " 6   floors_total          23699 non-null  int64         \n",
      " 7   living_area           23699 non-null  float64       \n",
      " 8   floor                 23699 non-null  int64         \n",
      " 9   is_apartment          23699 non-null  bool          \n",
      " 10  studio                23699 non-null  bool          \n",
      " 11  open_plan             23699 non-null  bool          \n",
      " 12  kitchen_area          23699 non-null  float64       \n",
      " 13  balcony               23699 non-null  float64       \n",
      " 14  locality_name         23699 non-null  object        \n",
      " 15  airports_nearest      18157 non-null  float64       \n",
      " 16  city_centers_nearest  18180 non-null  float64       \n",
      " 17  parks_around3000      18181 non-null  float64       \n",
      " 18  parks_nearest         8079 non-null   float64       \n",
      " 19  ponds_around3000      18181 non-null  float64       \n",
      " 20  ponds_nearest         9110 non-null   float64       \n",
      " 21  days_exposition       23699 non-null  int64         \n",
      "dtypes: bool(3), datetime64[ns](1), float64(11), int64(6), object(1)\n",
      "memory usage: 3.5+ MB\n"
     ]
    }
   ],
   "source": [
    "df['is_apartment'] = df['is_apartment'].astype('bool')\n",
    "df['floors_total'] = df['floors_total'].astype('int')\n",
    "df['last_price'] = df['last_price'].astype('int')\n",
    "df['rooms'] = df['rooms'].astype('int')\n",
    "df['first_day_exposition'] = pd.to_datetime(df['first_day_exposition'], format='%Y-%m-%dT%H:%M:%S')\n",
    "df['days_exposition'] = df['days_exposition'].astype('int')\n",
    "df.info()"
   ]
  },
  {
   "cell_type": "markdown",
   "metadata": {},
   "source": [
    "**Вывод**\n",
    "\n",
    "Заполнили пропуски и изменили типы данных в необходимых столбцах для дальнейшей работы с данными."
   ]
  },
  {
   "cell_type": "markdown",
   "metadata": {},
   "source": [
    "## Расчёты и добавление результатов в таблицу"
   ]
  },
  {
   "cell_type": "markdown",
   "metadata": {},
   "source": [
    "Расчитаем и добавим в таблицу:\n",
    "* цену квадратного метра;\n",
    "* день недели, месяц и год публикации объявления;\n",
    "* этаж квартиры; варианты — первый, последний, другой;\n",
    "* соотношение жилой и общей площади, а также отношение площади кухни к общей."
   ]
  },
  {
   "cell_type": "markdown",
   "metadata": {},
   "source": [
    "**Цену квадратного метра.**"
   ]
  },
  {
   "cell_type": "code",
   "execution_count": 19,
   "metadata": {},
   "outputs": [
    {
     "data": {
      "text/html": [
       "<div>\n",
       "<style scoped>\n",
       "    .dataframe tbody tr th:only-of-type {\n",
       "        vertical-align: middle;\n",
       "    }\n",
       "\n",
       "    .dataframe tbody tr th {\n",
       "        vertical-align: top;\n",
       "    }\n",
       "\n",
       "    .dataframe thead th {\n",
       "        text-align: right;\n",
       "    }\n",
       "</style>\n",
       "<table border=\"1\" class=\"dataframe\">\n",
       "  <thead>\n",
       "    <tr style=\"text-align: right;\">\n",
       "      <th></th>\n",
       "      <th>total_images</th>\n",
       "      <th>last_price</th>\n",
       "      <th>total_area</th>\n",
       "      <th>first_day_exposition</th>\n",
       "      <th>rooms</th>\n",
       "      <th>ceiling_height</th>\n",
       "      <th>floors_total</th>\n",
       "      <th>living_area</th>\n",
       "      <th>floor</th>\n",
       "      <th>is_apartment</th>\n",
       "      <th>...</th>\n",
       "      <th>balcony</th>\n",
       "      <th>locality_name</th>\n",
       "      <th>airports_nearest</th>\n",
       "      <th>city_centers_nearest</th>\n",
       "      <th>parks_around3000</th>\n",
       "      <th>parks_nearest</th>\n",
       "      <th>ponds_around3000</th>\n",
       "      <th>ponds_nearest</th>\n",
       "      <th>days_exposition</th>\n",
       "      <th>price_per_sqm</th>\n",
       "    </tr>\n",
       "  </thead>\n",
       "  <tbody>\n",
       "    <tr>\n",
       "      <th>0</th>\n",
       "      <td>20</td>\n",
       "      <td>13000000</td>\n",
       "      <td>108.0</td>\n",
       "      <td>2019-03-07</td>\n",
       "      <td>3</td>\n",
       "      <td>2.70</td>\n",
       "      <td>16</td>\n",
       "      <td>51.0</td>\n",
       "      <td>8</td>\n",
       "      <td>False</td>\n",
       "      <td>...</td>\n",
       "      <td>0.0</td>\n",
       "      <td>Санкт-Петербург</td>\n",
       "      <td>18863.0</td>\n",
       "      <td>16028.0</td>\n",
       "      <td>1.0</td>\n",
       "      <td>482.0</td>\n",
       "      <td>2.0</td>\n",
       "      <td>755.0</td>\n",
       "      <td>0</td>\n",
       "      <td>120370.37</td>\n",
       "    </tr>\n",
       "    <tr>\n",
       "      <th>1</th>\n",
       "      <td>7</td>\n",
       "      <td>3350000</td>\n",
       "      <td>40.4</td>\n",
       "      <td>2018-12-04</td>\n",
       "      <td>1</td>\n",
       "      <td>2.65</td>\n",
       "      <td>11</td>\n",
       "      <td>18.6</td>\n",
       "      <td>1</td>\n",
       "      <td>False</td>\n",
       "      <td>...</td>\n",
       "      <td>2.0</td>\n",
       "      <td>посёлок Шушары</td>\n",
       "      <td>12817.0</td>\n",
       "      <td>18603.0</td>\n",
       "      <td>0.0</td>\n",
       "      <td>NaN</td>\n",
       "      <td>0.0</td>\n",
       "      <td>NaN</td>\n",
       "      <td>81</td>\n",
       "      <td>82920.79</td>\n",
       "    </tr>\n",
       "    <tr>\n",
       "      <th>2</th>\n",
       "      <td>10</td>\n",
       "      <td>5196000</td>\n",
       "      <td>56.0</td>\n",
       "      <td>2015-08-20</td>\n",
       "      <td>2</td>\n",
       "      <td>2.65</td>\n",
       "      <td>5</td>\n",
       "      <td>34.3</td>\n",
       "      <td>4</td>\n",
       "      <td>False</td>\n",
       "      <td>...</td>\n",
       "      <td>0.0</td>\n",
       "      <td>Санкт-Петербург</td>\n",
       "      <td>21741.0</td>\n",
       "      <td>13933.0</td>\n",
       "      <td>1.0</td>\n",
       "      <td>90.0</td>\n",
       "      <td>2.0</td>\n",
       "      <td>574.0</td>\n",
       "      <td>558</td>\n",
       "      <td>92785.71</td>\n",
       "    </tr>\n",
       "    <tr>\n",
       "      <th>3</th>\n",
       "      <td>0</td>\n",
       "      <td>64900000</td>\n",
       "      <td>159.0</td>\n",
       "      <td>2015-07-24</td>\n",
       "      <td>3</td>\n",
       "      <td>2.65</td>\n",
       "      <td>14</td>\n",
       "      <td>45.0</td>\n",
       "      <td>9</td>\n",
       "      <td>False</td>\n",
       "      <td>...</td>\n",
       "      <td>0.0</td>\n",
       "      <td>Санкт-Петербург</td>\n",
       "      <td>28098.0</td>\n",
       "      <td>6800.0</td>\n",
       "      <td>2.0</td>\n",
       "      <td>84.0</td>\n",
       "      <td>3.0</td>\n",
       "      <td>234.0</td>\n",
       "      <td>424</td>\n",
       "      <td>408176.10</td>\n",
       "    </tr>\n",
       "    <tr>\n",
       "      <th>4</th>\n",
       "      <td>2</td>\n",
       "      <td>10000000</td>\n",
       "      <td>100.0</td>\n",
       "      <td>2018-06-19</td>\n",
       "      <td>2</td>\n",
       "      <td>3.03</td>\n",
       "      <td>14</td>\n",
       "      <td>32.0</td>\n",
       "      <td>13</td>\n",
       "      <td>False</td>\n",
       "      <td>...</td>\n",
       "      <td>0.0</td>\n",
       "      <td>Санкт-Петербург</td>\n",
       "      <td>31856.0</td>\n",
       "      <td>8098.0</td>\n",
       "      <td>2.0</td>\n",
       "      <td>112.0</td>\n",
       "      <td>1.0</td>\n",
       "      <td>48.0</td>\n",
       "      <td>121</td>\n",
       "      <td>100000.00</td>\n",
       "    </tr>\n",
       "  </tbody>\n",
       "</table>\n",
       "<p>5 rows × 23 columns</p>\n",
       "</div>"
      ],
      "text/plain": [
       "   total_images  last_price  total_area first_day_exposition  rooms  \\\n",
       "0            20    13000000       108.0           2019-03-07      3   \n",
       "1             7     3350000        40.4           2018-12-04      1   \n",
       "2            10     5196000        56.0           2015-08-20      2   \n",
       "3             0    64900000       159.0           2015-07-24      3   \n",
       "4             2    10000000       100.0           2018-06-19      2   \n",
       "\n",
       "   ceiling_height  floors_total  living_area  floor  is_apartment  ...  \\\n",
       "0            2.70            16         51.0      8         False  ...   \n",
       "1            2.65            11         18.6      1         False  ...   \n",
       "2            2.65             5         34.3      4         False  ...   \n",
       "3            2.65            14         45.0      9         False  ...   \n",
       "4            3.03            14         32.0     13         False  ...   \n",
       "\n",
       "   balcony    locality_name  airports_nearest  city_centers_nearest  \\\n",
       "0      0.0  Санкт-Петербург           18863.0               16028.0   \n",
       "1      2.0   посёлок Шушары           12817.0               18603.0   \n",
       "2      0.0  Санкт-Петербург           21741.0               13933.0   \n",
       "3      0.0  Санкт-Петербург           28098.0                6800.0   \n",
       "4      0.0  Санкт-Петербург           31856.0                8098.0   \n",
       "\n",
       "  parks_around3000  parks_nearest  ponds_around3000  ponds_nearest  \\\n",
       "0              1.0          482.0               2.0          755.0   \n",
       "1              0.0            NaN               0.0            NaN   \n",
       "2              1.0           90.0               2.0          574.0   \n",
       "3              2.0           84.0               3.0          234.0   \n",
       "4              2.0          112.0               1.0           48.0   \n",
       "\n",
       "   days_exposition  price_per_sqm  \n",
       "0                0      120370.37  \n",
       "1               81       82920.79  \n",
       "2              558       92785.71  \n",
       "3              424      408176.10  \n",
       "4              121      100000.00  \n",
       "\n",
       "[5 rows x 23 columns]"
      ]
     },
     "execution_count": 19,
     "metadata": {},
     "output_type": "execute_result"
    }
   ],
   "source": [
    "df['price_per_sqm'] =round(df['last_price'] / df['total_area'], 2) #округдим до 2х знаков после запятой\n",
    "df.head()"
   ]
  },
  {
   "cell_type": "markdown",
   "metadata": {},
   "source": [
    "**День недели, месяц и год публикации объявления.**"
   ]
  },
  {
   "cell_type": "code",
   "execution_count": 20,
   "metadata": {},
   "outputs": [
    {
     "data": {
      "text/html": [
       "<div>\n",
       "<style scoped>\n",
       "    .dataframe tbody tr th:only-of-type {\n",
       "        vertical-align: middle;\n",
       "    }\n",
       "\n",
       "    .dataframe tbody tr th {\n",
       "        vertical-align: top;\n",
       "    }\n",
       "\n",
       "    .dataframe thead th {\n",
       "        text-align: right;\n",
       "    }\n",
       "</style>\n",
       "<table border=\"1\" class=\"dataframe\">\n",
       "  <thead>\n",
       "    <tr style=\"text-align: right;\">\n",
       "      <th></th>\n",
       "      <th>total_images</th>\n",
       "      <th>last_price</th>\n",
       "      <th>total_area</th>\n",
       "      <th>first_day_exposition</th>\n",
       "      <th>rooms</th>\n",
       "      <th>ceiling_height</th>\n",
       "      <th>floors_total</th>\n",
       "      <th>living_area</th>\n",
       "      <th>floor</th>\n",
       "      <th>is_apartment</th>\n",
       "      <th>...</th>\n",
       "      <th>city_centers_nearest</th>\n",
       "      <th>parks_around3000</th>\n",
       "      <th>parks_nearest</th>\n",
       "      <th>ponds_around3000</th>\n",
       "      <th>ponds_nearest</th>\n",
       "      <th>days_exposition</th>\n",
       "      <th>price_per_sqm</th>\n",
       "      <th>day_week</th>\n",
       "      <th>month</th>\n",
       "      <th>year</th>\n",
       "    </tr>\n",
       "  </thead>\n",
       "  <tbody>\n",
       "    <tr>\n",
       "      <th>0</th>\n",
       "      <td>20</td>\n",
       "      <td>13000000</td>\n",
       "      <td>108.0</td>\n",
       "      <td>2019-03-07</td>\n",
       "      <td>3</td>\n",
       "      <td>2.70</td>\n",
       "      <td>16</td>\n",
       "      <td>51.0</td>\n",
       "      <td>8</td>\n",
       "      <td>False</td>\n",
       "      <td>...</td>\n",
       "      <td>16028.0</td>\n",
       "      <td>1.0</td>\n",
       "      <td>482.0</td>\n",
       "      <td>2.0</td>\n",
       "      <td>755.0</td>\n",
       "      <td>0</td>\n",
       "      <td>120370.37</td>\n",
       "      <td>3</td>\n",
       "      <td>3</td>\n",
       "      <td>2019</td>\n",
       "    </tr>\n",
       "    <tr>\n",
       "      <th>1</th>\n",
       "      <td>7</td>\n",
       "      <td>3350000</td>\n",
       "      <td>40.4</td>\n",
       "      <td>2018-12-04</td>\n",
       "      <td>1</td>\n",
       "      <td>2.65</td>\n",
       "      <td>11</td>\n",
       "      <td>18.6</td>\n",
       "      <td>1</td>\n",
       "      <td>False</td>\n",
       "      <td>...</td>\n",
       "      <td>18603.0</td>\n",
       "      <td>0.0</td>\n",
       "      <td>NaN</td>\n",
       "      <td>0.0</td>\n",
       "      <td>NaN</td>\n",
       "      <td>81</td>\n",
       "      <td>82920.79</td>\n",
       "      <td>1</td>\n",
       "      <td>12</td>\n",
       "      <td>2018</td>\n",
       "    </tr>\n",
       "    <tr>\n",
       "      <th>2</th>\n",
       "      <td>10</td>\n",
       "      <td>5196000</td>\n",
       "      <td>56.0</td>\n",
       "      <td>2015-08-20</td>\n",
       "      <td>2</td>\n",
       "      <td>2.65</td>\n",
       "      <td>5</td>\n",
       "      <td>34.3</td>\n",
       "      <td>4</td>\n",
       "      <td>False</td>\n",
       "      <td>...</td>\n",
       "      <td>13933.0</td>\n",
       "      <td>1.0</td>\n",
       "      <td>90.0</td>\n",
       "      <td>2.0</td>\n",
       "      <td>574.0</td>\n",
       "      <td>558</td>\n",
       "      <td>92785.71</td>\n",
       "      <td>3</td>\n",
       "      <td>8</td>\n",
       "      <td>2015</td>\n",
       "    </tr>\n",
       "    <tr>\n",
       "      <th>3</th>\n",
       "      <td>0</td>\n",
       "      <td>64900000</td>\n",
       "      <td>159.0</td>\n",
       "      <td>2015-07-24</td>\n",
       "      <td>3</td>\n",
       "      <td>2.65</td>\n",
       "      <td>14</td>\n",
       "      <td>45.0</td>\n",
       "      <td>9</td>\n",
       "      <td>False</td>\n",
       "      <td>...</td>\n",
       "      <td>6800.0</td>\n",
       "      <td>2.0</td>\n",
       "      <td>84.0</td>\n",
       "      <td>3.0</td>\n",
       "      <td>234.0</td>\n",
       "      <td>424</td>\n",
       "      <td>408176.10</td>\n",
       "      <td>4</td>\n",
       "      <td>7</td>\n",
       "      <td>2015</td>\n",
       "    </tr>\n",
       "    <tr>\n",
       "      <th>4</th>\n",
       "      <td>2</td>\n",
       "      <td>10000000</td>\n",
       "      <td>100.0</td>\n",
       "      <td>2018-06-19</td>\n",
       "      <td>2</td>\n",
       "      <td>3.03</td>\n",
       "      <td>14</td>\n",
       "      <td>32.0</td>\n",
       "      <td>13</td>\n",
       "      <td>False</td>\n",
       "      <td>...</td>\n",
       "      <td>8098.0</td>\n",
       "      <td>2.0</td>\n",
       "      <td>112.0</td>\n",
       "      <td>1.0</td>\n",
       "      <td>48.0</td>\n",
       "      <td>121</td>\n",
       "      <td>100000.00</td>\n",
       "      <td>1</td>\n",
       "      <td>6</td>\n",
       "      <td>2018</td>\n",
       "    </tr>\n",
       "  </tbody>\n",
       "</table>\n",
       "<p>5 rows × 26 columns</p>\n",
       "</div>"
      ],
      "text/plain": [
       "   total_images  last_price  total_area first_day_exposition  rooms  \\\n",
       "0            20    13000000       108.0           2019-03-07      3   \n",
       "1             7     3350000        40.4           2018-12-04      1   \n",
       "2            10     5196000        56.0           2015-08-20      2   \n",
       "3             0    64900000       159.0           2015-07-24      3   \n",
       "4             2    10000000       100.0           2018-06-19      2   \n",
       "\n",
       "   ceiling_height  floors_total  living_area  floor  is_apartment  ...  \\\n",
       "0            2.70            16         51.0      8         False  ...   \n",
       "1            2.65            11         18.6      1         False  ...   \n",
       "2            2.65             5         34.3      4         False  ...   \n",
       "3            2.65            14         45.0      9         False  ...   \n",
       "4            3.03            14         32.0     13         False  ...   \n",
       "\n",
       "   city_centers_nearest  parks_around3000  parks_nearest  ponds_around3000  \\\n",
       "0               16028.0               1.0          482.0               2.0   \n",
       "1               18603.0               0.0            NaN               0.0   \n",
       "2               13933.0               1.0           90.0               2.0   \n",
       "3                6800.0               2.0           84.0               3.0   \n",
       "4                8098.0               2.0          112.0               1.0   \n",
       "\n",
       "  ponds_nearest  days_exposition  price_per_sqm  day_week  month  year  \n",
       "0         755.0                0      120370.37         3      3  2019  \n",
       "1           NaN               81       82920.79         1     12  2018  \n",
       "2         574.0              558       92785.71         3      8  2015  \n",
       "3         234.0              424      408176.10         4      7  2015  \n",
       "4          48.0              121      100000.00         1      6  2018  \n",
       "\n",
       "[5 rows x 26 columns]"
      ]
     },
     "execution_count": 20,
     "metadata": {},
     "output_type": "execute_result"
    }
   ],
   "source": [
    "df['day_week'] = pd.DatetimeIndex(df['first_day_exposition']).weekday\n",
    "df['month'] = pd.DatetimeIndex(df['first_day_exposition']).month\n",
    "df['year'] = pd.DatetimeIndex(df['first_day_exposition']).year\n",
    "df.head()"
   ]
  },
  {
   "cell_type": "markdown",
   "metadata": {},
   "source": [
    "**Этаж квартиры** \n",
    "* первый\n",
    "* последний\n",
    "* другой\n",
    "\n",
    "Создадим функцию, которая будет присваивать категории и в отдельный столбец запишем значения, возвращаемые функцией"
   ]
  },
  {
   "cell_type": "code",
   "execution_count": 21,
   "metadata": {},
   "outputs": [
    {
     "data": {
      "text/html": [
       "<div>\n",
       "<style scoped>\n",
       "    .dataframe tbody tr th:only-of-type {\n",
       "        vertical-align: middle;\n",
       "    }\n",
       "\n",
       "    .dataframe tbody tr th {\n",
       "        vertical-align: top;\n",
       "    }\n",
       "\n",
       "    .dataframe thead th {\n",
       "        text-align: right;\n",
       "    }\n",
       "</style>\n",
       "<table border=\"1\" class=\"dataframe\">\n",
       "  <thead>\n",
       "    <tr style=\"text-align: right;\">\n",
       "      <th></th>\n",
       "      <th>total_images</th>\n",
       "      <th>last_price</th>\n",
       "      <th>total_area</th>\n",
       "      <th>first_day_exposition</th>\n",
       "      <th>rooms</th>\n",
       "      <th>ceiling_height</th>\n",
       "      <th>floors_total</th>\n",
       "      <th>living_area</th>\n",
       "      <th>floor</th>\n",
       "      <th>is_apartment</th>\n",
       "      <th>...</th>\n",
       "      <th>parks_around3000</th>\n",
       "      <th>parks_nearest</th>\n",
       "      <th>ponds_around3000</th>\n",
       "      <th>ponds_nearest</th>\n",
       "      <th>days_exposition</th>\n",
       "      <th>price_per_sqm</th>\n",
       "      <th>day_week</th>\n",
       "      <th>month</th>\n",
       "      <th>year</th>\n",
       "      <th>floor_flat</th>\n",
       "    </tr>\n",
       "  </thead>\n",
       "  <tbody>\n",
       "    <tr>\n",
       "      <th>0</th>\n",
       "      <td>20</td>\n",
       "      <td>13000000</td>\n",
       "      <td>108.0</td>\n",
       "      <td>2019-03-07</td>\n",
       "      <td>3</td>\n",
       "      <td>2.70</td>\n",
       "      <td>16</td>\n",
       "      <td>51.0</td>\n",
       "      <td>8</td>\n",
       "      <td>False</td>\n",
       "      <td>...</td>\n",
       "      <td>1.0</td>\n",
       "      <td>482.0</td>\n",
       "      <td>2.0</td>\n",
       "      <td>755.0</td>\n",
       "      <td>0</td>\n",
       "      <td>120370.37</td>\n",
       "      <td>3</td>\n",
       "      <td>3</td>\n",
       "      <td>2019</td>\n",
       "      <td>Другой</td>\n",
       "    </tr>\n",
       "    <tr>\n",
       "      <th>1</th>\n",
       "      <td>7</td>\n",
       "      <td>3350000</td>\n",
       "      <td>40.4</td>\n",
       "      <td>2018-12-04</td>\n",
       "      <td>1</td>\n",
       "      <td>2.65</td>\n",
       "      <td>11</td>\n",
       "      <td>18.6</td>\n",
       "      <td>1</td>\n",
       "      <td>False</td>\n",
       "      <td>...</td>\n",
       "      <td>0.0</td>\n",
       "      <td>NaN</td>\n",
       "      <td>0.0</td>\n",
       "      <td>NaN</td>\n",
       "      <td>81</td>\n",
       "      <td>82920.79</td>\n",
       "      <td>1</td>\n",
       "      <td>12</td>\n",
       "      <td>2018</td>\n",
       "      <td>Первый</td>\n",
       "    </tr>\n",
       "    <tr>\n",
       "      <th>2</th>\n",
       "      <td>10</td>\n",
       "      <td>5196000</td>\n",
       "      <td>56.0</td>\n",
       "      <td>2015-08-20</td>\n",
       "      <td>2</td>\n",
       "      <td>2.65</td>\n",
       "      <td>5</td>\n",
       "      <td>34.3</td>\n",
       "      <td>4</td>\n",
       "      <td>False</td>\n",
       "      <td>...</td>\n",
       "      <td>1.0</td>\n",
       "      <td>90.0</td>\n",
       "      <td>2.0</td>\n",
       "      <td>574.0</td>\n",
       "      <td>558</td>\n",
       "      <td>92785.71</td>\n",
       "      <td>3</td>\n",
       "      <td>8</td>\n",
       "      <td>2015</td>\n",
       "      <td>Другой</td>\n",
       "    </tr>\n",
       "    <tr>\n",
       "      <th>3</th>\n",
       "      <td>0</td>\n",
       "      <td>64900000</td>\n",
       "      <td>159.0</td>\n",
       "      <td>2015-07-24</td>\n",
       "      <td>3</td>\n",
       "      <td>2.65</td>\n",
       "      <td>14</td>\n",
       "      <td>45.0</td>\n",
       "      <td>9</td>\n",
       "      <td>False</td>\n",
       "      <td>...</td>\n",
       "      <td>2.0</td>\n",
       "      <td>84.0</td>\n",
       "      <td>3.0</td>\n",
       "      <td>234.0</td>\n",
       "      <td>424</td>\n",
       "      <td>408176.10</td>\n",
       "      <td>4</td>\n",
       "      <td>7</td>\n",
       "      <td>2015</td>\n",
       "      <td>Другой</td>\n",
       "    </tr>\n",
       "    <tr>\n",
       "      <th>4</th>\n",
       "      <td>2</td>\n",
       "      <td>10000000</td>\n",
       "      <td>100.0</td>\n",
       "      <td>2018-06-19</td>\n",
       "      <td>2</td>\n",
       "      <td>3.03</td>\n",
       "      <td>14</td>\n",
       "      <td>32.0</td>\n",
       "      <td>13</td>\n",
       "      <td>False</td>\n",
       "      <td>...</td>\n",
       "      <td>2.0</td>\n",
       "      <td>112.0</td>\n",
       "      <td>1.0</td>\n",
       "      <td>48.0</td>\n",
       "      <td>121</td>\n",
       "      <td>100000.00</td>\n",
       "      <td>1</td>\n",
       "      <td>6</td>\n",
       "      <td>2018</td>\n",
       "      <td>Другой</td>\n",
       "    </tr>\n",
       "  </tbody>\n",
       "</table>\n",
       "<p>5 rows × 27 columns</p>\n",
       "</div>"
      ],
      "text/plain": [
       "   total_images  last_price  total_area first_day_exposition  rooms  \\\n",
       "0            20    13000000       108.0           2019-03-07      3   \n",
       "1             7     3350000        40.4           2018-12-04      1   \n",
       "2            10     5196000        56.0           2015-08-20      2   \n",
       "3             0    64900000       159.0           2015-07-24      3   \n",
       "4             2    10000000       100.0           2018-06-19      2   \n",
       "\n",
       "   ceiling_height  floors_total  living_area  floor  is_apartment  ...  \\\n",
       "0            2.70            16         51.0      8         False  ...   \n",
       "1            2.65            11         18.6      1         False  ...   \n",
       "2            2.65             5         34.3      4         False  ...   \n",
       "3            2.65            14         45.0      9         False  ...   \n",
       "4            3.03            14         32.0     13         False  ...   \n",
       "\n",
       "   parks_around3000  parks_nearest  ponds_around3000  ponds_nearest  \\\n",
       "0               1.0          482.0               2.0          755.0   \n",
       "1               0.0            NaN               0.0            NaN   \n",
       "2               1.0           90.0               2.0          574.0   \n",
       "3               2.0           84.0               3.0          234.0   \n",
       "4               2.0          112.0               1.0           48.0   \n",
       "\n",
       "  days_exposition  price_per_sqm  day_week  month  year  floor_flat  \n",
       "0               0      120370.37         3      3  2019      Другой  \n",
       "1              81       82920.79         1     12  2018      Первый  \n",
       "2             558       92785.71         3      8  2015      Другой  \n",
       "3             424      408176.10         4      7  2015      Другой  \n",
       "4             121      100000.00         1      6  2018      Другой  \n",
       "\n",
       "[5 rows x 27 columns]"
      ]
     },
     "execution_count": 21,
     "metadata": {},
     "output_type": "execute_result"
    }
   ],
   "source": [
    "def floor_flat(row):\n",
    "    x = row['floor']\n",
    "    y = row['floors_total']\n",
    "    if x == 1:\n",
    "        return 'Первый'\n",
    "    if x == y:\n",
    "        return 'Последний'\n",
    "    return 'Другой'\n",
    "df['floor_flat'] = df.apply(floor_flat, axis=1)\n",
    "df.head()"
   ]
  },
  {
   "cell_type": "markdown",
   "metadata": {},
   "source": [
    "**Соотношение жилой и общей площади, а также отношение площади кухни к общей.**"
   ]
  },
  {
   "cell_type": "code",
   "execution_count": 22,
   "metadata": {},
   "outputs": [
    {
     "data": {
      "text/html": [
       "<div>\n",
       "<style scoped>\n",
       "    .dataframe tbody tr th:only-of-type {\n",
       "        vertical-align: middle;\n",
       "    }\n",
       "\n",
       "    .dataframe tbody tr th {\n",
       "        vertical-align: top;\n",
       "    }\n",
       "\n",
       "    .dataframe thead th {\n",
       "        text-align: right;\n",
       "    }\n",
       "</style>\n",
       "<table border=\"1\" class=\"dataframe\">\n",
       "  <thead>\n",
       "    <tr style=\"text-align: right;\">\n",
       "      <th></th>\n",
       "      <th>total_images</th>\n",
       "      <th>last_price</th>\n",
       "      <th>total_area</th>\n",
       "      <th>first_day_exposition</th>\n",
       "      <th>rooms</th>\n",
       "      <th>ceiling_height</th>\n",
       "      <th>floors_total</th>\n",
       "      <th>living_area</th>\n",
       "      <th>floor</th>\n",
       "      <th>is_apartment</th>\n",
       "      <th>...</th>\n",
       "      <th>ponds_around3000</th>\n",
       "      <th>ponds_nearest</th>\n",
       "      <th>days_exposition</th>\n",
       "      <th>price_per_sqm</th>\n",
       "      <th>day_week</th>\n",
       "      <th>month</th>\n",
       "      <th>year</th>\n",
       "      <th>floor_flat</th>\n",
       "      <th>living_area_ratio</th>\n",
       "      <th>kitchen_area_ratio</th>\n",
       "    </tr>\n",
       "  </thead>\n",
       "  <tbody>\n",
       "    <tr>\n",
       "      <th>0</th>\n",
       "      <td>20</td>\n",
       "      <td>13000000</td>\n",
       "      <td>108.0</td>\n",
       "      <td>2019-03-07</td>\n",
       "      <td>3</td>\n",
       "      <td>2.70</td>\n",
       "      <td>16</td>\n",
       "      <td>51.0</td>\n",
       "      <td>8</td>\n",
       "      <td>False</td>\n",
       "      <td>...</td>\n",
       "      <td>2.0</td>\n",
       "      <td>755.0</td>\n",
       "      <td>0</td>\n",
       "      <td>120370.37</td>\n",
       "      <td>3</td>\n",
       "      <td>3</td>\n",
       "      <td>2019</td>\n",
       "      <td>Другой</td>\n",
       "      <td>0.472</td>\n",
       "      <td>0.231</td>\n",
       "    </tr>\n",
       "    <tr>\n",
       "      <th>1</th>\n",
       "      <td>7</td>\n",
       "      <td>3350000</td>\n",
       "      <td>40.4</td>\n",
       "      <td>2018-12-04</td>\n",
       "      <td>1</td>\n",
       "      <td>2.65</td>\n",
       "      <td>11</td>\n",
       "      <td>18.6</td>\n",
       "      <td>1</td>\n",
       "      <td>False</td>\n",
       "      <td>...</td>\n",
       "      <td>0.0</td>\n",
       "      <td>NaN</td>\n",
       "      <td>81</td>\n",
       "      <td>82920.79</td>\n",
       "      <td>1</td>\n",
       "      <td>12</td>\n",
       "      <td>2018</td>\n",
       "      <td>Первый</td>\n",
       "      <td>0.460</td>\n",
       "      <td>0.272</td>\n",
       "    </tr>\n",
       "    <tr>\n",
       "      <th>2</th>\n",
       "      <td>10</td>\n",
       "      <td>5196000</td>\n",
       "      <td>56.0</td>\n",
       "      <td>2015-08-20</td>\n",
       "      <td>2</td>\n",
       "      <td>2.65</td>\n",
       "      <td>5</td>\n",
       "      <td>34.3</td>\n",
       "      <td>4</td>\n",
       "      <td>False</td>\n",
       "      <td>...</td>\n",
       "      <td>2.0</td>\n",
       "      <td>574.0</td>\n",
       "      <td>558</td>\n",
       "      <td>92785.71</td>\n",
       "      <td>3</td>\n",
       "      <td>8</td>\n",
       "      <td>2015</td>\n",
       "      <td>Другой</td>\n",
       "      <td>0.612</td>\n",
       "      <td>0.148</td>\n",
       "    </tr>\n",
       "    <tr>\n",
       "      <th>3</th>\n",
       "      <td>0</td>\n",
       "      <td>64900000</td>\n",
       "      <td>159.0</td>\n",
       "      <td>2015-07-24</td>\n",
       "      <td>3</td>\n",
       "      <td>2.65</td>\n",
       "      <td>14</td>\n",
       "      <td>45.0</td>\n",
       "      <td>9</td>\n",
       "      <td>False</td>\n",
       "      <td>...</td>\n",
       "      <td>3.0</td>\n",
       "      <td>234.0</td>\n",
       "      <td>424</td>\n",
       "      <td>408176.10</td>\n",
       "      <td>4</td>\n",
       "      <td>7</td>\n",
       "      <td>2015</td>\n",
       "      <td>Другой</td>\n",
       "      <td>0.283</td>\n",
       "      <td>0.060</td>\n",
       "    </tr>\n",
       "    <tr>\n",
       "      <th>4</th>\n",
       "      <td>2</td>\n",
       "      <td>10000000</td>\n",
       "      <td>100.0</td>\n",
       "      <td>2018-06-19</td>\n",
       "      <td>2</td>\n",
       "      <td>3.03</td>\n",
       "      <td>14</td>\n",
       "      <td>32.0</td>\n",
       "      <td>13</td>\n",
       "      <td>False</td>\n",
       "      <td>...</td>\n",
       "      <td>1.0</td>\n",
       "      <td>48.0</td>\n",
       "      <td>121</td>\n",
       "      <td>100000.00</td>\n",
       "      <td>1</td>\n",
       "      <td>6</td>\n",
       "      <td>2018</td>\n",
       "      <td>Другой</td>\n",
       "      <td>0.320</td>\n",
       "      <td>0.410</td>\n",
       "    </tr>\n",
       "  </tbody>\n",
       "</table>\n",
       "<p>5 rows × 29 columns</p>\n",
       "</div>"
      ],
      "text/plain": [
       "   total_images  last_price  total_area first_day_exposition  rooms  \\\n",
       "0            20    13000000       108.0           2019-03-07      3   \n",
       "1             7     3350000        40.4           2018-12-04      1   \n",
       "2            10     5196000        56.0           2015-08-20      2   \n",
       "3             0    64900000       159.0           2015-07-24      3   \n",
       "4             2    10000000       100.0           2018-06-19      2   \n",
       "\n",
       "   ceiling_height  floors_total  living_area  floor  is_apartment  ...  \\\n",
       "0            2.70            16         51.0      8         False  ...   \n",
       "1            2.65            11         18.6      1         False  ...   \n",
       "2            2.65             5         34.3      4         False  ...   \n",
       "3            2.65            14         45.0      9         False  ...   \n",
       "4            3.03            14         32.0     13         False  ...   \n",
       "\n",
       "   ponds_around3000  ponds_nearest  days_exposition  price_per_sqm day_week  \\\n",
       "0               2.0          755.0                0      120370.37        3   \n",
       "1               0.0            NaN               81       82920.79        1   \n",
       "2               2.0          574.0              558       92785.71        3   \n",
       "3               3.0          234.0              424      408176.10        4   \n",
       "4               1.0           48.0              121      100000.00        1   \n",
       "\n",
       "   month  year  floor_flat  living_area_ratio  kitchen_area_ratio  \n",
       "0      3  2019      Другой              0.472               0.231  \n",
       "1     12  2018      Первый              0.460               0.272  \n",
       "2      8  2015      Другой              0.612               0.148  \n",
       "3      7  2015      Другой              0.283               0.060  \n",
       "4      6  2018      Другой              0.320               0.410  \n",
       "\n",
       "[5 rows x 29 columns]"
      ]
     },
     "execution_count": 22,
     "metadata": {},
     "output_type": "execute_result"
    }
   ],
   "source": [
    "df['living_area_ratio'] = round(df['living_area'] / df['total_area'], 3) #округлим до 3х знаков после запятой\n",
    "df['kitchen_area_ratio'] = round(df['kitchen_area'] / df['total_area'], 3)\n",
    "df.head()"
   ]
  },
  {
   "cell_type": "markdown",
   "metadata": {},
   "source": [
    "## Исследовательский анализ данных"
   ]
  },
  {
   "cell_type": "markdown",
   "metadata": {},
   "source": [
    "### Изучение площади, цены, числа комнат, высоты потолков."
   ]
  },
  {
   "cell_type": "markdown",
   "metadata": {},
   "source": [
    "**Изучим площадь.**\n",
    "\n",
    "Построим гистограмму и вызовем метод describe() "
   ]
  },
  {
   "cell_type": "code",
   "execution_count": 23,
   "metadata": {},
   "outputs": [
    {
     "data": {
      "text/plain": [
       "<AxesSubplot:ylabel='Frequency'>"
      ]
     },
     "execution_count": 23,
     "metadata": {},
     "output_type": "execute_result"
    },
    {
     "data": {
      "image/png": "[encoded data removed]",
      "text/plain": [
       "<Figure size 432x288 with 1 Axes>"
      ]
     },
     "metadata": {
      "needs_background": "light"
     },
     "output_type": "display_data"
    }
   ],
   "source": [
    "df.plot(y='total_area', kind='hist', grid=True, range=(11,500), bins=3)"
   ]
  },
  {
   "cell_type": "code",
   "execution_count": 24,
   "metadata": {},
   "outputs": [
    {
     "data": {
      "text/plain": [
       "count    23699.000000\n",
       "mean        60.348651\n",
       "std         35.654083\n",
       "min         12.000000\n",
       "25%         40.000000\n",
       "50%         52.000000\n",
       "75%         69.900000\n",
       "max        900.000000\n",
       "Name: total_area, dtype: float64"
      ]
     },
     "execution_count": 24,
     "metadata": {},
     "output_type": "execute_result"
    }
   ],
   "source": [
    "df['total_area'].describe()"
   ]
  },
  {
   "cell_type": "markdown",
   "metadata": {},
   "source": [
    "Площади квартир находтся в диапазоне от 12 м² до 900 м². Слишком большой разброс значений. Избавимся от выбросов, чтобы большие данные не искажали общую картину.\n",
    "\n",
    "Построим диаграмму размаха."
   ]
  },
  {
   "cell_type": "code",
   "execution_count": 25,
   "metadata": {
    "scrolled": true
   },
   "outputs": [
    {
     "data": {
      "image/png": "[encoded data removed]",
      "text/plain": [
       "<Figure size 432x288 with 1 Axes>"
      ]
     },
     "metadata": {
      "needs_background": "light"
     },
     "output_type": "display_data"
    }
   ],
   "source": [
    "df.boxplot(column='total_area')\n",
    "plt.ylim(0, 200)\n",
    "plt.show()"
   ]
  },
  {
   "cell_type": "markdown",
   "metadata": {},
   "source": [
    "Ограничим общую площадь до 120 м² и построим гистограмму по очищенным данным"
   ]
  },
  {
   "cell_type": "code",
   "execution_count": 26,
   "metadata": {},
   "outputs": [
    {
     "data": {
      "text/plain": [
       "<AxesSubplot:ylabel='Frequency'>"
      ]
     },
     "execution_count": 26,
     "metadata": {},
     "output_type": "execute_result"
    },
    {
     "data": {
      "image/png": "[encoded data removed]",
      "text/plain": [
       "<Figure size 432x288 with 1 Axes>"
      ]
     },
     "metadata": {
      "needs_background": "light"
     },
     "output_type": "display_data"
    }
   ],
   "source": [
    "df = df.query('total_area < 120')\n",
    "df.plot(y='total_area', kind='hist', grid=True, range=(11,125), bins=5)"
   ]
  },
  {
   "cell_type": "code",
   "execution_count": 27,
   "metadata": {
    "scrolled": false
   },
   "outputs": [
    {
     "data": {
      "text/plain": [
       "count    22601.000000\n",
       "mean        54.757439\n",
       "std         19.945249\n",
       "min         12.000000\n",
       "25%         39.500000\n",
       "50%         50.400000\n",
       "75%         66.000000\n",
       "max        119.800000\n",
       "Name: total_area, dtype: float64"
      ]
     },
     "execution_count": 27,
     "metadata": {},
     "output_type": "execute_result"
    }
   ],
   "source": [
    "df['total_area'].describe()"
   ]
  },
  {
   "cell_type": "markdown",
   "metadata": {},
   "source": [
    "Медианная площадь квартир 50 м². Больше всего квартир продают в диапазне от 35 м² до 55 м². Меньше всего продают квартиры с площадью выше 105 м²."
   ]
  },
  {
   "cell_type": "markdown",
   "metadata": {},
   "source": [
    "**Изучим цену**"
   ]
  },
  {
   "cell_type": "code",
   "execution_count": 28,
   "metadata": {
    "scrolled": true
   },
   "outputs": [
    {
     "data": {
      "text/plain": [
       "count    22601.000000\n",
       "mean      5369.389819\n",
       "std       3521.553494\n",
       "min         12.190000\n",
       "25%       3381.777000\n",
       "50%       4500.000000\n",
       "75%       6329.970000\n",
       "max      82000.000000\n",
       "Name: last_price, dtype: float64"
      ]
     },
     "execution_count": 28,
     "metadata": {},
     "output_type": "execute_result"
    }
   ],
   "source": [
    "df['last_price'] = df['last_price'] / 1000 #избавимся от экспанента в значениях\n",
    "df['last_price'].describe()"
   ]
  },
  {
   "cell_type": "code",
   "execution_count": 29,
   "metadata": {
    "scrolled": true
   },
   "outputs": [
    {
     "data": {
      "image/png": "[encoded data removed]",
      "text/plain": [
       "<Figure size 432x288 with 1 Axes>"
      ]
     },
     "metadata": {
      "needs_background": "light"
     },
     "output_type": "display_data"
    }
   ],
   "source": [
    "df.boxplot(column='last_price')\n",
    "plt.ylim(0, 20000)\n",
    "plt.show()"
   ]
  },
  {
   "cell_type": "markdown",
   "metadata": {},
   "source": [
    "Ценовой диапазон квартир в Санкт-Петербурге и Лен. области заканчивается 82 млн. рублей. Ограничим выборку, избавимся от слишком маленьких и от очень больших значений , которые сильно искажают картину."
   ]
  },
  {
   "cell_type": "code",
   "execution_count": 30,
   "metadata": {},
   "outputs": [
    {
     "data": {
      "text/plain": [
       "count    22122.000000\n",
       "mean      5053.406976\n",
       "std       2566.038519\n",
       "min        520.000000\n",
       "25%       3350.000000\n",
       "50%       4500.000000\n",
       "75%       6200.000000\n",
       "max      14999.000000\n",
       "Name: last_price, dtype: float64"
      ]
     },
     "execution_count": 30,
     "metadata": {},
     "output_type": "execute_result"
    }
   ],
   "source": [
    "df = df.query('last_price > 500 and last_price < 15000')\n",
    "df['last_price'].describe()"
   ]
  },
  {
   "cell_type": "code",
   "execution_count": 31,
   "metadata": {},
   "outputs": [
    {
     "data": {
      "text/plain": [
       "<AxesSubplot:ylabel='Frequency'>"
      ]
     },
     "execution_count": 31,
     "metadata": {},
     "output_type": "execute_result"
    },
    {
     "data": {
      "image/png": "[encoded data removed]",
      "text/plain": [
       "<Figure size 432x288 with 1 Axes>"
      ]
     },
     "metadata": {
      "needs_background": "light"
     },
     "output_type": "display_data"
    }
   ],
   "source": [
    "df.plot(y='last_price', kind='hist', grid=True, range=(0,15000) ,bins=15)"
   ]
  },
  {
   "cell_type": "markdown",
   "metadata": {},
   "source": [
    "Медианное значение цены 4,4 млн. рублей. Наибольше всего квартир продают в диапазоне от 3 до 5 млн. рублей."
   ]
  },
  {
   "cell_type": "markdown",
   "metadata": {},
   "source": [
    "**Изучим число комнат**"
   ]
  },
  {
   "cell_type": "code",
   "execution_count": 32,
   "metadata": {},
   "outputs": [
    {
     "data": {
      "text/plain": [
       "count    22122.000000\n",
       "mean         1.944128\n",
       "std          0.905182\n",
       "min          0.000000\n",
       "25%          1.000000\n",
       "50%          2.000000\n",
       "75%          3.000000\n",
       "max          7.000000\n",
       "Name: rooms, dtype: float64"
      ]
     },
     "execution_count": 32,
     "metadata": {},
     "output_type": "execute_result"
    }
   ],
   "source": [
    "df['rooms'].describe()"
   ]
  },
  {
   "cell_type": "code",
   "execution_count": 33,
   "metadata": {},
   "outputs": [
    {
     "data": {
      "text/plain": [
       "<AxesSubplot:ylabel='Frequency'>"
      ]
     },
     "execution_count": 33,
     "metadata": {},
     "output_type": "execute_result"
    },
    {
     "data": {
      "image/png": "[encoded data removed]",
      "text/plain": [
       "<Figure size 432x288 with 1 Axes>"
      ]
     },
     "metadata": {
      "needs_background": "light"
     },
     "output_type": "display_data"
    }
   ],
   "source": [
    "df.plot(y='rooms', kind='hist', grid=True, range=(0,5) ,bins=15)"
   ]
  },
  {
   "cell_type": "markdown",
   "metadata": {},
   "source": [
    "Больше всего продают однокомнатные и двухкомнатные квартиры, чуть реже трехкомнатные. Меньше всего продают студии и квартиры больше 5 комнат. "
   ]
  },
  {
   "cell_type": "markdown",
   "metadata": {},
   "source": [
    "**Изучим высоту потолков**"
   ]
  },
  {
   "cell_type": "code",
   "execution_count": 34,
   "metadata": {},
   "outputs": [
    {
     "data": {
      "text/plain": [
       "count    22122.000000\n",
       "mean         2.701722\n",
       "std          0.776052\n",
       "min          1.000000\n",
       "25%          2.600000\n",
       "50%          2.650000\n",
       "75%          2.700000\n",
       "max         32.000000\n",
       "Name: ceiling_height, dtype: float64"
      ]
     },
     "execution_count": 34,
     "metadata": {},
     "output_type": "execute_result"
    }
   ],
   "source": [
    "df['ceiling_height'].describe()"
   ]
  },
  {
   "cell_type": "code",
   "execution_count": 35,
   "metadata": {
    "scrolled": true
   },
   "outputs": [
    {
     "data": {
      "image/png": "[encoded data removed]",
      "text/plain": [
       "<Figure size 432x288 with 1 Axes>"
      ]
     },
     "metadata": {
      "needs_background": "light"
     },
     "output_type": "display_data"
    }
   ],
   "source": [
    "df.boxplot(column='ceiling_height')\n",
    "plt.ylim(1, 5)\n",
    "plt.show()"
   ]
  },
  {
   "cell_type": "markdown",
   "metadata": {},
   "source": [
    "Избавимся от выбросов."
   ]
  },
  {
   "cell_type": "code",
   "execution_count": 36,
   "metadata": {},
   "outputs": [
    {
     "data": {
      "text/plain": [
       "count    22028.000000\n",
       "mean         2.673955\n",
       "std          0.172044\n",
       "min          2.340000\n",
       "25%          2.600000\n",
       "50%          2.650000\n",
       "75%          2.700000\n",
       "max          3.980000\n",
       "Name: ceiling_height, dtype: float64"
      ]
     },
     "execution_count": 36,
     "metadata": {},
     "output_type": "execute_result"
    }
   ],
   "source": [
    "df = df.query('ceiling_height > 2.3 and ceiling_height < 4')\n",
    "df['ceiling_height'].describe()"
   ]
  },
  {
   "cell_type": "code",
   "execution_count": 37,
   "metadata": {
    "scrolled": true
   },
   "outputs": [
    {
     "data": {
      "text/plain": [
       "<AxesSubplot:ylabel='Frequency'>"
      ]
     },
     "execution_count": 37,
     "metadata": {},
     "output_type": "execute_result"
    },
    {
     "data": {
      "image/png": "[encoded data removed]",
      "text/plain": [
       "<Figure size 432x288 with 1 Axes>"
      ]
     },
     "metadata": {
      "needs_background": "light"
     },
     "output_type": "display_data"
    }
   ],
   "source": [
    "df.plot(y='ceiling_height', kind='hist', grid=True, range=(2,4) ,bins=8)"
   ]
  },
  {
   "cell_type": "markdown",
   "metadata": {},
   "source": [
    "Медианное значение высоты потолков 2.65м"
   ]
  },
  {
   "cell_type": "markdown",
   "metadata": {},
   "source": [
    "### Изучение время продажи квартиры"
   ]
  },
  {
   "cell_type": "code",
   "execution_count": 38,
   "metadata": {
    "scrolled": true
   },
   "outputs": [
    {
     "data": {
      "text/plain": [
       "count    22028.000000\n",
       "mean       152.566915\n",
       "std        206.935635\n",
       "min          0.000000\n",
       "25%         24.000000\n",
       "50%         72.000000\n",
       "75%        193.000000\n",
       "max       1580.000000\n",
       "Name: days_exposition, dtype: float64"
      ]
     },
     "execution_count": 38,
     "metadata": {},
     "output_type": "execute_result"
    }
   ],
   "source": [
    "df['days_exposition'].describe()"
   ]
  },
  {
   "cell_type": "markdown",
   "metadata": {},
   "source": [
    "Среднее время продажи квартры 174 дня, медианное значение 72 дня. Самое долгое объявление висло 1580 дней(больше 4 лет)"
   ]
  },
  {
   "cell_type": "code",
   "execution_count": 39,
   "metadata": {},
   "outputs": [
    {
     "data": {
      "image/png": "[encoded data removed]",
      "text/plain": [
       "<Figure size 432x288 with 1 Axes>"
      ]
     },
     "metadata": {
      "needs_background": "light"
     },
     "output_type": "display_data"
    }
   ],
   "source": [
    "df.boxplot(column='days_exposition')\n",
    "plt.ylim(0, 800)\n",
    "plt.show()"
   ]
  },
  {
   "cell_type": "code",
   "execution_count": 40,
   "metadata": {
    "scrolled": true
   },
   "outputs": [
    {
     "data": {
      "text/plain": [
       "<AxesSubplot:ylabel='Frequency'>"
      ]
     },
     "execution_count": 40,
     "metadata": {},
     "output_type": "execute_result"
    },
    {
     "data": {
      "image/png": "[encoded data removed]",
      "text/plain": [
       "<Figure size 432x288 with 1 Axes>"
      ]
     },
     "metadata": {
      "needs_background": "light"
     },
     "output_type": "display_data"
    }
   ],
   "source": [
    "df.plot(y='days_exposition', kind='hist', grid=True, range=(0,800) ,bins=100)"
   ]
  },
  {
   "cell_type": "markdown",
   "metadata": {},
   "source": [
    "На гистограмме видны несколько пиков, посмотрим поближе"
   ]
  },
  {
   "cell_type": "code",
   "execution_count": 41,
   "metadata": {
    "scrolled": true
   },
   "outputs": [
    {
     "data": {
      "text/plain": [
       "<AxesSubplot:ylabel='Frequency'>"
      ]
     },
     "execution_count": 41,
     "metadata": {},
     "output_type": "execute_result"
    },
    {
     "data": {
      "image/png": "[encoded data removed]",
      "text/plain": [
       "<Figure size 432x288 with 1 Axes>"
      ]
     },
     "metadata": {
      "needs_background": "light"
     },
     "output_type": "display_data"
    }
   ],
   "source": [
    "df.plot(y='days_exposition', kind='hist', grid=True, range=(0,150) ,bins=90)"
   ]
  },
  {
   "cell_type": "code",
   "execution_count": 42,
   "metadata": {},
   "outputs": [
    {
     "data": {
      "text/plain": [
       "0       2735\n",
       "45       871\n",
       "60       532\n",
       "7        229\n",
       "30       198\n",
       "        ... \n",
       "1112       1\n",
       "1064       1\n",
       "1032       1\n",
       "1016       1\n",
       "1375       1\n",
       "Name: days_exposition, Length: 1102, dtype: int64"
      ]
     },
     "execution_count": 42,
     "metadata": {},
     "output_type": "execute_result"
    }
   ],
   "source": [
    "df['days_exposition'].value_counts()"
   ]
  },
  {
   "cell_type": "markdown",
   "metadata": {},
   "source": [
    "0 значит, что объявление еще висит на продаже, 45 и 60 анамально высокие значения. Это наиболее популярные количества дней для снятия объявлений. Необходимо уточнить у коллег, откуда могли взяться такие выбросы."
   ]
  },
  {
   "cell_type": "markdown",
   "metadata": {},
   "source": [
    "Исследуя гистограмму и диаграмму размаха можно сказать, что быстрой продажей считается продажа в 1 день, а слишком долгой(если не брать во внимание выбросы) 425 дней. "
   ]
  },
  {
   "cell_type": "markdown",
   "metadata": {},
   "source": [
    "### Избавление от редких и выбивающихся значений"
   ]
  },
  {
   "cell_type": "markdown",
   "metadata": {},
   "source": [
    "Избавимся от двух самых больших пиков в столбце `days_exposition` значения 45 и 60 дней, а также уберем квартиры, которые еще висят на продаже."
   ]
  },
  {
   "cell_type": "code",
   "execution_count": 43,
   "metadata": {},
   "outputs": [
    {
     "data": {
      "text/plain": [
       "7       229\n",
       "30      198\n",
       "4       169\n",
       "3       155\n",
       "90      145\n",
       "       ... \n",
       "1112      1\n",
       "1064      1\n",
       "1032      1\n",
       "1016      1\n",
       "1375      1\n",
       "Name: days_exposition, Length: 1099, dtype: int64"
      ]
     },
     "execution_count": 43,
     "metadata": {},
     "output_type": "execute_result"
    }
   ],
   "source": [
    "df = df.query('days_exposition != 60 and days_exposition != 45 and days_exposition != 0') \n",
    "df['days_exposition'].value_counts()"
   ]
  },
  {
   "cell_type": "code",
   "execution_count": 44,
   "metadata": {
    "scrolled": true
   },
   "outputs": [
    {
     "data": {
      "text/plain": [
       "<AxesSubplot:ylabel='Frequency'>"
      ]
     },
     "execution_count": 44,
     "metadata": {},
     "output_type": "execute_result"
    },
    {
     "data": {
      "image/png": "[encoded data removed]",
      "text/plain": [
       "<Figure size 432x288 with 1 Axes>"
      ]
     },
     "metadata": {
      "needs_background": "light"
     },
     "output_type": "display_data"
    }
   ],
   "source": [
    "df.plot(y='days_exposition', kind='hist', grid=True, range=(0,700) ,bins=90)"
   ]
  },
  {
   "cell_type": "markdown",
   "metadata": {},
   "source": [
    "Посмотрим описание изначального датасета:"
   ]
  },
  {
   "cell_type": "code",
   "execution_count": 45,
   "metadata": {
    "scrolled": true
   },
   "outputs": [
    {
     "data": {
      "text/html": [
       "<div>\n",
       "<style scoped>\n",
       "    .dataframe tbody tr th:only-of-type {\n",
       "        vertical-align: middle;\n",
       "    }\n",
       "\n",
       "    .dataframe tbody tr th {\n",
       "        vertical-align: top;\n",
       "    }\n",
       "\n",
       "    .dataframe thead th {\n",
       "        text-align: right;\n",
       "    }\n",
       "</style>\n",
       "<table border=\"1\" class=\"dataframe\">\n",
       "  <thead>\n",
       "    <tr style=\"text-align: right;\">\n",
       "      <th></th>\n",
       "      <th>total_images</th>\n",
       "      <th>last_price</th>\n",
       "      <th>total_area</th>\n",
       "      <th>rooms</th>\n",
       "      <th>ceiling_height</th>\n",
       "      <th>floors_total</th>\n",
       "      <th>living_area</th>\n",
       "      <th>floor</th>\n",
       "      <th>kitchen_area</th>\n",
       "      <th>balcony</th>\n",
       "      <th>airports_nearest</th>\n",
       "      <th>cityCenters_nearest</th>\n",
       "      <th>parks_around3000</th>\n",
       "      <th>parks_nearest</th>\n",
       "      <th>ponds_around3000</th>\n",
       "      <th>ponds_nearest</th>\n",
       "      <th>days_exposition</th>\n",
       "    </tr>\n",
       "  </thead>\n",
       "  <tbody>\n",
       "    <tr>\n",
       "      <th>count</th>\n",
       "      <td>23699.000000</td>\n",
       "      <td>2.369900e+04</td>\n",
       "      <td>23699.000000</td>\n",
       "      <td>23699.000000</td>\n",
       "      <td>14504.000000</td>\n",
       "      <td>23613.000000</td>\n",
       "      <td>21796.000000</td>\n",
       "      <td>23699.000000</td>\n",
       "      <td>21421.000000</td>\n",
       "      <td>12180.000000</td>\n",
       "      <td>18157.000000</td>\n",
       "      <td>18180.000000</td>\n",
       "      <td>18181.000000</td>\n",
       "      <td>8079.000000</td>\n",
       "      <td>18181.000000</td>\n",
       "      <td>9110.000000</td>\n",
       "      <td>20518.000000</td>\n",
       "    </tr>\n",
       "    <tr>\n",
       "      <th>mean</th>\n",
       "      <td>9.858475</td>\n",
       "      <td>6.541549e+06</td>\n",
       "      <td>60.348651</td>\n",
       "      <td>2.070636</td>\n",
       "      <td>2.771499</td>\n",
       "      <td>10.673824</td>\n",
       "      <td>34.457852</td>\n",
       "      <td>5.892358</td>\n",
       "      <td>10.569807</td>\n",
       "      <td>1.150082</td>\n",
       "      <td>28793.672193</td>\n",
       "      <td>14191.277833</td>\n",
       "      <td>0.611408</td>\n",
       "      <td>490.804555</td>\n",
       "      <td>0.770255</td>\n",
       "      <td>517.980900</td>\n",
       "      <td>180.888634</td>\n",
       "    </tr>\n",
       "    <tr>\n",
       "      <th>std</th>\n",
       "      <td>5.682529</td>\n",
       "      <td>1.088701e+07</td>\n",
       "      <td>35.654083</td>\n",
       "      <td>1.078405</td>\n",
       "      <td>1.261056</td>\n",
       "      <td>6.597173</td>\n",
       "      <td>22.030445</td>\n",
       "      <td>4.885249</td>\n",
       "      <td>5.905438</td>\n",
       "      <td>1.071300</td>\n",
       "      <td>12630.880622</td>\n",
       "      <td>8608.386210</td>\n",
       "      <td>0.802074</td>\n",
       "      <td>342.317995</td>\n",
       "      <td>0.938346</td>\n",
       "      <td>277.720643</td>\n",
       "      <td>219.727988</td>\n",
       "    </tr>\n",
       "    <tr>\n",
       "      <th>min</th>\n",
       "      <td>0.000000</td>\n",
       "      <td>1.219000e+04</td>\n",
       "      <td>12.000000</td>\n",
       "      <td>0.000000</td>\n",
       "      <td>1.000000</td>\n",
       "      <td>1.000000</td>\n",
       "      <td>2.000000</td>\n",
       "      <td>1.000000</td>\n",
       "      <td>1.300000</td>\n",
       "      <td>0.000000</td>\n",
       "      <td>0.000000</td>\n",
       "      <td>181.000000</td>\n",
       "      <td>0.000000</td>\n",
       "      <td>1.000000</td>\n",
       "      <td>0.000000</td>\n",
       "      <td>13.000000</td>\n",
       "      <td>1.000000</td>\n",
       "    </tr>\n",
       "    <tr>\n",
       "      <th>25%</th>\n",
       "      <td>6.000000</td>\n",
       "      <td>3.400000e+06</td>\n",
       "      <td>40.000000</td>\n",
       "      <td>1.000000</td>\n",
       "      <td>2.520000</td>\n",
       "      <td>5.000000</td>\n",
       "      <td>18.600000</td>\n",
       "      <td>2.000000</td>\n",
       "      <td>7.000000</td>\n",
       "      <td>0.000000</td>\n",
       "      <td>18585.000000</td>\n",
       "      <td>9238.000000</td>\n",
       "      <td>0.000000</td>\n",
       "      <td>288.000000</td>\n",
       "      <td>0.000000</td>\n",
       "      <td>294.000000</td>\n",
       "      <td>45.000000</td>\n",
       "    </tr>\n",
       "    <tr>\n",
       "      <th>50%</th>\n",
       "      <td>9.000000</td>\n",
       "      <td>4.650000e+06</td>\n",
       "      <td>52.000000</td>\n",
       "      <td>2.000000</td>\n",
       "      <td>2.650000</td>\n",
       "      <td>9.000000</td>\n",
       "      <td>30.000000</td>\n",
       "      <td>4.000000</td>\n",
       "      <td>9.100000</td>\n",
       "      <td>1.000000</td>\n",
       "      <td>26726.000000</td>\n",
       "      <td>13098.500000</td>\n",
       "      <td>0.000000</td>\n",
       "      <td>455.000000</td>\n",
       "      <td>1.000000</td>\n",
       "      <td>502.000000</td>\n",
       "      <td>95.000000</td>\n",
       "    </tr>\n",
       "    <tr>\n",
       "      <th>75%</th>\n",
       "      <td>14.000000</td>\n",
       "      <td>6.800000e+06</td>\n",
       "      <td>69.900000</td>\n",
       "      <td>3.000000</td>\n",
       "      <td>2.800000</td>\n",
       "      <td>16.000000</td>\n",
       "      <td>42.300000</td>\n",
       "      <td>8.000000</td>\n",
       "      <td>12.000000</td>\n",
       "      <td>2.000000</td>\n",
       "      <td>37273.000000</td>\n",
       "      <td>16293.000000</td>\n",
       "      <td>1.000000</td>\n",
       "      <td>612.000000</td>\n",
       "      <td>1.000000</td>\n",
       "      <td>729.000000</td>\n",
       "      <td>232.000000</td>\n",
       "    </tr>\n",
       "    <tr>\n",
       "      <th>max</th>\n",
       "      <td>50.000000</td>\n",
       "      <td>7.630000e+08</td>\n",
       "      <td>900.000000</td>\n",
       "      <td>19.000000</td>\n",
       "      <td>100.000000</td>\n",
       "      <td>60.000000</td>\n",
       "      <td>409.700000</td>\n",
       "      <td>33.000000</td>\n",
       "      <td>112.000000</td>\n",
       "      <td>5.000000</td>\n",
       "      <td>84869.000000</td>\n",
       "      <td>65968.000000</td>\n",
       "      <td>3.000000</td>\n",
       "      <td>3190.000000</td>\n",
       "      <td>3.000000</td>\n",
       "      <td>1344.000000</td>\n",
       "      <td>1580.000000</td>\n",
       "    </tr>\n",
       "  </tbody>\n",
       "</table>\n",
       "</div>"
      ],
      "text/plain": [
       "       total_images    last_price    total_area         rooms  ceiling_height  \\\n",
       "count  23699.000000  2.369900e+04  23699.000000  23699.000000    14504.000000   \n",
       "mean       9.858475  6.541549e+06     60.348651      2.070636        2.771499   \n",
       "std        5.682529  1.088701e+07     35.654083      1.078405        1.261056   \n",
       "min        0.000000  1.219000e+04     12.000000      0.000000        1.000000   \n",
       "25%        6.000000  3.400000e+06     40.000000      1.000000        2.520000   \n",
       "50%        9.000000  4.650000e+06     52.000000      2.000000        2.650000   \n",
       "75%       14.000000  6.800000e+06     69.900000      3.000000        2.800000   \n",
       "max       50.000000  7.630000e+08    900.000000     19.000000      100.000000   \n",
       "\n",
       "       floors_total   living_area         floor  kitchen_area       balcony  \\\n",
       "count  23613.000000  21796.000000  23699.000000  21421.000000  12180.000000   \n",
       "mean      10.673824     34.457852      5.892358     10.569807      1.150082   \n",
       "std        6.597173     22.030445      4.885249      5.905438      1.071300   \n",
       "min        1.000000      2.000000      1.000000      1.300000      0.000000   \n",
       "25%        5.000000     18.600000      2.000000      7.000000      0.000000   \n",
       "50%        9.000000     30.000000      4.000000      9.100000      1.000000   \n",
       "75%       16.000000     42.300000      8.000000     12.000000      2.000000   \n",
       "max       60.000000    409.700000     33.000000    112.000000      5.000000   \n",
       "\n",
       "       airports_nearest  cityCenters_nearest  parks_around3000  parks_nearest  \\\n",
       "count      18157.000000         18180.000000      18181.000000    8079.000000   \n",
       "mean       28793.672193         14191.277833          0.611408     490.804555   \n",
       "std        12630.880622          8608.386210          0.802074     342.317995   \n",
       "min            0.000000           181.000000          0.000000       1.000000   \n",
       "25%        18585.000000          9238.000000          0.000000     288.000000   \n",
       "50%        26726.000000         13098.500000          0.000000     455.000000   \n",
       "75%        37273.000000         16293.000000          1.000000     612.000000   \n",
       "max        84869.000000         65968.000000          3.000000    3190.000000   \n",
       "\n",
       "       ponds_around3000  ponds_nearest  days_exposition  \n",
       "count      18181.000000    9110.000000     20518.000000  \n",
       "mean           0.770255     517.980900       180.888634  \n",
       "std            0.938346     277.720643       219.727988  \n",
       "min            0.000000      13.000000         1.000000  \n",
       "25%            0.000000     294.000000        45.000000  \n",
       "50%            1.000000     502.000000        95.000000  \n",
       "75%            1.000000     729.000000       232.000000  \n",
       "max            3.000000    1344.000000      1580.000000  "
      ]
     },
     "execution_count": 45,
     "metadata": {},
     "output_type": "execute_result"
    }
   ],
   "source": [
    "df_description"
   ]
  },
  {
   "cell_type": "markdown",
   "metadata": {},
   "source": [
    "Посмотрим характеристики отфильтрованного датасета:"
   ]
  },
  {
   "cell_type": "code",
   "execution_count": 46,
   "metadata": {
    "scrolled": true
   },
   "outputs": [
    {
     "data": {
      "text/html": [
       "<div>\n",
       "<style scoped>\n",
       "    .dataframe tbody tr th:only-of-type {\n",
       "        vertical-align: middle;\n",
       "    }\n",
       "\n",
       "    .dataframe tbody tr th {\n",
       "        vertical-align: top;\n",
       "    }\n",
       "\n",
       "    .dataframe thead th {\n",
       "        text-align: right;\n",
       "    }\n",
       "</style>\n",
       "<table border=\"1\" class=\"dataframe\">\n",
       "  <thead>\n",
       "    <tr style=\"text-align: right;\">\n",
       "      <th></th>\n",
       "      <th>total_images</th>\n",
       "      <th>last_price</th>\n",
       "      <th>total_area</th>\n",
       "      <th>rooms</th>\n",
       "      <th>ceiling_height</th>\n",
       "      <th>floors_total</th>\n",
       "      <th>living_area</th>\n",
       "      <th>floor</th>\n",
       "      <th>kitchen_area</th>\n",
       "      <th>balcony</th>\n",
       "      <th>...</th>\n",
       "      <th>parks_nearest</th>\n",
       "      <th>ponds_around3000</th>\n",
       "      <th>ponds_nearest</th>\n",
       "      <th>days_exposition</th>\n",
       "      <th>price_per_sqm</th>\n",
       "      <th>day_week</th>\n",
       "      <th>month</th>\n",
       "      <th>year</th>\n",
       "      <th>living_area_ratio</th>\n",
       "      <th>kitchen_area_ratio</th>\n",
       "    </tr>\n",
       "  </thead>\n",
       "  <tbody>\n",
       "    <tr>\n",
       "      <th>count</th>\n",
       "      <td>17890.000000</td>\n",
       "      <td>17890.000000</td>\n",
       "      <td>17890.000000</td>\n",
       "      <td>17890.000000</td>\n",
       "      <td>17890.000000</td>\n",
       "      <td>17890.000000</td>\n",
       "      <td>17890.000000</td>\n",
       "      <td>17890.000000</td>\n",
       "      <td>17890.000000</td>\n",
       "      <td>17890.000000</td>\n",
       "      <td>...</td>\n",
       "      <td>5804.000000</td>\n",
       "      <td>13822.000000</td>\n",
       "      <td>6674.000000</td>\n",
       "      <td>17890.000000</td>\n",
       "      <td>17890.000000</td>\n",
       "      <td>17890.000000</td>\n",
       "      <td>17890.000000</td>\n",
       "      <td>17890.000000</td>\n",
       "      <td>17890.000000</td>\n",
       "      <td>17890.000000</td>\n",
       "    </tr>\n",
       "    <tr>\n",
       "      <th>mean</th>\n",
       "      <td>9.632309</td>\n",
       "      <td>5020.034193</td>\n",
       "      <td>53.479062</td>\n",
       "      <td>1.921073</td>\n",
       "      <td>2.673323</td>\n",
       "      <td>10.982560</td>\n",
       "      <td>30.490970</td>\n",
       "      <td>6.012353</td>\n",
       "      <td>9.630537</td>\n",
       "      <td>0.597932</td>\n",
       "      <td>...</td>\n",
       "      <td>490.955376</td>\n",
       "      <td>0.719216</td>\n",
       "      <td>528.596794</td>\n",
       "      <td>183.880883</td>\n",
       "      <td>93860.981596</td>\n",
       "      <td>2.579262</td>\n",
       "      <td>6.608944</td>\n",
       "      <td>2017.208217</td>\n",
       "      <td>0.562580</td>\n",
       "      <td>0.190575</td>\n",
       "    </tr>\n",
       "    <tr>\n",
       "      <th>std</th>\n",
       "      <td>5.539300</td>\n",
       "      <td>2507.865928</td>\n",
       "      <td>19.049168</td>\n",
       "      <td>0.900884</td>\n",
       "      <td>0.168368</td>\n",
       "      <td>6.653598</td>\n",
       "      <td>13.388456</td>\n",
       "      <td>4.953325</td>\n",
       "      <td>3.970129</td>\n",
       "      <td>0.941966</td>\n",
       "      <td>...</td>\n",
       "      <td>335.534567</td>\n",
       "      <td>0.901457</td>\n",
       "      <td>276.492902</td>\n",
       "      <td>217.647223</td>\n",
       "      <td>29750.388105</td>\n",
       "      <td>1.780763</td>\n",
       "      <td>3.466410</td>\n",
       "      <td>0.968317</td>\n",
       "      <td>0.107992</td>\n",
       "      <td>0.074555</td>\n",
       "    </tr>\n",
       "    <tr>\n",
       "      <th>min</th>\n",
       "      <td>0.000000</td>\n",
       "      <td>520.000000</td>\n",
       "      <td>12.000000</td>\n",
       "      <td>0.000000</td>\n",
       "      <td>2.400000</td>\n",
       "      <td>1.000000</td>\n",
       "      <td>2.000000</td>\n",
       "      <td>1.000000</td>\n",
       "      <td>0.000000</td>\n",
       "      <td>0.000000</td>\n",
       "      <td>...</td>\n",
       "      <td>1.000000</td>\n",
       "      <td>0.000000</td>\n",
       "      <td>13.000000</td>\n",
       "      <td>1.000000</td>\n",
       "      <td>10185.190000</td>\n",
       "      <td>0.000000</td>\n",
       "      <td>1.000000</td>\n",
       "      <td>2014.000000</td>\n",
       "      <td>0.038000</td>\n",
       "      <td>0.000000</td>\n",
       "    </tr>\n",
       "    <tr>\n",
       "      <th>25%</th>\n",
       "      <td>6.000000</td>\n",
       "      <td>3360.000000</td>\n",
       "      <td>39.000000</td>\n",
       "      <td>1.000000</td>\n",
       "      <td>2.600000</td>\n",
       "      <td>5.000000</td>\n",
       "      <td>18.000000</td>\n",
       "      <td>2.000000</td>\n",
       "      <td>7.000000</td>\n",
       "      <td>0.000000</td>\n",
       "      <td>...</td>\n",
       "      <td>288.000000</td>\n",
       "      <td>0.000000</td>\n",
       "      <td>314.000000</td>\n",
       "      <td>40.000000</td>\n",
       "      <td>76485.822500</td>\n",
       "      <td>1.000000</td>\n",
       "      <td>3.000000</td>\n",
       "      <td>2017.000000</td>\n",
       "      <td>0.490000</td>\n",
       "      <td>0.137000</td>\n",
       "    </tr>\n",
       "    <tr>\n",
       "      <th>50%</th>\n",
       "      <td>9.000000</td>\n",
       "      <td>4440.000000</td>\n",
       "      <td>49.000000</td>\n",
       "      <td>2.000000</td>\n",
       "      <td>2.650000</td>\n",
       "      <td>9.000000</td>\n",
       "      <td>29.300000</td>\n",
       "      <td>4.000000</td>\n",
       "      <td>9.000000</td>\n",
       "      <td>0.000000</td>\n",
       "      <td>...</td>\n",
       "      <td>456.000000</td>\n",
       "      <td>0.000000</td>\n",
       "      <td>516.000000</td>\n",
       "      <td>104.000000</td>\n",
       "      <td>93395.915000</td>\n",
       "      <td>3.000000</td>\n",
       "      <td>7.000000</td>\n",
       "      <td>2017.000000</td>\n",
       "      <td>0.564000</td>\n",
       "      <td>0.177000</td>\n",
       "    </tr>\n",
       "    <tr>\n",
       "      <th>75%</th>\n",
       "      <td>13.000000</td>\n",
       "      <td>6050.893250</td>\n",
       "      <td>64.100000</td>\n",
       "      <td>3.000000</td>\n",
       "      <td>2.700000</td>\n",
       "      <td>16.000000</td>\n",
       "      <td>39.400000</td>\n",
       "      <td>8.000000</td>\n",
       "      <td>11.000000</td>\n",
       "      <td>1.000000</td>\n",
       "      <td>...</td>\n",
       "      <td>616.000000</td>\n",
       "      <td>1.000000</td>\n",
       "      <td>737.000000</td>\n",
       "      <td>238.000000</td>\n",
       "      <td>110198.192500</td>\n",
       "      <td>4.000000</td>\n",
       "      <td>10.000000</td>\n",
       "      <td>2018.000000</td>\n",
       "      <td>0.635000</td>\n",
       "      <td>0.236000</td>\n",
       "    </tr>\n",
       "    <tr>\n",
       "      <th>max</th>\n",
       "      <td>50.000000</td>\n",
       "      <td>14998.000000</td>\n",
       "      <td>119.600000</td>\n",
       "      <td>7.000000</td>\n",
       "      <td>3.980000</td>\n",
       "      <td>60.000000</td>\n",
       "      <td>145.000000</td>\n",
       "      <td>33.000000</td>\n",
       "      <td>64.000000</td>\n",
       "      <td>5.000000</td>\n",
       "      <td>...</td>\n",
       "      <td>3190.000000</td>\n",
       "      <td>3.000000</td>\n",
       "      <td>1344.000000</td>\n",
       "      <td>1580.000000</td>\n",
       "      <td>387096.770000</td>\n",
       "      <td>6.000000</td>\n",
       "      <td>12.000000</td>\n",
       "      <td>2019.000000</td>\n",
       "      <td>1.514000</td>\n",
       "      <td>0.788000</td>\n",
       "    </tr>\n",
       "  </tbody>\n",
       "</table>\n",
       "<p>8 rows × 23 columns</p>\n",
       "</div>"
      ],
      "text/plain": [
       "       total_images    last_price    total_area         rooms  ceiling_height  \\\n",
       "count  17890.000000  17890.000000  17890.000000  17890.000000    17890.000000   \n",
       "mean       9.632309   5020.034193     53.479062      1.921073        2.673323   \n",
       "std        5.539300   2507.865928     19.049168      0.900884        0.168368   \n",
       "min        0.000000    520.000000     12.000000      0.000000        2.400000   \n",
       "25%        6.000000   3360.000000     39.000000      1.000000        2.600000   \n",
       "50%        9.000000   4440.000000     49.000000      2.000000        2.650000   \n",
       "75%       13.000000   6050.893250     64.100000      3.000000        2.700000   \n",
       "max       50.000000  14998.000000    119.600000      7.000000        3.980000   \n",
       "\n",
       "       floors_total   living_area         floor  kitchen_area       balcony  \\\n",
       "count  17890.000000  17890.000000  17890.000000  17890.000000  17890.000000   \n",
       "mean      10.982560     30.490970      6.012353      9.630537      0.597932   \n",
       "std        6.653598     13.388456      4.953325      3.970129      0.941966   \n",
       "min        1.000000      2.000000      1.000000      0.000000      0.000000   \n",
       "25%        5.000000     18.000000      2.000000      7.000000      0.000000   \n",
       "50%        9.000000     29.300000      4.000000      9.000000      0.000000   \n",
       "75%       16.000000     39.400000      8.000000     11.000000      1.000000   \n",
       "max       60.000000    145.000000     33.000000     64.000000      5.000000   \n",
       "\n",
       "       ...  parks_nearest  ponds_around3000  ponds_nearest  days_exposition  \\\n",
       "count  ...    5804.000000      13822.000000    6674.000000     17890.000000   \n",
       "mean   ...     490.955376          0.719216     528.596794       183.880883   \n",
       "std    ...     335.534567          0.901457     276.492902       217.647223   \n",
       "min    ...       1.000000          0.000000      13.000000         1.000000   \n",
       "25%    ...     288.000000          0.000000     314.000000        40.000000   \n",
       "50%    ...     456.000000          0.000000     516.000000       104.000000   \n",
       "75%    ...     616.000000          1.000000     737.000000       238.000000   \n",
       "max    ...    3190.000000          3.000000    1344.000000      1580.000000   \n",
       "\n",
       "       price_per_sqm      day_week         month          year  \\\n",
       "count   17890.000000  17890.000000  17890.000000  17890.000000   \n",
       "mean    93860.981596      2.579262      6.608944   2017.208217   \n",
       "std     29750.388105      1.780763      3.466410      0.968317   \n",
       "min     10185.190000      0.000000      1.000000   2014.000000   \n",
       "25%     76485.822500      1.000000      3.000000   2017.000000   \n",
       "50%     93395.915000      3.000000      7.000000   2017.000000   \n",
       "75%    110198.192500      4.000000     10.000000   2018.000000   \n",
       "max    387096.770000      6.000000     12.000000   2019.000000   \n",
       "\n",
       "       living_area_ratio  kitchen_area_ratio  \n",
       "count       17890.000000        17890.000000  \n",
       "mean            0.562580            0.190575  \n",
       "std             0.107992            0.074555  \n",
       "min             0.038000            0.000000  \n",
       "25%             0.490000            0.137000  \n",
       "50%             0.564000            0.177000  \n",
       "75%             0.635000            0.236000  \n",
       "max             1.514000            0.788000  \n",
       "\n",
       "[8 rows x 23 columns]"
      ]
     },
     "execution_count": 46,
     "metadata": {},
     "output_type": "execute_result"
    }
   ],
   "source": [
    "df.describe()"
   ]
  },
  {
   "cell_type": "markdown",
   "metadata": {},
   "source": [
    "Среднее значение и медианна отличаются не сильно, значит данные в отфильтрованном датасете годятся для дальнейшего анализа. Мы получили хорошую выборку, избавившись от выбросов."
   ]
  },
  {
   "cell_type": "markdown",
   "metadata": {},
   "source": [
    "### Факторы, влияющие на стоимость квартиры"
   ]
  },
  {
   "cell_type": "markdown",
   "metadata": {},
   "source": [
    "**Зависит ли цена от площади**\n",
    "\n",
    "Построим график и посчитаем корреляцию."
   ]
  },
  {
   "cell_type": "code",
   "execution_count": 47,
   "metadata": {},
   "outputs": [
    {
     "data": {
      "text/plain": [
       "<AxesSubplot:xlabel='last_price', ylabel='total_area'>"
      ]
     },
     "execution_count": 47,
     "metadata": {},
     "output_type": "execute_result"
    },
    {
     "data": {
      "image/png": "[encoded data removed]",
      "text/plain": [
       "<Figure size 576x432 with 2 Axes>"
      ]
     },
     "metadata": {
      "needs_background": "light"
     },
     "output_type": "display_data"
    }
   ],
   "source": [
    "df.plot(x='last_price', y='total_area', kind='hexbin', figsize=(8, 6), gridsize=20, sharex=False, grid=True)\n"
   ]
  },
  {
   "cell_type": "code",
   "execution_count": 48,
   "metadata": {},
   "outputs": [
    {
     "data": {
      "text/plain": [
       "0.7406600130951836"
      ]
     },
     "execution_count": 48,
     "metadata": {},
     "output_type": "execute_result"
    }
   ],
   "source": [
    "df['last_price'].corr(df['total_area'])"
   ]
  },
  {
   "cell_type": "markdown",
   "metadata": {},
   "source": [
    "Коэффициент коррелиции Пирсона равен 0,74 это говорит о достаточно сильной взаимосвязи цены и площади квартиры."
   ]
  },
  {
   "cell_type": "markdown",
   "metadata": {},
   "source": [
    "**Зависит ли цена от числа комнат**"
   ]
  },
  {
   "cell_type": "code",
   "execution_count": 49,
   "metadata": {},
   "outputs": [
    {
     "data": {
      "text/plain": [
       "<AxesSubplot:xlabel='rooms', ylabel='last_price'>"
      ]
     },
     "execution_count": 49,
     "metadata": {},
     "output_type": "execute_result"
    },
    {
     "data": {
      "image/png": "[encoded data removed]",
      "text/plain": [
       "<Figure size 576x432 with 2 Axes>"
      ]
     },
     "metadata": {
      "needs_background": "light"
     },
     "output_type": "display_data"
    }
   ],
   "source": [
    "df.plot(x='rooms', y='last_price', kind='hexbin', figsize=(8, 6), gridsize=20, sharex=False, grid=True)\n"
   ]
  },
  {
   "cell_type": "code",
   "execution_count": 50,
   "metadata": {},
   "outputs": [
    {
     "data": {
      "text/plain": [
       "0.4664697053353298"
      ]
     },
     "execution_count": 50,
     "metadata": {},
     "output_type": "execute_result"
    }
   ],
   "source": [
    "df['last_price'].corr(df['rooms'])"
   ]
  },
  {
   "cell_type": "markdown",
   "metadata": {},
   "source": [
    "Коэффициент корреляции Пирсона 0,47 говорит о наличии сзязи, однако не слишком сильной."
   ]
  },
  {
   "cell_type": "markdown",
   "metadata": {},
   "source": [
    "**Зависит ли цена от удаленности от центра**"
   ]
  },
  {
   "cell_type": "code",
   "execution_count": 51,
   "metadata": {},
   "outputs": [
    {
     "data": {
      "text/plain": [
       "<AxesSubplot:xlabel='last_price', ylabel='city_centers_nearest'>"
      ]
     },
     "execution_count": 51,
     "metadata": {},
     "output_type": "execute_result"
    },
    {
     "data": {
      "image/png": "[encoded data removed]",
      "text/plain": [
       "<Figure size 576x432 with 2 Axes>"
      ]
     },
     "metadata": {
      "needs_background": "light"
     },
     "output_type": "display_data"
    }
   ],
   "source": [
    "df.plot(x='last_price', y='city_centers_nearest', kind='hexbin', figsize=(8, 6), gridsize=20, sharex=False, grid=True)"
   ]
  },
  {
   "cell_type": "code",
   "execution_count": 52,
   "metadata": {},
   "outputs": [
    {
     "data": {
      "text/plain": [
       "-0.3620440567175604"
      ]
     },
     "execution_count": 52,
     "metadata": {},
     "output_type": "execute_result"
    }
   ],
   "source": [
    "df['last_price'].corr(df['city_centers_nearest'])"
   ]
  },
  {
   "cell_type": "markdown",
   "metadata": {},
   "source": [
    "Видим зависимость, чем ближе к центру, тем выше стоимость."
   ]
  },
  {
   "cell_type": "markdown",
   "metadata": {},
   "source": [
    "**Зависит ли цена от этажа квартиры**\n",
    "\n",
    "Создадим сводную таблицу, чтобы посмотреть зависимость цены от этажа квартиры."
   ]
  },
  {
   "cell_type": "code",
   "execution_count": 53,
   "metadata": {},
   "outputs": [
    {
     "data": {
      "image/png": "[encoded data removed]",
      "text/plain": [
       "<Figure size 432x288 with 1 Axes>"
      ]
     },
     "metadata": {
      "needs_background": "light"
     },
     "output_type": "display_data"
    }
   ],
   "source": [
    "df_pivot_floor = df.pivot_table(index=['floor_flat'],values='last_price', aggfunc='median').plot(grid=True)"
   ]
  },
  {
   "cell_type": "markdown",
   "metadata": {},
   "source": [
    "Судя по медианным значениям, зависимость есть. Так квартиры на первом этаже стоят дешевле, чем на последнем. А квартиры на \"других\" этажах стоят еще дороже. "
   ]
  },
  {
   "cell_type": "markdown",
   "metadata": {},
   "source": [
    "**Зависит ли цена от даты размещения**"
   ]
  },
  {
   "cell_type": "markdown",
   "metadata": {},
   "source": [
    "Посмотрим зависимоть цены от дня недели:"
   ]
  },
  {
   "cell_type": "code",
   "execution_count": 54,
   "metadata": {
    "scrolled": true
   },
   "outputs": [
    {
     "data": {
      "text/plain": [
       "<AxesSubplot:xlabel='day_week'>"
      ]
     },
     "execution_count": 54,
     "metadata": {},
     "output_type": "execute_result"
    },
    {
     "data": {
      "image/png": "[encoded data removed]",
      "text/plain": [
       "<Figure size 432x288 with 1 Axes>"
      ]
     },
     "metadata": {
      "needs_background": "light"
     },
     "output_type": "display_data"
    }
   ],
   "source": [
    "df.pivot_table(index=['day_week'],values='last_price', aggfunc='median').plot(grid=True)"
   ]
  },
  {
   "cell_type": "markdown",
   "metadata": {},
   "source": [
    "Объявления по прожаде квартир, выставленные во вторник и среду имеют наибольшую стоимость.В субботу самая низкая. Однако, зависимость цены от дня недели мала.\n",
    "\n",
    "Посмотрим зависимость цены от месяца:"
   ]
  },
  {
   "cell_type": "code",
   "execution_count": 55,
   "metadata": {},
   "outputs": [
    {
     "data": {
      "text/plain": [
       "<AxesSubplot:xlabel='month'>"
      ]
     },
     "execution_count": 55,
     "metadata": {},
     "output_type": "execute_result"
    },
    {
     "data": {
      "image/png": "[encoded data removed]",
      "text/plain": [
       "<Figure size 432x288 with 1 Axes>"
      ]
     },
     "metadata": {
      "needs_background": "light"
     },
     "output_type": "display_data"
    }
   ],
   "source": [
    "df.pivot_table(index=['month'],values='last_price', aggfunc='median').plot(grid=True)"
   ]
  },
  {
   "cell_type": "code",
   "execution_count": 56,
   "metadata": {},
   "outputs": [
    {
     "data": {
      "text/html": [
       "<div>\n",
       "<style scoped>\n",
       "    .dataframe tbody tr th:only-of-type {\n",
       "        vertical-align: middle;\n",
       "    }\n",
       "\n",
       "    .dataframe tbody tr th {\n",
       "        vertical-align: top;\n",
       "    }\n",
       "\n",
       "    .dataframe thead th {\n",
       "        text-align: right;\n",
       "    }\n",
       "</style>\n",
       "<table border=\"1\" class=\"dataframe\">\n",
       "  <thead>\n",
       "    <tr style=\"text-align: right;\">\n",
       "      <th></th>\n",
       "      <th>median</th>\n",
       "      <th>count</th>\n",
       "    </tr>\n",
       "    <tr>\n",
       "      <th>month</th>\n",
       "      <th></th>\n",
       "      <th></th>\n",
       "    </tr>\n",
       "  </thead>\n",
       "  <tbody>\n",
       "    <tr>\n",
       "      <th>1</th>\n",
       "      <td>4500.00</td>\n",
       "      <td>1072</td>\n",
       "    </tr>\n",
       "    <tr>\n",
       "      <th>2</th>\n",
       "      <td>4500.00</td>\n",
       "      <td>1940</td>\n",
       "    </tr>\n",
       "    <tr>\n",
       "      <th>3</th>\n",
       "      <td>4390.00</td>\n",
       "      <td>1749</td>\n",
       "    </tr>\n",
       "    <tr>\n",
       "      <th>4</th>\n",
       "      <td>4450.00</td>\n",
       "      <td>1372</td>\n",
       "    </tr>\n",
       "    <tr>\n",
       "      <th>5</th>\n",
       "      <td>4480.00</td>\n",
       "      <td>1001</td>\n",
       "    </tr>\n",
       "    <tr>\n",
       "      <th>6</th>\n",
       "      <td>4297.00</td>\n",
       "      <td>1452</td>\n",
       "    </tr>\n",
       "    <tr>\n",
       "      <th>7</th>\n",
       "      <td>4350.00</td>\n",
       "      <td>1357</td>\n",
       "    </tr>\n",
       "    <tr>\n",
       "      <th>8</th>\n",
       "      <td>4450.00</td>\n",
       "      <td>1430</td>\n",
       "    </tr>\n",
       "    <tr>\n",
       "      <th>9</th>\n",
       "      <td>4500.00</td>\n",
       "      <td>1627</td>\n",
       "    </tr>\n",
       "    <tr>\n",
       "      <th>10</th>\n",
       "      <td>4400.00</td>\n",
       "      <td>1755</td>\n",
       "    </tr>\n",
       "    <tr>\n",
       "      <th>11</th>\n",
       "      <td>4479.65</td>\n",
       "      <td>1922</td>\n",
       "    </tr>\n",
       "    <tr>\n",
       "      <th>12</th>\n",
       "      <td>4400.00</td>\n",
       "      <td>1213</td>\n",
       "    </tr>\n",
       "  </tbody>\n",
       "</table>\n",
       "</div>"
      ],
      "text/plain": [
       "        median  count\n",
       "month                \n",
       "1      4500.00   1072\n",
       "2      4500.00   1940\n",
       "3      4390.00   1749\n",
       "4      4450.00   1372\n",
       "5      4480.00   1001\n",
       "6      4297.00   1452\n",
       "7      4350.00   1357\n",
       "8      4450.00   1430\n",
       "9      4500.00   1627\n",
       "10     4400.00   1755\n",
       "11     4479.65   1922\n",
       "12     4400.00   1213"
      ]
     },
     "execution_count": 56,
     "metadata": {},
     "output_type": "execute_result"
    }
   ],
   "source": [
    "month_pivot_table = df.pivot_table(index=['month'],values='last_price', aggfunc=['median','count'])\n",
    "month_pivot_table.columns=['median', 'count']\n",
    "month_pivot_table"
   ]
  },
  {
   "cell_type": "markdown",
   "metadata": {},
   "source": [
    "Самая высокая стоимость квартир в январе, феврале и сентябре. Больше всего объявлений по продаже в феврале и ноябре. В мае и январе квартир продается меньше всего, скорее всего это свзано с праздниками.\n",
    "\n",
    "Посмотрим зависимость цены от года:"
   ]
  },
  {
   "cell_type": "code",
   "execution_count": 57,
   "metadata": {},
   "outputs": [
    {
     "data": {
      "text/plain": [
       "<AxesSubplot:xlabel='year'>"
      ]
     },
     "execution_count": 57,
     "metadata": {},
     "output_type": "execute_result"
    },
    {
     "data": {
      "image/png": "[encoded data removed]",
      "text/plain": [
       "<Figure size 432x288 with 1 Axes>"
      ]
     },
     "metadata": {
      "needs_background": "light"
     },
     "output_type": "display_data"
    }
   ],
   "source": [
    "df.pivot_table(index=['year'],values='last_price', aggfunc='median').plot(grid=True)"
   ]
  },
  {
   "cell_type": "markdown",
   "metadata": {},
   "source": [
    "После 2014 года  цены на недвижимость упали. В 2016 году наблюдается наименьшая стоимость квартир. С 2017 года цены постепенно растут. "
   ]
  },
  {
   "cell_type": "markdown",
   "metadata": {},
   "source": [
    "### Изучение 10 населенных пунктов с наибольшим числом объявлений."
   ]
  },
  {
   "cell_type": "markdown",
   "metadata": {},
   "source": [
    "Выберем 10 населенных пунктов с наибольшим числом объявлений."
   ]
  },
  {
   "cell_type": "code",
   "execution_count": 58,
   "metadata": {
    "scrolled": true
   },
   "outputs": [
    {
     "data": {
      "text/plain": [
       "Санкт-Петербург      11825\n",
       "посёлок Мурино         480\n",
       "посёлок Шушары         373\n",
       "Всеволожск             306\n",
       "Колпино                274\n",
       "Пушкин                 273\n",
       "деревня Кудрово        269\n",
       "посёлок Парголово      265\n",
       "Гатчина                243\n",
       "Выборг                 174\n",
       "Name: locality_name, dtype: int64"
      ]
     },
     "execution_count": 58,
     "metadata": {},
     "output_type": "execute_result"
    }
   ],
   "source": [
    "df['locality_name'].value_counts().head(10)\n"
   ]
  },
  {
   "cell_type": "markdown",
   "metadata": {},
   "source": [
    "Создадим сводную таблицу со средним значением квадратного метра и количеством объявлений в населенных пунктах."
   ]
  },
  {
   "cell_type": "code",
   "execution_count": 59,
   "metadata": {},
   "outputs": [
    {
     "data": {
      "text/html": [
       "<div>\n",
       "<style scoped>\n",
       "    .dataframe tbody tr th:only-of-type {\n",
       "        vertical-align: middle;\n",
       "    }\n",
       "\n",
       "    .dataframe tbody tr th {\n",
       "        vertical-align: top;\n",
       "    }\n",
       "\n",
       "    .dataframe thead th {\n",
       "        text-align: right;\n",
       "    }\n",
       "</style>\n",
       "<table border=\"1\" class=\"dataframe\">\n",
       "  <thead>\n",
       "    <tr style=\"text-align: right;\">\n",
       "      <th></th>\n",
       "      <th>mean</th>\n",
       "      <th>count</th>\n",
       "    </tr>\n",
       "    <tr>\n",
       "      <th>locality_name</th>\n",
       "      <th></th>\n",
       "      <th></th>\n",
       "    </tr>\n",
       "  </thead>\n",
       "  <tbody>\n",
       "    <tr>\n",
       "      <th>Санкт-Петербург</th>\n",
       "      <td>106192.861852</td>\n",
       "      <td>11825</td>\n",
       "    </tr>\n",
       "    <tr>\n",
       "      <th>посёлок Мурино</th>\n",
       "      <td>85624.444604</td>\n",
       "      <td>480</td>\n",
       "    </tr>\n",
       "    <tr>\n",
       "      <th>посёлок Шушары</th>\n",
       "      <td>78141.179303</td>\n",
       "      <td>373</td>\n",
       "    </tr>\n",
       "    <tr>\n",
       "      <th>Всеволожск</th>\n",
       "      <td>66679.863105</td>\n",
       "      <td>306</td>\n",
       "    </tr>\n",
       "    <tr>\n",
       "      <th>Колпино</th>\n",
       "      <td>75059.692847</td>\n",
       "      <td>274</td>\n",
       "    </tr>\n",
       "    <tr>\n",
       "      <th>Пушкин</th>\n",
       "      <td>100374.103297</td>\n",
       "      <td>273</td>\n",
       "    </tr>\n",
       "    <tr>\n",
       "      <th>деревня Кудрово</th>\n",
       "      <td>92163.835725</td>\n",
       "      <td>269</td>\n",
       "    </tr>\n",
       "    <tr>\n",
       "      <th>посёлок Парголово</th>\n",
       "      <td>90035.580642</td>\n",
       "      <td>265</td>\n",
       "    </tr>\n",
       "    <tr>\n",
       "      <th>Гатчина</th>\n",
       "      <td>67801.226708</td>\n",
       "      <td>243</td>\n",
       "    </tr>\n",
       "    <tr>\n",
       "      <th>Выборг</th>\n",
       "      <td>57101.805747</td>\n",
       "      <td>174</td>\n",
       "    </tr>\n",
       "  </tbody>\n",
       "</table>\n",
       "</div>"
      ],
      "text/plain": [
       "                            mean  count\n",
       "locality_name                          \n",
       "Санкт-Петербург    106192.861852  11825\n",
       "посёлок Мурино      85624.444604    480\n",
       "посёлок Шушары      78141.179303    373\n",
       "Всеволожск          66679.863105    306\n",
       "Колпино             75059.692847    274\n",
       "Пушкин             100374.103297    273\n",
       "деревня Кудрово     92163.835725    269\n",
       "посёлок Парголово   90035.580642    265\n",
       "Гатчина             67801.226708    243\n",
       "Выборг              57101.805747    174"
      ]
     },
     "execution_count": 59,
     "metadata": {},
     "output_type": "execute_result"
    }
   ],
   "source": [
    "locality_pivot_table = df.pivot_table(index=['locality_name'],values='price_per_sqm', aggfunc=['mean','count'])\n",
    "locality_pivot_table.columns=['mean','count']\n",
    "locality_pivot_table = locality_pivot_table.sort_values(by='count', ascending=False).head(10)\n",
    "locality_pivot_table"
   ]
  },
  {
   "cell_type": "markdown",
   "metadata": {},
   "source": [
    "Самая высокая стоимость квадратного метра в Санкт-Петербурге, самая низкая в Выборге."
   ]
  },
  {
   "cell_type": "markdown",
   "metadata": {},
   "source": [
    "### Изучение предложения квартир в Санкт-Петербурге\n"
   ]
  },
  {
   "cell_type": "markdown",
   "metadata": {},
   "source": [
    "Создадим столбец расстояния от квартиры до центра в км."
   ]
  },
  {
   "cell_type": "code",
   "execution_count": 60,
   "metadata": {},
   "outputs": [
    {
     "data": {
      "text/html": [
       "<div>\n",
       "<style scoped>\n",
       "    .dataframe tbody tr th:only-of-type {\n",
       "        vertical-align: middle;\n",
       "    }\n",
       "\n",
       "    .dataframe tbody tr th {\n",
       "        vertical-align: top;\n",
       "    }\n",
       "\n",
       "    .dataframe thead th {\n",
       "        text-align: right;\n",
       "    }\n",
       "</style>\n",
       "<table border=\"1\" class=\"dataframe\">\n",
       "  <thead>\n",
       "    <tr style=\"text-align: right;\">\n",
       "      <th></th>\n",
       "      <th>total_images</th>\n",
       "      <th>last_price</th>\n",
       "      <th>total_area</th>\n",
       "      <th>first_day_exposition</th>\n",
       "      <th>rooms</th>\n",
       "      <th>ceiling_height</th>\n",
       "      <th>floors_total</th>\n",
       "      <th>living_area</th>\n",
       "      <th>floor</th>\n",
       "      <th>is_apartment</th>\n",
       "      <th>...</th>\n",
       "      <th>ponds_nearest</th>\n",
       "      <th>days_exposition</th>\n",
       "      <th>price_per_sqm</th>\n",
       "      <th>day_week</th>\n",
       "      <th>month</th>\n",
       "      <th>year</th>\n",
       "      <th>floor_flat</th>\n",
       "      <th>living_area_ratio</th>\n",
       "      <th>kitchen_area_ratio</th>\n",
       "      <th>city_centers_nearest_km</th>\n",
       "    </tr>\n",
       "  </thead>\n",
       "  <tbody>\n",
       "    <tr>\n",
       "      <th>1</th>\n",
       "      <td>7</td>\n",
       "      <td>3350.0</td>\n",
       "      <td>40.4</td>\n",
       "      <td>2018-12-04</td>\n",
       "      <td>1</td>\n",
       "      <td>2.65</td>\n",
       "      <td>11</td>\n",
       "      <td>18.6</td>\n",
       "      <td>1</td>\n",
       "      <td>False</td>\n",
       "      <td>...</td>\n",
       "      <td>NaN</td>\n",
       "      <td>81</td>\n",
       "      <td>82920.79</td>\n",
       "      <td>1</td>\n",
       "      <td>12</td>\n",
       "      <td>2018</td>\n",
       "      <td>Первый</td>\n",
       "      <td>0.460</td>\n",
       "      <td>0.272</td>\n",
       "      <td>19.0</td>\n",
       "    </tr>\n",
       "    <tr>\n",
       "      <th>2</th>\n",
       "      <td>10</td>\n",
       "      <td>5196.0</td>\n",
       "      <td>56.0</td>\n",
       "      <td>2015-08-20</td>\n",
       "      <td>2</td>\n",
       "      <td>2.65</td>\n",
       "      <td>5</td>\n",
       "      <td>34.3</td>\n",
       "      <td>4</td>\n",
       "      <td>False</td>\n",
       "      <td>...</td>\n",
       "      <td>574.0</td>\n",
       "      <td>558</td>\n",
       "      <td>92785.71</td>\n",
       "      <td>3</td>\n",
       "      <td>8</td>\n",
       "      <td>2015</td>\n",
       "      <td>Другой</td>\n",
       "      <td>0.612</td>\n",
       "      <td>0.148</td>\n",
       "      <td>14.0</td>\n",
       "    </tr>\n",
       "    <tr>\n",
       "      <th>4</th>\n",
       "      <td>2</td>\n",
       "      <td>10000.0</td>\n",
       "      <td>100.0</td>\n",
       "      <td>2018-06-19</td>\n",
       "      <td>2</td>\n",
       "      <td>3.03</td>\n",
       "      <td>14</td>\n",
       "      <td>32.0</td>\n",
       "      <td>13</td>\n",
       "      <td>False</td>\n",
       "      <td>...</td>\n",
       "      <td>48.0</td>\n",
       "      <td>121</td>\n",
       "      <td>100000.00</td>\n",
       "      <td>1</td>\n",
       "      <td>6</td>\n",
       "      <td>2018</td>\n",
       "      <td>Другой</td>\n",
       "      <td>0.320</td>\n",
       "      <td>0.410</td>\n",
       "      <td>8.0</td>\n",
       "    </tr>\n",
       "    <tr>\n",
       "      <th>5</th>\n",
       "      <td>10</td>\n",
       "      <td>2890.0</td>\n",
       "      <td>30.4</td>\n",
       "      <td>2018-09-10</td>\n",
       "      <td>1</td>\n",
       "      <td>2.65</td>\n",
       "      <td>12</td>\n",
       "      <td>14.4</td>\n",
       "      <td>5</td>\n",
       "      <td>False</td>\n",
       "      <td>...</td>\n",
       "      <td>NaN</td>\n",
       "      <td>55</td>\n",
       "      <td>95065.79</td>\n",
       "      <td>0</td>\n",
       "      <td>9</td>\n",
       "      <td>2018</td>\n",
       "      <td>Другой</td>\n",
       "      <td>0.474</td>\n",
       "      <td>0.299</td>\n",
       "      <td>NaN</td>\n",
       "    </tr>\n",
       "    <tr>\n",
       "      <th>6</th>\n",
       "      <td>6</td>\n",
       "      <td>3700.0</td>\n",
       "      <td>37.3</td>\n",
       "      <td>2017-11-02</td>\n",
       "      <td>1</td>\n",
       "      <td>2.65</td>\n",
       "      <td>26</td>\n",
       "      <td>10.6</td>\n",
       "      <td>6</td>\n",
       "      <td>False</td>\n",
       "      <td>...</td>\n",
       "      <td>NaN</td>\n",
       "      <td>155</td>\n",
       "      <td>99195.71</td>\n",
       "      <td>3</td>\n",
       "      <td>11</td>\n",
       "      <td>2017</td>\n",
       "      <td>Другой</td>\n",
       "      <td>0.284</td>\n",
       "      <td>0.386</td>\n",
       "      <td>19.0</td>\n",
       "    </tr>\n",
       "  </tbody>\n",
       "</table>\n",
       "<p>5 rows × 30 columns</p>\n",
       "</div>"
      ],
      "text/plain": [
       "   total_images  last_price  total_area first_day_exposition  rooms  \\\n",
       "1             7      3350.0        40.4           2018-12-04      1   \n",
       "2            10      5196.0        56.0           2015-08-20      2   \n",
       "4             2     10000.0       100.0           2018-06-19      2   \n",
       "5            10      2890.0        30.4           2018-09-10      1   \n",
       "6             6      3700.0        37.3           2017-11-02      1   \n",
       "\n",
       "   ceiling_height  floors_total  living_area  floor  is_apartment  ...  \\\n",
       "1            2.65            11         18.6      1         False  ...   \n",
       "2            2.65             5         34.3      4         False  ...   \n",
       "4            3.03            14         32.0     13         False  ...   \n",
       "5            2.65            12         14.4      5         False  ...   \n",
       "6            2.65            26         10.6      6         False  ...   \n",
       "\n",
       "   ponds_nearest  days_exposition  price_per_sqm  day_week month  year  \\\n",
       "1            NaN               81       82920.79         1    12  2018   \n",
       "2          574.0              558       92785.71         3     8  2015   \n",
       "4           48.0              121      100000.00         1     6  2018   \n",
       "5            NaN               55       95065.79         0     9  2018   \n",
       "6            NaN              155       99195.71         3    11  2017   \n",
       "\n",
       "   floor_flat  living_area_ratio  kitchen_area_ratio  city_centers_nearest_km  \n",
       "1      Первый              0.460               0.272                     19.0  \n",
       "2      Другой              0.612               0.148                     14.0  \n",
       "4      Другой              0.320               0.410                      8.0  \n",
       "5      Другой              0.474               0.299                      NaN  \n",
       "6      Другой              0.284               0.386                     19.0  \n",
       "\n",
       "[5 rows x 30 columns]"
      ]
     },
     "execution_count": 60,
     "metadata": {},
     "output_type": "execute_result"
    }
   ],
   "source": [
    "df['city_centers_nearest_km'] = round(df['city_centers_nearest'] / 1000)\n",
    "df.head()"
   ]
  },
  {
   "cell_type": "code",
   "execution_count": 61,
   "metadata": {
    "scrolled": true
   },
   "outputs": [
    {
     "data": {
      "text/html": [
       "<div>\n",
       "<style scoped>\n",
       "    .dataframe tbody tr th:only-of-type {\n",
       "        vertical-align: middle;\n",
       "    }\n",
       "\n",
       "    .dataframe tbody tr th {\n",
       "        vertical-align: top;\n",
       "    }\n",
       "\n",
       "    .dataframe thead th {\n",
       "        text-align: right;\n",
       "    }\n",
       "</style>\n",
       "<table border=\"1\" class=\"dataframe\">\n",
       "  <thead>\n",
       "    <tr style=\"text-align: right;\">\n",
       "      <th></th>\n",
       "      <th>last_price</th>\n",
       "    </tr>\n",
       "    <tr>\n",
       "      <th>city_centers_nearest_km</th>\n",
       "      <th></th>\n",
       "    </tr>\n",
       "  </thead>\n",
       "  <tbody>\n",
       "    <tr>\n",
       "      <th>0.0</th>\n",
       "      <td>8886.666667</td>\n",
       "    </tr>\n",
       "    <tr>\n",
       "      <th>1.0</th>\n",
       "      <td>8765.769990</td>\n",
       "    </tr>\n",
       "    <tr>\n",
       "      <th>2.0</th>\n",
       "      <td>8439.380117</td>\n",
       "    </tr>\n",
       "    <tr>\n",
       "      <th>3.0</th>\n",
       "      <td>7481.826238</td>\n",
       "    </tr>\n",
       "    <tr>\n",
       "      <th>4.0</th>\n",
       "      <td>8077.087478</td>\n",
       "    </tr>\n",
       "    <tr>\n",
       "      <th>5.0</th>\n",
       "      <td>8186.968212</td>\n",
       "    </tr>\n",
       "    <tr>\n",
       "      <th>6.0</th>\n",
       "      <td>7692.876214</td>\n",
       "    </tr>\n",
       "    <tr>\n",
       "      <th>7.0</th>\n",
       "      <td>7115.667222</td>\n",
       "    </tr>\n",
       "    <tr>\n",
       "      <th>8.0</th>\n",
       "      <td>7007.112908</td>\n",
       "    </tr>\n",
       "    <tr>\n",
       "      <th>9.0</th>\n",
       "      <td>5878.520973</td>\n",
       "    </tr>\n",
       "    <tr>\n",
       "      <th>10.0</th>\n",
       "      <td>5596.296898</td>\n",
       "    </tr>\n",
       "    <tr>\n",
       "      <th>11.0</th>\n",
       "      <td>5504.039078</td>\n",
       "    </tr>\n",
       "    <tr>\n",
       "      <th>12.0</th>\n",
       "      <td>5387.676875</td>\n",
       "    </tr>\n",
       "    <tr>\n",
       "      <th>13.0</th>\n",
       "      <td>5627.583240</td>\n",
       "    </tr>\n",
       "    <tr>\n",
       "      <th>14.0</th>\n",
       "      <td>5323.681511</td>\n",
       "    </tr>\n",
       "    <tr>\n",
       "      <th>15.0</th>\n",
       "      <td>5304.464221</td>\n",
       "    </tr>\n",
       "    <tr>\n",
       "      <th>16.0</th>\n",
       "      <td>5040.458058</td>\n",
       "    </tr>\n",
       "    <tr>\n",
       "      <th>17.0</th>\n",
       "      <td>4911.489362</td>\n",
       "    </tr>\n",
       "    <tr>\n",
       "      <th>18.0</th>\n",
       "      <td>4620.351297</td>\n",
       "    </tr>\n",
       "    <tr>\n",
       "      <th>19.0</th>\n",
       "      <td>4957.749435</td>\n",
       "    </tr>\n",
       "    <tr>\n",
       "      <th>20.0</th>\n",
       "      <td>5590.199324</td>\n",
       "    </tr>\n",
       "    <tr>\n",
       "      <th>21.0</th>\n",
       "      <td>5091.697250</td>\n",
       "    </tr>\n",
       "    <tr>\n",
       "      <th>22.0</th>\n",
       "      <td>5022.123719</td>\n",
       "    </tr>\n",
       "    <tr>\n",
       "      <th>23.0</th>\n",
       "      <td>4504.745763</td>\n",
       "    </tr>\n",
       "    <tr>\n",
       "      <th>24.0</th>\n",
       "      <td>3861.198571</td>\n",
       "    </tr>\n",
       "    <tr>\n",
       "      <th>25.0</th>\n",
       "      <td>4043.992286</td>\n",
       "    </tr>\n",
       "    <tr>\n",
       "      <th>26.0</th>\n",
       "      <td>3956.034646</td>\n",
       "    </tr>\n",
       "    <tr>\n",
       "      <th>27.0</th>\n",
       "      <td>8300.000000</td>\n",
       "    </tr>\n",
       "    <tr>\n",
       "      <th>28.0</th>\n",
       "      <td>5026.428571</td>\n",
       "    </tr>\n",
       "    <tr>\n",
       "      <th>29.0</th>\n",
       "      <td>4114.000000</td>\n",
       "    </tr>\n",
       "  </tbody>\n",
       "</table>\n",
       "</div>"
      ],
      "text/plain": [
       "                          last_price\n",
       "city_centers_nearest_km             \n",
       "0.0                      8886.666667\n",
       "1.0                      8765.769990\n",
       "2.0                      8439.380117\n",
       "3.0                      7481.826238\n",
       "4.0                      8077.087478\n",
       "5.0                      8186.968212\n",
       "6.0                      7692.876214\n",
       "7.0                      7115.667222\n",
       "8.0                      7007.112908\n",
       "9.0                      5878.520973\n",
       "10.0                     5596.296898\n",
       "11.0                     5504.039078\n",
       "12.0                     5387.676875\n",
       "13.0                     5627.583240\n",
       "14.0                     5323.681511\n",
       "15.0                     5304.464221\n",
       "16.0                     5040.458058\n",
       "17.0                     4911.489362\n",
       "18.0                     4620.351297\n",
       "19.0                     4957.749435\n",
       "20.0                     5590.199324\n",
       "21.0                     5091.697250\n",
       "22.0                     5022.123719\n",
       "23.0                     4504.745763\n",
       "24.0                     3861.198571\n",
       "25.0                     4043.992286\n",
       "26.0                     3956.034646\n",
       "27.0                     8300.000000\n",
       "28.0                     5026.428571\n",
       "29.0                     4114.000000"
      ]
     },
     "execution_count": 61,
     "metadata": {},
     "output_type": "execute_result"
    }
   ],
   "source": [
    "df_piter_pivot = df.query('locality_name == \"Санкт-Петербург\"').pivot_table(index=['city_centers_nearest_km'],values='last_price', aggfunc='mean')\n",
    "df_piter_pivot"
   ]
  },
  {
   "cell_type": "code",
   "execution_count": 62,
   "metadata": {
    "scrolled": true
   },
   "outputs": [
    {
     "data": {
      "text/plain": [
       "<AxesSubplot:xlabel='city_centers_nearest_km'>"
      ]
     },
     "execution_count": 62,
     "metadata": {},
     "output_type": "execute_result"
    },
    {
     "data": {
      "image/png": "[encoded data removed]",
      "text/plain": [
       "<Figure size 432x288 with 1 Axes>"
      ]
     },
     "metadata": {
      "needs_background": "light"
     },
     "output_type": "display_data"
    }
   ],
   "source": [
    "df_piter_pivot.plot(grid=True)"
   ]
  },
  {
   "cell_type": "markdown",
   "metadata": {},
   "source": [
    "Исходя из графика радиус центра будем считать 8 км."
   ]
  },
  {
   "cell_type": "markdown",
   "metadata": {},
   "source": [
    "### Выделение сегмента квартир в центре. Анализ этой территории\n"
   ]
  },
  {
   "cell_type": "markdown",
   "metadata": {},
   "source": [
    "Создадим таблицу, чтобы проанализировать сегмент квартир в центре Санкт-Петербугра"
   ]
  },
  {
   "cell_type": "code",
   "execution_count": 63,
   "metadata": {},
   "outputs": [
    {
     "data": {
      "text/html": [
       "<div>\n",
       "<style scoped>\n",
       "    .dataframe tbody tr th:only-of-type {\n",
       "        vertical-align: middle;\n",
       "    }\n",
       "\n",
       "    .dataframe tbody tr th {\n",
       "        vertical-align: top;\n",
       "    }\n",
       "\n",
       "    .dataframe thead th {\n",
       "        text-align: right;\n",
       "    }\n",
       "</style>\n",
       "<table border=\"1\" class=\"dataframe\">\n",
       "  <thead>\n",
       "    <tr style=\"text-align: right;\">\n",
       "      <th></th>\n",
       "      <th>total_images</th>\n",
       "      <th>last_price</th>\n",
       "      <th>total_area</th>\n",
       "      <th>first_day_exposition</th>\n",
       "      <th>rooms</th>\n",
       "      <th>ceiling_height</th>\n",
       "      <th>floors_total</th>\n",
       "      <th>living_area</th>\n",
       "      <th>floor</th>\n",
       "      <th>is_apartment</th>\n",
       "      <th>...</th>\n",
       "      <th>ponds_nearest</th>\n",
       "      <th>days_exposition</th>\n",
       "      <th>price_per_sqm</th>\n",
       "      <th>day_week</th>\n",
       "      <th>month</th>\n",
       "      <th>year</th>\n",
       "      <th>floor_flat</th>\n",
       "      <th>living_area_ratio</th>\n",
       "      <th>kitchen_area_ratio</th>\n",
       "      <th>city_centers_nearest_km</th>\n",
       "    </tr>\n",
       "  </thead>\n",
       "  <tbody>\n",
       "    <tr>\n",
       "      <th>24</th>\n",
       "      <td>8</td>\n",
       "      <td>6500.0</td>\n",
       "      <td>97.2</td>\n",
       "      <td>2015-10-31</td>\n",
       "      <td>2</td>\n",
       "      <td>2.65</td>\n",
       "      <td>3</td>\n",
       "      <td>46.5</td>\n",
       "      <td>1</td>\n",
       "      <td>False</td>\n",
       "      <td>...</td>\n",
       "      <td>124.0</td>\n",
       "      <td>265</td>\n",
       "      <td>66872.43</td>\n",
       "      <td>5</td>\n",
       "      <td>10</td>\n",
       "      <td>2015</td>\n",
       "      <td>Первый</td>\n",
       "      <td>0.478</td>\n",
       "      <td>0.202</td>\n",
       "      <td>2.0</td>\n",
       "    </tr>\n",
       "    <tr>\n",
       "      <th>61</th>\n",
       "      <td>18</td>\n",
       "      <td>7990.0</td>\n",
       "      <td>74.0</td>\n",
       "      <td>2017-08-24</td>\n",
       "      <td>2</td>\n",
       "      <td>2.65</td>\n",
       "      <td>4</td>\n",
       "      <td>43.0</td>\n",
       "      <td>4</td>\n",
       "      <td>False</td>\n",
       "      <td>...</td>\n",
       "      <td>NaN</td>\n",
       "      <td>609</td>\n",
       "      <td>107972.97</td>\n",
       "      <td>3</td>\n",
       "      <td>8</td>\n",
       "      <td>2017</td>\n",
       "      <td>Последний</td>\n",
       "      <td>0.581</td>\n",
       "      <td>0.270</td>\n",
       "      <td>4.0</td>\n",
       "    </tr>\n",
       "    <tr>\n",
       "      <th>94</th>\n",
       "      <td>3</td>\n",
       "      <td>3500.0</td>\n",
       "      <td>29.5</td>\n",
       "      <td>2019-04-26</td>\n",
       "      <td>1</td>\n",
       "      <td>2.50</td>\n",
       "      <td>5</td>\n",
       "      <td>15.6</td>\n",
       "      <td>2</td>\n",
       "      <td>False</td>\n",
       "      <td>...</td>\n",
       "      <td>NaN</td>\n",
       "      <td>4</td>\n",
       "      <td>118644.07</td>\n",
       "      <td>4</td>\n",
       "      <td>4</td>\n",
       "      <td>2019</td>\n",
       "      <td>Другой</td>\n",
       "      <td>0.529</td>\n",
       "      <td>0.186</td>\n",
       "      <td>7.0</td>\n",
       "    </tr>\n",
       "    <tr>\n",
       "      <th>99</th>\n",
       "      <td>32</td>\n",
       "      <td>9600.0</td>\n",
       "      <td>90.0</td>\n",
       "      <td>2017-09-26</td>\n",
       "      <td>4</td>\n",
       "      <td>2.65</td>\n",
       "      <td>5</td>\n",
       "      <td>67.0</td>\n",
       "      <td>2</td>\n",
       "      <td>False</td>\n",
       "      <td>...</td>\n",
       "      <td>NaN</td>\n",
       "      <td>104</td>\n",
       "      <td>106666.67</td>\n",
       "      <td>1</td>\n",
       "      <td>9</td>\n",
       "      <td>2017</td>\n",
       "      <td>Другой</td>\n",
       "      <td>0.744</td>\n",
       "      <td>0.089</td>\n",
       "      <td>3.0</td>\n",
       "    </tr>\n",
       "    <tr>\n",
       "      <th>111</th>\n",
       "      <td>4</td>\n",
       "      <td>4590.0</td>\n",
       "      <td>40.0</td>\n",
       "      <td>2017-05-29</td>\n",
       "      <td>1</td>\n",
       "      <td>2.65</td>\n",
       "      <td>6</td>\n",
       "      <td>18.0</td>\n",
       "      <td>1</td>\n",
       "      <td>False</td>\n",
       "      <td>...</td>\n",
       "      <td>NaN</td>\n",
       "      <td>31</td>\n",
       "      <td>114750.00</td>\n",
       "      <td>0</td>\n",
       "      <td>5</td>\n",
       "      <td>2017</td>\n",
       "      <td>Первый</td>\n",
       "      <td>0.450</td>\n",
       "      <td>0.250</td>\n",
       "      <td>6.0</td>\n",
       "    </tr>\n",
       "  </tbody>\n",
       "</table>\n",
       "<p>5 rows × 30 columns</p>\n",
       "</div>"
      ],
      "text/plain": [
       "     total_images  last_price  total_area first_day_exposition  rooms  \\\n",
       "24              8      6500.0        97.2           2015-10-31      2   \n",
       "61             18      7990.0        74.0           2017-08-24      2   \n",
       "94              3      3500.0        29.5           2019-04-26      1   \n",
       "99             32      9600.0        90.0           2017-09-26      4   \n",
       "111             4      4590.0        40.0           2017-05-29      1   \n",
       "\n",
       "     ceiling_height  floors_total  living_area  floor  is_apartment  ...  \\\n",
       "24             2.65             3         46.5      1         False  ...   \n",
       "61             2.65             4         43.0      4         False  ...   \n",
       "94             2.50             5         15.6      2         False  ...   \n",
       "99             2.65             5         67.0      2         False  ...   \n",
       "111            2.65             6         18.0      1         False  ...   \n",
       "\n",
       "     ponds_nearest  days_exposition  price_per_sqm  day_week month  year  \\\n",
       "24           124.0              265       66872.43         5    10  2015   \n",
       "61             NaN              609      107972.97         3     8  2017   \n",
       "94             NaN                4      118644.07         4     4  2019   \n",
       "99             NaN              104      106666.67         1     9  2017   \n",
       "111            NaN               31      114750.00         0     5  2017   \n",
       "\n",
       "     floor_flat  living_area_ratio  kitchen_area_ratio  \\\n",
       "24       Первый              0.478               0.202   \n",
       "61    Последний              0.581               0.270   \n",
       "94       Другой              0.529               0.186   \n",
       "99       Другой              0.744               0.089   \n",
       "111      Первый              0.450               0.250   \n",
       "\n",
       "     city_centers_nearest_km  \n",
       "24                       2.0  \n",
       "61                       4.0  \n",
       "94                       7.0  \n",
       "99                       3.0  \n",
       "111                      6.0  \n",
       "\n",
       "[5 rows x 30 columns]"
      ]
     },
     "execution_count": 63,
     "metadata": {},
     "output_type": "execute_result"
    }
   ],
   "source": [
    "df_piter_center = df.query('locality_name == \"Санкт-Петербург\" and city_centers_nearest_km < 8')\n",
    "df_piter_center.head()"
   ]
  },
  {
   "cell_type": "markdown",
   "metadata": {},
   "source": [
    "**Изучим площадь**"
   ]
  },
  {
   "cell_type": "code",
   "execution_count": 64,
   "metadata": {},
   "outputs": [
    {
     "data": {
      "text/plain": [
       "count    2073.000000\n",
       "mean       67.709643\n",
       "std        22.591248\n",
       "min        12.000000\n",
       "25%        49.000000\n",
       "50%        66.900000\n",
       "75%        84.200000\n",
       "max       119.600000\n",
       "Name: total_area, dtype: float64"
      ]
     },
     "execution_count": 64,
     "metadata": {},
     "output_type": "execute_result"
    }
   ],
   "source": [
    "df_piter_center['total_area'].describe()"
   ]
  },
  {
   "cell_type": "code",
   "execution_count": 65,
   "metadata": {},
   "outputs": [
    {
     "data": {
      "text/plain": [
       "<AxesSubplot:ylabel='Frequency'>"
      ]
     },
     "execution_count": 65,
     "metadata": {},
     "output_type": "execute_result"
    },
    {
     "data": {
      "image/png": "[encoded data removed]",
      "text/plain": [
       "<Figure size 432x288 with 1 Axes>"
      ]
     },
     "metadata": {
      "needs_background": "light"
     },
     "output_type": "display_data"
    }
   ],
   "source": [
    "df_piter_center.plot(y='total_area', kind='hist', grid=True, range=(11,121), bins=5)"
   ]
  },
  {
   "cell_type": "markdown",
   "metadata": {},
   "source": [
    "Медианная площадь квартир в центре Санкт-Петербурга 66,9 м². Минимальная площадь 12 м², максимальная 119,6 м². Больше всего квартир продается в диапазоне от 45 м² до 75 м²."
   ]
  },
  {
   "cell_type": "markdown",
   "metadata": {},
   "source": [
    "**Изучим цену**"
   ]
  },
  {
   "cell_type": "code",
   "execution_count": 66,
   "metadata": {},
   "outputs": [
    {
     "data": {
      "text/plain": [
       "count     2073.000000\n",
       "mean      7927.116197\n",
       "std       2735.693317\n",
       "min       1600.000000\n",
       "25%       5900.000000\n",
       "50%       7500.000000\n",
       "75%       9700.000000\n",
       "max      14990.000000\n",
       "Name: last_price, dtype: float64"
      ]
     },
     "execution_count": 66,
     "metadata": {},
     "output_type": "execute_result"
    }
   ],
   "source": [
    "df_piter_center['last_price'].describe()"
   ]
  },
  {
   "cell_type": "code",
   "execution_count": 67,
   "metadata": {},
   "outputs": [
    {
     "data": {
      "text/plain": [
       "<AxesSubplot:ylabel='Frequency'>"
      ]
     },
     "execution_count": 67,
     "metadata": {},
     "output_type": "execute_result"
    },
    {
     "data": {
      "image/png": "[encoded data removed]",
      "text/plain": [
       "<Figure size 432x288 with 1 Axes>"
      ]
     },
     "metadata": {
      "needs_background": "light"
     },
     "output_type": "display_data"
    }
   ],
   "source": [
    "df_piter_center.plot(y='last_price', kind='hist', grid=True, range=(0,15000), bins=10)"
   ]
  },
  {
   "cell_type": "markdown",
   "metadata": {},
   "source": [
    "Медианная стоимость квартир в центре Санкт-Петербурга 7,5 млн рублей. Больше всего квартир продают в диапазоне от 6 до 8 млн рублей."
   ]
  },
  {
   "cell_type": "markdown",
   "metadata": {},
   "source": [
    "**Изучим число комнат**"
   ]
  },
  {
   "cell_type": "code",
   "execution_count": 68,
   "metadata": {},
   "outputs": [
    {
     "data": {
      "text/plain": [
       "count    2073.000000\n",
       "mean        2.365654\n",
       "std         1.007413\n",
       "min         0.000000\n",
       "25%         2.000000\n",
       "50%         2.000000\n",
       "75%         3.000000\n",
       "max         7.000000\n",
       "Name: rooms, dtype: float64"
      ]
     },
     "execution_count": 68,
     "metadata": {},
     "output_type": "execute_result"
    }
   ],
   "source": [
    "df_piter_center['rooms'].describe()"
   ]
  },
  {
   "cell_type": "code",
   "execution_count": 69,
   "metadata": {},
   "outputs": [
    {
     "data": {
      "text/plain": [
       "<AxesSubplot:ylabel='Frequency'>"
      ]
     },
     "execution_count": 69,
     "metadata": {},
     "output_type": "execute_result"
    },
    {
     "data": {
      "image/png": "[encoded data removed]",
      "text/plain": [
       "<Figure size 432x288 with 1 Axes>"
      ]
     },
     "metadata": {
      "needs_background": "light"
     },
     "output_type": "display_data"
    }
   ],
   "source": [
    "df_piter_center.plot(y='rooms', kind='hist', grid=True, range=(0,7), bins=15)"
   ]
  },
  {
   "cell_type": "markdown",
   "metadata": {},
   "source": [
    "Больше всего продают двухкомнатные и трехкомнатные квартиры, реже однокомнатные."
   ]
  },
  {
   "cell_type": "markdown",
   "metadata": {},
   "source": [
    "**Изучим высоту потолков**"
   ]
  },
  {
   "cell_type": "code",
   "execution_count": 70,
   "metadata": {},
   "outputs": [
    {
     "data": {
      "text/plain": [
       "count    2073.000000\n",
       "mean        2.864221\n",
       "std         0.296077\n",
       "min         2.400000\n",
       "25%         2.650000\n",
       "50%         2.700000\n",
       "75%         3.000000\n",
       "max         3.980000\n",
       "Name: ceiling_height, dtype: float64"
      ]
     },
     "execution_count": 70,
     "metadata": {},
     "output_type": "execute_result"
    }
   ],
   "source": [
    "df_piter_center['ceiling_height'].describe()"
   ]
  },
  {
   "cell_type": "code",
   "execution_count": 71,
   "metadata": {},
   "outputs": [
    {
     "data": {
      "text/plain": [
       "<AxesSubplot:ylabel='Frequency'>"
      ]
     },
     "execution_count": 71,
     "metadata": {},
     "output_type": "execute_result"
    },
    {
     "data": {
      "image/png": "[encoded data removed]",
      "text/plain": [
       "<Figure size 432x288 with 1 Axes>"
      ]
     },
     "metadata": {
      "needs_background": "light"
     },
     "output_type": "display_data"
    }
   ],
   "source": [
    "df_piter_center.plot(y='ceiling_height', kind='hist', grid=True, range=(2.25,4), bins=10)"
   ]
  },
  {
   "cell_type": "markdown",
   "metadata": {},
   "source": [
    "Медианная высота потолков 2,7м.  "
   ]
  },
  {
   "cell_type": "markdown",
   "metadata": {},
   "source": [
    "**Изучим факторы, влияющие на стоимость квартир**\n",
    "\n",
    "Проверим зависимость цены от числа комнат:"
   ]
  },
  {
   "cell_type": "code",
   "execution_count": 72,
   "metadata": {},
   "outputs": [
    {
     "data": {
      "text/plain": [
       "<AxesSubplot:xlabel='rooms', ylabel='last_price'>"
      ]
     },
     "execution_count": 72,
     "metadata": {},
     "output_type": "execute_result"
    },
    {
     "data": {
      "image/png": "[encoded data removed]",
      "text/plain": [
       "<Figure size 576x432 with 2 Axes>"
      ]
     },
     "metadata": {
      "needs_background": "light"
     },
     "output_type": "display_data"
    }
   ],
   "source": [
    "df_piter_center.plot(x='rooms', y='last_price', kind='hexbin', figsize=(8, 6), gridsize=20, sharex=False, grid=True)"
   ]
  },
  {
   "cell_type": "code",
   "execution_count": 73,
   "metadata": {},
   "outputs": [
    {
     "data": {
      "text/plain": [
       "0.4325474965012479"
      ]
     },
     "execution_count": 73,
     "metadata": {},
     "output_type": "execute_result"
    }
   ],
   "source": [
    "df_piter_center['last_price'].corr(df_piter_center['rooms'])"
   ]
  },
  {
   "cell_type": "markdown",
   "metadata": {},
   "source": [
    "Коэффициент корреляции 0,4. Зависимость есть.\n",
    "\n",
    "Проверим как влияет этаж квартиры на цену:"
   ]
  },
  {
   "cell_type": "code",
   "execution_count": 74,
   "metadata": {},
   "outputs": [
    {
     "data": {
      "text/plain": [
       "<AxesSubplot:xlabel='floor_flat'>"
      ]
     },
     "execution_count": 74,
     "metadata": {},
     "output_type": "execute_result"
    },
    {
     "data": {
      "image/png": "[encoded data removed]",
      "text/plain": [
       "<Figure size 432x288 with 1 Axes>"
      ]
     },
     "metadata": {
      "needs_background": "light"
     },
     "output_type": "display_data"
    }
   ],
   "source": [
    "df_piter_center.pivot_table(index=['floor_flat'],values='last_price', aggfunc='median').plot(grid=True)"
   ]
  },
  {
   "cell_type": "markdown",
   "metadata": {},
   "source": [
    "Стоимость квартир на первом этаже значительно ниже, чем на других и последнем.\n",
    "\n",
    "Проверим как влияет удаленность от центра:"
   ]
  },
  {
   "cell_type": "code",
   "execution_count": 75,
   "metadata": {},
   "outputs": [
    {
     "data": {
      "text/plain": [
       "<AxesSubplot:xlabel='city_centers_nearest_km', ylabel='last_price'>"
      ]
     },
     "execution_count": 75,
     "metadata": {},
     "output_type": "execute_result"
    },
    {
     "data": {
      "image/png": "[encoded data removed]",
      "text/plain": [
       "<Figure size 576x432 with 2 Axes>"
      ]
     },
     "metadata": {
      "needs_background": "light"
     },
     "output_type": "display_data"
    }
   ],
   "source": [
    "df_piter_center.plot(x='city_centers_nearest_km', y='last_price', kind='hexbin', figsize=(8, 6), gridsize=20, sharex=False, grid=True)"
   ]
  },
  {
   "cell_type": "code",
   "execution_count": 76,
   "metadata": {},
   "outputs": [
    {
     "data": {
      "text/plain": [
       "-0.11029917926621381"
      ]
     },
     "execution_count": 76,
     "metadata": {},
     "output_type": "execute_result"
    }
   ],
   "source": [
    "df_piter_center['last_price'].corr(df_piter_center['city_centers_nearest_km'])"
   ]
  },
  {
   "cell_type": "markdown",
   "metadata": {},
   "source": [
    "Коэффициент корреляции очень мал, Зависимость не наблюдается. Возможно, потому что мы рассмотриваем выборку квартир в самом центре.\n",
    "\n",
    "Проверим зависимость даты размещения от цены:"
   ]
  },
  {
   "cell_type": "code",
   "execution_count": 77,
   "metadata": {
    "scrolled": true
   },
   "outputs": [
    {
     "data": {
      "text/plain": [
       "<AxesSubplot:xlabel='year'>"
      ]
     },
     "execution_count": 77,
     "metadata": {},
     "output_type": "execute_result"
    },
    {
     "data": {
      "image/png": "[encoded data removed]",
      "text/plain": [
       "<Figure size 432x288 with 1 Axes>"
      ]
     },
     "metadata": {
      "needs_background": "light"
     },
     "output_type": "display_data"
    },
    {
     "data": {
      "image/png": "[encoded data removed]",
      "text/plain": [
       "<Figure size 432x288 with 1 Axes>"
      ]
     },
     "metadata": {
      "needs_background": "light"
     },
     "output_type": "display_data"
    },
    {
     "data": {
      "image/png": "[encoded data removed]",
      "text/plain": [
       "<Figure size 432x288 with 1 Axes>"
      ]
     },
     "metadata": {
      "needs_background": "light"
     },
     "output_type": "display_data"
    }
   ],
   "source": [
    "df_piter_center.pivot_table(index=['day_week'],values='last_price', aggfunc='median').plot(grid=True)\n",
    "df_piter_center.pivot_table(index=['month'],values='last_price', aggfunc='median').plot(grid=True)\n",
    "df_piter_center.pivot_table(index=['year'],values='last_price', aggfunc='median').plot(grid=True)"
   ]
  },
  {
   "cell_type": "markdown",
   "metadata": {},
   "source": [
    "Самые дешевые цены на квартиры публиковались в среду и субботу. Пик приходится на воскресенье.\n",
    "\n",
    "Дешевле всего квартиры стоят в декабре, самый \"дорогой\" месяц ноябрь.\n",
    "\n",
    "Цены с 2014 по 2015 год росли, а с 2015 года цена немного снижалась."
   ]
  },
  {
   "cell_type": "markdown",
   "metadata": {},
   "source": [
    "**Вывод**\n",
    "* медианная площадь квартир в центре Санкт-Петербурга больше, чем по общей базе (66,9м²/50м²);\n",
    "* медианная стоимость квартир в центре Санкт-Петербурга значительно выше общей базы (7,7млн рублей/4,4 млн рублей);\n",
    "* в центре Санкт-Петербурга больше продают двухкомнатные и трехкомнатные квартиры, в общей выборке однокомнатные и двухкомнатные;\n",
    "* высота потолков практически не отличается;\n",
    "* зависимость цены от числа комнат такая же как и у общей базы;\n",
    "* также совпали зависимости от этажа. Квартиры на первом этаже значительно дешевле.\n",
    "* влияние года на цену недвижимости сильно отличается. Квартиры в центре Сантк-Петербурга росли в цене с 2014 года, тем временем по общей базе цены начиная с 2014 года падали."
   ]
  },
  {
   "cell_type": "markdown",
   "metadata": {},
   "source": [
    "## Общий вывод"
   ]
  },
  {
   "cell_type": "markdown",
   "metadata": {},
   "source": [
    "На основании всех данных можно сделать вывод, что больше всего продаются 1-3 комнатные квартиры, на любом этаже, кроме первого, в диапазане цен от 3 до 5 млн рублей с высотой потолков 2,65м. \n",
    "\n",
    "Для определения рыночной стоимости квартир важны следующие параметры:\n",
    "* общая площадь квартиры;\n",
    "* удаленность от центра;\n",
    "* количество комнат;\n",
    "* этаж квартиры.\n",
    "\n"
   ]
  }
 ],
 "metadata": {
  "ExecuteTimeLog": [
   {
    "duration": 1246,
    "start_time": "2022-05-20T17:24:45.800Z"
   },
   {
    "duration": 132,
    "start_time": "2022-05-20T17:28:36.921Z"
   },
   {
    "duration": 20,
    "start_time": "2022-05-20T17:32:30.913Z"
   },
   {
    "duration": 61,
    "start_time": "2022-05-21T07:52:13.085Z"
   },
   {
    "duration": 6,
    "start_time": "2022-05-21T07:52:21.716Z"
   },
   {
    "duration": 1204,
    "start_time": "2022-05-21T07:52:35.316Z"
   },
   {
    "duration": 15,
    "start_time": "2022-05-21T07:52:36.522Z"
   },
   {
    "duration": 81,
    "start_time": "2022-05-21T07:52:36.538Z"
   },
   {
    "duration": 9,
    "start_time": "2022-05-21T08:54:51.412Z"
   },
   {
    "duration": 6,
    "start_time": "2022-05-21T08:57:19.773Z"
   },
   {
    "duration": 5,
    "start_time": "2022-05-21T09:00:46.175Z"
   },
   {
    "duration": 4,
    "start_time": "2022-05-21T09:01:34.188Z"
   },
   {
    "duration": 9,
    "start_time": "2022-05-21T09:02:19.818Z"
   },
   {
    "duration": 129,
    "start_time": "2022-05-21T09:02:36.803Z"
   },
   {
    "duration": 22,
    "start_time": "2022-05-21T09:02:36.934Z"
   },
   {
    "duration": 75,
    "start_time": "2022-05-21T09:02:36.958Z"
   },
   {
    "duration": 4,
    "start_time": "2022-05-21T09:02:37.034Z"
   },
   {
    "duration": 9,
    "start_time": "2022-05-21T09:02:37.053Z"
   },
   {
    "duration": 9,
    "start_time": "2022-05-21T09:02:37.063Z"
   },
   {
    "duration": 11,
    "start_time": "2022-05-21T09:02:37.074Z"
   },
   {
    "duration": 13,
    "start_time": "2022-05-21T09:28:59.254Z"
   },
   {
    "duration": 10,
    "start_time": "2022-05-21T09:29:15.978Z"
   },
   {
    "duration": 9,
    "start_time": "2022-05-21T09:30:23.100Z"
   },
   {
    "duration": 11,
    "start_time": "2022-05-21T09:41:15.625Z"
   },
   {
    "duration": 47,
    "start_time": "2022-05-21T09:41:36.789Z"
   },
   {
    "duration": 50,
    "start_time": "2022-05-21T09:42:09.226Z"
   },
   {
    "duration": 3,
    "start_time": "2022-05-21T09:42:14.373Z"
   },
   {
    "duration": 53,
    "start_time": "2022-05-21T09:45:19.885Z"
   },
   {
    "duration": 46,
    "start_time": "2022-05-21T09:45:33.990Z"
   },
   {
    "duration": 4,
    "start_time": "2022-05-21T09:45:49.101Z"
   },
   {
    "duration": 40,
    "start_time": "2022-05-21T09:46:12.768Z"
   },
   {
    "duration": 88,
    "start_time": "2022-05-21T09:46:31.687Z"
   },
   {
    "duration": 29,
    "start_time": "2022-05-21T09:50:17.927Z"
   },
   {
    "duration": 13,
    "start_time": "2022-05-21T09:50:46.829Z"
   },
   {
    "duration": 7,
    "start_time": "2022-05-21T09:51:07.879Z"
   },
   {
    "duration": 29,
    "start_time": "2022-05-21T10:32:07.923Z"
   },
   {
    "duration": 31,
    "start_time": "2022-05-21T10:32:36.961Z"
   },
   {
    "duration": 47,
    "start_time": "2022-05-21T10:32:50.004Z"
   },
   {
    "duration": 71,
    "start_time": "2022-05-21T10:33:05.165Z"
   },
   {
    "duration": 70,
    "start_time": "2022-05-21T10:33:34.593Z"
   },
   {
    "duration": 9,
    "start_time": "2022-05-21T10:34:06.599Z"
   },
   {
    "duration": 4,
    "start_time": "2022-05-21T10:36:21.203Z"
   },
   {
    "duration": 9,
    "start_time": "2022-05-21T10:39:11.089Z"
   },
   {
    "duration": 5,
    "start_time": "2022-05-21T10:40:31.667Z"
   },
   {
    "duration": 38,
    "start_time": "2022-05-21T10:55:58.374Z"
   },
   {
    "duration": 12,
    "start_time": "2022-05-21T10:56:19.215Z"
   },
   {
    "duration": 47,
    "start_time": "2022-05-21T10:57:00.362Z"
   },
   {
    "duration": 14,
    "start_time": "2022-05-21T10:59:14.229Z"
   },
   {
    "duration": 17,
    "start_time": "2022-05-21T11:00:42.434Z"
   },
   {
    "duration": 10,
    "start_time": "2022-05-21T11:01:19.369Z"
   },
   {
    "duration": 101,
    "start_time": "2022-05-21T11:01:55.970Z"
   },
   {
    "duration": 13,
    "start_time": "2022-05-21T11:01:56.073Z"
   },
   {
    "duration": 89,
    "start_time": "2022-05-21T11:01:56.088Z"
   },
   {
    "duration": 3,
    "start_time": "2022-05-21T11:01:56.179Z"
   },
   {
    "duration": 7,
    "start_time": "2022-05-21T11:01:56.184Z"
   },
   {
    "duration": 6,
    "start_time": "2022-05-21T11:01:56.193Z"
   },
   {
    "duration": 12,
    "start_time": "2022-05-21T11:01:56.200Z"
   },
   {
    "duration": 9,
    "start_time": "2022-05-21T11:01:56.213Z"
   },
   {
    "duration": 30,
    "start_time": "2022-05-21T11:01:56.224Z"
   },
   {
    "duration": 7,
    "start_time": "2022-05-21T11:01:56.255Z"
   },
   {
    "duration": 7,
    "start_time": "2022-05-21T11:01:56.263Z"
   },
   {
    "duration": 8,
    "start_time": "2022-05-21T11:01:56.272Z"
   },
   {
    "duration": 15,
    "start_time": "2022-05-21T11:01:56.282Z"
   },
   {
    "duration": 10,
    "start_time": "2022-05-21T11:01:56.299Z"
   },
   {
    "duration": 12,
    "start_time": "2022-05-21T11:04:25.870Z"
   },
   {
    "duration": 6,
    "start_time": "2022-05-21T11:38:17.190Z"
   },
   {
    "duration": 12,
    "start_time": "2022-05-21T11:38:53.260Z"
   },
   {
    "duration": 8,
    "start_time": "2022-05-21T11:47:12.898Z"
   },
   {
    "duration": 12,
    "start_time": "2022-05-21T11:49:31.573Z"
   },
   {
    "duration": 5,
    "start_time": "2022-05-21T11:49:46.108Z"
   },
   {
    "duration": 7,
    "start_time": "2022-05-21T11:55:23.805Z"
   },
   {
    "duration": 14,
    "start_time": "2022-05-21T11:55:40.160Z"
   },
   {
    "duration": 15,
    "start_time": "2022-05-21T11:55:49.963Z"
   },
   {
    "duration": 5,
    "start_time": "2022-05-21T11:56:31.061Z"
   },
   {
    "duration": 3,
    "start_time": "2022-05-21T11:57:18.708Z"
   },
   {
    "duration": 6,
    "start_time": "2022-05-21T12:00:37.102Z"
   },
   {
    "duration": 66,
    "start_time": "2022-05-21T14:24:04.597Z"
   },
   {
    "duration": 1385,
    "start_time": "2022-05-21T14:24:11.089Z"
   },
   {
    "duration": 13,
    "start_time": "2022-05-21T14:24:12.476Z"
   },
   {
    "duration": 79,
    "start_time": "2022-05-21T14:24:12.491Z"
   },
   {
    "duration": 4,
    "start_time": "2022-05-21T14:24:12.571Z"
   },
   {
    "duration": 10,
    "start_time": "2022-05-21T14:24:12.577Z"
   },
   {
    "duration": 7,
    "start_time": "2022-05-21T14:24:12.589Z"
   },
   {
    "duration": 37,
    "start_time": "2022-05-21T14:24:12.597Z"
   },
   {
    "duration": 14,
    "start_time": "2022-05-21T14:24:12.636Z"
   },
   {
    "duration": 7,
    "start_time": "2022-05-21T14:24:12.652Z"
   },
   {
    "duration": 9,
    "start_time": "2022-05-21T14:24:12.660Z"
   },
   {
    "duration": 8,
    "start_time": "2022-05-21T14:24:12.670Z"
   },
   {
    "duration": 6,
    "start_time": "2022-05-21T14:24:12.679Z"
   },
   {
    "duration": 5,
    "start_time": "2022-05-21T14:24:12.687Z"
   },
   {
    "duration": 5,
    "start_time": "2022-05-21T14:24:12.695Z"
   },
   {
    "duration": 11,
    "start_time": "2022-05-21T14:24:12.714Z"
   },
   {
    "duration": 13,
    "start_time": "2022-05-21T14:24:12.737Z"
   },
   {
    "duration": 1263,
    "start_time": "2022-05-23T06:03:28.082Z"
   },
   {
    "duration": 27,
    "start_time": "2022-05-23T06:03:29.347Z"
   },
   {
    "duration": 100,
    "start_time": "2022-05-23T06:03:29.384Z"
   },
   {
    "duration": 5,
    "start_time": "2022-05-23T06:03:29.488Z"
   },
   {
    "duration": 7,
    "start_time": "2022-05-23T06:03:29.494Z"
   },
   {
    "duration": 9,
    "start_time": "2022-05-23T06:03:29.503Z"
   },
   {
    "duration": 14,
    "start_time": "2022-05-23T06:03:29.513Z"
   },
   {
    "duration": 12,
    "start_time": "2022-05-23T06:03:29.528Z"
   },
   {
    "duration": 23,
    "start_time": "2022-05-23T06:03:29.542Z"
   },
   {
    "duration": 13,
    "start_time": "2022-05-23T06:03:29.568Z"
   },
   {
    "duration": 8,
    "start_time": "2022-05-23T06:03:29.584Z"
   },
   {
    "duration": 6,
    "start_time": "2022-05-23T06:03:29.594Z"
   },
   {
    "duration": 8,
    "start_time": "2022-05-23T06:03:29.602Z"
   },
   {
    "duration": 13,
    "start_time": "2022-05-23T06:03:29.612Z"
   },
   {
    "duration": 9,
    "start_time": "2022-05-23T06:03:29.627Z"
   },
   {
    "duration": 42,
    "start_time": "2022-05-23T06:03:29.638Z"
   },
   {
    "duration": 33,
    "start_time": "2022-05-23T06:19:19.362Z"
   },
   {
    "duration": 28,
    "start_time": "2022-05-23T06:20:58.758Z"
   },
   {
    "duration": 18,
    "start_time": "2022-05-23T06:21:57.106Z"
   },
   {
    "duration": 100,
    "start_time": "2022-05-23T06:23:33.606Z"
   },
   {
    "duration": 12,
    "start_time": "2022-05-23T06:26:57.182Z"
   },
   {
    "duration": 22,
    "start_time": "2022-05-23T06:27:08.384Z"
   },
   {
    "duration": 39,
    "start_time": "2022-05-23T06:28:10.883Z"
   },
   {
    "duration": 25,
    "start_time": "2022-05-23T06:28:22.278Z"
   },
   {
    "duration": 36,
    "start_time": "2022-05-23T06:30:42.000Z"
   },
   {
    "duration": 33,
    "start_time": "2022-05-23T06:31:05.262Z"
   },
   {
    "duration": 318,
    "start_time": "2022-05-23T06:45:59.805Z"
   },
   {
    "duration": 45,
    "start_time": "2022-05-23T07:00:48.261Z"
   },
   {
    "duration": 12,
    "start_time": "2022-05-23T07:06:36.221Z"
   },
   {
    "duration": 14,
    "start_time": "2022-05-23T07:06:42.394Z"
   },
   {
    "duration": 3,
    "start_time": "2022-05-23T07:08:55.854Z"
   },
   {
    "duration": 43,
    "start_time": "2022-05-23T07:10:36.552Z"
   },
   {
    "duration": 31,
    "start_time": "2022-05-23T07:11:26.616Z"
   },
   {
    "duration": 40,
    "start_time": "2022-05-23T07:11:48.894Z"
   },
   {
    "duration": 42,
    "start_time": "2022-05-23T07:12:01.498Z"
   },
   {
    "duration": 29,
    "start_time": "2022-05-23T07:12:09.908Z"
   },
   {
    "duration": 34,
    "start_time": "2022-05-23T07:12:27.021Z"
   },
   {
    "duration": 12,
    "start_time": "2022-05-23T07:25:48.389Z"
   },
   {
    "duration": 6,
    "start_time": "2022-05-23T07:26:01.484Z"
   },
   {
    "duration": 126,
    "start_time": "2022-05-23T07:27:41.178Z"
   },
   {
    "duration": 168,
    "start_time": "2022-05-23T07:28:15.754Z"
   },
   {
    "duration": 17,
    "start_time": "2022-05-23T07:28:15.924Z"
   },
   {
    "duration": 96,
    "start_time": "2022-05-23T07:28:15.943Z"
   },
   {
    "duration": 5,
    "start_time": "2022-05-23T07:28:16.040Z"
   },
   {
    "duration": 51,
    "start_time": "2022-05-23T07:28:16.046Z"
   },
   {
    "duration": 7,
    "start_time": "2022-05-23T07:28:16.099Z"
   },
   {
    "duration": 11,
    "start_time": "2022-05-23T07:28:16.108Z"
   },
   {
    "duration": 10,
    "start_time": "2022-05-23T07:28:16.121Z"
   },
   {
    "duration": 4,
    "start_time": "2022-05-23T07:28:16.133Z"
   },
   {
    "duration": 7,
    "start_time": "2022-05-23T07:28:16.139Z"
   },
   {
    "duration": 21,
    "start_time": "2022-05-23T07:28:16.148Z"
   },
   {
    "duration": 10,
    "start_time": "2022-05-23T07:28:16.174Z"
   },
   {
    "duration": 25,
    "start_time": "2022-05-23T07:28:16.186Z"
   },
   {
    "duration": 13,
    "start_time": "2022-05-23T07:28:16.213Z"
   },
   {
    "duration": 5,
    "start_time": "2022-05-23T07:28:16.228Z"
   },
   {
    "duration": 14,
    "start_time": "2022-05-23T07:28:16.235Z"
   },
   {
    "duration": 37,
    "start_time": "2022-05-23T07:28:16.251Z"
   },
   {
    "duration": 33,
    "start_time": "2022-05-23T07:28:16.346Z"
   },
   {
    "duration": 37,
    "start_time": "2022-05-23T07:28:16.381Z"
   },
   {
    "duration": 127,
    "start_time": "2022-05-23T07:28:16.420Z"
   },
   {
    "duration": 140,
    "start_time": "2022-05-23T07:29:15.320Z"
   },
   {
    "duration": 1127,
    "start_time": "2022-05-23T07:31:17.203Z"
   },
   {
    "duration": 629,
    "start_time": "2022-05-23T07:31:52.697Z"
   },
   {
    "duration": 336,
    "start_time": "2022-05-23T07:32:36.493Z"
   },
   {
    "duration": 25,
    "start_time": "2022-05-23T07:36:49.201Z"
   },
   {
    "duration": 40,
    "start_time": "2022-05-23T07:37:22.551Z"
   },
   {
    "duration": 28,
    "start_time": "2022-05-23T07:38:23.291Z"
   },
   {
    "duration": 28,
    "start_time": "2022-05-23T07:38:52.906Z"
   },
   {
    "duration": 31,
    "start_time": "2022-05-23T07:42:35.548Z"
   },
   {
    "duration": 578,
    "start_time": "2022-05-23T07:44:13.285Z"
   },
   {
    "duration": 9,
    "start_time": "2022-05-23T07:44:28.440Z"
   },
   {
    "duration": 5,
    "start_time": "2022-05-23T07:44:59.382Z"
   },
   {
    "duration": 25,
    "start_time": "2022-05-23T07:50:47.840Z"
   },
   {
    "duration": 455,
    "start_time": "2022-05-23T08:26:25.167Z"
   },
   {
    "duration": 157,
    "start_time": "2022-05-23T08:30:23.037Z"
   },
   {
    "duration": 163,
    "start_time": "2022-05-23T08:30:30.689Z"
   },
   {
    "duration": 251,
    "start_time": "2022-05-23T08:30:46.049Z"
   },
   {
    "duration": 157,
    "start_time": "2022-05-23T08:31:03.179Z"
   },
   {
    "duration": 141,
    "start_time": "2022-05-23T08:31:13.425Z"
   },
   {
    "duration": 11,
    "start_time": "2022-05-23T08:31:52.492Z"
   },
   {
    "duration": 9,
    "start_time": "2022-05-23T08:31:56.632Z"
   },
   {
    "duration": 9,
    "start_time": "2022-05-23T08:32:18.346Z"
   },
   {
    "duration": 145,
    "start_time": "2022-05-23T08:32:38.643Z"
   },
   {
    "duration": 155,
    "start_time": "2022-05-23T08:44:48.464Z"
   },
   {
    "duration": 148,
    "start_time": "2022-05-23T08:44:56.392Z"
   },
   {
    "duration": 153,
    "start_time": "2022-05-23T08:45:01.546Z"
   },
   {
    "duration": 10,
    "start_time": "2022-05-23T09:00:24.208Z"
   },
   {
    "duration": 124,
    "start_time": "2022-05-23T09:00:40.585Z"
   },
   {
    "duration": 114,
    "start_time": "2022-05-23T09:02:04.628Z"
   },
   {
    "duration": 124,
    "start_time": "2022-05-23T09:02:14.393Z"
   },
   {
    "duration": 125,
    "start_time": "2022-05-23T09:02:19.926Z"
   },
   {
    "duration": 125,
    "start_time": "2022-05-23T09:02:31.247Z"
   },
   {
    "duration": 22,
    "start_time": "2022-05-23T09:13:59.795Z"
   },
   {
    "duration": 5,
    "start_time": "2022-05-23T09:14:48.862Z"
   },
   {
    "duration": 8,
    "start_time": "2022-05-23T09:15:09.328Z"
   },
   {
    "duration": 3,
    "start_time": "2022-05-23T09:19:21.521Z"
   },
   {
    "duration": 8,
    "start_time": "2022-05-23T09:19:43.814Z"
   },
   {
    "duration": 15,
    "start_time": "2022-05-23T09:21:33.523Z"
   },
   {
    "duration": 8,
    "start_time": "2022-05-23T09:21:59.833Z"
   },
   {
    "duration": 9,
    "start_time": "2022-05-23T09:25:57.700Z"
   },
   {
    "duration": 9,
    "start_time": "2022-05-23T09:26:05.415Z"
   },
   {
    "duration": 9,
    "start_time": "2022-05-23T09:29:19.512Z"
   },
   {
    "duration": 26,
    "start_time": "2022-05-23T09:29:57.290Z"
   },
   {
    "duration": 203,
    "start_time": "2022-05-23T09:30:30.733Z"
   },
   {
    "duration": 25,
    "start_time": "2022-05-23T09:30:36.097Z"
   },
   {
    "duration": 11,
    "start_time": "2022-05-23T09:31:07.841Z"
   },
   {
    "duration": 13,
    "start_time": "2022-05-23T09:31:10.251Z"
   },
   {
    "duration": 31,
    "start_time": "2022-05-23T09:31:15.262Z"
   },
   {
    "duration": 136,
    "start_time": "2022-05-23T09:31:47.842Z"
   },
   {
    "duration": 15,
    "start_time": "2022-05-23T09:31:47.979Z"
   },
   {
    "duration": 92,
    "start_time": "2022-05-23T09:31:47.995Z"
   },
   {
    "duration": 5,
    "start_time": "2022-05-23T09:31:48.089Z"
   },
   {
    "duration": 8,
    "start_time": "2022-05-23T09:31:48.095Z"
   },
   {
    "duration": 5,
    "start_time": "2022-05-23T09:31:48.105Z"
   },
   {
    "duration": 12,
    "start_time": "2022-05-23T09:31:48.111Z"
   },
   {
    "duration": 9,
    "start_time": "2022-05-23T09:31:48.125Z"
   },
   {
    "duration": 31,
    "start_time": "2022-05-23T09:31:48.136Z"
   },
   {
    "duration": 24,
    "start_time": "2022-05-23T09:31:48.169Z"
   },
   {
    "duration": 6,
    "start_time": "2022-05-23T09:31:48.198Z"
   },
   {
    "duration": 11,
    "start_time": "2022-05-23T09:31:48.205Z"
   },
   {
    "duration": 9,
    "start_time": "2022-05-23T09:31:48.217Z"
   },
   {
    "duration": 10,
    "start_time": "2022-05-23T09:31:48.227Z"
   },
   {
    "duration": 5,
    "start_time": "2022-05-23T09:31:48.239Z"
   },
   {
    "duration": 11,
    "start_time": "2022-05-23T09:31:48.245Z"
   },
   {
    "duration": 32,
    "start_time": "2022-05-23T09:31:48.258Z"
   },
   {
    "duration": 25,
    "start_time": "2022-05-23T09:31:48.292Z"
   },
   {
    "duration": 59,
    "start_time": "2022-05-23T09:31:48.319Z"
   },
   {
    "duration": 338,
    "start_time": "2022-05-23T09:31:48.380Z"
   },
   {
    "duration": 25,
    "start_time": "2022-05-23T09:31:48.720Z"
   },
   {
    "duration": 176,
    "start_time": "2022-05-23T09:31:48.746Z"
   },
   {
    "duration": 12,
    "start_time": "2022-05-23T09:31:48.924Z"
   },
   {
    "duration": 171,
    "start_time": "2022-05-23T09:31:48.938Z"
   },
   {
    "duration": 3,
    "start_time": "2022-05-23T09:31:49.111Z"
   },
   {
    "duration": 138,
    "start_time": "2022-05-23T09:32:01.065Z"
   },
   {
    "duration": 34,
    "start_time": "2022-05-23T09:32:09.052Z"
   },
   {
    "duration": 157,
    "start_time": "2022-05-23T09:33:21.249Z"
   },
   {
    "duration": 167,
    "start_time": "2022-05-23T09:33:34.294Z"
   },
   {
    "duration": 257,
    "start_time": "2022-05-23T09:34:08.695Z"
   },
   {
    "duration": 159,
    "start_time": "2022-05-23T09:34:27.632Z"
   },
   {
    "duration": 122,
    "start_time": "2022-05-23T09:35:36.917Z"
   },
   {
    "duration": 26,
    "start_time": "2022-05-23T09:35:37.042Z"
   },
   {
    "duration": 79,
    "start_time": "2022-05-23T09:35:37.070Z"
   },
   {
    "duration": 22,
    "start_time": "2022-05-23T09:35:37.152Z"
   },
   {
    "duration": 11,
    "start_time": "2022-05-23T09:35:37.176Z"
   },
   {
    "duration": 5,
    "start_time": "2022-05-23T09:35:37.188Z"
   },
   {
    "duration": 12,
    "start_time": "2022-05-23T09:35:37.195Z"
   },
   {
    "duration": 9,
    "start_time": "2022-05-23T09:35:37.209Z"
   },
   {
    "duration": 4,
    "start_time": "2022-05-23T09:35:37.220Z"
   },
   {
    "duration": 6,
    "start_time": "2022-05-23T09:35:37.226Z"
   },
   {
    "duration": 5,
    "start_time": "2022-05-23T09:35:37.233Z"
   },
   {
    "duration": 34,
    "start_time": "2022-05-23T09:35:37.239Z"
   },
   {
    "duration": 9,
    "start_time": "2022-05-23T09:35:37.277Z"
   },
   {
    "duration": 7,
    "start_time": "2022-05-23T09:35:37.288Z"
   },
   {
    "duration": 5,
    "start_time": "2022-05-23T09:35:37.297Z"
   },
   {
    "duration": 12,
    "start_time": "2022-05-23T09:35:37.303Z"
   },
   {
    "duration": 22,
    "start_time": "2022-05-23T09:35:37.316Z"
   },
   {
    "duration": 53,
    "start_time": "2022-05-23T09:35:37.339Z"
   },
   {
    "duration": 37,
    "start_time": "2022-05-23T09:35:37.394Z"
   },
   {
    "duration": 346,
    "start_time": "2022-05-23T09:35:37.433Z"
   },
   {
    "duration": 26,
    "start_time": "2022-05-23T09:35:37.782Z"
   },
   {
    "duration": 177,
    "start_time": "2022-05-23T09:35:37.811Z"
   },
   {
    "duration": 9,
    "start_time": "2022-05-23T09:35:37.989Z"
   },
   {
    "duration": 134,
    "start_time": "2022-05-23T09:35:38.000Z"
   },
   {
    "duration": 133,
    "start_time": "2022-05-23T09:35:38.136Z"
   },
   {
    "duration": 27,
    "start_time": "2022-05-23T09:35:38.271Z"
   },
   {
    "duration": 167,
    "start_time": "2022-05-23T09:35:38.300Z"
   },
   {
    "duration": 137,
    "start_time": "2022-05-23T09:46:38.148Z"
   },
   {
    "duration": 14,
    "start_time": "2022-05-23T09:46:38.287Z"
   },
   {
    "duration": 196,
    "start_time": "2022-05-23T09:46:38.302Z"
   },
   {
    "duration": 4,
    "start_time": "2022-05-23T09:46:38.499Z"
   },
   {
    "duration": 8,
    "start_time": "2022-05-23T09:46:38.505Z"
   },
   {
    "duration": 5,
    "start_time": "2022-05-23T09:46:38.514Z"
   },
   {
    "duration": 11,
    "start_time": "2022-05-23T09:46:38.564Z"
   },
   {
    "duration": 10,
    "start_time": "2022-05-23T09:46:38.577Z"
   },
   {
    "duration": 13,
    "start_time": "2022-05-23T09:46:38.589Z"
   },
   {
    "duration": 8,
    "start_time": "2022-05-23T09:46:38.604Z"
   },
   {
    "duration": 4,
    "start_time": "2022-05-23T09:46:38.664Z"
   },
   {
    "duration": 6,
    "start_time": "2022-05-23T09:46:38.670Z"
   },
   {
    "duration": 7,
    "start_time": "2022-05-23T09:46:38.678Z"
   },
   {
    "duration": 5,
    "start_time": "2022-05-23T09:46:38.688Z"
   },
   {
    "duration": 4,
    "start_time": "2022-05-23T09:46:38.695Z"
   },
   {
    "duration": 9,
    "start_time": "2022-05-23T09:46:38.701Z"
   },
   {
    "duration": 62,
    "start_time": "2022-05-23T09:46:38.712Z"
   },
   {
    "duration": 27,
    "start_time": "2022-05-23T09:46:38.776Z"
   },
   {
    "duration": 91,
    "start_time": "2022-05-23T09:46:38.805Z"
   },
   {
    "duration": 433,
    "start_time": "2022-05-23T09:46:38.899Z"
   },
   {
    "duration": 34,
    "start_time": "2022-05-23T09:46:39.334Z"
   },
   {
    "duration": 145,
    "start_time": "2022-05-23T09:46:39.370Z"
   },
   {
    "duration": 9,
    "start_time": "2022-05-23T09:46:39.516Z"
   },
   {
    "duration": 141,
    "start_time": "2022-05-23T09:46:39.527Z"
   },
   {
    "duration": 3,
    "start_time": "2022-05-23T09:46:39.669Z"
   },
   {
    "duration": 27,
    "start_time": "2022-05-23T09:46:39.673Z"
   },
   {
    "duration": 2,
    "start_time": "2022-05-23T09:46:39.702Z"
   },
   {
    "duration": 116,
    "start_time": "2022-05-23T09:48:18.336Z"
   },
   {
    "duration": 30,
    "start_time": "2022-05-23T09:48:30.917Z"
   },
   {
    "duration": 120,
    "start_time": "2022-05-23T09:48:54.301Z"
   },
   {
    "duration": 1017,
    "start_time": "2022-05-23T10:00:14.932Z"
   },
   {
    "duration": 1390,
    "start_time": "2022-05-23T10:01:07.374Z"
   },
   {
    "duration": 111,
    "start_time": "2022-05-23T10:01:14.299Z"
   },
   {
    "duration": 14,
    "start_time": "2022-05-23T10:01:14.412Z"
   },
   {
    "duration": 98,
    "start_time": "2022-05-23T10:01:14.428Z"
   },
   {
    "duration": 5,
    "start_time": "2022-05-23T10:01:14.528Z"
   },
   {
    "duration": 10,
    "start_time": "2022-05-23T10:01:14.535Z"
   },
   {
    "duration": 18,
    "start_time": "2022-05-23T10:01:14.546Z"
   },
   {
    "duration": 10,
    "start_time": "2022-05-23T10:01:14.567Z"
   },
   {
    "duration": 12,
    "start_time": "2022-05-23T10:01:14.579Z"
   },
   {
    "duration": 3,
    "start_time": "2022-05-23T10:01:14.593Z"
   },
   {
    "duration": 15,
    "start_time": "2022-05-23T10:01:14.598Z"
   },
   {
    "duration": 5,
    "start_time": "2022-05-23T10:01:14.616Z"
   },
   {
    "duration": 12,
    "start_time": "2022-05-23T10:01:14.622Z"
   },
   {
    "duration": 9,
    "start_time": "2022-05-23T10:01:14.635Z"
   },
   {
    "duration": 6,
    "start_time": "2022-05-23T10:01:14.665Z"
   },
   {
    "duration": 5,
    "start_time": "2022-05-23T10:01:14.673Z"
   },
   {
    "duration": 10,
    "start_time": "2022-05-23T10:01:14.679Z"
   },
   {
    "duration": 21,
    "start_time": "2022-05-23T10:01:14.690Z"
   },
   {
    "duration": 59,
    "start_time": "2022-05-23T10:01:14.713Z"
   },
   {
    "duration": 34,
    "start_time": "2022-05-23T10:01:14.773Z"
   },
   {
    "duration": 337,
    "start_time": "2022-05-23T10:01:14.809Z"
   },
   {
    "duration": 34,
    "start_time": "2022-05-23T10:01:15.149Z"
   },
   {
    "duration": 162,
    "start_time": "2022-05-23T10:01:15.185Z"
   },
   {
    "duration": 21,
    "start_time": "2022-05-23T10:01:15.349Z"
   },
   {
    "duration": 146,
    "start_time": "2022-05-23T10:01:15.372Z"
   },
   {
    "duration": 676,
    "start_time": "2022-05-23T10:01:15.520Z"
   },
   {
    "duration": 1,
    "start_time": "2022-05-23T10:01:16.198Z"
   },
   {
    "duration": 0,
    "start_time": "2022-05-23T10:01:16.200Z"
   },
   {
    "duration": 1083,
    "start_time": "2022-05-23T10:01:46.921Z"
   },
   {
    "duration": 94,
    "start_time": "2022-05-23T10:04:53.012Z"
   },
   {
    "duration": 43,
    "start_time": "2022-05-23T10:05:06.743Z"
   },
   {
    "duration": 24,
    "start_time": "2022-05-23T10:05:46.342Z"
   },
   {
    "duration": 42,
    "start_time": "2022-05-23T10:09:33.737Z"
   },
   {
    "duration": 24,
    "start_time": "2022-05-23T10:09:38.467Z"
   },
   {
    "duration": 896,
    "start_time": "2022-05-23T10:10:07.191Z"
   },
   {
    "duration": 10,
    "start_time": "2022-05-23T10:11:11.104Z"
   },
   {
    "duration": 12,
    "start_time": "2022-05-23T10:11:28.870Z"
   },
   {
    "duration": 10,
    "start_time": "2022-05-23T10:11:31.205Z"
   },
   {
    "duration": 24,
    "start_time": "2022-05-23T10:20:10.838Z"
   },
   {
    "duration": 114,
    "start_time": "2022-05-23T10:20:33.231Z"
   },
   {
    "duration": 11,
    "start_time": "2022-05-23T10:22:09.031Z"
   },
   {
    "duration": 31,
    "start_time": "2022-05-23T10:22:17.594Z"
   },
   {
    "duration": 31,
    "start_time": "2022-05-23T10:22:34.353Z"
   },
   {
    "duration": 104,
    "start_time": "2022-05-23T10:22:44.875Z"
   },
   {
    "duration": 16,
    "start_time": "2022-05-23T10:22:44.981Z"
   },
   {
    "duration": 108,
    "start_time": "2022-05-23T10:22:44.998Z"
   },
   {
    "duration": 4,
    "start_time": "2022-05-23T10:22:45.109Z"
   },
   {
    "duration": 12,
    "start_time": "2022-05-23T10:22:45.115Z"
   },
   {
    "duration": 6,
    "start_time": "2022-05-23T10:22:45.129Z"
   },
   {
    "duration": 30,
    "start_time": "2022-05-23T10:22:45.137Z"
   },
   {
    "duration": 10,
    "start_time": "2022-05-23T10:22:45.169Z"
   },
   {
    "duration": 4,
    "start_time": "2022-05-23T10:22:45.181Z"
   },
   {
    "duration": 8,
    "start_time": "2022-05-23T10:22:45.188Z"
   },
   {
    "duration": 8,
    "start_time": "2022-05-23T10:22:45.197Z"
   },
   {
    "duration": 16,
    "start_time": "2022-05-23T10:22:45.207Z"
   },
   {
    "duration": 19,
    "start_time": "2022-05-23T10:22:45.225Z"
   },
   {
    "duration": 19,
    "start_time": "2022-05-23T10:22:45.246Z"
   },
   {
    "duration": 5,
    "start_time": "2022-05-23T10:22:45.266Z"
   },
   {
    "duration": 20,
    "start_time": "2022-05-23T10:22:45.273Z"
   },
   {
    "duration": 23,
    "start_time": "2022-05-23T10:22:45.295Z"
   },
   {
    "duration": 45,
    "start_time": "2022-05-23T10:22:45.320Z"
   },
   {
    "duration": 35,
    "start_time": "2022-05-23T10:22:45.366Z"
   },
   {
    "duration": 461,
    "start_time": "2022-05-23T10:22:45.403Z"
   },
   {
    "duration": 27,
    "start_time": "2022-05-23T10:22:45.865Z"
   },
   {
    "duration": 158,
    "start_time": "2022-05-23T10:22:45.894Z"
   },
   {
    "duration": 12,
    "start_time": "2022-05-23T10:22:46.054Z"
   },
   {
    "duration": 136,
    "start_time": "2022-05-23T10:22:46.067Z"
   },
   {
    "duration": 32,
    "start_time": "2022-05-23T10:22:46.204Z"
   },
   {
    "duration": 149,
    "start_time": "2022-05-23T10:25:14.709Z"
   },
   {
    "duration": 9,
    "start_time": "2022-05-23T10:27:27.960Z"
   },
   {
    "duration": 160,
    "start_time": "2022-05-23T10:27:37.771Z"
   },
   {
    "duration": 166,
    "start_time": "2022-05-23T10:27:52.998Z"
   },
   {
    "duration": 163,
    "start_time": "2022-05-23T10:28:00.982Z"
   },
   {
    "duration": 164,
    "start_time": "2022-05-23T10:28:15.378Z"
   },
   {
    "duration": 164,
    "start_time": "2022-05-23T10:28:21.623Z"
   },
   {
    "duration": 10,
    "start_time": "2022-05-23T10:34:23.000Z"
   },
   {
    "duration": 32,
    "start_time": "2022-05-23T10:38:01.365Z"
   },
   {
    "duration": 58,
    "start_time": "2022-05-23T10:42:04.225Z"
   },
   {
    "duration": 148,
    "start_time": "2022-05-23T10:43:19.812Z"
   },
   {
    "duration": 9,
    "start_time": "2022-05-23T10:43:58.139Z"
   },
   {
    "duration": 11,
    "start_time": "2022-05-23T10:47:58.147Z"
   },
   {
    "duration": 11,
    "start_time": "2022-05-23T10:48:29.644Z"
   },
   {
    "duration": 10,
    "start_time": "2022-05-23T10:48:40.247Z"
   },
   {
    "duration": 10,
    "start_time": "2022-05-23T10:48:46.679Z"
   },
   {
    "duration": 10,
    "start_time": "2022-05-23T10:50:10.313Z"
   },
   {
    "duration": 117,
    "start_time": "2022-05-23T10:51:05.632Z"
   },
   {
    "duration": 15,
    "start_time": "2022-05-23T10:51:05.764Z"
   },
   {
    "duration": 87,
    "start_time": "2022-05-23T10:51:05.781Z"
   },
   {
    "duration": 5,
    "start_time": "2022-05-23T10:51:05.870Z"
   },
   {
    "duration": 9,
    "start_time": "2022-05-23T10:51:05.877Z"
   },
   {
    "duration": 11,
    "start_time": "2022-05-23T10:51:05.888Z"
   },
   {
    "duration": 14,
    "start_time": "2022-05-23T10:51:05.901Z"
   },
   {
    "duration": 11,
    "start_time": "2022-05-23T10:51:05.916Z"
   },
   {
    "duration": 4,
    "start_time": "2022-05-23T10:51:05.929Z"
   },
   {
    "duration": 7,
    "start_time": "2022-05-23T10:51:05.966Z"
   },
   {
    "duration": 14,
    "start_time": "2022-05-23T10:51:05.974Z"
   },
   {
    "duration": 14,
    "start_time": "2022-05-23T10:51:05.990Z"
   },
   {
    "duration": 10,
    "start_time": "2022-05-23T10:51:06.006Z"
   },
   {
    "duration": 9,
    "start_time": "2022-05-23T10:51:06.018Z"
   },
   {
    "duration": 10,
    "start_time": "2022-05-23T10:51:06.029Z"
   },
   {
    "duration": 13,
    "start_time": "2022-05-23T10:51:06.041Z"
   },
   {
    "duration": 31,
    "start_time": "2022-05-23T10:51:06.056Z"
   },
   {
    "duration": 28,
    "start_time": "2022-05-23T10:51:06.088Z"
   },
   {
    "duration": 48,
    "start_time": "2022-05-23T10:51:06.118Z"
   },
   {
    "duration": 315,
    "start_time": "2022-05-23T10:51:06.167Z"
   },
   {
    "duration": 29,
    "start_time": "2022-05-23T10:51:06.484Z"
   },
   {
    "duration": 155,
    "start_time": "2022-05-23T10:51:06.515Z"
   },
   {
    "duration": 9,
    "start_time": "2022-05-23T10:51:06.671Z"
   },
   {
    "duration": 141,
    "start_time": "2022-05-23T10:51:06.682Z"
   },
   {
    "duration": 170,
    "start_time": "2022-05-23T10:51:06.825Z"
   },
   {
    "duration": 9,
    "start_time": "2022-05-23T10:51:06.997Z"
   },
   {
    "duration": 14,
    "start_time": "2022-05-23T10:51:07.008Z"
   },
   {
    "duration": 11,
    "start_time": "2022-05-23T10:51:32.307Z"
   },
   {
    "duration": 5,
    "start_time": "2022-05-23T10:51:40.747Z"
   },
   {
    "duration": 10,
    "start_time": "2022-05-23T10:52:27.952Z"
   },
   {
    "duration": 11,
    "start_time": "2022-05-23T10:53:51.331Z"
   },
   {
    "duration": 10,
    "start_time": "2022-05-23T10:53:53.917Z"
   },
   {
    "duration": 15,
    "start_time": "2022-05-23T10:54:26.474Z"
   },
   {
    "duration": 20,
    "start_time": "2022-05-23T10:56:10.668Z"
   },
   {
    "duration": 11,
    "start_time": "2022-05-23T10:56:31.442Z"
   },
   {
    "duration": 10,
    "start_time": "2022-05-23T10:56:46.962Z"
   },
   {
    "duration": 135,
    "start_time": "2022-05-23T10:57:29.555Z"
   },
   {
    "duration": 149,
    "start_time": "2022-05-23T10:57:47.563Z"
   },
   {
    "duration": 47,
    "start_time": "2022-05-23T10:58:36.147Z"
   },
   {
    "duration": 156,
    "start_time": "2022-05-23T10:58:45.869Z"
   },
   {
    "duration": 145,
    "start_time": "2022-05-23T10:59:28.273Z"
   },
   {
    "duration": 155,
    "start_time": "2022-05-23T10:59:35.832Z"
   },
   {
    "duration": 138,
    "start_time": "2022-05-23T10:59:48.106Z"
   },
   {
    "duration": 144,
    "start_time": "2022-05-23T10:59:56.664Z"
   },
   {
    "duration": 177,
    "start_time": "2022-05-23T11:00:02.164Z"
   },
   {
    "duration": 151,
    "start_time": "2022-05-23T11:01:08.200Z"
   },
   {
    "duration": 11,
    "start_time": "2022-05-23T11:03:11.240Z"
   },
   {
    "duration": 11,
    "start_time": "2022-05-23T11:06:21.260Z"
   },
   {
    "duration": 11,
    "start_time": "2022-05-23T11:06:34.085Z"
   },
   {
    "duration": 12,
    "start_time": "2022-05-23T11:08:08.587Z"
   },
   {
    "duration": 479,
    "start_time": "2022-05-23T11:13:10.443Z"
   },
   {
    "duration": 160,
    "start_time": "2022-05-23T11:13:17.294Z"
   },
   {
    "duration": 143,
    "start_time": "2022-05-23T11:13:28.103Z"
   },
   {
    "duration": 304,
    "start_time": "2022-05-23T11:13:33.788Z"
   },
   {
    "duration": 351,
    "start_time": "2022-05-23T11:13:48.747Z"
   },
   {
    "duration": 1175,
    "start_time": "2022-05-24T05:56:08.625Z"
   },
   {
    "duration": 14,
    "start_time": "2022-05-24T05:56:09.802Z"
   },
   {
    "duration": 67,
    "start_time": "2022-05-24T05:56:09.817Z"
   },
   {
    "duration": 4,
    "start_time": "2022-05-24T05:56:09.886Z"
   },
   {
    "duration": 8,
    "start_time": "2022-05-24T05:56:09.891Z"
   },
   {
    "duration": 5,
    "start_time": "2022-05-24T05:56:09.900Z"
   },
   {
    "duration": 11,
    "start_time": "2022-05-24T05:56:09.906Z"
   },
   {
    "duration": 13,
    "start_time": "2022-05-24T05:56:09.918Z"
   },
   {
    "duration": 5,
    "start_time": "2022-05-24T05:56:09.932Z"
   },
   {
    "duration": 17,
    "start_time": "2022-05-24T05:56:09.940Z"
   },
   {
    "duration": 6,
    "start_time": "2022-05-24T05:56:09.959Z"
   },
   {
    "duration": 7,
    "start_time": "2022-05-24T05:56:09.967Z"
   },
   {
    "duration": 8,
    "start_time": "2022-05-24T05:56:09.975Z"
   },
   {
    "duration": 6,
    "start_time": "2022-05-24T05:56:09.984Z"
   },
   {
    "duration": 6,
    "start_time": "2022-05-24T05:56:09.991Z"
   },
   {
    "duration": 8,
    "start_time": "2022-05-24T05:56:09.999Z"
   },
   {
    "duration": 40,
    "start_time": "2022-05-24T05:56:10.009Z"
   },
   {
    "duration": 26,
    "start_time": "2022-05-24T05:56:10.050Z"
   },
   {
    "duration": 29,
    "start_time": "2022-05-24T05:56:10.077Z"
   },
   {
    "duration": 299,
    "start_time": "2022-05-24T05:56:10.107Z"
   },
   {
    "duration": 27,
    "start_time": "2022-05-24T05:56:10.408Z"
   },
   {
    "duration": 143,
    "start_time": "2022-05-24T05:56:10.437Z"
   },
   {
    "duration": 8,
    "start_time": "2022-05-24T05:56:10.582Z"
   },
   {
    "duration": 124,
    "start_time": "2022-05-24T05:56:10.592Z"
   },
   {
    "duration": 141,
    "start_time": "2022-05-24T05:56:10.718Z"
   },
   {
    "duration": 7,
    "start_time": "2022-05-24T05:56:10.861Z"
   },
   {
    "duration": 10,
    "start_time": "2022-05-24T05:56:18.945Z"
   },
   {
    "duration": 253,
    "start_time": "2022-05-24T05:59:24.257Z"
   },
   {
    "duration": 348,
    "start_time": "2022-05-24T06:00:05.442Z"
   },
   {
    "duration": 116,
    "start_time": "2022-05-24T06:01:38.297Z"
   },
   {
    "duration": 116,
    "start_time": "2022-05-24T06:13:19.161Z"
   },
   {
    "duration": 13,
    "start_time": "2022-05-24T06:13:19.280Z"
   },
   {
    "duration": 97,
    "start_time": "2022-05-24T06:13:19.295Z"
   },
   {
    "duration": 4,
    "start_time": "2022-05-24T06:13:19.394Z"
   },
   {
    "duration": 9,
    "start_time": "2022-05-24T06:13:19.399Z"
   },
   {
    "duration": 12,
    "start_time": "2022-05-24T06:13:19.409Z"
   },
   {
    "duration": 27,
    "start_time": "2022-05-24T06:13:19.427Z"
   },
   {
    "duration": 11,
    "start_time": "2022-05-24T06:13:19.456Z"
   },
   {
    "duration": 4,
    "start_time": "2022-05-24T06:13:19.469Z"
   },
   {
    "duration": 11,
    "start_time": "2022-05-24T06:13:19.476Z"
   },
   {
    "duration": 6,
    "start_time": "2022-05-24T06:13:19.489Z"
   },
   {
    "duration": 6,
    "start_time": "2022-05-24T06:13:19.497Z"
   },
   {
    "duration": 6,
    "start_time": "2022-05-24T06:13:19.505Z"
   },
   {
    "duration": 23,
    "start_time": "2022-05-24T06:13:19.513Z"
   },
   {
    "duration": 21,
    "start_time": "2022-05-24T06:13:19.537Z"
   },
   {
    "duration": 14,
    "start_time": "2022-05-24T06:13:19.559Z"
   },
   {
    "duration": 20,
    "start_time": "2022-05-24T06:13:19.575Z"
   },
   {
    "duration": 24,
    "start_time": "2022-05-24T06:13:19.596Z"
   },
   {
    "duration": 34,
    "start_time": "2022-05-24T06:13:19.621Z"
   },
   {
    "duration": 357,
    "start_time": "2022-05-24T06:13:19.656Z"
   },
   {
    "duration": 42,
    "start_time": "2022-05-24T06:13:20.015Z"
   },
   {
    "duration": 180,
    "start_time": "2022-05-24T06:13:20.059Z"
   },
   {
    "duration": 9,
    "start_time": "2022-05-24T06:13:20.241Z"
   },
   {
    "duration": 153,
    "start_time": "2022-05-24T06:13:20.253Z"
   },
   {
    "duration": 197,
    "start_time": "2022-05-24T06:13:20.408Z"
   },
   {
    "duration": 41,
    "start_time": "2022-05-24T06:13:20.607Z"
   },
   {
    "duration": 13,
    "start_time": "2022-05-24T06:13:20.649Z"
   },
   {
    "duration": 185,
    "start_time": "2022-05-24T06:13:20.666Z"
   },
   {
    "duration": 391,
    "start_time": "2022-05-24T06:13:20.853Z"
   },
   {
    "duration": 269,
    "start_time": "2022-05-24T06:14:15.572Z"
   },
   {
    "duration": 131,
    "start_time": "2022-05-24T06:14:28.328Z"
   },
   {
    "duration": 10,
    "start_time": "2022-05-24T06:15:14.961Z"
   },
   {
    "duration": 9,
    "start_time": "2022-05-24T06:15:20.408Z"
   },
   {
    "duration": 9,
    "start_time": "2022-05-24T06:15:25.398Z"
   },
   {
    "duration": 112,
    "start_time": "2022-05-24T06:15:29.241Z"
   },
   {
    "duration": 15,
    "start_time": "2022-05-24T06:15:29.356Z"
   },
   {
    "duration": 86,
    "start_time": "2022-05-24T06:15:29.372Z"
   },
   {
    "duration": 4,
    "start_time": "2022-05-24T06:15:29.460Z"
   },
   {
    "duration": 7,
    "start_time": "2022-05-24T06:15:29.467Z"
   },
   {
    "duration": 11,
    "start_time": "2022-05-24T06:15:29.476Z"
   },
   {
    "duration": 29,
    "start_time": "2022-05-24T06:15:29.489Z"
   },
   {
    "duration": 14,
    "start_time": "2022-05-24T06:15:29.519Z"
   },
   {
    "duration": 4,
    "start_time": "2022-05-24T06:15:29.534Z"
   },
   {
    "duration": 16,
    "start_time": "2022-05-24T06:15:29.539Z"
   },
   {
    "duration": 11,
    "start_time": "2022-05-24T06:15:29.556Z"
   },
   {
    "duration": 10,
    "start_time": "2022-05-24T06:15:29.569Z"
   },
   {
    "duration": 9,
    "start_time": "2022-05-24T06:15:29.581Z"
   },
   {
    "duration": 18,
    "start_time": "2022-05-24T06:15:29.604Z"
   },
   {
    "duration": 10,
    "start_time": "2022-05-24T06:15:29.624Z"
   },
   {
    "duration": 13,
    "start_time": "2022-05-24T06:15:29.636Z"
   },
   {
    "duration": 21,
    "start_time": "2022-05-24T06:15:29.651Z"
   },
   {
    "duration": 25,
    "start_time": "2022-05-24T06:15:29.673Z"
   },
   {
    "duration": 42,
    "start_time": "2022-05-24T06:15:29.700Z"
   },
   {
    "duration": 289,
    "start_time": "2022-05-24T06:15:29.743Z"
   },
   {
    "duration": 24,
    "start_time": "2022-05-24T06:15:30.034Z"
   },
   {
    "duration": 147,
    "start_time": "2022-05-24T06:15:30.060Z"
   },
   {
    "duration": 9,
    "start_time": "2022-05-24T06:15:30.208Z"
   },
   {
    "duration": 129,
    "start_time": "2022-05-24T06:15:30.218Z"
   },
   {
    "duration": 147,
    "start_time": "2022-05-24T06:15:30.349Z"
   },
   {
    "duration": 8,
    "start_time": "2022-05-24T06:15:30.498Z"
   },
   {
    "duration": 27,
    "start_time": "2022-05-24T06:15:30.508Z"
   },
   {
    "duration": 137,
    "start_time": "2022-05-24T06:15:30.537Z"
   },
   {
    "duration": 213,
    "start_time": "2022-05-24T06:15:30.676Z"
   },
   {
    "duration": 113,
    "start_time": "2022-05-24T06:16:11.782Z"
   },
   {
    "duration": 102,
    "start_time": "2022-05-24T06:16:38.401Z"
   },
   {
    "duration": 103,
    "start_time": "2022-05-24T06:17:09.066Z"
   },
   {
    "duration": 106,
    "start_time": "2022-05-24T06:17:15.085Z"
   },
   {
    "duration": 115,
    "start_time": "2022-05-24T06:17:23.523Z"
   },
   {
    "duration": 105,
    "start_time": "2022-05-24T06:17:37.818Z"
   },
   {
    "duration": 122,
    "start_time": "2022-05-24T06:18:11.681Z"
   },
   {
    "duration": 126,
    "start_time": "2022-05-24T06:18:15.809Z"
   },
   {
    "duration": 77,
    "start_time": "2022-05-24T06:30:41.141Z"
   },
   {
    "duration": 16,
    "start_time": "2022-05-24T06:30:49.734Z"
   },
   {
    "duration": 121,
    "start_time": "2022-05-24T06:31:40.548Z"
   },
   {
    "duration": 138,
    "start_time": "2022-05-24T06:31:54.863Z"
   },
   {
    "duration": 142,
    "start_time": "2022-05-24T06:32:03.336Z"
   },
   {
    "duration": 255,
    "start_time": "2022-05-24T06:32:09.835Z"
   },
   {
    "duration": 329,
    "start_time": "2022-05-24T06:32:23.717Z"
   },
   {
    "duration": 132,
    "start_time": "2022-05-24T06:32:30.007Z"
   },
   {
    "duration": 131,
    "start_time": "2022-05-24T06:32:45.161Z"
   },
   {
    "duration": 135,
    "start_time": "2022-05-24T06:32:57.934Z"
   },
   {
    "duration": 136,
    "start_time": "2022-05-24T06:33:05.611Z"
   },
   {
    "duration": 163,
    "start_time": "2022-05-24T06:33:13.797Z"
   },
   {
    "duration": 170,
    "start_time": "2022-05-24T06:33:28.824Z"
   },
   {
    "duration": 15,
    "start_time": "2022-05-24T06:35:07.775Z"
   },
   {
    "duration": 184,
    "start_time": "2022-05-24T06:35:17.191Z"
   },
   {
    "duration": 174,
    "start_time": "2022-05-24T06:35:32.198Z"
   },
   {
    "duration": 162,
    "start_time": "2022-05-24T06:35:39.201Z"
   },
   {
    "duration": 166,
    "start_time": "2022-05-24T06:37:12.465Z"
   },
   {
    "duration": 399,
    "start_time": "2022-05-24T06:37:22.911Z"
   },
   {
    "duration": 169,
    "start_time": "2022-05-24T06:37:32.811Z"
   },
   {
    "duration": 164,
    "start_time": "2022-05-24T06:37:39.860Z"
   },
   {
    "duration": 9,
    "start_time": "2022-05-24T06:43:29.326Z"
   },
   {
    "duration": 116,
    "start_time": "2022-05-24T06:44:43.158Z"
   },
   {
    "duration": 17,
    "start_time": "2022-05-24T06:44:43.276Z"
   },
   {
    "duration": 85,
    "start_time": "2022-05-24T06:44:43.294Z"
   },
   {
    "duration": 4,
    "start_time": "2022-05-24T06:44:43.380Z"
   },
   {
    "duration": 9,
    "start_time": "2022-05-24T06:44:43.386Z"
   },
   {
    "duration": 9,
    "start_time": "2022-05-24T06:44:43.397Z"
   },
   {
    "duration": 11,
    "start_time": "2022-05-24T06:44:43.407Z"
   },
   {
    "duration": 9,
    "start_time": "2022-05-24T06:44:43.427Z"
   },
   {
    "duration": 3,
    "start_time": "2022-05-24T06:44:43.437Z"
   },
   {
    "duration": 8,
    "start_time": "2022-05-24T06:44:43.441Z"
   },
   {
    "duration": 6,
    "start_time": "2022-05-24T06:44:43.450Z"
   },
   {
    "duration": 9,
    "start_time": "2022-05-24T06:44:43.458Z"
   },
   {
    "duration": 9,
    "start_time": "2022-05-24T06:44:43.469Z"
   },
   {
    "duration": 8,
    "start_time": "2022-05-24T06:44:43.481Z"
   },
   {
    "duration": 5,
    "start_time": "2022-05-24T06:44:43.490Z"
   },
   {
    "duration": 32,
    "start_time": "2022-05-24T06:44:43.497Z"
   },
   {
    "duration": 21,
    "start_time": "2022-05-24T06:44:43.531Z"
   },
   {
    "duration": 29,
    "start_time": "2022-05-24T06:44:43.554Z"
   },
   {
    "duration": 54,
    "start_time": "2022-05-24T06:44:43.584Z"
   },
   {
    "duration": 292,
    "start_time": "2022-05-24T06:44:43.640Z"
   },
   {
    "duration": 26,
    "start_time": "2022-05-24T06:44:43.933Z"
   },
   {
    "duration": 144,
    "start_time": "2022-05-24T06:44:43.960Z"
   },
   {
    "duration": 10,
    "start_time": "2022-05-24T06:44:44.106Z"
   },
   {
    "duration": 117,
    "start_time": "2022-05-24T06:44:44.128Z"
   },
   {
    "duration": 155,
    "start_time": "2022-05-24T06:44:44.247Z"
   },
   {
    "duration": 10,
    "start_time": "2022-05-24T06:44:44.404Z"
   },
   {
    "duration": 19,
    "start_time": "2022-05-24T06:44:44.415Z"
   },
   {
    "duration": 121,
    "start_time": "2022-05-24T06:44:44.436Z"
   },
   {
    "duration": 16,
    "start_time": "2022-05-24T06:44:44.558Z"
   },
   {
    "duration": 171,
    "start_time": "2022-05-24T06:44:44.575Z"
   },
   {
    "duration": 8,
    "start_time": "2022-05-24T06:44:44.747Z"
   },
   {
    "duration": 9,
    "start_time": "2022-05-24T06:45:20.644Z"
   },
   {
    "duration": 123,
    "start_time": "2022-05-24T06:45:29.344Z"
   },
   {
    "duration": 14,
    "start_time": "2022-05-24T06:45:29.469Z"
   },
   {
    "duration": 89,
    "start_time": "2022-05-24T06:45:29.484Z"
   },
   {
    "duration": 4,
    "start_time": "2022-05-24T06:45:29.575Z"
   },
   {
    "duration": 7,
    "start_time": "2022-05-24T06:45:29.581Z"
   },
   {
    "duration": 6,
    "start_time": "2022-05-24T06:45:29.589Z"
   },
   {
    "duration": 18,
    "start_time": "2022-05-24T06:45:29.597Z"
   },
   {
    "duration": 30,
    "start_time": "2022-05-24T06:45:29.617Z"
   },
   {
    "duration": 4,
    "start_time": "2022-05-24T06:45:29.649Z"
   },
   {
    "duration": 13,
    "start_time": "2022-05-24T06:45:29.654Z"
   },
   {
    "duration": 6,
    "start_time": "2022-05-24T06:45:29.668Z"
   },
   {
    "duration": 9,
    "start_time": "2022-05-24T06:45:29.676Z"
   },
   {
    "duration": 7,
    "start_time": "2022-05-24T06:45:29.687Z"
   },
   {
    "duration": 6,
    "start_time": "2022-05-24T06:45:29.697Z"
   },
   {
    "duration": 6,
    "start_time": "2022-05-24T06:45:29.704Z"
   },
   {
    "duration": 28,
    "start_time": "2022-05-24T06:45:29.711Z"
   },
   {
    "duration": 21,
    "start_time": "2022-05-24T06:45:29.741Z"
   },
   {
    "duration": 25,
    "start_time": "2022-05-24T06:45:29.764Z"
   },
   {
    "duration": 53,
    "start_time": "2022-05-24T06:45:29.791Z"
   },
   {
    "duration": 457,
    "start_time": "2022-05-24T06:45:29.846Z"
   },
   {
    "duration": 38,
    "start_time": "2022-05-24T06:45:30.305Z"
   },
   {
    "duration": 152,
    "start_time": "2022-05-24T06:45:30.344Z"
   },
   {
    "duration": 9,
    "start_time": "2022-05-24T06:45:30.498Z"
   },
   {
    "duration": 142,
    "start_time": "2022-05-24T06:45:30.508Z"
   },
   {
    "duration": 176,
    "start_time": "2022-05-24T06:45:30.651Z"
   },
   {
    "duration": 13,
    "start_time": "2022-05-24T06:45:30.830Z"
   },
   {
    "duration": 29,
    "start_time": "2022-05-24T06:45:30.845Z"
   },
   {
    "duration": 148,
    "start_time": "2022-05-24T06:45:30.875Z"
   },
   {
    "duration": 21,
    "start_time": "2022-05-24T06:45:31.026Z"
   },
   {
    "duration": 202,
    "start_time": "2022-05-24T06:45:31.049Z"
   },
   {
    "duration": 9,
    "start_time": "2022-05-24T06:45:31.253Z"
   },
   {
    "duration": 9,
    "start_time": "2022-05-24T06:46:30.594Z"
   },
   {
    "duration": 8,
    "start_time": "2022-05-24T06:46:54.664Z"
   },
   {
    "duration": 169,
    "start_time": "2022-05-24T06:48:00.751Z"
   },
   {
    "duration": 169,
    "start_time": "2022-05-24T06:48:12.518Z"
   },
   {
    "duration": 148,
    "start_time": "2022-05-24T06:48:28.533Z"
   },
   {
    "duration": 128,
    "start_time": "2022-05-24T06:50:46.118Z"
   },
   {
    "duration": 14,
    "start_time": "2022-05-24T06:52:39.804Z"
   },
   {
    "duration": 9,
    "start_time": "2022-05-24T06:57:12.547Z"
   },
   {
    "duration": 115,
    "start_time": "2022-05-24T06:59:17.280Z"
   },
   {
    "duration": 127,
    "start_time": "2022-05-24T06:59:32.900Z"
   },
   {
    "duration": 97,
    "start_time": "2022-05-24T06:59:41.114Z"
   },
   {
    "duration": 145,
    "start_time": "2022-05-24T06:59:57.226Z"
   },
   {
    "duration": 16,
    "start_time": "2022-05-24T07:04:49.450Z"
   },
   {
    "duration": 179,
    "start_time": "2022-05-24T07:06:05.448Z"
   },
   {
    "duration": 148,
    "start_time": "2022-05-24T07:06:19.555Z"
   },
   {
    "duration": 163,
    "start_time": "2022-05-24T07:06:24.100Z"
   },
   {
    "duration": 165,
    "start_time": "2022-05-24T07:06:30.536Z"
   },
   {
    "duration": 175,
    "start_time": "2022-05-24T07:06:46.025Z"
   },
   {
    "duration": 177,
    "start_time": "2022-05-24T07:06:52.558Z"
   },
   {
    "duration": 311,
    "start_time": "2022-05-24T07:06:57.946Z"
   },
   {
    "duration": 176,
    "start_time": "2022-05-24T07:07:11.483Z"
   },
   {
    "duration": 217,
    "start_time": "2022-05-24T07:07:26.183Z"
   },
   {
    "duration": 166,
    "start_time": "2022-05-24T07:07:46.579Z"
   },
   {
    "duration": 168,
    "start_time": "2022-05-24T07:07:54.903Z"
   },
   {
    "duration": 9,
    "start_time": "2022-05-24T07:54:18.134Z"
   },
   {
    "duration": 175,
    "start_time": "2022-05-24T08:01:58.948Z"
   },
   {
    "duration": 272,
    "start_time": "2022-05-24T08:02:07.705Z"
   },
   {
    "duration": 129,
    "start_time": "2022-05-24T08:03:17.821Z"
   },
   {
    "duration": 126,
    "start_time": "2022-05-24T08:03:31.100Z"
   },
   {
    "duration": 159,
    "start_time": "2022-05-24T08:03:46.368Z"
   },
   {
    "duration": 126,
    "start_time": "2022-05-24T08:03:53.425Z"
   },
   {
    "duration": 111,
    "start_time": "2022-05-24T08:04:00.736Z"
   },
   {
    "duration": 121,
    "start_time": "2022-05-24T08:04:14.790Z"
   },
   {
    "duration": 121,
    "start_time": "2022-05-24T08:04:22.356Z"
   },
   {
    "duration": 368,
    "start_time": "2022-05-24T08:04:36.113Z"
   },
   {
    "duration": 291,
    "start_time": "2022-05-24T08:18:05.732Z"
   },
   {
    "duration": 363,
    "start_time": "2022-05-24T08:18:15.706Z"
   },
   {
    "duration": 239,
    "start_time": "2022-05-24T08:18:30.443Z"
   },
   {
    "duration": 247,
    "start_time": "2022-05-24T08:18:59.127Z"
   },
   {
    "duration": 275,
    "start_time": "2022-05-24T08:19:13.507Z"
   },
   {
    "duration": 235,
    "start_time": "2022-05-24T08:19:25.764Z"
   },
   {
    "duration": 455,
    "start_time": "2022-05-24T08:19:43.381Z"
   },
   {
    "duration": 307,
    "start_time": "2022-05-24T08:19:50.845Z"
   },
   {
    "duration": 338,
    "start_time": "2022-05-24T08:21:40.049Z"
   },
   {
    "duration": 278,
    "start_time": "2022-05-24T08:58:13.495Z"
   },
   {
    "duration": 42,
    "start_time": "2022-05-24T09:02:41.767Z"
   },
   {
    "duration": 26,
    "start_time": "2022-05-24T09:02:45.178Z"
   },
   {
    "duration": 8,
    "start_time": "2022-05-24T09:02:54.103Z"
   },
   {
    "duration": 507,
    "start_time": "2022-05-24T09:09:14.736Z"
   },
   {
    "duration": 279,
    "start_time": "2022-05-24T09:09:45.641Z"
   },
   {
    "duration": 300,
    "start_time": "2022-05-24T09:10:10.814Z"
   },
   {
    "duration": 8,
    "start_time": "2022-05-24T09:10:24.671Z"
   },
   {
    "duration": 343,
    "start_time": "2022-05-24T09:10:58.789Z"
   },
   {
    "duration": 118,
    "start_time": "2022-05-24T09:11:09.763Z"
   },
   {
    "duration": 14,
    "start_time": "2022-05-24T09:11:09.883Z"
   },
   {
    "duration": 103,
    "start_time": "2022-05-24T09:11:09.898Z"
   },
   {
    "duration": 4,
    "start_time": "2022-05-24T09:11:10.003Z"
   },
   {
    "duration": 4,
    "start_time": "2022-05-24T09:11:10.028Z"
   },
   {
    "duration": 9,
    "start_time": "2022-05-24T09:11:10.034Z"
   },
   {
    "duration": 12,
    "start_time": "2022-05-24T09:11:10.046Z"
   },
   {
    "duration": 14,
    "start_time": "2022-05-24T09:11:10.060Z"
   },
   {
    "duration": 9,
    "start_time": "2022-05-24T09:11:10.076Z"
   },
   {
    "duration": 42,
    "start_time": "2022-05-24T09:11:10.087Z"
   },
   {
    "duration": 4,
    "start_time": "2022-05-24T09:11:10.131Z"
   },
   {
    "duration": 24,
    "start_time": "2022-05-24T09:11:10.137Z"
   },
   {
    "duration": 15,
    "start_time": "2022-05-24T09:11:10.163Z"
   },
   {
    "duration": 8,
    "start_time": "2022-05-24T09:11:10.183Z"
   },
   {
    "duration": 5,
    "start_time": "2022-05-24T09:11:10.193Z"
   },
   {
    "duration": 17,
    "start_time": "2022-05-24T09:11:10.200Z"
   },
   {
    "duration": 24,
    "start_time": "2022-05-24T09:11:10.219Z"
   },
   {
    "duration": 28,
    "start_time": "2022-05-24T09:11:10.245Z"
   },
   {
    "duration": 59,
    "start_time": "2022-05-24T09:11:10.274Z"
   },
   {
    "duration": 313,
    "start_time": "2022-05-24T09:11:10.335Z"
   },
   {
    "duration": 27,
    "start_time": "2022-05-24T09:11:10.649Z"
   },
   {
    "duration": 154,
    "start_time": "2022-05-24T09:11:10.678Z"
   },
   {
    "duration": 9,
    "start_time": "2022-05-24T09:11:10.833Z"
   },
   {
    "duration": 135,
    "start_time": "2022-05-24T09:11:10.844Z"
   },
   {
    "duration": 166,
    "start_time": "2022-05-24T09:11:10.980Z"
   },
   {
    "duration": 9,
    "start_time": "2022-05-24T09:11:11.148Z"
   },
   {
    "duration": 21,
    "start_time": "2022-05-24T09:11:11.159Z"
   },
   {
    "duration": 132,
    "start_time": "2022-05-24T09:11:11.182Z"
   },
   {
    "duration": 21,
    "start_time": "2022-05-24T09:11:11.316Z"
   },
   {
    "duration": 179,
    "start_time": "2022-05-24T09:11:11.338Z"
   },
   {
    "duration": 10,
    "start_time": "2022-05-24T09:11:11.519Z"
   },
   {
    "duration": 178,
    "start_time": "2022-05-24T09:11:11.531Z"
   },
   {
    "duration": 18,
    "start_time": "2022-05-24T09:11:11.712Z"
   },
   {
    "duration": 130,
    "start_time": "2022-05-24T09:11:11.732Z"
   },
   {
    "duration": 16,
    "start_time": "2022-05-24T09:11:11.864Z"
   },
   {
    "duration": 184,
    "start_time": "2022-05-24T09:11:11.882Z"
   },
   {
    "duration": 8,
    "start_time": "2022-05-24T09:11:12.068Z"
   },
   {
    "duration": 133,
    "start_time": "2022-05-24T09:11:12.078Z"
   },
   {
    "duration": 316,
    "start_time": "2022-05-24T09:11:12.213Z"
   },
   {
    "duration": 559,
    "start_time": "2022-05-24T09:11:12.531Z"
   },
   {
    "duration": 8,
    "start_time": "2022-05-24T09:11:13.094Z"
   },
   {
    "duration": 353,
    "start_time": "2022-05-24T09:11:13.105Z"
   },
   {
    "duration": 389,
    "start_time": "2022-05-24T09:13:02.941Z"
   },
   {
    "duration": 8,
    "start_time": "2022-05-24T09:13:08.753Z"
   },
   {
    "duration": 12,
    "start_time": "2022-05-24T09:14:05.231Z"
   },
   {
    "duration": 325,
    "start_time": "2022-05-24T09:14:10.776Z"
   },
   {
    "duration": 141,
    "start_time": "2022-05-24T09:23:59.448Z"
   },
   {
    "duration": 14,
    "start_time": "2022-05-24T09:23:59.592Z"
   },
   {
    "duration": 72,
    "start_time": "2022-05-24T09:23:59.627Z"
   },
   {
    "duration": 5,
    "start_time": "2022-05-24T09:23:59.700Z"
   },
   {
    "duration": 33,
    "start_time": "2022-05-24T09:23:59.706Z"
   },
   {
    "duration": 34,
    "start_time": "2022-05-24T09:23:59.741Z"
   },
   {
    "duration": 23,
    "start_time": "2022-05-24T09:23:59.777Z"
   },
   {
    "duration": 39,
    "start_time": "2022-05-24T09:23:59.802Z"
   },
   {
    "duration": 24,
    "start_time": "2022-05-24T09:23:59.843Z"
   },
   {
    "duration": 19,
    "start_time": "2022-05-24T09:23:59.870Z"
   },
   {
    "duration": 40,
    "start_time": "2022-05-24T09:23:59.891Z"
   },
   {
    "duration": 29,
    "start_time": "2022-05-24T09:23:59.933Z"
   },
   {
    "duration": 18,
    "start_time": "2022-05-24T09:23:59.965Z"
   },
   {
    "duration": 26,
    "start_time": "2022-05-24T09:23:59.985Z"
   },
   {
    "duration": 31,
    "start_time": "2022-05-24T09:24:00.013Z"
   },
   {
    "duration": 52,
    "start_time": "2022-05-24T09:24:00.046Z"
   },
   {
    "duration": 41,
    "start_time": "2022-05-24T09:24:00.100Z"
   },
   {
    "duration": 51,
    "start_time": "2022-05-24T09:24:00.143Z"
   },
   {
    "duration": 57,
    "start_time": "2022-05-24T09:24:00.196Z"
   },
   {
    "duration": 283,
    "start_time": "2022-05-24T09:24:00.255Z"
   },
   {
    "duration": 23,
    "start_time": "2022-05-24T09:24:00.540Z"
   },
   {
    "duration": 155,
    "start_time": "2022-05-24T09:24:00.565Z"
   },
   {
    "duration": 13,
    "start_time": "2022-05-24T09:24:00.721Z"
   },
   {
    "duration": 146,
    "start_time": "2022-05-24T09:24:00.735Z"
   },
   {
    "duration": 162,
    "start_time": "2022-05-24T09:24:00.882Z"
   },
   {
    "duration": 9,
    "start_time": "2022-05-24T09:24:01.045Z"
   },
   {
    "duration": 47,
    "start_time": "2022-05-24T09:24:01.056Z"
   },
   {
    "duration": 140,
    "start_time": "2022-05-24T09:24:01.107Z"
   },
   {
    "duration": 16,
    "start_time": "2022-05-24T09:24:01.249Z"
   },
   {
    "duration": 201,
    "start_time": "2022-05-24T09:24:01.266Z"
   },
   {
    "duration": 10,
    "start_time": "2022-05-24T09:24:01.469Z"
   },
   {
    "duration": 195,
    "start_time": "2022-05-24T09:24:01.480Z"
   },
   {
    "duration": 9,
    "start_time": "2022-05-24T09:24:01.676Z"
   },
   {
    "duration": 153,
    "start_time": "2022-05-24T09:24:01.687Z"
   },
   {
    "duration": 20,
    "start_time": "2022-05-24T09:24:01.843Z"
   },
   {
    "duration": 227,
    "start_time": "2022-05-24T09:24:01.865Z"
   },
   {
    "duration": 12,
    "start_time": "2022-05-24T09:24:02.094Z"
   },
   {
    "duration": 177,
    "start_time": "2022-05-24T09:24:02.107Z"
   },
   {
    "duration": 325,
    "start_time": "2022-05-24T09:24:02.286Z"
   },
   {
    "duration": 285,
    "start_time": "2022-05-24T09:24:02.613Z"
   },
   {
    "duration": 7,
    "start_time": "2022-05-24T09:24:02.899Z"
   },
   {
    "duration": 38,
    "start_time": "2022-05-24T09:24:02.907Z"
   },
   {
    "duration": 639,
    "start_time": "2022-05-24T09:24:02.947Z"
   },
   {
    "duration": 13,
    "start_time": "2022-05-24T09:24:33.770Z"
   },
   {
    "duration": 12,
    "start_time": "2022-05-24T09:24:51.749Z"
   },
   {
    "duration": 13,
    "start_time": "2022-05-24T09:25:06.665Z"
   },
   {
    "duration": 111,
    "start_time": "2022-05-24T09:25:16.778Z"
   },
   {
    "duration": 15,
    "start_time": "2022-05-24T09:25:16.891Z"
   },
   {
    "duration": 93,
    "start_time": "2022-05-24T09:25:16.908Z"
   },
   {
    "duration": 4,
    "start_time": "2022-05-24T09:25:17.003Z"
   },
   {
    "duration": 5,
    "start_time": "2022-05-24T09:25:17.026Z"
   },
   {
    "duration": 6,
    "start_time": "2022-05-24T09:25:17.032Z"
   },
   {
    "duration": 12,
    "start_time": "2022-05-24T09:25:17.039Z"
   },
   {
    "duration": 9,
    "start_time": "2022-05-24T09:25:17.053Z"
   },
   {
    "duration": 8,
    "start_time": "2022-05-24T09:25:17.063Z"
   },
   {
    "duration": 7,
    "start_time": "2022-05-24T09:25:17.073Z"
   },
   {
    "duration": 8,
    "start_time": "2022-05-24T09:25:17.081Z"
   },
   {
    "duration": 9,
    "start_time": "2022-05-24T09:25:17.091Z"
   },
   {
    "duration": 30,
    "start_time": "2022-05-24T09:25:17.101Z"
   },
   {
    "duration": 13,
    "start_time": "2022-05-24T09:25:17.133Z"
   },
   {
    "duration": 12,
    "start_time": "2022-05-24T09:25:17.147Z"
   },
   {
    "duration": 16,
    "start_time": "2022-05-24T09:25:17.161Z"
   },
   {
    "duration": 21,
    "start_time": "2022-05-24T09:25:17.179Z"
   },
   {
    "duration": 43,
    "start_time": "2022-05-24T09:25:17.201Z"
   },
   {
    "duration": 36,
    "start_time": "2022-05-24T09:25:17.247Z"
   },
   {
    "duration": 327,
    "start_time": "2022-05-24T09:25:17.285Z"
   },
   {
    "duration": 44,
    "start_time": "2022-05-24T09:25:17.614Z"
   },
   {
    "duration": 140,
    "start_time": "2022-05-24T09:25:17.660Z"
   },
   {
    "duration": 8,
    "start_time": "2022-05-24T09:25:17.802Z"
   },
   {
    "duration": 128,
    "start_time": "2022-05-24T09:25:17.812Z"
   },
   {
    "duration": 147,
    "start_time": "2022-05-24T09:25:17.941Z"
   },
   {
    "duration": 9,
    "start_time": "2022-05-24T09:25:18.090Z"
   },
   {
    "duration": 9,
    "start_time": "2022-05-24T09:25:18.101Z"
   },
   {
    "duration": 117,
    "start_time": "2022-05-24T09:25:18.129Z"
   },
   {
    "duration": 16,
    "start_time": "2022-05-24T09:25:18.248Z"
   },
   {
    "duration": 211,
    "start_time": "2022-05-24T09:25:18.266Z"
   },
   {
    "duration": 8,
    "start_time": "2022-05-24T09:25:18.479Z"
   },
   {
    "duration": 176,
    "start_time": "2022-05-24T09:25:18.489Z"
   },
   {
    "duration": 11,
    "start_time": "2022-05-24T09:25:18.667Z"
   },
   {
    "duration": 132,
    "start_time": "2022-05-24T09:25:18.679Z"
   },
   {
    "duration": 22,
    "start_time": "2022-05-24T09:25:18.812Z"
   },
   {
    "duration": 177,
    "start_time": "2022-05-24T09:25:18.836Z"
   },
   {
    "duration": 14,
    "start_time": "2022-05-24T09:25:19.015Z"
   },
   {
    "duration": 119,
    "start_time": "2022-05-24T09:25:19.031Z"
   },
   {
    "duration": 311,
    "start_time": "2022-05-24T09:25:19.152Z"
   },
   {
    "duration": 267,
    "start_time": "2022-05-24T09:25:19.464Z"
   },
   {
    "duration": 34,
    "start_time": "2022-05-24T09:26:25.465Z"
   },
   {
    "duration": 17,
    "start_time": "2022-05-24T09:26:56.044Z"
   },
   {
    "duration": 16,
    "start_time": "2022-05-24T09:27:10.767Z"
   },
   {
    "duration": 804,
    "start_time": "2022-05-24T09:30:57.995Z"
   },
   {
    "duration": 15,
    "start_time": "2022-05-24T09:30:58.802Z"
   },
   {
    "duration": 71,
    "start_time": "2022-05-24T09:30:58.819Z"
   },
   {
    "duration": 4,
    "start_time": "2022-05-24T09:30:58.893Z"
   },
   {
    "duration": 7,
    "start_time": "2022-05-24T09:30:58.899Z"
   },
   {
    "duration": 22,
    "start_time": "2022-05-24T09:30:58.908Z"
   },
   {
    "duration": 16,
    "start_time": "2022-05-24T09:30:58.932Z"
   },
   {
    "duration": 10,
    "start_time": "2022-05-24T09:30:58.950Z"
   },
   {
    "duration": 4,
    "start_time": "2022-05-24T09:30:58.961Z"
   },
   {
    "duration": 6,
    "start_time": "2022-05-24T09:30:58.968Z"
   },
   {
    "duration": 5,
    "start_time": "2022-05-24T09:30:58.976Z"
   },
   {
    "duration": 5,
    "start_time": "2022-05-24T09:30:58.983Z"
   },
   {
    "duration": 37,
    "start_time": "2022-05-24T09:30:58.990Z"
   },
   {
    "duration": 6,
    "start_time": "2022-05-24T09:30:59.029Z"
   },
   {
    "duration": 7,
    "start_time": "2022-05-24T09:30:59.037Z"
   },
   {
    "duration": 9,
    "start_time": "2022-05-24T09:30:59.045Z"
   },
   {
    "duration": 22,
    "start_time": "2022-05-24T09:30:59.056Z"
   },
   {
    "duration": 51,
    "start_time": "2022-05-24T09:30:59.080Z"
   },
   {
    "duration": 27,
    "start_time": "2022-05-24T09:30:59.133Z"
   },
   {
    "duration": 289,
    "start_time": "2022-05-24T09:30:59.162Z"
   },
   {
    "duration": 23,
    "start_time": "2022-05-24T09:30:59.452Z"
   },
   {
    "duration": 141,
    "start_time": "2022-05-24T09:30:59.477Z"
   },
   {
    "duration": 8,
    "start_time": "2022-05-24T09:30:59.627Z"
   },
   {
    "duration": 123,
    "start_time": "2022-05-24T09:30:59.637Z"
   },
   {
    "duration": 148,
    "start_time": "2022-05-24T09:30:59.762Z"
   },
   {
    "duration": 18,
    "start_time": "2022-05-24T09:30:59.911Z"
   },
   {
    "duration": 10,
    "start_time": "2022-05-24T09:30:59.930Z"
   },
   {
    "duration": 123,
    "start_time": "2022-05-24T09:30:59.943Z"
   },
   {
    "duration": 14,
    "start_time": "2022-05-24T09:31:00.068Z"
   },
   {
    "duration": 173,
    "start_time": "2022-05-24T09:31:00.084Z"
   },
   {
    "duration": 8,
    "start_time": "2022-05-24T09:31:00.258Z"
   },
   {
    "duration": 228,
    "start_time": "2022-05-24T09:31:00.268Z"
   },
   {
    "duration": 8,
    "start_time": "2022-05-24T09:31:00.498Z"
   },
   {
    "duration": 123,
    "start_time": "2022-05-24T09:31:00.508Z"
   },
   {
    "duration": 13,
    "start_time": "2022-05-24T09:31:00.633Z"
   },
   {
    "duration": 181,
    "start_time": "2022-05-24T09:31:00.648Z"
   },
   {
    "duration": 8,
    "start_time": "2022-05-24T09:31:00.831Z"
   },
   {
    "duration": 125,
    "start_time": "2022-05-24T09:31:00.841Z"
   },
   {
    "duration": 303,
    "start_time": "2022-05-24T09:31:00.968Z"
   },
   {
    "duration": 273,
    "start_time": "2022-05-24T09:31:01.272Z"
   },
   {
    "duration": 7,
    "start_time": "2022-05-24T09:31:01.547Z"
   },
   {
    "duration": 23,
    "start_time": "2022-05-24T09:31:01.556Z"
   },
   {
    "duration": 362,
    "start_time": "2022-05-24T09:31:01.581Z"
   },
   {
    "duration": 15,
    "start_time": "2022-05-24T09:34:11.988Z"
   },
   {
    "duration": 120,
    "start_time": "2022-05-24T09:34:22.845Z"
   },
   {
    "duration": 12,
    "start_time": "2022-05-24T09:34:22.967Z"
   },
   {
    "duration": 82,
    "start_time": "2022-05-24T09:34:22.981Z"
   },
   {
    "duration": 4,
    "start_time": "2022-05-24T09:34:23.064Z"
   },
   {
    "duration": 7,
    "start_time": "2022-05-24T09:34:23.070Z"
   },
   {
    "duration": 15,
    "start_time": "2022-05-24T09:34:23.079Z"
   },
   {
    "duration": 36,
    "start_time": "2022-05-24T09:34:23.096Z"
   },
   {
    "duration": 29,
    "start_time": "2022-05-24T09:34:23.133Z"
   },
   {
    "duration": 5,
    "start_time": "2022-05-24T09:34:23.163Z"
   },
   {
    "duration": 32,
    "start_time": "2022-05-24T09:34:23.170Z"
   },
   {
    "duration": 14,
    "start_time": "2022-05-24T09:34:23.204Z"
   },
   {
    "duration": 22,
    "start_time": "2022-05-24T09:34:23.219Z"
   },
   {
    "duration": 39,
    "start_time": "2022-05-24T09:34:23.243Z"
   },
   {
    "duration": 23,
    "start_time": "2022-05-24T09:34:23.286Z"
   },
   {
    "duration": 25,
    "start_time": "2022-05-24T09:34:23.311Z"
   },
   {
    "duration": 28,
    "start_time": "2022-05-24T09:34:23.337Z"
   },
   {
    "duration": 33,
    "start_time": "2022-05-24T09:34:23.366Z"
   },
   {
    "duration": 31,
    "start_time": "2022-05-24T09:34:23.401Z"
   },
   {
    "duration": 29,
    "start_time": "2022-05-24T09:34:23.433Z"
   },
   {
    "duration": 374,
    "start_time": "2022-05-24T09:34:23.463Z"
   },
   {
    "duration": 36,
    "start_time": "2022-05-24T09:34:23.839Z"
   },
   {
    "duration": 138,
    "start_time": "2022-05-24T09:34:23.877Z"
   },
   {
    "duration": 18,
    "start_time": "2022-05-24T09:34:24.016Z"
   },
   {
    "duration": 124,
    "start_time": "2022-05-24T09:34:24.036Z"
   },
   {
    "duration": 149,
    "start_time": "2022-05-24T09:34:24.161Z"
   },
   {
    "duration": 17,
    "start_time": "2022-05-24T09:34:24.312Z"
   },
   {
    "duration": 18,
    "start_time": "2022-05-24T09:34:24.331Z"
   },
   {
    "duration": 119,
    "start_time": "2022-05-24T09:34:24.351Z"
   },
   {
    "duration": 14,
    "start_time": "2022-05-24T09:34:24.472Z"
   },
   {
    "duration": 158,
    "start_time": "2022-05-24T09:34:24.487Z"
   },
   {
    "duration": 9,
    "start_time": "2022-05-24T09:34:24.647Z"
   },
   {
    "duration": 170,
    "start_time": "2022-05-24T09:34:24.657Z"
   },
   {
    "duration": 10,
    "start_time": "2022-05-24T09:34:24.828Z"
   },
   {
    "duration": 146,
    "start_time": "2022-05-24T09:34:24.840Z"
   },
   {
    "duration": 15,
    "start_time": "2022-05-24T09:34:24.987Z"
   },
   {
    "duration": 190,
    "start_time": "2022-05-24T09:34:25.003Z"
   },
   {
    "duration": 9,
    "start_time": "2022-05-24T09:34:25.195Z"
   },
   {
    "duration": 144,
    "start_time": "2022-05-24T09:34:25.206Z"
   },
   {
    "duration": 377,
    "start_time": "2022-05-24T09:34:25.352Z"
   },
   {
    "duration": 283,
    "start_time": "2022-05-24T09:34:25.731Z"
   },
   {
    "duration": 12,
    "start_time": "2022-05-24T09:34:26.018Z"
   },
   {
    "duration": 35,
    "start_time": "2022-05-24T09:34:26.032Z"
   },
   {
    "duration": 369,
    "start_time": "2022-05-24T09:34:26.069Z"
   },
   {
    "duration": 16,
    "start_time": "2022-05-24T09:34:39.049Z"
   },
   {
    "duration": 15,
    "start_time": "2022-05-24T09:35:43.194Z"
   },
   {
    "duration": 294,
    "start_time": "2022-05-24T09:37:11.835Z"
   },
   {
    "duration": 12,
    "start_time": "2022-05-24T09:37:26.126Z"
   },
   {
    "duration": 266,
    "start_time": "2022-05-24T09:37:31.454Z"
   },
   {
    "duration": 14,
    "start_time": "2022-05-24T09:37:39.740Z"
   },
   {
    "duration": 420,
    "start_time": "2022-05-24T09:37:43.218Z"
   },
   {
    "duration": 13,
    "start_time": "2022-05-24T09:37:59.346Z"
   },
   {
    "duration": 295,
    "start_time": "2022-05-24T09:38:02.686Z"
   },
   {
    "duration": 12,
    "start_time": "2022-05-24T09:38:08.358Z"
   },
   {
    "duration": 280,
    "start_time": "2022-05-24T09:38:10.693Z"
   },
   {
    "duration": 14,
    "start_time": "2022-05-24T09:38:14.949Z"
   },
   {
    "duration": 12,
    "start_time": "2022-05-24T09:38:22.528Z"
   },
   {
    "duration": 13,
    "start_time": "2022-05-24T09:38:31.903Z"
   },
   {
    "duration": 271,
    "start_time": "2022-05-24T09:38:38.287Z"
   },
   {
    "duration": 103,
    "start_time": "2022-05-24T09:45:36.298Z"
   },
   {
    "duration": 224,
    "start_time": "2022-05-24T09:45:42.015Z"
   },
   {
    "duration": 211,
    "start_time": "2022-05-24T09:46:55.614Z"
   },
   {
    "duration": 293,
    "start_time": "2022-05-24T09:47:21.807Z"
   },
   {
    "duration": 243,
    "start_time": "2022-05-24T09:47:33.976Z"
   },
   {
    "duration": 350,
    "start_time": "2022-05-24T09:48:17.340Z"
   },
   {
    "duration": 240,
    "start_time": "2022-05-24T09:48:40.347Z"
   },
   {
    "duration": 204,
    "start_time": "2022-05-24T09:49:19.325Z"
   },
   {
    "duration": 220,
    "start_time": "2022-05-24T09:49:30.203Z"
   },
   {
    "duration": 210,
    "start_time": "2022-05-24T09:49:39.045Z"
   },
   {
    "duration": 7,
    "start_time": "2022-05-24T09:52:00.595Z"
   },
   {
    "duration": 7,
    "start_time": "2022-05-24T09:52:09.562Z"
   },
   {
    "duration": 9,
    "start_time": "2022-05-24T09:56:14.878Z"
   },
   {
    "duration": 29,
    "start_time": "2022-05-24T10:10:10.902Z"
   },
   {
    "duration": 119,
    "start_time": "2022-05-24T10:10:22.056Z"
   },
   {
    "duration": 16,
    "start_time": "2022-05-24T10:10:22.177Z"
   },
   {
    "duration": 97,
    "start_time": "2022-05-24T10:10:22.195Z"
   },
   {
    "duration": 4,
    "start_time": "2022-05-24T10:10:22.295Z"
   },
   {
    "duration": 36,
    "start_time": "2022-05-24T10:10:22.301Z"
   },
   {
    "duration": 21,
    "start_time": "2022-05-24T10:10:22.339Z"
   },
   {
    "duration": 14,
    "start_time": "2022-05-24T10:10:22.362Z"
   },
   {
    "duration": 14,
    "start_time": "2022-05-24T10:10:22.377Z"
   },
   {
    "duration": 4,
    "start_time": "2022-05-24T10:10:22.393Z"
   },
   {
    "duration": 10,
    "start_time": "2022-05-24T10:10:22.399Z"
   },
   {
    "duration": 29,
    "start_time": "2022-05-24T10:10:22.411Z"
   },
   {
    "duration": 15,
    "start_time": "2022-05-24T10:10:22.442Z"
   },
   {
    "duration": 12,
    "start_time": "2022-05-24T10:10:22.459Z"
   },
   {
    "duration": 6,
    "start_time": "2022-05-24T10:10:22.472Z"
   },
   {
    "duration": 6,
    "start_time": "2022-05-24T10:10:22.479Z"
   },
   {
    "duration": 11,
    "start_time": "2022-05-24T10:10:22.487Z"
   },
   {
    "duration": 35,
    "start_time": "2022-05-24T10:10:22.500Z"
   },
   {
    "duration": 0,
    "start_time": "2022-05-24T10:10:22.538Z"
   },
   {
    "duration": 0,
    "start_time": "2022-05-24T10:10:22.539Z"
   },
   {
    "duration": 0,
    "start_time": "2022-05-24T10:10:22.539Z"
   },
   {
    "duration": 0,
    "start_time": "2022-05-24T10:10:22.540Z"
   },
   {
    "duration": 0,
    "start_time": "2022-05-24T10:10:22.541Z"
   },
   {
    "duration": 0,
    "start_time": "2022-05-24T10:10:22.543Z"
   },
   {
    "duration": 0,
    "start_time": "2022-05-24T10:10:22.545Z"
   },
   {
    "duration": 0,
    "start_time": "2022-05-24T10:10:22.545Z"
   },
   {
    "duration": 0,
    "start_time": "2022-05-24T10:10:22.547Z"
   },
   {
    "duration": 0,
    "start_time": "2022-05-24T10:10:22.548Z"
   },
   {
    "duration": 0,
    "start_time": "2022-05-24T10:10:22.550Z"
   },
   {
    "duration": 0,
    "start_time": "2022-05-24T10:10:22.551Z"
   },
   {
    "duration": 0,
    "start_time": "2022-05-24T10:10:22.554Z"
   },
   {
    "duration": 0,
    "start_time": "2022-05-24T10:10:22.555Z"
   },
   {
    "duration": 0,
    "start_time": "2022-05-24T10:10:22.557Z"
   },
   {
    "duration": 0,
    "start_time": "2022-05-24T10:10:22.558Z"
   },
   {
    "duration": 0,
    "start_time": "2022-05-24T10:10:22.560Z"
   },
   {
    "duration": 1,
    "start_time": "2022-05-24T10:10:22.561Z"
   },
   {
    "duration": 0,
    "start_time": "2022-05-24T10:10:22.563Z"
   },
   {
    "duration": 0,
    "start_time": "2022-05-24T10:10:22.564Z"
   },
   {
    "duration": 0,
    "start_time": "2022-05-24T10:10:22.566Z"
   },
   {
    "duration": 0,
    "start_time": "2022-05-24T10:10:22.567Z"
   },
   {
    "duration": 0,
    "start_time": "2022-05-24T10:10:22.569Z"
   },
   {
    "duration": 0,
    "start_time": "2022-05-24T10:10:22.570Z"
   },
   {
    "duration": 0,
    "start_time": "2022-05-24T10:10:22.570Z"
   },
   {
    "duration": 0,
    "start_time": "2022-05-24T10:10:22.572Z"
   },
   {
    "duration": 0,
    "start_time": "2022-05-24T10:10:22.573Z"
   },
   {
    "duration": 0,
    "start_time": "2022-05-24T10:10:22.574Z"
   },
   {
    "duration": 7,
    "start_time": "2022-05-24T10:12:44.241Z"
   },
   {
    "duration": 12,
    "start_time": "2022-05-24T10:12:52.794Z"
   },
   {
    "duration": 36,
    "start_time": "2022-05-24T10:13:54.071Z"
   },
   {
    "duration": 128,
    "start_time": "2022-05-24T10:14:03.866Z"
   },
   {
    "duration": 14,
    "start_time": "2022-05-24T10:14:03.996Z"
   },
   {
    "duration": 87,
    "start_time": "2022-05-24T10:14:04.012Z"
   },
   {
    "duration": 5,
    "start_time": "2022-05-24T10:14:04.101Z"
   },
   {
    "duration": 35,
    "start_time": "2022-05-24T10:14:04.108Z"
   },
   {
    "duration": 20,
    "start_time": "2022-05-24T10:14:04.145Z"
   },
   {
    "duration": 41,
    "start_time": "2022-05-24T10:14:04.167Z"
   },
   {
    "duration": 20,
    "start_time": "2022-05-24T10:14:04.210Z"
   },
   {
    "duration": 24,
    "start_time": "2022-05-24T10:14:04.232Z"
   },
   {
    "duration": 27,
    "start_time": "2022-05-24T10:14:04.258Z"
   },
   {
    "duration": 14,
    "start_time": "2022-05-24T10:14:04.287Z"
   },
   {
    "duration": 17,
    "start_time": "2022-05-24T10:14:04.303Z"
   },
   {
    "duration": 16,
    "start_time": "2022-05-24T10:14:04.322Z"
   },
   {
    "duration": 23,
    "start_time": "2022-05-24T10:14:04.342Z"
   },
   {
    "duration": 27,
    "start_time": "2022-05-24T10:14:04.367Z"
   },
   {
    "duration": 10,
    "start_time": "2022-05-24T10:14:04.396Z"
   },
   {
    "duration": 30,
    "start_time": "2022-05-24T10:14:04.408Z"
   },
   {
    "duration": 33,
    "start_time": "2022-05-24T10:14:04.440Z"
   },
   {
    "duration": 112,
    "start_time": "2022-05-24T10:14:18.520Z"
   },
   {
    "duration": 14,
    "start_time": "2022-05-24T10:14:18.634Z"
   },
   {
    "duration": 97,
    "start_time": "2022-05-24T10:14:18.650Z"
   },
   {
    "duration": 5,
    "start_time": "2022-05-24T10:14:18.750Z"
   },
   {
    "duration": 6,
    "start_time": "2022-05-24T10:14:18.757Z"
   },
   {
    "duration": 10,
    "start_time": "2022-05-24T10:14:18.765Z"
   },
   {
    "duration": 20,
    "start_time": "2022-05-24T10:14:18.776Z"
   },
   {
    "duration": 32,
    "start_time": "2022-05-24T10:14:18.797Z"
   },
   {
    "duration": 5,
    "start_time": "2022-05-24T10:14:18.831Z"
   },
   {
    "duration": 18,
    "start_time": "2022-05-24T10:14:18.837Z"
   },
   {
    "duration": 12,
    "start_time": "2022-05-24T10:14:18.859Z"
   },
   {
    "duration": 7,
    "start_time": "2022-05-24T10:14:18.873Z"
   },
   {
    "duration": 12,
    "start_time": "2022-05-24T10:14:18.882Z"
   },
   {
    "duration": 7,
    "start_time": "2022-05-24T10:14:18.898Z"
   },
   {
    "duration": 8,
    "start_time": "2022-05-24T10:14:18.907Z"
   },
   {
    "duration": 14,
    "start_time": "2022-05-24T10:14:18.917Z"
   },
   {
    "duration": 21,
    "start_time": "2022-05-24T10:14:18.933Z"
   },
   {
    "duration": 32,
    "start_time": "2022-05-24T10:14:18.957Z"
   },
   {
    "duration": 44,
    "start_time": "2022-05-24T10:14:18.991Z"
   },
   {
    "duration": 30,
    "start_time": "2022-05-24T10:14:19.037Z"
   },
   {
    "duration": 317,
    "start_time": "2022-05-24T10:14:19.069Z"
   },
   {
    "duration": 25,
    "start_time": "2022-05-24T10:14:19.388Z"
   },
   {
    "duration": 153,
    "start_time": "2022-05-24T10:14:19.414Z"
   },
   {
    "duration": 9,
    "start_time": "2022-05-24T10:14:19.569Z"
   },
   {
    "duration": 123,
    "start_time": "2022-05-24T10:14:19.580Z"
   },
   {
    "duration": 152,
    "start_time": "2022-05-24T10:14:19.704Z"
   },
   {
    "duration": 11,
    "start_time": "2022-05-24T10:14:19.858Z"
   },
   {
    "duration": 9,
    "start_time": "2022-05-24T10:14:19.871Z"
   },
   {
    "duration": 142,
    "start_time": "2022-05-24T10:14:19.882Z"
   },
   {
    "duration": 20,
    "start_time": "2022-05-24T10:14:20.028Z"
   },
   {
    "duration": 173,
    "start_time": "2022-05-24T10:14:20.050Z"
   },
   {
    "duration": 8,
    "start_time": "2022-05-24T10:14:20.227Z"
   },
   {
    "duration": 182,
    "start_time": "2022-05-24T10:14:20.236Z"
   },
   {
    "duration": 14,
    "start_time": "2022-05-24T10:14:20.419Z"
   },
   {
    "duration": 273,
    "start_time": "2022-05-24T10:14:20.435Z"
   },
   {
    "duration": 23,
    "start_time": "2022-05-24T10:14:20.710Z"
   },
   {
    "duration": 185,
    "start_time": "2022-05-24T10:14:20.735Z"
   },
   {
    "duration": 11,
    "start_time": "2022-05-24T10:14:20.926Z"
   },
   {
    "duration": 137,
    "start_time": "2022-05-24T10:14:20.939Z"
   },
   {
    "duration": 343,
    "start_time": "2022-05-24T10:14:21.078Z"
   },
   {
    "duration": 285,
    "start_time": "2022-05-24T10:14:21.426Z"
   },
   {
    "duration": 16,
    "start_time": "2022-05-24T10:14:21.713Z"
   },
   {
    "duration": 19,
    "start_time": "2022-05-24T10:14:21.730Z"
   },
   {
    "duration": 295,
    "start_time": "2022-05-24T10:14:21.751Z"
   },
   {
    "duration": 237,
    "start_time": "2022-05-24T10:14:22.048Z"
   },
   {
    "duration": 6,
    "start_time": "2022-05-24T10:14:22.286Z"
   },
   {
    "duration": 13,
    "start_time": "2022-05-24T10:19:06.775Z"
   },
   {
    "duration": 282,
    "start_time": "2022-05-24T10:19:41.609Z"
   },
   {
    "duration": 323,
    "start_time": "2022-05-24T10:20:04.360Z"
   },
   {
    "duration": 379,
    "start_time": "2022-05-24T10:20:43.730Z"
   },
   {
    "duration": 547,
    "start_time": "2022-05-24T10:20:56.828Z"
   },
   {
    "duration": 264,
    "start_time": "2022-05-24T10:21:12.371Z"
   },
   {
    "duration": 260,
    "start_time": "2022-05-24T10:21:18.698Z"
   },
   {
    "duration": 8,
    "start_time": "2022-05-24T10:22:14.095Z"
   },
   {
    "duration": 6,
    "start_time": "2022-05-24T10:22:18.424Z"
   },
   {
    "duration": 7,
    "start_time": "2022-05-24T10:22:21.725Z"
   },
   {
    "duration": 120,
    "start_time": "2022-05-24T10:22:27.736Z"
   },
   {
    "duration": 21,
    "start_time": "2022-05-24T10:22:27.859Z"
   },
   {
    "duration": 102,
    "start_time": "2022-05-24T10:22:27.882Z"
   },
   {
    "duration": 6,
    "start_time": "2022-05-24T10:22:27.986Z"
   },
   {
    "duration": 32,
    "start_time": "2022-05-24T10:22:27.996Z"
   },
   {
    "duration": 14,
    "start_time": "2022-05-24T10:22:28.030Z"
   },
   {
    "duration": 25,
    "start_time": "2022-05-24T10:22:28.045Z"
   },
   {
    "duration": 14,
    "start_time": "2022-05-24T10:22:28.072Z"
   },
   {
    "duration": 5,
    "start_time": "2022-05-24T10:22:28.089Z"
   },
   {
    "duration": 9,
    "start_time": "2022-05-24T10:22:28.097Z"
   },
   {
    "duration": 5,
    "start_time": "2022-05-24T10:22:28.128Z"
   },
   {
    "duration": 5,
    "start_time": "2022-05-24T10:22:28.135Z"
   },
   {
    "duration": 8,
    "start_time": "2022-05-24T10:22:28.143Z"
   },
   {
    "duration": 13,
    "start_time": "2022-05-24T10:22:28.155Z"
   },
   {
    "duration": 5,
    "start_time": "2022-05-24T10:22:28.171Z"
   },
   {
    "duration": 6,
    "start_time": "2022-05-24T10:22:28.178Z"
   },
   {
    "duration": 43,
    "start_time": "2022-05-24T10:22:28.185Z"
   },
   {
    "duration": 35,
    "start_time": "2022-05-24T10:22:28.230Z"
   },
   {
    "duration": 39,
    "start_time": "2022-05-24T10:22:28.267Z"
   },
   {
    "duration": 37,
    "start_time": "2022-05-24T10:22:28.330Z"
   },
   {
    "duration": 334,
    "start_time": "2022-05-24T10:22:28.369Z"
   },
   {
    "duration": 33,
    "start_time": "2022-05-24T10:22:28.705Z"
   },
   {
    "duration": 179,
    "start_time": "2022-05-24T10:22:28.740Z"
   },
   {
    "duration": 11,
    "start_time": "2022-05-24T10:22:28.920Z"
   },
   {
    "duration": 139,
    "start_time": "2022-05-24T10:22:28.933Z"
   },
   {
    "duration": 182,
    "start_time": "2022-05-24T10:22:29.075Z"
   },
   {
    "duration": 20,
    "start_time": "2022-05-24T10:22:29.259Z"
   },
   {
    "duration": 29,
    "start_time": "2022-05-24T10:22:29.282Z"
   },
   {
    "duration": 126,
    "start_time": "2022-05-24T10:22:29.312Z"
   },
   {
    "duration": 26,
    "start_time": "2022-05-24T10:22:29.440Z"
   },
   {
    "duration": 201,
    "start_time": "2022-05-24T10:22:29.469Z"
   },
   {
    "duration": 10,
    "start_time": "2022-05-24T10:22:29.672Z"
   },
   {
    "duration": 229,
    "start_time": "2022-05-24T10:22:29.684Z"
   },
   {
    "duration": 18,
    "start_time": "2022-05-24T10:22:29.915Z"
   },
   {
    "duration": 139,
    "start_time": "2022-05-24T10:22:29.935Z"
   },
   {
    "duration": 18,
    "start_time": "2022-05-24T10:22:30.077Z"
   },
   {
    "duration": 244,
    "start_time": "2022-05-24T10:22:30.097Z"
   },
   {
    "duration": 10,
    "start_time": "2022-05-24T10:22:30.344Z"
   },
   {
    "duration": 151,
    "start_time": "2022-05-24T10:22:30.356Z"
   },
   {
    "duration": 319,
    "start_time": "2022-05-24T10:22:30.509Z"
   },
   {
    "duration": 520,
    "start_time": "2022-05-24T10:22:30.831Z"
   },
   {
    "duration": 6,
    "start_time": "2022-05-24T10:22:31.352Z"
   },
   {
    "duration": 16,
    "start_time": "2022-05-24T10:22:31.360Z"
   },
   {
    "duration": 268,
    "start_time": "2022-05-24T10:22:31.378Z"
   },
   {
    "duration": 233,
    "start_time": "2022-05-24T10:22:31.648Z"
   },
   {
    "duration": 7,
    "start_time": "2022-05-24T10:22:31.883Z"
   },
   {
    "duration": 238,
    "start_time": "2022-05-24T10:23:30.691Z"
   },
   {
    "duration": 245,
    "start_time": "2022-05-24T10:23:50.491Z"
   },
   {
    "duration": 6,
    "start_time": "2022-05-24T10:24:22.212Z"
   },
   {
    "duration": 223,
    "start_time": "2022-05-24T10:44:49.907Z"
   },
   {
    "duration": 5,
    "start_time": "2022-05-24T10:45:13.641Z"
   },
   {
    "duration": 266,
    "start_time": "2022-05-24T10:49:40.902Z"
   },
   {
    "duration": 7,
    "start_time": "2022-05-24T10:49:58.100Z"
   },
   {
    "duration": 286,
    "start_time": "2022-05-24T10:50:28.531Z"
   },
   {
    "duration": 7,
    "start_time": "2022-05-24T10:50:40.839Z"
   },
   {
    "duration": 241,
    "start_time": "2022-05-24T10:56:47.007Z"
   },
   {
    "duration": 7,
    "start_time": "2022-05-24T10:57:07.723Z"
   },
   {
    "duration": 20,
    "start_time": "2022-05-24T10:59:27.818Z"
   },
   {
    "duration": 198,
    "start_time": "2022-05-24T10:59:51.274Z"
   },
   {
    "duration": 17,
    "start_time": "2022-05-24T11:16:13.859Z"
   },
   {
    "duration": 19,
    "start_time": "2022-05-24T11:17:30.271Z"
   },
   {
    "duration": 22,
    "start_time": "2022-05-24T11:18:00.351Z"
   },
   {
    "duration": 215,
    "start_time": "2022-05-24T11:19:10.100Z"
   },
   {
    "duration": 31,
    "start_time": "2022-05-24T11:19:25.676Z"
   },
   {
    "duration": 178,
    "start_time": "2022-05-24T11:21:59.754Z"
   },
   {
    "duration": 194,
    "start_time": "2022-05-24T11:22:59.315Z"
   },
   {
    "duration": 175,
    "start_time": "2022-05-24T11:23:52.379Z"
   },
   {
    "duration": 177,
    "start_time": "2022-05-24T11:24:08.082Z"
   },
   {
    "duration": 15,
    "start_time": "2022-05-24T11:24:43.560Z"
   },
   {
    "duration": 19,
    "start_time": "2022-05-24T11:24:51.035Z"
   },
   {
    "duration": 215,
    "start_time": "2022-05-24T11:37:47.671Z"
   },
   {
    "duration": 166,
    "start_time": "2022-05-24T11:42:22.978Z"
   },
   {
    "duration": 19,
    "start_time": "2022-05-24T11:44:35.773Z"
   },
   {
    "duration": 15,
    "start_time": "2022-05-24T11:47:40.005Z"
   },
   {
    "duration": 21,
    "start_time": "2022-05-24T11:47:47.136Z"
   },
   {
    "duration": 147,
    "start_time": "2022-05-24T11:55:26.758Z"
   },
   {
    "duration": 8,
    "start_time": "2022-05-24T12:07:41.360Z"
   },
   {
    "duration": 11,
    "start_time": "2022-05-24T12:10:16.455Z"
   },
   {
    "duration": 26,
    "start_time": "2022-05-24T12:11:53.271Z"
   },
   {
    "duration": 8,
    "start_time": "2022-05-24T12:12:05.992Z"
   },
   {
    "duration": 25,
    "start_time": "2022-05-24T12:14:25.143Z"
   },
   {
    "duration": 32,
    "start_time": "2022-05-24T12:15:11.640Z"
   },
   {
    "duration": 34,
    "start_time": "2022-05-24T12:15:33.696Z"
   },
   {
    "duration": 18,
    "start_time": "2022-05-24T12:15:55.643Z"
   },
   {
    "duration": 25,
    "start_time": "2022-05-24T12:16:19.952Z"
   },
   {
    "duration": 21,
    "start_time": "2022-05-24T12:16:32.283Z"
   },
   {
    "duration": 29,
    "start_time": "2022-05-24T12:17:04.963Z"
   },
   {
    "duration": 6,
    "start_time": "2022-05-24T12:18:05.847Z"
   },
   {
    "duration": 15,
    "start_time": "2022-05-24T12:18:12.521Z"
   },
   {
    "duration": 10,
    "start_time": "2022-05-24T12:18:27.847Z"
   },
   {
    "duration": 26,
    "start_time": "2022-05-24T12:18:32.804Z"
   },
   {
    "duration": 9,
    "start_time": "2022-05-24T12:18:43.506Z"
   },
   {
    "duration": 26,
    "start_time": "2022-05-24T12:21:18.593Z"
   },
   {
    "duration": 29,
    "start_time": "2022-05-24T12:21:46.927Z"
   },
   {
    "duration": 30,
    "start_time": "2022-05-24T12:21:59.000Z"
   },
   {
    "duration": 5,
    "start_time": "2022-05-24T12:25:57.009Z"
   },
   {
    "duration": 412,
    "start_time": "2022-05-24T12:26:18.639Z"
   },
   {
    "duration": 8,
    "start_time": "2022-05-24T12:27:38.249Z"
   },
   {
    "duration": 9,
    "start_time": "2022-05-24T12:27:49.372Z"
   },
   {
    "duration": 27,
    "start_time": "2022-05-24T13:15:06.711Z"
   },
   {
    "duration": 23,
    "start_time": "2022-05-24T13:17:28.570Z"
   },
   {
    "duration": 45,
    "start_time": "2022-05-24T13:20:28.960Z"
   },
   {
    "duration": 8,
    "start_time": "2022-05-24T13:20:43.485Z"
   },
   {
    "duration": 14,
    "start_time": "2022-05-24T13:28:50.825Z"
   },
   {
    "duration": 24,
    "start_time": "2022-05-24T13:29:04.477Z"
   },
   {
    "duration": 17,
    "start_time": "2022-05-24T13:29:35.483Z"
   },
   {
    "duration": 149,
    "start_time": "2022-05-24T13:30:31.073Z"
   },
   {
    "duration": 22,
    "start_time": "2022-05-24T13:35:08.989Z"
   },
   {
    "duration": 161,
    "start_time": "2022-05-24T13:35:14.697Z"
   },
   {
    "duration": 20,
    "start_time": "2022-05-24T13:40:10.214Z"
   },
   {
    "duration": 146,
    "start_time": "2022-05-24T13:40:54.055Z"
   },
   {
    "duration": 19,
    "start_time": "2022-05-24T13:41:17.725Z"
   },
   {
    "duration": 20,
    "start_time": "2022-05-24T13:42:30.712Z"
   },
   {
    "duration": 138,
    "start_time": "2022-05-24T13:42:37.811Z"
   },
   {
    "duration": 20,
    "start_time": "2022-05-24T13:42:49.974Z"
   },
   {
    "duration": 154,
    "start_time": "2022-05-24T13:42:53.847Z"
   },
   {
    "duration": 9,
    "start_time": "2022-05-24T15:04:09.395Z"
   },
   {
    "duration": 32,
    "start_time": "2022-05-24T15:04:17.617Z"
   },
   {
    "duration": 8,
    "start_time": "2022-05-24T15:06:07.876Z"
   },
   {
    "duration": 157,
    "start_time": "2022-05-24T15:06:51.608Z"
   },
   {
    "duration": 149,
    "start_time": "2022-05-24T15:06:57.069Z"
   },
   {
    "duration": 184,
    "start_time": "2022-05-24T15:07:16.275Z"
   },
   {
    "duration": 538,
    "start_time": "2022-05-24T15:07:22.755Z"
   },
   {
    "duration": 137,
    "start_time": "2022-05-24T15:07:28.960Z"
   },
   {
    "duration": 176,
    "start_time": "2022-05-24T15:07:33.123Z"
   },
   {
    "duration": 150,
    "start_time": "2022-05-24T15:07:38.619Z"
   },
   {
    "duration": 15,
    "start_time": "2022-05-24T15:12:15.319Z"
   },
   {
    "duration": 137,
    "start_time": "2022-05-24T15:12:40.025Z"
   },
   {
    "duration": 191,
    "start_time": "2022-05-24T15:13:36.154Z"
   },
   {
    "duration": 166,
    "start_time": "2022-05-24T15:13:46.586Z"
   },
   {
    "duration": 66,
    "start_time": "2022-05-24T15:19:31.079Z"
   },
   {
    "duration": 9,
    "start_time": "2022-05-24T15:19:41.765Z"
   },
   {
    "duration": 146,
    "start_time": "2022-05-24T15:19:58.400Z"
   },
   {
    "duration": 165,
    "start_time": "2022-05-24T15:20:10.100Z"
   },
   {
    "duration": 154,
    "start_time": "2022-05-24T15:20:17.690Z"
   },
   {
    "duration": 178,
    "start_time": "2022-05-24T15:20:22.259Z"
   },
   {
    "duration": 165,
    "start_time": "2022-05-24T15:20:34.492Z"
   },
   {
    "duration": 200,
    "start_time": "2022-05-24T15:21:17.125Z"
   },
   {
    "duration": 8,
    "start_time": "2022-05-24T15:23:39.506Z"
   },
   {
    "duration": 179,
    "start_time": "2022-05-24T15:24:10.164Z"
   },
   {
    "duration": 177,
    "start_time": "2022-05-24T15:24:19.380Z"
   },
   {
    "duration": 163,
    "start_time": "2022-05-24T15:24:24.192Z"
   },
   {
    "duration": 155,
    "start_time": "2022-05-24T15:25:36.564Z"
   },
   {
    "duration": 158,
    "start_time": "2022-05-24T15:26:00.612Z"
   },
   {
    "duration": 152,
    "start_time": "2022-05-24T15:26:12.467Z"
   },
   {
    "duration": 230,
    "start_time": "2022-05-24T16:08:22.112Z"
   },
   {
    "duration": 6,
    "start_time": "2022-05-24T16:09:22.795Z"
   },
   {
    "duration": 192,
    "start_time": "2022-05-24T16:12:46.123Z"
   },
   {
    "duration": 219,
    "start_time": "2022-05-24T16:15:19.942Z"
   },
   {
    "duration": 5,
    "start_time": "2022-05-24T16:16:08.368Z"
   },
   {
    "duration": 406,
    "start_time": "2022-05-24T16:19:27.494Z"
   },
   {
    "duration": 21,
    "start_time": "2022-05-24T16:20:42.712Z"
   },
   {
    "duration": 1156,
    "start_time": "2022-05-24T18:25:41.503Z"
   },
   {
    "duration": 14,
    "start_time": "2022-05-24T18:25:42.661Z"
   },
   {
    "duration": 65,
    "start_time": "2022-05-24T18:25:42.676Z"
   },
   {
    "duration": 17,
    "start_time": "2022-05-24T18:25:42.743Z"
   },
   {
    "duration": 4,
    "start_time": "2022-05-24T18:25:42.761Z"
   },
   {
    "duration": 4,
    "start_time": "2022-05-24T18:25:42.766Z"
   },
   {
    "duration": 11,
    "start_time": "2022-05-24T18:25:42.771Z"
   },
   {
    "duration": 8,
    "start_time": "2022-05-24T18:25:42.783Z"
   },
   {
    "duration": 3,
    "start_time": "2022-05-24T18:25:42.792Z"
   },
   {
    "duration": 7,
    "start_time": "2022-05-24T18:25:42.797Z"
   },
   {
    "duration": 3,
    "start_time": "2022-05-24T18:25:42.806Z"
   },
   {
    "duration": 8,
    "start_time": "2022-05-24T18:25:42.811Z"
   },
   {
    "duration": 9,
    "start_time": "2022-05-24T18:25:42.821Z"
   },
   {
    "duration": 29,
    "start_time": "2022-05-24T18:25:42.831Z"
   },
   {
    "duration": 4,
    "start_time": "2022-05-24T18:25:42.862Z"
   },
   {
    "duration": 10,
    "start_time": "2022-05-24T18:25:42.867Z"
   },
   {
    "duration": 10,
    "start_time": "2022-05-24T18:25:42.878Z"
   },
   {
    "duration": 23,
    "start_time": "2022-05-24T18:25:42.889Z"
   },
   {
    "duration": 23,
    "start_time": "2022-05-24T18:25:42.913Z"
   },
   {
    "duration": 31,
    "start_time": "2022-05-24T18:25:42.959Z"
   },
   {
    "duration": 288,
    "start_time": "2022-05-24T18:25:42.991Z"
   },
   {
    "duration": 23,
    "start_time": "2022-05-24T18:25:43.281Z"
   },
   {
    "duration": 143,
    "start_time": "2022-05-24T18:25:43.305Z"
   },
   {
    "duration": 11,
    "start_time": "2022-05-24T18:25:43.450Z"
   },
   {
    "duration": 122,
    "start_time": "2022-05-24T18:25:43.462Z"
   },
   {
    "duration": 155,
    "start_time": "2022-05-24T18:25:43.585Z"
   },
   {
    "duration": 20,
    "start_time": "2022-05-24T18:25:43.742Z"
   },
   {
    "duration": 9,
    "start_time": "2022-05-24T18:25:43.766Z"
   },
   {
    "duration": 125,
    "start_time": "2022-05-24T18:25:43.777Z"
   },
   {
    "duration": 14,
    "start_time": "2022-05-24T18:25:43.904Z"
   },
   {
    "duration": 165,
    "start_time": "2022-05-24T18:25:43.920Z"
   },
   {
    "duration": 8,
    "start_time": "2022-05-24T18:25:44.087Z"
   },
   {
    "duration": 225,
    "start_time": "2022-05-24T18:25:44.097Z"
   },
   {
    "duration": 8,
    "start_time": "2022-05-24T18:25:44.324Z"
   },
   {
    "duration": 122,
    "start_time": "2022-05-24T18:25:44.333Z"
   },
   {
    "duration": 13,
    "start_time": "2022-05-24T18:25:44.459Z"
   },
   {
    "duration": 172,
    "start_time": "2022-05-24T18:25:44.473Z"
   },
   {
    "duration": 13,
    "start_time": "2022-05-24T18:25:44.647Z"
   },
   {
    "duration": 119,
    "start_time": "2022-05-24T18:25:44.662Z"
   },
   {
    "duration": 282,
    "start_time": "2022-05-24T18:25:44.783Z"
   },
   {
    "duration": 251,
    "start_time": "2022-05-24T18:25:45.067Z"
   },
   {
    "duration": 6,
    "start_time": "2022-05-24T18:25:45.319Z"
   },
   {
    "duration": 12,
    "start_time": "2022-05-24T18:25:45.326Z"
   },
   {
    "duration": 264,
    "start_time": "2022-05-24T18:25:45.340Z"
   },
   {
    "duration": 223,
    "start_time": "2022-05-24T18:25:45.605Z"
   },
   {
    "duration": 5,
    "start_time": "2022-05-24T18:25:45.830Z"
   },
   {
    "duration": 304,
    "start_time": "2022-05-24T18:25:45.836Z"
   },
   {
    "duration": 4,
    "start_time": "2022-05-24T18:25:46.142Z"
   },
   {
    "duration": 226,
    "start_time": "2022-05-24T18:25:46.148Z"
   },
   {
    "duration": 5,
    "start_time": "2022-05-24T18:25:46.375Z"
   },
   {
    "duration": 170,
    "start_time": "2022-05-24T18:25:46.382Z"
   },
   {
    "duration": 150,
    "start_time": "2022-05-24T18:25:46.553Z"
   },
   {
    "duration": 150,
    "start_time": "2022-05-24T18:25:46.704Z"
   },
   {
    "duration": 17,
    "start_time": "2022-05-24T18:25:46.859Z"
   },
   {
    "duration": 144,
    "start_time": "2022-05-24T18:25:46.878Z"
   },
   {
    "duration": 7,
    "start_time": "2022-05-24T18:25:47.024Z"
   },
   {
    "duration": 44,
    "start_time": "2022-05-24T18:25:47.032Z"
   },
   {
    "duration": 39,
    "start_time": "2022-05-24T18:25:47.078Z"
   },
   {
    "duration": 36,
    "start_time": "2022-05-24T18:25:47.119Z"
   },
   {
    "duration": 149,
    "start_time": "2022-05-24T18:25:47.157Z"
   },
   {
    "duration": 27,
    "start_time": "2022-05-24T18:25:47.308Z"
   },
   {
    "duration": 24,
    "start_time": "2022-05-24T18:25:47.337Z"
   },
   {
    "duration": 145,
    "start_time": "2022-05-24T18:25:47.363Z"
   },
   {
    "duration": 9,
    "start_time": "2022-05-24T18:25:47.510Z"
   },
   {
    "duration": 159,
    "start_time": "2022-05-24T18:25:47.521Z"
   },
   {
    "duration": 7,
    "start_time": "2022-05-24T18:25:47.682Z"
   },
   {
    "duration": 234,
    "start_time": "2022-05-24T18:25:47.690Z"
   },
   {
    "duration": 10,
    "start_time": "2022-05-24T18:25:47.926Z"
   },
   {
    "duration": 175,
    "start_time": "2022-05-24T18:25:47.938Z"
   },
   {
    "duration": 213,
    "start_time": "2022-05-24T18:25:48.114Z"
   },
   {
    "duration": 5,
    "start_time": "2022-05-24T18:25:48.328Z"
   },
   {
    "duration": 241,
    "start_time": "2022-05-24T18:25:48.334Z"
   },
   {
    "duration": 217,
    "start_time": "2022-05-24T18:25:48.577Z"
   },
   {
    "duration": 4,
    "start_time": "2022-05-24T18:25:48.796Z"
   },
   {
    "duration": 399,
    "start_time": "2022-05-24T18:25:48.801Z"
   },
   {
    "duration": 435,
    "start_time": "2022-05-24T18:26:20.142Z"
   },
   {
    "duration": 0,
    "start_time": "2022-05-24T18:51:22.479Z"
   },
   {
    "duration": 32141,
    "start_time": "2022-05-24T18:51:27.944Z"
   },
   {
    "duration": 40,
    "start_time": "2022-05-24T19:13:24.215Z"
   },
   {
    "duration": 175,
    "start_time": "2022-05-24T19:16:52.531Z"
   },
   {
    "duration": 15,
    "start_time": "2022-05-24T19:16:52.708Z"
   },
   {
    "duration": 90,
    "start_time": "2022-05-24T19:16:52.724Z"
   },
   {
    "duration": 4,
    "start_time": "2022-05-24T19:16:52.816Z"
   },
   {
    "duration": 5,
    "start_time": "2022-05-24T19:16:52.823Z"
   },
   {
    "duration": 5,
    "start_time": "2022-05-24T19:16:52.829Z"
   },
   {
    "duration": 32,
    "start_time": "2022-05-24T19:16:52.835Z"
   },
   {
    "duration": 11,
    "start_time": "2022-05-24T19:16:52.868Z"
   },
   {
    "duration": 4,
    "start_time": "2022-05-24T19:16:52.880Z"
   },
   {
    "duration": 10,
    "start_time": "2022-05-24T19:16:52.885Z"
   },
   {
    "duration": 9,
    "start_time": "2022-05-24T19:16:52.896Z"
   },
   {
    "duration": 9,
    "start_time": "2022-05-24T19:16:52.907Z"
   },
   {
    "duration": 42,
    "start_time": "2022-05-24T19:16:52.918Z"
   },
   {
    "duration": 6,
    "start_time": "2022-05-24T19:16:52.963Z"
   },
   {
    "duration": 14,
    "start_time": "2022-05-24T19:16:52.971Z"
   },
   {
    "duration": 6,
    "start_time": "2022-05-24T19:16:52.987Z"
   },
   {
    "duration": 14,
    "start_time": "2022-05-24T19:16:52.994Z"
   },
   {
    "duration": 32,
    "start_time": "2022-05-24T19:16:53.010Z"
   },
   {
    "duration": 26,
    "start_time": "2022-05-24T19:16:53.059Z"
   },
   {
    "duration": 34,
    "start_time": "2022-05-24T19:16:53.087Z"
   },
   {
    "duration": 335,
    "start_time": "2022-05-24T19:16:53.123Z"
   },
   {
    "duration": 26,
    "start_time": "2022-05-24T19:16:53.459Z"
   },
   {
    "duration": 151,
    "start_time": "2022-05-24T19:16:53.486Z"
   },
   {
    "duration": 9,
    "start_time": "2022-05-24T19:16:53.638Z"
   },
   {
    "duration": 142,
    "start_time": "2022-05-24T19:16:53.648Z"
   },
   {
    "duration": 169,
    "start_time": "2022-05-24T19:16:53.792Z"
   },
   {
    "duration": 12,
    "start_time": "2022-05-24T19:16:53.963Z"
   },
   {
    "duration": 9,
    "start_time": "2022-05-24T19:16:53.976Z"
   },
   {
    "duration": 142,
    "start_time": "2022-05-24T19:16:53.987Z"
   },
   {
    "duration": 15,
    "start_time": "2022-05-24T19:16:54.130Z"
   },
   {
    "duration": 173,
    "start_time": "2022-05-24T19:16:54.147Z"
   },
   {
    "duration": 8,
    "start_time": "2022-05-24T19:16:54.322Z"
   },
   {
    "duration": 171,
    "start_time": "2022-05-24T19:16:54.331Z"
   },
   {
    "duration": 8,
    "start_time": "2022-05-24T19:16:54.504Z"
   },
   {
    "duration": 128,
    "start_time": "2022-05-24T19:16:54.514Z"
   },
   {
    "duration": 22,
    "start_time": "2022-05-24T19:16:54.643Z"
   },
   {
    "duration": 168,
    "start_time": "2022-05-24T19:16:54.666Z"
   },
   {
    "duration": 8,
    "start_time": "2022-05-24T19:16:54.836Z"
   },
   {
    "duration": 124,
    "start_time": "2022-05-24T19:16:54.846Z"
   },
   {
    "duration": 284,
    "start_time": "2022-05-24T19:16:54.971Z"
   },
   {
    "duration": 256,
    "start_time": "2022-05-24T19:16:55.258Z"
   },
   {
    "duration": 6,
    "start_time": "2022-05-24T19:16:55.516Z"
   },
   {
    "duration": 94,
    "start_time": "2022-05-24T19:16:55.524Z"
   },
   {
    "duration": 373,
    "start_time": "2022-05-24T19:16:55.619Z"
   },
   {
    "duration": 226,
    "start_time": "2022-05-24T19:16:55.993Z"
   },
   {
    "duration": 5,
    "start_time": "2022-05-24T19:16:56.220Z"
   },
   {
    "duration": 221,
    "start_time": "2022-05-24T19:16:56.226Z"
   },
   {
    "duration": 13,
    "start_time": "2022-05-24T19:16:56.449Z"
   },
   {
    "duration": 232,
    "start_time": "2022-05-24T19:16:56.464Z"
   },
   {
    "duration": 5,
    "start_time": "2022-05-24T19:16:56.698Z"
   },
   {
    "duration": 163,
    "start_time": "2022-05-24T19:16:56.704Z"
   },
   {
    "duration": 154,
    "start_time": "2022-05-24T19:16:56.868Z"
   },
   {
    "duration": 160,
    "start_time": "2022-05-24T19:16:57.023Z"
   },
   {
    "duration": 20,
    "start_time": "2022-05-24T19:16:57.184Z"
   },
   {
    "duration": 143,
    "start_time": "2022-05-24T19:16:57.205Z"
   },
   {
    "duration": 13,
    "start_time": "2022-05-24T19:16:57.349Z"
   },
   {
    "duration": 27,
    "start_time": "2022-05-24T19:16:57.363Z"
   },
   {
    "duration": 24,
    "start_time": "2022-05-24T19:16:57.392Z"
   },
   {
    "duration": 22,
    "start_time": "2022-05-24T19:16:57.417Z"
   },
   {
    "duration": 145,
    "start_time": "2022-05-24T19:16:57.459Z"
   },
   {
    "duration": 27,
    "start_time": "2022-05-24T19:16:57.606Z"
   },
   {
    "duration": 7,
    "start_time": "2022-05-24T19:16:57.635Z"
   },
   {
    "duration": 158,
    "start_time": "2022-05-24T19:16:57.643Z"
   },
   {
    "duration": 10,
    "start_time": "2022-05-24T19:16:57.803Z"
   },
   {
    "duration": 202,
    "start_time": "2022-05-24T19:16:57.815Z"
   },
   {
    "duration": 11,
    "start_time": "2022-05-24T19:16:58.019Z"
   },
   {
    "duration": 179,
    "start_time": "2022-05-24T19:16:58.032Z"
   },
   {
    "duration": 8,
    "start_time": "2022-05-24T19:16:58.212Z"
   },
   {
    "duration": 157,
    "start_time": "2022-05-24T19:16:58.221Z"
   },
   {
    "duration": 214,
    "start_time": "2022-05-24T19:16:58.380Z"
   },
   {
    "duration": 5,
    "start_time": "2022-05-24T19:16:58.595Z"
   },
   {
    "duration": 146,
    "start_time": "2022-05-24T19:16:58.601Z"
   },
   {
    "duration": 208,
    "start_time": "2022-05-24T19:16:58.748Z"
   },
   {
    "duration": 5,
    "start_time": "2022-05-24T19:16:58.959Z"
   },
   {
    "duration": 416,
    "start_time": "2022-05-24T19:16:58.966Z"
   },
   {
    "duration": 54,
    "start_time": "2022-05-25T05:41:45.190Z"
   },
   {
    "duration": 1820,
    "start_time": "2022-05-25T05:41:50.724Z"
   },
   {
    "duration": 15,
    "start_time": "2022-05-25T05:41:52.546Z"
   },
   {
    "duration": 85,
    "start_time": "2022-05-25T05:41:52.563Z"
   },
   {
    "duration": 4,
    "start_time": "2022-05-25T05:41:52.650Z"
   },
   {
    "duration": 7,
    "start_time": "2022-05-25T05:41:52.655Z"
   },
   {
    "duration": 8,
    "start_time": "2022-05-25T05:41:52.664Z"
   },
   {
    "duration": 12,
    "start_time": "2022-05-25T05:41:52.674Z"
   },
   {
    "duration": 9,
    "start_time": "2022-05-25T05:41:52.688Z"
   },
   {
    "duration": 10,
    "start_time": "2022-05-25T05:41:52.726Z"
   },
   {
    "duration": 49,
    "start_time": "2022-05-25T05:41:52.739Z"
   },
   {
    "duration": 41,
    "start_time": "2022-05-25T05:41:52.789Z"
   },
   {
    "duration": 24,
    "start_time": "2022-05-25T05:41:52.833Z"
   },
   {
    "duration": 14,
    "start_time": "2022-05-25T05:41:52.859Z"
   },
   {
    "duration": 12,
    "start_time": "2022-05-25T05:41:52.875Z"
   },
   {
    "duration": 6,
    "start_time": "2022-05-25T05:41:52.889Z"
   },
   {
    "duration": 8,
    "start_time": "2022-05-25T05:41:52.896Z"
   },
   {
    "duration": 5,
    "start_time": "2022-05-25T05:41:52.906Z"
   },
   {
    "duration": 20,
    "start_time": "2022-05-25T05:41:52.914Z"
   },
   {
    "duration": 25,
    "start_time": "2022-05-25T05:41:52.935Z"
   },
   {
    "duration": 27,
    "start_time": "2022-05-25T05:41:52.962Z"
   },
   {
    "duration": 51,
    "start_time": "2022-05-25T05:41:52.990Z"
   },
   {
    "duration": 311,
    "start_time": "2022-05-25T05:41:53.042Z"
   },
   {
    "duration": 26,
    "start_time": "2022-05-25T05:41:53.355Z"
   },
   {
    "duration": 186,
    "start_time": "2022-05-25T05:41:53.383Z"
   },
   {
    "duration": 9,
    "start_time": "2022-05-25T05:41:53.570Z"
   },
   {
    "duration": 131,
    "start_time": "2022-05-25T05:41:53.581Z"
   },
   {
    "duration": 164,
    "start_time": "2022-05-25T05:41:53.714Z"
   },
   {
    "duration": 9,
    "start_time": "2022-05-25T05:41:53.882Z"
   },
   {
    "duration": 18,
    "start_time": "2022-05-25T05:41:53.892Z"
   },
   {
    "duration": 134,
    "start_time": "2022-05-25T05:41:53.912Z"
   },
   {
    "duration": 16,
    "start_time": "2022-05-25T05:41:54.049Z"
   },
   {
    "duration": 186,
    "start_time": "2022-05-25T05:41:54.066Z"
   },
   {
    "duration": 11,
    "start_time": "2022-05-25T05:41:54.254Z"
   },
   {
    "duration": 294,
    "start_time": "2022-05-25T05:41:54.267Z"
   },
   {
    "duration": 9,
    "start_time": "2022-05-25T05:41:54.563Z"
   },
   {
    "duration": 140,
    "start_time": "2022-05-25T05:41:54.574Z"
   },
   {
    "duration": 20,
    "start_time": "2022-05-25T05:41:54.716Z"
   },
   {
    "duration": 185,
    "start_time": "2022-05-25T05:41:54.738Z"
   },
   {
    "duration": 9,
    "start_time": "2022-05-25T05:41:54.927Z"
   },
   {
    "duration": 134,
    "start_time": "2022-05-25T05:41:54.937Z"
   },
   {
    "duration": 317,
    "start_time": "2022-05-25T05:41:55.074Z"
   },
   {
    "duration": 289,
    "start_time": "2022-05-25T05:41:55.393Z"
   },
   {
    "duration": 6,
    "start_time": "2022-05-25T05:41:55.684Z"
   },
   {
    "duration": 19,
    "start_time": "2022-05-25T05:41:55.692Z"
   },
   {
    "duration": 271,
    "start_time": "2022-05-25T05:41:55.727Z"
   },
   {
    "duration": 244,
    "start_time": "2022-05-25T05:41:55.999Z"
   },
   {
    "duration": 6,
    "start_time": "2022-05-25T05:41:56.244Z"
   },
   {
    "duration": 325,
    "start_time": "2022-05-25T05:41:56.251Z"
   },
   {
    "duration": 5,
    "start_time": "2022-05-25T05:41:56.578Z"
   },
   {
    "duration": 254,
    "start_time": "2022-05-25T05:41:56.585Z"
   },
   {
    "duration": 6,
    "start_time": "2022-05-25T05:41:56.840Z"
   },
   {
    "duration": 158,
    "start_time": "2022-05-25T05:41:56.848Z"
   },
   {
    "duration": 158,
    "start_time": "2022-05-25T05:41:57.008Z"
   },
   {
    "duration": 153,
    "start_time": "2022-05-25T05:41:57.168Z"
   },
   {
    "duration": 21,
    "start_time": "2022-05-25T05:41:57.323Z"
   },
   {
    "duration": 158,
    "start_time": "2022-05-25T05:41:57.346Z"
   },
   {
    "duration": 7,
    "start_time": "2022-05-25T05:41:57.505Z"
   },
   {
    "duration": 30,
    "start_time": "2022-05-25T05:41:57.514Z"
   },
   {
    "duration": 24,
    "start_time": "2022-05-25T05:41:57.546Z"
   },
   {
    "duration": 21,
    "start_time": "2022-05-25T05:41:57.571Z"
   },
   {
    "duration": 181,
    "start_time": "2022-05-25T05:41:57.594Z"
   },
   {
    "duration": 30,
    "start_time": "2022-05-25T05:41:57.777Z"
   },
   {
    "duration": 23,
    "start_time": "2022-05-25T05:41:57.808Z"
   },
   {
    "duration": 166,
    "start_time": "2022-05-25T05:41:57.832Z"
   },
   {
    "duration": 8,
    "start_time": "2022-05-25T05:41:58.000Z"
   },
   {
    "duration": 239,
    "start_time": "2022-05-25T05:41:58.010Z"
   },
   {
    "duration": 8,
    "start_time": "2022-05-25T05:41:58.251Z"
   },
   {
    "duration": 372,
    "start_time": "2022-05-25T05:41:58.261Z"
   },
   {
    "duration": 9,
    "start_time": "2022-05-25T05:41:58.635Z"
   },
   {
    "duration": 318,
    "start_time": "2022-05-25T05:41:58.645Z"
   },
   {
    "duration": 331,
    "start_time": "2022-05-25T05:41:58.965Z"
   },
   {
    "duration": 6,
    "start_time": "2022-05-25T05:41:59.298Z"
   },
   {
    "duration": 274,
    "start_time": "2022-05-25T05:41:59.306Z"
   },
   {
    "duration": 252,
    "start_time": "2022-05-25T05:41:59.582Z"
   },
   {
    "duration": 6,
    "start_time": "2022-05-25T05:41:59.835Z"
   },
   {
    "duration": 452,
    "start_time": "2022-05-25T05:41:59.843Z"
   },
   {
    "duration": 903,
    "start_time": "2022-05-25T05:42:59.036Z"
   },
   {
    "duration": 17,
    "start_time": "2022-05-25T05:42:59.942Z"
   },
   {
    "duration": 87,
    "start_time": "2022-05-25T05:42:59.961Z"
   },
   {
    "duration": 3,
    "start_time": "2022-05-25T05:43:00.050Z"
   },
   {
    "duration": 10,
    "start_time": "2022-05-25T05:43:00.055Z"
   },
   {
    "duration": 10,
    "start_time": "2022-05-25T05:43:00.067Z"
   },
   {
    "duration": 38,
    "start_time": "2022-05-25T05:43:00.079Z"
   },
   {
    "duration": 19,
    "start_time": "2022-05-25T05:43:00.119Z"
   },
   {
    "duration": 6,
    "start_time": "2022-05-25T05:43:00.139Z"
   },
   {
    "duration": 31,
    "start_time": "2022-05-25T05:43:00.148Z"
   },
   {
    "duration": 29,
    "start_time": "2022-05-25T05:43:00.181Z"
   },
   {
    "duration": 22,
    "start_time": "2022-05-25T05:43:00.212Z"
   },
   {
    "duration": 22,
    "start_time": "2022-05-25T05:43:00.236Z"
   },
   {
    "duration": 11,
    "start_time": "2022-05-25T05:43:00.260Z"
   },
   {
    "duration": 17,
    "start_time": "2022-05-25T05:43:00.273Z"
   },
   {
    "duration": 15,
    "start_time": "2022-05-25T05:43:00.291Z"
   },
   {
    "duration": 14,
    "start_time": "2022-05-25T05:43:00.307Z"
   },
   {
    "duration": 43,
    "start_time": "2022-05-25T05:43:00.323Z"
   },
   {
    "duration": 26,
    "start_time": "2022-05-25T05:43:00.368Z"
   },
   {
    "duration": 35,
    "start_time": "2022-05-25T05:43:00.396Z"
   },
   {
    "duration": 309,
    "start_time": "2022-05-25T05:43:00.433Z"
   },
   {
    "duration": 27,
    "start_time": "2022-05-25T05:43:00.743Z"
   },
   {
    "duration": 167,
    "start_time": "2022-05-25T05:43:00.772Z"
   },
   {
    "duration": 11,
    "start_time": "2022-05-25T05:43:00.941Z"
   },
   {
    "duration": 139,
    "start_time": "2022-05-25T05:43:00.954Z"
   },
   {
    "duration": 167,
    "start_time": "2022-05-25T05:43:01.095Z"
   },
   {
    "duration": 9,
    "start_time": "2022-05-25T05:43:01.264Z"
   },
   {
    "duration": 32,
    "start_time": "2022-05-25T05:43:01.277Z"
   },
   {
    "duration": 138,
    "start_time": "2022-05-25T05:43:01.311Z"
   },
   {
    "duration": 17,
    "start_time": "2022-05-25T05:43:01.451Z"
   },
   {
    "duration": 217,
    "start_time": "2022-05-25T05:43:01.469Z"
   },
   {
    "duration": 8,
    "start_time": "2022-05-25T05:43:01.688Z"
   },
   {
    "duration": 279,
    "start_time": "2022-05-25T05:43:01.697Z"
   },
   {
    "duration": 9,
    "start_time": "2022-05-25T05:43:01.978Z"
   },
   {
    "duration": 138,
    "start_time": "2022-05-25T05:43:01.988Z"
   },
   {
    "duration": 16,
    "start_time": "2022-05-25T05:43:02.127Z"
   },
   {
    "duration": 223,
    "start_time": "2022-05-25T05:43:02.145Z"
   },
   {
    "duration": 9,
    "start_time": "2022-05-25T05:43:02.370Z"
   },
   {
    "duration": 126,
    "start_time": "2022-05-25T05:43:02.380Z"
   },
   {
    "duration": 312,
    "start_time": "2022-05-25T05:43:02.508Z"
   },
   {
    "duration": 280,
    "start_time": "2022-05-25T05:43:02.826Z"
   },
   {
    "duration": 6,
    "start_time": "2022-05-25T05:43:03.107Z"
   },
   {
    "duration": 25,
    "start_time": "2022-05-25T05:43:03.114Z"
   },
   {
    "duration": 332,
    "start_time": "2022-05-25T05:43:03.141Z"
   },
   {
    "duration": 233,
    "start_time": "2022-05-25T05:43:03.475Z"
   },
   {
    "duration": 17,
    "start_time": "2022-05-25T05:43:03.710Z"
   },
   {
    "duration": 329,
    "start_time": "2022-05-25T05:43:03.728Z"
   },
   {
    "duration": 7,
    "start_time": "2022-05-25T05:43:04.059Z"
   },
   {
    "duration": 242,
    "start_time": "2022-05-25T05:43:04.067Z"
   },
   {
    "duration": 5,
    "start_time": "2022-05-25T05:43:04.311Z"
   },
   {
    "duration": 179,
    "start_time": "2022-05-25T05:43:04.326Z"
   },
   {
    "duration": 169,
    "start_time": "2022-05-25T05:43:04.506Z"
   },
   {
    "duration": 158,
    "start_time": "2022-05-25T05:43:04.677Z"
   },
   {
    "duration": 19,
    "start_time": "2022-05-25T05:43:04.837Z"
   },
   {
    "duration": 192,
    "start_time": "2022-05-25T05:43:04.858Z"
   },
   {
    "duration": 8,
    "start_time": "2022-05-25T05:43:05.052Z"
   },
   {
    "duration": 55,
    "start_time": "2022-05-25T05:43:05.062Z"
   },
   {
    "duration": 53,
    "start_time": "2022-05-25T05:43:05.118Z"
   },
   {
    "duration": 25,
    "start_time": "2022-05-25T05:43:05.172Z"
   },
   {
    "duration": 131,
    "start_time": "2022-05-25T05:43:05.199Z"
   },
   {
    "duration": 28,
    "start_time": "2022-05-25T05:43:05.331Z"
   },
   {
    "duration": 12,
    "start_time": "2022-05-25T05:43:05.361Z"
   },
   {
    "duration": 165,
    "start_time": "2022-05-25T05:43:05.374Z"
   },
   {
    "duration": 8,
    "start_time": "2022-05-25T05:43:05.541Z"
   },
   {
    "duration": 155,
    "start_time": "2022-05-25T05:43:05.551Z"
   },
   {
    "duration": 19,
    "start_time": "2022-05-25T05:43:05.707Z"
   },
   {
    "duration": 167,
    "start_time": "2022-05-25T05:43:05.728Z"
   },
   {
    "duration": 10,
    "start_time": "2022-05-25T05:43:05.897Z"
   },
   {
    "duration": 184,
    "start_time": "2022-05-25T05:43:05.909Z"
   },
   {
    "duration": 231,
    "start_time": "2022-05-25T05:43:06.095Z"
   },
   {
    "duration": 6,
    "start_time": "2022-05-25T05:43:06.328Z"
   },
   {
    "duration": 265,
    "start_time": "2022-05-25T05:43:06.336Z"
   },
   {
    "duration": 234,
    "start_time": "2022-05-25T05:43:06.603Z"
   },
   {
    "duration": 6,
    "start_time": "2022-05-25T05:43:06.838Z"
   },
   {
    "duration": 429,
    "start_time": "2022-05-25T05:43:06.845Z"
   },
   {
    "duration": 65,
    "start_time": "2022-05-25T15:09:07.862Z"
   },
   {
    "duration": 1371,
    "start_time": "2022-05-25T15:09:13.013Z"
   },
   {
    "duration": 16,
    "start_time": "2022-05-25T15:09:14.387Z"
   },
   {
    "duration": 91,
    "start_time": "2022-05-25T15:09:14.405Z"
   },
   {
    "duration": 5,
    "start_time": "2022-05-25T15:09:14.497Z"
   },
   {
    "duration": 8,
    "start_time": "2022-05-25T15:09:14.504Z"
   },
   {
    "duration": 12,
    "start_time": "2022-05-25T15:09:14.514Z"
   },
   {
    "duration": 29,
    "start_time": "2022-05-25T15:09:14.528Z"
   },
   {
    "duration": 9,
    "start_time": "2022-05-25T15:09:14.558Z"
   },
   {
    "duration": 5,
    "start_time": "2022-05-25T15:09:14.570Z"
   },
   {
    "duration": 10,
    "start_time": "2022-05-25T15:09:14.576Z"
   },
   {
    "duration": 8,
    "start_time": "2022-05-25T15:09:14.588Z"
   },
   {
    "duration": 7,
    "start_time": "2022-05-25T15:09:14.598Z"
   },
   {
    "duration": 8,
    "start_time": "2022-05-25T15:09:14.606Z"
   },
   {
    "duration": 34,
    "start_time": "2022-05-25T15:09:14.618Z"
   },
   {
    "duration": 10,
    "start_time": "2022-05-25T15:09:14.654Z"
   },
   {
    "duration": 5,
    "start_time": "2022-05-25T15:09:14.666Z"
   },
   {
    "duration": 12,
    "start_time": "2022-05-25T15:09:14.673Z"
   },
   {
    "duration": 28,
    "start_time": "2022-05-25T15:09:14.686Z"
   },
   {
    "duration": 64,
    "start_time": "2022-05-25T15:09:14.716Z"
   },
   {
    "duration": 35,
    "start_time": "2022-05-25T15:09:14.782Z"
   },
   {
    "duration": 359,
    "start_time": "2022-05-25T15:09:14.818Z"
   },
   {
    "duration": 39,
    "start_time": "2022-05-25T15:09:15.180Z"
   },
   {
    "duration": 222,
    "start_time": "2022-05-25T15:09:15.222Z"
   },
   {
    "duration": 12,
    "start_time": "2022-05-25T15:09:15.453Z"
   },
   {
    "duration": 175,
    "start_time": "2022-05-25T15:09:15.467Z"
   },
   {
    "duration": 170,
    "start_time": "2022-05-25T15:09:15.652Z"
   },
   {
    "duration": 9,
    "start_time": "2022-05-25T15:09:15.824Z"
   },
   {
    "duration": 25,
    "start_time": "2022-05-25T15:09:15.835Z"
   },
   {
    "duration": 141,
    "start_time": "2022-05-25T15:09:15.861Z"
   },
   {
    "duration": 28,
    "start_time": "2022-05-25T15:09:16.004Z"
   },
   {
    "duration": 197,
    "start_time": "2022-05-25T15:09:16.035Z"
   },
   {
    "duration": 24,
    "start_time": "2022-05-25T15:09:16.234Z"
   },
   {
    "duration": 246,
    "start_time": "2022-05-25T15:09:16.260Z"
   },
   {
    "duration": 9,
    "start_time": "2022-05-25T15:09:16.508Z"
   },
   {
    "duration": 138,
    "start_time": "2022-05-25T15:09:16.518Z"
   },
   {
    "duration": 14,
    "start_time": "2022-05-25T15:09:16.658Z"
   },
   {
    "duration": 193,
    "start_time": "2022-05-25T15:09:16.674Z"
   },
   {
    "duration": 10,
    "start_time": "2022-05-25T15:09:16.868Z"
   },
   {
    "duration": 135,
    "start_time": "2022-05-25T15:09:16.880Z"
   },
   {
    "duration": 337,
    "start_time": "2022-05-25T15:09:17.017Z"
   },
   {
    "duration": 301,
    "start_time": "2022-05-25T15:09:17.358Z"
   },
   {
    "duration": 8,
    "start_time": "2022-05-25T15:09:17.660Z"
   },
   {
    "duration": 16,
    "start_time": "2022-05-25T15:09:17.670Z"
   },
   {
    "duration": 311,
    "start_time": "2022-05-25T15:09:17.688Z"
   },
   {
    "duration": 101,
    "start_time": "2022-05-25T15:09:18.001Z"
   },
   {
    "duration": 86,
    "start_time": "2022-05-25T15:11:41.681Z"
   },
   {
    "duration": 133,
    "start_time": "2022-05-25T15:12:05.661Z"
   },
   {
    "duration": 17,
    "start_time": "2022-05-25T15:12:05.796Z"
   },
   {
    "duration": 106,
    "start_time": "2022-05-25T15:12:05.815Z"
   },
   {
    "duration": 4,
    "start_time": "2022-05-25T15:12:05.923Z"
   },
   {
    "duration": 6,
    "start_time": "2022-05-25T15:12:05.951Z"
   },
   {
    "duration": 5,
    "start_time": "2022-05-25T15:12:05.959Z"
   },
   {
    "duration": 15,
    "start_time": "2022-05-25T15:12:05.966Z"
   },
   {
    "duration": 10,
    "start_time": "2022-05-25T15:12:05.983Z"
   },
   {
    "duration": 12,
    "start_time": "2022-05-25T15:12:05.995Z"
   },
   {
    "duration": 15,
    "start_time": "2022-05-25T15:12:06.009Z"
   },
   {
    "duration": 27,
    "start_time": "2022-05-25T15:12:06.026Z"
   },
   {
    "duration": 10,
    "start_time": "2022-05-25T15:12:06.055Z"
   },
   {
    "duration": 10,
    "start_time": "2022-05-25T15:12:06.067Z"
   },
   {
    "duration": 6,
    "start_time": "2022-05-25T15:12:06.081Z"
   },
   {
    "duration": 4,
    "start_time": "2022-05-25T15:12:06.089Z"
   },
   {
    "duration": 6,
    "start_time": "2022-05-25T15:12:06.095Z"
   },
   {
    "duration": 11,
    "start_time": "2022-05-25T15:12:06.103Z"
   },
   {
    "duration": 64,
    "start_time": "2022-05-25T15:12:06.116Z"
   },
   {
    "duration": 30,
    "start_time": "2022-05-25T15:12:06.182Z"
   },
   {
    "duration": 63,
    "start_time": "2022-05-25T15:12:06.213Z"
   },
   {
    "duration": 399,
    "start_time": "2022-05-25T15:12:06.277Z"
   },
   {
    "duration": 27,
    "start_time": "2022-05-25T15:12:06.678Z"
   },
   {
    "duration": 160,
    "start_time": "2022-05-25T15:12:06.706Z"
   },
   {
    "duration": 9,
    "start_time": "2022-05-25T15:12:06.867Z"
   },
   {
    "duration": 130,
    "start_time": "2022-05-25T15:12:06.878Z"
   },
   {
    "duration": 160,
    "start_time": "2022-05-25T15:12:07.010Z"
   },
   {
    "duration": 9,
    "start_time": "2022-05-25T15:12:07.172Z"
   },
   {
    "duration": 9,
    "start_time": "2022-05-25T15:12:07.183Z"
   },
   {
    "duration": 148,
    "start_time": "2022-05-25T15:12:07.194Z"
   },
   {
    "duration": 18,
    "start_time": "2022-05-25T15:12:07.344Z"
   },
   {
    "duration": 188,
    "start_time": "2022-05-25T15:12:07.364Z"
   },
   {
    "duration": 9,
    "start_time": "2022-05-25T15:12:07.553Z"
   },
   {
    "duration": 204,
    "start_time": "2022-05-25T15:12:07.563Z"
   },
   {
    "duration": 9,
    "start_time": "2022-05-25T15:12:07.768Z"
   },
   {
    "duration": 132,
    "start_time": "2022-05-25T15:12:07.778Z"
   },
   {
    "duration": 15,
    "start_time": "2022-05-25T15:12:07.912Z"
   },
   {
    "duration": 193,
    "start_time": "2022-05-25T15:12:07.929Z"
   },
   {
    "duration": 9,
    "start_time": "2022-05-25T15:12:08.124Z"
   },
   {
    "duration": 157,
    "start_time": "2022-05-25T15:12:08.134Z"
   },
   {
    "duration": 409,
    "start_time": "2022-05-25T15:12:08.293Z"
   },
   {
    "duration": 305,
    "start_time": "2022-05-25T15:12:08.707Z"
   },
   {
    "duration": 8,
    "start_time": "2022-05-25T15:12:09.014Z"
   },
   {
    "duration": 15,
    "start_time": "2022-05-25T15:12:09.023Z"
   },
   {
    "duration": 290,
    "start_time": "2022-05-25T15:12:09.052Z"
   },
   {
    "duration": 93,
    "start_time": "2022-05-25T15:12:09.344Z"
   },
   {
    "duration": 252,
    "start_time": "2022-05-25T15:12:09.451Z"
   },
   {
    "duration": 6,
    "start_time": "2022-05-25T15:12:09.705Z"
   },
   {
    "duration": 254,
    "start_time": "2022-05-25T15:12:09.712Z"
   },
   {
    "duration": 7,
    "start_time": "2022-05-25T15:12:09.968Z"
   },
   {
    "duration": 268,
    "start_time": "2022-05-25T15:12:09.977Z"
   },
   {
    "duration": 9,
    "start_time": "2022-05-25T15:12:10.246Z"
   },
   {
    "duration": 171,
    "start_time": "2022-05-25T15:12:10.257Z"
   },
   {
    "duration": 182,
    "start_time": "2022-05-25T15:12:10.429Z"
   },
   {
    "duration": 297,
    "start_time": "2022-05-25T15:12:10.612Z"
   },
   {
    "duration": 23,
    "start_time": "2022-05-25T15:12:10.911Z"
   },
   {
    "duration": 171,
    "start_time": "2022-05-25T15:12:10.936Z"
   },
   {
    "duration": 8,
    "start_time": "2022-05-25T15:12:11.109Z"
   },
   {
    "duration": 37,
    "start_time": "2022-05-25T15:12:11.118Z"
   },
   {
    "duration": 39,
    "start_time": "2022-05-25T15:12:11.157Z"
   },
   {
    "duration": 22,
    "start_time": "2022-05-25T15:12:11.198Z"
   },
   {
    "duration": 184,
    "start_time": "2022-05-25T15:12:11.222Z"
   },
   {
    "duration": 46,
    "start_time": "2022-05-25T15:12:11.408Z"
   },
   {
    "duration": 9,
    "start_time": "2022-05-25T15:12:11.455Z"
   },
   {
    "duration": 172,
    "start_time": "2022-05-25T15:12:11.466Z"
   },
   {
    "duration": 13,
    "start_time": "2022-05-25T15:12:11.640Z"
   },
   {
    "duration": 170,
    "start_time": "2022-05-25T15:12:11.654Z"
   },
   {
    "duration": 9,
    "start_time": "2022-05-25T15:12:11.825Z"
   },
   {
    "duration": 188,
    "start_time": "2022-05-25T15:12:11.836Z"
   },
   {
    "duration": 8,
    "start_time": "2022-05-25T15:12:12.026Z"
   },
   {
    "duration": 184,
    "start_time": "2022-05-25T15:12:12.036Z"
   },
   {
    "duration": 244,
    "start_time": "2022-05-25T15:12:12.222Z"
   },
   {
    "duration": 6,
    "start_time": "2022-05-25T15:12:12.467Z"
   },
   {
    "duration": 189,
    "start_time": "2022-05-25T15:12:12.474Z"
   },
   {
    "duration": 252,
    "start_time": "2022-05-25T15:12:12.664Z"
   },
   {
    "duration": 6,
    "start_time": "2022-05-25T15:12:12.917Z"
   },
   {
    "duration": 459,
    "start_time": "2022-05-25T15:12:12.925Z"
   },
   {
    "duration": 28,
    "start_time": "2022-05-25T15:13:42.249Z"
   },
   {
    "duration": 963,
    "start_time": "2022-05-25T15:20:17.132Z"
   },
   {
    "duration": 37,
    "start_time": "2022-05-25T15:20:18.098Z"
   },
   {
    "duration": 126,
    "start_time": "2022-05-25T15:20:18.137Z"
   },
   {
    "duration": 6,
    "start_time": "2022-05-25T15:20:18.266Z"
   },
   {
    "duration": 20,
    "start_time": "2022-05-25T15:20:18.274Z"
   },
   {
    "duration": 5,
    "start_time": "2022-05-25T15:20:18.296Z"
   },
   {
    "duration": 18,
    "start_time": "2022-05-25T15:20:18.302Z"
   },
   {
    "duration": 31,
    "start_time": "2022-05-25T15:20:18.323Z"
   },
   {
    "duration": 5,
    "start_time": "2022-05-25T15:20:18.356Z"
   },
   {
    "duration": 15,
    "start_time": "2022-05-25T15:20:18.363Z"
   },
   {
    "duration": 21,
    "start_time": "2022-05-25T15:20:18.381Z"
   },
   {
    "duration": 16,
    "start_time": "2022-05-25T15:20:18.405Z"
   },
   {
    "duration": 10,
    "start_time": "2022-05-25T15:20:18.424Z"
   },
   {
    "duration": 18,
    "start_time": "2022-05-25T15:20:18.436Z"
   },
   {
    "duration": 17,
    "start_time": "2022-05-25T15:20:18.456Z"
   },
   {
    "duration": 16,
    "start_time": "2022-05-25T15:20:18.475Z"
   },
   {
    "duration": 18,
    "start_time": "2022-05-25T15:20:18.493Z"
   },
   {
    "duration": 37,
    "start_time": "2022-05-25T15:20:18.513Z"
   },
   {
    "duration": 42,
    "start_time": "2022-05-25T15:20:18.552Z"
   },
   {
    "duration": 58,
    "start_time": "2022-05-25T15:20:18.596Z"
   },
   {
    "duration": 406,
    "start_time": "2022-05-25T15:20:18.656Z"
   },
   {
    "duration": 41,
    "start_time": "2022-05-25T15:20:19.064Z"
   },
   {
    "duration": 237,
    "start_time": "2022-05-25T15:20:19.106Z"
   },
   {
    "duration": 18,
    "start_time": "2022-05-25T15:20:19.345Z"
   },
   {
    "duration": 148,
    "start_time": "2022-05-25T15:20:19.365Z"
   },
   {
    "duration": 180,
    "start_time": "2022-05-25T15:20:19.515Z"
   },
   {
    "duration": 10,
    "start_time": "2022-05-25T15:20:19.697Z"
   },
   {
    "duration": 11,
    "start_time": "2022-05-25T15:20:19.711Z"
   },
   {
    "duration": 216,
    "start_time": "2022-05-25T15:20:19.724Z"
   },
   {
    "duration": 30,
    "start_time": "2022-05-25T15:20:19.942Z"
   },
   {
    "duration": 230,
    "start_time": "2022-05-25T15:20:19.975Z"
   },
   {
    "duration": 9,
    "start_time": "2022-05-25T15:20:20.208Z"
   },
   {
    "duration": 277,
    "start_time": "2022-05-25T15:20:20.219Z"
   },
   {
    "duration": 13,
    "start_time": "2022-05-25T15:20:20.498Z"
   },
   {
    "duration": 210,
    "start_time": "2022-05-25T15:20:20.514Z"
   },
   {
    "duration": 30,
    "start_time": "2022-05-25T15:20:20.726Z"
   },
   {
    "duration": 210,
    "start_time": "2022-05-25T15:20:20.758Z"
   },
   {
    "duration": 10,
    "start_time": "2022-05-25T15:20:20.969Z"
   },
   {
    "duration": 169,
    "start_time": "2022-05-25T15:20:20.981Z"
   },
   {
    "duration": 442,
    "start_time": "2022-05-25T15:20:21.152Z"
   },
   {
    "duration": 410,
    "start_time": "2022-05-25T15:20:21.596Z"
   },
   {
    "duration": 8,
    "start_time": "2022-05-25T15:20:22.008Z"
   },
   {
    "duration": 27,
    "start_time": "2022-05-25T15:20:22.018Z"
   },
   {
    "duration": 339,
    "start_time": "2022-05-25T15:20:22.052Z"
   },
   {
    "duration": 28,
    "start_time": "2022-05-25T15:20:22.393Z"
   },
   {
    "duration": 136,
    "start_time": "2022-05-25T15:20:22.423Z"
   },
   {
    "duration": 361,
    "start_time": "2022-05-25T15:20:22.562Z"
   },
   {
    "duration": 10,
    "start_time": "2022-05-25T15:20:22.925Z"
   },
   {
    "duration": 445,
    "start_time": "2022-05-25T15:20:22.937Z"
   },
   {
    "duration": 6,
    "start_time": "2022-05-25T15:20:23.385Z"
   },
   {
    "duration": 350,
    "start_time": "2022-05-25T15:20:23.393Z"
   },
   {
    "duration": 10,
    "start_time": "2022-05-25T15:20:23.745Z"
   },
   {
    "duration": 173,
    "start_time": "2022-05-25T15:20:23.757Z"
   },
   {
    "duration": 179,
    "start_time": "2022-05-25T15:20:23.933Z"
   },
   {
    "duration": 209,
    "start_time": "2022-05-25T15:20:24.114Z"
   },
   {
    "duration": 38,
    "start_time": "2022-05-25T15:20:24.325Z"
   },
   {
    "duration": 172,
    "start_time": "2022-05-25T15:20:24.364Z"
   },
   {
    "duration": 14,
    "start_time": "2022-05-25T15:20:24.539Z"
   },
   {
    "duration": 34,
    "start_time": "2022-05-25T15:20:24.555Z"
   },
   {
    "duration": 29,
    "start_time": "2022-05-25T15:20:24.591Z"
   },
   {
    "duration": 42,
    "start_time": "2022-05-25T15:20:24.622Z"
   },
   {
    "duration": 173,
    "start_time": "2022-05-25T15:20:24.666Z"
   },
   {
    "duration": 45,
    "start_time": "2022-05-25T15:20:24.841Z"
   },
   {
    "duration": 9,
    "start_time": "2022-05-25T15:20:24.887Z"
   },
   {
    "duration": 184,
    "start_time": "2022-05-25T15:20:24.897Z"
   },
   {
    "duration": 11,
    "start_time": "2022-05-25T15:20:25.083Z"
   },
   {
    "duration": 253,
    "start_time": "2022-05-25T15:20:25.096Z"
   },
   {
    "duration": 15,
    "start_time": "2022-05-25T15:20:25.353Z"
   },
   {
    "duration": 247,
    "start_time": "2022-05-25T15:20:25.373Z"
   },
   {
    "duration": 11,
    "start_time": "2022-05-25T15:20:25.622Z"
   },
   {
    "duration": 187,
    "start_time": "2022-05-25T15:20:25.635Z"
   },
   {
    "duration": 282,
    "start_time": "2022-05-25T15:20:25.824Z"
   },
   {
    "duration": 7,
    "start_time": "2022-05-25T15:20:26.108Z"
   },
   {
    "duration": 292,
    "start_time": "2022-05-25T15:20:26.121Z"
   },
   {
    "duration": 281,
    "start_time": "2022-05-25T15:20:26.415Z"
   },
   {
    "duration": 6,
    "start_time": "2022-05-25T15:20:26.698Z"
   },
   {
    "duration": 478,
    "start_time": "2022-05-25T15:20:26.706Z"
   }
  ],
  "kernelspec": {
   "display_name": "Python 3 (ipykernel)",
   "language": "python",
   "name": "python3"
  },
  "language_info": {
   "codemirror_mode": {
    "name": "ipython",
    "version": 3
   },
   "file_extension": ".py",
   "mimetype": "text/x-python",
   "name": "python",
   "nbconvert_exporter": "python",
   "pygments_lexer": "ipython3",
   "version": "3.9.7"
  },
  "toc": {
   "base_numbering": 1,
   "nav_menu": {},
   "number_sections": true,
   "sideBar": true,
   "skip_h1_title": true,
   "title_cell": "Содержание",
   "title_sidebar": "Contents",
   "toc_cell": true,
   "toc_position": {
    "height": "calc(100% - 180px)",
    "left": "10px",
    "top": "150px",
    "width": "195.391px"
   },
   "toc_section_display": true,
   "toc_window_display": false
  }
 },
 "nbformat": 4,
 "nbformat_minor": 4
}
